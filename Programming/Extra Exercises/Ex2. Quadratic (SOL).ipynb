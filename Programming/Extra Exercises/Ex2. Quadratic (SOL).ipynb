{
 "cells": [
  {
   "cell_type": "markdown",
   "metadata": {},
   "source": [
    "# Solving a quadratic equation\n",
    "\n",
    "If we have an equation in the form **a**x<sup>2</sup> + **b**x + **c** = 0, to solve **x** the following formula is applied:\n",
    "<img src=\"https://cdn.kastatic.org/googleusercontent/nI2riiPBcl9hZ22KKdYZGFmsVNhcKLiuwPly9l1tU5BMaqcOs9bfPKRyoGAFgK-PNpc-c7x_tNuskGdzawvy_Pza\" />\n",
    "\n",
    "In Python, recall that multiplication is done with an asterisk \\* while power is indicated by two \\*\\*. For example, 2\\*3 is 6 y 2\\*\\*3 is 8.\n",
    "\n",
    "The square root can be calculated using the function `sqrt`. In order to use that function, you need to import a package of mathematical functions (*cmath*) that contains, among other functions, the **sqrt** function. This is done using the code:  \n",
    "`import cmath`\n",
    "To use the square root function just use:  \n",
    "`cmath.sqrt(param)`\n",
    "where *param* will be the value of which we want to calculate the square root. For example, `cmath.sqrt(4)` will equal 2.\n",
    "\n",
    "We use `cmath` instead of `math` because we need to work with complex numbers.\n",
    "\n",
    "To ask a user to enter data, the `input()` function is used. This function admits as a parameter a text that will be shown to the user as an aid to request the input data. For example,  \n",
    "`text = input(\"Introduce un texto: \")`\n",
    "\n",
    "If we want the entered text to be treated as an integer in order to perform mathematical operations, we must convert it using the `int()` function. This is also called **casting**. For example,  \n",
    "`number = int(input(\"Introduce un número: \")`  \n",
    "\n",
    "If we want the entered number to have decimals, the conversion must be done using the `float()` function. For example,  \n",
    "`floating_number = float(input(\"Introduce un número decimal: \")`\n",
    "\n",
    "In Python, recall that loops can be performed using the `while` keyword. The code inside the *while* will loop as long as the specified condition is met. For example, the following code will ask for a number and print a text repeatedly as long as the number entered is other than 0.  \n",
    "`a = int(input())\n",
    "while a != 0:\n",
    "    print(\"hey, el número es\", a)\n",
    "    a = int(input())`\n",
    "    "
   ]
  },
  {
   "cell_type": "markdown",
   "metadata": {},
   "source": [
    "So far, with all the previous explanation, **develop the following program**:\n",
    "\n",
    "A program to calculate the solution to a quadratic equation like ax<sup>2</sup> + bx + c = 0. It will ask the user for the values of a, b and c, calculate x (possibly have 2 solutions) and print the result on the screen. It will repeat the process of asking for values and calculating x until the user enters a value **0** for the variable **a**."
   ]
  },
  {
   "cell_type": "markdown",
   "source": [
    "The following flow chart diagram illustrates the algorithm used to calculate the quadratic roots:\n",
    "\n",
    "![Quadratic roots](https://github.com/ffraile/computer_science_tutorials/blob/main/Programming/Extra%20Exercises/img/quadratic.png?raw=true)\n",
    "\n"
   ],
   "metadata": {
    "collapsed": false,
    "pycharm": {
     "name": "#%% md\n"
    }
   }
  },
  {
   "cell_type": "code",
   "execution_count": 1,
   "metadata": {},
   "outputs": [
    {
     "name": "stdin",
     "output_type": "stream",
     "text": [
      "a:  2\n",
      "b:  4\n",
      "c:  6\n"
     ]
    },
    {
     "name": "stdout",
     "output_type": "stream",
     "text": [
      "The solutions are (-1-1.4142135623730951j) and (-1+1.4142135623730951j)\n"
     ]
    },
    {
     "name": "stdin",
     "output_type": "stream",
     "text": [
      "a:  0\n",
      "b:  2\n",
      "c:  5\n"
     ]
    }
   ],
   "source": [
    "import cmath\n",
    "\n",
    "a = int(input(\"a: \"))\n",
    "b = int(input(\"b: \"))\n",
    "c = int(input(\"c: \"))\n",
    "\n",
    "while a != 0:\n",
    "    # calculate the discriminant\n",
    "    d = (b**2) - (4*a*c)\n",
    "    # find two solutions\n",
    "    sol1 = (-b-cmath.sqrt(d))/(2*a)\n",
    "    sol2 = (-b+cmath.sqrt(d))/(2*a)\n",
    "    print('The solutions are {0} and {1}'.format(sol1,sol2))\n",
    "    \n",
    "    a = int(input(\"a: \"))\n",
    "    b = int(input(\"b: \"))\n",
    "    c = int(input(\"c: \"))"
   ]
  },
  {
   "cell_type": "code",
   "execution_count": null,
   "metadata": {},
   "outputs": [],
   "source": []
  }
 ],
 "metadata": {
  "kernelspec": {
   "display_name": "Python 3",
   "language": "python",
   "name": "python3"
  },
  "language_info": {
   "codemirror_mode": {
    "name": "ipython",
    "version": 3
   },
   "file_extension": ".py",
   "mimetype": "text/x-python",
   "name": "python",
   "nbconvert_exporter": "python",
   "pygments_lexer": "ipython3",
   "version": "3.8.4"
  },
  "pycharm": {
   "stem_cell": {
    "cell_type": "raw",
    "source": [],
    "metadata": {
     "collapsed": false
    }
   }
  }
 },
 "nbformat": 4,
 "nbformat_minor": 4
}