{
 "cells": [
  {
   "cell_type": "markdown",
   "metadata": {},
   "source": [
    "# Calculate the grade average of the class\n",
    "\n",
    "We have a text file with the marks of the class students. Each row contains information for a different student. Each row has the following information:\n",
    "`identifier,username,note`\n",
    "each field separated by a comma (CSV). Fields cannot have commas internally, because it would be considered a field separation.\n",
    "\n",
    "For example,  \n",
    "`1,frasalca,6.5\n",
    "2,romelco,9.1\n",
    "3,beaguma,7.4\n",
    "4,pacosa,8.6` \n",
    "\n",
    "To create a text file, press the **+** button and select *Text file*. Write the content and save it with a name, for example, *marks.csv*.\n",
    "\n",
    "In Python, in order to read a file it is necessary to open it first (and when we finish, it have to be closed). You can use:\n",
    "`f = open(\"marks.csv\")\n",
    "f.close()`  \n",
    "\n",
    "Once the file is opened with the `open()` function and before closing it, it can be read line by line with the `f.readline()` function. For example,\n",
    "`line = f.readline()`  \n",
    "\n",
    "If the `line` variable is not empty, it means that we have not reached the end of the file yet. Therefore, to iterate through the lines of the file we can use `while`. You cannot forget to *reread* the next line of the file inside the loop so as not to generate an infinite loop. For example,\n",
    "`line = f.readline()\n",
    "while line:\n",
    "    print(line)\n",
    "    line = f.readline()`\n",
    "    \n",
    "This code will read line by line from the file and print it on the screen. When there are no more lines left, the loop will end because the `while line:` condition will be false.\n",
    "\n",
    "Once you have the line of text, you can separate each of the columns and obtain an array using the `split()` function. You have to pass the separator as a parameter of the function. For example,\n",
    "`text = \"1,frasalca,6.5\"\n",
    "list = text.split()`\n",
    "\n",
    "This code will make the variable *list* have an array with the values: `[\"1\",\"frasalca\",\"6.5\"]`. Accessing the mark can be done with `list[2]`. If you want to use any of these values as an integer or decimal number, you have to convert them with the `int()` ord `float()` functions respectively.\n",
    "\n",
    "So far, with all the previous explanation, **develop the following program**:\n",
    "\n",
    "A program that reads a text file with the students' data (identifier, user name, grade) on each line, calculates the average among all the students' grades and prints it on the screen. It must also print on screen for each student whether they have passed or not (print student name and *PASS* or *NOT PASS*). Students need a grade of 5 or more to pass.\n",
    "\n",
    "In order to be used by your program, a file *marks.csv* must first be generated with the information of at least 5 students (made-up)."
   ]
  },
  {
   "cell_type": "markdown",
   "source": [
    "The following flow chart diagram illustrates the algorithm used to calculate the average grade:\n",
    "\n",
    "![student marks](https://github.com/ffraile/computer_science_tutorials/blob/main/Programming/Extra%20Exercises/img/student_marks.png?raw=true)\n",
    "\n"
   ],
   "metadata": {
    "collapsed": false,
    "pycharm": {
     "name": "#%% md\n"
    }
   }
  },
  {
   "cell_type": "code",
   "execution_count": 7,
   "metadata": {},
   "outputs": [
    {
     "name": "stdout",
     "output_type": "stream",
     "text": [
      "frasalca: PASSED\n",
      "romelco: PASSED\n",
      "beaguma: PASSED\n",
      "pacosa: PASSED\n",
      "raumomo: NOT PASSED\n",
      "lapasa: NOT PASSED\n",
      "vicoca: PASSED\n",
      "Average grade: 7.114285714285714\n"
     ]
    }
   ],
   "source": [
    "f = open(\"marks.csv\")\n",
    "total = 0\n",
    "count = 0\n",
    "line = f.readline()\n",
    "while line:\n",
    "    cols = line.split(\",\")\n",
    "    name = cols[1]\n",
    "    mark = float(cols[2])\n",
    "    if mark >= 5:\n",
    "        status = \"PASSED\"\n",
    "    else:\n",
    "        status = \"NOT PASSED\"\n",
    "    print(f\"{name}: {status}\")\n",
    "    total = total + mark\n",
    "    count = count + 1\n",
    "    line = f.readline()\n",
    "f.close()\n",
    "\n",
    "average = total/count\n",
    "print(f\"Average grade: {average}\")"
   ]
  },
  {
   "cell_type": "code",
   "execution_count": 10,
   "metadata": {},
   "outputs": [
    {
     "name": "stdout",
     "output_type": "stream",
     "text": [
      "frasalca: PASSED\n",
      "romelco: PASSED\n",
      "beaguma: PASSED\n",
      "pacosa: PASSED\n",
      "raumomo: NOT PASSED\n",
      "lapasa: NOT PASSED\n",
      "vicoca: PASSED\n",
      "Average grade: 7.11\n"
     ]
    }
   ],
   "source": [
    "with open(\"marks.csv\") as f:\n",
    "    total = 0\n",
    "    count = 0\n",
    "    line = f.readline()\n",
    "    while line:\n",
    "        cols = line.split(\",\")\n",
    "        status = \"PASSED\" if float(cols[2]) >= 5 else \"NOT PASSED\"\n",
    "        print(f\"{cols[1]}: {status}\")        \n",
    "        total = total + float(cols[2])\n",
    "        count += 1\n",
    "        line = f.readline()\n",
    "\n",
    "    average = total / count\n",
    "    print(f\"Average grade: {average:.2f}\")"
   ]
  },
  {
   "cell_type": "code",
   "execution_count": null,
   "metadata": {},
   "outputs": [],
   "source": []
  }
 ],
 "metadata": {
  "kernelspec": {
   "display_name": "Python 3",
   "language": "python",
   "name": "python3"
  },
  "language_info": {
   "codemirror_mode": {
    "name": "ipython",
    "version": 3
   },
   "file_extension": ".py",
   "mimetype": "text/x-python",
   "name": "python",
   "nbconvert_exporter": "python",
   "pygments_lexer": "ipython3",
   "version": "3.8.4"
  },
  "pycharm": {
   "stem_cell": {
    "cell_type": "raw",
    "source": [],
    "metadata": {
     "collapsed": false
    }
   }
  }
 },
 "nbformat": 4,
 "nbformat_minor": 4
}