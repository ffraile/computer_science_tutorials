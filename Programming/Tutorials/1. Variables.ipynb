{
 "cells": [
  {
   "cell_type": "markdown",
   "source": [
    "{{ badge }}\n",
    "# Hello, Python!"
   ],
   "metadata": {}
  },
  {
   "cell_type": "code",
   "execution_count": 18,
   "source": [
    "print(\"Hello world\")"
   ],
   "outputs": [
    {
     "output_type": "stream",
     "name": "stdout",
     "text": [
      "Hello world\n"
     ]
    }
   ],
   "metadata": {}
  },
  {
   "cell_type": "markdown",
   "source": [
    "Also, you need to get familiar with comments. Comments are used to explain parts of code using `#`"
   ],
   "metadata": {}
  },
  {
   "cell_type": "code",
   "execution_count": 11,
   "source": [
    "# This is a comment\r\n",
    "\r\n",
    "a = 1  # Here another comment"
   ],
   "outputs": [],
   "metadata": {}
  },
  {
   "cell_type": "markdown",
   "source": [
    "Some important functions that we will use to describe variables are: \r\n",
    "\r\n",
    "- **type:** The function ```type``` returns the type of a variable\r\n",
    "- **id:** The function ```id``` returns the memory address of a variable\r\n",
    "\r\n",
    "Additionally, the operator ```is``` returns true if two variables share the same memory address"
   ],
   "metadata": {}
  },
  {
   "cell_type": "markdown",
   "source": [
    "## Variables and memory address\r\n",
    "In Python, we define a variable and assign a value using the '=' operator:\r\n"
   ],
   "metadata": {}
  },
  {
   "cell_type": "code",
   "execution_count": 1,
   "source": [
    "my_first_variable = 15\r\n",
    "print(\"The value of my first variable is:\")\r\n",
    "print(my_first_variable)\r\n",
    "print(\"Its memory address is:\")\r\n",
    "print(id(my_first_variable))"
   ],
   "outputs": [
    {
     "output_type": "stream",
     "name": "stdout",
     "text": [
      "The value of my first variable is:\n",
      "15\n",
      "Its memory address is:\n",
      "43280152\n"
     ]
    }
   ],
   "metadata": {}
  },
  {
   "cell_type": "markdown",
   "source": [
    "If we assign one variable as the value of another variable, they will both have the same value and the same memory address:"
   ],
   "metadata": {}
  },
  {
   "cell_type": "code",
   "execution_count": 6,
   "source": [
    "my_first_variable = 23\r\n",
    "my_second_variable = my_first_variable\r\n",
    "\r\n",
    "print(\"The value of my first variable is:\")\r\n",
    "print(my_first_variable)\r\n",
    "print(\"Its memory address is:\")\r\n",
    "print(id(my_first_variable))\r\n",
    "\r\n",
    "print(\"An the value of my second variable is:\")\r\n",
    "print(my_second_variable)\r\n",
    "print(\"Its memory address is:\")\r\n",
    "print(id(my_second_variable))\r\n",
    "\r\n",
    "print(\"Do both variables share the same memory address?\")\r\n",
    "print(my_first_variable is my_second_variable)"
   ],
   "outputs": [
    {
     "output_type": "stream",
     "name": "stdout",
     "text": [
      "The value of my first variable is:\n",
      "23\n",
      "Its memory address is:\n",
      "43279960\n",
      "An the value of my second variable is:\n",
      "23\n",
      "Its memory address is:\n",
      "43279960\n",
      "Do both variables share the same memory address?\n",
      "True\n",
      "46\n"
     ]
    }
   ],
   "metadata": {}
  },
  {
   "cell_type": "markdown",
   "source": [
    "We do not have the same behavior when we assign two variables the same value:"
   ],
   "metadata": {}
  },
  {
   "cell_type": "code",
   "execution_count": 5,
   "source": [
    "my_first_variable = 1000\r\n",
    "my_second_variable = 1000\r\n",
    "\r\n",
    "print(\"The value of my first variable is:\")\r\n",
    "print(my_first_variable)\r\n",
    "print(\"Its memory address is:\")\r\n",
    "print(id(my_first_variable))\r\n",
    "\r\n",
    "print(\"An the value of my second variable is:\")\r\n",
    "print(my_second_variable)\r\n",
    "print(\"Its memory address is:\")\r\n",
    "print(id(my_second_variable))\r\n",
    "\r\n",
    "print(\"Do both variables share the same memory address?\")\r\n",
    "print(my_first_variable is my_second_variable)"
   ],
   "outputs": [
    {
     "output_type": "stream",
     "name": "stdout",
     "text": [
      "The value of my first variable is:\n",
      "1000\n",
      "Its memory address is:\n",
      "75861920\n",
      "An the value of my second variable is:\n",
      "1000\n",
      "Its memory address is:\n",
      "75864176\n",
      "Do both variables share the same memory address?\n",
      "False\n"
     ]
    }
   ],
   "metadata": {}
  },
  {
   "cell_type": "code",
   "execution_count": 19,
   "source": [
    "x = object()\r\n",
    "print(sys.getrefcount(x))\r\n",
    "y = x\r\n",
    "print(sys.getrefcount(x))"
   ],
   "outputs": [
    {
     "output_type": "stream",
     "name": "stdout",
     "text": [
      "2\n",
      "3\n"
     ]
    }
   ],
   "metadata": {}
  },
  {
   "cell_type": "markdown",
   "source": [
    "Note that the result of getrefcount is always one higher than expected because the function creates internally another reference. Note also that we did not assign an initial value to ```x```, but instead, we initialise it with the function ```object```. This is because when we assign a value, Python internally creates another object for that value, and all the variables that are assigned the value reference the same memory address, so if you use a specific value, there is a chance that the reference count is higher than expected. Try the code snippet above with a numeric value to verify this. "
   ],
   "metadata": {}
  },
  {
   "cell_type": "markdown",
   "source": [
    "In Python, most primitive types are **immutable**. This means that whenever we make changes to a variable, Python does not actually changes the value store in the memory address, it creates a new [base structure](https://docs.python.org/3/c-api/structures.html) at another memory address and assigns the new value:"
   ],
   "metadata": {}
  },
  {
   "cell_type": "code",
   "execution_count": 2,
   "source": [
    "another_variable = 27\r\n",
    "print(\"the memory address of another variable is:\")\r\n",
    "print(id(another_variable))\r\n",
    "another_variable = another_variable + 1\r\n",
    "print(\"the memory address of another variable now is:\")\r\n",
    "print(id(another_variable))"
   ],
   "outputs": [
    {
     "output_type": "stream",
     "name": "stdout",
     "text": [
      "the memory address of another variable is:\n",
      "43279864\n",
      "the memory address of another variable is:\n",
      "43279840\n"
     ]
    }
   ],
   "metadata": {}
  },
  {
   "cell_type": "markdown",
   "source": [
    "A process called [garbage collector](https://devguide.python.org/garbage_collector/) keeps track of the references to memory addresses and makes sure that unused memory (memory addresses to which no active variable is pointing) can be used again by any other process. It is important to bear in mind that although this process is transparent for developers, the performance of our code is going to depend on the way we manage variable assignments!"
   ],
   "metadata": {}
  },
  {
   "cell_type": "markdown",
   "source": [
    "## Variables and Types\r\n",
    "\r\n",
    "### Numeric types\r\n",
    "\r\n",
    "There are three basic numeric types in Python: \r\n",
    "- **Integer (int)**: Integer numbers, i.e. numbers with no decimal part\r\n",
    "- **Float (float)**: Numbers with fractional part\r\n",
    "- **Complex (complex)**: Numbers with real and imaginary part\r\n",
    "\r\n",
    "The type of the variable is implicitly obtained from the assignment:"
   ],
   "metadata": {}
  },
  {
   "cell_type": "code",
   "execution_count": 20,
   "source": [
    "# Integer variable\r\n",
    "integer_var = 5\r\n",
    "print(\"The value of integer_var is:\")\r\n",
    "print(integer_var)\r\n",
    "print(\"The type of integer_var is:\")\r\n",
    "print(type(integer_var))\r\n",
    "\r\n",
    "# Real variable\r\n",
    "float_var = 5.2\r\n",
    "print(\"The value of float_var is:\")\r\n",
    "print(float_var)\r\n",
    "print(\"The type of float_var is:\")\r\n",
    "print(type(float_var))\r\n",
    "\r\n",
    "#Commplex variable\r\n",
    "complex_var = 1.5+2.6j\r\n",
    "print(\"The value of complex_var is:\")\r\n",
    "print(complex_var)\r\n",
    "print(\"The type of complex_var is:\")\r\n",
    "print(type(complex_var))\r\n",
    "\r\n"
   ],
   "outputs": [
    {
     "output_type": "stream",
     "name": "stdout",
     "text": [
      "The value of integer_var is:\n",
      "5\n",
      "The type of integer_var is:\n",
      "<type 'int'>\n",
      "The value of float_var is:\n",
      "5.2\n",
      "The type of float_var is:\n",
      "<type 'float'>\n",
      "The value of complex_var is:\n",
      "(1.5+2.6j)\n",
      "The type of complex_var is:\n",
      "<type 'complex'>\n"
     ]
    }
   ],
   "metadata": {}
  },
  {
   "cell_type": "markdown",
   "source": [],
   "metadata": {}
  },
  {
   "cell_type": "markdown",
   "source": [
    "There are functions to define the type of a variable explictly:"
   ],
   "metadata": {}
  },
  {
   "cell_type": "code",
   "execution_count": 21,
   "source": [
    "# float() creates a float variable from a number or string, if possible\r\n",
    "float_var_2 = float(3)\r\n",
    "print(float_var_2)\r\n",
    "print(type(float_var_2))\r\n",
    "\r\n",
    "# complex() creates a complex number from real and imaginary floating numbers:\r\n",
    "complex_var_2 = complex(5, 2.5)\r\n",
    "print(complex_var_2)\r\n",
    "print(type(complex_var_2))"
   ],
   "outputs": [
    {
     "output_type": "stream",
     "name": "stdout",
     "text": [
      "3.0\n",
      "<type 'float'>\n",
      "(5+2.5j)\n",
      "<type 'complex'>\n"
     ]
    }
   ],
   "metadata": {}
  },
  {
   "cell_type": "markdown",
   "source": [
    "The numeric built-in types provide some interesting built-in methods and attributes:"
   ],
   "metadata": {}
  },
  {
   "cell_type": "code",
   "execution_count": 26,
   "source": [
    "float_var_3 = 1.5\r\n",
    "\r\n",
    "# as_integer_ratio() provides a pair of positive numbers whose ratio is equal to original float number \r\n",
    "\r\n",
    "print(float_var_3.as_integer_ratio())\r\n",
    "\r\n",
    "complex_var_3 = 2.5 + 5j\r\n",
    "\r\n",
    "# conjugate() returns the complex conjugate of the original complex number\r\n",
    "print(complex_var_3.conjugate())\r\n",
    "\r\n",
    "# imag returns the imaginary part of the original complex number\r\n",
    "print(complex_var_3.imag)\r\n",
    "\r\n",
    "# real returns the real imaginary part of the original complex number\r\n",
    "print(complex_var_3.real)"
   ],
   "outputs": [
    {
     "output_type": "stream",
     "name": "stdout",
     "text": [
      "(3, 2)\n",
      "(2.5-5j)\n",
      "5.0\n",
      "2.5\n"
     ]
    }
   ],
   "metadata": {}
  },
  {
   "cell_type": "markdown",
   "source": [
    "Text\n",
    "---\n",
    "\n",
    "Text is stored in variables of type `string`. They can be enclosed in single quotes `('...')` or double quotes `(\"...\")`."
   ],
   "metadata": {}
  },
  {
   "cell_type": "code",
   "execution_count": 6,
   "source": [
    "s = 'one string'\r\n",
    "print(s)\r\n",
    "s = \"another string\"\r\n",
    "print(s)\r\n",
    "s = \"Don't worry about quotes\"\r\n",
    "print(s)"
   ],
   "outputs": [
    {
     "output_type": "stream",
     "name": "stdout",
     "text": [
      "one string\n",
      "another string\n",
      "Don't worry about quotes\n"
     ]
    }
   ],
   "metadata": {}
  },
  {
   "cell_type": "markdown",
   "source": [
    "Special characters can be escaped with `\\`.\n",
    "\n",
    "**\\n** - new line  \n",
    "**\\t** - tab space  "
   ],
   "metadata": {}
  },
  {
   "cell_type": "code",
   "execution_count": 9,
   "source": [
    "s = \"line with special\\n characters and \\t more \\\"special\\\" characters\"\r\n",
    "print(s)"
   ],
   "outputs": [
    {
     "output_type": "stream",
     "name": "stdout",
     "text": [
      "line with special\n",
      " characters and \t more \"special\" characters\n"
     ]
    }
   ],
   "metadata": {}
  },
  {
   "cell_type": "markdown",
   "source": [
    "The function str() can be used to create string variables. It takes any numeric value as parameter, so it can be used to convert any value to a string:"
   ],
   "metadata": {}
  },
  {
   "cell_type": "code",
   "execution_count": 28,
   "source": [
    "complex_var = 2.5 + 5j\r\n",
    "compex_var_str = str(complex_var_3)\r\n",
    "print(compex_var_str)\r\n",
    "print(type(compex_var_str))\r\n"
   ],
   "outputs": [
    {
     "output_type": "stream",
     "name": "stdout",
     "text": [
      "(2.5+5j)\n",
      "<type 'str'>\n"
     ]
    }
   ],
   "metadata": {}
  },
  {
   "cell_type": "markdown",
   "source": [
    "String variables have many useful built-in methods to manipulate strings. You can read their description in the [docs](https://docs.python.org/3/library/stdtypes.html#str):"
   ],
   "metadata": {}
  },
  {
   "cell_type": "code",
   "execution_count": 32,
   "source": [
    "my_string = \"this is a string\"\r\n",
    "# Capitalize the first character of the string\r\n",
    "print(my_string.capitalize())\r\n",
    "\r\n",
    "# check if the string ends with the specified suffix\r\n",
    "print(my_string.endswith(\"string\")) \r\n",
    "\r\n",
    "# Return a copy of the string with the specified substring replaced\r\n",
    "print(my_string.replace(\"string\", \"str\"))\r\n"
   ],
   "outputs": [
    {
     "output_type": "stream",
     "name": "stdout",
     "text": [
      "This is a string\n",
      "True\n",
      "This is a str\n"
     ]
    }
   ],
   "metadata": {}
  },
  {
   "cell_type": "markdown",
   "source": [
    "The format method is a very useful method to work with template strings. It can take an arbitrary number of input parameters and returns a string with the values of its parameters formatted according to the template [string format](https://docs.python.org/3/library/string.html#formatstrings):"
   ],
   "metadata": {}
  },
  {
   "cell_type": "code",
   "execution_count": 43,
   "source": [
    "# format allows to insert the values of variables in a string using {}\r\n",
    "my_var = 1\r\n",
    "my_second_var = 2\r\n",
    "my_third_var = 3\r\n",
    "\r\n",
    "print('my_var is: {}, my_second_var is: {}, my_third_var is: {}'.format(my_var, my_second_var, my_third_var))\r\n",
    "\r\n",
    "# You can access the parameters by position using their index\r\n",
    "\r\n",
    "print('my_var is: {0}, my_second_var is: {1}, my_third_var is: {2}'.format(my_var, my_second_var, my_third_var))\r\n",
    "\r\n",
    "print(\"my_var is {1}, and my_second_var is {0}\".format(my_second_var, my_var))\r\n",
    "\r\n",
    "# You can also use names for the parameters:\r\n",
    "\r\n",
    "print(\"my_var is {first}, and my_second_var is {latest}\".format(first=my_second_var, latest=my_var))\r\n",
    "\r\n",
    "# format also supports different number formats (:d) decimal, :x hexadeximal, :o octal, :b binary:\r\n",
    "\"int: {0:d};  hex: {0:x};  oct: {0:o};  bin: {0:b}\".format(42)\r\n",
    "\r\n",
    "# float numbers use the :f format. You can specify the number of decimals to show:\r\n",
    "\"one decimal: {0:.1f}, three decimals: {0:.3f}\".format(3.141516)\r\n",
    "\r\n",
    "# You can also represent percentages with format:\r\n",
    "\r\n",
    "\"The ratio is {0:.2%}\".format(6.0/7.0)\r\n",
    "\r\n",
    "# You can access the attributes of parameters:\r\n",
    "\r\n",
    "\"The imaginary part is {0.imag:.2}\".format(2.135-2.167j)"
   ],
   "outputs": [
    {
     "output_type": "stream",
     "name": "stdout",
     "text": [
      "my_var is: 1, my_second_var is: 2, my_third_var is: 3\n",
      "my_var is: 1, my_second_var is: 2, my_third_var is: 3\n",
      "my_var is 1, and my_second_var is 2\n",
      "my_var is 2, and my_second_var is 1\n"
     ]
    },
    {
     "output_type": "execute_result",
     "data": {
      "text/plain": [
       "'The conjugate is -2.2'"
      ]
     },
     "metadata": {},
     "execution_count": 43
    }
   ],
   "metadata": {}
  },
  {
   "cell_type": "markdown",
   "source": [
    "Boolean\n",
    "---\n",
    "\n",
    "Defines if something is `True` or `False`."
   ],
   "metadata": {}
  },
  {
   "cell_type": "code",
   "execution_count": 17,
   "source": [
    "right = True\r\n",
    "print(right)\r\n",
    "\r\n",
    "wrong = False\r\n",
    "print(wrong)"
   ],
   "outputs": [
    {
     "output_type": "stream",
     "name": "stdout",
     "text": [
      "True\n",
      "False\n"
     ]
    }
   ],
   "metadata": {}
  },
  {
   "cell_type": "markdown",
   "source": [
    "None type\r\n",
    "---\r\n",
    "\r\n",
    "None is a speciall variabl which is totally void, null or empty:"
   ],
   "metadata": {}
  },
  {
   "cell_type": "code",
   "execution_count": 19,
   "source": [
    "var = None\r\n",
    "\r\n",
    "print(var)"
   ],
   "outputs": [
    {
     "output_type": "stream",
     "name": "stdout",
     "text": [
      "None\n"
     ]
    }
   ],
   "metadata": {}
  },
  {
   "cell_type": "markdown",
   "source": [
    "## Extra tips\r\n",
    "\r\n",
    "We can define more than one variable in a single statement:\r\n"
   ],
   "metadata": {}
  },
  {
   "cell_type": "code",
   "execution_count": 13,
   "source": [
    "x, y = 50, 100\r\n",
    "print(x, y)"
   ],
   "outputs": [
    {
     "output_type": "stream",
     "name": "stdout",
     "text": [
      "50 100\n"
     ]
    }
   ],
   "metadata": {}
  },
  {
   "cell_type": "markdown",
   "source": [
    "Also, Python implements a **ternary** operator that allows to assign the value of the variable depending on a condition:"
   ],
   "metadata": {}
  },
  {
   "cell_type": "code",
   "execution_count": 27,
   "source": [
    "turn_right = True\r\n",
    "next_turn = \"right\" if turn_right else \"left\"\r\n",
    "print(next_turn)"
   ],
   "outputs": [
    {
     "output_type": "stream",
     "name": "stdout",
     "text": [
      "right\n"
     ]
    }
   ],
   "metadata": {}
  }
 ],
 "metadata": {
  "kernelspec": {
   "name": "python3",
   "display_name": "Python 2.7.15 64-bit (system)"
  },
  "language_info": {
   "mimetype": "text/x-python",
   "nbconvert_exporter": "python",
   "name": "python",
   "pygments_lexer": "ipython2",
   "version": "2.7.15",
   "file_extension": ".py",
   "codemirror_mode": {
    "version": 2,
    "name": "ipython"
   }
  },
  "pycharm": {
   "stem_cell": {
    "cell_type": "raw",
    "source": [],
    "metadata": {
     "collapsed": false
    }
   }
  },
  "interpreter": {
   "hash": "3addd268b25661c1802571d40421a498472f412d745e7161ee2cc01d8b4a0718"
  }
 },
 "nbformat": 4,
 "nbformat_minor": 4
}