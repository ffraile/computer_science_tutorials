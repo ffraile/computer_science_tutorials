{
 "cells": [
  {
   "cell_type": "markdown",
   "metadata": {
    "id": "d2vlc0W-ikD_",
    "pycharm": {
     "name": "#%% md\n"
    }
   },
   "source": [
    "# Práctica 2. Sistemas de Ecuaciones Diferenciales\n",
    "\n",
    "## 1. Resolución analítica\n",
    "\n",
    "\n",
    "En la práctica anterior, vimos cómo usar el comando `dsolve` (dentro del paquete `sympy`) para resolver ecuaciones diferenciales ordinarias. Cabe recordar que esta instrucción nos devuelve la solución analítica, **cuando esta existe**. Como vemos a continuación, este comando también sirve para resolver sistemas de ecuaciones diferenciales. Consideremos el siguiente sistema, correspondiente al ejercicio 1(g) del Tema 3.\n",
    "\n",
    "\n",
    "$$ \\begin{cases}x'+2+2y'=4x+5y \\\\ 2x'-y'=3x \\end{cases}, \\qquad x(0)=1, y(0)=-1. $$"
   ]
  },
  {
   "cell_type": "code",
   "execution_count": null,
   "metadata": {
    "id": "nJAfwYURikEA",
    "pycharm": {
     "name": "#%%\n"
    }
   },
   "outputs": [],
   "source": [
    "import sympy as sym   # por comodidad, llamaremos al paquete sympy como 'sym'\n",
    "\n",
    "t=sym.symbols('t'); \n",
    "x=sym.symbols('x' , cls = sym.Function)\n",
    "y=sym.symbols('y' , cls = sym.Function)\n",
    "\n",
    "# introducimos las ecuaciones entre corchetes y separadas por comas\n",
    "# las introducimos pasándolo todo al lado izquierdo, como si estuviesen igualadas a cero\n",
    "# después las funciones-incógnitas (aunque se pueden omitir, pues normalmente Python las detecta automáticamente)\n",
    "# las condiciones iniciales se introducen a través de \"ics\", entre llaves, y con dos puntos (es decir, no ponemos x(0)=1)\n",
    "\n",
    "sol = sym.dsolve([x(t).diff(t)+2+2*y(t).diff(t)-4*x(t)-5*y(t), 2*x(t).diff(t)-y(t).diff(t)-3*x(t)], \n",
    "             [x(t), y(t)],\n",
    "             ics={x(0):1, y(0):-1})"
   ]
  },
  {
   "cell_type": "markdown",
   "metadata": {
    "id": "aw1J_K9QikEF",
    "pycharm": {
     "name": "#%% md\n"
    }
   },
   "source": [
    "Python nos devuelve un vector con dos componentes. Podemos acceder a ellas, de una manera más elegante, a través del comando `display`."
   ]
  },
  {
   "cell_type": "code",
   "execution_count": null,
   "metadata": {
    "colab": {
     "base_uri": "https://localhost:8080/",
     "height": 91
    },
    "id": "mCrr9u92ikEG",
    "outputId": "8446b34d-3a6c-4225-d484-facccab03162",
    "pycharm": {
     "name": "#%%\n"
    }
   },
   "outputs": [],
   "source": [
    "display(sol[0])\n",
    "display(sol[1])"
   ]
  },
  {
   "cell_type": "markdown",
   "metadata": {
    "id": "rDWZOYN3ikEH",
    "pycharm": {
     "name": "#%% md\n"
    }
   },
   "source": [
    "También podemos sustituir las soluciones en cierto valor a través de la instrucción `.subs()`."
   ]
  },
  {
   "cell_type": "code",
   "execution_count": null,
   "metadata": {
    "colab": {
     "base_uri": "https://localhost:8080/",
     "height": 39
    },
    "id": "TMQ56e7JikEH",
    "outputId": "735a2a89-1e24-4519-ebe2-cdc9bbe62f13",
    "pycharm": {
     "name": "#%%\n"
    }
   },
   "outputs": [],
   "source": [
    "sol[0].subs(t, 0)"
   ]
  },
  {
   "cell_type": "code",
   "execution_count": null,
   "metadata": {
    "colab": {
     "base_uri": "https://localhost:8080/",
     "height": 39
    },
    "id": "qmHCA35DikEH",
    "outputId": "213adae9-a43c-4222-d6f1-edc605a92d6b",
    "pycharm": {
     "name": "#%%\n"
    }
   },
   "outputs": [],
   "source": [
    "sol[1].subs(t, 0)"
   ]
  },
  {
   "cell_type": "markdown",
   "metadata": {
    "id": "f2jnNDzHikEI",
    "pycharm": {
     "name": "#%% md\n"
    }
   },
   "source": [
    "## 2. Resolución numérica \n",
    "\n",
    "\n",
    "Existen sistemas de ecuaciones diferenciales que no admiten soluciones analíticas, como el siguiente. \n",
    "\n",
    "\n",
    "$$ \\begin{cases} x'=1-y \\\\ y'=x^2-y^2  \\end{cases}$$\n",
    "\n",
    "\n",
    "En tales casos, existen **métodos numéricos** para aproximar las soluciones. En esta práctica, utilizaremos la instrucción `odeint` del paquete `scipy.integrate`. No profundizaremos en esta práctica sobre el método de aproximación numérica que utiliza dicho comando, ni sobre otros métodos numéricos existentes. Para ejecutar dicha instrucción, deberemos introducir:\n",
    "- Una función que describa el sistema de ecuaciones diferenciales.\n",
    "- Un corchete con las condiciones iniciales.\n",
    "- Una sucesión de tiempos (creciente) en los cuales se calculará la solución.\n",
    "- Solo si es necesario, un vector de parámetros, en forma de tupla. \n",
    "\n",
    "Trabajemos, por ejemplo, con las condiciones iniciales $x(0)=-1.5$ e $y(0)=0.5$, y con cien puntos equiespaciados en el intervalo $[0,3]$."
   ]
  },
  {
   "cell_type": "code",
   "execution_count": null,
   "metadata": {
    "colab": {
     "base_uri": "https://localhost:8080/"
    },
    "id": "30qf1U8biyMr",
    "outputId": "6aadc5d3-2f19-4d74-9861-25b324adec7e",
    "pycharm": {
     "name": "#%%\n"
    }
   },
   "outputs": [],
   "source": [
    "import numpy as np\n",
    "from scipy.integrate import odeint\n",
    "\n",
    "\n",
    "def sistema(variables,t):          # función que nos devuelve las ecuaciones del sistema; en este caso se podría obviar el parámetro t\n",
    "    [x,y] = variables\n",
    "    dxdt = 1-y\n",
    "    dydt = x**2-y**2\n",
    "    return [dxdt,dydt]\n",
    "\n",
    "z0 = [-1.5,0.5]                    # condiciones iniciales (NO introducir como 'array')\n",
    "t = np.linspace(0,3,100)           # vector representando una sucesión de tiempos\n",
    "\n",
    "sol = odeint(sistema,z0,t)         # no hace falta en este caso concreto introducir el vector de parámetros en 'odeint'\n",
    "print(sol[0:3,:])"
   ]
  },
  {
   "cell_type": "markdown",
   "metadata": {
    "id": "9JGMos4UnFjC",
    "pycharm": {
     "name": "#%% md\n"
    }
   },
   "source": [
    "A continuación, realizamos una representación de las soluciones, ambas en función del tiempo. Para ello, debemos primeramente cargar el paquete `matplotlib.pyplot` para poder realizar gráficos en Python. El resto de instrucciones aparecen explicadas en comentarios."
   ]
  },
  {
   "cell_type": "code",
   "execution_count": null,
   "metadata": {
    "colab": {
     "base_uri": "https://localhost:8080/",
     "height": 302
    },
    "id": "K0m5h-qZmtyB",
    "outputId": "1efdb656-dbf4-4d4d-c30d-c792c6ffcba2",
    "pycharm": {
     "name": "#%%\n"
    }
   },
   "outputs": [],
   "source": [
    "import matplotlib.pyplot as plt\n",
    "\n",
    "\n",
    "plt.figure(figsize=(7, 5))                                                 # forzamos que el tamaño de la imagen sea 7x5 pulgadas\n",
    "                                                                           # SIEMPRE debe aparecer lo PRIMERO\n",
    "plt.xlabel(\"tiempo t\", fontsize=15)                                        # nombre del eje OX y tamaño de letra\n",
    "plt.title(\"Gráfica de las soluciones\", fontweight=\"bold\", fontsize=15)     # nombre del gráfico, en negrita, y tamaño de letra\n",
    "plt.plot(t,sol[:,0],'b',label='x(t)')                                      # dibuja x(t), para cada instante t, en azul, y le asociamos el nombre 'x(t)'\n",
    "plt.plot(t,sol[:,1],'r',label='y(t)')                                      # dibuja y(t), para cada instante t, en rojo, y le asociamos el nombre 'y(t)'\n",
    "plt.legend(fontsize=15)                                                    # muestra en el gráfico las leyendas, con los nombres anteriormente mencionados y tamaño 15 de letra\n",
    "plt.show()                                                                 # muestra el gráfico"
   ]
  },
  {
   "cell_type": "markdown",
   "metadata": {
    "id": "1ZQHVdmVo-q6",
    "pycharm": {
     "name": "#%% md\n"
    }
   },
   "source": [
    "Si ahora representamos $y$ en función de $x$, es decir, si obviamos $t$, entonces podemos ver el **diagrama de fase** asociado a esta **condición inicial concreta**."
   ]
  },
  {
   "cell_type": "code",
   "execution_count": null,
   "metadata": {
    "colab": {
     "base_uri": "https://localhost:8080/",
     "height": 302
    },
    "id": "hZ-j2t9SpKcz",
    "outputId": "2773f24d-8c4b-46b8-8f5b-dbbade366c7a",
    "pycharm": {
     "name": "#%%\n"
    }
   },
   "outputs": [],
   "source": [
    "plt.xlabel(\"x(t)\", fontsize=15)     \n",
    "plt.ylabel(\"y(t)\", fontsize=15)                                   \n",
    "plt.title(\"Diagrama de fase para (x(0),y(0))=(-1.5,0.5)\", fontweight=\"bold\", fontsize=15)  \n",
    "plt.plot(sol[:,0],sol[:,1],'b')  \n",
    "plt.plot(-1.5,0.5,'o',markersize=8)                          # dibujamos la situación inicial, en este caso (-1.5, 0.5)                                                                                                       \n",
    "plt.show()                                                              "
   ]
  },
  {
   "cell_type": "markdown",
   "metadata": {
    "id": "etumlDVMikEI",
    "pycharm": {
     "name": "#%% md\n"
    }
   },
   "source": [
    "## 3. Diagramas de fase\n",
    "\n",
    "### 3.1 Sistemas de ecuaciones diferenciales lineales"
   ]
  },
  {
   "cell_type": "markdown",
   "metadata": {
    "id": "somPefe1ikEI",
    "pycharm": {
     "name": "#%% md\n"
    }
   },
   "source": [
    "Los sistemas de ecuaciones diferenciales **lineales** y autónomos $2\\times 2$ admiten una representación matricial de la forma $\\begin{pmatrix} x'(t) \\\\ y'(t) \\end{pmatrix} = A \\begin{pmatrix} x(t)\\\\y(t)\\end{pmatrix}$. \n",
    "\n",
    "\n",
    "Como sabemos, en estos casos podemos representar diagramas de fase en función de los autovalores y los autovectores de $A$. Sea $\\sigma(A)=\\{\\lambda_1, \\lambda_2\\}$. Tal y como vimos en teoría, no vamos a trabajar con el caso donde $\\lambda_i=0$ para algún $i\\in\\{1,2\\}$. Por tanto, $|A|=\\lambda_1 \\cdot \\lambda_2 \\neq 0$ y $A$ siempre será invertible, con único punto de equilibrio $(0,0)$. \n",
    "\n",
    "\n",
    "En la práctica `L3. Cadenas de Markov` de la asignatura Álgebra vimos cómo obtener dichos autovalores y autovectores. Lo recordamos a continuación. Trabajaremos con el sistema siguiente. $$ \\begin{cases}x'=x+4y \\\\ y'=2x+3y\\end{cases}$$\n",
    "\n"
   ]
  },
  {
   "cell_type": "code",
   "execution_count": null,
   "metadata": {
    "colab": {
     "base_uri": "https://localhost:8080/"
    },
    "id": "MdQJYj64ikEJ",
    "outputId": "3baf4111-8237-42ff-efe7-d3d49cf51b1a",
    "pycharm": {
     "name": "#%%\n"
    }
   },
   "outputs": [],
   "source": [
    "from scipy import linalg as la\n",
    "\n",
    "A=np.array([[1,4],[2,3]])\n",
    "autovalores, autovectores = la.eig(A)\n",
    "print(autovalores)\n",
    "print(autovectores)"
   ]
  },
  {
   "cell_type": "markdown",
   "metadata": {
    "id": "MMRwYEcSikEJ",
    "pycharm": {
     "name": "#%% md\n"
    }
   },
   "source": [
    "Vemos que $\\sigma(A)=\\{-1,5\\}$, luego $|A|=-5<0$ y por tanto tenemos que el punto de equilibrio $(0,0)$ es un **punto de silla**. A continuación, representamos el diagrama de fase."
   ]
  },
  {
   "cell_type": "code",
   "execution_count": null,
   "metadata": {
    "colab": {
     "base_uri": "https://localhost:8080/",
     "height": 488
    },
    "id": "FAlOdWfCikEJ",
    "outputId": "ec4e9e14-5331-4ee7-e23f-a4270fc7c349",
    "pycharm": {
     "name": "#%%\n"
    }
   },
   "outputs": [],
   "source": [
    "plt.figure(figsize=(9, 7))\n",
    "\n",
    "plt.xlim(-5, 5)                                # límites para el gráfico en el eje OX\n",
    "plt.ylim(-5, 5)                                # límites para el gráfico en el eje OY\n",
    "\n",
    "plt.axline([0,0], autovectores[:,0], linewidth=2, color='r')     # recta que pasa por el (0,0), en dirección del primer autovector\n",
    "plt.axline([0,0], autovectores[:,1], linewidth=2, color='r')     # recta que pasa por el (0,0), en dirección del segundo autovector\n",
    "plt.plot(0, 0, 'ko', markersize=8)                                \n",
    "\n",
    "\n",
    "def sistema(variables,t):                        \n",
    "    [x,y] = variables\n",
    "    dxdt = x+4*y\n",
    "    dydt = 2*x+3*y\n",
    "    return [dxdt, dydt]\n",
    "\n",
    "\n",
    "x = np.linspace(-5, 5, 25)                      # puntos equiespaciados necesarios para construir la rejilla\n",
    "y = np.linspace(-5, 5, 25)\n",
    "\n",
    "\n",
    "X,Y=np.meshgrid(x, y)                           # creamos una rejilla con los puntos anteriores\n",
    "DX,DY=sistema([X, Y], 0)                        # a partir de la rejilla anterior, calculamos los nuevos puntos que proporciona el sistema\n",
    "                                                # no necesitamos sucesión de tiempos t, luego ponemos un valor \"auxiliar\" 0\n",
    "M=np.sqrt(DX**2+DY**2)                          # calculamos la norma de los nuevos puntos (vectores)\n",
    "M[M==0]=1                                       # si un vector es nulo (luego su norma será nula), diviremos por 1\n",
    "NX=DX/M                                         # dividimos por la norma para normalizar los vectores (flechas)\n",
    "NY=DY/M                                         \n",
    "\n",
    "\n",
    "plt.quiver(X, Y, NX, NY, M)                     # dibujamos un mapa, donde en cada punto de la rejilla aparezca el vector (normalizado) que proporciona el sistema\n",
    "\n",
    "\n",
    "plt.xlabel(\"x(t)\", fontsize=15)                                    \n",
    "plt.ylabel(\"y(t)\",fontsize=15)\n",
    "plt.title(\"Diagrama de fases\", fontweight=\"bold\", fontsize=15)     \n",
    "plt.show()"
   ]
  },
  {
   "cell_type": "markdown",
   "metadata": {
    "id": "vZTtcf5hrN9Q",
    "pycharm": {
     "name": "#%% md\n"
    }
   },
   "source": [
    "Podemos añadirle al diagrama de fases anterior una trayectoria concreta, por ejemplo la que tiene como situación inicial $(-2,2)$. Para ello, necesitamos primero la solución que parte de ese punto."
   ]
  },
  {
   "cell_type": "code",
   "execution_count": null,
   "metadata": {
    "colab": {
     "base_uri": "https://localhost:8080/",
     "height": 302
    },
    "id": "a2UXOqHLikEK",
    "outputId": "b9409c9e-62d6-4f30-e9f2-5350d77e4532",
    "pycharm": {
     "name": "#%%\n"
    }
   },
   "outputs": [],
   "source": [
    "t=np.linspace(0,1,50)\n",
    "z0=[-2,2]\n",
    "sol=odeint(sistema,z0,t)\n",
    "\n",
    "plt.figure(figsize=(9, 7))\n",
    "\n",
    "plt.xlim(-5, 5)                                \n",
    "plt.ylim(-5, 5) \n",
    "\n",
    "plt.axline([0,0], autovectores[:,0], linewidth=2, color='r')     \n",
    "plt.axline([0,0], autovectores[:,1], linewidth=2, color='r')     \n",
    "plt.plot(0, 0, 'ko', markersize=8)            \n",
    "\n",
    "plt.plot(-2,2,'bo',markersize=8)\n",
    "plt.plot(sol[:,0], sol[:,1],'b',label='trayectoria')\n",
    "\n",
    "plt.quiver(X, Y, NX, NY, M)                     \n",
    "plt.xlabel(\"x(t)\", fontsize=15)                                    \n",
    "plt.ylabel(\"y(t)\",fontsize=15)\n",
    "plt.title(\"Diagrama de fases\", fontweight=\"bold\", fontsize=15)    \n",
    "plt.legend(fontsize=15) \n",
    "plt.show()"
   ]
  },
  {
   "cell_type": "markdown",
   "metadata": {
    "id": "9GSiAeDRsy4G",
    "pycharm": {
     "name": "#%% md\n"
    }
   },
   "source": [
    "A continuación, realizamos el diagrama de fases correspondiente al sistema de ecuaciones diferenciales $\\begin{cases} x'=3x-5y\\\\ y'=x-y\\end{cases}$."
   ]
  },
  {
   "cell_type": "code",
   "execution_count": null,
   "metadata": {
    "colab": {
     "base_uri": "https://localhost:8080/"
    },
    "id": "yK7mLJ6mtCzb",
    "outputId": "ca68c29e-6f4b-4ca4-cbcb-21ac2ce8db10",
    "pycharm": {
     "name": "#%%\n"
    }
   },
   "outputs": [],
   "source": [
    "A=np.array([[3,-5],[1,-1]])\n",
    "autovalores, autovectores = la.eig(A)\n",
    "print(autovalores)"
   ]
  },
  {
   "cell_type": "markdown",
   "metadata": {
    "id": "3g76OlmVtHX6",
    "pycharm": {
     "name": "#%% md\n"
    }
   },
   "source": [
    "Como vemos, los autovalores son complejos con parte real positiva, por lo que sabemos que el diagrama de fases serán espirales con punto de equilibrio $(0,0)$ inestable."
   ]
  },
  {
   "cell_type": "code",
   "execution_count": null,
   "metadata": {
    "colab": {
     "base_uri": "https://localhost:8080/",
     "height": 302
    },
    "id": "dxtz55usikEL",
    "outputId": "f12bf1cb-9bbc-42ee-d789-a8ec8f00d22d",
    "pycharm": {
     "name": "#%%\n"
    }
   },
   "outputs": [],
   "source": [
    "plt.figure(figsize=(9, 7))\n",
    "\n",
    "plt.xlim(-5, 5)                                \n",
    "plt.ylim(-5, 5)                                \n",
    "plt.plot(0, 0, 'ko', markersize=8)                                \n",
    "\n",
    "\n",
    "def sistema(variables, t):                        \n",
    "    [x,y] = variables\n",
    "    dxdt = 3*x-5*y\n",
    "    dydt = x-y\n",
    "    return [dxdt, dydt]\n",
    "\n",
    "\n",
    "x = np.linspace(-5, 5, 25)                      \n",
    "y = np.linspace(-5, 5, 25)\n",
    "\n",
    "\n",
    "X,Y=np.meshgrid(x, y)                           \n",
    "DX,DY=sistema([X, Y],0)                           \n",
    "M=np.sqrt(DX**2+DY**2)                          \n",
    "M[M==0]=1                                       \n",
    "NX=DX/M                                         \n",
    "NY=DY/M                                         \n",
    "\n",
    "\n",
    "plt.quiver(X, Y, NX, NY, M)       \n",
    "\n",
    "t=np.linspace(0,5,50)\n",
    "sol=odeint(sistema,[-0.5,0],t)                                  # representamos también una trayectoria al azar, por ejemplo la que tiene como situación inicial (-2,2)\n",
    "\n",
    "plt.plot(-0.5,0,'bo',markersize=8)\n",
    "plt.plot(sol[:,0], sol[:,1],'b',label='trayectoria')\n",
    "\n",
    "plt.xlabel(\"x(t)\", fontsize=15)                                    \n",
    "plt.ylabel(\"y(t)\",fontsize=15)\n",
    "plt.title(\"Diagrama de fases\", fontweight=\"bold\", fontsize=15)   \n",
    "plt.legend(fontsize=15)  \n",
    "plt.show()"
   ]
  },
  {
   "cell_type": "markdown",
   "metadata": {
    "id": "UgbC9tOfikEL",
    "pycharm": {
     "name": "#%% md\n"
    }
   },
   "source": [
    "### 3.2 Sistemas de ecuaciones diferenciales no lineales\n",
    "\n",
    "\n",
    "Como sabemos, los sistemas de ecuaciones diferenciales **no lineales** pueden tener varios puntos de equilibrio, y en cada uno de ellos podíamos analizar la estabilidad a través del sistema linealizado. A continuación, veremos cómo hallar el diagrama de fases del siguiente sistema de ecuaciones lineales que aparece en la sección 2.\n",
    "\n",
    "\n",
    "$$ \\begin{cases} x'=1-y \\\\ y'=x^2-y^2  \\end{cases}$$\n",
    "\n",
    "\n",
    "Seguiremos el mismo procedimiento anteriormente descrito. Observemos que los puntos de equilibrio se pueden hallar a través de la instrucción `sym.solve`, donde el primer parámetro son las ecuaciones (entre corchetes o paréntesis) a resolver introducidas a través de `sym.Eq` y el segundo parámetro son las variables para las cuales queremos hallar sus valores (entre corchetes o paréntesis también)."
   ]
  },
  {
   "cell_type": "code",
   "execution_count": null,
   "metadata": {
    "pycharm": {
     "name": "#%%\n"
    }
   },
   "outputs": [],
   "source": [
    "# volvemos a cargar 'x' e 'y' como símbolos, pues en el último gráfico eran puntos de la rejilla\n",
    "# las introducimos como variables, pues queremos hallar sus valores, NO como funciones de 't'\n",
    "# solo buscamos soluciones REALES\n",
    "\n",
    "x = sym.symbols('x', real=True)      \n",
    "y = sym.symbols('y', real=True)      \n",
    "ptos_equilibrio = sym.solve([sym.Eq(1-y,0), sym.Eq(x**2-y**2, 0)], [x, y])\n",
    "print(ptos_equilibrio)"
   ]
  },
  {
   "cell_type": "markdown",
   "metadata": {
    "pycharm": {
     "name": "#%% md\n"
    }
   },
   "source": [
    "Ahora, ya podemos repetir las instrucciones de la sección anterior para realizar el diagrama de fases de este sistema."
   ]
  },
  {
   "cell_type": "code",
   "execution_count": null,
   "metadata": {
    "id": "_TeQZRvWikEL",
    "pycharm": {
     "name": "#%%\n"
    }
   },
   "outputs": [],
   "source": [
    "plt.figure(figsize=(9, 7))\n",
    "\n",
    "plt.xlim(-5, 5)                                \n",
    "plt.ylim(-5, 5)                               \n",
    "\n",
    "plt.plot(ptos_equilibrio[0][0], ptos_equilibrio[0][1], 'ko', markersize=8) \n",
    "plt.plot(ptos_equilibrio[1][0], ptos_equilibrio[1][1], 'ko', markersize=8) \n",
    "\n",
    "\n",
    "def sistema(variables,t):                        \n",
    "    [x,y] = variables\n",
    "    dxdt = 1-y\n",
    "    dydt = x**2-y**2\n",
    "    return [dxdt, dydt]\n",
    "\n",
    "\n",
    "x = np.linspace(-5, 5, 30)                      \n",
    "y = np.linspace(-5, 5, 30)\n",
    "\n",
    "\n",
    "X,Y=np.meshgrid(x, y)                           \n",
    "DX,DY=sistema([X, Y], 0)                        \n",
    "                                                \n",
    "M=np.sqrt(DX**2+DY**2)                          \n",
    "M[M==0]=1                                       \n",
    "NX=DX/M                                         \n",
    "NY=DY/M                                         \n",
    "\n",
    "\n",
    "plt.quiver(X, Y, NX, NY, M)                     \n",
    "\n",
    "\n",
    "plt.xlabel(\"x(t)\", fontsize=15)                                    \n",
    "plt.ylabel(\"y(t)\",fontsize=15)\n",
    "plt.title(\"Diagrama de fases\", fontweight=\"bold\", fontsize=15)     \n",
    "plt.show()"
   ]
  },
  {
   "cell_type": "markdown",
   "metadata": {
    "id": "VY7ooyc1ikEM",
    "pycharm": {
     "name": "#%% md\n"
    }
   },
   "source": [
    "Podemos también añadirle algunas trayectorias al diagrama anterior. Para ello, calculamos primero las soluciones que tienen como condiciones iniciales a los puntos $(0, \\, 4.3)$, $(-1, \\, 4)$, $(-4, \\, -3.4)$, $(2, \\, -2)$ y $(-1.8, -0.8)$."
   ]
  },
  {
   "cell_type": "code",
   "execution_count": null,
   "metadata": {
    "id": "I5F_SgeNu0iK",
    "pycharm": {
     "name": "#%%\n"
    }
   },
   "outputs": [],
   "source": [
    "t1=np.linspace(0,6,50)\n",
    "sol1=odeint(sistema,[0,4.3],t1)\n",
    "\n",
    "t2=np.linspace(0,3,50)\n",
    "sol2=odeint(sistema,[-1,4],t2)\n",
    "\n",
    "t3=np.linspace(0,1.5,50)\n",
    "sol3=odeint(sistema,[-4,-3.4],t3)\n",
    "\n",
    "t4=np.linspace(0,5,50)\n",
    "sol4=odeint(sistema,[2,-2],t4)\n",
    "\n",
    "t5=np.linspace(0,3,50)\n",
    "sol5=odeint(sistema,[-1.8,-0.8],t5)"
   ]
  },
  {
   "cell_type": "markdown",
   "metadata": {
    "pycharm": {
     "name": "#%% md\n"
    }
   },
   "source": [
    "Ahora, repetimos el dibujo anterior, pero añadiéndole las trayectorias de estas soluciones."
   ]
  },
  {
   "cell_type": "code",
   "execution_count": null,
   "metadata": {
    "id": "_itFDDeuu_ZO",
    "pycharm": {
     "name": "#%%\n"
    }
   },
   "outputs": [],
   "source": [
    "plt.figure(figsize=(10, 8))\n",
    "\n",
    "plt.xlim(-5, 5)                                \n",
    "plt.ylim(-5, 5)                               \n",
    "\n",
    "plt.plot(ptos_equilibrio[0][0], ptos_equilibrio[0][1], 'ko', markersize=8) \n",
    "plt.plot(ptos_equilibrio[1][0], ptos_equilibrio[1][1], 'ko', markersize=8) \n",
    "\n",
    "\n",
    "def sistema(variables,t):                        \n",
    "    [x,y] = variables\n",
    "    dxdt = 1-y\n",
    "    dydt = x**2-y**2\n",
    "    return [dxdt, dydt]\n",
    "\n",
    "\n",
    "plt.plot(0,4.3,'go',markersize=5)\n",
    "plt.plot(sol1[:,0], sol1[:,1],'g',label='sol. 1')\n",
    "\n",
    "plt.plot(-1,4,'ro',markersize=5)\n",
    "plt.plot(sol2[:,0], sol2[:,1],'r',label='sol. 2')\n",
    "\n",
    "plt.plot(-4,-3.4,'mo',markersize=5)\n",
    "plt.plot(sol3[:,0], sol3[:,1],'m',label='sol. 3')\n",
    "\n",
    "plt.plot(2,-2,'yo',markersize=5)\n",
    "plt.plot(sol4[:,0], sol4[:,1],'y',label='sol. 4')\n",
    "\n",
    "plt.plot(-1.8,-0.8,'co',markersize=5)\n",
    "plt.plot(sol5[:,0], sol5[:,1],'c',label='sol. 5')\n",
    "\n",
    "plt.legend(fontsize=13)\n",
    "\n",
    "\n",
    "x = np.linspace(-5, 5, 30)                      \n",
    "y = np.linspace(-5, 5, 30)\n",
    "\n",
    "\n",
    "X,Y=np.meshgrid(x, y)                           \n",
    "DX,DY=sistema([X, Y], 0)                        \n",
    "                                                \n",
    "M=np.sqrt(DX**2+DY**2)                          \n",
    "M[M==0]=1                                       \n",
    "NX=DX/M                                         \n",
    "NY=DY/M                                         \n",
    "\n",
    "\n",
    "plt.quiver(X, Y, NX, NY, M)                     \n",
    "\n",
    "\n",
    "plt.xlabel(\"x(t)\", fontsize=15)                                    \n",
    "plt.ylabel(\"y(t)\",fontsize=15)\n",
    "plt.title(\"Diagrama de fases\", fontweight=\"bold\", fontsize=15)     \n",
    "plt.show()"
   ]
  },
  {
   "cell_type": "markdown",
   "metadata": {
    "id": "5NdZxWOwvAug",
    "pycharm": {
     "name": "#%% md\n"
    }
   },
   "source": [
    "## 4. Modelo SIR\n",
    "\n",
    "\n",
    "Tal y como vimos en teoría, el modelo SIR sirve para estudiar la **propagación de enfermedades contagiosas y rumores**. Recordemos que si $S(t)$, $I(t)$ y $R(t)$ miden el número de susceptibles, infectados y recuperados de una cierta enfermedad/rumor en un instante concreto de tiempo $t$, entonces el modelo SIR viene determinado por el sistema de ecuaciones diferenciales \n",
    "\n",
    "\n",
    "$$ \\begin{cases} \n",
    "S'= \\mu N-\\beta S I - \\mu S \\\\\n",
    "I'=\\beta S I - \\mu I - \\gamma I \\\\\n",
    "R'=\\gamma I - \\mu R\n",
    "\\end{cases},  $$ \n",
    "\n",
    "\n",
    "donde $N=S(t)+I(t)+R(t)$ es el tamaño de población (y es constante), $\\beta$ es el coeficiente de transmisión, $\\gamma$ es la tasa de recuperación y $\\mu$ es la tasa de natalidad y coincide con la mortalidad total. \n",
    "\n",
    "\n",
    "\n",
    "Este modelo carece de solución analítica, pero podemos **aproximar sus soluciones numéricamente**."
   ]
  },
  {
   "cell_type": "code",
   "execution_count": null,
   "metadata": {
    "pycharm": {
     "name": "#%%\n"
    }
   },
   "outputs": [],
   "source": [
    "def sir(variables,t,N,beta,mu,gamma):\n",
    "    [S,I,R] = variables\n",
    "    dSdt = mu*N-beta*S*I-mu*S\n",
    "    dIdt = beta*S*I-mu*I-gamma*I\n",
    "    dRdt = gamma*I-mu*R\n",
    "    return [dSdt, dIdt, dRdt]"
   ]
  },
  {
   "cell_type": "markdown",
   "metadata": {
    "pycharm": {
     "name": "#%% md\n"
    }
   },
   "source": [
    "Vimos en clase de teoría que si $R_0=\\dfrac{\\beta N}{\\mu+\\gamma}<1$, entonces cuando $t \\rightarrow \\infty$ la solución $(S(t), \\, I(t))$ de las dos primeras ecuaciones tendía al punto de equilibrio $(N, \\, 0)$ y por tanto la enfermedad se extinguía. Comprobémoslo con unos datos concretos, por ejemplo con $(N, \\, \\beta, \\, \\mu, \\, \\gamma) = (1, \\, 0.1, \\, 0.01, \\, 0.1)$. Podemos suponer que $N$ se mide en millones de habitantes, luego $N=1$ significa un millón de habitantes. Además, supongamos que la situación inicial es $(S(0), \\, I(0), \\, R(0)) = (0.1, \\, 0.9, \\, 0)$, i.e. que están infectados 900 mil habitantes."
   ]
  },
  {
   "cell_type": "code",
   "execution_count": null,
   "metadata": {
    "pycharm": {
     "name": "#%%\n"
    }
   },
   "outputs": [],
   "source": [
    "N = 1                \n",
    "beta = 0.1\n",
    "mu = 0.01\n",
    "gamma = 0.1\n",
    "\n",
    "parametros = (N, beta, mu, gamma)   # debe estar en forma de tupla, tal y como vimos en la sección 2\n",
    "\n",
    "R0 = beta*N/(mu+gamma)\n",
    "print(R0)                           # podemos comprobar que R0 < 1 en este caso\n",
    "\n",
    "sit_inicial = [0.1, 0.9, 0]"
   ]
  },
  {
   "cell_type": "markdown",
   "metadata": {
    "pycharm": {
     "name": "#%% md\n"
    }
   },
   "source": [
    "Calculemos la solución numérica para esos datos concretos y posteriormente realizamos un gráfico. En esta ocasión, **no realizaremos un diagrama de fases**, sino un gráfico donde podamos ver cómo se comportan las soluciones $S(t), I(t), R(t)$ en función del tiempo (en días). Veamos qué sucede desde $t=0$ hasta $t=450$ días."
   ]
  },
  {
   "cell_type": "code",
   "execution_count": null,
   "metadata": {
    "pycharm": {
     "name": "#%%\n"
    }
   },
   "outputs": [],
   "source": [
    "t = np.linspace(0,450,1000)\n",
    "sol = odeint(sir,sit_inicial,t,parametros)\n",
    "\n",
    "plt.figure(figsize=(10, 8))\n",
    "\n",
    "plt.plot(t, sol[:,0], label='S(t)')\n",
    "plt.plot(t, sol[:,1], label='I(t)')\n",
    "plt.plot(t, sol[:,2], label='R(t)')\n",
    "\n",
    "plt.plot(t,N*np.ones(t.shape),label='equilibrio S')\n",
    "plt.plot(t,0*np.ones(t.shape),label='equilibrio I')\n",
    "\n",
    "plt.legend(fontsize=13)\n",
    "\n",
    "plt.xlabel(\"t\", fontsize=17, fontweight=\"bold\")                                    \n",
    "plt.ylabel(\"SIR\",fontsize=17, fontweight=\"bold\")\n",
    "plt.show()"
   ]
  },
  {
   "cell_type": "markdown",
   "metadata": {
    "pycharm": {
     "name": "#%% md\n"
    }
   },
   "source": [
    "Si $R_0=\\dfrac{\\beta N}{\\mu+\\gamma}>1$, entonces cuando $t \\rightarrow \\infty$ la solución $(S(t), \\, I(t))$ de las dos primeras ecuaciones tendía al punto de equilibrio\n",
    "\n",
    "$$\\left(\\dfrac{\\mu + \\gamma}{\\beta}, \\: \\dfrac{\\mu}{\\beta}\\left(\\dfrac{N\\beta}{\\mu+\\gamma}-1\\right)\\right)$$ \n",
    "\n",
    "y por tanto la enfermedad se volvía endémica. Comprobémoslo con los datos $(N, \\, \\beta, \\, \\mu, \\, \\gamma) = (1, \\, 0.5, \\, 0.01, \\, 0.1)$ y con la situación inicial $(0.9, \\, 0.1, \\, 0)$. Veamos qué sucede después de 250 días."
   ]
  },
  {
   "cell_type": "code",
   "execution_count": null,
   "metadata": {
    "pycharm": {
     "name": "#%%\n"
    }
   },
   "outputs": [],
   "source": [
    "N = 1                \n",
    "beta = 0.5\n",
    "mu = 0.01\n",
    "gamma = 0.1\n",
    "\n",
    "parametros = (N, beta, mu, gamma)   # debe estar en forma de tupla, tal y como vimos en la sección 2\n",
    "\n",
    "R0 = beta*N/(mu+gamma)\n",
    "print(R0)                           # podemos comprobar que R0 > 1 en este caso\n",
    "\n",
    "sit_inicial = [0.9, 0.1, 0]"
   ]
  },
  {
   "cell_type": "code",
   "execution_count": null,
   "metadata": {
    "pycharm": {
     "name": "#%%\n"
    }
   },
   "outputs": [],
   "source": [
    "t = np.linspace(0,250,1000)\n",
    "sol = odeint(sir,sit_inicial,t,parametros)\n",
    "\n",
    "plt.figure(figsize=(10, 8))\n",
    "\n",
    "plt.plot(t, sol[:,0], label='S(t)')\n",
    "plt.plot(t, sol[:,1], label='I(t)')\n",
    "plt.plot(t, sol[:,2], label='R(t)')\n",
    "\n",
    "plt.plot(t, ((mu+gamma)/beta)*np.ones(t.shape),label='equilibrio S')\n",
    "plt.plot(t, (mu/beta)*((N*beta/(mu+gamma))-1)*np.ones(t.shape),label='equilibrio I')\n",
    "\n",
    "plt.legend(fontsize=13)\n",
    "\n",
    "plt.xlabel(\"t\", fontsize=17, fontweight=\"bold\")                                    \n",
    "plt.ylabel(\"SIR\",fontsize=17, fontweight=\"bold\")\n",
    "plt.show()"
   ]
  },
  {
   "cell_type": "markdown",
   "metadata": {
    "pycharm": {
     "name": "#%% md\n"
    }
   },
   "source": [
    "## 5. Ejercicios\n",
    "\n",
    "\n",
    "\n",
    "**1.** Calcula la solución **analítica** (i.e. exacta) de los siguientes sistemas de ecuaciones diferenciales.\n",
    "\n",
    "$$\\text{(a)}\\: \\begin{cases} x''+y'-x+y=-1\\\\x'+y'-x=t^2 \\end{cases} \\qquad \\qquad \\qquad \\text{(b)}\\: \\begin{cases} x'=x+2y-z \\\\ y'=x+z \\\\ z'=4x-4y+5z \\end{cases}$$\n",
    "\n",
    "**Solución:** (a) $x(t)=−C_1te^t-\\frac{C_2e^{-t}}{2}-t^2-4t+(C_1-C_3)e^t-6$, $\\quad y(t)=C_1e^t+C_2e^{-t}-t^2-2t-3$.\n",
    "\n",
    "(b) $x(t)=-\\frac{C_1e^t}{2}-\\frac{C_2e^{2t}}{2}-\\frac{C_3e^{3t}}{4}$, $\\quad y(t)=\\frac{C_1e^t}{2}+\\frac{C_2e^{2t}}{4}+\\frac{C_3e^{3t}}{4}$, $\\quad z(t)=C_1e^t+C_2e^{2t}+C_3e^{3t}$.\n",
    "\n",
    "\n",
    "**2.** Determina los diagramas de fase de los siguientes sistemas de ecuaciones diferenciales **lineales**. Los diagramas tendrán $x,y\\in [-5,5]$ y deben ilustrar el punto de equilibrio, las rectas invariantes (en caso de autovalores reales), y la trayectoria de la solución cuando la condición inicial es $(1, -3)$.\n",
    "\n",
    "$$\\text{(a)}\\: \\begin{cases} x'=-2x+y \\\\ y'=x-2y \\end{cases} \\qquad \\qquad \\text{(b)}\\: \\begin{cases} x'=-x-y \\\\ y'=2x+y \\end{cases} \\qquad \\qquad \\text{(c)}\\: \\begin{cases} x'=-2x-y \\\\ y'=3x+2y \\end{cases}$$\n",
    "\n",
    "\n",
    "**Solución:** hechos en clase.\n",
    "\n",
    "\n",
    "**3.** Determina los diagramas de fase de los siguientes sistemas de ecuaciones diferenciales **no lineales**. Los diagramas tendrán $x,y\\in [-5,5]$ (excepto el último, que tendrá $x,y\\in[0,5]$) y deben ilustrar los puntos de equilibrio y las trayectorias de dos soluciones con condiciones iniciales elegidas por ti.\n",
    "\n",
    "$$\\text{(a)}\\:  \\begin{cases} x'=y^3-x^3 \\\\ y'=1-y^3 \\end{cases} \\qquad \\qquad \\text{(b)}\\: \\begin{cases} x'=y-y^3 \\\\ y'=-x-y^2 \\end{cases} \\qquad \\qquad\\text{(c)}\\:  \\begin{cases} x'=x-2y\\sqrt{x} \\\\ y'=-2y+y\\sqrt{x} \\end{cases} $$\n",
    "\n",
    "\n",
    "**Solución:** (a) Espirales con sentido horario, punto de equilibrio $(1,1)$ asintóticamente estable. (b) Circunferencias/elipses en sentido horario con punto de equilibrio $(0,0)$ estable. Puntos de silla en $(-1, -1)$ y $(-1, 1)$, inestables. (c) Espirales con sentido antihorario, punto de equilibrio $(4,1)$ asintóticamente inestable.\n",
    "\n",
    "\n",
    "**4.** En el ejercicio 12 de la lista de problemas del Tema 3 se pide plantear el sistema de ecuaciones diferenciales que modelan la viralización de un meme. Supongamos que el tiempo $t$ se mide en horas, que la tasa de hartazgo es 0.2 y que la tasa de volver a memetizarse es 0.1. Supongamos también que actualmente hay un $10\\%$ de memetizados por un meme reciente, luego no hay nadie harto aún. Realiza un gráfico donde se muestre cómo evolucionan $S(t), M(t)$ y $H(t)$ durante las primeras 100 horas.\n",
    "    - Al final de dicho período, ¿hay más personas hartas del meme o memetizadas?\n",
    "    - Si se define un meme viral como aquel que provoca un porcentaje de memetizados superior al $50\\%$ de la población total en algún instante $t$, ¿se puede concluir que el meme fue viral?\n",
    "    \n",
    "\n",
    "**Solución:** hay más personas hartas del meme. Y no fue viral el meme, pues el porcentaje de memetizados nunca superó ni siquiera el $30\\%$."
   ]
  },
  {
   "cell_type": "code",
   "execution_count": null,
   "metadata": {
    "pycharm": {
     "name": "#%%\n"
    }
   },
   "outputs": [],
   "source": []
  }
 ],
 "metadata": {
  "colab": {
   "collapsed_sections": [],
   "name": "L2. Sistemas ED.ipynb",
   "provenance": []
  },
  "kernelspec": {
   "display_name": "Python 3",
   "language": "python",
   "name": "python3"
  },
  "language_info": {
   "codemirror_mode": {
    "name": "ipython",
    "version": 3
   },
   "file_extension": ".py",
   "mimetype": "text/x-python",
   "name": "python",
   "nbconvert_exporter": "python",
   "pygments_lexer": "ipython3",
   "version": "3.8.5"
  }
 },
 "nbformat": 4,
 "nbformat_minor": 1
}