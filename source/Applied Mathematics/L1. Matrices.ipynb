{
 "cells": [
  {
   "cell_type": "markdown",
   "metadata": {},
   "source": [
    "# Práctica 1. Matrices\n",
    "\n",
    "### 1. Introducción\n",
    "\n",
    "\n",
    "A lo largo de las prácticas utilizaremos principalmente el paquete de Python `numpy` y también el subpaquete `linalg` de `scipy`, luego es **muy importante** importarlos siempre antes de empezar la sesión. "
   ]
  },
  {
   "cell_type": "code",
   "execution_count": null,
   "metadata": {},
   "outputs": [],
   "source": [
    "import numpy as np\n",
    "import scipy.linalg as la"
   ]
  },
  {
   "cell_type": "markdown",
   "metadata": {},
   "source": [
    "Por comodidad, los hemos llamado con un nombre abreviado. Si se nos olvida importarlos, al ejecutar algún comando que los necesite nos saldrá un mensaje de error del tipo siguiente: `NameError: name 'np' is not defined`.\n",
    "\n",
    "**Los escalares** se introducen directamente y, en el caso de números decimales, separando la parte entera de la decimal con un\n",
    "punto. "
   ]
  },
  {
   "cell_type": "code",
   "execution_count": null,
   "metadata": {
    "scrolled": true
   },
   "outputs": [],
   "source": [
    "a=2\n",
    "b=3.5\n",
    "print('[a,b] =',[a,b])"
   ]
  },
  {
   "cell_type": "markdown",
   "metadata": {},
   "source": [
    "Podemos **redondear** un número concreto $x$ a $d$ decimales mediante `round(x, d)`."
   ]
  },
  {
   "cell_type": "code",
   "execution_count": null,
   "metadata": {},
   "outputs": [],
   "source": [
    "round(3.1415926, 2)"
   ]
  },
  {
   "cell_type": "markdown",
   "metadata": {},
   "source": [
    "### 2. Matrices"
   ]
  },
  {
   "cell_type": "markdown",
   "metadata": {},
   "source": [
    "Con el comando `np.array([ vector ])` podemos crear listas como la anterior, pero además podremos operar con ellas. Observemos que el _output_ obtenido es un poco diferente si usamos `print`."
   ]
  },
  {
   "cell_type": "code",
   "execution_count": null,
   "metadata": {},
   "outputs": [],
   "source": [
    "v=np.array([[2,3]])\n",
    "3*v"
   ]
  },
  {
   "cell_type": "code",
   "execution_count": null,
   "metadata": {},
   "outputs": [],
   "source": [
    "print(3*v)"
   ]
  },
  {
   "cell_type": "markdown",
   "metadata": {},
   "source": [
    "También es posible redondear en global todas las entradas de un vector con `np.round(v, d)`."
   ]
  },
  {
   "cell_type": "code",
   "execution_count": null,
   "metadata": {},
   "outputs": [],
   "source": [
    "np.round(np.array([[1/9, 11/9]]), 2)"
   ]
  },
  {
   "cell_type": "markdown",
   "metadata": {},
   "source": [
    "Los vectores los podemos introducir en modo fila o columna, y con varios vectores podemos crear también **matrices** de las dimensiones que deseemos."
   ]
  },
  {
   "cell_type": "code",
   "execution_count": null,
   "metadata": {},
   "outputs": [],
   "source": [
    "v1=np.array([[1,2,3]])      # vector de dimensión (1,3)\n",
    "v2=np.array([[5],\n",
    "             [7],\n",
    "             [-1]])         # vector de dimensión (3,1)\n",
    "M=np.array([[1, 0, -3],\n",
    "            [2, 5, 0],\n",
    "            [1, 1, -4]])    # matriz de dimensión (3,3)"
   ]
  },
  {
   "cell_type": "code",
   "execution_count": null,
   "metadata": {},
   "outputs": [],
   "source": [
    "v1"
   ]
  },
  {
   "cell_type": "code",
   "execution_count": null,
   "metadata": {},
   "outputs": [],
   "source": [
    "print(M)\n",
    "print(v2)"
   ]
  },
  {
   "cell_type": "markdown",
   "metadata": {},
   "source": [
    "Podemos comprobar las **dimensiones** de los vectores y la matriz anteriores añadiéndole `.shape` a sus nombres. Asimismo, con `.size` obtendremos el número total de elementos que poseen."
   ]
  },
  {
   "cell_type": "code",
   "execution_count": null,
   "metadata": {},
   "outputs": [],
   "source": [
    "v1.shape"
   ]
  },
  {
   "cell_type": "code",
   "execution_count": null,
   "metadata": {},
   "outputs": [],
   "source": [
    "M.shape"
   ]
  },
  {
   "cell_type": "code",
   "execution_count": null,
   "metadata": {},
   "outputs": [],
   "source": [
    "v2.size"
   ]
  },
  {
   "cell_type": "code",
   "execution_count": null,
   "metadata": {},
   "outputs": [],
   "source": [
    "M.size"
   ]
  },
  {
   "cell_type": "markdown",
   "metadata": {},
   "source": [
    "Otra forma que puede ser útil para crear matrices es uniendo vectores previos, a través de `np.vstack`. Si los vectores están en columna, usaremos `np.hstack` para _unirlos horizontalmente_."
   ]
  },
  {
   "cell_type": "code",
   "execution_count": null,
   "metadata": {},
   "outputs": [],
   "source": [
    "v3=np.array([[0,1,0]])\n",
    "v4=np.array([[1,0,0]])\n",
    "N=np.vstack([v3,v4,v1])   # matriz creada uniendo por filas v3, v4 y v1\n",
    "print(N)"
   ]
  },
  {
   "cell_type": "code",
   "execution_count": null,
   "metadata": {},
   "outputs": [],
   "source": [
    "v5=np.array([[1],\n",
    "            [0],\n",
    "            [0]])\n",
    "v6=np.array([[1],\n",
    "            [1],\n",
    "            [1]])\n",
    "L=np.hstack([v2,v5,v6])   # en este caso, matriz creada uniendo por columnas v2, v5 y v6\n",
    "print(L)"
   ]
  },
  {
   "cell_type": "markdown",
   "metadata": {},
   "source": [
    "### 3. Algunas matrices especiales\n",
    "\n",
    "Existen comandos que nos permiten crear directamente algunos tipos de matrices que utilizaremos frecuentemente. Por ejemplo, con `np.zeros((m,n))` podremos crear una **matriz nula** de dimensión $m \\times n$. La **matriz identidad** de dimensión $n$ la podemos construir a través de `np.eye(n)`, mientras que `np.ones((m,n))` nos crea una **matriz de unos** de dimensión $m\\times n$."
   ]
  },
  {
   "cell_type": "code",
   "execution_count": null,
   "metadata": {},
   "outputs": [],
   "source": [
    "print(np.zeros((2,3)))\n",
    "print(np.ones((4,5)))\n",
    "print(np.eye(3))"
   ]
  },
  {
   "cell_type": "markdown",
   "metadata": {},
   "source": [
    "Una **matriz de entradas constantes** $k$ puede ser construida de dos formas diferentes. Por ejemplo, a través del comando `np.full((m, n), k)`, o también _multiplicando_ el escalar $k$ por una matriz de unos (esto conlleva una _operación con matrices_ que veremos en la siguiente sección)."
   ]
  },
  {
   "cell_type": "code",
   "execution_count": null,
   "metadata": {},
   "outputs": [],
   "source": [
    "print(np.full((3,4), 7))\n",
    "print(7*np.ones((3,4)))"
   ]
  },
  {
   "cell_type": "markdown",
   "metadata": {},
   "source": [
    "Una **matrix diagonal** con entradas $a_1, \\ldots, a_n$ puede ser creada a partir de `np.diag([ ])`, introduciendo dentro de los corchetes las entradas. Asimismo, con `np.diag(A)` podemos obtener un vector cuyas entradas son los elementos de la diagonal de la matriz $A$."
   ]
  },
  {
   "cell_type": "code",
   "execution_count": null,
   "metadata": {},
   "outputs": [],
   "source": [
    "A=np.diag([1,2,3,4,5])\n",
    "print(A)\n",
    "\n",
    "print(np.diag(L))\n",
    "\n",
    "D=np.diag(np.diag(L))     # De esta forma obtenemos una matriz diagonal a partir de la diagonal de L\n",
    "print(D)"
   ]
  },
  {
   "cell_type": "markdown",
   "metadata": {},
   "source": [
    "### 4. Operaciones con matrices\n",
    "\n",
    "Las **operaciones aritméticas** usuales `+,-,*,/` (suma, resta, multiplicación y división) y `**` (potencia) sobre listas se aplican **elemento a elemento**."
   ]
  },
  {
   "cell_type": "code",
   "execution_count": null,
   "metadata": {},
   "outputs": [],
   "source": [
    "print(M)\n",
    "print(N)\n",
    "print(M+N)"
   ]
  },
  {
   "cell_type": "code",
   "execution_count": null,
   "metadata": {},
   "outputs": [],
   "source": [
    "print(L-M)\n",
    "print(L-1)"
   ]
  },
  {
   "cell_type": "code",
   "execution_count": null,
   "metadata": {},
   "outputs": [],
   "source": [
    "print(M*N)                # multiplicada cada entrada de M por su correspondiente entrada en N. \n",
    "                          # NO es el producto de matrices estándar\n",
    "print(M*v1)\n",
    "print(M*v2)"
   ]
  },
  {
   "cell_type": "code",
   "execution_count": null,
   "metadata": {},
   "outputs": [],
   "source": [
    "print(M**2)        # eleva cada elemento de M al cuadrado\n",
    "print(2*v)    \n",
    "print(2**(2*v))    # eleva el escalar 2 a cada entrada del vector 2*v=[4,7], es decir, crea el vector [2^4, 2^7]"
   ]
  },
  {
   "cell_type": "markdown",
   "metadata": {},
   "source": [
    "Para realizar el **producto de matrices estándar** entre dos matrices compatibles $M$ y $N$, debemos usar `M @ N` (los espacios realmente no son necesarios) o bien `M.dot(N)`."
   ]
  },
  {
   "cell_type": "code",
   "execution_count": null,
   "metadata": {},
   "outputs": [],
   "source": [
    "print(L)\n",
    "print(v2)\n",
    "print(L @ v2)\n",
    "print(L.dot(v2))"
   ]
  },
  {
   "cell_type": "code",
   "execution_count": null,
   "metadata": {},
   "outputs": [],
   "source": [
    "M.dot(v1)     # Evidentemente, si las dimensiones no son compatibles, nos devolverá un mensaje de error"
   ]
  },
  {
   "cell_type": "markdown",
   "metadata": {},
   "source": [
    "No hay un símbolo específico para calcular **potencias de una matriz** (recordemos que `**` calcula las potencias de los elementos, no de la matriz en sí). Por tanto, usaremos el comando `np.linalg.matrix_power(M, k)` proveniente del subpaquete `linalg` de `numpy` (recordemos que lo tenemos abreviado por `np`) para calcular la $k$-ésima potencia de $M$, i.e. $M^k$. "
   ]
  },
  {
   "cell_type": "code",
   "execution_count": null,
   "metadata": {},
   "outputs": [],
   "source": [
    "print(np.linalg.matrix_power(L,3))         # L^3 calculada a través de la función np.linalg.matrix_power\n",
    "print(L@L@L)                               # L^3 calculada a través de multiplicar L tres veces"
   ]
  },
  {
   "cell_type": "markdown",
   "metadata": {},
   "source": [
    "También es posible, por comodidad, abreviar el nombre de este comando, por ejemplo por `mpow`. "
   ]
  },
  {
   "cell_type": "code",
   "execution_count": null,
   "metadata": {},
   "outputs": [],
   "source": [
    "from numpy.linalg import matrix_power as mpow \n",
    "\n",
    "# Típico error: \"from np.linalg import matrix_power as mpow\", no podemos usar la abreviatura np.linalg !!\n",
    "\n",
    "print(mpow(L, 3))"
   ]
  },
  {
   "cell_type": "markdown",
   "metadata": {},
   "source": [
    "La **traspuesta de una matriz** se puede calcular a partir del comando `.T`."
   ]
  },
  {
   "cell_type": "code",
   "execution_count": null,
   "metadata": {},
   "outputs": [],
   "source": [
    "print(v1.T)\n",
    "print(v1@v1.T)     # producto escalar de v1 con v1"
   ]
  },
  {
   "cell_type": "markdown",
   "metadata": {},
   "source": [
    "Usando el anterior comando, podemos calcular _manualmente_ la norma de un vector $v$, aunque también existe el comando `la.norm(v)` para calcularlo directamente."
   ]
  },
  {
   "cell_type": "code",
   "execution_count": null,
   "metadata": {},
   "outputs": [],
   "source": [
    "print(np.sqrt(v1@v1.T))  # manualmente: de esta manera, el resultado obtenido es una matriz (pues multiplicamos dos matrices)\n",
    "print(np.sqrt(np.sum(v1*v1)))  # manualmente: de esta manera, multiplicamos elemento a elemento v1, sumamos y raíz cuadrada\n",
    "print(la.norm(v1))"
   ]
  },
  {
   "cell_type": "markdown",
   "metadata": {},
   "source": [
    "La **matriz inversa** de una matriz $M$ puede calcularse a través de `la.inv(M)`; su **traza** mediante `np.trace(M)`, su **determinante** a través de `la.det(M)` y su **rango** mediante `np.linalg.matrix_rank(M)`."
   ]
  },
  {
   "cell_type": "code",
   "execution_count": null,
   "metadata": {},
   "outputs": [],
   "source": [
    "print(L)\n",
    "print(np.trace(L))\n",
    "print(la.det(L))    # distinto de cero, luego podemos calcular sin problema su inversa\n",
    "print(la.inv(L))\n",
    "print(L.dot(la.inv(L)))"
   ]
  },
  {
   "cell_type": "code",
   "execution_count": null,
   "metadata": {},
   "outputs": [],
   "source": [
    "from numpy.linalg import matrix_rank as rank     # abreviamos el comando para calcular rangos\n",
    "\n",
    "rank(L)"
   ]
  },
  {
   "cell_type": "markdown",
   "metadata": {},
   "source": [
    "### 5. Submatrices\n",
    "\n",
    "\n",
    "Es posible trabajar con **submatrices** extraídas de una matriz $M$, usando expresiones como las siguientes:\n",
    "\n",
    "1. `M[i-1,j-1]` para el elemento que ocupa la posición fila $i$ y columna $j$\n",
    "2. `M[i-1:i,:]` para la fila $i$\n",
    "3. `M[:,j-1:j]` para la columna $j$\n",
    "4. `M[r-1:s,:]` para la submatriz formada por las filas entre la $r$ y la $s$\n",
    "5. `M[[r-1,s-1],:]` para la submatriz formada por las filas $r$ y $s$\n",
    "\n",
    "Observemos que estas expresiones también nos permiten hacer modificaciones en una matriz que ya ha sido introducida. Así, por ejemplo, si queremos modificar la fila $i$ de $M$, podemos escribir `M[i-1,:] = nueva fila`.\n",
    "\n",
    "Es importante recordar que los índices comienzan en el número 0 (i.e. la posición primera es el índice 0), por ello para seleccionar la fila $i$ escribimos el índice `i-1`. Además, por comodidad podemos utilizar el índice `-1` para seleccionar el último elemento, `-2` para el penúltimo, etc. Asimismo, los rangos `a:b` por defecto no seleccionan el último elemento `b`, luego acabaría en el `b-1` (por tanto, el rango `i-1:i` realmente solo contiene un número, el $i-1$).\n",
    "\n",
    "Ante la posible duda de porqué no usamos `M[:,j-1]` para seleccionar la columna $j$ de $M$ en vez de `M[:,j-1:j]`, es importante mencionar que la primera opción devuelve una lista y no un vector columna, luego no podríamos operar matricialmente de forma correcta. La segunda opción sí que devuelve un vector columna y esto se debe a una cuestión un poco técnica: aunque `j-1:j` solamente contiene el número $j-1$, tiene estructura de rango, luego _está en concordancia_ con el formato de filas seleccionado."
   ]
  },
  {
   "cell_type": "code",
   "execution_count": null,
   "metadata": {},
   "outputs": [],
   "source": [
    "print(L)"
   ]
  },
  {
   "cell_type": "code",
   "execution_count": null,
   "metadata": {},
   "outputs": [],
   "source": [
    "print(L[1,0])       # seleccionamos el elemento (2,1) de la matriz L\n",
    "L[1,1]=8            # cambiamos el elemento (2,2) de la matriz L por un 8, es decir, cambiamos el 0 por 8\n",
    "print(L)"
   ]
  },
  {
   "cell_type": "markdown",
   "metadata": {},
   "source": [
    "Observemos que $L$ ha cambiado. Si no queríamos perder la matriz $L$ inicial, sería mejor hacer las modificaciones sobre una _copia_ de la matriz $L$, digamos $L1$. Esto es posible mediante el comando `L.copy()`. (¡No vale con asignar `L1=L`, pues los cambios se realizarán igualmente sobre ambas matrices!)"
   ]
  },
  {
   "cell_type": "code",
   "execution_count": null,
   "metadata": {},
   "outputs": [],
   "source": [
    "L1=L.copy()\n",
    "L1[:,1]=[5,5,4]\n",
    "print(L1)\n",
    "print(L)"
   ]
  },
  {
   "cell_type": "code",
   "execution_count": null,
   "metadata": {},
   "outputs": [],
   "source": [
    "print(L[[1,2],:])    # seleccionamos las dos últimas filas de L\n",
    "print(L[1:,:])       # equivalentemente: \"1:\" significa que seleccionamos el rango que empieza en el 1 hasta \"el final\""
   ]
  },
  {
   "cell_type": "code",
   "execution_count": null,
   "metadata": {},
   "outputs": [],
   "source": [
    "I=np.random.rand(5,5)         # creamos una matriz 5 x 5 de elementos aleatorios\n",
    "print(I)\n",
    "print(I[[1,-2],0:4])          # seleccionamos las filas 2 y 4, y las columnas de la 1 a la 4"
   ]
  },
  {
   "cell_type": "code",
   "execution_count": null,
   "metadata": {},
   "outputs": [],
   "source": [
    "print(I[4:5,:])                 # seleccionamos la última fila de I\n",
    "print(I[:,2:3])                 # seleccionamos la tercera columna de I"
   ]
  },
  {
   "cell_type": "markdown",
   "metadata": {},
   "source": [
    "### 6. Ejercicios\n",
    "\n",
    "1. Dados los números $x = 14.32$, $y = 27.12$ y $z = 3.5$, calcula el valor de la expresión $\\dfrac{8x+y^2}{2-\\sqrt[6]{x^3+\\frac{1}{z}}}$. (Solución: -476.424)\n",
    "\n",
    "\n",
    "2. Crea la matriz $M=(m_{ij})$ de orden $50 \\times 50$ tal que $m_{ii} = 10$ y $m_{ij} = 0$ para $i\\neq j$.\n",
    "\n",
    "\n",
    "3. Dados los vectores $u = \\left(\\frac{1}{4}, -\\frac{1}{6}, \\frac{5}{6}\\right)$ y $v = \\left(\\frac{1}{5}, \\frac{3}{4}, -\\frac{2}{3}\\right)$, calcula el producto escalar de ambos vectores. (Solución: -0.63055)\n",
    "\n",
    "\n",
    "4. Dada la matriz $A=\\begin{pmatrix} 1&2&3\\\\7&8&9\\\\4&5&6\\end{pmatrix}$, calcula la matriz $Z=A^3+16A^2-A^{\\text{t}}+2I$, siendo $A^{\\text{t}}$ la transpuesta de $A$ e $I$ la matriz identidad $3\\times 3$. (Solución: $Z=\\begin{pmatrix} 847&1034&1232\\\\3130&3879&4633\\\\1986&2454&2933 \\end{pmatrix}$)\n",
    "\n",
    "\n",
    "5. Considera el vector $V=\\begin{pmatrix} 1\\\\7\\\\6 \\end{pmatrix}$. Calcula la matriz $ZV$, siendo $Z$ la matriz del ejercicio anterior. (Solución: $ZV=\\begin{pmatrix} 15477\\\\ 58081\\\\ 36762\\end{pmatrix}$)\n",
    "\n",
    "\n",
    "6. Calcula el determinante de la siguiente matriz (estas matrices se denominan _circulantes_ ). $C=\\begin{pmatrix} 1& 2& 3& 4& 5\\\\2& 3& 4& 5& 1 \\\\ 3& 4& 5& 1& 2\\\\ 4& 5& 1& 2& 3\\\\ 5& 1& 2& 3& 4\\end{pmatrix}$. (Ayuda: puedes introducir rápidamente la matriz C con el comando `C = la.circulant([1,2,3,4,5])[:,[0,4,3,2,1]]`) (Solución: 1875)"
   ]
  },
  {
   "cell_type": "code",
   "execution_count": null,
   "metadata": {},
   "outputs": [],
   "source": []
  }
 ],
 "metadata": {
  "kernelspec": {
   "display_name": "Python 3",
   "language": "python",
   "name": "python3"
  },
  "language_info": {
   "codemirror_mode": {
    "name": "ipython",
    "version": 3
   },
   "file_extension": ".py",
   "mimetype": "text/x-python",
   "name": "python",
   "nbconvert_exporter": "python",
   "pygments_lexer": "ipython3",
   "version": "3.8.5"
  }
 },
 "nbformat": 4,
 "nbformat_minor": 4
}
