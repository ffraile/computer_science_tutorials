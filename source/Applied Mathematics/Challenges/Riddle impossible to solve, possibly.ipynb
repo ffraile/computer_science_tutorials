{
 "cells": [
  {
   "cell_type": "markdown",
   "source": [
    "# A riddle that seems impossible to solve, possibly\n",
    "\n",
    "## Try me\n",
    "[![Open In Colab](https://colab.research.google.com/assets/colab-badge.svg)](https://colab.research.google.com/github/ffraile/computer_science_tutorials/blob/main/source/Applied%20Mathematics/Challenges/Riddle%20impossible%20to%20solve,%20possibly.ipynb)[![Binder](https://mybinder.org/badge_logo.svg)](https://mybinder.org/v2/gh/ffraile/computer_science_tutorials/main?labpath=source%2FApplied%20Mathematics%2FChallenges%2FRiddle%20impossible%20to%20solve,%20possibly.ipynb)\n",
    "\n",
    "## Introduction\n",
    "In this challenge we are going to prove or disprove the solution to a riddle that, according to this video seems \"impossible even if you know the answer\", at least according to this video:\n",
    "\n",
    "<iframe width=\"560\" height=\"315\" src=\"https://www.youtube.com/embed/iSNsgj1OCLA\" title=\"YouTube video player\" frameborder=\"0\" allow=\"accelerometer; autoplay; clipboard-write; encrypted-media; gyroscope; picture-in-picture\" allowfullscreen></iframe>\n",
    "\n",
    "The riddle goes like this:\n",
    "\n",
    "## Riddle description\n",
    "\n",
    "There are 100 prisoners identified with a number from 1-100 (or 0 - 99, makes no difference). They are given a possibility to be free, as follows.\n",
    "In a room, there are 100 boxes, each one numbered from 1-100 (or 0 - 99, who cares), and each one of them containing the identifier of one prisoner selected at random using a uniform probability distribution. Prisoners can enter the room, one by one, and with no means of communication with each other, open up to 50 out of the 100 boxes searching for their own number. If all of the prisoners find their own number in this 50 trials, then they are all released free. However, if only one out of the 100 fails to find his or her prisoner number, they will all remain imprisoned.\n",
    "\n",
    "Since the numbers of the prisoners are uniformly distributed in the boxes, the probability that a prisoner $i$ finds his or her identifier in any of the 50 boxes the prisoner can open is $P(A_i)=P_i = 50/100 = 1/2$. The probability that all the prisoners can find their number is:\n",
    "\n",
    "$$P = A_1 \\cap A_2 \\cap A_3 ... \\cap A_100 = \\prod_{i=1}^{100}P_i = 2^{-100} = 7.88e^{-31}$$\n",
    "\n",
    "Yes, the probability that all prisoners find their own identifier after 50 trials is really tiny, at least intuitively, but is there any strategy that prisoners can follow to maximize their chances?\n",
    "\n",
    "## The optimal strategy, possibly\n",
    "Well, according to the video, prisoners can follow the following strategy. Each one of them would open the box numbered with their identifier. Possibly, the number would not be his or her number, but regardless, he would then open the box numbered with the number he found, and will continue until opening the box with his number, or reaching the maximum of 50 boxes.\n",
    "According to graph theory, the probability that the maximum length of a loop in the random arrangement is 50 is 0.31, so following this strategy, the probability that they all go free is 0.31!!! their chances have increased  3.9297169e+29 times! This is a huge number!!! Let´s write it so that you can see how large this number is:\n",
    "\n",
    "392971690000000000000000000000000000000000\n",
    "\n",
    "According to the [OmniCalculator](https://www.omnicalculator.com/conversion/weird-units) if we count this many nanoseconds, we would need 902346016073 times the age of the universe to finish. This is unreal! But is it true?\n",
    "\n",
    "## The challenge\n",
    "You can use numpy arrays and computer programming to easily prove (or disprove) the effectiveness of this strategy, using **simulation**. You just need to create an array of length 100 containing a random distribution of the numbers 1-100 (or 0-99) assuming that the index of each item is the position of the box, and the value is the identifier of the prisoner. Then you can just try the strategy 100 times, to have one experiment, and check if all prisoners need to open 50 or less boxes until they find their number in the box, and repeat this a significant number of times (e.g 100000) to have a good statistic.\n",
    "Is it really this effective?\n",
    "And if not, what´s wrong in the video?"
   ],
   "metadata": {
    "collapsed": false,
    "pycharm": {
     "name": "#%% md\n"
    }
   }
  }
 ],
 "metadata": {
  "kernelspec": {
   "display_name": "Python 3",
   "language": "python",
   "name": "python3"
  },
  "language_info": {
   "codemirror_mode": {
    "name": "ipython",
    "version": 2
   },
   "file_extension": ".py",
   "mimetype": "text/x-python",
   "name": "python",
   "nbconvert_exporter": "python",
   "pygments_lexer": "ipython2",
   "version": "2.7.6"
  }
 },
 "nbformat": 4,
 "nbformat_minor": 0
}