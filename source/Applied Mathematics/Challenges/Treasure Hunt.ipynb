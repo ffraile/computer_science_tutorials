{
 "cells": [
  {
   "cell_type": "markdown",
   "source": [
    "# The Treasure Hunt\n",
    "\n",
    "## Try me\n",
    "[![Open In Colab](https://colab.research.google.com/assets/colab-badge.svg)](https://colab.research.google.com/github/ffraile/computer_science_tutorials/blob/main/source/Applied%20Mathematics/Challenges/Treasure%20Hunt.ipynb)[![Binder](https://mybinder.org/badge_logo.svg)](https://mybinder.org/v2/gh/ffraile/computer_science_tutorials/main?labpath=source%2FApplied%20Mathematics%2FChallenges%2FTreasure%20Hunt.ipynb)\n",
    "\n",
    "## Challenge Overview\n",
    "\n",
    "In a forgotten corner of an old mansion, a group of treasure hunters discovers a safe with a peculiar locking mechanism. It doesn't require a key or a combination; instead, it's unlocked using a sequence of weights. The safe has a digital scale and a set of weights, each marked with a distinct number from 1 to 100. To unlock the safe, the weights must be placed on the scale in a specific order to achieve a sequence of target weight sums. The safe's screen provides the first target sum, and once the hunters achieve this sum with a combination of weights, the safe automatically provides the next target sum, and so on. For instance, the internal mechanism might be programmed to provide the following sequence of target sums:\n",
    "\n",
    "\n",
    "Target sum: 100\n",
    "Target sum: 235\n",
    "Target sum: 347\n",
    "Target sum: 435\n",
    "\n",
    "To achieve this sequence of target sums, the hunters might place the weights on the scale in the following order:\n",
    "\n",
    "- Weights 1, 5, 6, 15, 16, 23, ..., 33, 37, 41, 45, 46, 55, 64, ...,  89, 95 to achieve a sum of 100\n",
    "- Then, add weights 2, 3, 7,  9, 12, 13, ..., 31, 34, 35, 36, 38, 39, ..., 97, 98 to achieve a sum of 235\n",
    "- Then, add weights 4, 8, 10, 11, 14, 17, ..., 32, 40, 42, 43, 44, 47, ..., 99, 100 to achieve a sum of 347\n",
    "- Finally, add the remaining weights to achieve a sum of 435\n",
    "\n",
    "The challenge for the treasure hunters is to determine the sequence of weights as quickly as possible. The hunters have access to modern technology, including a computer they can program to simulate different combinations.\n",
    "\n",
    "## Objectives\n",
    "\n",
    "- Develop an algorithm to simulate the locking mechanism of the safe.\n",
    "- Develop an algorithm that, given the weights, and target sums, is able to help the treasure hunters unlock the mechanism.\n",
    "- Optimize the algorithm to minimize the number of attempts required to unlock the safe.\n",
    "\n",
    "## Instructions\n",
    "\n",
    "1. Understand the locking mechanism and the rules for placing weights on the scale.\n",
    "2. Write a program that simulates the placement of weights and calculates the sum and determine the next target sum after a successful attempt (locking mechanism simulator).\n",
    "3. Understand the challenge of finding the correct sequence of weights to achieve the target sums. Analyze the combinatorial problem and figure out a strategy to solve it.\n",
    "4. Build a program that can find the correct sequence of weights to achieve the target sums.\n",
    "5. Make sure your program can handle many possibilities efficiently.\n",
    "\n",
    "## Details\n",
    "\n",
    "- **Difficulty Level**: Intermediate\n",
    "- **Skills Tested**: Combinatorics, Search Algorithms, Optimization, Python Programming\n",
    "- **Tools Required**: Python programming environment with libraries for combinatorial functions like Numpy (optional)\n",
    "\n",
    "## Hints\n",
    "\n",
    "- Explore (numpy or itertools) functions that can help you generate combinations of weights.\n",
    "- Generate all possible subsets of weights that could achieve a target sum.\n",
    "- Notice how the target sum changes with each successful attempt and think about what that could mean.\n",
    "- Instead of checking every combination, think of ways to eliminate possibilities that cannot meet the target sum criteria.\n",
    "- Research backtracking algorithms, which can help efficiently search through the possible combinations.\n",
    "\n",
    "## Analysis Questions\n",
    "\n",
    "- What is the mathematical probability of any random combination of weights matching a given target sum?\n",
    "- How does the inclusion or exclusion of certain weights affect the potential combinations for subsequent target sums?\n",
    "- What patterns might emerge in the sequence of target sums as the safe provides them, and how could these patterns influence your approach to finding solutions?\n",
    "- How might the principles of dynamic programming be applied to optimize the search for the correct sequence of weights?\n",
    "- In what ways does the need for efficiency in combinatorial problems like this one reflect challenges faced in real-world data analysis and computational tasks?\n",
    "\n"
   ],
   "metadata": {
    "collapsed": false
   }
  }
 ],
 "metadata": {
  "kernelspec": {
   "display_name": "Python 3",
   "language": "python",
   "name": "python3"
  },
  "language_info": {
   "codemirror_mode": {
    "name": "ipython",
    "version": 2
   },
   "file_extension": ".py",
   "mimetype": "text/x-python",
   "name": "python",
   "nbconvert_exporter": "python",
   "pygments_lexer": "ipython2",
   "version": "2.7.6"
  }
 },
 "nbformat": 4,
 "nbformat_minor": 0
}
