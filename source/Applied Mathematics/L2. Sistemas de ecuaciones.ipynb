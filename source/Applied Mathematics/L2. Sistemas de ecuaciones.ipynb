{
 "cells": [
  {
   "cell_type": "markdown",
   "metadata": {},
   "source": [
    "# Práctica 2. Sistemas de ecuaciones\n",
    "\n",
    "\n",
    "### 1. Introducción\n",
    "\n",
    "\n",
    "El objetivo de esta práctica es resolver **sistemas de ecuaciones lineales** de la forma $Ax=b$, donde $A$ es la matriz de coeficientes, $x$ es un vector columna formado por las incógnitas y $b$ es un vector columna formado por los términos independientes. Veremos cómo resolver este sistema tanto de _forma directa_ como de _forma iterativa_."
   ]
  },
  {
   "cell_type": "code",
   "execution_count": null,
   "metadata": {},
   "outputs": [],
   "source": [
    "import numpy as np\n",
    "from scipy import linalg as la"
   ]
  },
  {
   "cell_type": "markdown",
   "metadata": {},
   "source": [
    "### 2. Operaciones elementales por filas y matrices asociadas\n",
    "\n",
    "\n",
    "Como vimos en teoría, existen tres tipos de **operaciones elementales por filas** aplicables a una matriz $A$. A continuación se muestra su sencilla implementación en Python:\n",
    "\n",
    "\n",
    "1. Permutar las filas $i$ y $j$ de $A$: `A[[i-1,j-1],:]=A[[j-1,i-1],:]`.\n",
    "2. Multiplicar la fila $i$ de $A$ por un escalar $k \\neq 0$: `A[i-1,:]=k*A[i-1,:]`.\n",
    "3. Sumar a la fila $i$ de $A$ la fila $j$ multiplicada por $k\\neq 0$: `A[i-1,:]=A[i-1,:]+k*A[j-1,:]`.\n",
    "\n",
    "\n",
    "Apliquemos estas operaciones a la siguiente matriz, que representa la forma matricial de un sistema de ecuaciones lineales."
   ]
  },
  {
   "cell_type": "code",
   "execution_count": null,
   "metadata": {},
   "outputs": [],
   "source": [
    "A=np.array([[0,-2,3,9],[-4,6,0,-4],[2,-5,5,17]])\n",
    "print(A)"
   ]
  },
  {
   "cell_type": "code",
   "execution_count": null,
   "metadata": {},
   "outputs": [],
   "source": [
    "B=A.copy()                # guardamos en una nueva matriz B los primeros pasos del método de Gauss-Jordan\n",
    "\n",
    "B[[0,2],:]=B[[2,0],:]     # intercambiamos las filas 1 y 3\n",
    "print(B)\n",
    "\n",
    "B[1,:]=0.5*B[1,:]         # dividimos la segunda fila por 2\n",
    "print(B)\n",
    "\n",
    "B[1,:]=B[1,:]+B[0,:]      # a la segunda fila le sumamos la primera\n",
    "print(B)"
   ]
  },
  {
   "cell_type": "markdown",
   "metadata": {},
   "source": [
    "Recordemos que aplicar una operación elemental por filas a una matriz $A$ es equivalente a premultiplicar $A$ por una **matriz elemental**. Comprobémoslo con las operaciones anteriores."
   ]
  },
  {
   "cell_type": "code",
   "execution_count": null,
   "metadata": {},
   "outputs": [],
   "source": [
    "E1=np.eye(3)[[2,1,0],:]                   # matriz elemental asociada al intercambio de filas 1 y 3\n",
    "E2=np.eye(3)\n",
    "E2[1,1]=1/2                               # matriz elemental asociada a dividir la segunda fila por 2\n",
    "E3=np.eye(3)\n",
    "E3[1,0]=1                                 # matriz elemental asociada a sumarle a la fila 2 la fila 1\n",
    "\n",
    "print(E3@E2@E1@A)"
   ]
  },
  {
   "cell_type": "markdown",
   "metadata": {},
   "source": [
    "### 3. Forma escalonada reducida (Gauss-Jordan)\n",
    "\n",
    "\n",
    "Podríamos seguir operando \"manualmente\" para obtener la forma escalonada reducida de la matriz $A$, pero Python posee una instrucción que la calcula directamente. Para ello, debemos primeramente importar el paquete `sympy` y posteriormente aplicar la instrucción `sympy.Matrix(A).rref()`. Nos devolverá la **forma escalonada reducida** y también un vector que nos indica los índices de las columnas que se han ido usando como pivotes."
   ]
  },
  {
   "cell_type": "code",
   "execution_count": null,
   "metadata": {},
   "outputs": [],
   "source": [
    "import sympy\n",
    "\n",
    "B=sympy.Matrix(A).rref()\n",
    "print(B, \"\\n\")\n",
    "\n",
    "R=B[0]                    # asignamos a la variable R el primer elemento de B, i.e. la forma escalonada reducida de A\n",
    "print(R, \"\\n\")            # efectivamente, el primer elemento de B es la forma escalonada reducida de A\n",
    "display(R)                # una forma más elegante de que Python muestre una matriz"
   ]
  },
  {
   "cell_type": "markdown",
   "metadata": {},
   "source": [
    "### 4. Resolución de sistemas de ecuaciones\n",
    "\n",
    "\n",
    "De la matriz $R$ anterior, podemos deducir que la **solución** del sistema de ecuaciones asociado a la matriz $A$ es $(1,0,3)$. Comprobémoslo."
   ]
  },
  {
   "cell_type": "code",
   "execution_count": null,
   "metadata": {},
   "outputs": [],
   "source": [
    "# A es una matriz ampliada correspondiente al sistema de ecuaciones siguiente:\n",
    "\n",
    "# la matriz de coeficientes serían las tres primeras columnas de A, es decir, A[:,[0,1,2]]\n",
    "# el vector de términos independientes sería la última columna de A, es decir, A[:,3:4]\n",
    "# la solución del sistema es la última columna de la forma escalonada reducida R, es decir, R[:,3:4]\n",
    "\n",
    "# comprobemos que (1,0,3) es solución del sistema\n",
    "\n",
    "print(A[:,[0,1,2]]@R[:,3:4])\n",
    "print(A[:,3:4])"
   ]
  },
  {
   "cell_type": "markdown",
   "metadata": {},
   "source": [
    "Veamos ahora que el sistema $\\begin{cases} x+ 2y + z = 4 \\\\ 2x + y - z = 2 \\\\ 7x + 8y + z = 16 \\end{cases}$ es compatible indeterminado con solución $(\\lambda, 2-\\lambda, \\lambda), \\lambda\\in \\mathbb{R}$."
   ]
  },
  {
   "cell_type": "code",
   "execution_count": null,
   "metadata": {},
   "outputs": [],
   "source": [
    "A=np.array([[1,2,1,4],[2,1,-1,2],[7,8,1,16]])\n",
    "R=sympy.Matrix(A).rref()\n",
    "\n",
    "display(R[0])"
   ]
  },
  {
   "cell_type": "markdown",
   "metadata": {},
   "source": [
    "Recordemos que la fórmula escalonada reducida también nos puede servir para hallar **inversas de matrices**. Veamos un ejemplo con la matriz $A$ inicial. Usaremos su inversa (calculada mediante el método de Gauss-Jordan) para resolver el sistema de ecuaciones asociado."
   ]
  },
  {
   "cell_type": "code",
   "execution_count": null,
   "metadata": {},
   "outputs": [],
   "source": [
    "A=np.array([[0,-2,3,9],[-4,6,0,-4],[2,-5,5,17]])\n",
    "B=np.hstack([A[:,0:3],np.eye(3)])                    # matriz ampliada, adjuntando la matriz identidad a la derecha de A\n",
    "print(B)"
   ]
  },
  {
   "cell_type": "code",
   "execution_count": null,
   "metadata": {},
   "outputs": [],
   "source": [
    "B1=sympy.Matrix(B).rref()\n",
    "B2=B1[0]\n",
    "\n",
    "inversaB=B2[:,3:]                # recordemos que la inversa es la submatriz que queda a la derecha de la matriz ampliada\n",
    "inversaB@(A[:,0:3])              # efectivamente, el producto de la inversa con A da la matriz identidad"
   ]
  },
  {
   "cell_type": "code",
   "execution_count": null,
   "metadata": {
    "scrolled": true
   },
   "outputs": [],
   "source": [
    "inversaB@A[:,3:]                 # otra forma de obtener que la solución del sistema inicial es (1,0,3)"
   ]
  },
  {
   "cell_type": "markdown",
   "metadata": {},
   "source": [
    "Python también posee un comando para resolver directamente sistemas de ecuaciones. Se trata de `la.solve(A,b)` , donde $A$ es nuestra matriz de coeficientes y $b$ el vector de términos independientes."
   ]
  },
  {
   "cell_type": "code",
   "execution_count": null,
   "metadata": {},
   "outputs": [],
   "source": [
    "print(la.solve(A[:,0:3], A[:,3:]))"
   ]
  },
  {
   "cell_type": "markdown",
   "metadata": {},
   "source": [
    "Sin embargo, si intentamos resolver el sistema compatible indeterminado que vimos antes, Python nos devolverá una solución también, aunque nos aparecerá un mensaje de _warning_ avisándonos de que posiblemente la matriz tenga determinante 0. Es por ello que, antes de usar `la.solve`, es preferible estudiar el rango o el determinante de la matriz de coeficientes."
   ]
  },
  {
   "cell_type": "code",
   "execution_count": null,
   "metadata": {},
   "outputs": [],
   "source": [
    "A=np.array([[1,2,1,4],[2,1,-1,2],[7,8,1,16]])\n",
    "print(la.solve(A[:,0:3], A[:,3:]))"
   ]
  },
  {
   "cell_type": "code",
   "execution_count": null,
   "metadata": {},
   "outputs": [],
   "source": [
    "la.det(A[:,0:3])            # efectivamente, A no es invertible, luego el sistema NO es compatible determinado"
   ]
  },
  {
   "cell_type": "markdown",
   "metadata": {},
   "source": [
    "### 5. Resolución iterativa de sistemas de ecuaciones\n",
    "\n",
    "\n",
    "En matemáticas computacionales, un **método iterativo** intenta resolver un problema a través de aproximaciones sucesivas a la solución, partiendo de una estimación inicial. Los métodos iterativos han demostrado su posible ventaja en la resolución de problemas lineales que involucran un gran número de variables (cientos, miles, millones...) porque la precisión de la solución puede ser determinada sin necesitar para ello un alto número de iteraciones.\n",
    "\n",
    "A continuación estudiamos **el método de Jacobi** para la resolución de sistemas de ecuaciones lineales $Ax=b$. Necesitamos como hipótesis las dos siguientes condiciones:\n",
    "\n",
    "\n",
    "1. Que el sistema sea compatible determinado (i.e. $|A|\\neq 0$).\n",
    "2. Que todos los elementos de la diagonal de $A$ sean no nulos.\n",
    "\n",
    "\n",
    "Para ello, descomponemos $A=L+D+U$ como suma de una matriz triangular inferior $L$, una matriz diagonal $D$ y una matriz triangular superior $U$ (se suman, no confundir con la factorización LDU como producto!). Por ejemplo, si $A=\\begin{pmatrix} 0&-2&3\\\\-4&6&0\\\\2&-5&5\\end{pmatrix}$, entonces tomando $$L=\\begin{pmatrix} 0&0&0\\\\-4&0&0\\\\2&-5&0 \\end{pmatrix}, D=\\begin{pmatrix} 0&0&0\\\\0&6&0\\\\0&0&5\\end{pmatrix} \\; \\text{y} \\; U=\\begin{pmatrix} 0&-2&3\\\\0&0&0\\\\0&0&0\\end{pmatrix},$$ claramente se cumple que $A=L+D+U$.\n",
    "\n",
    "Por tanto, un vector $x$ es solución del sistema\n",
    "\n",
    "$$ Ax=b \\; \\Longleftrightarrow \\; (L+D+U)x=b \\; \\Longleftrightarrow \\; Dx=b-(L+U)x \\; \\Longleftrightarrow \\; x=D^{-1}[b-(L+U)x],$$ \n",
    "\n",
    "donde $D$ es invertible por la hipótesis 2 anterior y su inversa es muy sencilla de calcular (basta con hallar los inversos de cada uno de los elementos de la diagonal).\n",
    "\n",
    "\n",
    "El **método de Jacobi** se basa en la igualdad anterior. Partiendo de una aproximación inicial $x_0$, calculamos $x_1=D^{-1}[b-(L+U)x_0]$, posteriormente $x_2=D^{-1}[b-(L+U)x_1]$, etc. Si esta sucesión $\\{x_0, x_1, x_2, \\ldots\\}$ es _convergente_ , entonces su límite será solución del sistema. \n",
    "\n",
    "\n",
    "Veamos cómo funciona dicho método intentando resolver el sistema: $\\begin{cases} 10x+3y+z=14 \\\\ 2x-10y+3z=-5\\\\ x+3y+10z=14\\end{cases}$."
   ]
  },
  {
   "cell_type": "code",
   "execution_count": null,
   "metadata": {},
   "outputs": [],
   "source": [
    "M=np.array([[10,3,1,14],[2,-10,3,-5],[1,3,10,14]])\n",
    "A=M[:,0:3]\n",
    "b=M[:,3:]\n",
    "print(A, \"\\n\")       \n",
    "print(la.det(A), \"\\n\")     # observemos que A cumple ambas condiciones requeridas para el método de Jacobi\n",
    "print(b)"
   ]
  },
  {
   "cell_type": "markdown",
   "metadata": {},
   "source": [
    "Ahora realizamos la descomposición $A=L+D+U$. Para ello, aparte del conocido comando `np.diag(np.diag(A))` para hallar $D$, nos ayudaremos de las instrucciones `np.tril(A)` y `np.triu(A)`, las cuales nos devuelven las _partes triangulares inferiores y superiores_ de la matriz $A$, **incluyendo la diagonal** (la cual, por tanto, deberemos excluir restándole la matriz D)."
   ]
  },
  {
   "cell_type": "code",
   "execution_count": null,
   "metadata": {},
   "outputs": [],
   "source": [
    "D=np.diag(np.diag(A))\n",
    "print(D,\"\\n\")\n",
    "\n",
    "L=np.tril(A)               \n",
    "print(L)                   # observemos que debemos quitarle la diagonal, luego le restamos D\n",
    "L=np.tril(A)-D\n",
    "print(L, \"\\n\")\n",
    "\n",
    "U=np.triu(A)-D\n",
    "print(U, \"\\n\") \n",
    "\n",
    " \n",
    "print(L+D+U)               # A=L+D+U"
   ]
  },
  {
   "cell_type": "markdown",
   "metadata": {},
   "source": [
    "Partiendo, por ejemplo, del vector inicial (también llamado \"punto semilla\") $x_0=(0,0,0)$, realicemos 6 iteraciones del método de Jacobi. (Se puede empezar desde cualquier punto semilla, pero elegimos (0,0,0) por comodidad.)"
   ]
  },
  {
   "cell_type": "code",
   "execution_count": null,
   "metadata": {},
   "outputs": [],
   "source": [
    "x0=np.array([[0],[0],[0]])   \n",
    "x1=la.inv(D)@(b-(L+U)@x0)    # aplicamos el método de Jacobi, es decir, x1=D^(-1) * (b-(L+U)*x0)\n",
    "x1                           # primera iteración del método de Jacobi, es decir, partiendo de x0 llegamos a x1"
   ]
  },
  {
   "cell_type": "code",
   "execution_count": null,
   "metadata": {},
   "outputs": [],
   "source": [
    "x2=la.inv(D)@(b-(L+U)@x1)    \n",
    "print(x2)                    # segunda iteración del método de Jacobi, es decir, partiendo de x1 llegamos a x2\n",
    "x3=la.inv(D)@(b-(L+U)@x2)\n",
    "print(x3)                    # tercera iteración del método de Jacobi, es decir, partiendo de x2 llegamos a x3\n",
    "x4=la.inv(D)@(b-(L+U)@x3)\n",
    "print(x4)                    # cuarta iteración\n",
    "x5=la.inv(D)@(b-(L+U)@x4)    \n",
    "print(x5)                    # quinta iteración\n",
    "x6=la.inv(D)@(b-(L+U)@x5)\n",
    "print(x6)                    # sexta iteración"
   ]
  },
  {
   "cell_type": "markdown",
   "metadata": {},
   "source": [
    "Estas iteraciones también se pueden hacer de manera más compacta mediante un bucle _for_ ."
   ]
  },
  {
   "cell_type": "code",
   "execution_count": null,
   "metadata": {
    "scrolled": true
   },
   "outputs": [],
   "source": [
    "x=np.array([[0],[0],[0]])  \n",
    "for i in range(6):\n",
    "    x=la.inv(D)@(b-(L+U)@x)       # fijaos que si usamos un bucle for, el valor de x hay que ir sobreescribiéndolo.\n",
    "print(x)                          # coincide obviamente con la iteración x6 calculada anteriormente"
   ]
  },
  {
   "cell_type": "markdown",
   "metadata": {},
   "source": [
    "Podemos ver cómo las iteraciones tienden al vector $v=(1,1,1)$, el cual se puede comprobar que es solución del sistema. Trabajemos ahora con la matriz del principio de esta práctica, la cual representaba la matriz ampliada de un sistema de ecuaciones lineales con solución $(1,0,3)$."
   ]
  },
  {
   "cell_type": "code",
   "execution_count": null,
   "metadata": {},
   "outputs": [],
   "source": [
    "M=np.array([[0,-2,3,9],[-4,6,0,-4],[2,-5,5,17]])\n",
    "A=M[:,0:3]\n",
    "b=M[:,3:]\n",
    "print(A)\n",
    "print(b)"
   ]
  },
  {
   "cell_type": "markdown",
   "metadata": {},
   "source": [
    "$A$ no cumple la hipótesis 2, pero bastará con permutar las filas 1 y 3 (de $A$ y de $b$, o lo que es lo mismo, de $M$) para que sí la cumpla. Esto no afecta a nuestro sistema, pues se trata del mismo sistema de ecuaciones (pero con las ecuaciones intercambiadas). Además, $A$ cumple la condición 1 pues ya vimos que tenía inversa."
   ]
  },
  {
   "cell_type": "code",
   "execution_count": null,
   "metadata": {},
   "outputs": [],
   "source": [
    "M=M[[2,1,0],:]\n",
    "A=M[:,0:3]\n",
    "b=M[:,3:]\n",
    "print(A)\n",
    "print(b)"
   ]
  },
  {
   "cell_type": "markdown",
   "metadata": {},
   "source": [
    "Aplicamos ahora el método de Jacobi, con 10 iteraciones, partiendo también del punto semilla $(0,0,0)$."
   ]
  },
  {
   "cell_type": "code",
   "execution_count": null,
   "metadata": {},
   "outputs": [],
   "source": [
    "D=np.diag(np.diag(A))\n",
    "L=np.tril(A)-D\n",
    "U=np.triu(A)-D\n",
    "x=np.array([[0],[0],[0]])  \n",
    "for i in range(10):\n",
    "    x=la.inv(D)@(b-(L+U)@x)   \n",
    "print(x)"
   ]
  },
  {
   "cell_type": "code",
   "execution_count": null,
   "metadata": {},
   "outputs": [],
   "source": [
    "# observemos la diferencia de escribir \"print(x)\" a la altura del bucle for (lo que hemos hecho arriba),\n",
    "# o un espacio a la derecha del bucle for (lo que vamos a hacer ahora)\n",
    "\n",
    "\n",
    "x=np.array([[0],[0],[0]])  \n",
    "for i in range(10):\n",
    "    x=la.inv(D)@(b-(L+U)@x)   \n",
    "    print(x)"
   ]
  },
  {
   "cell_type": "markdown",
   "metadata": {},
   "source": [
    "En este caso, podemos ver cómo las iteraciones van fluctuando y haciéndose cada vez más grandes los valores, luego **no podemos afirmar** que el método de Jacobi converge a una solución. ¿Porqué pasa esto? Porque aunque $A$ cumpla ambas condiciones requeridas, el método puede no converger, i.e. son _condiciones necesarias pero no suficientes_ . Veamos una importante propiedad que sí que nos permitirá asegurar la existencia de un vector límite.\n",
    "\n",
    "\n",
    "**Definición.** Una matriz cuadrada $A$ es **estrictamente diagonalmente dominante** (por filas) si en todas las filas el valor absoluto del elemento de la diagonal es más grande que la suma de los valores absolutos del resto de los elementos de esta fila. Es decir, para todo $i$ se cumple que $|a_{ii}|>\\displaystyle\\sum_{j\\neq i} |a_{ij}|$.\n",
    "\n",
    "\n",
    "**Teorema.** Si una matriz cuadrada $A$ es _estrictamente diagonalmente dominante_ , entonces el método de Jacobi converge.\n",
    "\n",
    "\n",
    "Como podemos comprobar, la matriz $\\begin{pmatrix} 10&3&1\\\\ 2&-10&3\\\\1&3&10\\end{pmatrix}$ sí es estrictamente diagonal dominante, luego aplicando el teorema anterior ya podíamos afirmar que el método de Jacobi iba a converger. Sin embargo, la matriz $\\begin{pmatrix} 0&-2&3\\\\-4&6&0\\\\2&-5&5\\end{pmatrix}$, aparte de no cumplir la condición 1, no es estrictamente diagonal dominante ni tras intercambiar las filas 1 y 3, por lo que a priori no sabíamos si el método iba a converger o no.\n",
    "\n",
    "En resumen, si la matriz de coeficientes es estrictamente diagonal dominante, el método de Jacobi **siempre converge**. En cambio, si no es estrictamente diagonal dominante, **puede converger o puede que no**, puede pasar cualquier cosa."
   ]
  },
  {
   "attachments": {
    "grafo.PNG": {
     "image/png": "[encoded data removed]"
    }
   },
   "cell_type": "markdown",
   "metadata": {},
   "source": [
    "### 6. Aplicaciones: redes de flujo\n",
    "\n",
    "\n",
    "Cuando investigamos el **flujo** de una cantidad **a través de una red** nos aparecen **sistemas de ecuaciones lineales**. Estas redes las podemos encontrar en diversos campos de la ciencia, economía, estadística o ingeniería. Dos ejemplos de este tipo son los patrones de flujo de tráfico a través de una ciudad y la distribución de productos de los fabricantes a los consumidores por medio de una red de distribuidores y vendedores.\n",
    "\n",
    "\n",
    "Una red consta de un conjunto de puntos, llamados nodos (o vértices), y arcos dirigidos que conectan todos o parte de los nodos. El flujo está indicado por un número o una variable. Un flujo de redes tiene que cumplir las siguientes condiciones:\n",
    "\n",
    "\n",
    "1. El flujo total que entra a un nodo es igual al flujo total que sale del nodo.\n",
    "2. El flujo total que entra dentro de la red es igual al flujo total que sale de la red.\n",
    "\n",
    "\n",
    "\n",
    "**Ejemplo.** Consideremos una pequeña red cerrada de tubos a través de los cuales fluye un líquido como se describe en el siguiente grafo:\n",
    "\n",
    "\n",
    "![grafo.PNG](attachment:grafo.PNG)\n",
    "\n",
    "Los arcos representan los tubos y las intersecciones entre los tubos corresponden a los nodos de la red. El peso de cada arco indica la cantidad de litros de líquido que fluye por hora y las flechas indican las direcciones de los flujos.\n",
    "\n",
    "\n",
    "A partir de las condiciones básicas de todo flujo de redes y de la descripción de la red concreta, podemos obtener el siguiente sistema de ecuaciones, donde cada nodo da lugar a una ecuación lineal.\n",
    "\n",
    "\n",
    "- Nodo A: $x + y = 20$\n",
    "- Nodo B: $z + 20 = t$\n",
    "- Nodo C: $y + z = 20$\n",
    "- Nodo D: $x + 10 = u$\n",
    "- Nodo E: $u + 10 = t$\n",
    "\n",
    "Para resolver el sistema, escribimos su matriz ampliada y hallamos su forma escalonada reducida."
   ]
  },
  {
   "cell_type": "code",
   "execution_count": null,
   "metadata": {},
   "outputs": [],
   "source": [
    "M=np.array([[1,1,0,0,0,20],[0,0,1,-1,0,-20],[0,1,1,0,0,20],[1,0,0,0,-1,-10],[0,0,0,-1,1,-10]])\n",
    "\n",
    "B=sympy.Matrix(M).rref()\n",
    "B[0]"
   ]
  },
  {
   "cell_type": "markdown",
   "metadata": {},
   "source": [
    "Como se puede ver, el sistema es compatible indeterminado con solución $(-10 + \\lambda, 30 -\\lambda, -10 + \\lambda, 10 + \\lambda, \\lambda)$, con $\\lambda \\in \\mathbb{R}$. Como las incógnitas son litros, tienen que ser mayores o iguales que cero, luego $10\\leq \\lambda \\leq 30$. Concluimos que hay una cantidad infinita de posibilidades para la distribución de flujos (una para cada valor de $\\lambda$ en el intervalo $[10, 30]$)."
   ]
  },
  {
   "attachments": {
    "flujo.PNG": {
     "image/png": "[encoded data removed]"
    },
    "rejilla.PNG": {
     "image/png": "[encoded data removed]"
    }
   },
   "cell_type": "markdown",
   "metadata": {},
   "source": [
    "### 7. Ejercicios\n",
    "\n",
    "\n",
    "1. Sea $C = \\begin{pmatrix} 0& 6 &13\\\\ 0 &2 &4\\\\ 1& 0& 0 \\end{pmatrix}$. Calcula (a mano) cuatro matrices elementales tales que $\\mathcal{E}_4\\mathcal{E}_3\\mathcal{E}_2\\mathcal{E}_1 C = I_{3}$. Comprueba (con Python) que tal producto es $I_3$.\n",
    "\n",
    "\n",
    "2. Estudia el número de soluciones del siguiente sistema y comprueba mediante `sympy.Matrix().rref()` si es compatible. Además, estudia (usando Python) si $(\\frac{33}{2},-11,\\frac{5}{2}, \\frac{1}{2})$ y $(\\frac{33}{2},-11,\\frac{11}{2},\\frac{1}{2})$ son soluciones o no. \n",
    "\n",
    "$$ \\begin{cases} x + y - z + 2t = 1 \\\\ 2x + 3y + 4t = 2 \\\\ y + z + 3t = -4 \\\\ -x - 2y - z - 2t = -1  \\end{cases}$$\n",
    "\n",
    "\n",
    "3. Considera el sistema de ecuaciones siguiente. \n",
    "\n",
    "$$\\begin{cases} 0.2x + 2.2y + 4.5z = 0.7 \\\\ 1.3x + 3.7y + 2.1z = 1.2 \\\\ 4.2x + 3.1y + 0.4z = 5.2 \\end{cases}$$\n",
    "\n",
    "- Tomando el vector nulo como aproximación inicial, obtén 20 aproximaciones aplicando el método de Jacobi. ¿Es convergente dicho método?\n",
    "- Reordena las ecuaciones de este sistema para que su matriz asociada sea estrictamente diagonal dominante. Comprueba que en ese caso el método de Jacobi converge y calcula la aproximación obtenida usando 20 iteraciones.\n",
    "\n",
    "\n",
    "4. Una placa metálica cuadrada tiene una temperatura constante en cada uno de sus cuatro bordes. Para calcular la temperatura en puntos del interior de la misma, se superpone una rejilla virtual conectando puntos del borde con puntos interiores (ver el ejemplo en la figura) y se supone que la temperatura en cada punto interior es el promedio de las temperaturas en los 4 puntos a los que está conectado por medio de la rejilla. \n",
    "\n",
    "![rejilla.PNG](attachment:rejilla.PNG)\n",
    "\n",
    "Así, si $T_i$ denota la temperatura en el punto $i$, tenemos que, por ejemplo, $T_1 = \\frac{1}{4}(50 + 100 + T_2 + T_3)$. Calcula las aproximaciones de las temperaturas en los 4 puntos internos de la rejilla con el método de Jacobi, usando 11 iteraciones y a partir de una aproximación inicial nula.\n",
    "\n",
    "\n",
    "5. En la figura siguiente se muestra el flujo de tráfico (en vehículos por hora) en una red de calles (los nodos del grafo representan las intersecciones). Encuentra las dependencias entre los flujos de tráfico de las calles. ¿Cuál es el flujo de tráfico cuando $u = 50$, $z = 150$?\n",
    "\n",
    "![flujo.PNG](attachment:flujo.PNG)"
   ]
  },
  {
   "cell_type": "code",
   "execution_count": null,
   "metadata": {},
   "outputs": [],
   "source": []
  },
  {
   "cell_type": "code",
   "execution_count": null,
   "metadata": {},
   "outputs": [],
   "source": []
  }
 ],
 "metadata": {
  "kernelspec": {
   "display_name": "Python 3",
   "language": "python",
   "name": "python3"
  },
  "language_info": {
   "codemirror_mode": {
    "name": "ipython",
    "version": 3
   },
   "file_extension": ".py",
   "mimetype": "text/x-python",
   "name": "python",
   "nbconvert_exporter": "python",
   "pygments_lexer": "ipython3",
   "version": "3.8.5"
  }
 },
 "nbformat": 4,
 "nbformat_minor": 4
}
