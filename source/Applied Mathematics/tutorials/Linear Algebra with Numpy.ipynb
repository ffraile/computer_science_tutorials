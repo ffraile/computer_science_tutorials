{
 "cells": [
  {
   "cell_type": "markdown",
   "source": [
    "# Linear Algebra with Numpy\n",
    "## Try me\n",
    "[![Open In Colab](https://colab.research.google.com/assets/colab-badge.svg)](https://colab.research.google.com/github/ffraile/computer_science_tutorials/blob/main/source/Applied%20Mathematics/tutorials/Linear%20Algebra%20with%20Numpy.ipynb)[![Binder](https://mybinder.org/badge_logo.svg)](https://mybinder.org/v2/gh/ffraile/computer_science_tutorials/main?labpath=source%2FApplied%20Mathematics%2Ftutorials%2FLinear%20Algebra%20with%20Numpy.ipynb)\n",
    "## Introduction\n",
    "This tutorial provides an overview of Linear Algebra operations that can be performed with Numpy. Until now, we have learned to perform the same operations to lists of numbers using repetition loop. However, linear algebra operations with arrays allow us to build the same programming logic more effectively, just by using one operation. This paradigm is known as array programming. This notebook provides an introduction to linear algebra with Numpy and compares code snippets performing the same operations with linear algebra operations and repetition loops.\n",
    "\n",
    "\n",
    "$$c = [c_1, c_2, c_3, ..., c_n]$$\n",
    "\n",
    "$$v = [v_1, v_2, v_3, ...., v_n]$$\n",
    "\n",
    "$$d = c·v = c_1*v_1 + c_2*v_2 + c_3*v_3 + ... + c_n*v_n$$\n",
    "\n",
    "$$d = c·v = \\sum_{i_1}{n}{c_i*v_i}$$\n",
    "\n",
    "To use Numpy, we need to import the library. We will use the alias np to refer to Numpy:"
   ],
   "metadata": {
    "collapsed": false,
    "pycharm": {
     "name": "#%% md\n"
    }
   }
  },
  {
   "cell_type": "code",
   "execution_count": null,
   "outputs": [],
   "source": [
    "import numpy as np"
   ],
   "metadata": {
    "collapsed": false,
    "pycharm": {
     "name": "#%%\n"
    }
   }
  },
  {
   "cell_type": "markdown",
   "source": [
    "## Linear algebra operations\n",
    "### Dot product\n",
    "Recall that, in linear algebra, the dot product or scalar product of two vectors is the sum of the product of the members in the same position of the array. That is, imagine we have two vectors with n elements, the dot vector can be defined like:\n",
    "#### Dot product in Python from scratch\n",
    "Implementing the dot product in Python from scratch is rather straight-forward, for instance, we can initialise the result variable to zero and use a for loop to iteratively sum the product of the members of the two vectors, like:"
   ],
   "metadata": {
    "collapsed": false,
    "pycharm": {
     "name": "#%% md\n"
    }
   }
  },
  {
   "cell_type": "code",
   "execution_count": 2,
   "outputs": [
    {
     "name": "stdout",
     "output_type": "stream",
     "text": [
      "89\n"
     ]
    }
   ],
   "source": [
    "an_array= [1, 2,3, 5]\n",
    "another_array = [6, 7, 8, 9]\n",
    "dot_product = 0\n",
    "for j in range(len(an_array)):\n",
    "  dot_product += an_array[j]*another_array[j]\n",
    "print(dot_product)\n"
   ],
   "metadata": {
    "collapsed": false,
    "pycharm": {
     "name": "#%%\n"
    }
   }
  },
  {
   "cell_type": "markdown",
   "source": [
    "#### Dot Product using Numpy\n",
    "Numpy provides convenient methods to implement the dot product. You can use the standard Python matrix product operator '@' to perform the scalar product of two vectors:\n"
   ],
   "metadata": {
    "collapsed": false,
    "pycharm": {
     "name": "#%% md\n"
    }
   }
  },
  {
   "cell_type": "code",
   "execution_count": 4,
   "metadata": {
    "pycharm": {
     "name": "#%%\n"
    }
   },
   "outputs": [
    {
     "name": "stdout",
     "output_type": "stream",
     "text": [
      "55\n"
     ]
    }
   ],
   "source": [
    "a = np.array([1, 2, 3, 4, 5])\n",
    "b = np.array([1, 2, 3, 4, 5])\n",
    "\n",
    "c = a@b\n",
    "print(c)"
   ]
  },
  {
   "cell_type": "markdown",
   "metadata": {
    "pycharm": {
     "name": "#%% md\n"
    }
   },
   "source": [
    "The [dot](https://numpy.org/doc/stable/reference/generated/numpy.dot.html) function works just the same:"
   ]
  },
  {
   "cell_type": "code",
   "execution_count": 5,
   "metadata": {
    "pycharm": {
     "name": "#%%\n"
    }
   },
   "outputs": [
    {
     "name": "stdout",
     "output_type": "stream",
     "text": [
      "55\n"
     ]
    }
   ],
   "source": [
    "c = np.dot(a,b)\n",
    "print(c)"
   ]
  },
  {
   "cell_type": "markdown",
   "source": [],
   "metadata": {
    "collapsed": false,
    "pycharm": {
     "name": "#%% md\n"
    }
   }
  },
  {
   "cell_type": "markdown",
   "metadata": {
    "pycharm": {
     "name": "#%% md\n"
    }
   },
   "source": [
    "### Matrix product\n",
    "The Matrix product is an extension of the scalar product to 2D vectors or matrix. The result of the matrix product is another array where each member is the scalar product of the elements of the first matrix in the same position along the first axis (or row) and the elements of the second matrix in the same position along the second axis (or column). Using mathematical notation, we can define the matrix product as:\n",
    "\n",
    "$$A = \t\\begin{bmatrix}\n",
    "a_{11} & a_{12} & ... & a_{1p}\\\\\n",
    "a_{21} & a_{22} & ... & a_{2p}\\\\\n",
    "... & ... & ... & ... \\\\\n",
    "a_{m1} & a_{m2} & ... & a_{mp}\n",
    "\\end{bmatrix}$$\n",
    "\n",
    "$$B = \t\\begin{bmatrix}\n",
    "b_{11} & b_{12} & ... & b_{1n}\\\\\n",
    "a_{21} & a_{22} & ... & b_{2n}\\\\\n",
    "... & ... & ... & ... \\\\\n",
    "a_{p1} & b_{p2} & ... & b_{pn}\n",
    "\\end{bmatrix}$$\n",
    "\n",
    "$$C = A·B = \\begin{bmatrix}\n",
    "c_{11} & c_{12} & ... & c_{1n}\\\\\n",
    "c_{21} & c_{22} & ... & c_{2n}\\\\\n",
    "... & ... & ... & ... \\\\\n",
    "c_{m1} & c_{m2} & ... & c_{mn}\n",
    "\\end{bmatrix}$$\n",
    "\n",
    "$$c_{ij} = \\sum_{c=1}^{p}{a_{ic}*b_{jc}}$$\n",
    "\n",
    "That, is, given a matrix $A$ of shape $mxp$ and a matrix $B$ of shape $pxn$ the result of the matrix product is another matrix of shape $mxn$ where the element in row $i$ and column $j$ is the scalar product of the $i^{th}$ row (row in position i) of $A$ and the $j^{th}$ column of $B$ ($i \\in [1, 2, ..., m], j \\in [1, 2, ..., n]$. Note that for the matrix product to work, the number of elements of the rows of A must be equal to the number of elements of the columns of B.\n",
    "\n",
    "#### Matrix product from scratch\n",
    "If we need to implement the matrix product from scratch we can use nested ```for``` loops to travel the axis of the matrices (one for loop to traverse the rows (first axis) of $A$, and another one to traverse the columns (second axis) of $B$),  and an additional ```for``` loop to implement the scalar product, just as in the previous section:"
   ]
  },
  {
   "cell_type": "code",
   "execution_count": 5,
   "outputs": [
    {
     "name": "stdout",
     "output_type": "stream",
     "text": [
      "[[22, 28], [49, 64]]\n"
     ]
    }
   ],
   "source": [
    "a_matrix = [[1, 2, 3],[4, 5, 6]]\n",
    "another_matrix = [[1, 2],[3, 4],[5, 6]]\n",
    "m = len(a_matrix)\n",
    "p= len(a_matrix[0])\n",
    "n = len(another_matrix[0])\n",
    "\n",
    "#initialise the matrix as a zero matrix using comprehension\n",
    "matrix_product = [ [ 0 for i in range(m) ] for j in range(n) ]\n",
    "\n",
    "for i in range(m):\n",
    "  for j in range(n):\n",
    "    for c in range(p):\n",
    "      matrix_product[i][j]+=a_matrix[i][c]*another_matrix[c][j]\n",
    "\n",
    "print(matrix_product)"
   ],
   "metadata": {
    "collapsed": false,
    "pycharm": {
     "name": "#%%\n"
    }
   }
  },
  {
   "cell_type": "markdown",
   "source": [
    "#### Matrix product with Numpy\n",
    "In Numpy, the implementation of the matrix product is equivalent to the implementation of the dot product. The standard Python operator ```@``` or the ```np.dot``` function can be used to perform a matrix product, but the ```@``` operator is preferred:"
   ],
   "metadata": {
    "collapsed": false,
    "pycharm": {
     "name": "#%% md\n"
    }
   }
  },
  {
   "cell_type": "code",
   "execution_count": 8,
   "metadata": {
    "pycharm": {
     "name": "#%%\n"
    }
   },
   "outputs": [
    {
     "name": "stdout",
     "output_type": "stream",
     "text": [
      "[[ 7]\n",
      " [11]]\n",
      "[[ 7]\n",
      " [11]]\n"
     ]
    }
   ],
   "source": [
    "A = np.array([[1, 3], [3,4]])  # this is a 2x2 matrix\n",
    "b = np.array([[1], [2]])       #this is a column vector (2x1 matrix)\n",
    "\n",
    "C = np.dot(A, b)\n",
    "print(C)\n",
    "\n",
    "C = A @ b\n",
    "print(C)"
   ]
  },
  {
   "cell_type": "markdown",
   "metadata": {
    "pycharm": {
     "name": "#%% md\n"
    }
   },
   "source": [
    "### Transpose\n",
    "The ```transpose()``` method returns the transpose of a matrix or vector. Recall that the transpose of a matrix of shape $mxn$ is another matrix of shape $nxm$. In mathematical notation, the transpose of matrix $A$ is noted as $A^T$, for example:\n",
    "\n",
    "$$A = \\begin{bmatrix}\n",
    "1 & 2 & 3 & 4\\\\\n",
    "5 & 6 & 7 & 8\n",
    "\\end{bmatrix}$$\n",
    "\n",
    "$$A^T = \\begin{bmatrix}\n",
    "1 & 5\\\\\n",
    "2 & 6\\\\\n",
    "3 & 7\\\\\n",
    "4 & 8\n",
    "\\end{bmatrix}$$\n",
    "\n",
    "In Numpy, the method ```transponse()``` of a Numpy transpose object returns the transpose:"
   ]
  },
  {
   "cell_type": "code",
   "execution_count": 10,
   "metadata": {
    "pycharm": {
     "name": "#%%\n"
    }
   },
   "outputs": [
    {
     "name": "stdout",
     "output_type": "stream",
     "text": [
      "A is: \n",
      "[[1 3]\n",
      " [3 4]\n",
      " [5 6]]\n",
      "And it´s shape is:\n",
      "(3, 2)\n",
      "The transpose is:\n",
      "[[1 3 5]\n",
      " [3 4 6]]\n",
      "And its shape:\n",
      "(2, 3)\n"
     ]
    }
   ],
   "source": [
    "A = np.array([[1, 3], [3,4], [5, 6]])  # this is a 3x2 matrix\n",
    "print(\"A is: \")\n",
    "print(A)\n",
    "print(\"And it´s shape is:\")\n",
    "print(A.shape)\n",
    "print(\"The transpose is:\")\n",
    "A_t = A.transpose()\n",
    "print(A_t)\n",
    "print(\"And its shape:\")\n",
    "print(A_t.shape)"
   ]
  },
  {
   "cell_type": "markdown",
   "metadata": {
    "pycharm": {
     "name": "#%% md\n"
    }
   },
   "source": [
    "### Reshape\n",
    "Besides the transpose method, we can change the shape of any array to an arbitrary shape using the method [reshape](https://numpy.org/doc/stable/reference/generated/numpy.reshape.html?highlight=reshape#numpy.reshape) changes the shape of a numpy array without changing the values of its elements:"
   ]
  },
  {
   "cell_type": "code",
   "execution_count": 13,
   "metadata": {
    "pycharm": {
     "name": "#%%\n"
    }
   },
   "outputs": [
    {
     "name": "stdout",
     "output_type": "stream",
     "text": [
      "[[[ 1  2  3]\n",
      "  [ 4  5  6]\n",
      "  [ 7  8  9]]\n",
      "\n",
      " [[10 11 12]\n",
      "  [13 14 15]\n",
      "  [16 17 18]]\n",
      "\n",
      " [[19 20 21]\n",
      "  [22 23 24]\n",
      "  [25 26 27]]]\n"
     ]
    }
   ],
   "source": [
    "a = np.arange(1, 28) # an array with 27 elements\n",
    "\n",
    "A = a.reshape(3,3,3) #A has the same elements but shape 3x3x3\n",
    "\n",
    "print(A)"
   ]
  },
  {
   "cell_type": "markdown",
   "metadata": {
    "pycharm": {
     "name": "#%% md\n"
    }
   },
   "source": [
    "## Array functions\n",
    "Numpy also provides an extensive list of array functions that work on the dimensions of the array:\n",
    "\n",
    " - **sum()**: Returns the sum of all elements.\n",
    " - **min()**: Returns the minimum value within the array\n",
    " - **max()**: Returns the maximum value within the array\n",
    " - **mean()**: Returns the mean of an array\n",
    " - **median()**: Returns the median value of the array\n",
    " - **cumsum()**: Returns the cumulative sum of the elements of the array.\n",
    " \n",
    " All of the functions above support the additional **axis** parameter to work on a specific dimension, instead of working on all dimensions."
   ]
  },
  {
   "cell_type": "code",
   "execution_count": 13,
   "metadata": {
    "pycharm": {
     "name": "#%%\n"
    }
   },
   "outputs": [
    {
     "name": "stdout",
     "output_type": "stream",
     "text": [
      "sum of all elements in x:\n",
      "36\n",
      "mean value of y:\n",
      "12.5\n"
     ]
    }
   ],
   "source": [
    "x =np.array([[1,2,3,4],[5,6,7,8]])\n",
    "y =np.array([[9,10,11,12],[13,14,15,16]])\n",
    "\n",
    "print(\"sum of all elements in x:\")\n",
    "print(np.sum(x))\n",
    "\n",
    "print(\"mean value of y:\")\n",
    "print(np.mean(y))"
   ]
  },
  {
   "cell_type": "markdown",
   "metadata": {
    "pycharm": {
     "name": "#%% md\n"
    }
   },
   "source": [
    "Other functions take two arrays as arguments and perform element wise operations:\n",
    "\n",
    "- minimum(): Returns an array with the minimum value in each position of the array\n",
    "- maximum():  Returns an array with the maximum value in each position of the array"
   ]
  },
  {
   "cell_type": "code",
   "execution_count": 14,
   "metadata": {
    "pycharm": {
     "name": "#%%\n"
    }
   },
   "outputs": [
    {
     "name": "stdout",
     "output_type": "stream",
     "text": [
      "[0.         0.11111111 0.22222222 0.0069694  0.44444444 0.3403326\n",
      " 0.19167794 0.71257103 0.78045669 0.64287305]\n"
     ]
    }
   ],
   "source": [
    "b=np.linspace(0,1,10)\n",
    "r = c=np.random.random(10)\n",
    "print(np.minimum(b,r))"
   ]
  }
 ],
 "metadata": {
  "interpreter": {
   "hash": "2db524e06e9f5f4ffedc911c917cb75e12dbc923643829bf417064a77eb14d37"
  },
  "kernelspec": {
   "display_name": "Python 3.8.1 64-bit",
   "name": "python3"
  },
  "language_info": {
   "codemirror_mode": {
    "name": "ipython",
    "version": 3
   },
   "file_extension": ".py",
   "mimetype": "text/x-python",
   "name": "python",
   "nbconvert_exporter": "python",
   "pygments_lexer": "ipython3",
   "version": "3.8.1"
  }
 },
 "nbformat": 4,
 "nbformat_minor": 2
}