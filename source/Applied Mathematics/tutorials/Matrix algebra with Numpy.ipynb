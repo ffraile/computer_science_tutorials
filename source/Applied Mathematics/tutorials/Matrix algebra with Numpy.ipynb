{
 "cells": [
  {
   "cell_type": "markdown",
   "source": [
    "# Matrix Algebra\n",
    "\n",
    "## Try me\n",
    "[![Open In Colab](https://colab.research.google.com/assets/colab-badge.svg)](https://colab.research.google.com/github/ffraile/computer_science_tutorials/blob/main/source/Applied%20Mathematics/tutorials/Matrix%20algebra%20with%20Numpy.ipynb)[![Binder](https://mybinder.org/badge_logo.svg)](https://mybinder.org/v2/gh/ffraile/computer_science_tutorials/main?labpath=source%2FApplied%20Mathematics%2Ftutorials%2FMatrix%20algebra%20with%20Numpy.ipynb)\n",
    "> ☝ Important! Remember that to use Numpy in your Notebooks and programs, you first need to import the package (in this example we use the alias np):"
   ],
   "metadata": {
    "collapsed": false,
    "pycharm": {
     "name": "#%% md\n"
    }
   }
  },
  {
   "cell_type": "code",
   "execution_count": null,
   "outputs": [],
   "source": [
    "import numpy as np"
   ],
   "metadata": {
    "collapsed": false,
    "pycharm": {
     "name": "#%%\n"
    }
   }
  },
  {
   "cell_type": "markdown",
   "metadata": {
    "pycharm": {
     "name": "#%% md\n"
    }
   },
   "source": [
    "## Linear algebra operations\n",
    "### Dot product\n",
    "You can use the standard Python matrix product operator '@' to perform the scalar product of two vectors:"
   ]
  },
  {
   "cell_type": "code",
   "execution_count": 4,
   "metadata": {
    "pycharm": {
     "name": "#%%\n"
    }
   },
   "outputs": [
    {
     "name": "stdout",
     "output_type": "stream",
     "text": [
      "55\n"
     ]
    }
   ],
   "source": [
    "a = np.array([1, 2, 3, 4, 5])\n",
    "b = np.array([1, 2, 3, 4, 5])\n",
    "\n",
    "c = a@b\n",
    "print(c)"
   ]
  },
  {
   "cell_type": "markdown",
   "metadata": {
    "pycharm": {
     "name": "#%% md\n"
    }
   },
   "source": [
    "The ```np.dot``` function works just the same:"
   ]
  },
  {
   "cell_type": "code",
   "execution_count": 5,
   "metadata": {
    "pycharm": {
     "name": "#%%\n"
    }
   },
   "outputs": [
    {
     "name": "stdout",
     "output_type": "stream",
     "text": [
      "55\n"
     ]
    }
   ],
   "source": [
    "c = np.dot(a,b)\n",
    "print(c)"
   ]
  },
  {
   "cell_type": "markdown",
   "metadata": {
    "pycharm": {
     "name": "#%% md\n"
    }
   },
   "source": [
    "## Matrix product\n",
    "The same rules apply to the matrix product, the standard Python operator ```@``` or the ```np.dot``` function can be used to perform a matrix product, but the ```@``` operator is prefered:"
   ]
  },
  {
   "cell_type": "code",
   "execution_count": 8,
   "metadata": {
    "pycharm": {
     "name": "#%%\n"
    }
   },
   "outputs": [
    {
     "name": "stdout",
     "output_type": "stream",
     "text": [
      "[[ 7]\n",
      " [11]]\n",
      "[[ 7]\n",
      " [11]]\n"
     ]
    }
   ],
   "source": [
    "A = np.array([[1, 3], [3,4]])  # this is a 2x2 matrix\n",
    "b = np.array([[1], [2]])       #this is a column vector (2x1 matrix)\n",
    "\n",
    "C = np.dot(A, b)\n",
    "print(C)\n",
    "\n",
    "C = A @ b\n",
    "print(C)"
   ]
  },
  {
   "cell_type": "markdown",
   "metadata": {
    "pycharm": {
     "name": "#%% md\n"
    }
   },
   "source": [
    "### Transpose\n",
    "The ```transpose()``` method returns the transpose:"
   ]
  },
  {
   "cell_type": "code",
   "execution_count": 10,
   "metadata": {
    "pycharm": {
     "name": "#%%\n"
    }
   },
   "outputs": [
    {
     "name": "stdout",
     "output_type": "stream",
     "text": [
      "A is: \n",
      "[[1 3]\n",
      " [3 4]\n",
      " [5 6]]\n",
      "And it´s shape is:\n",
      "(3, 2)\n",
      "The transpose is:\n",
      "[[1 3 5]\n",
      " [3 4 6]]\n",
      "And its shape:\n",
      "(2, 3)\n"
     ]
    }
   ],
   "source": [
    "A = np.array([[1, 3], [3,4], [5, 6]])  # this is a 3x2 matrix\n",
    "print(\"A is: \")\n",
    "print(A)\n",
    "print(\"And it´s shape is:\")\n",
    "print(A.shape)\n",
    "print(\"The transpose is:\")\n",
    "A_t = A.transpose()\n",
    "print(A_t)\n",
    "print(\"And its shape:\")\n",
    "print(A_t.shape)"
   ]
  },
  {
   "cell_type": "markdown",
   "metadata": {
    "pycharm": {
     "name": "#%% md\n"
    }
   },
   "source": [
    "### Reshape\n",
    "Reshape changes the shape of a numpy array:"
   ]
  },
  {
   "cell_type": "code",
   "execution_count": 13,
   "metadata": {
    "pycharm": {
     "name": "#%%\n"
    }
   },
   "outputs": [
    {
     "name": "stdout",
     "output_type": "stream",
     "text": [
      "[[[ 1  2  3]\n",
      "  [ 4  5  6]\n",
      "  [ 7  8  9]]\n",
      "\n",
      " [[10 11 12]\n",
      "  [13 14 15]\n",
      "  [16 17 18]]\n",
      "\n",
      " [[19 20 21]\n",
      "  [22 23 24]\n",
      "  [25 26 27]]]\n"
     ]
    }
   ],
   "source": [
    "a = np.arange(1, 28) # an array with 27 elements\n",
    "\n",
    "A = a.reshape(3,3,3) #A has the same elements but shape 3x3x3\n",
    "\n",
    "print(A)"
   ]
  },
  {
   "cell_type": "code",
   "execution_count": null,
   "metadata": {
    "pycharm": {
     "name": "#%%\n"
    }
   },
   "outputs": [],
   "source": []
  }
 ],
 "metadata": {
  "interpreter": {
   "hash": "2db524e06e9f5f4ffedc911c917cb75e12dbc923643829bf417064a77eb14d37"
  },
  "kernelspec": {
   "display_name": "Python 3.8.1 64-bit",
   "name": "python3"
  },
  "language_info": {
   "codemirror_mode": {
    "name": "ipython",
    "version": 3
   },
   "file_extension": ".py",
   "mimetype": "text/x-python",
   "name": "python",
   "nbconvert_exporter": "python",
   "pygments_lexer": "ipython3",
   "version": "3.8.1"
  }
 },
 "nbformat": 4,
 "nbformat_minor": 2
}