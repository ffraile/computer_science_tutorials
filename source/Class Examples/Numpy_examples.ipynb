{
  "nbformat": 4,
  "nbformat_minor": 0,
  "metadata": {
    "colab": {
      "name": "Numpy examples.ipynb",
      "provenance": []
    },
    "kernelspec": {
      "name": "python3",
      "display_name": "Python 3"
    },
    "language_info": {
      "name": "python"
    }
  },
  "cells": [
    {
      "cell_type": "code",
      "metadata": {
        "colab": {
          "base_uri": "https://localhost:8080/"
        },
        "id": "4DTZ-6jFUxPy",
        "outputId": "77a3e31b-42bd-483c-c69a-b1579cf53f49"
      },
      "source": [
        "# milage of each car\n",
        "kms = [153.4, 123.4, 113.5, 118.4]\n",
        "# grams of emissions per km\n",
        "emissions = {\"CO2\": 120.4, \"N2O\":0.005, \"CH4\":0.25}\n",
        "for km in kms:\n",
        "  for gas, grams in emissions.items():\n",
        "    print(\"Total emissions of \" + gas + \" are: \" + str(km*grams) + \"grams\")"
      ],
      "execution_count": null,
      "outputs": [
        {
          "output_type": "stream",
          "name": "stdout",
          "text": [
            "Total emissions of CO2 are: 18469.36grams\n",
            "Total emissions of N2O are: 0.767grams\n",
            "Total emissions of CH4 are: 38.35grams\n",
            "Total emissions of CO2 are: 14857.36grams\n",
            "Total emissions of N2O are: 0.617grams\n",
            "Total emissions of CH4 are: 30.85grams\n",
            "Total emissions of CO2 are: 14857.36grams\n",
            "Total emissions of N2O are: 0.617grams\n",
            "Total emissions of CH4 are: 30.85grams\n",
            "Total emissions of CO2 are: 14857.36grams\n",
            "Total emissions of N2O are: 0.617grams\n",
            "Total emissions of CH4 are: 30.85grams\n"
          ]
        }
      ]
    },
    {
      "cell_type": "code",
      "metadata": {
        "colab": {
          "base_uri": "https://localhost:8080/"
        },
        "id": "31zNfgvuVCfo",
        "outputId": "60c18f8a-a890-48f4-fb84-85ac35cb6371"
      },
      "source": [
        "# milage of each car\n",
        "import numpy as np\n",
        "\n",
        "kms = np.array([[153.4], [123.4], [113.5], [118.4]])\n",
        "emissions = np.array([[120.4, 0.005, 0.25]])\n",
        "values = kms@emissions\n",
        "print(values)\n",
        "print(values.shape)\n",
        "print(values.size)\n"
      ],
      "execution_count": null,
      "outputs": [
        {
          "output_type": "stream",
          "name": "stdout",
          "text": [
            "[[1.846936e+04 7.670000e-01 3.835000e+01]\n",
            " [1.485736e+04 6.170000e-01 3.085000e+01]\n",
            " [1.366540e+04 5.675000e-01 2.837500e+01]\n",
            " [1.425536e+04 5.920000e-01 2.960000e+01]]\n",
            "(4, 3)\n",
            "12\n"
          ]
        }
      ]
    },
    {
      "cell_type": "code",
      "metadata": {
        "colab": {
          "base_uri": "https://localhost:8080/"
        },
        "id": "AnIETihHo3gz",
        "outputId": "a971341a-da25-4d0d-9e8a-de7b53ebd025"
      },
      "source": [
        "an_array = [1, 2, 3, 5]\n",
        "another_array = [6, 7, 8, 9]\n",
        "dot_product = 0\n",
        "for j in range(len(an_array)):\n",
        "  dot_product += an_array[j]*another_array[j]\n",
        "print(dot_product)\n"
      ],
      "execution_count": null,
      "outputs": [
        {
          "output_type": "stream",
          "name": "stdout",
          "text": [
            "89\n"
          ]
        }
      ]
    },
    {
      "cell_type": "code",
      "metadata": {
        "colab": {
          "base_uri": "https://localhost:8080/"
        },
        "id": "llAeorgGpcCr",
        "outputId": "b14427f4-823c-434c-fc67-b02ef499b0f1"
      },
      "source": [
        "import numpy as np\n",
        "an_array = np.array([1, 2, 3, 5])\n",
        "another_array = np.array([6, 7, 8, 9])\n",
        "dot_product = an_array@another_array\n",
        "print(dot_product)"
      ],
      "execution_count": null,
      "outputs": [
        {
          "output_type": "stream",
          "name": "stdout",
          "text": [
            "89\n"
          ]
        }
      ]
    },
    {
      "cell_type": "code",
      "metadata": {
        "colab": {
          "base_uri": "https://localhost:8080/"
        },
        "id": "FDM2p8kzyFcQ",
        "outputId": "5f5c0ec5-63ed-40bf-d8f6-71bf9d9ab7ed"
      },
      "source": [
        "a_matrix = [[1, 2, 3],[4, 5, 6]]\n",
        "another_matrix = [[1, 2],[3, 4],[5, 6]]\n",
        "m = len(a_matrix)\n",
        "n = len(another_matrix)\n",
        "p = len(another_matrix[0])\n",
        "matrix_product = [ [ 0 for i in range(m) ] for j in range(p) ]\n",
        "for i in range(m):\n",
        "  for c in range(n):\n",
        "    for j in range(p):\n",
        "      matrix_product[i][j]+=a_matrix[i][c]*another_matrix[c][j]\n",
        "\n",
        "print(matrix_product)"
      ],
      "execution_count": null,
      "outputs": [
        {
          "output_type": "stream",
          "name": "stdout",
          "text": [
            "[[22, 28], [49, 64]]\n"
          ]
        }
      ]
    },
    {
      "cell_type": "code",
      "metadata": {
        "colab": {
          "base_uri": "https://localhost:8080/"
        },
        "id": "KXTdw04d4_a-",
        "outputId": "6b27d774-e7bd-4f18-f986-af6a36700491"
      },
      "source": [
        "import numpy as np\n",
        "a_matrix = np.array([[1, 2, 3],[4, 5, 6]])\n",
        "another_matrix = np.array([[1, 2],[3, 4],[5, 6]])\n",
        "matrix_product = a_matrix@another_matrix\n",
        "print(matrix_product)"
      ],
      "execution_count": null,
      "outputs": [
        {
          "output_type": "stream",
          "name": "stdout",
          "text": [
            "[[22 28]\n",
            " [49 64]]\n"
          ]
        }
      ]
    },
    {
      "cell_type": "code",
      "metadata": {
        "colab": {
          "base_uri": "https://localhost:8080/"
        },
        "id": "QZhrQ4HISq1W",
        "outputId": "dbfd2289-9e5b-476f-9565-d2ddabc14256"
      },
      "source": [
        "import numpy as np\n",
        "mu = 110 # mean mileage\n",
        "sigma = 5 # standard deviation\n",
        "# 10000 random numbers with average \"mu\" and \n",
        "global_sales = np.random.normal(mu, sigma, (2, 5, 500, 2))\n",
        "comissions = np.array([[1, 2, 3],[4, 5, 6]])\n",
        "#reshape into the following axis:\n",
        "# Regions\n",
        "# Countries\n",
        "# Sale agents\n",
        "# Products\n",
        "\n",
        "# global_sales = global_sales.reshape(2,5,500,2)\n",
        "# commission rates with the following axis:\n",
        "# Products\n",
        "# Sale rates: (commission rate, net profit, sale price) \n",
        "rates = np.array([[0.15, 15, 25],[0.13, 13, 18]])\n",
        "# for each region, country, and sale agent, calculate the total commission paid\n",
        "# to each sales agents, the total net profit and the total sale revenues\n",
        "print(global_sales.shape)\n",
        "print(rates.shape)\n",
        "sale_values = np.dot(global_sales, comissions)\n",
        "print(sale_values.shape)"
      ],
      "execution_count": null,
      "outputs": [
        {
          "output_type": "stream",
          "name": "stdout",
          "text": [
            "(2, 5, 500, 2)\n",
            "(2, 3)\n",
            "(2, 5, 500, 3)\n"
          ]
        }
      ]
    },
    {
      "cell_type": "code",
      "metadata": {
        "colab": {
          "base_uri": "https://localhost:8080/"
        },
        "id": "G9At6kx4ZVlH",
        "outputId": "d26d33fa-9216-466b-a897-12f4714269c2"
      },
      "source": [
        "import numpy as np\n",
        "a_matrix = np.random.randint(5, size=(4,3))\n",
        "print(a_matrix.shape)\n",
        "a_matrix_transposed = a_matrix.transpose()\n",
        "print(a_matrix_transposed.shape)\n",
        "a_multidimensional_array = np.random.randint(5, size=(2,3,5) )\n",
        "# shape of multi\n",
        "print(a_multidimensional_array.shape)\n",
        "a_multidimensional_array_transposed = a_multidimensional_array.transpose()\n",
        "print(a_multidimensional_array_transposed.shape)\n"
      ],
      "execution_count": null,
      "outputs": [
        {
          "output_type": "stream",
          "name": "stdout",
          "text": [
            "(4, 3)\n",
            "(3, 4)\n",
            "(2, 3, 5)\n",
            "(5, 3, 2)\n"
          ]
        }
      ]
    },
    {
      "cell_type": "code",
      "metadata": {
        "colab": {
          "base_uri": "https://localhost:8080/"
        },
        "id": "j03j50PBdh_Q",
        "outputId": "cf5e2b47-5728-4e40-c09b-b9fcb1ba66f4"
      },
      "source": [
        "import numpy as np\n",
        "an_array = np.array([1, 2, 3, 4, 5, 6, 7, 8, 9, 10,11,12])\n",
        "a_matrix = an_array.reshape(6,2)\n",
        "# a_matrix is of shape 6,2 and size 12\n",
        "print(a_matrix)\n",
        "a_multidimensional_array = a_matrix.reshape(3,2,2)\n",
        "# a multidimensional array is of shape 3,2,2\n",
        "print(a_multidimensional_array)\n",
        "another_multidimensional_array = an_array.reshape(3,2,1,2)\n",
        "print(another_multidimensional_array)"
      ],
      "execution_count": null,
      "outputs": [
        {
          "output_type": "stream",
          "name": "stdout",
          "text": [
            "[[ 1  2]\n",
            " [ 3  4]\n",
            " [ 5  6]\n",
            " [ 7  8]\n",
            " [ 9 10]\n",
            " [11 12]]\n",
            "[[[ 1  2]\n",
            "  [ 3  4]]\n",
            "\n",
            " [[ 5  6]\n",
            "  [ 7  8]]\n",
            "\n",
            " [[ 9 10]\n",
            "  [11 12]]]\n",
            "[[[[ 1  2]]\n",
            "\n",
            "  [[ 3  4]]]\n",
            "\n",
            "\n",
            " [[[ 5  6]]\n",
            "\n",
            "  [[ 7  8]]]\n",
            "\n",
            "\n",
            " [[[ 9 10]]\n",
            "\n",
            "  [[11 12]]]]\n"
          ]
        }
      ]
    },
    {
      "cell_type": "code",
      "metadata": {
        "id": "BGdJQQHghf0I"
      },
      "source": [
        "import numpy as np\n"
      ],
      "execution_count": null,
      "outputs": []
    }
  ]
}