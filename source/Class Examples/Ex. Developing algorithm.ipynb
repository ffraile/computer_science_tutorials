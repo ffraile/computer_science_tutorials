{
 "cells": [
  {
   "cell_type": "markdown",
   "metadata": {},
   "source": [
    "# Use Case 1. Add three numbers\n",
    "  \n",
    "A program is required to read three numbers, add them together and print the total."
   ]
  },
  {
   "cell_type": "markdown",
   "metadata": {},
   "source": [
    "| Input   | Processing           | Output |\n",
    "|---------|----------------------|--------|\n",
    "| number1 | Read three numbers   | total  |\n",
    "| number2 | Add numbers together |        |\n",
    "| number3 | Print total number   |        |"
   ]
  },
  {
   "cell_type": "code",
   "execution_count": 5,
   "metadata": {},
   "outputs": [
    {
     "name": "stdin",
     "output_type": "stream",
     "text": [
      "Number 1:  1\n",
      "Number 2:  2\n",
      "Number 3:  3\n"
     ]
    },
    {
     "name": "stdout",
     "output_type": "stream",
     "text": [
      "6\n"
     ]
    }
   ],
   "source": [
    "number1 = int(input(\"Number 1: \"))\n",
    "number2 = int(input(\"Number 2: \"))\n",
    "number3 = int(input(\"Number 3: \"))\n",
    "\n",
    "total = number1 + number2 + number3\n",
    "\n",
    "print(total)"
   ]
  },
  {
   "cell_type": "code",
   "execution_count": 6,
   "metadata": {},
   "outputs": [
    {
     "name": "stdin",
     "output_type": "stream",
     "text": [
      "Number 1:  1\n",
      "Number 2:  1\n",
      "Number 3:  1\n"
     ]
    },
    {
     "name": "stdout",
     "output_type": "stream",
     "text": [
      "3\n"
     ]
    }
   ],
   "source": [
    "total = 0\n",
    "\n",
    "for i in range(3):\n",
    "    number = int(input(f\"Number {i+1}: \"))\n",
    "    total += number\n",
    "    \n",
    "print(total)"
   ]
  },
  {
   "cell_type": "markdown",
   "metadata": {},
   "source": [
    "---"
   ]
  },
  {
   "cell_type": "markdown",
   "metadata": {},
   "source": [
    "# Use Case 2. Find average temperature\n",
    "  \n",
    "A program is required to prompt the terminal operator for the maximum and minimum temperature readings on a particular day, accept those readings as integers, and calculate and display to the screen the average temperature, calculated by (maximum temperature + minimum temperature)/2."
   ]
  },
  {
   "cell_type": "markdown",
   "metadata": {},
   "source": [
    "| Input    | Processing                    | Output   |\n",
    "|----------|-------------------------------|----------|\n",
    "| max_temp | Prompt for temperatures       | avg_temp |\n",
    "| min_temp | Get temperatures              |          |\n",
    "|          | Calculate average temperature |          |\n",
    "|          | Display average temperature   |          |"
   ]
  },
  {
   "cell_type": "code",
   "execution_count": 7,
   "metadata": {},
   "outputs": [
    {
     "name": "stdin",
     "output_type": "stream",
     "text": [
      "Max temperature:  25.5\n",
      "Min temperature:  26.5\n"
     ]
    },
    {
     "name": "stdout",
     "output_type": "stream",
     "text": [
      "26.0\n"
     ]
    }
   ],
   "source": [
    "max_temp = float(input(f\"Max temperature: \"))\n",
    "min_temp = float(input(f\"Min temperature: \"))\n",
    "\n",
    "avg_temp = (max_temp + min_temp) / 2\n",
    "\n",
    "print(avg_temp)"
   ]
  },
  {
   "cell_type": "markdown",
   "metadata": {},
   "source": [
    "---"
   ]
  },
  {
   "cell_type": "markdown",
   "metadata": {},
   "source": [
    "# Use Case 3. Compute mowing time\n",
    "  \n",
    "A program is required to read from the screen the length and width of a rectangular house block, and the length and width of the rectangular house that has been built on the block. The algorithm should then compute and display the mowing time required to cut the grass around the house, at the rate of two square meters per minute."
   ]
  },
  {
   "cell_type": "markdown",
   "metadata": {},
   "source": [
    "| Input        | Processing                    | Output      |\n",
    "|--------------|-------------------------------|-------------|\n",
    "| block_length | Prompt for block measurements | mowing_time |\n",
    "| block_width  | Get block measurements        |             |\n",
    "|              | Prompt for house measurements |             |\n",
    "|              | Get house measurements        |             |\n",
    "|              | Calculate mowing area         |             |\n",
    "|              | Calculate mowing time         |             |"
   ]
  },
  {
   "cell_type": "code",
   "execution_count": 8,
   "metadata": {},
   "outputs": [
    {
     "name": "stdin",
     "output_type": "stream",
     "text": [
      "Block length:  30\n",
      "Block width:  30\n",
      "House length:  20\n",
      "House width:  20\n"
     ]
    },
    {
     "name": "stdout",
     "output_type": "stream",
     "text": [
      "250.0\n"
     ]
    }
   ],
   "source": [
    "block_length = float(input(\"Block length: \"))\n",
    "block_width = float(input(\"Block width: \"))\n",
    "block_area = block_length * block_width\n",
    "\n",
    "house_length = float(input(\"House length: \"))\n",
    "house_width = float(input(\"House width: \"))\n",
    "house_area = house_length * house_width\n",
    "\n",
    "mowing_area = block_area - house_area\n",
    "\n",
    "mowing_time = mowing_area / 2\n",
    "\n",
    "print(mowing_time)"
   ]
  },
  {
   "cell_type": "code",
   "execution_count": null,
   "metadata": {},
   "outputs": [],
   "source": []
  }
 ],
 "metadata": {
  "kernelspec": {
   "display_name": "Python 3",
   "language": "python",
   "name": "python3"
  },
  "language_info": {
   "codemirror_mode": {
    "name": "ipython",
    "version": 3
   },
   "file_extension": ".py",
   "mimetype": "text/x-python",
   "name": "python",
   "nbconvert_exporter": "python",
   "pygments_lexer": "ipython3",
   "version": "3.8.4"
  }
 },
 "nbformat": 4,
 "nbformat_minor": 4
}
