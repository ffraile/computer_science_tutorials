{
 "cells": [
  {
   "cell_type": "markdown",
   "metadata": {},
   "source": [
    "# Solving a quadratic equation\n",
    "\n",
    "If we have an equation in the form **a**x<sup>2</sup> + **b**x + **c** = 0, to solve **x** the following formula is applied:\n",
    "<img src=\"https://cdn.kastatic.org/googleusercontent/nI2riiPBcl9hZ22KKdYZGFmsVNhcKLiuwPly9l1tU5BMaqcOs9bfPKRyoGAFgK-PNpc-c7x_tNuskGdzawvy_Pza\" />\n",
    "\n",
    "In Python, recall that multiplication is done with an asterisk \\* while power is indicated by two \\*\\*. For example, 2\\*3 is 6 y 2\\*\\*3 is 8.\n",
    "\n",
    "The square root can be calculated using the function `sqrt`. In order to use that function, you need to import a package of mathematical functions (*cmath*) that contains, among other functions, the **sqrt** function. This is done using the code:  \n",
    "`import cmath`\n",
    "To use the square root function just use:  \n",
    "`cmath.sqrt(param)`\n",
    "where *param* will be the value of which we want to calculate the square root. For example, `cmath.sqrt(4)` will equal 2.\n",
    "\n",
    "We use `cmath` instead of `math` because we need to work with complex numbers.\n",
    "\n",
    "To ask a user to enter data, the `input()` function is used. This function admits as a parameter a text that will be shown to the user as an aid to request the input data. For example,  \n",
    "`text = input(\"Introduce un texto: \")`\n",
    "\n",
    "If we want the entered text to be treated as an integer in order to perform mathematical operations, we must convert it using the `int()` function. This is also called **casting**. For example,  \n",
    "`number = int(input(\"Introduce un número: \")`  \n",
    "\n",
    "If we want the entered number to have decimals, the conversion must be done using the `float()` function. For example,  \n",
    "`floating_number = float(input(\"Introduce un número decimal: \")`\n",
    "\n",
    "In Python, recall that loops can be performed using the `while` keyword. The code inside the *while* will loop as long as the specified condition is met. For example, the following code will ask for a number and print a text repeatedly as long as the number entered is other than 0.  \n",
    "`a = int(input())\n",
    "while a != 0:\n",
    "    print(\"hey, el número es\", a)\n",
    "    a = int(input())`\n",
    "    "
   ]
  },
  {
   "cell_type": "markdown",
   "metadata": {},
   "source": [
    "So far, with all the previous explanation, **develop the following program**:\n",
    "\n",
    "A program to calculate the solution to a quadratic equation like ax<sup>2</sup> + bx + c = 0. It will ask the user for the values of a, b and c, calculate x (possibly have 2 solutions) and print the result on the screen. It will repeat the process of asking for values and calculating x until the user enters a value **0** for the variable **a**."
   ]
  }
 ],
 "metadata": {
  "kernelspec": {
   "display_name": "Python 3",
   "language": "python",
   "name": "python3"
  },
  "language_info": {
   "codemirror_mode": {
    "name": "ipython",
    "version": 3
   },
   "file_extension": ".py",
   "mimetype": "text/x-python",
   "name": "python",
   "nbconvert_exporter": "python",
   "pygments_lexer": "ipython3",
   "version": "3.8.4"
  }
 },
 "nbformat": 4,
 "nbformat_minor": 4
}
