{
 "cells": [
  {
   "cell_type": "markdown",
   "metadata": {
    "pycharm": {
     "name": "#%% md\n"
    }
   },
   "source": [
    "## BANK JOB"
   ]
  },
  {
   "cell_type": "markdown",
   "metadata": {
    "pycharm": {
     "name": "#%% md\n"
    }
   },
   "source": [
    "You have been hired as a developer in a famous Spanish bank. Your first task as a Python programmer is to develop a program to filter which customers could receive a loan based on their personal information. The requirements are as follows:\n",
    "\n",
    "A bank has a CSV file with information about the customers (customers.csv). The file consists of multiple lines, one line for each customer. Each line contains the customer's name, age, nationality, number of children and amount of money in the account. The bank will loan money only to those customers that are younger than 50, have 2 children or more, and have more than 1000 EUR in their account.\n",
    "\n",
    "Your task: Design and develop a program in Python that reads the customers' file and prints only the name of those customers that fulfil the conditions to receive a loan.\n",
    "\n",
    "Your program must work with files with any number of lines, although you can use the following customer information as a customers.csv example to test your program:\n",
    "\n",
    "J. Smith,34,British,0,3040  \n",
    "D. Bisbal,41,Spanish,2,5100  \n",
    "R. Nadal,34,Spanish,0,202  \n",
    "C. Bayo,59,Spanish,1,25  \n",
    "P. Collins,69,British,2,8392  \n",
    "\n",
    "NOTE: Your answer should be a code in Python that performs the assigned task. To do this exercise you can use an IDE like JupyterLab, for example. You can check also your class notes, but you are not allowed to chat, speak or communicate in any way with other people, pets or robots during the exam."
   ]
  },
  {
   "cell_type": "code",
   "execution_count": null,
   "metadata": {
    "pycharm": {
     "name": "#%%\n"
    }
   },
   "outputs": [],
   "source": []
  }
 ],
 "metadata": {
  "kernelspec": {
   "display_name": "Python 3",
   "language": "python",
   "name": "python3"
  },
  "language_info": {
   "codemirror_mode": {
    "name": "ipython",
    "version": 3
   },
   "file_extension": ".py",
   "mimetype": "text/x-python",
   "name": "python",
   "nbconvert_exporter": "python",
   "pygments_lexer": "ipython3",
   "version": "3.8.4"
  },
  "pycharm": {
   "stem_cell": {
    "cell_type": "raw",
    "source": [],
    "metadata": {
     "collapsed": false
    }
   }
  }
 },
 "nbformat": 4,
 "nbformat_minor": 4
}