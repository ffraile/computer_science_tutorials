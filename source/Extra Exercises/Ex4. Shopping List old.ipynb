{
 "cells": [
  {
   "cell_type": "markdown",
   "metadata": {},
   "source": [
    "# Shopping basket\n",
    "\n",
    "We have a text file with information on the products we have bought at the supermarket. Each row contains information for a different product. Each row has the following information:\n",
    "`quantity,product,price,VAT`  \n",
    "each field separated by a comma (CSV). Fields cannot have commas internally, because it would be considered a field separation. There are only 3 types of VAT, 4%, 10% and 21%.\n",
    "\n",
    "For example,  \n",
    "`1,Water,1.5,4\n",
    "2,Tuna,3,21\n",
    "6,Milk,0.9,4\n",
    "1,Soap,2.2,10\n",
    "3,Chocolate,1.5,21`\n",
    "\n",
    "To create this text file, press the **+** button and select *Text file*. Write the content and save it with a name, for example, *shopping_bill.csv*.\n",
    "\n",
    "Remember, to work with files you can use the following functions with the appropriate parameters:\n",
    "`f = open(\"filename\")\n",
    "line = f.readline()\n",
    "f.close()`\n",
    "\n",
    "Remember, to split a line of text into elements within an array, use `split()`.\n",
    "\n",
    "Remember, to access the elements of an array you should use a numeric index between brackets, such as `array[0]`.\n",
    "\n",
    "Remember, to use the obtained fields as integers or decimal numbers, they must be converted with the `int()` or `float()` functions respectively.\n",
    "\n",
    "So far, with all the previous explanation, **develop the following program**:\n",
    "\n",
    "A program that reads a text file with the purchase data (quantity, product name, price without VAT, VAT rate) on each line, calculates the total price of the shopping basket with VAT included and displays it on the screen. Try to print just 2 decimal digits.\n",
    "\n",
    "In order to be used by your program, a file *shopping_bill.csv* must be generated first with the information of at least 5 products (made-up, be creative)."
   ]
  }
 ],
 "metadata": {
  "kernelspec": {
   "display_name": "Python 3",
   "language": "python",
   "name": "python3"
  },
  "language_info": {
   "codemirror_mode": {
    "name": "ipython",
    "version": 3
   },
   "file_extension": ".py",
   "mimetype": "text/x-python",
   "name": "python",
   "nbconvert_exporter": "python",
   "pygments_lexer": "ipython3",
   "version": "3.8.4"
  }
 },
 "nbformat": 4,
 "nbformat_minor": 4
}
