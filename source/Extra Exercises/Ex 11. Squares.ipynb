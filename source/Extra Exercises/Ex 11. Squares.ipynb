{
 "cells": [
  {
   "cell_type": "markdown",
   "metadata": {
    "collapsed": true,
    "pycharm": {
     "name": "#%% md\n"
    }
   },
   "source": [
    "# Problem description\n",
    "The flow chart diagram in the figure below describes the logic of a program. \n",
    "\n",
    "![Padovan Sequence](https://github.com/ffraile/computer_science_tutorials/blob/main/Programming/Extra%20Exercises/img/squares.png?raw=true)\n",
    "\n",
    "\n",
    "Note that some of the shapes have text within parenthesis. The text corresponds to the Python code used to implement \n",
    "the rectangular shape that contains it.\n"
   ]
  },
  {
   "cell_type": "markdown",
   "source": [
    "What is the value of the variable result before the beginning of the while loop? and what are the values returned when \n",
    "the value of the input iters is equal to 6?\n"
   ],
   "metadata": {
    "collapsed": false,
    "pycharm": {
     "name": "#%% md\n"
    }
   }
  },
  {
   "cell_type": "markdown",
   "source": [
    "Given that there is a function np.power(x1, x2) that takes two arrays x1 and x2 and returns the elements of the first \n",
    "array x1 raised to powers from second array x2, element-wise (e.g. np.power([1, 2, 3], [3,2,1]) returns [1, 4, 3]), define x1 and x2 to obtain the same result using the function np.power (0.5 points)\n",
    "\n"
   ],
   "metadata": {
    "collapsed": false,
    "pycharm": {
     "name": "#%% md\n"
    }
   }
  }
 ],
 "metadata": {
  "kernelspec": {
   "display_name": "Python 3",
   "language": "python",
   "name": "python3"
  },
  "language_info": {
   "codemirror_mode": {
    "name": "ipython",
    "version": 2
   },
   "file_extension": ".py",
   "mimetype": "text/x-python",
   "name": "python",
   "nbconvert_exporter": "python",
   "pygments_lexer": "ipython2",
   "version": "2.7.6"
  },
  "pycharm": {
   "stem_cell": {
    "cell_type": "raw",
    "source": [],
    "metadata": {
     "collapsed": false
    }
   }
  }
 },
 "nbformat": 4,
 "nbformat_minor": 0
}