{
 "cells": [
  {
   "cell_type": "markdown",
   "source": [
    "# Hardshad Numbers\n",
    "\n",
    "## Try me\n",
    "[![Open In Colab](https://colab.research.google.com/assets/colab-badge.svg)](https://colab.research.google.com/github/ffraile/computer_science_tutorials/blob/main/source/Extra%20Exercises/Harshad%20Numbers.ipynb)[![Binder](https://mybinder.org/badge_logo.svg)](https://mybinder.org/v2/gh/ffraile/computer_science_tutorials/main?labpath=source%2FExtra%20Exercises%2FHarshad%20Numbers.ipynb)\n",
    "\n",
    "Harshad numbers or Niven numbers are integer numbers which are divisible by the sum of its digits in a given base. For instance, 12 is a Harshad number in base 10 because it is divisible by (1 + 2) 3, and 20 is a Harshad number because it is divisible by (2 + 0) 2. However, 15 is not a Harshad number in base 10 because it is not divisible by (1+5) 6. In general, an integer number $X$ can be expressed in a given base $n$ as:\n",
    "\n",
    "$$\n",
    "X = \\sum_{i=0}^{m-1}{a_i*n^i}\n",
    "$$\n",
    "\n",
    "where $m$ is the number of digits and ($a_0, a_1, a_2, ..., a_{m-1}$) are the digits of the integer number. $X$ is a Harshad number in base n if and only if:\n",
    "\n",
    "$$\n",
    "X \\mod \\sum_{i=0}^{m-1}{a_i0} = 0\n",
    "$$\n",
    "\n",
    "That is, the remainder after integer division of $X$ by the sum of its digits is 0. You can read everything about Harshad numbers [here](https://en.wikipedia.org/wiki/Harshad_number).\n",
    "\n",
    "Write a function that tests if an integer number passed as argument is a Harshad number in base 10 (that is, it returns True if the number can be divided by the sum of its digits).\n",
    "Can you modify the function so that it takes a second parameter with the base for which you want to make the test?"
   ],
   "metadata": {
    "collapsed": false
   }
  }
 ],
 "metadata": {
  "kernelspec": {
   "display_name": "Python 3",
   "language": "python",
   "name": "python3"
  },
  "language_info": {
   "codemirror_mode": {
    "name": "ipython",
    "version": 2
   },
   "file_extension": ".py",
   "mimetype": "text/x-python",
   "name": "python",
   "nbconvert_exporter": "python",
   "pygments_lexer": "ipython2",
   "version": "2.7.6"
  }
 },
 "nbformat": 4,
 "nbformat_minor": 0
}
