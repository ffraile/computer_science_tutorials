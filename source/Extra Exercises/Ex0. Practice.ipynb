{
 "cells": [
  {
   "cell_type": "markdown",
   "metadata": {},
   "source": [
    "# Practice\n",
    "You have seen a set of basic tutorials on how to use Python. Now you have the opportunity to practice on your own. You can check your answers, but remember, try it out yourself first!"
   ]
  },
  {
   "cell_type": "markdown",
   "metadata": {},
   "source": [
    "---\n",
    "Exercise 1\n",
    "---\n",
    "Assign the number 37 to a variable called `number1` and the number 2 to a variable called `number2`. Print the result of the addition of these two numbers on the screen."
   ]
  },
  {
   "cell_type": "code",
   "execution_count": null,
   "metadata": {},
   "outputs": [],
   "source": []
  },
  {
   "cell_type": "markdown",
   "metadata": {},
   "source": [
    "Doble-click to see the answer\n",
    "<!--\n",
    "number1 = 37\n",
    "number2 = 2\n",
    "print(number1 + number2)\n",
    "-->"
   ]
  },
  {
   "cell_type": "markdown",
   "metadata": {},
   "source": [
    "---\n",
    "Exercise 2\n",
    "---\n",
    "Print the first 10 odd numbers."
   ]
  },
  {
   "cell_type": "code",
   "execution_count": null,
   "metadata": {},
   "outputs": [],
   "source": []
  },
  {
   "cell_type": "markdown",
   "metadata": {},
   "source": [
    "Doble-click to see the answer\n",
    "<!--\n",
    "for i in range(20):\n",
    "    if i % 2 != 0:\n",
    "        print(i)\n",
    "-->"
   ]
  },
  {
   "cell_type": "markdown",
   "metadata": {},
   "source": [
    "---\n",
    "Exercise 3\n",
    "---\n",
    "Print only the characters with odd positions in the text \"*Antiacres ajaosbi!*\"."
   ]
  },
  {
   "cell_type": "code",
   "execution_count": null,
   "metadata": {},
   "outputs": [],
   "source": []
  },
  {
   "cell_type": "markdown",
   "metadata": {},
   "source": [
    "Doble-click to see the answer\n",
    "<!--\n",
    "text = \"Antiacres ajaosbi!\"\n",
    "print(text[1::2])\n",
    "-->"
   ]
  },
  {
   "cell_type": "markdown",
   "metadata": {},
   "source": [
    "---\n",
    "Exercise 4\n",
    "---\n",
    "Given the list `numbers = [1, 1, 2, 3, 5, 8, 13, 21, 34, 55, 89]`, make a new list `new_list` of only the first and last elements of the given list and print it out."
   ]
  },
  {
   "cell_type": "code",
   "execution_count": null,
   "metadata": {},
   "outputs": [],
   "source": []
  },
  {
   "cell_type": "markdown",
   "metadata": {},
   "source": [
    "Doble-click to see the answer\n",
    "<!--\n",
    "numbers = [1, 1, 2, 3, 5, 8, 13, 21, 34, 55, 89]\n",
    "new_list = [numbers[0], numbers[-1]]\n",
    "print(new_list)\n",
    "-->"
   ]
  },
  {
   "cell_type": "markdown",
   "metadata": {},
   "source": [
    "---\n",
    "Exercise 5\n",
    "---\n",
    "Take the following list `[1, 1, 2, 3, 5, 8, 13, 21, 34, 55, 89]` and write a program that prints out all the elements of the list that are less than 10."
   ]
  },
  {
   "cell_type": "code",
   "execution_count": null,
   "metadata": {},
   "outputs": [],
   "source": []
  },
  {
   "cell_type": "markdown",
   "metadata": {},
   "source": [
    "Doble-click to see the answer\n",
    "<!--\n",
    "list = [1, 1, 2, 3, 5, 8, 13, 21, 34, 55, 89]\n",
    "for n in list:\n",
    "    if n < 10:\n",
    "        print(n)\n",
    "-->"
   ]
  },
  {
   "cell_type": "markdown",
   "metadata": {},
   "source": [
    "---\n",
    "Exercise 6\n",
    "---\n",
    "Implement a function called `max_element()` that takes as input a list, and returns the largest value of the list. Check if applied to `[1, 3, 56, 32, 41, 7]` it returns 56."
   ]
  },
  {
   "cell_type": "code",
   "execution_count": null,
   "metadata": {},
   "outputs": [],
   "source": []
  },
  {
   "cell_type": "markdown",
   "metadata": {},
   "source": [
    "Doble-click to see the answer\n",
    "<!--\n",
    "def max_element(mylist):\n",
    "    max_n = 0\n",
    "    for n in mylist:\n",
    "        if n > max_n:\n",
    "            max_n = n\n",
    "    return max_n\n",
    "\n",
    "numbers = [1, 3, 56, 32, 41, 7]\n",
    "print(max_element(numbers))\n",
    "-->"
   ]
  },
  {
   "cell_type": "markdown",
   "metadata": {},
   "source": [
    "---\n",
    "Exercise 7\n",
    "---\n",
    "Create a file called `lorem.txt` with the following content:  \n",
    "`Lorem ipsum dolor sit amet, consectetur adipiscing elit.\n",
    "Praesent eu pharetra odio. In hendrerit nisl ut odio mollis, ac gravida ligula lacinia.\n",
    "Sed ipsum mauris, euismod sit amet sagittis et, dapibus semper odio.\n",
    "Pellentesque non porttitor est.\n",
    "Nulla ut tellus non sem faucibus efficitur sit amet ut nibh.\n",
    "Ut vulputate dignissim varius. Ut auctor lectus enim, rutrum congue arcu tincidunt a.`\n",
    "\n",
    "Write a program to read the file line by line and print them out on the screen."
   ]
  },
  {
   "cell_type": "code",
   "execution_count": null,
   "metadata": {},
   "outputs": [],
   "source": []
  },
  {
   "cell_type": "markdown",
   "metadata": {},
   "source": [
    "Doble-click to see the answer\n",
    "<!--\n",
    "with open(\"lorem.txt\") as f:\n",
    "    line = f.readline()\n",
    "    while line:\n",
    "        print(line)\n",
    "        line = f.readline()\n",
    "-->"
   ]
  },
  {
   "cell_type": "markdown",
   "metadata": {},
   "source": [
    "---\n",
    "Exercise 8\n",
    "---\n",
    "Given the following dictionary:  \n",
    "`population = {\"USA\": \"325719178\", \"Spain\": \"47329981\", \"China\": \"1403500365\", \"India\": \"1372065957\"}`\n",
    "\n",
    "Print out a row per each country saying \"There are (population) inhabitants in (country)\"."
   ]
  },
  {
   "cell_type": "code",
   "execution_count": null,
   "metadata": {},
   "outputs": [],
   "source": []
  },
  {
   "cell_type": "markdown",
   "metadata": {},
   "source": [
    "Doble-click to see the answer\n",
    "<!--\n",
    "population = {\"USA\": \"325719178\", \"Spain\": \"47329981\", \"China\": \"1403500365\", \"India\": \"1372065957\"}\n",
    "for key, value in population.items():\n",
    "    print(f\"There are {value} inhabitants in {key}\")\n",
    "-->"
   ]
  },
  {
   "cell_type": "markdown",
   "metadata": {},
   "source": [
    "---\n",
    "Exercise 9\n",
    "---\n",
    "Create a class that represents a dog. When you instantiate it, you must provide a name. The dog needs to eat and exercise. The fact of exercising increases the hunger while eating decreases it. Then, implement the necessary functions so the dog can do:\n",
    "- Bark. Print \"wof wof \" followed by the dog's name on the screen.\n",
    "- Eat. Decrease hunger. If the dog is not hungry at all (hunger = 0), print \"I'm not hungry\".\n",
    "- Exercise. Increase hunger. If the dog is too hungry (hunger > 1), print \"I'm starving!!\".\n",
    "\n",
    "Test your new class. Create an instance of a dog, name it as you wish and try making it bark. Also, feed it and make it exercise until you see both messages."
   ]
  },
  {
   "cell_type": "code",
   "execution_count": null,
   "metadata": {},
   "outputs": [],
   "source": []
  },
  {
   "cell_type": "markdown",
   "metadata": {},
   "source": [
    "Doble-click to see the answer\n",
    "<!--\n",
    "class Dog:\n",
    "    def __init__(self, name):\n",
    "        self.name = name\n",
    "        self.hunger = 0\n",
    "        \n",
    "    def bark(self):\n",
    "        print(f\"wof wof {self.name}\")\n",
    "        \n",
    "    def eat(self):\n",
    "        if (self.hunger > 0):\n",
    "            self.hunger -= 1\n",
    "        else:\n",
    "            print(\"I'm not hungry\")\n",
    "            \n",
    "    def exercise(self):\n",
    "        if (self.hunger > 1):\n",
    "            print(\"I'm starving!!\")\n",
    "        else:\n",
    "            self.hunger += 1\n",
    "            \n",
    "dog = Dog(\"Rantamplan\")\n",
    "dog.bark()\n",
    "# Eat but not hungry\n",
    "dog.eat()\n",
    "dog.exercise()\n",
    "dog.exercise()\n",
    "# Now it's hungry\n",
    "dog.exercise()\n",
    "dog.eat()\n",
    "dog.eat()\n",
    "# Again feed up\n",
    "dog.eat()\n",
    "-->"
   ]
  },
  {
   "cell_type": "markdown",
   "metadata": {},
   "source": [
    "---\n",
    "Exercise 10\n",
    "---\n",
    "Generate a random number between 1 and 9 (including 1 and 9). Ask the user to guess the number, then tell them whether they guessed too low, too high, or exactly right. Keep the game going until the user types “exit” and keep track of how many guesses the user has taken, and when the game ends, print this out.\n",
    "\n",
    "*HINT:* In order to generate random numbers you can use:  \n",
    "`import random\n",
    "number = random.randint(1, 9)`"
   ]
  },
  {
   "cell_type": "code",
   "execution_count": null,
   "metadata": {},
   "outputs": [],
   "source": []
  },
  {
   "cell_type": "markdown",
   "metadata": {},
   "source": [
    "Doble-click to see the answer\n",
    "<!--\n",
    "import random\n",
    "\n",
    "number = random.randint(1, 9)\n",
    "guess = 0\n",
    "count = 0\n",
    "\n",
    "while guess != number and guess != \"exit\":\n",
    "    guess = input(\"What number am I thinking of? \")\n",
    "    \n",
    "    if guess == \"exit\":\n",
    "        break\n",
    "    \n",
    "    guess = int(guess)\n",
    "    count += 1\n",
    "    \n",
    "    if guess < number:\n",
    "        print(\"Too low!\")\n",
    "    elif guess > number:\n",
    "        print(\"Too high!\")\n",
    "    else:\n",
    "        print(f\"Right! It was {number} and you guessed it with only {count} tries\")\n",
    "-->"
   ]
  },
  {
   "cell_type": "code",
   "execution_count": null,
   "metadata": {},
   "outputs": [],
   "source": []
  }
 ],
 "metadata": {
  "kernelspec": {
   "display_name": "Python 3",
   "language": "python",
   "name": "python3"
  },
  "language_info": {
   "codemirror_mode": {
    "name": "ipython",
    "version": 3
   },
   "file_extension": ".py",
   "mimetype": "text/x-python",
   "name": "python",
   "nbconvert_exporter": "python",
   "pygments_lexer": "ipython3",
   "version": "3.8.4"
  }
 },
 "nbformat": 4,
 "nbformat_minor": 4
}
