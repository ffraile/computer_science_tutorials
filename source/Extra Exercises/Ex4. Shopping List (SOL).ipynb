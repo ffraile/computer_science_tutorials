{
 "cells": [
  {
   "cell_type": "markdown",
   "metadata": {},
   "source": [
    "# Shopping basket\n",
    "\n",
    "## Try me\n",
    "[![Open In Colab](https://colab.research.google.com/assets/colab-badge.svg)](https://colab.research.google.com/github/ffraile/computer_science_tutorials/blob/main/source/Extra%20Exercises/Ex4.%20Shopping%20List%20(SOL).ipynb)[![Binder](https://mybinder.org/badge_logo.svg)](https://mybinder.org/v2/gh/ffraile/computer_science_tutorials/main?labpath=source%2FExtra%20Exercises%2FEx4.%20Shopping%20List%20(SOL).ipynb)\n",
    "\n",
    "Let´s build a bot to collect the shopping list of a user in a dictionary. Use the input function to get the name of the user, and the names and number of items that the user wants to add to the shopping list. The expected result is a dictionary like this:\n",
    "\n",
    "```python\n",
    "shopping_list = {\n",
    "    'user_name': 'Mark Grayson',\n",
    "    'shopping_list': [\n",
    "        {'product_name': 'Tomatoes', 'items': 3},\n",
    "        {'product_name': 'Chicken', 'items': 4},\n",
    "        {'product_name': 'Rice', 'items': 2}\n",
    "    ]}\n",
    "```\n",
    "\n",
    "That is, we store the name of the user in a string field, and shopping list in a list of dictionaries where each dictionary has a 'product_name' key with the value of the name of the product and an 'items' key with the number of items to purchase.\n",
    "Once you have collected this information, can you count the total number of items to purchase?\n"
   ]
  },
  {
   "cell_type": "markdown",
   "source": [
    "## Solution\n",
    "Ok, let´s build a shopping assistant Our assistant uses a while loop that breaks when the user enters a blank product name:"
   ],
   "metadata": {
    "collapsed": false
   }
  },
  {
   "cell_type": "code",
   "execution_count": 2,
   "metadata": {},
   "outputs": [
    {
     "name": "stdout",
     "output_type": "stream",
     "text": [
      "{'user_name': 'Mark Grayson', 'shopping_list': [{'product_name': 'Kanslok', 'items': 25}, {'product_name': 'Fried Sequids', 'items': 10}, {'product_name': 'Talescrian Lobster', 'items': 13}]}\n"
     ]
    }
   ],
   "source": [
    "# Let´s build a shopping assistant\n",
    "my_shopping_list = {} #Empty dictionary\n",
    "user_name = input(\"Tell me your name\")\n",
    "my_shopping_list[\"user_name\"] = user_name\n",
    "my_shopping_list[\"shopping_list\"] = []\n",
    "while True:\n",
    "  product_name = input(\"Tell me the name of the product (or press enter to stop): \")\n",
    "  if product_name == \"\":\n",
    "    break\n",
    "  no_items = int(input(\"Tell me the number of items:\"))\n",
    "  new_product_info = {\n",
    "      \"product_name\":product_name,\n",
    "      \"items\":no_items\n",
    "      }\n",
    "  my_shopping_list[\"shopping_list\"].append(new_product_info)\n",
    "\n",
    "\n",
    "print(my_shopping_list)"
   ]
  },
  {
   "cell_type": "code",
   "execution_count": 4,
   "metadata": {},
   "outputs": [
    {
     "name": "stdout",
     "output_type": "stream",
     "text": [
      "Hello, Mark Grayson you have added a total of 48 items to your shopping list\n"
     ]
    }
   ],
   "source": [
    "# To get the total number of items, just traverse the product list:\n",
    "total_items = 0\n",
    "for product in my_shopping_list[\"shopping_list\"]:\n",
    "    total_items += product[\"items\"]\n",
    "\n",
    "print(f\"Hello, {my_shopping_list['user_name']} you have added a total of {total_items} items to your shopping list\")"
   ]
  },
  {
   "cell_type": "markdown",
   "source": [
    "## Analysis questions\n",
    "1. **Error Handling**: What happens if the user enters a string instead of a number when asked for the number of items? And what happens if the user enters a negative number? Can you modify the code to handle this error? What happens if the user enters a blank product name? Can you modify the code to handle this error?\n",
    "\n",
    "2. **Data structure**: Can you think of a better data structure to store the shopping list? What if we want to add the price of each item? What if we want to add the total price of the shopping list? What if we want to add the shop where we can buy each item?\n",
    "\n",
    "3. **Data Persistence**: Can you think of a way to store the shopping list in a file so that we can retrieve it later?\n",
    "\n",
    "4. **Personalization:** How does the chatbot personalize the interaction with the user? How does it *remember* the user's name throughout the conversation?\n",
    "\n",
    "5. **Nested Structures:** Describe how the dictionary is structured. Why might nested dictionaries be useful in this scenario?"
   ],
   "metadata": {
    "collapsed": false
   }
  }
 ],
 "metadata": {
  "kernelspec": {
   "display_name": "Python 3",
   "language": "python",
   "name": "python3"
  },
  "language_info": {
   "codemirror_mode": {
    "name": "ipython",
    "version": 3
   },
   "file_extension": ".py",
   "mimetype": "text/x-python",
   "name": "python",
   "nbconvert_exporter": "python",
   "pygments_lexer": "ipython3",
   "version": "3.8.4"
  },
  "pycharm": {
   "stem_cell": {
    "cell_type": "raw",
    "source": [],
    "metadata": {
     "collapsed": false
    }
   }
  }
 },
 "nbformat": 4,
 "nbformat_minor": 4
}
