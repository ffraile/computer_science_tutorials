{
 "cells": [
  {
   "cell_type": "markdown",
   "metadata": {
    "collapsed": true,
    "pycharm": {
     "name": "#%% md\n"
    }
   },
   "source": [
    "# Problem description\n",
    "The flow chart diagram in the figure below describes the logic of a program. \n",
    "\n",
    "![Squares](img/squares.png)\n",
    "\n",
    "\n",
    "Note that some of the shapes have text within parenthesis. The text corresponds to the Python code used to implement \n",
    "the rectangular shape that contains it.\n"
   ]
  },
  {
   "cell_type": "markdown",
   "source": [
    "What is the value of the variable result before the beginning of the while loop? and what are the values returned when \n",
    "the value of the input iters is equal to 6?\n",
    "\n",
    "The value result is initialised as the set [1] in the first statement after the input and the value is unchanged until \n",
    " the beginning of the loop, so the value of result is \n",
    " ```result = [1]```\n",
    "\n",
    "Now, at every loop, the problem adds 1 to the value of the variable n which is initialised as 1, and if the value of n \n",
    "is even, it calculates the square of n, and adds it to the set, and if not, it adds it unchanged. \n",
    "The result after six iterations is therefore: \n",
    "\n",
    "[1, 4, 3, 16, 5, 36]\n",
    "\n",
    "You can test the following cell that implements the code:"
   ],
   "metadata": {
    "collapsed": false,
    "pycharm": {
     "name": "#%% md\n"
    }
   }
  },
  {
   "cell_type": "code",
   "execution_count": null,
   "outputs": [],
   "source": [
    "iter = int(input(\"enter length: \"))\n",
    "result = [1]\n",
    "n = 1\n",
    "while n < iter:\n",
    "  n += 1\n",
    "  if n%2 == 0:\n",
    "    new_item = n**2\n",
    "  else:\n",
    "    new_item = n\n",
    "  result.append(new_item)\n",
    "\n",
    "print(result)"
   ],
   "metadata": {
    "collapsed": false,
    "pycharm": {
     "name": "#%%\n"
    }
   }
  },
  {
   "cell_type": "markdown",
   "source": [
    "Given that there is a function np.power(x1, x2) that takes two arrays x1 and x2 and returns the elements of the first \n",
    "array x1 raised to powers from second array x2, element-wise (e.g. np.power([1, 2, 3], [3,2,1]) returns [1, 4, 3]), \n",
    "define x1 and x2 to obtain the same result using the function np.power (0.5 points)\n"
   ],
   "metadata": {
    "collapsed": false,
    "pycharm": {
     "name": "#%% md\n"
    }
   }
  },
  {
   "cell_type": "markdown",
   "source": [
    "If we want to obtain:\n",
    "\n",
    "[1, 4, 3, 16, 5, 36]\n",
    "\n",
    "\n",
    "As the power of arrays, the logical solution is: \n",
    "\n",
    "x1 = [1, 2, 3, 4, 5, 6]\n",
    "x2 = [1, 2, 1, 2, 1, 2]\n",
    "\n",
    "The library actually exists in the library Numpy:"
   ],
   "metadata": {
    "collapsed": false,
    "pycharm": {
     "name": "#%% md\n"
    }
   }
  },
  {
   "cell_type": "code",
   "execution_count": null,
   "outputs": [],
   "source": [
    "import numpy as np\n",
    "x1 = [1, 2, 3, 4, 5, 6]\n",
    "x2 = [1, 2, 1, 2, 1, 2]\n",
    "result = np.power(x1, x2)\n",
    "\n",
    "result\n"
   ],
   "metadata": {
    "collapsed": false,
    "pycharm": {
     "name": "#%%\n"
    }
   }
  }
 ],
 "metadata": {
  "kernelspec": {
   "display_name": "Python 3",
   "language": "python",
   "name": "python3"
  },
  "language_info": {
   "codemirror_mode": {
    "name": "ipython",
    "version": 2
   },
   "file_extension": ".py",
   "mimetype": "text/x-python",
   "name": "python",
   "nbconvert_exporter": "python",
   "pygments_lexer": "ipython2",
   "version": "2.7.6"
  },
  "pycharm": {
   "stem_cell": {
    "cell_type": "raw",
    "source": [],
    "metadata": {
     "collapsed": false
    }
   }
  }
 },
 "nbformat": 4,
 "nbformat_minor": 0
}