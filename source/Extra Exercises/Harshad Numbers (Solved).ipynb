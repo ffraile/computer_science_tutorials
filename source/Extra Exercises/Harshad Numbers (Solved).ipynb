{
 "cells": [
  {
   "cell_type": "markdown",
   "source": [
    "# Hardshad Numbers\n",
    "\n",
    "{{ badges }}\n",
    "\n",
    "## Problem Definition\n",
    "Harshad numbers or Niven numbers are integer numbers which are divisible by the sum of its digits in a given base. For instance, 12 is a Harshad number in base 10 because it is divisible by (1 + 2) 3, and 20 is a Harshad number because it is divisible by (2 + 0) 2. However, 15 is not a Harshad number in base 10 because it is not divisible by (1+5) 6. In general, an integer number $X$ can be expressed in a given base $n$ as:\n",
    "\n",
    "$$\n",
    "X = \\sum_{i=0}^{m-1}{a_i*n^i}\n",
    "$$\n",
    "\n",
    "where $m$ is the number of digits and ($a_0, a_1, a_2, ..., a_{m-1}$) are the digits of the integer number. $X$ is a Harshad number in base n if and only if:\n",
    "\n",
    "$$\n",
    "X \\mod \\sum_{i=0}^{m-1}{a_i0} = 0\n",
    "$$\n",
    "\n",
    "That is, the remainder after integer division of $X$ by the sum of its digits is 0. You can read everything about Harshad numbers [here](https://en.wikipedia.org/wiki/Harshad_number).\n",
    "\n",
    "Write a function that tests if an integer number passed as argument is a Harshad number in base 10 (that is, it returns True if the number can be divided by the sum of its digits).\n",
    "Can you modify the function so that it takes a second parameter with the base for which you want to make the test?"
   ],
   "metadata": {
    "collapsed": false
   }
  },
  {
   "cell_type": "markdown",
   "source": [
    "## Solution\n",
    "The first solution first converts the number to a string and then converts each digit to an integer, to sum the digits one by one in a variable, and then find if the modulo of the number by the sum of its digits is zero:"
   ],
   "metadata": {
    "collapsed": false
   }
  },
  {
   "cell_type": "code",
   "execution_count": 2,
   "outputs": [
    {
     "name": "stdout",
     "output_type": "stream",
     "text": [
      "False\n",
      "True\n"
     ]
    }
   ],
   "source": [
    "def is_harshad(x):\n",
    "    # let´s convert it to a string\n",
    "    x_str = str(x)\n",
    "    sum_digits = 0\n",
    "    for digit in x_str:\n",
    "        sum_digits += int(digit)\n",
    "\n",
    "    return x % sum_digits == 0\n",
    "\n",
    "print(is_harshad(15))\n",
    "print(is_harshad(20))"
   ],
   "metadata": {
    "collapsed": false
   }
  },
  {
   "cell_type": "markdown",
   "source": [
    "This strategy is very Pythonic, compact and elegant, but it cannot be easily generalized to an arbitrary base. However, the following strategy can be applied to any base:"
   ],
   "metadata": {
    "collapsed": false
   }
  },
  {
   "cell_type": "code",
   "execution_count": 5,
   "outputs": [
    {
     "name": "stdout",
     "output_type": "stream",
     "text": [
      "True\n",
      "False\n",
      "True\n",
      "True\n"
     ]
    }
   ],
   "source": [
    "def is_harshad(x, n=10):\n",
    "    i = 0\n",
    "    sum_digits = 0\n",
    "    while x / (n**i) > 1:\n",
    "        sum_digits += (x // (n**i)) % n\n",
    "        i += 1\n",
    "    return x % sum_digits == 0\n",
    "\n",
    "print(is_harshad(20))\n",
    "print(is_harshad(15))\n",
    "print(is_harshad(33, n=12))\n",
    "print(is_harshad(50, n=16))\n"
   ],
   "metadata": {
    "collapsed": false
   }
  },
  {
   "cell_type": "markdown",
   "source": [
    "In this solution, we use a while loop where the stop condition is that the division $frac{x}{n^i} is greater than 1. $i$ is initialized at zero and increased by 1 in each repetition loop. This stop condition ensures that the while loop is stopped when $i$ is exactly equal to $m$ and any further digit will always be zero.\n",
    "Then, for every value of $i$, we calculate the digit as:\n",
    "\n",
    "$$\n",
    "a_i = (x // n^i) \\mod n\n",
    "$$\n",
    "\n",
    "The left operand of the modulo function is the integer division of x by $n^i$, which can be any integer number, then we perform the modulo operator to ensure that the number is between 0 and n-1."
   ],
   "metadata": {
    "collapsed": false
   }
  }
 ],
 "metadata": {
  "kernelspec": {
   "display_name": "Python 3",
   "language": "python",
   "name": "python3"
  },
  "language_info": {
   "codemirror_mode": {
    "name": "ipython",
    "version": 2
   },
   "file_extension": ".py",
   "mimetype": "text/x-python",
   "name": "python",
   "nbconvert_exporter": "python",
   "pygments_lexer": "ipython2",
   "version": "2.7.6"
  }
 },
 "nbformat": 4,
 "nbformat_minor": 0
}
