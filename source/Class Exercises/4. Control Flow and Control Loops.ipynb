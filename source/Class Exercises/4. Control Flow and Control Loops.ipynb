{
 "cells": [
  {
   "cell_type": "markdown",
   "metadata": {},
   "source": [
    "1. Develop an if statement that prints \"Yes, the number if divisible by 2 and 3\" if a given integer variable named 'input_number' is a multiple of 2 and a multiple of 3"
   ]
  },
  {
   "cell_type": "markdown",
   "metadata": {},
   "source": [
    "2. Modify the if statement so that it prints the same message if the number is a multiple of 2 and 3, and additionally it prints \"Yes, the number is divisible by 2\" if the 'input_number' variable is a multiple of 2, but not a multiple of 3, and that it prints \"Yes, the number is divisible by 3\" if the 'input_number' variable is a multiple of 3, but not a multiple of 2"
   ]
  },
  {
   "cell_type": "markdown",
   "metadata": {},
   "source": [
    "3. Complete the following Python script so that it exists a while loop when the input provided by the user, stored in the variable \"your_guess\" is equal to the variable \"my_name\""
   ]
  },
  {
   "cell_type": "code",
   "execution_count": null,
   "metadata": {},
   "outputs": [],
   "source": [
    "my_name = \"Thomas\"\n",
    "your_guess = \"\"\n"
   ]
  },
  {
   "cell_type": "markdown",
   "metadata": {},
   "source": [
    "4. Use the range function to print the even numbers from 1 to 20 in reverse order"
   ]
  },
  {
   "cell_type": "markdown",
   "metadata": {},
   "source": [
    "5. Modify the previous exercise to print odd numbers from 1 to 19 instead and use the break statement in your solution to exit the for loop when an even number is a multiple of a previous even number except 1"
   ]
  }
 ],
 "metadata": {
  "language_info": {
   "name": "python"
  },
  "orig_nbformat": 4
 },
 "nbformat": 4,
 "nbformat_minor": 2
}
