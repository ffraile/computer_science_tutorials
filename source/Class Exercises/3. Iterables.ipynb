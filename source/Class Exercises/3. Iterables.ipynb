{
 "cells": [
  {
   "cell_type": "markdown",
   "source": [
    "1. Create a list where each member is a word of the sentence \"Welcome to Computer Science 101\""
   ],
   "metadata": {}
  },
  {
   "cell_type": "markdown",
   "source": [
    "2. Iterate on the array created above and use indexing in each member to print the first character of each word"
   ],
   "metadata": {}
  },
  {
   "cell_type": "markdown",
   "source": [
    "3. Use the ```in``` operator to determine if the word \"Science\" is in the created list."
   ],
   "metadata": {}
  },
  {
   "cell_type": "markdown",
   "source": [
    "4. Given a string variable of arbitrary length named 'my_string', write down a script to obtain the characters two by two in reverse order."
   ],
   "metadata": {}
  },
  {
   "cell_type": "markdown",
   "source": [
    "5. Given two lists containing integers of the same length, obtain another list where the values in even index i is the sum of i-th values of the arrays and the values in odd index j is the substraction of the j-th values of the arrays.  "
   ],
   "metadata": {}
  }
 ],
 "metadata": {
  "orig_nbformat": 4,
  "language_info": {
   "name": "python"
  }
 },
 "nbformat": 4,
 "nbformat_minor": 2
}