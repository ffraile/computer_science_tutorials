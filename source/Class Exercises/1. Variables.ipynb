{
 "cells": [
  {
   "cell_type": "markdown",
   "source": [
    "1. Define a variable named 'x_var' and assign it an arbitrary value. Create another variable called 'y_var' and assign it 'x_var' as value. Prove that both variables use the same memory address. \r\n",
    "Now add 1 to x_var. Do both variables still use the same memory address? Why?"
   ],
   "metadata": {}
  },
  {
   "cell_type": "markdown",
   "source": [
    "2. Write down a Python script to define a complex variable named 'x', and another complex variable named 'y' and assign to a variable named 'z' the value of the sum of the imaginary parts of 'x' and 'y'"
   ],
   "metadata": {}
  },
  {
   "cell_type": "markdown",
   "source": [
    "3. Write down a Python script to define a float variable named 'x' and another float variable named 'y' and a complex variable named 'z' whose real part is equal to the value of 'x' and the imaginary part equal to the value of 'y'"
   ],
   "metadata": {}
  },
  {
   "cell_type": "markdown",
   "source": [
    "4. Define a string variable named 'my_string' and assign it the value \"Computer science is awesome!\". Check the documentation of the string functions and use a function to print a copy of the string with all cased characters converted to uppercase."
   ],
   "metadata": {}
  },
  {
   "cell_type": "markdown",
   "source": [
    "5. Define a format string to print the real and imaginary parts of a complex number with two decimals."
   ],
   "metadata": {}
  }
 ],
 "metadata": {
  "orig_nbformat": 4,
  "language_info": {
   "name": "python",
   "version": "3.8.1",
   "mimetype": "text/x-python",
   "codemirror_mode": {
    "name": "ipython",
    "version": 3
   },
   "pygments_lexer": "ipython3",
   "nbconvert_exporter": "python",
   "file_extension": ".py"
  },
  "kernelspec": {
   "name": "python3",
   "display_name": "Python 3.8.1 64-bit"
  },
  "interpreter": {
   "hash": "2db524e06e9f5f4ffedc911c917cb75e12dbc923643829bf417064a77eb14d37"
  }
 },
 "nbformat": 4,
 "nbformat_minor": 2
}