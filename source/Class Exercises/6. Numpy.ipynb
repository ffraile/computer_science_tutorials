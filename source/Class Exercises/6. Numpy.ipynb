{
 "cells": [
  {
   "cell_type": "markdown",
   "source": [
    "1. Use array programming to calculate the total sales revenues given the vector of sold units: \r\n",
    "```python sold_units = [15, 13, 23]``` and a the vector of prices per unit ```python prices = [10, 8, 9]```. Both vectors contain the sales and prices of the products in the same ordering by product type. "
   ],
   "metadata": {}
  },
  {
   "cell_type": "markdown",
   "source": [
    "2. Reshape the following array ```an_array = [0,1,2,3,4,5,6,7]``` into a matrix of rank 3 and equal number of elements in each dimension "
   ],
   "metadata": {}
  },
  {
   "cell_type": "markdown",
   "source": [
    "3. Check the Numpy library documentation and write a Python script to generate a multidimensional array of shape (10,10,1000) where the elements are integer numbers drawn from a discrete uniform distribution in the range [0, 100]."
   ],
   "metadata": {}
  },
  {
   "cell_type": "markdown",
   "source": [
    "4. Write a script to compute the average values of the matrix above along each dimension, using the function numpy.mean."
   ],
   "metadata": {}
  },
  {
   "cell_type": "markdown",
   "source": [
    "5. Write a Python script that a) defines two arrays of shape (1000,1000) and b) defines a third array that contains the element-wise maxima of the elements in both arrays. Check the numpy.maximum documentation."
   ],
   "metadata": {}
  }
 ],
 "metadata": {
  "orig_nbformat": 4,
  "language_info": {
   "name": "python"
  }
 },
 "nbformat": 4,
 "nbformat_minor": 2
}