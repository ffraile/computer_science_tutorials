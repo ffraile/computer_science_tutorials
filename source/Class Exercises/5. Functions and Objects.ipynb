{
 "cells": [
  {
   "cell_type": "markdown",
   "metadata": {},
   "source": [
    "1. Write down a function that takes a string as a parameter and returns the same string in reverse order."
   ]
  },
  {
   "cell_type": "markdown",
   "metadata": {},
   "source": [
    "2. Write down a function that takes an arbitrary number of strings as parameters and returns the total number of words in all of them"
   ]
  },
  {
   "cell_type": "markdown",
   "metadata": {},
   "source": [
    "3. Write down a function named \"array_power\" that takes an arbitrary number of integers, and a named parameter \"base\" with default value 2 and returns the power of the base parameter to the sum of the integers. e.g array_power(1, 2) returns 8 and array_power(1, 1, 1, base=3) returns 27. "
   ]
  },
  {
   "cell_type": "markdown",
   "metadata": {},
   "source": [
    "4. Write down a polygon class that has a property named sides representing the number of sides. Write down a class rectangle and a class triangle that extend the polygon class and have methods called get_area() that returns the area of the polygon."
   ]
  },
  {
   "cell_type": "markdown",
   "metadata": {},
   "source": [
    "5. Write down a class to store personal data of your customers, with properties \"first_name\", and \"family_name\". Implement a method named get initials that returns the initials of the customer. "
   ]
  }
 ],
 "metadata": {
  "language_info": {
   "name": "python"
  },
  "orig_nbformat": 4
 },
 "nbformat": 4,
 "nbformat_minor": 2
}
