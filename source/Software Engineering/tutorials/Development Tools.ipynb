{
 "cells": [
  {
   "attachments": {},
   "cell_type": "markdown",
   "metadata": {
    "collapsed": false
   },
   "source": [
    "# Development Tools\n",
    "## Introduction\n",
    "This tutorial describes some development tools beyond Jupyter Notebooks that you can use in complex projects. These tools are not required for the course, but they can be useful for more advanced projects, so take this unit as an encouragement to continue learning and exploring computer science, knowing that the best way of learning programming is by programming.\n",
    "\n",
    "In general, the main tools that you will be using when working on a development program are:\n",
    "\n",
    "- **Software Project Management Tools**: Tools that facilitate the adoption of **agile development methodologies**. Agile development has become almost a de-facto standard for software development, and consequently, the use of software tools that help software project managers manage software releases is becoming increasingly important. **Github** and **Gitlab** provide some basic tools off-the-shelf.\n",
    "- **Integrated Development Environment (IDE)**: A software application that provides comprehensive tools to facilitate computer development. An IDE normally consists of a **source code editor**, **build automation tools** and a **debugger**. Most modern IDEs have intelligent code completion, and even smart coding assistance based on Artificial Intelligence.  IDEs increase programmer productivity providing code syntax highlights to spot errors, auto-complete features to speed up coding, error detection, and many more. Some prominent examples are [Visual Studio](https://code.visualstudio.com/) and [Pycharm](https://www.jetbrains.com/pycharm/).\n",
    "\n",
    "- **Continuous Integration and Continuous Delivery (CI/CD)**: Also known as **continuous deployment**, is a software development practice where developers regularly merge their code changes into a central repository, after which automated builds and tests are run. This is done to ensure that the code can be integrated into a shared codebase at any time. CI/CD is a key component of agile software development, and it is often used in conjunction with agile project management tools. CI/CD is a key component of agile software development, and it is often used in conjunction with agile project management tools. [Jenkins](https://jenkins.io/) is a popular open source CI/CD tool, but again, **Github** and **Gitlab** have their own CI/CD tools.\n",
    "\n",
    "## Git\n",
    "As mentioned above, Git is a free and open source Open source distributed Source Code Management (SCM) system, a software for managing and tracking software development projects developed by [Linus Torvalds](https://en.wikipedia.org/wiki/Linus_Torvalds). If you are not familiar with Linus, he is the creator of the Linux operating system.\n",
    "\n",
    "As with most other distributed version control systems, and unlike most client–server systems, every Git directory on every computer is a full-fledged repository with complete history and full version tracking abilities, independent of network access or a central server. Like the Linux kernel, Git is free software distributed under the terms of the GNU General Public License version 2.\n",
    "\n",
    "Before we dive into details, let us first create a Github account. Go to [Github](https://github.com/) and create an account. You will just need a username, email and password.\n",
    "\n",
    "> ☝ **Important**: If you have an email account from a university, you can get a free [Github Student Developer Pack](https://education.github.com/pack) that includes a lot of free software and services!! Use it to create your Github account!!\n",
    "\n",
    "### Git Installation\n",
    "Git is a command line tool, so you will need to install it on your computer. Go to [Git](https://git-scm.com/downloads) and download the version for your operating system. Follow the installation instructions. You can check if Git is installed by opening a terminal and typing `git --version`. You should see something like this:\n",
    "\n",
    "```bash\n",
    "$ git --version\n",
    "git version 2.17.1\n",
    "```\n",
    "\n",
    "> ☝ You can skip this step if you are going to install an IDE, as most IDEs come with Git support.\n",
    "\n",
    "### Git features\n",
    "#### Distributed workflows\n",
    "The main difference with other SCM is that every user clones the entire repository, so that there is no central copy subject to failure. Combined with branching and merging, this enables different types of distributed workflows. Check https://git-scm.com/about/distributed for more information.\n",
    "\n",
    "#### Branching and merging\n",
    "Git allows you to create branches, which are essentially an independent line of development. The master branch is the “default” branch when you create a repository. Use other branches for development and merge them back to the master branch upon completion. Developers can create different branches to implement or experiment with different features without colliding with each other. Merging one branch into another means adding the changes of the former to the latter. You can learn more about branching and merging in [this tutorial](https://git-scm.com/book/en/v2/Git-Branching-Basic-Branching-and-Merging).\n",
    "\n",
    "### Git Commands\n",
    "Git is a command line tool, so you will need to use the terminal to interact with it. If you are using Windows, you can use the [Windows Subsystem for Linux](https://docs.microsoft.com/en-us/windows/wsl/install-win10) to run Linux commands on Windows. If you are using Mac, you can use the [Terminal](https://support.apple.com/guide/terminal/welcome/mac) application. If you are using Linux, you can use the [Terminal](https://help.ubuntu.com/community/UsingTheTerminal) application.\n",
    "\n",
    "Git has a lot of commands, but we will only cover the most important ones. You can find a complete list of Git commands [here](https://git-scm.com/docs).\n",
    "\n",
    "- Git clone Create a clone of a repository into a new local directory\n",
    "- Git branch: Create, delete or update branches\n",
    "- Git switch: Switch local directory to another branch\n",
    "- Git commit: Record changes in local directory files into the repository. Commit requires a message describing the changes\n",
    "- Git push: Upload changes to repository\n",
    "- Git pull: Download changes from repository to local directory\n",
    "\n",
    "\n",
    "\n",
    "## IDEs\n",
    "IDEs are a very important tool for software development. They provide a lot of features that can help you to develop your code faster and more efficiently. In this section, we will use as an example, Visual Studio.\n",
    "To install it in your system, just go to the [Visual Studio](https://code.visualstudio.com/) website and download the version that suits your system. Once you have installed it, you can open it and start working with it.\n",
    "\n",
    "### Visual Studio\n",
    "Visual Studio is a powerful IDE that can be used to develop applications for Windows, Linux, Mac, Android, iOS, and the web. It is a very powerful IDE, but it is also very complex. It has a lot of features that can be overwhelming for beginners. In this section, we will only cover the most important features that you will need to start developing your code.\n",
    "\n",
    "#### Copilot\n",
    "Copilot is a service provided by Github that uses machine learning to help you write code. It is free for academic use. You can read more about it [here](https://copilot.github.com/). To use it, you will need to install the [Github Copilot extension](https://marketplace.visualstudio.com/items?itemName=GitHub.copilot) in Visual Studio. Once you have install it, it will ask you to login to Github. Once you have logged in, you can start using it. You can read more about it [here](https://docs.github.com/en/github/developing-online-with-codespaces/using-codespaces-with-copilot).\n",
    "\n",
    "#### Clone a repository\n",
    "To clone a repository, you need to open the **Source Control** tab on the left side of the screen. Then, click on the **Clone Repository** button. You will then need to enter the url of the repository. You can find the url of the repository by going to the repository page on Github and clicking on the **Clone or download** button. You will then need to enter the url of the repository. You can find the url of the repository by going to the repository page on Github and clicking on the **Clone or download** button. You will then need to enter the url of the repository.\n",
    "\n",
    "#### Create a file and start coding\n",
    "Ok, now you are ready to create the first file in your repository, for instance, a Jupyter Notebook file. Just click on the **Explorer** tab on the left side of the screen. Then, right click on the folder where you want to create the file and select **New File**. You will then need to enter the name of the file. For instance, `hello_world.ipynb`. Once you have created the file, you can start coding.\n",
    "\n",
    "#### Staging and committing changes\n",
    "Once you have found the file you want to edit, just double click on it. You can then start editing the file. Once you have finished editing the file, you will need to stage and commit the changes. To do this, you need to open the **Source Control** tab on the left side of the screen. Then, click on the **+** button next to the file you want to stage. You will then need to enter a commit message. Once you have entered the commit message, you can click on the **check** button to commit the changes.\n"
   ]
  }
 ],
 "metadata": {
  "kernelspec": {
   "display_name": "Python 3",
   "language": "python",
   "name": "python3"
  },
  "language_info": {
   "codemirror_mode": {
    "name": "ipython",
    "version": 2
   },
   "file_extension": ".py",
   "mimetype": "text/x-python",
   "name": "python",
   "nbconvert_exporter": "python",
   "pygments_lexer": "ipython2",
   "version": "3.8.1 (tags/v3.8.1:1b293b6, Dec 18 2019, 23:11:46) [MSC v.1916 64 bit (AMD64)]"
  },
  "vscode": {
   "interpreter": {
    "hash": "9650cb4e16cdd4a8e8e2d128bf38d875813998db22a3c986335f89e0cb4d7bb2"
   }
  }
 },
 "nbformat": 4,
 "nbformat_minor": 0
}
