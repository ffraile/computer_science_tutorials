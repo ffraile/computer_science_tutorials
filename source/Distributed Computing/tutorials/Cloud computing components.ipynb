{
 "cells": [
  {
   "cell_type": "markdown",
   "source": [
    "Containers and Orchestrators Thanks to the development of virtualisation, the use of containers has become one of the pillars within the distribution, deployment and maintenance of applications. The most popular tool is Docker, although there are others such as OpenVZ or LXD. These containers are used to market services centred on microservices architecture, and are very useful as they allow small services with their own dependencies to be easily managed and deployed independently of the system. This is where Containers as a Service (CaaS) come in, allowing users to load, organise, start and manage containers.\n",
    "\n",
    "When dealing with a large number of microservices in numerous containers, the cost to the user can be quite high. This is where service orchestration comes in, which allows self-scaling or load balancing between containers, making it easier to manage these architectures. The main open source orchestrators are:\n",
    "\n",
    "- Kubernetes: An open source system that orchestrates Docker containers, originally developed by Google. It is the default standard for orchestration in both public and private clouds. This is due to its reliability, auto-scaling and load balancing. So much so that it is the orchestrator used by companies such as Amazon or Microsoft (Kubernetes, 2019).\n",
    "\n",
    "- Docker Swarm: Developed by the Docker company, it offers the orchestration services offered by Kubernetes. Docker Swarm is managed by the same engine that Docker uses, so there are many facilities for the user using the Docker client (Docker, 2020).\n",
    "\n",
    "- OpenShift: This is an open-source version of RedHat for the Kubernetes distribution that runs natively on AWS. By using the same environment as Kubernetes, it is ready for many enterprises to move workloads to the cloud more easily (RedHat, 2020)."
   ],
   "metadata": {
    "collapsed": false,
    "pycharm": {
     "name": "#%% md\n"
    }
   }
  }
 ],
 "metadata": {
  "kernelspec": {
   "display_name": "Python 3",
   "language": "python",
   "name": "python3"
  },
  "language_info": {
   "codemirror_mode": {
    "name": "ipython",
    "version": 2
   },
   "file_extension": ".py",
   "mimetype": "text/x-python",
   "name": "python",
   "nbconvert_exporter": "python",
   "pygments_lexer": "ipython2",
   "version": "2.7.6"
  }
 },
 "nbformat": 4,
 "nbformat_minor": 0
}