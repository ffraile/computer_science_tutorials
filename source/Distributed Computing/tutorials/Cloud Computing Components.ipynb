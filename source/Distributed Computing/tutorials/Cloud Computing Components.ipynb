{
 "cells": [
  {
   "cell_type": "markdown",
   "source": [
    "\n",
    "## The lifecycle of cloud computing resources\n",
    "\n",
    "One of the most important features of the cloud, whether public, private or hybrid, is that end users only use computing resources when they need them and are therefore charged only for the time, they use those resources. In other words, renting specific resources for a specific period. In contrast, physical data centres are computers that a company owns to store and use for the lifetime of the computers.\n",
    "\n",
    "For a cloud provider to be able to meet all the needs of consumers, its platforms must be designed to be able to respond immediately to customer requests. Because a provider does not know when a customer may request a resource, the design must keep resources available for use at any time. On the other hand, the cloud provider must constantly keep track of all the resources it owns and can monitor and track the resources used by the customer to bill the customer for exactly what was requested. When a consumer has finished using those resources, the cloud platform must be able to make the resources available again for use by other customers.\n",
    "\n",
    "However, one can see the situation where a service provider is unable to anticipate a specific customer need. In that case, it is common for service providers to have the ability to connect to a third party to provide that service to the customer. Hence, standardised, and automated tools are used for their management. Typically, end customers are not aware that they are using additional services from another provider.\n",
    "\n",
    "##  Virtualization a resources\n",
    "\n",
    "Virtualisation has brought a major change in the way IT organisations operate and has had a very positive influence on cloud computing. The concept of virtualisation is the abstraction of computing resources (storage, network, CPU, memory...) from the applications and end users consuming the service. When an end user receives a PaaS, he is directly provided with an operating system that abstracts all available physical server components. Virtualisation and multitasking operating systems have similar working capabilities. It allows to centralise several virtual servers on a single physical machine. If an organisation needs to run two or more servers for a particular task in case one fails, it is relatively easy to migrate from one physical computer to another. Virtualisation technologies therefore enable multi-tenant cloud business models to provide a scalable and shared resource platform. Virtualisation can help save energy, decrease the cost and footprint of server hardware, and therefore help companies maximise their profits.\n",
    "\n",
    "## Containers\n",
    "\n",
    "Containers are instances of a runtime object defined by an image. They provide a lightweight environment in which to run an application. A container and an image are related concepts, but they have some differences.\n",
    "\n",
    "An image is a snapshot that cannot change or update a container. This image will generate a container if it is executed. Images store a layered record that saves space on the server. These image layers are a set of instructions that cannot be changed and that allow you to create the container.\n",
    "\n",
    "An instruction to launch an image would be:\n",
    "\n",
    "\n",
    "```\n",
    "docker run [OPTIONS] IMAGE [COMMAND]\n",
    "```\n",
    "\n",
    "Containers have defined resources that they will use, isolated from the rest of the machine. It contains all the source code of the developed applications, as well as the necessary system tools. They are somewhat different from virtual machines (VMs), but containers can be thought of as lightweight iterations of VMs.\n",
    "\n",
    "Although containers have been around since the late 1970s, the technology wasn't mature enough to run applications in production until Docker debuted its platform in 2013. A modern container is a self-contained runtime environment and repository for everything your application needs to run.\n",
    "\n",
    "## Deploying microservices to containers\n",
    "\n",
    "Microservices are the perfect architecture to take advantage of all the infrastructure offered by containers. As we have seen above, containers are independent of each other and can be hosted individually. Microservices are used through APIs, which means that different services can be created in containers and used only when applications require them. This can reduce costs by reducing the amount of time spent in the cloud.\n",
    "\n",
    "## Orchestators\n",
    "\n",
    "Thanks to the development of virtualization, the use of containers has become one of the pillars within the distribution, deployment and maintenance of applications. The most popular tool is Docker, although there are others such as OpenVZ or LXD. These containers are used to market services centred on micro-services architecture, and are very useful as they allow small services with their own dependencies to be easily managed and deployed independently of the system. This is where Containers as a Service (CaaS) come in, allowing users to load, organise, start and manage containers.\n",
    "\n",
    "When dealing with a large number of microservices in numerous containers, the cost to the user can be quite high. This is where service orchestration comes in, which allows self-scaling or load balancing between containers, making it easier to manage these architectures. The main open source orchestrators are:\n",
    "\n",
    "- Kubernetes: An open source system that orchestrates Docker containers, originally developed by Google. It is the default standard for orchestration in both public and private clouds. This is due to its reliability, auto-scaling and load balancing. So much so that it is the orchestrator used by companies such as Amazon or Microsoft (Kubernetes, 2019).\n",
    "- Docker Swarm: Developed by the Docker company, it offers the orchestration services offered by Kubernetes. Docker Swarm is managed by the same engine that Docker uses, so there are many facilities for the user using the Docker client (Docker, 2020).\n",
    "- OpenShift: This is an open-source version of RedHat for the Kubernetes distribution that runs natively on AWS. By using the same environment as Kubernetes, it is ready for many enterprises to move workloads to the cloud more easily (RedHat, 2020).\n",
    "\n"
   ],
   "metadata": {
    "collapsed": false,
    "pycharm": {
     "name": "#%% md\n"
    }
   }
  }
 ],
 "metadata": {
  "kernelspec": {
   "display_name": "Python 3",
   "language": "python",
   "name": "python3"
  },
  "language_info": {
   "codemirror_mode": {
    "name": "ipython",
    "version": 2
   },
   "file_extension": ".py",
   "mimetype": "text/x-python",
   "name": "python",
   "nbconvert_exporter": "python",
   "pygments_lexer": "ipython2",
   "version": "2.7.6"
  }
 },
 "nbformat": 4,
 "nbformat_minor": 0
}