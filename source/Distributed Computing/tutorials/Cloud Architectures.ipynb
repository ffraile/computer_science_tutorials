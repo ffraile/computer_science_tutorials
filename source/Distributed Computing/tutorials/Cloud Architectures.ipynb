{
 "cells": [
  {
   "cell_type": "markdown",
   "source": [
    "# Cloud Architectures\n",
    "\n",
    "Due to the rise of small devices, also known as IoT devices, the basic concepts of cloud computing have been evolving, depending on how they are implemented. In this section, we will look at the concepts that define on-premises, cloud, edge, and fog computing, in order to get an overview of what they are, how they are architected and what they are for.\n",
    "\n",
    "## On-Premise vs Cloud Computing\n",
    "\n",
    "Not surprisingly, the popularity of cloud computing is greater than that of on-premises computing, as they offer greater flexibility for businesses, from saving money and time, to increasing scalability and agility. However, this has not always been the case and for many, many years, on-premises software (installed on a company's own servers) was the only option for businesses. The reliability, security and control it offered businesses, while maintaining a level of control that in many cases the cloud did not provide, encouraged the use of on-premises computing.\n",
    "\n",
    "Depending on where a company deploys its solutions, one of the most important factors is data security. Those highly regulated industrial companies are likely to deploy all their applications in-house and thus ensure that all their data is located within their internal servers and IT infrastructure (providing more peace of mind). The disadvantage of on-premises environments is that the costs associated with managing and maintaining everything involved in the solution can be exponentially higher than those of a cloud computing environment. An on-premises setup requires in-house server hardware, software licences, integration capabilities and IT staff available to support and manage potential issues that may arise.\n",
    "\n",
    "Cloud computing differs from on-premises software in one fundamental way. A company hosts everything internally in a local environment, whereas in a cloud environment, an external provider host everything for you. This allows companies to pay as needed and effectively scale up or down based on overall usage, user requirements and a company's growth.\n",
    "\n",
    "A cloud-based server uses virtual technology to host a company's applications off-site. There are no capital expenditures, data can be backed up regularly, and businesses only must pay for the resources they use. For organisations planning aggressive global expansion, the cloud has even greater appeal because it allows them to connect with customers, partners, and other businesses anywhere with minimal effort.\n",
    "\n",
    "In addition, cloud computing features near-instant provisioning because everything is already configured. Therefore, any new software that is integrated into your environment is ready to use immediately once the company has subscribed. With instant provisioning, the time spent on installation and configuration is eliminated and users can access the application immediately.\n",
    "\n",
    "## Edge and Fog Computing\n",
    "\n",
    "The concept of Fog Computing refers to a decentralised network structure in which resources (data, applications, etc.) are placed in a logical location between the cloud and the generated data source. In other words, it brings the services that analyse such data closer to the source. Fog Computing emerges as an extension of Cloud Computing (which consists of a distant server where we store data, applications, etc.) to complement each other by satisfying these needs between users' devices and Cloud Computing centres. Fog Computing is characterised by low latency, interoperability, real-time interaction, location awareness and support for online interaction with the cloud.\n",
    "\n",
    "Edge computing is defined as the computational processes that take place inside edge devices (IoT devices) with analysis and processing capabilities, such as compact PCs, Raspberries, routers, or network gateways. By processing information gathered close to where it was created, latencies are reduced, and less bandwidth is consumed. However, the computation of these devices is limited compared to the cloud. Edge computing is characterised by low latency, dense geographical distribution, network context information, location awareness and proximity.\n",
    "\n",
    "\n"
   ],
   "metadata": {
    "collapsed": false,
    "pycharm": {
     "name": "#%% md\n"
    }
   }
  }
 ],
 "metadata": {
  "kernelspec": {
   "display_name": "Python 3",
   "language": "python",
   "name": "python3"
  },
  "language_info": {
   "codemirror_mode": {
    "name": "ipython",
    "version": 2
   },
   "file_extension": ".py",
   "mimetype": "text/x-python",
   "name": "python",
   "nbconvert_exporter": "python",
   "pygments_lexer": "ipython2",
   "version": "2.7.6"
  }
 },
 "nbformat": 4,
 "nbformat_minor": 0
}