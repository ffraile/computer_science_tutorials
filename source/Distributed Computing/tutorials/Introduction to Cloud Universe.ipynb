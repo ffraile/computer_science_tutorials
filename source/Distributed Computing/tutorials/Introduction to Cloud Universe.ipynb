{
 "cells": [
  {
   "cell_type": "markdown",
   "source": [
    "# Introduction\n",
    "\n",
    "We begin our journey into the cloud world by introducing some important concepts, reviewing some of the tools that we need to know in order to get the most out of this material.\n",
    "\n",
    "## Cloud Computing\n",
    "\n",
    "Cloud Computing has attracted a lot of attention in recent times. To gain an understanding of what Cloud Computing is, we first look at several existing definitions of the term. Based on those definitions, we identify key characteristics of Cloud Computing. Then we describe the common architecture and components of Clouds in detail, discuss opportunities and challenges of Cloud Computing, and provide a classification of Clouds.\n",
    "\n",
    "The Cloud is an **elastic computer** that is located elsewhere. It is an on-demand source of computing and storage that can be called upon when you need more storage or computing capacity than is available locally. Depending on the characteristics or needs, this service can be more expensive or cheaper, faster or slower, etc. Although different service providers offer different methods of storage and cloud computing operations, they all provide similar capabilities (object storage, containers and running virtual machines...).\n",
    "\n",
    "The Cloud is a **work assistant**, i.e. a source of software that can perform different tasks in the most effective way. For example, Google Scholar to access information and publications; GitHub to manage software and documents; Dropbox to share data or Skype to communicate. In each of these cases, we are launching cloud applications that perform tasks on their own by offering an end service.\n",
    "\n",
    "The Cloud is a **programming platform**, i.e. it provides us with different tools that can be used to create software with capabilities that would be difficult to replicate, such as an event processing system, a database or an entity management service. All these tools allow us to use the cloud as an interactive environment to experiment, learn and discover computational capabilities. They can also be used in a more complex way, for deep developments of traditional programming.\n",
    "\n",
    "Therefore, we can define some essential characteristics found in cloud services are: on-demand self-service, broad network access, pooling of resources, rapid elasticity, measured service, and so on.\n",
    "\n",
    "These characteristics make it possible to differentiate who manages the infrastructure, whether it is a public, private, hybrid or community cloud. Depending on the characteristics of the infrastructure and its management, we can differentiate between three different service models: Software as a Service (SaaS), Platform as a Service (PaaS), and Infrastructure as a Service (IaaS). In recent years, new service paradigms have also emerged, such as: Container as a Service (CaaS), Backend as a Service (BaaS), Functions as a Service (FaaS), etc.\n",
    "\n",
    "The most basic option that a cloud computing provider can offer is Infrastructure as a Service, IaaS, which consists of renting computer equipment that allows its users to use its resources. The contracting of these services requires the user or company to have staff with management knowledge, as they need to install the operating system, configure network or storage options, etc. For this reason, there are tools that help with management, such as Cloudify, which allows integration with automation tools such as Kubernetes, Ansible or Terraform.\n",
    "\n",
    "There may be a scenario in which the user contracting the service has no configuration knowledge, little time to manage their infrastructures, or requires a platform or environment on which to operate directly. This is where the Platform as a Service (PaaS) model comes in. This model offers users a managed environment where they simply deploy their applications. In the same way as IaaS, there are also tools to facilitate its use, such as CloudFoundry, a deployment tool that facilitates the integration of Frameworks for application development.\n",
    "\n",
    "As a last option, we have the possibility of having an application already deployed where the user only has to configure small things. This model is known as Software as a Service (SaaS) and, although it is the easiest to use, it is also the most restrictive, as the user can only access applications offered by the provider. Some of the best known SaaS providers are Google with GSuite, and Microsoft with Office 365.\n",
    "\n",
    "Specific processes for implementation, moving from on-premise to cloud services, such as software migration, are usually straightforward. Providers offer specific services that facilitate the process of moving software from the user's own machines to those of the cloud provider.\n",
    "\n",
    "![Table as a Service](\\img\\xaas.png)\n",
    "\n"
   ],
   "metadata": {
    "collapsed": false,
    "pycharm": {
     "name": "#%% md\n"
    }
   }
  }
 ],
 "metadata": {
  "kernelspec": {
   "display_name": "Python 3",
   "language": "python",
   "name": "python3"
  },
  "language_info": {
   "codemirror_mode": {
    "name": "ipython",
    "version": 2
   },
   "file_extension": ".py",
   "mimetype": "text/x-python",
   "name": "python",
   "nbconvert_exporter": "python",
   "pygments_lexer": "ipython2",
   "version": "2.7.6"
  }
 },
 "nbformat": 4,
 "nbformat_minor": 0
}