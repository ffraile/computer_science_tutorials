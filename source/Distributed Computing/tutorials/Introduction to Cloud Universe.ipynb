{
 "cells": [
  {
   "cell_type": "markdown",
   "source": [
    "Introduction\n",
    "\n",
    "We begin our journey into the cloud world by introducing some important concepts, reviewing some of the tools that we need to know in order to get the most out of this material.\n",
    "\n",
    "1.1 Cloud Computing\n",
    "\n",
    "The Cloud is an **elastic computer** that is located elsewhere. It is an on-demand source of computing and storage that can be called upon when you need more storage or computing capacity than is available locally. Depending on the characteristics or needs, this service can be more expensive or cheaper, faster or slower, etc. Although different service providers offer different methods of storage and cloud computing operations, they all provide similar capabilities (object storage, containers and running virtual machines...). These tools are distributed by companies as **Infrastructure as a Service (IaaS)**.\n",
    "\n",
    "The Cloud is a **work assistant**, i.e. a source of software that can perform different tasks in the most effective way. For example, Google Scholar to access information and publications; GitHub to manage software and documents; Dropbox to share data or Skype to communicate. In each of these cases, we are launching cloud applications that perform tasks on their own by offering an end service. These services are called **Software as a Service (SaaS)**.\n",
    "\n",
    "The Cloud is a **programming platform**, i.e. it provides us with different tools that can be used to create software with capabilities that would be difficult to replicate, such as an event processing system, a database or an entity management service. All these tools allow us to use the cloud as an interactive environment to experiment, learn and discover computational capabilities. They can also be used in a more complex way, for deep developments of traditional programming. All these services are called **Platforms as Services (PaaS)**.\n",
    "\n"
   ],
   "metadata": {
    "collapsed": false,
    "pycharm": {
     "name": "#%% md\n"
    }
   }
  }
 ],
 "metadata": {
  "kernelspec": {
   "display_name": "Python 3",
   "language": "python",
   "name": "python3"
  },
  "language_info": {
   "codemirror_mode": {
    "name": "ipython",
    "version": 2
   },
   "file_extension": ".py",
   "mimetype": "text/x-python",
   "name": "python",
   "nbconvert_exporter": "python",
   "pygments_lexer": "ipython2",
   "version": "2.7.6"
  }
 },
 "nbformat": 4,
 "nbformat_minor": 0
}