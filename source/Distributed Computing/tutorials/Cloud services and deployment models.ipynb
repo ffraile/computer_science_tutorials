{
 "cells": [
  {
   "cell_type": "markdown",
   "source": [
    "Nube privada . La infraestructura de la nube se opera únicamente dentro de una sola organización y es administrada por la organización o por un tercero, independientemente de si se encuentra en las instalaciones o fuera de ellas. La motivación para configurar una nube privada dentro de una organización tiene varios aspectos. Primero, maximizar y optimizar la utilización de los recursos internos existentes. En segundo lugar, las preocupaciones de seguridad, incluida la privacidad y la confianza de los datos, también hacen que la nube privada sea una opción para muchas empresas. En tercer lugar, el costo de transferencia de datos [2] desde la infraestructura de TI local a una nube pública sigue siendo considerable. En cuarto lugar, las organizaciones siempre requieren un control total sobre las actividades de misión crítica que residen detrás de sus firewalls. Por último, los académicos a menudo construyen una nube privada con fines de investigación y enseñanza.\n",
    "\n",
    "Nube comunitaria . Varias organizaciones construyen y comparten conjuntamente la misma infraestructura de nube, así como políticas, requisitos, valores y preocupaciones. La comunidad de la nube se convierte en un grado de escalabilidad económica y equilibrio democrático. La infraestructura de la nube podría estar alojada por un proveedor externo o dentro de una de las organizaciones de la comunidad.\n",
    "\n",
    "Nube pública . Esta es la forma dominante del modelo actual de implementación de computación en la nube. La nube pública es utilizada por los consumidores de la nube pública en general y el proveedor de servicios en la nube tiene la propiedad total de la nube pública con su propia política, valor y ganancias, costos y modelo de cobro. Muchos servicios en la nube populares son nubes públicas, incluidos Amazon EC2, S3, Google AppEngine y Force.com.\n",
    "\n",
    "Nube híbrida . La infraestructura de la nube es una combinación de dos o más nubes (privada, comunitaria o pública) que siguen siendo entidades únicas pero están unidas por tecnología patentada o estandarizada que permite la portabilidad de datos y aplicaciones (p. ej., explosión de la nube para equilibrar la carga entre nubes) . Las organizaciones utilizan el modelo de nube híbrida con el fin de optimizar sus recursos para aumentar sus competencias básicas al marginar las funciones comerciales periféricas en la nube mientras controlan las actividades centrales en las instalaciones a través de la nube privada. La nube híbrida ha planteado problemas de estandarización e interoperabilidad de la nube que se analizarán en secciones posteriores."
   ],
   "metadata": {
    "collapsed": false,
    "pycharm": {
     "name": "#%% md\n"
    }
   }
  }
 ],
 "metadata": {
  "kernelspec": {
   "display_name": "Python 3",
   "language": "python",
   "name": "python3"
  },
  "language_info": {
   "codemirror_mode": {
    "name": "ipython",
    "version": 2
   },
   "file_extension": ".py",
   "mimetype": "text/x-python",
   "name": "python",
   "nbconvert_exporter": "python",
   "pygments_lexer": "ipython2",
   "version": "2.7.6"
  }
 },
 "nbformat": 4,
 "nbformat_minor": 0
}