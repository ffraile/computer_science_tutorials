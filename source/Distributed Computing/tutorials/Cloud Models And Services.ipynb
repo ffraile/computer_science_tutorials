{
 "cells": [
  {
   "cell_type": "markdown",
   "source": [
    "## Cloud Computing\n",
    "\n",
    "Cloud Computing has attracted a lot of attention in recent times. To gain an understanding of what Cloud Computing is, we first look at several existing definitions of the term. Based on those definitions, we identify key characteristics of Cloud Computing. Then we describe the common architecture and components of Clouds in detail, discuss opportunities and challenges of Cloud Computing, and provide a classification of Clouds.\n",
    "\n",
    "The Cloud is an **elastic computer** that is located elsewhere. It is an on-demand source of computing and storage that can be called upon when you need more storage or computing capacity than is available locally. Depending on the characteristics or needs, this service can be more expensive or cheaper, faster or slower, etc. Although different service providers offer different methods of storage and cloud computing operations, they all provide similar capabilities (object storage, containers and running virtual machines...).\n",
    "\n",
    "The Cloud is a **work assistant**, i.e. a source of software that can perform different tasks in the most effective way. For example, Google Scholar to access information and publications; GitHub to manage software and documents; Dropbox to share data or Skype to communicate. In each of these cases, we are launching cloud applications that perform tasks on their own by offering an end service.\n",
    "\n",
    "The Cloud is a **programming platform**, i.e. it provides us with different tools that can be used to create software with capabilities that would be difficult to replicate, such as an event processing system, a database or an entity management service. All these tools allow us to use the cloud as an interactive environment to experiment, learn and discover computational capabilities. They can also be used in a more complex way, for deep developments of traditional programming.\n",
    "\n",
    "Therefore, we can define some essential characteristics found in cloud services are: on-demand self-service, broad network access, pooling of resources, rapid elasticity, measured service, and so on.\n",
    "\n",
    "![Table as a Service](../img/xaas.png)\n",
    "**Figure 1** - As a service\n",
    "\n",
    "These characteristics make it possible to differentiate who manages the infrastructure, whether it is a public, private, hybrid or community cloud. Depending on the characteristics of the infrastructure and its management, we can differentiate between three different service models: Software as a Service (SaaS), Platform as a Service (PaaS), and Infrastructure as a Service (IaaS). In recent years, new service paradigms have also emerged, such as: Container as a Service (CaaS), Backend as a Service (BaaS), Functions as a Service (FaaS), etc.\n",
    "\n",
    "## Infrastructure as a Service\n",
    "\n",
    "The most basic option a cloud provider can offer is Infrastructure as a Service, IaaS, which consists in renting computer equipment that allows its users to use its resources. The contracting of these services requires the user or the company to have staff with management skills, as they need to install the operating system, configure the network or storage options, etc. For this reason, there are tools that help management, such as Cloudify, which allows integration with automation tools such as Kubernetes, Ansible or Terraform.\n",
    "\n",
    "In public IaaS, the public cloud provider creates the infrastructure and resources that the consumer can use. The user only needs to pay to acquire those resources. When that user stops paying, the resource can disappear. In a private cloud service, it is typically the IT organisation or an integrator that creates infrastructure and resources that internal users and sometimes business partners can use on demand. While the criteria for a public cloud are based primarily on the ability to pay for a service, a private service applies company policy to a service request. Some customers bring their own tools and software to build applications.\n",
    "\n",
    "## Platform as a service (PaaS)\n",
    "\n",
    "It may be the case that the user contracting the service has no knowledge of configuration, has little time to manage their infrastructures or needs a platform or environment on which to operate directly. This is where the Platform as a Service (PaaS) model comes in. PaaS combines IaaS with a set of services and software development that allows a company to create and deploy applications in an on-premises or cloud environment. In other words, PaaS is like an IaaS but with the operating system and tools already installed.\n",
    "\n",
    "This model offers users a managed environment in which they simply deploy their applications. A PaaS therefore offers a coherent set of services that ensures developers can build applications in a cloud environment. An environment that brings together the development needed to easily deploy applications. A PaaS requires an infrastructure service. There are tools that facilitate its use, such as Cloud Foundry, a deployment tool that facilitates the integration of Frameworks for application development.\n",
    "\n",
    "## Software as a Service (SaaS)\n",
    "\n",
    "Software as a Service (SaaS) provides us with the possibility of having an application already deployed in which the user only must configure small things and although it is the easiest to use, it is also the most restrictive, as the user can only access the applications offered by the provider.\n",
    "\n",
    "Customers typically pay for the SaaS service per user on a monthly or annual contract model. The SaaS application is deployed on top of a Platform as a Service and basic Infrastructure services. However, customers typically do not care about the underlying infrastructure and platform services. Instead, customers are concerned about the functionality, performance, availability, and security of the applications. Specific implementation processes, moving from on-premises to cloud services, such as software migration, are often straightforward. Providers offer specific services that facilitate the process of moving software from the user's own machines to those of the cloud provider. Some of the best SaaS providers are Google, with GSuite, and Microsoft, with Office 365.\n",
    "\n"
   ],
   "metadata": {
    "collapsed": false,
    "pycharm": {
     "name": "#%% md\n"
    }
   }
  }
 ],
 "metadata": {
  "kernelspec": {
   "display_name": "Python 3",
   "language": "python",
   "name": "python3"
  },
  "language_info": {
   "codemirror_mode": {
    "name": "ipython",
    "version": 2
   },
   "file_extension": ".py",
   "mimetype": "text/x-python",
   "name": "python",
   "nbconvert_exporter": "python",
   "pygments_lexer": "ipython2",
   "version": "2.7.6"
  }
 },
 "nbformat": 4,
 "nbformat_minor": 0
}