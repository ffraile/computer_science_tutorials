{
 "cells": [
  {
   "cell_type": "markdown",
   "source": [
    "Object-oriented design\n",
    "===\n",
    "A **class** is an object definition. Use the keyword `class` to create a class.  "
   ],
   "metadata": {}
  },
  {
   "cell_type": "code",
   "execution_count": 1,
   "source": [
    "class MyClass(object):\r\n",
    "    def __init__(self, attr1, attr2): #Constructor definition\r\n",
    "        self.attribute1 = attr1\r\n",
    "        self.attribute2 = attr2\r\n",
    "        \r\n",
    "    def show(self):            # method\r\n",
    "        print(self.attribute1)\r\n",
    "        print(self.attribute2)"
   ],
   "outputs": [],
   "metadata": {}
  },
  {
   "cell_type": "markdown",
   "source": [
    "Encapsulation\r\n",
    "-------\r\n",
    "Attributes and methods are defined inside the class and for every object.  \r\n",
    "The *\\_\\_init\\_\\_* function is the **constructor**, it is automatically called when we *instantiate* an object. The first parameter of any method in a class, including the constructor, is **self**, which represents the **instance** of the class: The object that implements that class and has been instantiated from the main context. We use self to assign specific values to the properties of the class:"
   ],
   "metadata": {}
  },
  {
   "cell_type": "code",
   "execution_count": 4,
   "source": [
    "class Polygon(object):\r\n",
    "    def __init__(self, sides):\r\n",
    "        self.sides = sides #the constructor assigns the value \"sides\" passed in the constructor to the property sides of the instance (self.sides)\r\n",
    "        \r\n",
    "    def print_number_of_sides(self):  #This is a method of the class\r\n",
    "        print(self.sides)"
   ],
   "outputs": [],
   "metadata": {}
  },
  {
   "cell_type": "markdown",
   "source": [
    "To create an instance of our class, we use the name of the class, passing the arguments of the initialisation method. Once we have created the instance and assigned it to a variable, we can access its methods and properties:"
   ],
   "metadata": {}
  },
  {
   "cell_type": "code",
   "execution_count": 5,
   "source": [
    "poly = Polygon(7)\r\n",
    "poly.print_number_of_sides()\r\n",
    "print(poly.sides)"
   ],
   "outputs": [
    {
     "output_type": "stream",
     "name": "stdout",
     "text": [
      "7\n",
      "7\n"
     ]
    }
   ],
   "metadata": {}
  },
  {
   "cell_type": "markdown",
   "source": [
    "Abstraction\r\n",
    "-------\r\n",
    "We can create a subclass or a child class that inherits all methods and properties of its function. All methods and attributes from the *parent* class will be available and can be extended. In the constructor, we need to initialise the instance of the parent class through its constructor using ```super().__init__()```. "
   ],
   "metadata": {}
  },
  {
   "cell_type": "code",
   "execution_count": 3,
   "source": [
    "class Square(Polygon):  #The parent is defined as a parameter in the class definition.\r\n",
    "    def __init__(self, color):\r\n",
    "        super().__init__(4)    #First we instantiate the parent class using super()\r\n",
    "        self.color = color     # We add a second perperty\r\n",
    "    def change_color(self, new_color):  # We define a new method, change color\r\n",
    "        self.color = new_color\r\n",
    "    def print_color(self):  # We define a new method, print color\r\n",
    "        print(self.color)"
   ],
   "outputs": [],
   "metadata": {}
  },
  {
   "cell_type": "code",
   "execution_count": 4,
   "source": [
    "s = Square(\"blue\")\r\n",
    "s.print_number_of_sides()\r\n",
    "s.print_color()\r\n",
    "s.change_color(\"red\")\r\n",
    "s.print_color()"
   ],
   "outputs": [
    {
     "output_type": "stream",
     "name": "stdout",
     "text": [
      "4\n",
      "blue\n",
      "red\n"
     ]
    }
   ],
   "metadata": {}
  },
  {
   "cell_type": "markdown",
   "source": [
    "Inheritance\r\n",
    "------\r\n",
    "Inheritance allows us to reuse the code from parent and share common code."
   ],
   "metadata": {}
  },
  {
   "cell_type": "code",
   "execution_count": 5,
   "source": [
    "class Pentagon(Polygon):\r\n",
    "    def __init__(self):\r\n",
    "        super().__init__(5)"
   ],
   "outputs": [],
   "metadata": {}
  },
  {
   "cell_type": "code",
   "execution_count": 6,
   "source": [
    "pent = Pentagon()\r\n",
    "pent.print_number_of_sides()\r\n",
    "print(pent.sides)"
   ],
   "outputs": [
    {
     "output_type": "stream",
     "name": "stdout",
     "text": [
      "5\n",
      "5\n"
     ]
    }
   ],
   "metadata": {}
  },
  {
   "cell_type": "markdown",
   "source": [
    "Polymorphism\n",
    "-------\n",
    "Objects with a common base can implement the same methods doing different things."
   ],
   "metadata": {}
  },
  {
   "cell_type": "code",
   "execution_count": 7,
   "source": [
    "class Triangle(Polygon):\r\n",
    "    def __init__(self):\r\n",
    "        super().__init__(3)\r\n",
    "    def draw(self):\r\n",
    "        print(\"This is a triangle:\")\r\n",
    "        print(\"  ^  \")\r\n",
    "        print(\" / \\\\\")\r\n",
    "        print(\"/___\\\\\")\r\n",
    "        \r\n",
    "class Rectangle(Polygon):\r\n",
    "    def __init__(self):\r\n",
    "        super().__init__(4)\r\n",
    "    def draw(self):\r\n",
    "        print(\"This is a rectangle:\")\r\n",
    "        print(\"+----+\")\r\n",
    "        print(\"|    |\")\r\n",
    "        print(\"|    |\")\r\n",
    "        print(\"+----+\")\r\n",
    "t = Triangle()\r\n",
    "r = Rectangle()\r\n",
    "t.draw()\r\n",
    "r.draw()"
   ],
   "outputs": [
    {
     "output_type": "stream",
     "name": "stdout",
     "text": [
      "This is a triangle:\n",
      "  ^  \n",
      " / \\\n",
      "/___\\\n",
      "This is a rectangle:\n",
      "+----+\n",
      "|    |\n",
      "|    |\n",
      "+----+\n"
     ]
    }
   ],
   "metadata": {}
  },
  {
   "cell_type": "code",
   "execution_count": 9,
   "source": [
    "# We can can call draw method without knowing which kind of polygon is\r\n",
    "polygons = [t, h, h, t, h]\r\n",
    "for p in polygons:\r\n",
    "    p.draw()"
   ],
   "outputs": [
    {
     "output_type": "stream",
     "name": "stdout",
     "text": [
      "- - -\n",
      "- - - - - -\n",
      "- - - - - -\n",
      "- - -\n",
      "- - - - - -\n"
     ]
    }
   ],
   "metadata": {}
  },
  {
   "cell_type": "code",
   "execution_count": null,
   "source": [],
   "outputs": [],
   "metadata": {}
  }
 ],
 "metadata": {
  "kernelspec": {
   "name": "python3",
   "display_name": "Python 3.8.1 64-bit"
  },
  "language_info": {
   "codemirror_mode": {
    "name": "ipython",
    "version": 3
   },
   "file_extension": ".py",
   "mimetype": "text/x-python",
   "name": "python",
   "nbconvert_exporter": "python",
   "pygments_lexer": "ipython3",
   "version": "3.8.1"
  },
  "interpreter": {
   "hash": "2db524e06e9f5f4ffedc911c917cb75e12dbc923643829bf417064a77eb14d37"
  }
 },
 "nbformat": 4,
 "nbformat_minor": 4
}