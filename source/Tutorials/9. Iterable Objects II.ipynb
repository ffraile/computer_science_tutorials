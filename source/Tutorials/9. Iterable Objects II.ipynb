{
 "cells": [
  {
   "cell_type": "markdown",
   "source": [
    "# Tuples\r\n",
    "Tuples are very similar to lists, except that they are inmutable. This means that, once you declare a tuple variable, you cannot make any changes to it. Tuples are created using parenthesis instead of brackets, like in the example below. Since they are inmutable, we can use tuples to store values that do not change in our program. Tuples are iterable. We can access the members of a tuple using indexing and slicing and use them in control functions like *for* loops"
   ],
   "metadata": {}
  },
  {
   "cell_type": "code",
   "execution_count": null,
   "source": [
    "unknowns = (\"x\", \"y\", \"z\")\r\n",
    "# Let's print the first unknown\r\n",
    "print(\"The first unknown is: \" + unknowns[0])\r\n",
    "\r\n",
    "# Let's print all unknowns\r\n",
    "for i in unknowns:\r\n",
    "    print(\"Printing unknown: \" + i)"
   ],
   "outputs": [],
   "metadata": {}
  },
  {
   "cell_type": "markdown",
   "source": [
    "# Dictionaries\r\n",
    "\r\n",
    "A **Dictionary** is another data type to store a collection of data (like arrays).\r\n",
    "\r\n",
    "A dictionary works with **keys** and **values**. Values are accessed using keys (instead of indexes). In fact, we can think of lists as dictionaries that use integers as keys."
   ],
   "metadata": {}
  },
  {
   "cell_type": "code",
   "execution_count": 4,
   "source": [
    "contacts = {}\r\n",
    "contacts[\"Paco\"] = 655555555\r\n",
    "contacts[\"Pepe\"] = 666555111\r\n",
    "contacts[\"Pili\"] = 677777555\r\n",
    "print(contacts)"
   ],
   "outputs": [
    {
     "output_type": "stream",
     "name": "stdout",
     "text": [
      "{'Paco': 655555555, 'Pepe': 666555111, 'Pili': 677777555}\n"
     ]
    }
   ],
   "metadata": {}
  },
  {
   "cell_type": "markdown",
   "source": [
    "## Iterating over dictionaries\r\n",
    "\r\n",
    "Dictionaries can also be initialized using [JSON](https://en.wikipedia.org/wiki/JSON) notation:"
   ],
   "metadata": {}
  },
  {
   "cell_type": "code",
   "execution_count": 5,
   "source": [
    "contacts = {\r\n",
    "    \"Paco\": 655555555,\r\n",
    "    \"Pepe\": 666555111,\r\n",
    "    \"Pili\": 677777555\r\n",
    "}\r\n",
    "for key in contacts:\r\n",
    "    print(key)"
   ],
   "outputs": [
    {
     "output_type": "stream",
     "name": "stdout",
     "text": [
      "Paco\n",
      "Pepe\n",
      "Pili\n"
     ]
    }
   ],
   "metadata": {}
  },
  {
   "cell_type": "code",
   "execution_count": 6,
   "source": [
    "contacts = {\r\n",
    "    \"Paco\": 655555555,\r\n",
    "    \"Pepe\": 666555111,\r\n",
    "    \"Pili\": 677777555\r\n",
    "}\r\n",
    "for name, number in contacts.items():\r\n",
    "    print(f\"Phone number of {name} is {number}\")"
   ],
   "outputs": [
    {
     "output_type": "stream",
     "name": "stdout",
     "text": [
      "Phone number of Paco is 655555555\n",
      "Phone number of Pepe is 666555111\n",
      "Phone number of Pili is 677777555\n"
     ]
    }
   ],
   "metadata": {}
  },
  {
   "cell_type": "markdown",
   "source": [
    "## Removing elements\r\n",
    "\r\n",
    "Elements can be removed using the keyword `del` or the function `pop` of a dictionary."
   ],
   "metadata": {}
  },
  {
   "cell_type": "code",
   "execution_count": 8,
   "source": [
    "contacts = {\r\n",
    "    \"Paco\": 655555555,\r\n",
    "    \"Pepe\": 666555111,\r\n",
    "    \"Pili\": 677777555\r\n",
    "}\r\n",
    "del contacts[\"Pepe\"]\r\n",
    "print(contacts)\r\n",
    "\r\n",
    "contacts.pop(\"Pili\")\r\n",
    "print(contacts)"
   ],
   "outputs": [
    {
     "output_type": "stream",
     "name": "stdout",
     "text": [
      "{'Paco': 655555555, 'Pili': 677777555}\n",
      "{'Paco': 655555555}\n"
     ]
    }
   ],
   "metadata": {}
  },
  {
   "cell_type": "markdown",
   "source": [
    "## Search in a dictionary\r\n",
    "\r\n",
    "Use keyword `in` to find a key in a dictionary."
   ],
   "metadata": {}
  },
  {
   "cell_type": "code",
   "execution_count": 10,
   "source": [
    "contacts = {\r\n",
    "    \"Paco\": 655555555,\r\n",
    "    \"Pepe\": 666555111,\r\n",
    "    \"Pili\": 677777555\r\n",
    "}\r\n",
    "if \"Paco\" in contacts:\r\n",
    "    print(\"Paco has been found within your contacts\")"
   ],
   "outputs": [
    {
     "output_type": "stream",
     "name": "stdout",
     "text": [
      "Paco has been found within your contacts\n"
     ]
    }
   ],
   "metadata": {}
  },
  {
   "cell_type": "markdown",
   "source": [
    "## Packing and Unpacking\r\n",
    "Tuples and dictionaries are used in Python to pack an arbitrary number of members, with or without keys. Unpacking a tuple or array means accessing their members. To unpack an arbitrary number of members of a tuple we use the * operator"
   ],
   "metadata": {}
  },
  {
   "cell_type": "code",
   "execution_count": 3,
   "source": [
    "t = (1, 2, 3, 4)\r\n",
    "a, b, c, d = t #This unpacks each member of the tuple in an integer variable\r\n",
    "print(a)\r\n",
    "print(b)\r\n",
    "print(c)\r\n",
    "print(d)\r\n",
    " \r\n",
    "first, *g, last = t #This unpacks the first member of t in an integer f, an arbitrary number of members in list g and the last member in last\r\n",
    "print(first)\r\n",
    "print(g)\r\n",
    "print(last)\r\n"
   ],
   "outputs": [
    {
     "output_type": "stream",
     "name": "stdout",
     "text": [
      "1\n",
      "2\n",
      "3\n",
      "4\n",
      "1\n",
      "[2, 3]\n",
      "4\n",
      "1\n",
      "3\n",
      "5\n",
      "7\n",
      "9\n"
     ]
    }
   ],
   "metadata": {}
  },
  {
   "cell_type": "markdown",
   "source": [
    "Unpacking is normally used to pass an arbitrary number of parameters to a function, for instance, let us look again to the range function"
   ],
   "metadata": {}
  },
  {
   "cell_type": "code",
   "execution_count": null,
   "source": [
    "range_args = (1,10,2)\r\n",
    "for i in range(*range_args): #Unpack the members and pass them as params to the range function\r\n",
    "    print(i)"
   ],
   "outputs": [],
   "metadata": {}
  },
  {
   "cell_type": "markdown",
   "source": [
    "To unpack a dictionary, the operator is ** instead of *. Let us revisit the print function to print two strings instead of one, and overwrite the separator:"
   ],
   "metadata": {}
  },
  {
   "cell_type": "code",
   "execution_count": 7,
   "source": [
    "print(\"first string\", \"second_string\", sep=', ', end='\\n') # Print two strings separated by ', ' and terminated with a new line:\r\n",
    "args = (\"first string\", \"second string\")\r\n",
    "key_args = {\"sep\":', ', \"end\": '\\n'}\r\n",
    "print(*args, **key_args) # This is the same but unpacking a tuple with the parameters and a dictionary with the keyword params sep and end"
   ],
   "outputs": [
    {
     "output_type": "stream",
     "name": "stdout",
     "text": [
      "first string, second_string\n",
      "first string, second string\n"
     ]
    }
   ],
   "metadata": {}
  },
  {
   "cell_type": "markdown",
   "source": [
    "## Zip function\r\n",
    "zip is a handy function that returns an iterator of tuples, where the i-th tuple contains the i-th element from each of the argument sequences or iterables:"
   ],
   "metadata": {}
  },
  {
   "cell_type": "code",
   "execution_count": 9,
   "source": [
    "x = [1, 2, 3]\r\n",
    "y = [4, 5, 6]\r\n",
    "zipped = zip(x, y)\r\n",
    "for a, b in zipped:\r\n",
    "    print(a, b, sep=', ')\r\n"
   ],
   "outputs": [
    {
     "output_type": "stream",
     "name": "stdout",
     "text": [
      "1, 4\n",
      "2, 5\n",
      "3, 6\n"
     ]
    }
   ],
   "metadata": {}
  },
  {
   "cell_type": "markdown",
   "source": [
    "## Comprehension\r\n",
    "Comprehension is a nice feature of Python that allows to create iterables in an efficient way. Comprehension uses a for loop in the initialisation of the iterable:"
   ],
   "metadata": {}
  },
  {
   "cell_type": "code",
   "execution_count": 14,
   "source": [
    "keys = ('a', 'b', 'c', 'd')\r\n",
    "values = (1, 2, 3, 4)\r\n",
    "\r\n",
    "# Array comprehension\r\n",
    "squares = [i**2 for i in values]\r\n",
    "print(squares)\r\n",
    "\r\n",
    "new_dict = {keys[i]:squares[i] for i in range(len(keys))}\r\n",
    "print(new_dict)\r\n"
   ],
   "outputs": [
    {
     "output_type": "stream",
     "name": "stdout",
     "text": [
      "[1, 4, 9, 16]\n",
      "{'a': 1, 'b': 4, 'c': 9, 'd': 16}\n"
     ]
    }
   ],
   "metadata": {}
  }
 ],
 "metadata": {
  "kernelspec": {
   "name": "python3",
   "display_name": "Python 3.8.1 64-bit"
  },
  "language_info": {
   "codemirror_mode": {
    "name": "ipython",
    "version": 3
   },
   "file_extension": ".py",
   "mimetype": "text/x-python",
   "name": "python",
   "nbconvert_exporter": "python",
   "pygments_lexer": "ipython3",
   "version": "3.8.1"
  },
  "interpreter": {
   "hash": "2db524e06e9f5f4ffedc911c917cb75e12dbc923643829bf417064a77eb14d37"
  }
 },
 "nbformat": 4,
 "nbformat_minor": 4
}