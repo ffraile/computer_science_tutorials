{
 "cells": [
  {
   "cell_type": "markdown",
   "metadata": {},
   "source": [
    "# Functions\n",
    "Functions are a convenient way to divide your code into useful blocks, allowing us to order our code, make it more readable, reuse it and save some time."
   ]
  },
  {
   "cell_type": "markdown",
   "metadata": {},
   "source": [
    "Functions are defined with the keyword `def` and the code inside a function must be indented. The code inside a function is executed when you call the function, not when you define it."
   ]
  },
  {
   "cell_type": "code",
   "execution_count": 1,
   "metadata": {},
   "outputs": [],
   "source": [
    "def first_function():\n",
    "    print(\"This is a function\")"
   ]
  },
  {
   "cell_type": "markdown",
   "metadata": {},
   "source": [
    "In order to call a function, just write the name of the function. If a function has no parameters, you must write the parenthesis with nothing inside."
   ]
  },
  {
   "cell_type": "code",
   "execution_count": 5,
   "metadata": {},
   "outputs": [
    {
     "name": "stdout",
     "output_type": "stream",
     "text": [
      "This is a function\n"
     ]
    }
   ],
   "source": [
    "# Call the function\n",
    "first_function()"
   ]
  },
  {
   "cell_type": "markdown",
   "metadata": {},
   "source": [
    "## Arguments\n",
    "Functions can recieve arguments (parameters) from the caller to perform operations on them."
   ]
  },
  {
   "cell_type": "code",
   "execution_count": 9,
   "metadata": {},
   "outputs": [
    {
     "name": "stdout",
     "output_type": "stream",
     "text": [
      "Hello John !\n"
     ]
    }
   ],
   "source": [
    "def greetings(username):\n",
    "    print(\"Hello\", username, \"!\")\n",
    "    \n",
    "greetings(\"John\")"
   ]
  },
  {
   "cell_type": "code",
   "execution_count": 10,
   "metadata": {},
   "outputs": [
    {
     "name": "stdout",
     "output_type": "stream",
     "text": [
      "11\n"
     ]
    }
   ],
   "source": [
    "def sum_two_numbers(a, b):\n",
    "    return a + b\n",
    "\n",
    "addition = sum_two_numbers(5, 6)\n",
    "print(addition)"
   ]
  },
  {
   "cell_type": "markdown",
   "metadata": {},
   "source": [
    "Named arguments can have a default value assigned in the definition of the parameter. We do not need to provide a value to these arguments to use the function, if not provided, the default value will be used:"
   ]
  },
  {
   "cell_type": "code",
   "execution_count": 9,
   "metadata": {},
   "outputs": [
    {
     "name": "stdout",
     "output_type": "stream",
     "text": [
      "8\n",
      "9\n"
     ]
    }
   ],
   "source": [
    "def my_power(a, b=2):\n",
    "    return b**a\n",
    "\n",
    "print(my_power(a=3))\n",
    "print(my_power(a=2, b=3))"
   ]
  },
  {
   "cell_type": "markdown",
   "metadata": {},
   "source": [
    "**Warning!** non-default (i.e. parameters without a default value) parameters must precede default parameters"
   ]
  },
  {
   "cell_type": "markdown",
   "metadata": {},
   "source": [
    "Functions can use an arbitrary number of arguments **packed** in a tuple variable (see the 9. Iterable Objects II.ipynb tutorial for more on packing):"
   ]
  },
  {
   "cell_type": "code",
   "execution_count": 7,
   "metadata": {},
   "outputs": [
    {
     "name": "stdout",
     "output_type": "stream",
     "text": [
      "adding up numbers:\n",
      "(1, 3, 4)\n",
      "the sum is: \n",
      "8\n",
      "adding up numbers:\n",
      "(4, 5, 6, 7)\n"
     ]
    }
   ],
   "source": [
    "# This function will print the summands and return the sum\n",
    "def sum_numbers(*summands):\n",
    "    print(\"adding up numbers:\")\n",
    "    print(summands) # Note that the summands are packed into a tuple\n",
    "    return sum(summands) # the built-in function sum adds the members of the iterable passed as an argument\n",
    "\n",
    "c = sum_numbers(1, 3, 4) \n",
    "print(\"the sum is: \")\n",
    "print(c)\n",
    "d = sum_numbers(4,5,6,7)"
   ]
  },
  {
   "cell_type": "markdown",
   "metadata": {},
   "source": [
    "**Note:** In the example above, the parameters do not have names, we can also pack named parameters into dictionaries:"
   ]
  },
  {
   "cell_type": "code",
   "execution_count": 11,
   "metadata": {},
   "outputs": [
    {
     "name": "stdout",
     "output_type": "stream",
     "text": [
      "8\n",
      "9\n"
     ]
    }
   ],
   "source": [
    "def my_power(a, b=2):\n",
    "    return b**a\n",
    "\n",
    "dict_1 = {\"a\": 3}\n",
    "print(my_power(**dict_1)) # Parameter a is packed into a dictionary, then unpacked and passed to the function\n",
    "dict_2 = {\"a\":2, \"b\": 3}\n",
    "print(my_power(**dict_2))"
   ]
  },
  {
   "cell_type": "markdown",
   "metadata": {},
   "source": [
    "## Variables Scope\n",
    "It is important to note that the variables defined and assigned within a function are **local**, or have a local **scope**, which means that they cannot be accessed outside the function. Conversely, the variables that we define before the definition of the function are **global**, or have a global scope and can be accessed in the scope of the function."
   ]
  },
  {
   "cell_type": "code",
   "execution_count": 1,
   "metadata": {},
   "outputs": [
    {
     "name": "stdout",
     "output_type": "stream",
     "text": [
      "5\n"
     ]
    },
    {
     "ename": "NameError",
     "evalue": "name 'c' is not defined",
     "output_type": "error",
     "traceback": [
      "\u001b[1;31m---------------------------------------------------------------------------\u001b[0m",
      "\u001b[1;31mNameError\u001b[0m                                 Traceback (most recent call last)",
      "\u001b[1;32m<ipython-input-1-89928d6f07d6>\u001b[0m in \u001b[0;36m<module>\u001b[1;34m\u001b[0m\n\u001b[0;32m      4\u001b[0m \u001b[1;33m\u001b[0m\u001b[0m\n\u001b[0;32m      5\u001b[0m \u001b[0mprint\u001b[0m\u001b[1;33m(\u001b[0m\u001b[0msum_two_numbers\u001b[0m\u001b[1;33m(\u001b[0m\u001b[1;36m3\u001b[0m\u001b[1;33m,\u001b[0m\u001b[1;36m2\u001b[0m\u001b[1;33m)\u001b[0m\u001b[1;33m)\u001b[0m \u001b[1;31m# This works, because c is defined when the function is called\u001b[0m\u001b[1;33m\u001b[0m\u001b[1;33m\u001b[0m\u001b[0m\n\u001b[1;32m----> 6\u001b[1;33m \u001b[0mprint\u001b[0m\u001b[1;33m(\u001b[0m\u001b[0mc\u001b[0m\u001b[1;33m)\u001b[0m \u001b[1;31m#This won´t work because c does not exist in this context, only in the context of the function\u001b[0m\u001b[1;33m\u001b[0m\u001b[1;33m\u001b[0m\u001b[0m\n\u001b[0m",
      "\u001b[1;31mNameError\u001b[0m: name 'c' is not defined"
     ]
    }
   ],
   "source": [
    "def sum_two_numbers(a,b):\n",
    "    c = a + b #c is defined and assigned inside the function as the sum of a and b\n",
    "    return c\n",
    "\n",
    "print(sum_two_numbers(3,2)) # This works, because c is defined when the function is called\n",
    "print(c) #This won´t work because c does not exist in this context, only in the context of the function"
   ]
  },
  {
   "cell_type": "markdown",
   "metadata": {},
   "source": [
    "Can you write a function to reverse a given text? The function will accept the text as a parameter and will return the sentence in reverse order."
   ]
  },
  {
   "cell_type": "code",
   "execution_count": 1,
   "metadata": {},
   "outputs": [
    {
     "name": "stdout",
     "output_type": "stream",
     "text": [
      "nolem on ,nomel oN\n"
     ]
    }
   ],
   "source": [
    "# define \"reverse\" function and use it to reverse \"sentence\" variable\n",
    "def reverse(my_string):\n",
    "    return my_string[::-1]\n",
    "sentence = \"No lemon, no melon\"\n",
    "print(reverse(sentence))"
   ]
  },
  {
   "cell_type": "markdown",
   "metadata": {},
   "source": [
    "Import external modules\n",
    "---\n",
    "You can use external modules o libraries using the keyword `import`. This libraries contains functions you can use and you don't need to rewrite."
   ]
  },
  {
   "cell_type": "code",
   "execution_count": 2,
   "metadata": {},
   "outputs": [
    {
     "name": "stdout",
     "output_type": "stream",
     "text": [
      "3.141592653589793\n"
     ]
    }
   ],
   "source": [
    "import math\n",
    "\n",
    "print(math.pi)"
   ]
  },
  {
   "cell_type": "code",
   "execution_count": null,
   "metadata": {},
   "outputs": [],
   "source": []
  }
 ],
 "metadata": {
  "interpreter": {
   "hash": "2db524e06e9f5f4ffedc911c917cb75e12dbc923643829bf417064a77eb14d37"
  },
  "kernelspec": {
   "display_name": "Python 3.8.1 64-bit",
   "name": "python3"
  },
  "language_info": {
   "codemirror_mode": {
    "name": "ipython",
    "version": 3
   },
   "file_extension": ".py",
   "mimetype": "text/x-python",
   "name": "python",
   "nbconvert_exporter": "python",
   "pygments_lexer": "ipython3",
   "version": "3.8.1"
  }
 },
 "nbformat": 4,
 "nbformat_minor": 4
}
