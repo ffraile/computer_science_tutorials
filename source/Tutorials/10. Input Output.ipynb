{
 "cells": [
  {
   "cell_type": "markdown",
   "source": [
    "# Input and Output"
   ],
   "metadata": {}
  },
  {
   "cell_type": "markdown",
   "source": [
    "Read from user input\n",
    "---\n",
    "Use `input()` to ask the user to input a value. Give a parameter to `input(message)` to prompt a message."
   ],
   "metadata": {}
  },
  {
   "cell_type": "code",
   "execution_count": 2,
   "source": [
    "text = input(\"Type some text, please: \")\r\n",
    "print(f\"You typed {text}\")"
   ],
   "outputs": [
    {
     "output_type": "stream",
     "name": "stdout",
     "text": [
      "Type some text, please:  some text\n"
     ]
    },
    {
     "output_type": "stream",
     "name": "stdout",
     "text": [
      "You typed some text\n"
     ]
    }
   ],
   "metadata": {}
  },
  {
   "cell_type": "markdown",
   "source": [
    "Input variables are read as `string` so you need to **cast** to the desired value if you want to perform numeric operations."
   ],
   "metadata": {}
  },
  {
   "cell_type": "code",
   "execution_count": 3,
   "source": [
    "number = input(\"A number: \")\r\n",
    "double = number * 2\r\n",
    "print(double)"
   ],
   "outputs": [
    {
     "output_type": "stream",
     "name": "stdout",
     "text": [
      "A number:  5\n"
     ]
    },
    {
     "output_type": "stream",
     "name": "stdout",
     "text": [
      "55\n"
     ]
    }
   ],
   "metadata": {}
  },
  {
   "cell_type": "code",
   "execution_count": 4,
   "source": [
    "number = int(input(\"A number: \"))  #we use the class int to cast the input parameter as a number\r\n",
    "double = number * 2\r\n",
    "print(double)"
   ],
   "outputs": [
    {
     "output_type": "stream",
     "name": "stdout",
     "text": [
      "A number:  5\n"
     ]
    },
    {
     "output_type": "stream",
     "name": "stdout",
     "text": [
      "10\n"
     ]
    }
   ],
   "metadata": {}
  },
  {
   "cell_type": "code",
   "execution_count": 5,
   "source": [
    "number = float(input(\"A decimal number: \"))\r\n",
    "double = number * 2\r\n",
    "print(double)"
   ],
   "outputs": [
    {
     "output_type": "stream",
     "name": "stdout",
     "text": [
      "A decimal number:  5.1\n"
     ]
    },
    {
     "output_type": "stream",
     "name": "stdout",
     "text": [
      "10.2\n"
     ]
    }
   ],
   "metadata": {}
  },
  {
   "cell_type": "markdown",
   "source": [
    "Read from a file\n",
    "---"
   ],
   "metadata": {}
  },
  {
   "cell_type": "markdown",
   "source": [
    "Use `open()` to open a file and operate on it.\n",
    "\n",
    "You can read line after line with `readline()`.\n",
    "\n",
    "Use String function `split(character)` to split the line into a list using the delimiter designed by `character`.\n",
    "\n",
    "*NOTE: Don't forguet to close the file with `close()` when you are done*"
   ],
   "metadata": {}
  },
  {
   "cell_type": "code",
   "execution_count": 7,
   "source": [
    "text = \"This is a text\"\n",
    "array = text.split()\n",
    "print(array)"
   ],
   "outputs": [
    {
     "output_type": "stream",
     "name": "stdout",
     "text": [
      "['This', 'is', 'a', 'text']\n"
     ]
    }
   ],
   "metadata": {}
  },
  {
   "cell_type": "code",
   "execution_count": 13,
   "source": [
    "line = \"Data1,Data2,Data3,Data4\"\n",
    "array = line.split(',')\n",
    "print(array)"
   ],
   "outputs": [
    {
     "output_type": "stream",
     "name": "stdout",
     "text": [
      "['Data1', 'Data2', 'Data3', 'Data4']\n"
     ]
    }
   ],
   "metadata": {}
  },
  {
   "cell_type": "markdown",
   "source": [
    "Try with a file (students.csv) having *Name,Surname,Mark*, like the following:\n",
    "```\n",
    "Paco,Belda,7.5\n",
    "Lola,Soria,5.5\n",
    "Beatriz,Arribas,3.2\n",
    "````\n",
    "\n",
    "Read the file line after line and print them."
   ],
   "metadata": {}
  },
  {
   "cell_type": "code",
   "execution_count": 1,
   "source": [
    "f = open(\"students.csv\")\n",
    "line = f.readline()\n",
    "while line:\n",
    "    print(line)\n",
    "    line = f.readline()\n",
    "f.close()"
   ],
   "outputs": [
    {
     "output_type": "stream",
     "name": "stdout",
     "text": [
      "Paco,Belda,7.5\n",
      "\n",
      "Lola,Soria,5.5\n",
      "\n",
      "Beatriz,Arribas,3.2\n"
     ]
    }
   ],
   "metadata": {}
  },
  {
   "cell_type": "markdown",
   "source": [
    "Write to a file\n",
    "---\n",
    "To create a new file in Python, use the `open()` method, with one of the following parameters:\n",
    "\n",
    "**x** - Create - will create a file, returns an error if the file exist  \n",
    "**a** - Append - will create a file if the specified file does not exist  \n",
    "**w** - Write - will create a file if the specified file does not exist  "
   ],
   "metadata": {}
  },
  {
   "cell_type": "code",
   "execution_count": 17,
   "source": [
    "f = open(\"TODO_list.txt\", \"a\")\n",
    "f.write(\"Cleaning\\n\")\n",
    "f.close()"
   ],
   "outputs": [],
   "metadata": {}
  },
  {
   "cell_type": "code",
   "execution_count": 19,
   "source": [
    "with open(\"TODO_list.txt\", \"r\") as f:\n",
    "    print(f.read())"
   ],
   "outputs": [
    {
     "output_type": "stream",
     "name": "stdout",
     "text": [
      "Mowing the lawn\n",
      "Take out the trash\n"
     ]
    }
   ],
   "metadata": {}
  },
  {
   "cell_type": "code",
   "execution_count": null,
   "source": [],
   "outputs": [],
   "metadata": {}
  }
 ],
 "metadata": {
  "kernelspec": {
   "display_name": "Python 3",
   "language": "python",
   "name": "python3"
  },
  "language_info": {
   "codemirror_mode": {
    "name": "ipython",
    "version": 3
   },
   "file_extension": ".py",
   "mimetype": "text/x-python",
   "name": "python",
   "nbconvert_exporter": "python",
   "pygments_lexer": "ipython3",
   "version": "3.8.4"
  }
 },
 "nbformat": 4,
 "nbformat_minor": 4
}