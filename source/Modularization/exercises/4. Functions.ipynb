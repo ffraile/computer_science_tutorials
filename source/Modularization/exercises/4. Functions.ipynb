{
 "cells": [
  {
   "cell_type": "markdown",
   "metadata": {
    "pycharm": {
     "name": "#%% md\n"
    }
   },
   "source": [
    "1. Write down a function that takes a string as a parameter and returns the same string in reverse order."
   ]
  },
  {
   "cell_type": "markdown",
   "metadata": {
    "pycharm": {
     "name": "#%% md\n"
    }
   },
   "source": [
    "2. Write down a function that takes an arbitrary number of strings as parameters and returns the total number of words in all of them"
   ]
  },
  {
   "cell_type": "markdown",
   "metadata": {
    "pycharm": {
     "name": "#%% md\n"
    }
   },
   "source": [
    "3. Write down a function named \"array_power\" that takes an arbitrary number of integers, and a named parameter \"base\" with default value 2 and returns the power of the base parameter to the sum of the integers. e.g array_power(1, 2) returns 8 and array_power(1, 1, 1, base=3) returns 27."
   ]
  }
 ],
 "metadata": {
  "language_info": {
   "name": "python"
  },
  "orig_nbformat": 4
 },
 "nbformat": 4,
 "nbformat_minor": 2
}