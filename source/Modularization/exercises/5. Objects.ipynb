{
 "cells": [
  {
   "cell_type": "markdown",
   "source": [
    "# Objects Exercises\n",
    "\n",
    "## Try me\n",
    "[![Open In Colab](https://colab.research.google.com/assets/colab-badge.svg)](https://colab.research.google.com/github/ffraile/computer_science_tutorials/blob/main/source/Modularization/exercises/5.%20Objects.ipynb)[![Binder](https://mybinder.org/badge_logo.svg)](https://mybinder.org/v2/gh/ffraile/computer_science_tutorials/main?labpath=source%2FModularization%2Fexercises%2F5.%20Objects.ipynb)\n",
    "\n",
    "1. Write down a polygon class that has a property named sides representing the number of sides. Write down a class rectangle and a class triangle that extend the polygon class and have methods called get_area() that returns the area of the polygon."
   ],
   "metadata": {
    "collapsed": false,
    "pycharm": {
     "name": "#%% md\n"
    }
   }
  },
  {
   "cell_type": "markdown",
   "source": [
    "2. Write down a class to store personal data of your customers, with properties \"first_name\", and \"family_name\". Implement a method named get initials that returns the initials of the customer."
   ],
   "metadata": {
    "collapsed": false,
    "pycharm": {
     "name": "#%% md\n"
    }
   }
  }
 ],
 "metadata": {
  "language_info": {
   "name": "python"
  },
  "orig_nbformat": 4
 },
 "nbformat": 4,
 "nbformat_minor": 2
}