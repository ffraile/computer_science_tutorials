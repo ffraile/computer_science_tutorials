{
 "cells": [
  {
   "cell_type": "markdown",
   "source": [
    "1. Write down a polygon class that has a property named sides representing the number of sides. Write down a class rectangle and a class triangle that extend the polygon class and have methods called get_area() that returns the area of the polygon."
   ],
   "metadata": {
    "collapsed": false,
    "pycharm": {
     "name": "#%% md\n"
    }
   }
  },
  {
   "cell_type": "markdown",
   "source": [
    "2. Write down a class to store personal data of your customers, with properties \"first_name\", and \"family_name\". Implement a method named get initials that returns the initials of the customer."
   ],
   "metadata": {
    "collapsed": false,
    "pycharm": {
     "name": "#%% md\n"
    }
   }
  }
 ],
 "metadata": {
  "language_info": {
   "name": "python"
  },
  "orig_nbformat": 4
 },
 "nbformat": 4,
 "nbformat_minor": 2
}