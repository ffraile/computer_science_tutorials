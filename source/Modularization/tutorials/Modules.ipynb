{
 "cells": [
  {
   "cell_type": "markdown",
   "source": [
    "# Importing external modules\n",
    "\n",
    "## Try me\n",
    "[![Open In Colab](https://colab.research.google.com/assets/colab-badge.svg)](https://colab.research.google.com/github/ffraile/computer_science_tutorials/blob/main/source/Modularization/tutorials/Modules.ipynb)[![Binder](https://mybinder.org/badge_logo.svg)](https://mybinder.org/v2/gh/ffraile/computer_science_tutorials/main?labpath=source%2FModularization%2Ftutorials%2FModules.ipynb)\n",
    "\n",
    "You can use external modules o libraries using the keyword `import`. These libraries contain functions and variables you can use and you don't need to rewrite. For instance, let us use the [math](https://docs.python.org/3/library/math.html) library that contains mathematical variables and functions.\n"
   ],
   "metadata": {
    "collapsed": false,
    "pycharm": {
     "name": "#%% md\n"
    }
   }
  },
  {
   "cell_type": "code",
   "execution_count": null,
   "outputs": [],
   "source": [
    "import math\n",
    "\n",
    "print(math.pi) # pi is a variable with the number pi\n",
    "\n",
    "print(math.factorial(9)) # factorial is the factorial operator"
   ],
   "metadata": {
    "collapsed": false,
    "pycharm": {
     "name": "#%%\n"
    }
   }
  },
  {
   "cell_type": "markdown",
   "source": [
    "Note that we need to prepend the name of the library to the name of the variable or function that we want to use.\n",
    "\n",
    "## Modules\n",
    "Complex libraries are organised into modules, so that we do not need import the entire library if we are only interested in some parts of it. The keyword ```from``` is used to import a module from a library.\n",
    "For instance the [datetime](https://docs.python.org/3/library/datetime.html) library includes a module called ```datetime``` which we can import and use as:\n"
   ],
   "metadata": {
    "collapsed": false,
    "pycharm": {
     "name": "#%% md\n"
    }
   }
  },
  {
   "cell_type": "code",
   "execution_count": null,
   "outputs": [],
   "source": [
    "from datetime import datetime\n",
    "print(datetime.now())"
   ],
   "metadata": {
    "collapsed": false,
    "pycharm": {
     "name": "#%%\n"
    }
   }
  },
  {
   "cell_type": "markdown",
   "source": [
    "Note that the name of the library and the module is the same, but we have only imported the module datetime and therefore cannot use any other constant, function, or module included in the ```datetime``` library."
   ],
   "metadata": {
    "collapsed": false,
    "pycharm": {
     "name": "#%% md\n"
    }
   }
  },
  {
   "cell_type": "markdown",
   "source": [
    "## Aliases\n",
    "We can define aliases to make our code easier to read. An alias is just an alternative name we give to the library or module name to shorten it and make it more contact. Aliases are defined with the keyworkd ```as```:"
   ],
   "metadata": {
    "collapsed": false,
    "pycharm": {
     "name": "#%% md\n"
    }
   }
  },
  {
   "cell_type": "code",
   "execution_count": null,
   "outputs": [],
   "source": [
    "from datetime import datetime as dt\n",
    "print(dt.now())"
   ],
   "metadata": {
    "collapsed": false,
    "pycharm": {
     "name": "#%%\n"
    }
   }
  },
  {
   "cell_type": "markdown",
   "source": [
    "## Installing libraries\n",
    "The libraries and modules above are built-in the standard Python distribution and there is no need to install them. If you use Google Colabs, it packs some additional modules to make your work more efficient, but you may find that they are missing in other distributions and need to be installed. Libraries can be installed using the package installer [PiP](https://pypi.org/project/pip/). Fortunately, you can install libraries in the runtime environment of your Notebook with pip adding an exclamation mark before the pip command:\n"
   ],
   "metadata": {
    "collapsed": false,
    "pycharm": {
     "name": "#%% md\n"
    }
   }
  },
  {
   "cell_type": "code",
   "execution_count": null,
   "outputs": [],
   "source": [
    "!pip install numpy"
   ],
   "metadata": {
    "collapsed": false,
    "pycharm": {
     "name": "#%%\n"
    }
   }
  },
  {
   "cell_type": "markdown",
   "source": [
    "The line above will install [Numpy](https://numpy.org/) and all its related dependencies in your runtime if it is not already available (if you run it in colabs, you will be happy to know it is already preinstalled)"
   ],
   "metadata": {
    "collapsed": false,
    "pycharm": {
     "name": "#%% md\n"
    }
   }
  }
 ],
 "metadata": {
  "kernelspec": {
   "display_name": "Python 3",
   "language": "python",
   "name": "python3"
  },
  "language_info": {
   "codemirror_mode": {
    "name": "ipython",
    "version": 2
   },
   "file_extension": ".py",
   "mimetype": "text/x-python",
   "name": "python",
   "nbconvert_exporter": "python",
   "pygments_lexer": "ipython2",
   "version": "2.7.6"
  }
 },
 "nbformat": 4,
 "nbformat_minor": 0
}