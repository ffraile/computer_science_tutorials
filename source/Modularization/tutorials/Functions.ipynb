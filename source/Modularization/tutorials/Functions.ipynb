{
 "cells": [
  {
   "cell_type": "markdown",
   "metadata": {
    "pycharm": {
     "name": "#%% md\n"
    }
   },
   "source": [
    " # Functions\n",
    "## Try me\n",
    "[![Open In Colab](https://colab.research.google.com/assets/colab-badge.svg)](https://colab.research.google.com/github/ffraile/computer_science_tutorials/blob/main/source/Modularization/tutorials/Functions.ipynb)[![Binder](https://mybinder.org/badge_logo.svg)](https://mybinder.org/v2/gh/ffraile/computer_science_tutorials/main?labpath=source%2FModularization%2Ftutorials%2FFunctions.ipynb)\n",
    "\n",
    "At this stage we have already unpacked a lot of functionality and are able to build complex programs. If you have started any project on the side, you probably noticed that you may end up repeating the same tasks hera and there in your code, and that this implies repeating several lines of code. This is unefficient for a number of reasons, mainly efficiency (you need to type more code) and maintainability (if you need to make any change in your code, you have to make the same change different times!)\n",
    "\n",
    "Functions are a convenient way to divide your code into useful blocks, allowing us to order our code, make it more readable, reuse it, and save some time.\n",
    "\n",
    "Functions also allow us to take a *divide and conquer* approach into coding (or divide and code ;)) pin which we define the business logic of our application from top to bottom, defining first the general logic and dividing the problem into smaller parts that are easier to manage."
   ]
  },
  {
   "cell_type": "markdown",
   "metadata": {
    "pycharm": {
     "name": "#%% md\n"
    }
   },
   "source": [
    "Functions are defined with the keyword `def` and the code inside a function must be indented. The code inside a function is executed when you call the function, not when you define it."
   ]
  },
  {
   "cell_type": "code",
   "execution_count": 1,
   "metadata": {
    "pycharm": {
     "name": "#%%\n"
    }
   },
   "outputs": [],
   "source": [
    "def first_function():\n",
    "    print(\"This is a function\")"
   ]
  },
  {
   "cell_type": "markdown",
   "metadata": {
    "pycharm": {
     "name": "#%% md\n"
    }
   },
   "source": [
    "In order to call a function, just write the name of the function, followed by parenthesis. This type of statement is known as a function call statement:"
   ]
  },
  {
   "cell_type": "code",
   "execution_count": 5,
   "metadata": {
    "pycharm": {
     "name": "#%%\n"
    }
   },
   "outputs": [
    {
     "name": "stdout",
     "output_type": "stream",
     "text": [
      "This is a function\n"
     ]
    }
   ],
   "source": [
    "# Call the function\n",
    "first_function()"
   ]
  },
  {
   "cell_type": "markdown",
   "source": [
    "## Arguments\n",
    "Functions can receive arguments (or parameters) from the call statement to perform operations on them. The parameters are defined in the function clause, in the parameters that follow the function name, and may not be assigned any value until the function call.\n",
    "\n",
    "For instance, look at the following examples:"
   ],
   "metadata": {
    "collapsed": false,
    "pycharm": {
     "name": "#%% md\n"
    }
   }
  },
  {
   "cell_type": "code",
   "execution_count": null,
   "outputs": [],
   "source": [
    "def greetings(username):\n",
    "    print(\"Hello\", username, \"!\")\n",
    "\n",
    "greetings(\"John\")"
   ],
   "metadata": {
    "collapsed": false,
    "pycharm": {
     "name": "#%%\n"
    }
   }
  },
  {
   "cell_type": "code",
   "execution_count": 1,
   "metadata": {
    "pycharm": {
     "name": "#%%\n"
    }
   },
   "outputs": [
    {
     "name": "stdout",
     "output_type": "stream",
     "text": [
      "11\n"
     ]
    }
   ],
   "source": [
    "def sum_two_numbers(a, b):\n",
    "    return a + b\n",
    "\n",
    "addition = sum_two_numbers(5, 6)\n",
    "print(addition)"
   ]
  },
  {
   "cell_type": "markdown",
   "metadata": {
    "pycharm": {
     "name": "#%% md\n"
    }
   },
   "source": [
    "### Named arguments and default values\n",
    "Named arguments are any parameters that have a name, such as those in the example above. Note that in the second example, we did not specified which values correspond to each summand a or b. Python assigned the provided values from left to right, but we could explicitly define the value of each summand by passing the name in the functional call statement like this:\n"
   ]
  },
  {
   "cell_type": "code",
   "execution_count": 2,
   "outputs": [
    {
     "name": "stdout",
     "output_type": "stream",
     "text": [
      "11\n"
     ]
    }
   ],
   "source": [
    "print(sum_two_numbers(a=6, b=5))"
   ],
   "metadata": {
    "collapsed": false,
    "pycharm": {
     "name": "#%%\n"
    }
   }
  },
  {
   "cell_type": "markdown",
   "source": [
    "Named arguments can have a default value assigned in the definition of the parameter. We do not need to provide a value to these arguments to use the function, if not provided, the default value will be used:"
   ],
   "metadata": {
    "collapsed": false,
    "pycharm": {
     "name": "#%% md\n"
    }
   }
  },
  {
   "cell_type": "code",
   "execution_count": 9,
   "metadata": {
    "pycharm": {
     "name": "#%%\n"
    }
   },
   "outputs": [
    {
     "name": "stdout",
     "output_type": "stream",
     "text": [
      "8\n",
      "9\n"
     ]
    }
   ],
   "source": [
    "def my_power(a, b=2):\n",
    "    return b**a\n",
    "\n",
    "print(my_power(a=3))\n",
    "print(my_power(a=2, b=3))"
   ]
  },
  {
   "cell_type": "markdown",
   "metadata": {
    "pycharm": {
     "name": "#%% md\n"
    }
   },
   "source": [
    "> ☝  **Warning!** non-default (i.e. parameters without a default value) parameters must precede default parameters"
   ]
  },
  {
   "cell_type": "markdown",
   "metadata": {
    "pycharm": {
     "name": "#%% md\n"
    }
   },
   "source": [
    "Functions can use an arbitrary number of arguments **packed** in a tuple variable (see the Iterable Objects II tutorial for more on packing):"
   ]
  },
  {
   "cell_type": "code",
   "execution_count": 4,
   "metadata": {
    "pycharm": {
     "name": "#%%\n"
    }
   },
   "outputs": [
    {
     "name": "stdout",
     "output_type": "stream",
     "text": [
      "adding up numbers:\n",
      "(1, 3, 4)\n",
      "the sum is: \n",
      "8\n",
      "adding up numbers:\n",
      "(4, 5, 6, 7)\n"
     ]
    }
   ],
   "source": [
    "# This function will print the summands and return the sum\n",
    "def sum_numbers(*summands):\n",
    "    print(\"adding up numbers:\")\n",
    "    print(summands) # Note that the summands are packed into a tuple\n",
    "    res = 0\n",
    "    for s in summands:\n",
    "        res += s\n",
    "    return res\n",
    "\n",
    "# the built-in function sum adds the members of the iterable passed as an argument and is very similar to this function...\n",
    "\n",
    "c = sum_numbers(1, 3, 4) \n",
    "print(\"the sum is: \")\n",
    "print(c)\n",
    "d = sum_numbers(4,5,6,7)"
   ]
  },
  {
   "cell_type": "markdown",
   "metadata": {
    "pycharm": {
     "name": "#%% md\n"
    }
   },
   "source": [
    "In the example above, the parameters do not have names, we can also pack named parameters into dictionaries:"
   ]
  },
  {
   "cell_type": "code",
   "execution_count": 11,
   "metadata": {
    "pycharm": {
     "name": "#%%\n"
    }
   },
   "outputs": [
    {
     "name": "stdout",
     "output_type": "stream",
     "text": [
      "8\n",
      "9\n"
     ]
    }
   ],
   "source": [
    "def my_power(a, b=2):\n",
    "    return b**a\n",
    "\n",
    "dict_1 = {\"a\": 3}\n",
    "print(my_power(**dict_1)) # Parameter a is packed into a dictionary, then unpacked and passed to the function\n",
    "dict_2 = {\"a\":2, \"b\": 3}\n",
    "print(my_power(**dict_2))"
   ]
  },
  {
   "cell_type": "markdown",
   "metadata": {
    "pycharm": {
     "name": "#%% md\n"
    }
   },
   "source": [
    "## Variables Scope\n",
    "It is important to note that the variables defined and assigned within a function are **local**, or have a local **scope**, which means that they cannot be accessed outside the function. Conversely, the variables that we define before the definition of the function are **global**, or have a global scope and can be accessed in the scope of the function."
   ]
  },
  {
   "cell_type": "code",
   "execution_count": 1,
   "metadata": {
    "pycharm": {
     "name": "#%%\n"
    }
   },
   "outputs": [
    {
     "name": "stdout",
     "output_type": "stream",
     "text": [
      "5\n"
     ]
    },
    {
     "ename": "NameError",
     "evalue": "name 'c' is not defined",
     "output_type": "error",
     "traceback": [
      "\u001B[1;31m---------------------------------------------------------------------------\u001B[0m",
      "\u001B[1;31mNameError\u001B[0m                                 Traceback (most recent call last)",
      "\u001B[1;32m<ipython-input-1-89928d6f07d6>\u001B[0m in \u001B[0;36m<module>\u001B[1;34m\u001B[0m\n\u001B[0;32m      4\u001B[0m \u001B[1;33m\u001B[0m\u001B[0m\n\u001B[0;32m      5\u001B[0m \u001B[0mprint\u001B[0m\u001B[1;33m(\u001B[0m\u001B[0msum_two_numbers\u001B[0m\u001B[1;33m(\u001B[0m\u001B[1;36m3\u001B[0m\u001B[1;33m,\u001B[0m\u001B[1;36m2\u001B[0m\u001B[1;33m)\u001B[0m\u001B[1;33m)\u001B[0m \u001B[1;31m# This works, because c is defined when the function is called\u001B[0m\u001B[1;33m\u001B[0m\u001B[1;33m\u001B[0m\u001B[0m\n\u001B[1;32m----> 6\u001B[1;33m \u001B[0mprint\u001B[0m\u001B[1;33m(\u001B[0m\u001B[0mc\u001B[0m\u001B[1;33m)\u001B[0m \u001B[1;31m#This won´t work because c does not exist in this context, only in the context of the function\u001B[0m\u001B[1;33m\u001B[0m\u001B[1;33m\u001B[0m\u001B[0m\n\u001B[0m",
      "\u001B[1;31mNameError\u001B[0m: name 'c' is not defined"
     ]
    }
   ],
   "source": [
    "def sum_two_numbers(a,b):\n",
    "    c = a + b #c is defined and assigned inside the function as the sum of a and b\n",
    "    return c\n",
    "\n",
    "print(sum_two_numbers(3,2)) # This works, because c is defined when the function is called\n",
    "print(c) #This won´t work because c does not exist in this context, only in the context of the function"
   ]
  },
  {
   "cell_type": "markdown",
   "metadata": {
    "pycharm": {
     "name": "#%% md\n"
    }
   },
   "source": [
    "Can you write a function to reverse a given text? The function will accept the text as a parameter and will return the sentence in reverse order."
   ]
  },
  {
   "cell_type": "code",
   "execution_count": 1,
   "metadata": {
    "pycharm": {
     "name": "#%%\n"
    }
   },
   "outputs": [
    {
     "name": "stdout",
     "output_type": "stream",
     "text": [
      "nolem on ,nomel oN\n"
     ]
    }
   ],
   "source": [
    "# define \"reverse\" function and use it to reverse \"sentence\" variable\n",
    "def reverse(my_string):\n",
    "    # insert your code in here\n",
    "\n",
    "sentence = \"No lemon, no melon\"\n",
    "print(reverse(sentence))"
   ]
  }
 ],
 "metadata": {
  "interpreter": {
   "hash": "2db524e06e9f5f4ffedc911c917cb75e12dbc923643829bf417064a77eb14d37"
  },
  "kernelspec": {
   "display_name": "Python 3.8.1 64-bit",
   "name": "python3"
  },
  "language_info": {
   "codemirror_mode": {
    "name": "ipython",
    "version": 3
   },
   "file_extension": ".py",
   "mimetype": "text/x-python",
   "name": "python",
   "nbconvert_exporter": "python",
   "pygments_lexer": "ipython3",
   "version": "3.8.1"
  }
 },
 "nbformat": 4,
 "nbformat_minor": 4
}
