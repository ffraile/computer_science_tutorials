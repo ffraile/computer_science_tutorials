{
 "cells": [
  {
   "cell_type": "markdown",
   "source": [
    "# Kahoot Quiz\n",
    "\n",
    "## Try me\n",
    "[![Open In Colab](https://colab.research.google.com/assets/colab-badge.svg)](https://colab.research.google.com/github/ffraile/computer_science_tutorials/blob/main/source/Courses%20Extra/Exam_preparation_Kahoot_Notebook_(Solved).ipynb)[![Binder](https://mybinder.org/badge_logo.svg)](https://mybinder.org/v2/gh/ffraile/computer_science_tutorials/main?labpath=source%2FCourses%20Extra%2FExam_preparation_Kahoot_Notebook_(Solved).ipynb)\n",
    "\n",
    "## 1. Basic Control Structures and Numerical Operators\n",
    "Review the following code snippet:\n",
    "Hint: the ```round(x)``` function rounds a given number ```x``` to the nearest integer."
   ],
   "metadata": {
    "collapsed": false,
    "id": "VUnyf2tbm7fV"
   }
  },
  {
   "cell_type": "code",
   "execution_count": null,
   "outputs": [
    {
     "output_type": "stream",
     "name": "stdout",
     "text": [
      "Please enter an integer: 7\n",
      "2.6457513110645907\n",
      "Sorry! Try again 😢\n"
     ]
    }
   ],
   "source": [
    "x = int(input(\"Please enter an integer: \"))\n",
    "\n",
    "result = x ** (1 / 2) #Square root of 7\n",
    "print(result)\n",
    "\n",
    "if round(result) ** 2 == x:\n",
    "    print(\"Yeah!!💪\")\n",
    "else:\n",
    "    print(\"Sorry! Try again 😢\")"
   ],
   "metadata": {
    "pycharm": {
     "is_executing": true
    },
    "id": "OkGa1cjxm7fW",
    "colab": {
     "base_uri": "https://localhost:8080/"
    },
    "outputId": "6ee0b24a-c384-47bb-f415-a9f6ea617485"
   }
  },
  {
   "cell_type": "markdown",
   "source": [
    "What is the output if the user enters 7?\n",
    "1. Yeah!!💪\n",
    "2. Sorry! Try again 😢"
   ],
   "metadata": {
    "collapsed": false,
    "id": "4vPpuMnBm7fX"
   }
  },
  {
   "cell_type": "markdown",
   "source": [
    "## 2. Basic Control Structures and String Operators\n",
    "Review the following code snippet:"
   ],
   "metadata": {
    "collapsed": false,
    "id": "lvfhxuJvm7fX"
   }
  },
  {
   "cell_type": "code",
   "execution_count": null,
   "outputs": [],
   "source": [
    "retries = 10\n",
    "my_name = \"Devil\"\n",
    "while retries > 0:\n",
    "  your_guess = input(\"Hope you Guess my name: \")\n",
    "  if your_guess == my_name:\n",
    "    print(\"Yeah! Rock and Roll! 🤘\")\n",
    "    break\n",
    "  retries -= 1"
   ],
   "metadata": {
    "id": "2SgJxvU1m7fX"
   }
  },
  {
   "cell_type": "markdown",
   "source": [
    "Describe in your own words what the code snippet does."
   ],
   "metadata": {
    "collapsed": false,
    "id": "TZWRYVt2m7fX"
   }
  },
  {
   "cell_type": "markdown",
   "source": [
    "The program asks the user to guess a name (\"Devil\"). If the user guesses the name correctly, the program prints \"Yeah! Rock and Roll! 🤘\" and stops. If the user does not guess the name correctly, the program prints \"Hope you Guess my name: \" and the user can try again. The user has 10 attempts to guess the name correctly.\n",
    "\n",
    "🥚 **Easter Egg**: The program is inspired in the lyrics of a song by Rolling Stones, \"Please to meet you, hope you guess my name\" (Sympathy for the Devil, 1968)."
   ],
   "metadata": {
    "collapsed": false,
    "id": "FmRmct-sm7fY"
   }
  },
  {
   "cell_type": "markdown",
   "source": [
    "## 3. List Slicing\n",
    "Review the following code snippet:"
   ],
   "metadata": {
    "collapsed": false,
    "id": "0Ju15ELXm7fY"
   }
  },
  {
   "cell_type": "code",
   "execution_count": 1,
   "outputs": [
    {
     "name": "stdout",
     "output_type": "stream",
     "text": [
      "[9, 7, 5, 3]\n"
     ]
    }
   ],
   "source": [
    "my_list = [1, 2, 3, 4, 5, 6, 7, 8, 9]\n",
    "print(my_list[8:0:-2]) #slicing uses start:stop:step"
   ],
   "metadata": {
    "colab": {
     "base_uri": "https://localhost:8080/"
    },
    "id": "4HiA0gMhm7fY",
    "outputId": "4e6aabdd-567b-4714-e1bc-1cc7b54df0c0"
   }
  },
  {
   "cell_type": "markdown",
   "source": [
    "What is the output of the code snippet?\n",
    "1. [9, 0, 2]\n",
    "2. [8, 6, 4, 2]\n",
    "3. [9, 7, 5, 3, 1]\n",
    "4. [9, 7, 5, 3]"
   ],
   "metadata": {
    "collapsed": false,
    "id": "sPX1amoEm7fY"
   }
  },
  {
   "cell_type": "markdown",
   "source": [],
   "metadata": {
    "collapsed": false
   }
  },
  {
   "cell_type": "markdown",
   "source": [
    "☝ **Extra**: The negative step size ```-2``` means that the list is generated in reverse order. Slicing always stops BEFORE reaching the stop index. Therefore, the list is generated from index 8 to index 1 (not including index 0) in reverse order with a step size of 2."
   ],
   "metadata": {
    "collapsed": false
   }
  },
  {
   "cell_type": "markdown",
   "source": [
    "## 4. Prime Number Checker\n",
    "Review the following code snippet, which allows to check if a given number is prime or not:\n",
    "\n",
    "Hint: the function ```range(a, b, s)``` returns a list of integers from ```a``` to ```b - 1``` with a step size of ```s```. If ```s```is negative, the list is generated in reverse order. If ```s``` is not specified, it is assumed to be 1.\n",
    "\n",
    "How could you make the code more efficient?"
   ],
   "metadata": {
    "collapsed": false,
    "id": "A9bgXmcAm7fY"
   }
  },
  {
   "cell_type": "code",
   "execution_count": null,
   "outputs": [
    {
     "name": "stdout",
     "output_type": "stream",
     "text": [
      "7 Yeah!!💪\n"
     ]
    }
   ],
   "source": [
    "n = int(input(\"Please enter a number: \"))\n",
    "if n > 1:\n",
    "    for i in range(2, n):\n",
    "        if (n % i) == 0:\n",
    "            print(n, \"Sorry! Try again 😢\")\n",
    "            break\n",
    "    print(n, \"Yeah!!💪\")\n",
    "else:\n",
    "    print(n, \"Sorry! Try again 😢\")"
   ],
   "metadata": {
    "id": "a_WWdACHm7fY",
    "outputId": "106b39be-53e6-45f7-b426-ad6881a14f0a"
   }
  },
  {
   "cell_type": "markdown",
   "source": [
    "We can make the code more efficient by:\n",
    "- **a:** Checking only the odd numbers between 2 and n (instead of all the numbers between 2 and n). This is because all even numbers are divisible by 2 and therefore not prime numbers.\n",
    "☝ **Extra**: We can add this condition to the ```if``` statement: ```if (n > 2) and not (n%2 == 0):```, and then add an ```elif``` statement to check if the number is 2.\n",
    "- **b:** Checking only if the number n is divisible by odd numbers, modifying the inner for loop, so that it goes from 3 to n with a step size of 2. This is because if n is divisible by an odd number, it is not a prime number.\n"
   ],
   "metadata": {
    "collapsed": false,
    "id": "GGFg1dFBm7fZ"
   }
  },
  {
   "cell_type": "code",
   "execution_count": 8,
   "outputs": [
    {
     "name": "stdout",
     "output_type": "stream",
     "text": [
      "3 Yeah!!💪\n"
     ]
    }
   ],
   "source": [
    "n = int(input(\"Please enter a number: \"))\n",
    "if (n > 2)  and not (n%2 == 0):\n",
    "    for i in range(3, n, 2):\n",
    "        if (n % i) == 0:\n",
    "            print(n, \"Sorry! Try again 😢\")\n",
    "            break\n",
    "    print(n, \"Yeah!!💪\")\n",
    "elif n == 2:\n",
    "    print(n, \"Yeah!!💪\")\n",
    "else:\n",
    "    print(n, \"Sorry! Try again 😢\")"
   ],
   "metadata": {
    "collapsed": false
   }
  },
  {
   "cell_type": "markdown",
   "source": [
    "We can illustrate this with the following examples,\n",
    "\n",
    "n = 4\n",
    "**First script**\n",
    "Since 4 > 1, the program enters the ```if``` statement. The program enters the ```for``` loop and in each iteration ```i``` and ```(n %% i)``` take the results in the table below:\n",
    "\n",
    "| i   | (n %% i) | (n %% i) == 0 |\n",
    "|-----|----------|---------------|\n",
    "| 2   | 0        | True          |\n",
    "\n",
    "Since it is True, the program enters the inner ```if``` statement and prints \"4 Sorry! Try again 😢\", and then breaks the ```for``` loop. Therefore, the program does not print \"4 Yeah!!💪\".\n",
    "\n",
    "**Second script**\n",
    "4 is divisible by 2 ```not (n%2 == 0)``` computes to False and therefore the program does not enter the ```if``` statement. The program enters the ```else``` statement and prints \"4 Yeah!!💪\". Therefore, with the modification of the ```if```condition, we have made a slight improvement in the efficiency of the program if the user enters an even number.\n",
    "\n",
    "Now, take the  following example:\n",
    "n = 7\n",
    "\n",
    "**First script**\n",
    "Since 7 > 1, the program enters the ```if``` statement. The program enters the ```for``` loop and in each iteration ```i``` and ```(n %% i)``` take the results in the table below:\n",
    "\n",
    "| i   | (n %% i) | (n %% i) == 0 |\n",
    "|-----|----------|---------------|\n",
    "| 2   | 1        | False         |\n",
    "| 3   | 1        | False         |\n",
    "| 4   | 3        | False         |\n",
    "| 5   | 2        | False         |\n",
    "| 6   | 1        | False         |\n",
    "\n",
    "Since all the results are False, the program does not enter the inner ```if``` statement and prints \"7 Yeah!!💪\", but it needed to check all the numbers between 2 and 7 (6 numbers) in total.\n",
    "\n",
    "\n",
    "**Second script**\n",
    "Since 7 > 1, and 7 is odd, the program enters the ```if``` statement. The program enters the ```for``` loop and in each iteration ```i``` and ```(n %% i)``` take the results in the table below:\n",
    "\n",
    "| i   | (n %% i) | (n %% i) == 0 |\n",
    "|-----|----------|---------------|\n",
    "| 3   | 1        | False         |\n",
    "| 5   | 2        | False         |\n",
    "\n",
    "Since all the results are False, the program does not enter the inner ```if``` statement and prints \"7 Yeah!!💪\", but it needed to check only 2 numbers between 2 and 7 (2 numbers) in total, so this second script is more efficient than the first one. The modification of the inner for loop has made a significant improvement in the efficiency of the program if the user enters an odd number.\n",
    "\n",
    "☝ **Extra**: Actually you do need to check all the numbers between 2 and n. You can stop checking when you reach the square root of n. This is because if n is divisible by a number greater than the square root of n, then it is also divisible by a number smaller than the square root of n. Prime number checkers can really make your brain explode! 🤯\n"
   ],
   "metadata": {
    "collapsed": false
   }
  },
  {
   "cell_type": "markdown",
   "source": [],
   "metadata": {
    "collapsed": false
   }
  },
  {
   "cell_type": "markdown",
   "source": [
    "## 5. Thue-Morse Sequence Generator\n",
    "Review the following code snippet:\n",
    "Hint 0: the ```range(a, b)``` function returns a list of integers from ```a``` to ```b - 1```.\n",
    "Hint 1: the ```append(x)``` method adds an element ```x``` to the end of a list.\n",
    "Hint 2: the ```.extend(l)``` method adds the elements of a list to another list.\n"
   ],
   "metadata": {
    "collapsed": false,
    "id": "XYw6gyiIm7fZ"
   }
  },
  {
   "cell_type": "code",
   "execution_count": 9,
   "outputs": [
    {
     "name": "stdout",
     "output_type": "stream",
     "text": [
      "[0, 1, 1, 0]\n"
     ]
    }
   ],
   "source": [
    "sequence = [0]\n",
    "n = int(input(\"Please enter a number: \"))\n",
    "for i in range(1, n):\n",
    "    next_sequence = []\n",
    "    for x in sequence:\n",
    "        next_sequence.append(1-x)\n",
    "    sequence.extend(next_sequence)\n",
    "print(sequence)"
   ],
   "metadata": {
    "collapsed": false
   }
  },
  {
   "cell_type": "markdown",
   "source": [
    "What is the output of the code snippet if the user enters 3?\n",
    "1. [0, 1, 1, 0]\n",
    "2. [0, 1, 1, 1, 0, 0, 1]\n",
    "3. [0, 1, 1, 0, 1, 0, 0, 1]\n",
    "4. [0, 1, 0]"
   ],
   "metadata": {
    "collapsed": false,
    "id": "qWp_lSqJm7fa"
   }
  }
 ],
 "metadata": {
  "kernelspec": {
   "display_name": "Python 3",
   "language": "python",
   "name": "python3"
  },
  "language_info": {
   "codemirror_mode": {
    "name": "ipython",
    "version": 2
   },
   "file_extension": ".py",
   "mimetype": "text/x-python",
   "name": "python",
   "nbconvert_exporter": "python",
   "pygments_lexer": "ipython2",
   "version": "2.7.6"
  },
  "colab": {
   "provenance": []
  }
 },
 "nbformat": 4,
 "nbformat_minor": 0
}
