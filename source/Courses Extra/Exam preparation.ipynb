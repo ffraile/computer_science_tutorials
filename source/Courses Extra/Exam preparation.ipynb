{
 "cells": [
  {
   "cell_type": "markdown",
   "source": [
    "# Exam Preparation\n",
    "This notebook contains a series of cheat-sheets and exercises that will help you prepare for the exam.\n",
    "\n",
    "## Try me\n",
    "[![Open In Colab](https://colab.research.google.com/assets/colab-badge.svg)](https://colab.research.google.com/github/ffraile/computer_science_tutorials/blob/main/source/Courses%20Extra/Exam%20preparation.ipynb)[![Binder](https://mybinder.org/badge_logo.svg)](https://mybinder.org/v2/gh/ffraile/computer_science_tutorials/main?labpath=source%2FCourses%20Extra%2FExam%20preparation.ipynb)\n",
    "\n",
    "# Basic Operations\n",
    "## Basic Operations with numbers\n",
    "Arithmetic Operations Cheatsheet\n",
    "- `+` Addition\n",
    "- `-` Subtraction\n",
    "- `*` Multiplication\n",
    "- `/` Division\n",
    "- `**` Exponentiation\n",
    "- `//` Floor division\n",
    "- `%` Modulo\n",
    "\n",
    "Let us practice with basic examples:\n",
    "\n",
    "1. What does the following code do?"
   ],
   "metadata": {
    "collapsed": false
   }
  },
  {
   "cell_type": "code",
   "execution_count": null,
   "outputs": [],
   "source": [
    "x = int(input(\"Enter an integer number: \"))\n",
    "\n",
    "if x % 2 == 0:\n",
    "    print(\"🤓🤓🤓🤓\")\n",
    "else:\n",
    "    print(\"🤪🤪🤪🤪\")\n"
   ],
   "metadata": {
    "collapsed": false
   }
  },
  {
   "cell_type": "markdown",
   "source": [
    "2. What does the following code do?"
   ],
   "metadata": {
    "collapsed": false
   }
  },
  {
   "cell_type": "code",
   "execution_count": null,
   "outputs": [],
   "source": [
    "x = int(input(\"Enter an integer number: \"))\n",
    "# Let´s get the square root of the number\n",
    "print(\"The square root of the number is: \", x ** 0.5)"
   ],
   "metadata": {
    "collapsed": false
   }
  },
  {
   "cell_type": "markdown",
   "source": [
    "Questions:\n",
    "- What happens if we enter a negative number?\n",
    "- What happens if we enter a float number? or text?\n"
   ],
   "metadata": {
    "collapsed": false
   }
  },
  {
   "cell_type": "markdown",
   "source": [
    "3. What does the following code do?\n"
   ],
   "metadata": {
    "collapsed": false
   }
  },
  {
   "cell_type": "code",
   "execution_count": null,
   "outputs": [],
   "source": [
    "x = int(input(\"Enter an integer number: \"))\n",
    "i = int(input(\"Enter a position: \"))\n",
    "\n",
    "print((x // (2 ** i)) % 2)"
   ],
   "metadata": {
    "collapsed": false
   }
  },
  {
   "cell_type": "markdown",
   "source": [
    "## Basic Operations with strings\n",
    "- `+` Concatenation\n",
    "- `*` Repetition (right operand must be an integer)\n",
    "\n",
    "\n",
    "Let us practice with basic examples:"
   ],
   "metadata": {
    "collapsed": false
   }
  },
  {
   "cell_type": "markdown",
   "source": [
    "1. What happens if the user enters \"Hello\" in the first input and 3 in the second?"
   ],
   "metadata": {
    "collapsed": false
   }
  },
  {
   "cell_type": "code",
   "execution_count": null,
   "outputs": [],
   "source": [
    "x = input(\"Enter a string: \")\n",
    "n = int(input(\"Enter a number: \"))\n",
    "\n",
    "print(x * n)\n"
   ],
   "metadata": {
    "collapsed": false
   }
  },
  {
   "cell_type": "markdown",
   "source": [
    "## String formatting and string methods\n",
    "- `f` String formatting\n",
    "- Use curved brackets `{}` to indicate the position of the variables within the string\n",
    "- Shorthand of `str.format()`\n",
    "\n",
    "Let us practice with basic examples:\n"
   ],
   "metadata": {
    "collapsed": false
   }
  },
  {
   "cell_type": "code",
   "execution_count": null,
   "outputs": [],
   "source": [
    "name = \"John\"\n",
    "age = 23\n",
    "\n",
    "print(\"Hello, my name is\" + name + \"and I am\" + str(age) + \"years old.\")\n",
    "print(\"Hello, my name is {0} and I am {1} years old.\".format(name, age))\n",
    "print(f\"Hello, my name is {name} and I am {age} years old.\")\n"
   ],
   "metadata": {
    "collapsed": false
   }
  },
  {
   "cell_type": "markdown",
   "source": [
    "## Basic Logical and Comparison Operations\n",
    "Logical Operations Cheatsheet:\n",
    "- `and` Logical AND (True if both operands are True) (& is the bitwise AND)\n",
    "- `or` Logical OR (True if at least one operand is True) (| is the bitwise OR)\n",
    "- `not` Logical NOT (True if the operand is False)\n",
    "- `^` Logical XOR (True if only one operand is True)\n",
    "\n",
    "Comparison Operations Cheatsheet:\n",
    "- `==` Equal to\n",
    "- `!=` Not equal to\n",
    "- `>` Greater than\n",
    "- `<` Less than\n",
    "- `>=` Greater than or equal to\n",
    "- `<=` Less than or equal to\n",
    "\n",
    "Let us practice with basic examples:\n",
    "\n",
    "1. What is the output of the following code if your sign is \"Aries\" and your friend's sign is \"Leo\"?"
   ],
   "metadata": {
    "collapsed": false
   }
  },
  {
   "cell_type": "code",
   "execution_count": null,
   "outputs": [],
   "source": [
    "your_sign = input(\"Enter your zodiac sign: \")\n",
    "your_friends_sign = input(\"Enter your friend's zodiac sign: \")\n",
    "\n",
    "print(your_sign != your_friends_sign)\n",
    "print(your_sign == \"Aries\" and your_friends_sign == \"Leo\")\n",
    "print(your_sign != \"Aries\" or your_friends_sign != \"Leo\")\n",
    "\n",
    "if your_sign != \"Aries\" or your_friends_sign != \"Leo\":\n",
    "    print(\"You are not a perfect match!\")"
   ],
   "metadata": {
    "collapsed": false
   }
  },
  {
   "cell_type": "markdown",
   "source": [
    "# Iterables Indexing and Slicing\n",
    "Iterable objects:\n",
    "- Strings\n",
    "- Lists\n",
    "- Dictionaries\n",
    "- (Tuples)\n",
    "\n",
    "Indexing:\n",
    "- Starts at 0\n",
    "- Ends at len()-1\n",
    "- Use square brackets `[]`\n",
    "\n",
    "Slicing:\n",
    "- Use square brackets `[]`\n",
    "- `start:stop:step`\n",
    "- `start` is inclusive (will be included)\n",
    "- `stop` is exclusive (will not be included)\n",
    "- `step` can be omitted (default is 1)\n",
    "- `start`, `stop` and `step` can be negative\n",
    "- negative `start` and `stop` will be counted from the end\n",
    "- if `step` is negative, the order will be reversed\n",
    "- `start` and `stop` can be omitted (default is the first and last element respectively)\n",
    "\n",
    "Let us practice with basic examples:\n",
    "\n",
    "1. What does the following code do? Explain why\n",
    "hint: the function `sorted(iterable, reverse=True)` returns a sorted list of the elements in the iterable in descending order"
   ],
   "metadata": {
    "collapsed": false
   }
  },
  {
   "cell_type": "code",
   "execution_count": null,
   "outputs": [],
   "source": [
    "a_list = [1, 2, 3, 5, 7, 11, 13, 17, 19, 23]\n",
    "print(a_list[1:7:2])\n",
    "print(a_list[-1:-7:-2])\n",
    "\n",
    "a_list_sorted = sorted(a_list, reverse=True)\n",
    "print(a_list_sorted[1:7:2])\n",
    "print(a_list_sorted[-1:-7:-2])\n"
   ],
   "metadata": {
    "collapsed": false,
    "pycharm": {
     "is_executing": true
    }
   }
  },
  {
   "cell_type": "markdown",
   "source": [
    "2. What does the following code do? Explain why\n",
    "Hint, the function `len(i)` returns the length of the iterable object `i`\n",
    "Hint, the function `randint(a,b)` returns a random integer between `a` and `b`"
   ],
   "metadata": {
    "collapsed": false
   }
  },
  {
   "cell_type": "code",
   "execution_count": null,
   "outputs": [],
   "source": [
    "from random import randint\n",
    "a_string = \"Hello World\"\n",
    "char_index = randint(0, len(a_string) - 1)\n",
    "print(a_string[char_index])"
   ],
   "metadata": {
    "collapsed": false
   }
  },
  {
   "cell_type": "markdown",
   "source": [
    "# Control Structures\n",
    "Cheat Sheet:\n",
    "- If elif else\n",
    "- While loop\n",
    "- For loop\n"
   ],
   "metadata": {
    "collapsed": false
   }
  },
  {
   "cell_type": "markdown",
   "source": [
    "1. What does the following code do? Explain why"
   ],
   "metadata": {
    "collapsed": false
   }
  },
  {
   "cell_type": "code",
   "execution_count": null,
   "outputs": [],
   "source": [
    "your_name = input(\"Enter your surname: \")\n",
    "\n",
    "if your_name[-1:-3] == \"ez\":\n",
    "    print(\"Your russian name is: \", your_name[0:len(your_name)-3] + \"ich\")\n",
    "elif your_name[-1] == \"a\":\n",
    "    print(\"Your russian name is: \", your_name[0:len(your_name)-1] + \"ova\")\n",
    "else:\n",
    "    print(\"Your russian name is: \", your_name[0:len(your_name)-1] + \"ovich\")"
   ],
   "metadata": {
    "collapsed": false,
    "pycharm": {
     "is_executing": true
    }
   }
  },
  {
   "cell_type": "markdown",
   "source": [
    "Let us review the [Fibonacci sequence solution and analysis questions](https://colab.research.google.com/github/ffraile/computer_science_tutorials/blob/main/source/Extra%20Exercises/Ex1.%20Fibonacci%20(SOL).ipynb)\n",
    "\n",
    "Let us review the [Dice man Bot Solution and analysis questions](https://colab.research.google.com/github/ffraile/computer_science_tutorials/blob/main/source/Extra%20Exercises/Dice%20man%20(Solved).ipynb)\n",
    "\n",
    "Let us review the Thue Morse Sequence Generator [Solution and analysis questions](https://colab.research.google.com/github/ffraile/computer_science_tutorials/blob/main/source/Extra%20Exercises/Thue-Morse%20Sequence%20(Solved).ipynb)\n"
   ],
   "metadata": {
    "collapsed": false
   }
  },
  {
   "cell_type": "markdown",
   "source": [
    "# Dictionaries and nested iterables\n",
    "\n",
    "Dictionaries cheat sheet:\n",
    "- curly brackets `{}` to define a dictionary\n",
    "- `key:value` pairs\n",
    "- `key` must be unique\n",
    "- `values()` method returns a list of all the values in the dictionary\n",
    "- `keys()` method returns a list of all the keys in the dictionary\n",
    "- Better than lists when elements have different meaning\n",
    "\n",
    "Nested iterables cheat sheet:\n",
    "- iterables inside iterables\n",
    "- iterables can be of different types\n",
    "\n",
    "Let us practice with basic examples:\n",
    "\n",
    "1. What does the following code do? Explain why"
   ],
   "metadata": {
    "collapsed": false
   }
  },
  {
   "cell_type": "code",
   "execution_count": null,
   "outputs": [],
   "source": [
    "a_matrix = [[1, 2, 3], [4, 5, 6], [7, 8, 9]]\n",
    "print(a_matrix[1][2])"
   ],
   "metadata": {
    "collapsed": false
   }
  },
  {
   "cell_type": "markdown",
   "source": [
    "2. What does the following code do? Explain why\n",
    "\n",
    "hint: `sum(iterable)` returns the sum of all the elements in the iterable\n",
    "hint: `values()` method returns a list of all the values in the dictionary\n",
    "hint: `len(iterable)` returns the length of the iterable"
   ],
   "metadata": {
    "collapsed": false
   }
  },
  {
   "cell_type": "code",
   "execution_count": null,
   "outputs": [],
   "source": [
    "student_records = [\n",
    "    {\n",
    "        \"name\": \"John\",\n",
    "        \"age\": 23,\n",
    "        \"grades\": {\n",
    "            \"math\": 10,\n",
    "            \"physics\": 9,\n",
    "            \"chemistry\": 8\n",
    "        }\n",
    "    },\n",
    "    {\n",
    "        \"name\": \"Mary\",\n",
    "        \"age\": 21,\n",
    "        \"grades\": {\n",
    "            \"math\": 9,\n",
    "            \"physics\": 10,\n",
    "            \"chemistry\": 9\n",
    "        }\n",
    "    },\n",
    "    {\n",
    "        \"name\": \"Peter\",\n",
    "        \"age\": 22,\n",
    "        \"grades\": {\n",
    "            \"math\": 8,\n",
    "            \"physics\": 8,\n",
    "            \"chemistry\": 8\n",
    "        }\n",
    "    }\n",
    "]\n",
    "\n",
    "print(student_records[0][\"grades\"][\"math\"])\n",
    "print(student_records[1][\"grades\"][\"physics\"])\n",
    "print(sum(student_records[1][\"grades\"].values()) / len(student_records[1][\"grades\"]))"
   ],
   "metadata": {
    "collapsed": false
   }
  }
 ],
 "metadata": {
  "kernelspec": {
   "display_name": "Python 3",
   "language": "python",
   "name": "python3"
  },
  "language_info": {
   "codemirror_mode": {
    "name": "ipython",
    "version": 2
   },
   "file_extension": ".py",
   "mimetype": "text/x-python",
   "name": "python",
   "nbconvert_exporter": "python",
   "pygments_lexer": "ipython2",
   "version": "2.7.6"
  }
 },
 "nbformat": 4,
 "nbformat_minor": 0
}
