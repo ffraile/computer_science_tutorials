{
 "cells": [
  {
   "cell_type": "markdown",
   "source": [
    "# Kahoot Quiz\n",
    "## Try me\n",
    "[![Open In Colab](https://colab.research.google.com/assets/colab-badge.svg)](https://colab.research.google.com/github/ffraile/computer_science_tutorials/blob/main/source/Courses%20Extra/Exam%20preparation%20Kahoot%20Notebook.ipynb)[![Binder](https://mybinder.org/badge_logo.svg)](https://mybinder.org/v2/gh/ffraile/computer_science_tutorials/main?labpath=source%2FCourses%20Extra%2FExam%20preparation%20Kahoot%20Notebook.ipynb)\n",
    "\n",
    "## 1. Basic Control Structures and Numerical Operators\n",
    "Review the following code snippet:\n",
    "Hint: the ```round(x)``` function rounds a given number ```x``` to the nearest integer."
   ],
   "metadata": {
    "collapsed": false
   }
  },
  {
   "cell_type": "code",
   "execution_count": null,
   "outputs": [],
   "source": [
    "x = int(input(\"Please enter an integer: \"))\n",
    "\n",
    "result = x ** (1 / 2)\n",
    "\n",
    "if round(result) ** 2 == x:\n",
    "    print(\"Yeah!!💪\")\n",
    "else:\n",
    "    print(\"Sorry! Try again 😢\")"
   ],
   "metadata": {
    "collapsed": false,
    "pycharm": {
     "is_executing": true
    }
   }
  },
  {
   "cell_type": "markdown",
   "source": [
    "What is the output if the user enters 7?\n",
    "1. Yeah!!💪\n",
    "2. Sorry! Try again 😢"
   ],
   "metadata": {
    "collapsed": false
   }
  },
  {
   "cell_type": "markdown",
   "source": [
    "## 2. Basic Control Structures and String Operators\n",
    "Review the following code snippet:"
   ],
   "metadata": {
    "collapsed": false
   }
  },
  {
   "cell_type": "code",
   "execution_count": null,
   "outputs": [],
   "source": [
    "retries = 10\n",
    "my_name = \"Devil\"\n",
    "while retries > 0:\n",
    "  your_guess = input(\"Hope you Guess my name: \")\n",
    "  if your_guess == my_name:\n",
    "    print(\"Yeah! Rock and Roll! 🤘\")\n",
    "    break\n",
    "  retries -= 1"
   ],
   "metadata": {
    "collapsed": false
   }
  },
  {
   "cell_type": "markdown",
   "source": [
    "Describe in your own words what the code snippet does."
   ],
   "metadata": {
    "collapsed": false
   }
  },
  {
   "cell_type": "markdown",
   "source": [
    "(Write your answer here)"
   ],
   "metadata": {
    "collapsed": false
   }
  },
  {
   "cell_type": "markdown",
   "source": [
    "## 3. List Slicing\n",
    "Review the following code snippet:"
   ],
   "metadata": {
    "collapsed": false
   }
  },
  {
   "cell_type": "code",
   "execution_count": null,
   "outputs": [],
   "source": [
    "my_list = [1, 2, 3, 4, 5, 6, 7, 8, 9]\n",
    "print(my_list[8:0:-2])\n"
   ],
   "metadata": {
    "collapsed": false,
    "pycharm": {
     "is_executing": true
    }
   }
  },
  {
   "cell_type": "markdown",
   "source": [
    "What is the output of the code snippet?\n",
    "1. [9, 0, 2]\n",
    "2. [8, 6, 4, 2]\n",
    "3. [9, 7, 5, 3, 1]\n",
    "4. [9, 7, 5, 3]"
   ],
   "metadata": {
    "collapsed": false
   }
  },
  {
   "cell_type": "markdown",
   "source": [
    "## 4. Prime Number Checker\n",
    "Review the following code snippet, which allows to check if a given number is prime or not:\n",
    "\n",
    "Hint: the function ```range(a, b, s)``` returns a list of integers from ```a``` to ```b - 1``` with a step size of ```s```. If ```s```is negative, the list is generated in reverse order. If ```s``` is not specified, it is assumed to be 1.\n",
    "\n",
    "How could you make the code more efficient?"
   ],
   "metadata": {
    "collapsed": false
   }
  },
  {
   "cell_type": "code",
   "execution_count": 1,
   "outputs": [
    {
     "name": "stdout",
     "output_type": "stream",
     "text": [
      "7 Yeah!!💪\n"
     ]
    }
   ],
   "source": [
    "n = int(input(\"Please enter a number: \"))\n",
    "if n > 1:\n",
    "    for i in range(2, n):\n",
    "        if (n % i) == 0:\n",
    "            print(n, \"Sorry! Try again 😢\")\n",
    "            break\n",
    "    print(n, \"Yeah!!💪\")\n",
    "else:\n",
    "    print(n, \"Sorry! Try again 😢\")"
   ],
   "metadata": {
    "collapsed": false
   }
  },
  {
   "cell_type": "code",
   "execution_count": 2,
   "outputs": [
    {
     "ename": "ValueError",
     "evalue": "invalid literal for int() with base 10: ''",
     "output_type": "error",
     "traceback": [
      "\u001B[1;31m---------------------------------------------------------------------------\u001B[0m",
      "\u001B[1;31mValueError\u001B[0m                                Traceback (most recent call last)",
      "\u001B[1;32m<ipython-input-2-fc0e47fcd15d>\u001B[0m in \u001B[0;36m<module>\u001B[1;34m\u001B[0m\n\u001B[1;32m----> 1\u001B[1;33m \u001B[0mn\u001B[0m \u001B[1;33m=\u001B[0m \u001B[0mint\u001B[0m\u001B[1;33m(\u001B[0m\u001B[0minput\u001B[0m\u001B[1;33m(\u001B[0m\u001B[1;34m\"Please enter a number: \"\u001B[0m\u001B[1;33m)\u001B[0m\u001B[1;33m)\u001B[0m\u001B[1;33m\u001B[0m\u001B[0m\n\u001B[0m\u001B[0;32m      2\u001B[0m \u001B[1;32mif\u001B[0m \u001B[0mn\u001B[0m \u001B[1;33m>\u001B[0m \u001B[1;36m1\u001B[0m\u001B[1;33m:\u001B[0m\u001B[1;33m\u001B[0m\u001B[0m\n\u001B[0;32m      3\u001B[0m     \u001B[1;32mfor\u001B[0m \u001B[0mi\u001B[0m \u001B[1;32min\u001B[0m \u001B[0mrange\u001B[0m\u001B[1;33m(\u001B[0m\u001B[0mn\u001B[0m\u001B[1;33m,\u001B[0m \u001B[1;36m2\u001B[0m\u001B[1;33m,\u001B[0m \u001B[1;33m-\u001B[0m\u001B[1;36m2\u001B[0m\u001B[1;33m)\u001B[0m\u001B[1;33m:\u001B[0m\u001B[1;33m\u001B[0m\u001B[0m\n\u001B[0;32m      4\u001B[0m         \u001B[1;32mif\u001B[0m \u001B[1;33m(\u001B[0m\u001B[0mn\u001B[0m \u001B[1;33m%\u001B[0m \u001B[0mi\u001B[0m\u001B[1;33m)\u001B[0m \u001B[1;33m==\u001B[0m \u001B[1;36m0\u001B[0m\u001B[1;33m:\u001B[0m\u001B[1;33m\u001B[0m\u001B[0m\n\u001B[0;32m      5\u001B[0m             \u001B[0mprint\u001B[0m\u001B[1;33m(\u001B[0m\u001B[0mn\u001B[0m\u001B[1;33m,\u001B[0m \u001B[1;34m\"Sorry! Try again 😢\"\u001B[0m\u001B[1;33m)\u001B[0m\u001B[1;33m\u001B[0m\u001B[0m\n",
      "\u001B[1;31mValueError\u001B[0m: invalid literal for int() with base 10: ''"
     ]
    }
   ],
   "source": [
    "n = int(input(\"Please enter a number: \"))\n",
    "if n > 1:\n",
    "    for i in range(n, 2, -2):\n",
    "        if (n % i) == 0:\n",
    "            print(n, \"Sorry! Try again 😢\")\n",
    "            break\n",
    "    print(n, \"Yeah!!💪\")\n",
    "else:\n",
    "    print(n, \"Sorry! Try again 😢\")"
   ],
   "metadata": {
    "collapsed": false
   }
  },
  {
   "cell_type": "markdown",
   "source": [],
   "metadata": {
    "collapsed": false
   }
  },
  {
   "cell_type": "markdown",
   "source": [
    "(Write your answer here)"
   ],
   "metadata": {
    "collapsed": false
   }
  },
  {
   "cell_type": "markdown",
   "source": [
    "## 5. Thue-Morse Sequence Generator\n",
    "Review the following code snippet:\n",
    "Hint 0: the ```range(a, b)``` function returns a list of integers from ```a``` to ```b - 1```.\n",
    "Hint 1: the ```append(x)``` method adds an element ```x``` to the end of a list.\n",
    "Hint 2: the ```.extend(l)``` method adds the elements of a list to another list.\n"
   ],
   "metadata": {
    "collapsed": false
   }
  },
  {
   "cell_type": "code",
   "execution_count": 18,
   "outputs": [
    {
     "name": "stdout",
     "output_type": "stream",
     "text": [
      "[0, 1, 1, 0]\n"
     ]
    }
   ],
   "source": [
    "sequence = [0]\n",
    "n = int(input(\"Please enter a number: \"))\n",
    "for i in range(1, n):\n",
    "    next_sequence = []\n",
    "    for x in sequence:\n",
    "        next_sequence.append(1-x)\n",
    "    sequence.extend(next_sequence)\n",
    "print(sequence)"
   ],
   "metadata": {
    "collapsed": false
   }
  },
  {
   "cell_type": "markdown",
   "source": [
    "What is the output of the code snippet if the user enters 3?\n",
    "1. [0, 1, 1, 0]\n",
    "2. [0, 1, 1, 1, 0, 0, 1]\n",
    "3. [0, 1, 1, 0, 1, 0, 0, 1]\n",
    "4. [0, 1, 0]"
   ],
   "metadata": {
    "collapsed": false
   }
  }
 ],
 "metadata": {
  "kernelspec": {
   "display_name": "Python 3",
   "language": "python",
   "name": "python3"
  },
  "language_info": {
   "codemirror_mode": {
    "name": "ipython",
    "version": 2
   },
   "file_extension": ".py",
   "mimetype": "text/x-python",
   "name": "python",
   "nbconvert_exporter": "python",
   "pygments_lexer": "ipython2",
   "version": "2.7.6"
  }
 },
 "nbformat": 4,
 "nbformat_minor": 0
}
