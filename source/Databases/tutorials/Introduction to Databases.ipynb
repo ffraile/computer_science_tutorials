{
 "cells": [
  {
   "cell_type": "markdown",
   "source": [
    "# Introduction to Databases\n",
    "## Database definition and types\n",
    "You have probably heard the term database before, and already have some preconception of what a database is, am I right?\n",
    "Just as computers, databases are a tool that can be used for many purposes, and they are everywhere!\n",
    "Formally, a database is a collection of data that is organized in a way that facilitates access, retrieval, and use of that data.\n",
    "We have already discussed how data is important in the world of computers, and how it is used to make decisions.\n",
    "In fact, many believe that data is the new oil, and that it is the most valuable resource in the world. Why is that?\n",
    "Computer programs and algorithms are used to analyze data, and help us make decisions based on that data, making\n",
    "organisations more efficient and profitable to the point that no organisation today conceives operating without data.\n",
    "In fact, data is so significant that it is the basis of the new economy, the so-called data economy, or digital economy.\n",
    "Back in the 70s, if one looked at the 10 biggest companies in the world by market cap, 7 of them were oil companies. Today, if one looks at the [10 biggest companies in the world](https://www.investopedia.com/biggest-companies-in-the-world-by-market-cap-5212784), 8 of them are either key technology companies sustaining the digital economy, or companies that are using data as their core business asset.\n",
    "\n",
    "So, databases are one of the pillars of our economy and our society.\n",
    "\n",
    "### Database types\n",
    "There are many different types of databases, but the main classification normally used is between relational and non-relational databases:\n",
    "\n",
    "- Relational databases are the most common type of database, and are used in many different applications. They are based on the **relational model**, which is a mathematical model for data, and is the basis for the SQL language. The relational model is based on the concept of data structured on a table, which is a collection of data items (called fields) organized in rows and columns. The rows represent individual records, and the columns represent the attributes of the data. Besides having data organised in different tables, a relational database is going to create **relations** between the tables, which are going to be used to retrieve data from multiple tables at the same time. The most common relational database is the **MySQL** database, which is the one we are going to use in this course.\n",
    "\n",
    "- Non-relational databases are also called NoSQL databases, and are also used in many different applications. They are based on the **document model**, which is another mathematical model for data, and is the basis for the MongoDB language. The document model is based on the concept of data structured on a document, which is a collection of data items (called fields) organized in a JSON format. The most common non-relational database is the **MongoDB** database, which unfortunately is for now out of the scope of this this course.\n",
    "\n",
    "\n"
   ],
   "metadata": {
    "collapsed": false,
    "pycharm": {
     "name": "#%% md\n"
    }
   }
  }
 ],
 "metadata": {
  "kernelspec": {
   "display_name": "Python 3",
   "language": "python",
   "name": "python3"
  },
  "language_info": {
   "codemirror_mode": {
    "name": "ipython",
    "version": 2
   },
   "file_extension": ".py",
   "mimetype": "text/x-python",
   "name": "python",
   "nbconvert_exporter": "python",
   "pygments_lexer": "ipython2",
   "version": "2.7.6"
  }
 },
 "nbformat": 4,
 "nbformat_minor": 0
}