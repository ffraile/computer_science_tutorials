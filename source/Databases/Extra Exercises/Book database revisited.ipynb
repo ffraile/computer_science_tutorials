{
 "cells": [
  {
   "cell_type": "markdown",
   "source": [
    "# Book Database Revisited\n",
    "## Problem definition\n",
    "Imagine you're designing a database for a small library. The library has several books, each of which has a unique ISBN number, a title, a list of authors, a publication date, a publisher, and a number of copies available. The library also has several members, each of whom has a unique ID number, a name, an address, a phone number, and a list of books they have borrowed.\n",
    "\n",
    "Design a database to represent this information. Your database should include tables for books, authors, publishers, members, and borrowing history. In the borrowing history table, you should keep track of the date the book was borrowed, the due date, and the date the book was returned. Make sure to include appropriate constraints and indices on your tables.\n",
    "\n",
    "Feel free to add any additional fields or entities that you think would be useful for the library."
   ],
   "metadata": {
    "collapsed": false
   }
  }
 ],
 "metadata": {
  "kernelspec": {
   "display_name": "Python 3",
   "language": "python",
   "name": "python3"
  },
  "language_info": {
   "codemirror_mode": {
    "name": "ipython",
    "version": 2
   },
   "file_extension": ".py",
   "mimetype": "text/x-python",
   "name": "python",
   "nbconvert_exporter": "python",
   "pygments_lexer": "ipython2",
   "version": "2.7.6"
  }
 },
 "nbformat": 4,
 "nbformat_minor": 0
}
