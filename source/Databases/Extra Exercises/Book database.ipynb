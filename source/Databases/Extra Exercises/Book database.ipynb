{
 "cells": [
  {
   "cell_type": "markdown",
   "source": [
    "# Book database\n",
    "## Try me\n",
    "[![Open In Colab](https://colab.research.google.com/assets/colab-badge.svg)](https://colab.research.google.com/github/ffraile/computer_science_tutorials/blob/main/source/Databases/Extra%20Exercises/Book%20database.ipynb)[![Binder](https://mybinder.org/badge_logo.svg)](https://mybinder.org/v2/gh/ffraile/computer_science_tutorials/main?labpath=source%2FDatabases%2FExtra%20Exercises%2FBook%20database.ipynb)\n",
    "\n",
    "## Problem definition\n",
    "You need to design a database to represent the information of books and authors.\n",
    "You want to store the title of books has a title, and are identified by a book Id. A book can have different authors.\n",
    "An author entity has a country and a name. Authors are identified by a author Id. An author can have contributed to writing different books.\n",
    "\n"
   ],
   "metadata": {
    "collapsed": false
   }
  }
 ],
 "metadata": {
  "kernelspec": {
   "display_name": "Python 3",
   "language": "python",
   "name": "python3"
  },
  "language_info": {
   "codemirror_mode": {
    "name": "ipython",
    "version": 2
   },
   "file_extension": ".py",
   "mimetype": "text/x-python",
   "name": "python",
   "nbconvert_exporter": "python",
   "pygments_lexer": "ipython2",
   "version": "2.7.6"
  }
 },
 "nbformat": 4,
 "nbformat_minor": 0
}
