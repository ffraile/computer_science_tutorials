{
 "cells": [
  {
   "cell_type": "markdown",
   "source": [
    "# Book database\n",
    "\n",
    "## Try me\n",
    "[![Open In Colab](https://colab.research.google.com/assets/colab-badge.svg)](https://colab.research.google.com/github/ffraile/computer_science_tutorials/blob/main/source/Databases/Extra%20Exercises/Book%20database%20(solved).ipynb)[![Binder](https://mybinder.org/badge_logo.svg)](https://mybinder.org/v2/gh/ffraile/computer_science_tutorials/main?labpath=source%2FDatabases%2FExtra%20Exercises%2FBook%20database%20(solved).ipynb)\n",
    "\n",
    "## Problem definition\n",
    "You need to design a database to represent the information of books and authors.\n",
    "You want to store the title of books has a title, and are identified by a book Id. A book can have different authors.\n",
    "An author entity has a country and a name. Authors are identified by a author Id. An author can have contributed to writing different books.\n",
    "\n",
    "## Solution\n",
    "The picture below shows the model diagram of a possible solution:\n",
    "\n",
    "![Book shop](https://github.com/ffraile/computer_science_tutorials/blob/main/source/Databases/Extra%20Exercises/img/book_shop.png?raw=true)\n",
    "\n",
    "Note that there is an M-N relationship between books and authors. To implement this relationship we used the **junction table** Authorship.\n",
    "\n",
    "## Try it yourself\n",
    "You can find the database in the [following link](https://github.com/ffraile/computer_science_tutorials/blob/main/source/Databases/test_databases/book_authors.sql)"
   ],
   "metadata": {
    "collapsed": false
   }
  }
 ],
 "metadata": {
  "kernelspec": {
   "display_name": "Python 3",
   "language": "python",
   "name": "python3"
  },
  "language_info": {
   "codemirror_mode": {
    "name": "ipython",
    "version": 2
   },
   "file_extension": ".py",
   "mimetype": "text/x-python",
   "name": "python",
   "nbconvert_exporter": "python",
   "pygments_lexer": "ipython2",
   "version": "2.7.6"
  }
 },
 "nbformat": 4,
 "nbformat_minor": 0
}
