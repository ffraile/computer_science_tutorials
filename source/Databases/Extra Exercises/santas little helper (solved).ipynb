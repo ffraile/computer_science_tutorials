{
 "cells": [
  {
   "cell_type": "markdown",
   "metadata": {
    "collapsed": true,
    "pycharm": {
     "name": "#%% md\n"
    }
   },
   "source": [
    "## Santa´s Little Helper\n",
    "Santa Claus is undergoing a digital transformation process and would like to digitised the letters he receives and store the information in a database. \n",
    "Particularly, he would like to store information about the childs and the list of presents they submit in their letters. \n",
    "For every child, Santa would like to store some basic personal information (first and last name, birth date, address, and gender) for demographic purposes. \n",
    "For every present, Santa would like to store a text description and information about the intended audience of the present provided by the manufacturer (intended gender and age range). \n",
    "For every letter, Santa would like to know the child that submitted the letter, the year, and if the child was nice that year or not. \n",
    "For every item in the present list of a letter, Santa would like to know which is the toy the child wants, and also keep track of which presents are granted. \n",
    "Be a good Santa´s little helper and develop a data model to support this challenging digital transformation project. \n",
    "\n",
    "    \n",
    "## Data model\n",
    "The following data model is a possible solution to the problem presented by Santa Claus: \n",
    "\n",
    "![santa model](https://github.com/ffraile/database_tutorials/blob/main/Extra%20Exercises/img/santa.png?raw=true)\n",
    "\n",
    "Basically, in this solution, we have the Child entity representing the children submitting letters, having a unique identifier (childId) which is also the primary key, and the fields requested by Santa, the PresentList entity which represents the present list submitted in a letter (this is equivalent to a letter entity), the present entity, which records the details of the present, and a PresentListItem entity which represents an element in the present list. \n",
    "This is a quite common approach in data modeling to address lists.\n",
    "\n",
    "There is a 1-N relationship between the entities Child and PresentList, because a child can submit several letters, but there is a unique restriction on the columns childFk - a foreign key to child - and presentYear (the year of submission of the present list), which limits to 1 the keys that a child can effectively submit in a year.\n",
    "  \n",
    "\n",
    "There is a 1-N relationship between PresentList and PresentListItems because a letter can contain 1 or more presents, and a 1-N relationship between Present and PresentListItems because a present can appear in more than one letter (or more than once in a letter). \n",
    "\n",
    "## Try it yourself\n",
    "The following SQL script creates a database and data model with this solution for you to try:\n",
    "\n",
    "```sql\n",
    "-- START HERE IF YOU ARE WORKING ON YOUR MYSQL INSTANCE\n",
    "DROP DATABASE IF EXISTS santas_list;\n",
    "CREATE DATABASE santas_list;\n",
    "USE santas_list;\n",
    "\n",
    "-- START HERE IF YOU ARE WORKING ON SQL_FIDDLE\n",
    "CREATE TABLE Child (\n",
    "childId INT PRIMARY KEY,\n",
    "firstName VARCHAR(40),\n",
    "lastName VARCHAR(40),\n",
    "birthDate DATETIME,\n",
    "address VARCHAR(100),\n",
    "gender ENUM('male', 'female', 'non-binary')\n",
    ");\n",
    "\n",
    "CREATE TABLE PresentList (\n",
    "presentListId INT PRIMARY KEY,\n",
    "childFk INT,\n",
    "presentYear INT,\n",
    "isnice BIT(1),\n",
    "CONSTRAINT present_list_child_fk FOREIGN KEY (childFk) REFERENCES Child(childId),\n",
    "CONSTRAINT present_child_year_uq UNIQUE (childFk, presentYear)\n",
    ");\n",
    "\n",
    "CREATE TABLE Present (\n",
    "presentId INT PRIMARY KEY,\n",
    "description VARCHAR(500),\n",
    "intendedGender ENUM('male', 'female', 'gender-neutral'),\n",
    "intendedMinRange INT,\n",
    "intendedMaxRange INT\n",
    ");\n",
    "\n",
    "CREATE TABLE PresentListItems(\n",
    "presentListItemId INT PRIMARY KEY,\n",
    "presentListFk INT,\n",
    "presentFk INT,\n",
    "granted BIT(1),\n",
    "CONSTRAINT item_present_list_fk FOREIGN KEY (presentListFk) REFERENCES PresentList(presentListId),\n",
    "CONSTRAINT presentFk FOREIGN KEY (presentFk) REFERENCES Present(presentId)\n",
    ")\n",
    "```"
   ]
  }
 ],
 "metadata": {
  "kernelspec": {
   "display_name": "Python 3",
   "language": "python",
   "name": "python3"
  },
  "language_info": {
   "codemirror_mode": {
    "name": "ipython",
    "version": 2
   },
   "file_extension": ".py",
   "mimetype": "text/x-python",
   "name": "python",
   "nbconvert_exporter": "python",
   "pygments_lexer": "ipython2",
   "version": "2.7.6"
  },
  "pycharm": {
   "stem_cell": {
    "cell_type": "raw",
    "source": [],
    "metadata": {
     "collapsed": false
    }
   }
  }
 },
 "nbformat": 4,
 "nbformat_minor": 0
}