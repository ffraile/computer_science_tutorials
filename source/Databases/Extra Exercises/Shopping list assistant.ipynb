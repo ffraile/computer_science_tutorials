{
 "cells": [
  {
   "attachments": {},
   "cell_type": "markdown",
   "metadata": {},
   "source": [
    "# Shopping list assistant\n",
    "## Problem definition\n",
    "You have developed an application called shopApp, an assistant that helps users create shopping lists. You need to develop a database for your application so that you can store the information about the user (at least a unique user name, the full name, and an email address), and the items (at least the product description). Each user can manage different shopping list. For each shopping list, you need to store at least the name, and a reference to the user. Finally, you need to store the list of items in each shopping list, bearing in mind that a product can appear in several shopping lists. \n",
    "Design a data model to implement a database for shopApp. You may add any additional field you consider relevant \n"
   ]
  }
 ],
 "metadata": {
  "kernelspec": {
   "display_name": "Python 3",
   "language": "python",
   "name": "python3"
  },
  "language_info": {
   "name": "python",
   "version": "3.8.1 (tags/v3.8.1:1b293b6, Dec 18 2019, 23:11:46) [MSC v.1916 64 bit (AMD64)]"
  },
  "orig_nbformat": 4,
  "vscode": {
   "interpreter": {
    "hash": "9650cb4e16cdd4a8e8e2d128bf38d875813998db22a3c986335f89e0cb4d7bb2"
   }
  }
 },
 "nbformat": 4,
 "nbformat_minor": 2
}
