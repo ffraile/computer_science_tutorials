{
 "cells": [
  {
   "cell_type": "markdown",
   "metadata": {
    "collapsed": true,
    "pycharm": {
     "name": "#%% md\n"
    }
   },
   "source": [
    "## Santa´s Little Helper\n",
    "Santa Claus is undergoing a digital transformation process and would like to digitised the letters he receives and store the information in a database. \n",
    "Particularly, he would like to store information about the childs and the list of presents they submit in their letters. \n",
    "For every child, Santa would like to store some basic personal information (first and last name, birth date, address, and gender) for demographic purposes. \n",
    "For every present, Santa would like to store a text description and information about the intended audience of the present provided by the manufacturer (intended gender and age range). \n",
    "For every letter, Santa would like to know the child that submitted the letter, the year, and if the child was nice that year or not. \n",
    "For every item in the present list of a letter, Santa would like to know which is the toy the child wants, and also keep track of which presents are granted. \n",
    "Be a good Santa´s little helper and develop a data model to support this challenging digital transformation project. \n",
    "\n",
    "    \n"
   ]
  }
 ],
 "metadata": {
  "kernelspec": {
   "display_name": "Python 3",
   "language": "python",
   "name": "python3"
  },
  "language_info": {
   "codemirror_mode": {
    "name": "ipython",
    "version": 2
   },
   "file_extension": ".py",
   "mimetype": "text/x-python",
   "name": "python",
   "nbconvert_exporter": "python",
   "pygments_lexer": "ipython2",
   "version": "2.7.6"
  },
  "pycharm": {
   "stem_cell": {
    "cell_type": "raw",
    "source": [],
    "metadata": {
     "collapsed": false
    }
   }
  }
 },
 "nbformat": 4,
 "nbformat_minor": 0
}