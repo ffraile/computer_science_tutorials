{
 "cells": [
  {
   "cell_type": "markdown",
   "source": [
    "# Car retail\n",
    "## Try me\n",
    "[![Open In Colab](https://colab.research.google.com/assets/colab-badge.svg)](https://colab.research.google.com/github/ffraile/computer_science_tutorials/blob/main/source/Databases/Extra%20Exercises/Car%20retail%20(solved).ipynb)[![Binder](https://mybinder.org/badge_logo.svg)](https://mybinder.org/v2/gh/ffraile/computer_science_tutorials/main?labpath=source%2FDatabases%2FExtra%20Exercises%2FCar%20retail%20(solved).ipynb)\n",
    "\n",
    "## Problem definition\n",
    "You need to design a database for Daniel Larusso´s car dealership. Larusso´s company is divided into departments. Larusso would like to store the Departments' name, and identifier.\n",
    "Larusso also wants to store the following information about his employees: First name and last name, phone number, salary, and hiring date. You also want to know in which department they work and which is their manager. Each employee has an identifier.\n",
    "Larusso also wants to store the following information about the company´s customers: First name and last name, phone number, email, and preferred contact method.\n",
    "For each car the dealership sells, you are instructed to store the model, the status of the car (either if the car is ready to be delivered, in the workshop (working), or the company is waiting for the arrival of the car. You also need to keep track of which customer bought it, and which employee made the sell.\n",
    "\n",
    "## Solution\n",
    "The image below depicts a possible solution:\n",
    "\n",
    "![Car retail](https://github.com/ffraile/computer_science_tutorials/blob/main/source/Databases/Extra%20Exercises/img/car_retail.png?raw=true)\n",
    "\n",
    "In the solution, there is a table for each of the entities identified in the problem definition (departments, employees, cars, customers, and sales). Managers are implemented using a self-reference to the table employee. This is allowed in SQL, although it can generate potential **circular references** issues (references creating a loop).\n",
    "\n",
    "## Try it yourself\n",
    "You can find the car retail database in the [following link](https://github.com/ffraile/computer_science_tutorials/blob/main/source/Databases/test_databases/car_retail.sql)."
   ],
   "metadata": {
    "collapsed": false
   }
  }
 ],
 "metadata": {
  "kernelspec": {
   "display_name": "Python 3",
   "language": "python",
   "name": "python3"
  },
  "language_info": {
   "codemirror_mode": {
    "name": "ipython",
    "version": 2
   },
   "file_extension": ".py",
   "mimetype": "text/x-python",
   "name": "python",
   "nbconvert_exporter": "python",
   "pygments_lexer": "ipython2",
   "version": "2.7.6"
  }
 },
 "nbformat": 4,
 "nbformat_minor": 0
}
