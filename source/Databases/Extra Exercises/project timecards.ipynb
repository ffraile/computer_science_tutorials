{
 "cells": [
  {
   "cell_type": "markdown",
   "metadata": {
    "collapsed": true,
    "pycharm": {
     "name": "#%% md\n"
    }
   },
   "source": [
    "# Project Timecards\n",
    "You work for a startup IT company that performs web development for outside companies. \n",
    "Projects are typically executed by a team of employees, so one or more employees can be assigned to the same project.\n",
    "In any given week, employees might be working on one or more projects. \n",
    "To keep track of what projects, you need to develop a database that keeps in a timecard entity, records of the numbers of hour that each employee worked in each project each week.\n",
    "Draw a database model including entity models for the project, the employees, timecards, and their associations. \n",
    "\n",
    "\n",
    "## Solution\n",
    "The following diagram represents a possible solution: \n",
    "\n",
    "![Timecards model](https://github.com/ffraile/database_tutorials/blob/main/Extra%20Exercises/img/quality_database.png?raw=true)\n",
    "\n",
    "There is a 1-N relationship between products and production orders (there can be different orders for the same \n",
    "product)\n",
    "There is a 1-N relationship between quality standard and product type (there can be different quality controls \n",
    "to be performed to the same product type)\n",
    "There is a 1-N relationship between quality control and operator (an operator can perform several quality controls)\n",
    "And a 1-N relationship between quality standard and quality control (a quality standard can be used in several quality \n",
    "controls)\n",
    "and a 1-N relationship between quality control and production order (there can be different quality controls performed \n",
    "in the same order)\n",
    " \n",
    "## Try it yourself\n",
    "The following SQL script creates a database and data model with this solution for you to try:\n",
    "\n",
    "```sql\n",
    "-- Use this in Workbench\n",
    "DROP DATABASE IF EXISTS quality_model;\n",
    "CREATE DATABASE quality_model;\n",
    "\n",
    "USE quality_model;\n",
    "\n",
    "-- Use this in SQL fiddle\n",
    "DROP TABLE IF EXISTS Products;\n",
    "CREATE TABLE Products (\n",
    "\tproduct_id VARCHAR(10) PRIMARY KEY,\n",
    "    product_name VARCHAR(100)\n",
    ");\n",
    "\n",
    "DROP TABLE IF EXISTS ProductionOrders;\n",
    "CREATE TABLE ProductionOrders (\n",
    "\torder_id VARCHAR(15) PRIMARY KEY,\n",
    "    quantity INT,\n",
    "    product_fk VARCHAR(10),\n",
    "    CONSTRAINT product_order_fk FOREIGN KEY (product_fk) REFERENCES Products (product_id)\n",
    ");\n",
    "\n",
    "DROP TABLE IF EXISTS Operator;\n",
    "CREATE TABLE Operator (\n",
    "\toperator_id  VARCHAR(5) PRIMARY KEY,\n",
    "    first_name VARCHAR(30),\n",
    "    last_name VARCHAR(30)\n",
    ");\n",
    "\n",
    "DROP TABLE IF EXISTS QualityStandards;\n",
    "CREATE TABLE QualityStandards(\n",
    "\tquality_standard_id INT PRIMARY KEY,\n",
    "    product_fk VARCHAR(10),\n",
    "    standard_name VARCHAR (100),\n",
    "    standard_type ENUM('boolean', 'float'),\n",
    "    min_value FLOAT,\n",
    "    nominal_value FLOAT,\n",
    "    max_value FLOAT,\n",
    "    CONSTRAINT standard_product_fk FOREIGN KEY (product_fk) REFERENCES Products (product_id)\n",
    ");\n",
    "\n",
    "DROP TABLE IF EXISTS QualityControls;\n",
    "CREATE TABLE QualityControls (\n",
    "\tquality_control_id INT PRIMARY KEY,\n",
    "    quality_standard_fk INT,\n",
    "    control_datetime DATETIME,\n",
    "    order_fk  VARCHAR(15),\n",
    "    float_value FLOAT,\n",
    "    boolean_value TINYINT(1),\n",
    "    operator_fk VARCHAR(5),\n",
    "    comments VARCHAR(500),\n",
    "    CONSTRAINT control_order_fk FOREIGN KEY (order_fk) REFERENCES ProductionOrders (order_id),\n",
    "    CONSTRAINT operator_order_fk FOREIGN KEY (operator_fk) REFERENCES Operator (operator_id),\n",
    "    CONSTRAINT control_standard_fk FOREIGN KEY (quality_standard_fk) REFERENCES QualityStandards (quality_standard_id)\n",
    ");\n",
    "\n",
    "```"
   ]
  }
 ],
 "metadata": {
  "kernelspec": {
   "display_name": "Python 3",
   "language": "python",
   "name": "python3"
  },
  "language_info": {
   "codemirror_mode": {
    "name": "ipython",
    "version": 2
   },
   "file_extension": ".py",
   "mimetype": "text/x-python",
   "name": "python",
   "nbconvert_exporter": "python",
   "pygments_lexer": "ipython2",
   "version": "2.7.6"
  },
  "pycharm": {
   "stem_cell": {
    "cell_type": "raw",
    "source": [],
    "metadata": {
     "collapsed": false
    }
   }
  }
 },
 "nbformat": 4,
 "nbformat_minor": 0
}