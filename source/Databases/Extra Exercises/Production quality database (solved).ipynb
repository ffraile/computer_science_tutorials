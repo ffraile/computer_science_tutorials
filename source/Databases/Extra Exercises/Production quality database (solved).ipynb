{
 "cells": [
  {
   "cell_type": "markdown",
   "metadata": {
    "collapsed": true,
    "pycharm": {
     "name": "#%% md\n"
    }
   },
   "source": [
    "# Production Quality\n",
    "You have recently been hired as an intern at a metal machining company named ROTCAF. Currently, the company uses paper\n",
    "forms and Excel sheets to register the quality controls that they perform in their finished products, and you have to \n",
    "design a database to store this critical information. \n",
    "Operators perform quality controls, so your database must store some basic information about operators, namely the \n",
    "unique operator identifier, first name, and last name, to ensure traceability. \n",
    "Each quality control tests a specific product, one unit of a production order. Your database must store the unique order\n",
    "identifier of each production order and the total quantity. For the associated product, the database must store the \n",
    "product's unique identifier and the product name. \n",
    "\n",
    "Each quality control is performed according to a quality standard. Your database must store the names of the quality \n",
    "standards. There are two types of quality standards: Numerical quality standards and true/false quality standards. \n",
    "Numerical quality standards specify the minimum, nominal, and maximum values of a specific feature of a product. For \n",
    "instance, a numerical quality standard to control the inner diameter of a tube in millimeters can have a minimum value \n",
    "of 29, a nominal value of 30, and a maximum value of 31. The database must store the type of the quality standard and \n",
    "the parameters of numerical quality standards (they can be empty or null when the quality standard is of type \n",
    "true/false). \n",
    "\n",
    "Finally, the database must store the information of the quality controls: The date and time when the control is \n",
    "performed, the associated production order, the associated quality standard, the associated operator that performed the\n",
    "control, the value of the control, and the comments of the operator. \n",
    "\n",
    "Design a data model to implement this challenging digital transformation problem."
   ]
  }
 ],
 "metadata": {
  "kernelspec": {
   "display_name": "Python 3",
   "language": "python",
   "name": "python3"
  },
  "language_info": {
   "codemirror_mode": {
    "name": "ipython",
    "version": 2
   },
   "file_extension": ".py",
   "mimetype": "text/x-python",
   "name": "python",
   "nbconvert_exporter": "python",
   "pygments_lexer": "ipython2",
   "version": "2.7.6"
  },
  "pycharm": {
   "stem_cell": {
    "cell_type": "raw",
    "source": [],
    "metadata": {
     "collapsed": false
    }
   }
  }
 },
 "nbformat": 4,
 "nbformat_minor": 0
}