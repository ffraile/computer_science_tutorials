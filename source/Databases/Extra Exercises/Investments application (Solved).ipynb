{
 "cells": [
  {
   "attachments": {},
   "cell_type": "markdown",
   "metadata": {},
   "source": [
    "# Trading and investment strategy application\n",
    "## Problem Definition\n",
    "You have developed an application to learn trading and investment strategy and you want to build a database to show records of the selling price of a virtual financial instrument in your application called meta-stocks. In your application, there are different meta-stocks markets, and for each meta-stock market you want to store the name and the acronym. Within a meta-stock market, there are several meta-stocks representing ownership on virtual businesses. For each meta-stock, you want to store the name and the acronym. You also would like to store information about users in your application, like the username and email address. Finally, you want to store in a table called meta-records timestamped records of buying and selling operations. For each record, you need to store a timestamp indicating the time and date of the operation, the selling price of the operation, a references to the meta-stock, and references to the buyer (user that bought the meta-stock) and the seller (user that sold the meta-stock). \n",
    "Design a database to support this fascinating application \n"
   ]
  },
  {
   "attachments": {},
   "cell_type": "markdown",
   "metadata": {},
   "source": [
    "## Solution\n",
    "The following diagram represents a possible solution of the database:\n",
    "\n",
    "![tradetrainer](img/tradetrainer.png)\n",
    "This solution considers four entities: meta_markets, meta_stocks, users, and meta_records.\n",
    "\n",
    "The meta_markets table has two columns, name and acronym, that store the name and acronym of a meta-stock market.\n",
    "\n",
    "The meta_stocks table has three columns: name, acronym and market_id that store the name, acronym and the market_id of a meta-stock. The market_id is a foreign key referencing the id column of the meta_markets table.\n",
    "\n",
    "The users table has two columns, username and email, that store the username and email address of a user.\n",
    "\n",
    "The meta_records table has five columns, timestamp, selling_price, meta_stock_id, buyer_id, and seller_id. The timestamp column stores the time and date of the operation, the selling_price column stores the selling price of the operation, the meta_stock_id column stores a reference to the meta-stock, and the buyer_id and seller_id columns store references to the buyer and seller (users that bought and sold the meta-stock). The meta_stock_id, buyer_id and seller_id columns are foreign keys referencing the id column of meta_stocks and users tables respectively.\n",
    "\n",
    "Please note that the code above is for demonstration purposes only and may need to be adapted to fit your specific requirements and constraints.\n",
    "\n",
    "```sql\n",
    "# First let´s create the database\n",
    "CREATE DATABASE tradetrainer;\n",
    "\n",
    "# Use the database we just created\n",
    "USE tradetrainer;\n",
    "\n",
    "# Create a table for the meta markets\n",
    "CREATE TABLE meta_markets (\n",
    "  id INT AUTO_INCREMENT PRIMARY KEY,\n",
    "  name VARCHAR(255) NOT NULL,\n",
    "  acronym VARCHAR(255) NOT NULL\n",
    ");\n",
    "\n",
    "# Create a table for the stocks, each stock is selled in a market.\n",
    "CREATE TABLE meta_stocks (\n",
    "  id INT AUTO_INCREMENT PRIMARY KEY,\n",
    "  name VARCHAR(255) NOT NULL,\n",
    "  acronym VARCHAR(255) NOT NULL,\n",
    "  market_id INT NOT NULL,\n",
    "  FOREIGN KEY (market_id) REFERENCES meta_markets(id)\n",
    ");\n",
    "\n",
    "# Create a table for the users, users can operate in any stock\n",
    "CREATE TABLE users (\n",
    "  id INT AUTO_INCREMENT PRIMARY KEY,\n",
    "  username VARCHAR(255) NOT NULL,\n",
    "  email VARCHAR(255) NOT NULL\n",
    ");\n",
    "\n",
    "# Create a table to store the records\n",
    "CREATE TABLE meta_records (\n",
    "  id INT AUTO_INCREMENT PRIMARY KEY,\n",
    "  timestamp DATETIME NOT NULL,\n",
    "  selling_price DECIMAL(10,2) NOT NULL,\n",
    "  meta_stock_id INT NOT NULL,\n",
    "  buyer_id INT NOT NULL,\n",
    "  seller_id INT NOT NULL,\n",
    "  FOREIGN KEY (meta_stock_id) REFERENCES meta_stocks(id),\n",
    "  FOREIGN KEY (buyer_id) REFERENCES users(id),\n",
    "  FOREIGN KEY (seller_id) REFERENCES users(id)\n",
    ");\n",
    "\n",
    "\n",
    "```"
   ]
  }
 ],
 "metadata": {
  "kernelspec": {
   "display_name": "Python 3",
   "language": "python",
   "name": "python3"
  },
  "language_info": {
   "name": "python",
   "version": "3.8.1 (tags/v3.8.1:1b293b6, Dec 18 2019, 23:11:46) [MSC v.1916 64 bit (AMD64)]"
  },
  "orig_nbformat": 4,
  "vscode": {
   "interpreter": {
    "hash": "9650cb4e16cdd4a8e8e2d128bf38d875813998db22a3c986335f89e0cb4d7bb2"
   }
  }
 },
 "nbformat": 4,
 "nbformat_minor": 2
}
