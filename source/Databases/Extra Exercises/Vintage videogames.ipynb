{
 "cells": [
  {
   "cell_type": "markdown",
   "source": [
    "# Vintage Video Game Store Database\n",
    "## Problem definition\n",
    "Imagine you're designing a database for a small e-commerce store that specializes in selling vintage video games. The store has several products for sale, each of which has a unique product ID, a name, a description, a price, and a list of compatible gaming platforms (for instance, GameBoy, or PlayStation). The store also has several customers, each of whom has a unique customer ID, a name, an email address, a shipping address, and a list of orders they have placed. Each order can contain one or more products.\n",
    "\n",
    "Design a database to represent this information. Your database should include tables for products, platforms, customers, orders, and order items. In the order items table, you should keep track of the quantity of each product that was ordered. Make sure to include appropriate fields of interest and foreign keys for each entity, considering the following additional requirements:\n",
    "\n",
    "- The store has a limited inventory of each product, so the number of available copies for each product should be tracked.\n",
    "- Each product has a rarity rating, which is a value between 1 and 10 that indicates how rare the product is.\n",
    "- The store has a rewards program for its customers. Customers can earn points by making purchases, and they can redeem these points for discounts on future purchases. Each point is worth $0.01.\n",
    "- The store also wants to keep track of which employees have worked on each order. The employees are identified by their first name, last name, and employee ID.\n"
   ],
   "metadata": {
    "collapsed": false
   }
  }
 ],
 "metadata": {
  "kernelspec": {
   "display_name": "Python 3",
   "language": "python",
   "name": "python3"
  },
  "language_info": {
   "codemirror_mode": {
    "name": "ipython",
    "version": 2
   },
   "file_extension": ".py",
   "mimetype": "text/x-python",
   "name": "python",
   "nbconvert_exporter": "python",
   "pygments_lexer": "ipython2",
   "version": "2.7.6"
  }
 },
 "nbformat": 4,
 "nbformat_minor": 0
}
