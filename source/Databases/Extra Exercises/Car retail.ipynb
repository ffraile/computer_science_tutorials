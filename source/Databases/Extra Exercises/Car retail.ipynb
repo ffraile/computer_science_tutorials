{
 "cells": [
  {
   "cell_type": "markdown",
   "source": [
    "# Car retail\n",
    "{{ badges }}\n",
    "## Problem definition\n",
    "You need to design a database for Daniel Larusso´s car dealership. Larusso´s company is divided into department. Larusso would like to store the Departments' name, and identifier.\n",
    "Larusso also wants to store the following information about your employees: First name and last name, phone number, salary, and hiring date. You also want to know in which department they work and which is their manager. Each employee has an identifier.\n",
    "Larusso also wants to store the following information about the company´s customers: First name and last name, phone number, email, and preferred contact method.\n",
    "For each car the dealership sells, you are instructed to store the model, the status of the car (either if the car is ready to be delivered, in the workshop (working), or the company is waiting for the arrival of the car. You also need to keep track of which customer bought it, and which employee made the sell.\n"
   ],
   "metadata": {
    "collapsed": false
   }
  }
 ],
 "metadata": {
  "kernelspec": {
   "display_name": "Python 3",
   "language": "python",
   "name": "python3"
  },
  "language_info": {
   "codemirror_mode": {
    "name": "ipython",
    "version": 2
   },
   "file_extension": ".py",
   "mimetype": "text/x-python",
   "name": "python",
   "nbconvert_exporter": "python",
   "pygments_lexer": "ipython2",
   "version": "2.7.6"
  }
 },
 "nbformat": 4,
 "nbformat_minor": 0
}
