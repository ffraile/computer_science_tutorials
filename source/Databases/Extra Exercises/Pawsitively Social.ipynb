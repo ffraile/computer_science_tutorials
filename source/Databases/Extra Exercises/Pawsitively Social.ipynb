{
 "cells": [
  {
   "cell_type": "markdown",
   "source": [
    "# Pawsitively Social\n",
    "## Problem definition\n",
    "Design and draw a database model for a hypothetical social media platform called \"Pawsitively Social\". The main feature of the platform is connecting pet owners and helping them find new friends for their pets. Your task is to design a database model that can store information about users, their pets, and the connections between them. The model should be able to support the following functionality:\n",
    "•\tUsers can create a profile for themselves and for each of their pets. A user's profile should include their name, age, location, and a profile picture. A pet's profile should include their name, breed, age, and a profile picture. (You can use a VARCHAR type to store the location of the profile picture)\n",
    "•\tUsers can search for other users and their pets based on various criteria, such as location, breed, and age.\n",
    "•\tUsers can send and receive friend requests to and from other users. If a friend request is accepted, the two users are considered friends and their pets are also considered friends.\n",
    "•\tUsers can post updates, photos, and videos to their profile and their pets' profiles. These updates can be liked and commented on by other users.\n",
    "Some possible entities in this database model are:\n",
    "•\tUser: Stores information about a user, such as their name, age, location, and profile picture.\n",
    "•\tPet: Stores information about a pet, such as their name, breed, age, and profile picture.\n",
    "•\tFriendship: Stores information about a friendship between two users.\n",
    "•\tUpdate: Stores information about an update (e.g. a post, photo, or video) made by a user or pet.\n",
    "•\tComment: Stores information about a comment made on an update made by a user.\n",
    "•\tLike: Stores information about a like on an update made by a user."
   ],
   "metadata": {
    "collapsed": false
   }
  }
 ],
 "metadata": {
  "kernelspec": {
   "display_name": "Python 3",
   "language": "python",
   "name": "python3"
  },
  "language_info": {
   "codemirror_mode": {
    "name": "ipython",
    "version": 2
   },
   "file_extension": ".py",
   "mimetype": "text/x-python",
   "name": "python",
   "nbconvert_exporter": "python",
   "pygments_lexer": "ipython2",
   "version": "2.7.6"
  }
 },
 "nbformat": 4,
 "nbformat_minor": 0
}
