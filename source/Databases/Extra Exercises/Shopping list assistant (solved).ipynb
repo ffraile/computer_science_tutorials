{
 "cells": [
  {
   "cell_type": "markdown",
   "source": [
    "# Shopping list assistant\n",
    "\n",
    "## Problem definition\n",
    "You have developed an application called shopApp, an assistant that helps users create shopping lists. You need to develop a database for your application so that you can store the information about the user (at least a unique user name, the full name, and an email address), and the items (at least the product description). Each user can manage different shopping list. For each shopping list, you need to store at least the name, and a reference to the user. Finally, you need to store the list of items in each shopping list, bearing in mind that a product can appear in several shopping lists.\n",
    "Design a data model to implement a database for shopApp. You may add any additional field you consider relevant\n",
    "\n",
    "## Solution\n",
    "### Data model\n",
    "The image below shows the data model.\n",
    "![Shop App Data Model](img/shopapp.png)\n",
    "\n",
    "This will create a database called \"shopApp\" and three tables: \"users\", \"shopping_lists\", and \"shopping_list_items\". The \"users\" table will store the information about the user, the \"shopping_lists\" table will store the information about the shopping lists, and the \"shopping_list_items\" table will store the information about the items in each shopping list. The tables are linked with foreign keys to ensure referential integrity.\n",
    "\n",
    "### Implementation\n",
    "The following SQL script creates the database in the model below.\n",
    "\n",
    "```sql\n",
    "CREATE DATABASE shopApp;\n",
    "\n",
    "USE shopApp;\n",
    "\n",
    "CREATE TABLE users (\n",
    "  id INT NOT NULL AUTO_INCREMENT,\n",
    "  username VARCHAR(50) NOT NULL UNIQUE,\n",
    "  full_name VARCHAR(100) NOT NULL,\n",
    "  email VARCHAR(100) NOT NULL,\n",
    "  PRIMARY KEY (id)\n",
    ");\n",
    "\n",
    "CREATE TABLE shopping_lists (\n",
    "  id INT NOT NULL AUTO_INCREMENT,\n",
    "  name VARCHAR(100) NOT NULL,\n",
    "  user_id INT NOT NULL,\n",
    "  PRIMARY KEY (id),\n",
    "  FOREIGN KEY (user_id) REFERENCES users(id)\n",
    ");\n",
    "\n",
    "CREATE TABLE shopping_list_items (\n",
    "  id INT NOT NULL AUTO_INCREMENT,\n",
    "  shopping_list_id INT NOT NULL,\n",
    "  product_description VARCHAR(200) NOT NULL,\n",
    "  PRIMARY KEY (id),\n",
    "  FOREIGN KEY (shopping_list_id) REFERENCES shopping_lists(id)\n",
    ");\n",
    "```\n",
    "\n",
    "\n"
   ],
   "metadata": {
    "collapsed": false
   }
  }
 ],
 "metadata": {
  "kernelspec": {
   "display_name": "Python 3",
   "language": "python",
   "name": "python3"
  },
  "language_info": {
   "codemirror_mode": {
    "name": "ipython",
    "version": 2
   },
   "file_extension": ".py",
   "mimetype": "text/x-python",
   "name": "python",
   "nbconvert_exporter": "python",
   "pygments_lexer": "ipython2",
   "version": "2.7.6"
  }
 },
 "nbformat": 4,
 "nbformat_minor": 0
}
