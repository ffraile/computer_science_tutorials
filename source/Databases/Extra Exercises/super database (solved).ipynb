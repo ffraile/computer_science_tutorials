{
 "cells": [
  {
   "cell_type": "markdown",
   "metadata": {
    "collapsed": true,
    "pycharm": {
     "name": "#%% md\n"
    }
   },
   "source": [
    "# Super data base\n",
    "You are building a database for a 'fandom' website. The objective is to store in a database the information about superheroes in different comics across different comics. \n",
    "You want to store basic details about the following entities: \n",
    "- Comic editorial: name, and head-quarters (e.g. Marvel, New York), \n",
    "- Authors: Full name, role (either writer or artist), \n",
    "- Comic: Name, issue, publication date (e.g. Avengers, 1, 1963-09-20), \n",
    "- Super-Hero: Real name, fictional name (e.g. Peter Parker, Spiderman)\n",
    "- Super-hero squad: Name (e.g. Avengers) \n",
    "- Super powers: Name, description (e.g. super-strength, ability to kick ass bad time)\n",
    "\n",
    "You also want to implement in your model, meaningful relationships to connect the different entities, for instance, which editorial publishes each comic, which are the authors of the comic, in which issues does every super hero appear, or what super-powers do they have. \n",
    "\n",
    "Draw the model of your database design to discuss implementation details with your team mates. Include in the diagram field names and types and relationships. "
   ]
  },
  {
   "cell_type": "markdown",
   "source": [
    "## Database Design\n",
    "The following diagrams shows a possible solution for the database: \n",
    "\n",
    "![super model](https://github.com/ffraile/database_tutorials/blob/main/Extra%20Exercises/img/super_heroes.png?raw=true)\n",
    "\n",
    "The trick is to use **junction tables** to define all the many-to-many relationships in the model: \n",
    "\n",
    "- **Authorship:** Junction table to implement the (many-to-many) relationship between Authors and Comics (A comic can have more than one author and an author more than one comic). \n",
    "- **Affiliation:** Junction table to implement the  (many-to-many) relationship between Super-heroes and Squads (A super-hero can join more than one squad and there is probably no squad with more than one super-hero).\n",
    "- **Appearance:** Junction table to implement the  (many-to-many) relationship between Super-heroes and Comics (A super-hero can appear in more than one comic and several heroes can appear in the same comic issue, otherwise they are no fun).\n",
    "- **Super-Empowerment:** Junction table to implement the  (many-to-many) relationship between Super-heroes and Super Powers (A super-hero can have more than one super-power, and several heroes may have the same super-power)\n",
    "\n",
    "These junction tables allow us to define the many-to-many relationships, but we can also add new fields to these records to store and analyse the properties of these relationships."
   ],
   "metadata": {
    "collapsed": false
   }
  },
  {
   "cell_type": "markdown",
   "source": [
    "## Try it yourself\n",
    "The following SQL script creates a database and data model with this solution for you to try:\n",
    "\n",
    "```sql\n",
    "--\n",
    "--\n",
    "drop database if exists superheroes;\n",
    "create database superheroes;\n",
    "use superheroes;\n",
    "-- \n",
    "CREATE TABLE Editorial(\n",
    "\teditorial_id INT PRIMARY KEY,\n",
    "\teditorial_name VARCHAR(20),\n",
    "\thead_quarters VARCHAR(30)\n",
    ");\n",
    "\n",
    "CREATE TABLE Author(\n",
    "\tauthor_id INT PRIMARY KEY,\n",
    "    full_name VARCHAR(30),\n",
    "    author_role ENUM('writer', 'practice')\n",
    ");\n",
    "\n",
    "CREATE TABLE Comic (\n",
    "\tcomic_id INT PRIMARY KEY,\n",
    "    issue_no INT,\n",
    "    publication_time DATETIME, \n",
    "    editorial_fk INT,\n",
    "    CONSTRAINT comic_editorial_fk FOREIGN KEY (editorial_fk) REFERENCES Editorial(editorial_id)\n",
    ");\n",
    "\n",
    "CREATE TABLE Authorship (\n",
    "\tcomic_fk INT, \n",
    "    author_fk INT, \n",
    "    CONSTRAINT authorship_comic_fk FOREIGN KEY (comic_fk) REFERENCES Comic(comic_id),\n",
    "    CONSTRAINT authorship_author_fk FOREIGN KEY (author_fk) REFERENCES Author(author_id),\n",
    "    PRIMARY KEY (comic_fk, author_fk)\n",
    ");\n",
    "\n",
    "CREATE TABLE Superheroe (\n",
    "\tsuperhero_id INT PRIMARY KEY,\n",
    "    real_name VARCHAR(30),\n",
    "    fictional_name VARCHAR(30)\n",
    ");\n",
    "\n",
    "CREATE TABLE Appearance (\n",
    "\tsuper_hero_fk INT,\n",
    "    comic_fk INT,\n",
    "    CONSTRAINT affiliation_super_hero_fk FOREIGN KEY (super_hero_fk) REFERENCES Superheroe(superhero_id),\n",
    "    CONSTRAINT affiliation_comic_fk FOREIGN KEY (comic_fk) REFERENCES Comic (comic_id),\n",
    "    PRIMARY KEY (super_hero_fk, comic_fk)\n",
    ");\n",
    "\n",
    "CREATE TABLE Squad (\n",
    "\tsquad_id INT PRIMARY KEY,\n",
    "    squad_name VARCHAR(30)\n",
    ");\n",
    "\n",
    "CREATE TABLE Affiliation (\n",
    "\tsuper_hero_fk INT,\n",
    "    squad_fk INT,\n",
    "    CONSTRAINT affiliation_super_hero_fk FOREIGN KEY (super_hero_fk) REFERENCES Superheroe(superhero_id),\n",
    "    CONSTRAINT affiliation_squad_fk FOREIGN KEY (squad_fk) REFERENCES Squad (squad_id),\n",
    "    PRIMARY KEY (super_hero_fk, squad_fk)\n",
    ");\n",
    "\n",
    "CREATE TABLE SuperPower (\n",
    "\tsuper_power_id INT PRIMARY KEY,\n",
    "    super_power_name VARCHAR(30),\n",
    "    super_power_description VARCHAR(30)    \n",
    ");\n",
    "\n",
    "CREATE TABLE SuperEmpowerMent (\n",
    "\tsuper_hero_fk INT,\n",
    "    super_power_fk INT,\n",
    "    CONSTRAINT empowerment_super_hero_fk FOREIGN KEY (super_hero_fk) REFERENCES Superheroe(superhero_id),\n",
    "    CONSTRAINT empowerment_power_fk FOREIGN KEY (super_power_fk) REFERENCES SuperPower (super_power_id),\n",
    "    PRIMARY KEY (super_hero_fk, super_power_fk)\n",
    ")\n",
    "```\n"
   ],
   "metadata": {
    "collapsed": false
   }
  }
 ],
 "metadata": {
  "kernelspec": {
   "display_name": "Python 3",
   "language": "python",
   "name": "python3"
  },
  "language_info": {
   "codemirror_mode": {
    "name": "ipython",
    "version": 2
   },
   "file_extension": ".py",
   "mimetype": "text/x-python",
   "name": "python",
   "nbconvert_exporter": "python",
   "pygments_lexer": "ipython2",
   "version": "2.7.6"
  },
  "pycharm": {
   "stem_cell": {
    "cell_type": "raw",
    "source": [],
    "metadata": {
     "collapsed": false
    }
   }
  }
 },
 "nbformat": 4,
 "nbformat_minor": 0
}