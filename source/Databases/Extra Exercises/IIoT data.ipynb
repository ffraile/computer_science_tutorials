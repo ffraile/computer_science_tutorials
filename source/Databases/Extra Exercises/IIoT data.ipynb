{
 "cells": [
  {
   "cell_type": "markdown",
   "metadata": {
    "collapsed": true,
    "pycharm": {
     "name": "#%% md\n"
    }
   },
   "source": [
    "# IIoT data\n",
    "Your company is involved in a digital transformation project and you would like to design a database to store readings from sensors installed in Industrial Internet of Things (IIoT) devices.\n",
    "For now, your organisation just wants to design a database that it is able to manage data from different types of devices and sensors. \n",
    "There are different device models, so, you want to store the device type information (e.g name and description). Also, there are different types of sensors, so you want to store the information about the sensor type (name, measurement unit, upper range and lower range), for instance, a temperature sensor which measurement unit is celsius degrees and can measure temperatures from -20 degrees to 60 degrees. \n",
    "You will have a network of IIoT devices, and you would like to know what is the location of each device, and the current status (either OK or ERROR). \n",
    "Also, each IIoT device will be connected to a set of sensors, each sensor will be of a specific type, connected to a specific device and will have a status (either OK or ERROR). \n",
    "Finally, you want to store sensor readings, knowing which sensor generated the reading, the timestamp where the measurement reading was created and its value. (for instance, a temperature sensor registered a temperature of 27.5 degrees on the 2021/12/10 at 17:12:00). \n",
    "Design a database model to support this use case. \n"
   ]
  }
 ],
 "metadata": {
  "kernelspec": {
   "display_name": "Python 3",
   "language": "python",
   "name": "python3"
  },
  "language_info": {
   "codemirror_mode": {
    "name": "ipython",
    "version": 2
   },
   "file_extension": ".py",
   "mimetype": "text/x-python",
   "name": "python",
   "nbconvert_exporter": "python",
   "pygments_lexer": "ipython2",
   "version": "2.7.6"
  },
  "pycharm": {
   "stem_cell": {
    "cell_type": "raw",
    "source": [],
    "metadata": {
     "collapsed": false
    }
   }
  }
 },
 "nbformat": 4,
 "nbformat_minor": 0
}