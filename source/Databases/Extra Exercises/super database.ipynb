{
 "cells": [
  {
   "cell_type": "markdown",
   "metadata": {
    "collapsed": true,
    "pycharm": {
     "name": "#%% md\n"
    }
   },
   "source": [
    "# Super data base\n",
    "You are building a database for a 'fandom' website. The objective is to store in a database the information about superheroes in different comics across different comics. \n",
    "You want to store basic details about the following entities: \n",
    "- Comic editorial: name, and head-quarters (e.g. Marvel, New York), \n",
    "- Authors: Full name, role (either writer or artist), \n",
    "- Comic: Name, issue, publication date (e.g. Avengers, 1, 1963-09-20), \n",
    "- Super-Hero: Real name, fictional name (e.g. Peter Parker, Spiderman)\n",
    "- Super-hero squad: Name (e.g. Avengers) \n",
    "- Super powers: Name, description (e.g. super-strength, ability to kick ass bad time)\n",
    "\n",
    "You also want to implement in your model, meaningful relationships to connect the different entities, for instance, which editorial publishes each comic, which are the authors of the comic, in which issues does every super hero appear, or what super-powers do they have. \n",
    "\n",
    "Draw the model of your database design to discuss implementation details with your team mates. Include in the diagram field names and types and relationships. \n",
    "\n",
    " \n",
    "      \n",
    "\n"
   ]
  }
 ],
 "metadata": {
  "kernelspec": {
   "display_name": "Python 3",
   "language": "python",
   "name": "python3"
  },
  "language_info": {
   "codemirror_mode": {
    "name": "ipython",
    "version": 2
   },
   "file_extension": ".py",
   "mimetype": "text/x-python",
   "name": "python",
   "nbconvert_exporter": "python",
   "pygments_lexer": "ipython2",
   "version": "2.7.6"
  },
  "pycharm": {
   "stem_cell": {
    "cell_type": "raw",
    "source": [],
    "metadata": {
     "collapsed": false
    }
   }
  }
 },
 "nbformat": 4,
 "nbformat_minor": 0
}