{
 "cells": [
  {
   "cell_type": "markdown",
   "source": [
    "## Try me\n",
    "[![Open In Colab](https://colab.research.google.com/assets/colab-badge.svg)](https://colab.research.google.com/github/ffraile/computer_science_tutorials/blob/main/source/Databases/class%20exercises/3.%20Functions.ipynb)[![Binder](https://mybinder.org/badge_logo.svg)](https://mybinder.org/v2/gh/ffraile/computer_science_tutorials/main?labpath=source%2FDatabases%2Fclass%20exercises%2F3.%20Functions.ipynb)\n",
    "In these exercises you are going to work with the car_retail.sql database in the folder test_databases. Copy the contents of the file in your test environment and execute it. Then, build queries as instructed in the exercises below:\n"
   ],
   "metadata": {
    "collapsed": false,
    "pycharm": {
     "name": "#%% md\n"
    }
   }
  },
  {
   "cell_type": "markdown",
   "source": [
    "1. Build a select query that returns for each car record, the model and the greatest value between 10000 and the cost of a car\n",
    "```sql\n",
    "-- Insert you answer here\n",
    "```"
   ],
   "metadata": {
    "collapsed": false,
    "pycharm": {
     "name": "#%% md\n"
    }
   }
  },
  {
   "cell_type": "markdown",
   "source": [
    "2. Build a select query that for each car record, it uses the function concat to return a message stating which employee sold each car. For instance, \"the car Ford F-150 was sold by John Johnson\"\n",
    "```sql\n",
    "-- Insert you answer here\n",
    "```"
   ],
   "metadata": {
    "collapsed": false,
    "pycharm": {
     "name": "#%% md\n"
    }
   }
  },
  {
   "cell_type": "markdown",
   "source": [
    "3. Build a select query that returns, for each car record, the bonus for the employee, which is calculated as the lowest value between the maximum bonus, 2000 and 10% of the total cost of the car.\n",
    "```sql\n",
    "-- Insert you answer here\n",
    "```"
   ],
   "metadata": {
    "collapsed": false,
    "pycharm": {
     "name": "#%% md\n"
    }
   }
  },
  {
   "cell_type": "markdown",
   "source": [
    "4. Build a select query that returns, for each employee record, the corporate email, as the concatenation of the left most character of the first name (FName column), the last name (LName column) and the corporate email suffix ('@dinoco-dealers.com').\n",
    " ```sql\n",
    "-- Insert you answer here\n",
    "```"
   ],
   "metadata": {
    "collapsed": false,
    "pycharm": {
     "name": "#%% md\n"
    }
   }
  },
  {
   "cell_type": "markdown",
   "source": [
    "5. Build a select query that returns, for each employee record, the total number of days passed between the current date and the HireDate.\n",
    "```sql\n",
    "-- Insert you answer here\n",
    "```\n"
   ],
   "metadata": {
    "collapsed": false,
    "pycharm": {
     "name": "#%% md\n"
    }
   }
  }
 ],
 "metadata": {
  "kernelspec": {
   "display_name": "${KERNEL_SPEC_DISPLAY_NAME}",
   "language": "${KERNEL_SPEC_LANGUAGE}",
   "name": "${KERNEL_SPEC_NAME}"
  },
  "language_info": {
   "codemirror_mode": {
    "name": "ipython",
    "version": 2
   },
   "file_extension": ".py",
   "mimetype": "text/x-python",
   "name": "python",
   "nbconvert_exporter": "python",
   "pygments_lexer": "ipython2",
   "version": "2.7.6"
  },
  "pycharm": {
   "stem_cell": {
    "cell_type": "raw",
    "source": [],
    "metadata": {
     "collapsed": false
    }
   }
  }
 },
 "nbformat": 4,
 "nbformat_minor": 0
}