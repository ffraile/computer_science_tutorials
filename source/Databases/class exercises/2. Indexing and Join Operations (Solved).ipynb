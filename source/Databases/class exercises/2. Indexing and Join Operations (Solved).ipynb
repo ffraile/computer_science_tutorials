{
 "cells": [
  {
   "cell_type": "markdown",
   "metadata": {
    "collapsed": true
   },
   "source": [
    "## Try me\n",
    "[![Open In Colab](https://colab.research.google.com/assets/colab-badge.svg)](https://colab.research.google.com/github/ffraile/computer_science_tutorials/blob/main/source/Databases/class%20exercises/2.%20Indexing%20and%20Join%20Operations.ipynb)[![Binder](https://mybinder.org/badge_logo.svg)](https://mybinder.org/v2/gh/ffraile/computer_science_tutorials/main?labpath=source%2FDatabases%2Fclass%20exercises%2F2.%20Indexing%20and%20Join%20Operations.ipynb)\n",
    "\n",
    "In these exercises you are going to work with the car_retail.sql database in the folder test_databases. Copy the contents of the file in your test environment and execute it. Then, build queries as instructed in the exercises below and copy your answers in the markdown cells provided.\n",
    "\n"
   ]
  },
  {
   "cell_type": "markdown",
   "source": [
    "1. Write down a select query using a join statement to return, for each employee, the name of the department, and the first and last name of each employee.\n",
    "```mysql\n",
    "SELECT d.name, e.fname, e.lname \n",
    "FROM employees e \n",
    "LEFT JOIN departments d ON e.departmentId = d.id;\n",
    "```"
   ],
   "metadata": {
    "collapsed": false
   }
  },
  {
   "cell_type": "markdown",
   "source": [
    "2. Write down a Select query using a join statement to return, for each department, the name of the department. If the department has any employees, it should return the last name of each employee in different records, in a column named employee_last_name. If the department does not have any employee, then this column should be empty.\n",
    "```sql\n",
    "SELECT d.name, e.lname AS employee_last_name\n",
    "FROM departments d\n",
    "LEFT JOIN employees e ON e.departmentId = d.id;\n",
    "```"
   ],
   "metadata": {
    "collapsed": false
   }
  },
  {
   "cell_type": "markdown",
   "source": [
    "3. Write down a select query using a join statement to return, for each car, the model of the car, the first name and last name of the customer, and the first name and last name of the employee that sold the car.\n",
    "```sql\n",
    "SELECT c.model, cu.fname AS customer_fname, cu.lname AS customer_lname, e.fname AS employee_fname, e.lname AS employee_lname\n",
    "FROM cars c\n",
    "LEFT JOIN customers cu ON c.customerId = cu.id\n",
    "LEFT JOIN employees e ON c.employeeId = e.id;\n",
    "```"
   ],
   "metadata": {
    "collapsed": false
   }
  },
  {
   "cell_type": "markdown",
   "source": [
    "4. Write down a select query using a join statement to return, for each manager, the first name and last name of the manager, and the first name and last name of the employees that work for the manager.\n",
    "```sql\n",
    "SELECT m.fname AS manager_fname, m.lname AS manager_lname, e.fname AS employee_fname, e.lname AS employee_lname\n",
    "FROM employees m\n",
    "LEFT JOIN employees e ON e.managerId = m.id;\n",
    "```"
   ],
   "metadata": {
    "collapsed": false
   }
  },
  {
   "cell_type": "markdown",
   "source": [
    "In these exercises you are going to work with the book_authors.sql database in the folder test_databases. Copy the contents of the file in the schema panel and click \n",
    "**build schema**. Then, build queries as instructed in the exercises below:\n",
    "\n",
    "5. write down a select query that returns the title of the book and the name of the corresponding author\n",
    "```sql\n",
    "SELECT \n",
    "\tb.title, \n",
    "    a.name \n",
    "FROM authors a\n",
    "left join booksauthors ba on a.ID = ba.authorID\n",
    "left join books b on ba.bookID = b.ID;```\n",
    "\n",
    "\n"
   ],
   "metadata": {
    "collapsed": false
   }
  }
 ],
 "metadata": {
  "kernelspec": {
   "display_name": "Python 3",
   "language": "python",
   "name": "python3"
  },
  "language_info": {
   "codemirror_mode": {
    "name": "ipython",
    "version": 2
   },
   "file_extension": ".py",
   "mimetype": "text/x-python",
   "name": "python",
   "nbconvert_exporter": "python",
   "pygments_lexer": "ipython2",
   "version": "2.7.6"
  },
  "pycharm": {
   "stem_cell": {
    "cell_type": "raw",
    "source": [
     "\n"
    ],
    "metadata": {
     "collapsed": false
    }
   }
  }
 },
 "nbformat": 4,
 "nbformat_minor": 0
}
