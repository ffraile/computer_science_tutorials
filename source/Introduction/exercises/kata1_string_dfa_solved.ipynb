{
  "cells": [
    {
      "cell_type": "markdown",
      "id": "352a31ce",
      "metadata": {
        "id": "352a31ce"
      },
      "source": [
        "# Activity 1 — Validate Spanish license plates `1234-XYZ`\n",
        "\n",
        "**Goal:** Implement a validator `is_valid_license_plate` that returns `True` only if the string matches the exact pattern of a spanish license plate:\n",
        "\n",
        "- Starts with a sequence of **exactly 4 digits**\n",
        "- Followed by exactly one space\n",
        "- Followed by a sequence of **exactly 3 uppercase consonants**. The consonants used are `[B, C, D, F, G, H, J, K, L, M, N, P, R, S, T, V, W, X, Y y Z]`\n",
        "- No extra characters\n",
        "\n",
        "**Examples:** `1234 XYZ` → ✅, `3236-MMZ` → ❌, `B123 XYZ` → ❌, `1234 xyZ` → ❌\n",
        "\n",
        "---\n",
        "\n",
        "## Workflow (AI-assisted TDD)\n",
        "1. Read and understand the spec above.\n",
        "2. **Start from tests**: Define unit tests to verify that the validator works properly in different situations. Use AI to ensure your tests are exhaustive and tests all possible situations.\n",
        "3. Ask AI to implement `is_valid_id`\n",
        "4. Put 2, and 3 together and test your functiona. Does it pass all the tests?\n",
        "4. Ask AI for: an explanation of the code, refactoring ideas, and a docstring to document your function.\n",
        "5. Document your prompts in the **Prompt Journal** section.\n",
        "\n",
        "> **Reminder:** You do not need to understand the code at least until the end, but that does not mean your are not in control!"
      ]
    },
    {
      "cell_type": "markdown",
      "source": [
        "## Tests\n",
        "Think of possible incorrect inputs for the function `is_valid_license_plate` and define a different names or labels for each scenario. For instance, the examples above can be labeled as:\n",
        "\n",
        "- Contains invalid characters (example: 3236-MMZ)\n",
        "- Incorrect starting number sequence (example: B123 XYZ)\n",
        "- Not capitalized letters (example: 1234 xyZ)\n",
        "\n",
        "Ask your AI assistant to generate using tests following this template:\n",
        "\n",
        "```python\n",
        "print(\"Contains invalid characters test\")\n",
        "res = is_valid_license_plate(\"3236-MMZ\")\n",
        "assert res == False, \"❌ The validator fails to detect invalid characters\"\n",
        "```"
      ],
      "metadata": {
        "id": "2u7ODAP3jkmc"
      },
      "id": "2u7ODAP3jkmc"
    },
    {
      "cell_type": "markdown",
      "source": [
        "## Implementation\n",
        "Use an AI assistant to generate the code of your function. Copy the template below in your prompt and ask your AI assistant to use it:"
      ],
      "metadata": {
        "id": "5Ps5vYE_q3I0"
      },
      "id": "5Ps5vYE_q3I0"
    },
    {
      "cell_type": "code",
      "execution_count": null,
      "id": "7cfac240",
      "metadata": {
        "id": "7cfac240"
      },
      "outputs": [],
      "source": [
        "\n",
        "# Starter: implement this function.\n",
        "# You can use str methods, loops, or regex; keep it readable.\n",
        "# Replace `pass` with your implementation.\n",
        "\n",
        "def is_valid_license_plate(s)\n",
        "  pass\n"
      ]
    },
    {
      "cell_type": "code",
      "metadata": {
        "id": "77a39c5e"
      },
      "source": [
        "import re\n",
        "\n",
        "def is_valid_license_plate(s):\n",
        "    \"\"\"\n",
        "    Validates if a string is a valid Spanish license plate according to the format 'DDDD CCC'.\n",
        "\n",
        "    Args:\n",
        "        s: The input string to validate.\n",
        "\n",
        "    Returns:\n",
        "        True if the string is a valid Spanish license plate, False otherwise.\n",
        "    \"\"\"\n",
        "    # Check if the input is a string\n",
        "    if not isinstance(s, str):\n",
        "        return False\n",
        "\n",
        "    # Spanish consonants (excluding vowels and Ñ)\n",
        "    consonants = \"BCDFGHJKLMNPRSTVWXYZ\"\n",
        "\n",
        "    # Regex pattern: 4 digits, followed by a space, followed by 3 uppercase consonants\n",
        "    # ^ : Start of the string\n",
        "    # \\d{4} : Exactly 4 digits\n",
        "    #   : A single space\n",
        "    # [BCDFGHJKLMNPRSTVWXYZ]{3} : Exactly 3 uppercase consonants from the specified set\n",
        "    # $ : End of the string\n",
        "    pattern = r\"^\\d{4} [\" + consonants + \"]{3}$\"\n",
        "\n",
        "    # Use re.match to check if the pattern matches from the beginning of the string\n",
        "    return re.match(pattern, s) is not None"
      ],
      "id": "77a39c5e",
      "execution_count": 1,
      "outputs": []
    },
    {
      "cell_type": "markdown",
      "id": "ac902a39",
      "metadata": {
        "id": "ac902a39"
      },
      "source": [
        "### Self Check\n",
        "Add and run the tests you generated below. Check that all the tests are passed."
      ]
    },
    {
      "cell_type": "code",
      "metadata": {
        "colab": {
          "base_uri": "https://localhost:8080/"
        },
        "id": "79f36d10",
        "outputId": "e8fe0191-3d5e-4210-c689-5747eb919c5a"
      },
      "source": [
        "print(\"Contains invalid characters test\")\n",
        "res = is_valid_license_plate(\"3236-MMZ\")\n",
        "assert res == False, \"❌ The validator fails to detect invalid characters\""
      ],
      "id": "79f36d10",
      "execution_count": 2,
      "outputs": [
        {
          "output_type": "stream",
          "name": "stdout",
          "text": [
            "Contains invalid characters test\n"
          ]
        }
      ]
    },
    {
      "cell_type": "code",
      "metadata": {
        "colab": {
          "base_uri": "https://localhost:8080/"
        },
        "id": "d19af287",
        "outputId": "8ee2fb68-82e7-4ab1-80dd-3d2b12831ed2"
      },
      "source": [
        "print(\"Incorrect starting number sequence test\")\n",
        "res = is_valid_license_plate(\"B123 XYZ\")\n",
        "assert res == False, \"❌ The validator fails to detect incorrect starting number sequence\""
      ],
      "id": "d19af287",
      "execution_count": 3,
      "outputs": [
        {
          "output_type": "stream",
          "name": "stdout",
          "text": [
            "Incorrect starting number sequence test\n"
          ]
        }
      ]
    },
    {
      "cell_type": "code",
      "metadata": {
        "colab": {
          "base_uri": "https://localhost:8080/"
        },
        "id": "6f70f5b3",
        "outputId": "7b8d3df9-bf60-4097-c8a7-057c6e82ff86"
      },
      "source": [
        "print(\"Not capitalized letters test\")\n",
        "res = is_valid_license_plate(\"1234 xyZ\")\n",
        "assert res == False, \"❌ The validator fails to detect not capitalized letters\""
      ],
      "id": "6f70f5b3",
      "execution_count": 4,
      "outputs": [
        {
          "output_type": "stream",
          "name": "stdout",
          "text": [
            "Not capitalized letters test\n"
          ]
        }
      ]
    },
    {
      "cell_type": "code",
      "metadata": {
        "colab": {
          "base_uri": "https://localhost:8080/"
        },
        "id": "0c7b0dff",
        "outputId": "47e12f75-bc6f-4a54-9912-46b1f1312b5d"
      },
      "source": [
        "print(\"Incorrect number of digits test (less than 4)\")\n",
        "res = is_valid_license_plate(\"123 XYZ\")\n",
        "assert res == False, \"❌ The validator fails to detect incorrect number of digits (less than 4)\""
      ],
      "id": "0c7b0dff",
      "execution_count": 5,
      "outputs": [
        {
          "output_type": "stream",
          "name": "stdout",
          "text": [
            "Incorrect number of digits test (less than 4)\n"
          ]
        }
      ]
    },
    {
      "cell_type": "code",
      "metadata": {
        "colab": {
          "base_uri": "https://localhost:8080/"
        },
        "id": "955f35a6",
        "outputId": "3ef4e6e2-d640-4ff5-d567-44b7fa3aaa08"
      },
      "source": [
        "print(\"Incorrect number of digits test (more than 4)\")\n",
        "res = is_valid_license_plate(\"12345 XYZ\")\n",
        "assert res == False, \"❌ The validator fails to detect incorrect number of digits (more than 4)\""
      ],
      "id": "955f35a6",
      "execution_count": 6,
      "outputs": [
        {
          "output_type": "stream",
          "name": "stdout",
          "text": [
            "Incorrect number of digits test (more than 4)\n"
          ]
        }
      ]
    },
    {
      "cell_type": "code",
      "metadata": {
        "colab": {
          "base_uri": "https://localhost:8080/"
        },
        "id": "4e62f465",
        "outputId": "9c0ac11a-a260-433f-d110-3ea055bef5e6"
      },
      "source": [
        "print(\"Incorrect number of letters test (less than 3)\")\n",
        "res = is_valid_license_plate(\"1234 XY\")\n",
        "assert res == False, \"❌ The validator fails to detect incorrect number of letters (less than 3)\""
      ],
      "id": "4e62f465",
      "execution_count": 7,
      "outputs": [
        {
          "output_type": "stream",
          "name": "stdout",
          "text": [
            "Incorrect number of letters test (less than 3)\n"
          ]
        }
      ]
    },
    {
      "cell_type": "code",
      "metadata": {
        "colab": {
          "base_uri": "https://localhost:8080/"
        },
        "id": "cd517051",
        "outputId": "9b42ce70-bef0-4b4b-9f80-6b42ed3ff546"
      },
      "source": [
        "print(\"Incorrect number of letters test (more than 3)\")\n",
        "res = is_valid_license_plate(\"1234 WXYZ\")\n",
        "assert res == False, \"❌ The validator fails to detect incorrect number of letters (more than 3)\""
      ],
      "id": "cd517051",
      "execution_count": 8,
      "outputs": [
        {
          "output_type": "stream",
          "name": "stdout",
          "text": [
            "Incorrect number of letters test (more than 3)\n"
          ]
        }
      ]
    },
    {
      "cell_type": "code",
      "metadata": {
        "colab": {
          "base_uri": "https://localhost:8080/"
        },
        "id": "c5b26d95",
        "outputId": "ac06f82d-4c1b-45e3-d2db-f0e00ed26034"
      },
      "source": [
        "print(\"Missing space test\")\n",
        "res = is_valid_license_plate(\"1234XYZ\")\n",
        "assert res == False, \"❌ The validator fails to detect missing space\""
      ],
      "id": "c5b26d95",
      "execution_count": 9,
      "outputs": [
        {
          "output_type": "stream",
          "name": "stdout",
          "text": [
            "Missing space test\n"
          ]
        }
      ]
    },
    {
      "cell_type": "code",
      "metadata": {
        "colab": {
          "base_uri": "https://localhost:8080/"
        },
        "id": "e1419e8d",
        "outputId": "e8ca434f-948c-4cf6-a564-1ba2645233de"
      },
      "source": [
        "print(\"Extra space test\")\n",
        "res = is_valid_license_plate(\"1234  XYZ\")\n",
        "assert res == False, \"❌ The validator fails to detect extra space\""
      ],
      "id": "e1419e8d",
      "execution_count": 10,
      "outputs": [
        {
          "output_type": "stream",
          "name": "stdout",
          "text": [
            "Extra space test\n"
          ]
        }
      ]
    },
    {
      "cell_type": "code",
      "metadata": {
        "colab": {
          "base_uri": "https://localhost:8080/"
        },
        "id": "e8886c79",
        "outputId": "3b1a8b32-c19d-4eff-ba92-117e2286b292"
      },
      "source": [
        "print(\"Lowercase consonants test\")\n",
        "res = is_valid_license_plate(\"1234 bcd\")\n",
        "assert res == False, \"❌ The validator fails to detect lowercase consonants\""
      ],
      "id": "e8886c79",
      "execution_count": 11,
      "outputs": [
        {
          "output_type": "stream",
          "name": "stdout",
          "text": [
            "Lowercase consonants test\n"
          ]
        }
      ]
    },
    {
      "cell_type": "code",
      "metadata": {
        "colab": {
          "base_uri": "https://localhost:8080/"
        },
        "id": "e6ef0eaa",
        "outputId": "b2d273f7-d868-4665-d497-2225fc206a01"
      },
      "source": [
        "print(\"Invalid consonant test (using a vowel)\")\n",
        "res = is_valid_license_plate(\"1234 AYZ\")\n",
        "assert res == False, \"❌ The validator fails to detect invalid consonants (using a vowel)\""
      ],
      "id": "e6ef0eaa",
      "execution_count": 12,
      "outputs": [
        {
          "output_type": "stream",
          "name": "stdout",
          "text": [
            "Invalid consonant test (using a vowel)\n"
          ]
        }
      ]
    },
    {
      "cell_type": "markdown",
      "source": [
        "## Explanation\n",
        "Ask your AI Assistant to explain your code in simple test. And the provided explanation below. Ask for any follow up explanation you may require. Ask the AI assistant to provide the response in a **markdown cell**."
      ],
      "metadata": {
        "id": "KHO49jMfqh_Y"
      },
      "id": "KHO49jMfqh_Y"
    },
    {
      "cell_type": "markdown",
      "metadata": {
        "id": "0da56949"
      },
      "source": [
        "Here's a simple explanation of the `is_valid_license_plate` function:\n",
        "\n",
        "1.  **`import re`**: This brings in a tool called `re` that helps find patterns in text.\n",
        "\n",
        "2.  **`def is_valid_license_plate(s):`**: This creates a function named `is_valid_license_plate` that takes some text (called `s`) as input.\n",
        "\n",
        "3.  **`if not isinstance(s, str): return False`**: This checks if the input `s` is actually text. If it's not, the function stops and says `False` (it's not a valid license plate).\n",
        "\n",
        "4.  **`consonants = \"BCDFGHJKLMNPRSTVWXYZ\"`**: This lists all the letters that are allowed in the last part of the license plate.\n",
        "\n",
        "5.  **`pattern = r\"^\\d{4} [\" + consonants + \"]{3}$\"`**: This creates a special pattern to look for:\n",
        "    *   `^`: The text must start here.\n",
        "    *   `\\d{4}`: It must have exactly 4 digits (0-9).\n",
        "    *   ` `: It must have a single space.\n",
        "    *   `[` + consonants + `]{3}`: It must have exactly 3 letters from the `consonants` list.\n",
        "    *   `$`: The text must end here.\n",
        "    This pattern makes sure the text is exactly like a Spanish license plate.\n",
        "\n",
        "6.  **`return re.match(pattern, s) is not None`**: This checks if the text `s` matches the `pattern` from the very beginning.\n",
        "    *   If it matches, it means the text is a valid license plate, and the function says `True`.\n",
        "    *   If it doesn't match, the function says `False`.\n",
        "\n",
        "In short, the code uses a pattern to quickly check if the input text is formatted exactly like a valid Spanish license plate."
      ],
      "id": "0da56949"
    },
    {
      "cell_type": "markdown",
      "source": [
        "## Documentation\n",
        "Ask your AI assistant to **document** your code and add **inline comments** and **docstring** to the function. Run the cell defining the function again and click on the code cell below to see the documentation of your function"
      ],
      "metadata": {
        "id": "p8K2u7Q9Z5tz"
      },
      "id": "p8K2u7Q9Z5tz"
    },
    {
      "cell_type": "code",
      "source": [
        "print(is_valid_license_plate.__doc__)"
      ],
      "metadata": {
        "colab": {
          "base_uri": "https://localhost:8080/"
        },
        "id": "Q2mGqIEMaj-k",
        "outputId": "e548f83b-ef7a-43ea-80c5-54f897b53950"
      },
      "id": "Q2mGqIEMaj-k",
      "execution_count": 3,
      "outputs": [
        {
          "output_type": "stream",
          "name": "stdout",
          "text": [
            "\n",
            "    Validates if a string is a valid Spanish license plate according to the format 'DDDD CCC'.\n",
            "\n",
            "    Args:\n",
            "        s: The input string to validate.\n",
            "\n",
            "    Returns:\n",
            "        True if the string is a valid Spanish license plate, False otherwise.\n",
            "    \n"
          ]
        }
      ]
    },
    {
      "cell_type": "markdown",
      "id": "a6240c1f",
      "metadata": {
        "id": "a6240c1f"
      },
      "source": [
        "## Prompt Journal (copy/paste your best prompts + short reflection)\n",
        "- *Prompt 1:* I am trying to build a function `is_valid_license_plate` that returns True only if the input is a valid spanish license plate. First I would like to define different unit tests to test the function under different scenarios. For instance: - Contains invalid characters (example: 3236-MMZ) - Incorrect starting number sequence (example: B123 XYZ) - Not capitalized letters (example: 1234 xyZ) Can you help me identify potential errors in license plates to define my unit tests? Please use this template to define the unit tests: ```python print(\"Contains invalid characters test\") res = is_valid_license_plate(\"3236-MMZ\") asser res == False, \"❌ The validator fails to detect invalid characters\" ```  \n",
        "- *Result & what changed in your code:* Tests generated in Self check section\n",
        "- *Prompt 2:* Now, help me build the license plate validator function. Goal: Implement a validator is_valid_license_plate that returns True only if the string matches the exact pattern of a spanish license plate: Starts with a sequence of exactly 4 digits Followed by exactly one space Followed by a sequence of exactly 3 uppercase consonants. The consonants used are [B, C, D, F, G, H, J, K, L, M, N, P, R, S, T, V, W, X, Y y Z] No extra characters. Use the template below: # Starter: implement this function. # You can use str methods, loops, or regex; keep it readable. # Replace `pass` with your implementation. def is_valid_id(s)  \n",
        "- *Result & what changed in your tests:* Implemented function"
      ]
    },
    {
      "cell_type": "markdown",
      "id": "674fc52b",
      "metadata": {
        "id": "674fc52b"
      },
      "source": [
        "## Reflection\n",
        "- How good was your AI assistant identifying edge cases? Did you add any edge case manually?\n",
        "- Did you get an understanding of how regular expressions work? How would you adapt the pattern to validate a slightly different license plate format (e.g., `B` prefix or 5 letters)? Can you think of other applications for regex?\n",
        "- How good was the explanations and documentation generated by your AI assistant? Can you enrich the documentation with additional information from the specifications?\n",
        "- What are the benefits of TDD? Do you think the additional context helps the AI assistant to write better code?"
      ]
    }
  ],
  "metadata": {
    "colab": {
      "provenance": []
    },
    "language_info": {
      "name": "python"
    },
    "kernelspec": {
      "name": "python3",
      "display_name": "Python 3"
    }
  },
  "nbformat": 4,
  "nbformat_minor": 5
}