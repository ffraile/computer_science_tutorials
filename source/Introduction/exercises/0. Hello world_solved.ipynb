{
 "cells": [
  {
   "cell_type": "markdown",
   "source": [
    "# Hello world exercises\n",
    "\n",
    "## Try me\n",
    "[![Open In Colab](https://colab.research.google.com/assets/colab-badge.svg)](https://colab.research.google.com/github/ffraile/computer_science_tutorials/blob/main/source/Introduction/exercises/0.%20Hello%20world_solved.ipynb)[![Binder](https://mybinder.org/badge_logo.svg)](https://mybinder.org/v2/gh/ffraile/computer_science_tutorials/main?labpath=source%2FIntroduction%2Fexercises%2F0.%20Hello%20world_solved.ipynb)\n",
    "\n",
    "## Exercises\n",
    "1. Write a small program that takes the user´s name and surname as inputs and prints a welcome message with the full name.\n"
   ],
   "metadata": {
    "collapsed": false
   }
  },
  {
   "cell_type": "code",
   "execution_count": null,
   "outputs": [],
   "source": [
    "name = input(\"Enter your name: \")\n",
    "surname = input(\"Enter your surname: \")\n",
    "print(\"Welcome\", name, surname)"
   ],
   "metadata": {
    "collapsed": false
   }
  },
  {
   "cell_type": "markdown",
   "source": [
    "2. Check the documentation of the Python built-in functions, and write a small program that takes two integer numbers as inputs and creates an imaginary number with one number as the real part and the other as the imaginary part.\n"
   ],
   "metadata": {
    "collapsed": false
   }
  },
  {
   "cell_type": "code",
   "execution_count": null,
   "outputs": [],
   "source": [
    "real_part = int(input(\"Enter first number: \"))\n",
    "imag_part = int(input(\"Enter second number: \"))\n",
    "print(\"The imaginary number is: \", complex(real_part, imag_part))"
   ],
   "metadata": {
    "collapsed": false
   }
  },
  {
   "cell_type": "markdown",
   "source": [
    "3. Check the documentation of the Python built-in functions, and write a small program that takes two integer numbers as inputs and prints the maximum.\n"
   ],
   "metadata": {
    "collapsed": false
   }
  },
  {
   "cell_type": "code",
   "execution_count": null,
   "outputs": [],
   "source": [
    "num_1 = int(input(\"Enter first number: \"))\n",
    "num_2 = int(input(\"Enter second number: \"))\n",
    "print(\"The maximum is: \", max(num_1, num_2))"
   ],
   "metadata": {
    "collapsed": false
   }
  },
  {
   "cell_type": "markdown",
   "source": [
    "4. Check the documentation of the Python built-in functions, and write a small program that takes one integer number as input and prints the number in binary form.\n"
   ],
   "metadata": {
    "collapsed": false
   }
  },
  {
   "cell_type": "code",
   "execution_count": null,
   "outputs": [],
   "source": [
    "num = int(input(\"Enter number: \"))\n",
    "print(\"The binary representation is: \", bin(num))"
   ],
   "metadata": {
    "collapsed": false
   }
  },
  {
   "cell_type": "markdown",
   "source": [
    "5. Check the documentation of the Python built-in functions, and write a small program that takes four integer numbers as input and prints the numbers in hexadecimal form separated by slashes e.g. ('0xff-0x2a-0x01-0xfe')."
   ],
   "metadata": {
    "collapsed": false
   }
  },
  {
   "cell_type": "code",
   "execution_count": null,
   "outputs": [],
   "source": [
    "num_1 = int(input(\"Enter first number: \"))\n",
    "num_2 = int(input(\"Enter second number: \"))\n",
    "num_3 = int(input(\"Enter third number: \"))\n",
    "num_4 = int(input(\"Enter fourth number: \"))\n",
    "\n",
    "print(hex(num_1), hex(num_2), hex(num_3), hex(num_4), sep=\"-\")"
   ],
   "metadata": {
    "collapsed": false
   }
  },
  {
   "cell_type": "markdown",
   "source": [
    "## Analysis questions\n",
    "1. In exercise 1, How does your program concatenate the user's name and surname to create the full name? Can you think of a way to do it differently?\n",
    "\n",
    "The program uses the print function to concatenate the strings, using each string as a different parameter (e.g. ```print(\"Hello\", name, surname)``` . The print function concatenates the strings with a space between them. To concatenate the strings without a space, we can use the + operator (e.g. ```print(\"Hello\" + name + surname)```).\n",
    "\n",
    "2. In exercise 1, How have you guided the user through the input process? How might you improve the user experience by providing clearer prompts or instructions?\n",
    "\n",
    "The prompt messages in the input function are used to guide the user through the input process. We can improve the user experience by providing more detailed instructions on how the user needs to provide the information.\n",
    "\n",
    "3. In exercise 2, how have you handled the conversion of the values provided by the user to numbers?\n",
    "\n",
    "The ```input``` function returns a string, so we need to convert the string to a number using the ```int``` function.\n",
    "\n",
    "4. In exercise 2, what happens if you try to create an imaginary number with a string as one of the inputs? How would you handle this situation?\n",
    "\n",
    "If we try to create an imaginary number with a string as one of the inputs, we get a ```ValueError``` exception. We can add more info in the prompt message, telling the user to make sure he enters a number. We could also check if the input string is a number before trying to create the complex number. We can also handle this situation by using a ```try``` statement to catch the exception and print a message to the user.\n",
    "\n",
    "5. In Exercise 4, How is the binary representation of a number related to its base-2 place value representation? How would you exploit this relationship to convert a number to binary?\n",
    "\n",
    "The binary representation of a number is related to its base-2 place value representation because each digit in the binary representation represents a power of 2: The rightmost digit represents $2^0$, the next digit represents $2^1$, the next digit represents $2^2$, and so on.\n",
    "\n",
    "To convert a decimal number to binary, we can exploit this relationship by dividing the number by successive powers of 2 and recording the remainders. Specifically, we can follow these steps:\n",
    "1. Find the highest power of 2 that is lower or equal than the number.\n",
    "2. Divide and Record: Divide the number by the power of 2, and record the result and the remainder.\n",
    "3. Repeat: Divide the remainder by the next power of 2 that is lower or equal than the remainder, and record the result and the remainder.\n",
    "4. Fill in the gaps: If there are any powers of 2 that we have not used, record a 0 for the result and the remainder.\n",
    "\n",
    "For instance, let´s convert 13 to binary:\n",
    "\n",
    "1. The highest power of 2 that is lower or equal than 13 is $2^3 = 8$.\n",
    "2. Divide and Record: $13 / 8 = 1$ with a remainder of 5.\n",
    "3. Repeat: The highest por of 2 that is lower or equal than 5 is $2^2 = 4$, hence $5 / 4 = 1$ with a remainder of 1.\n",
    "4. Repeat: $1 / 1 = 1$ with a remainder of 0.\n",
    "5. Fill in the gaps: We have not used $2^1 = 2$, so we record a 0 in this position since $2^1$ was not used.\n",
    "\n",
    "Thus, the binary representation of 13 is 1101.\n"
   ],
   "metadata": {
    "collapsed": false
   }
  }
 ],
 "metadata": {
  "kernelspec": {
   "display_name": "Python 3",
   "language": "python",
   "name": "python3"
  },
  "language_info": {
   "codemirror_mode": {
    "name": "ipython",
    "version": 2
   },
   "file_extension": ".py",
   "mimetype": "text/x-python",
   "name": "python",
   "nbconvert_exporter": "python",
   "pygments_lexer": "ipython2",
   "version": "2.7.6"
  }
 },
 "nbformat": 4,
 "nbformat_minor": 0
}
