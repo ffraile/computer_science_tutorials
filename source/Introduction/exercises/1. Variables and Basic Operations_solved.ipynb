{
 "cells": [
  {
   "cell_type": "markdown",
   "source": [
    "# Variables and Basic Operations Exercises\n",
    "\n",
    "## Try me\n",
    "[![Open In Colab](https://colab.research.google.com/assets/colab-badge.svg)](https://colab.research.google.com/github/ffraile/computer_science_tutorials/blob/main/source/Introduction/exercises/1.%20Variables%20and%20Basic%20Operations_solved.ipynb)[![Binder](https://mybinder.org/badge_logo.svg)](https://mybinder.org/v2/gh/ffraile/computer_science_tutorials/main?labpath=source%2FIntroduction%2Fexercises%2F1.%20Variables%20and%20Basic%20Operations_solved.ipynb)\n",
    "\n",
    "## Exercises\n",
    "1. Write down a Python script to define a complex variable named 'x', and another complex variable named 'y' and assign to a variable named 'z' the value of the sum of the imaginary parts of 'x' and 'y'"
   ],
   "metadata": {}
  },
  {
   "cell_type": "code",
   "execution_count": null,
   "outputs": [],
   "source": [
    "x = 1 + 2j\n",
    "y = 3 + 4j\n",
    "z = x.imag + y.imag"
   ],
   "metadata": {
    "collapsed": false
   }
  },
  {
   "cell_type": "markdown",
   "source": [
    "2. Write down a Python script to convert the value of temperatures provided in Fahrenheit to Celsius."
   ],
   "metadata": {}
  },
  {
   "cell_type": "code",
   "execution_count": null,
   "outputs": [],
   "source": [
    "fareinheit = float(input(\"Enter temperature in fareinheit: \"))\n",
    "celsius = (fareinheit - 32) * 5/9\n",
    "print(fareinheit, \"Fareinheit is equal to\", celsius, \"Celsius\")"
   ],
   "metadata": {
    "collapsed": false
   }
  },
  {
   "cell_type": "markdown",
   "source": [
    "3. Define a string variable named 'my_string' and assign it the value \"Computer science is awesome!\". Check the documentation of the string functions and use a function to print a copy of the string with all characters converted to uppercase."
   ],
   "metadata": {
    "collapsed": false
   }
  },
  {
   "cell_type": "code",
   "execution_count": null,
   "outputs": [],
   "source": [
    "my_string = \"Computer science is awesome!\"\n",
    "print(my_string.upper())"
   ],
   "metadata": {
    "collapsed": false
   }
  },
  {
   "cell_type": "markdown",
   "source": [
    "4. Given a string variable that describes a genetic sequence (e.g: gen_sequence = “AATATTCGTGTTTTTTTCAAACTGTG”), use the string type built-in functions to determine the position of the first occurrence of the genome (genetic (sub)sequence) (“TCAA”)."
   ],
   "metadata": {
    "collapsed": false
   }
  },
  {
   "cell_type": "code",
   "execution_count": null,
   "outputs": [],
   "source": [
    "gen_sequence = \"AATATTCGTGTTTTTTTCAAACTGTG\"\n",
    "print(gen_sequence.find(\"TCAA\"))"
   ],
   "metadata": {
    "collapsed": false
   }
  },
  {
   "cell_type": "markdown",
   "source": [
    "5. Given a string variable that describes a genetic sequence (e.g: gen_sequence = \"AATATTCGTGTTTTTTTCAAACTGTG\"), use the string type built-in functions to replace any occurrence of the sequence \"TCAA\" with the sequence \"TGCA\" and then, the sequence \"ATTC\" with the sequence \"GTCA\""
   ],
   "metadata": {
    "collapsed": false
   }
  },
  {
   "cell_type": "code",
   "execution_count": null,
   "outputs": [],
   "source": [
    "gen_sequence = \"AATATTCGTGTTTTTTTCAAACTGTG\"\n",
    "gen_sequence = gen_sequence.replace(\"TCAA\", \"TGCA\")"
   ],
   "metadata": {
    "collapsed": false
   }
  },
  {
   "cell_type": "markdown",
   "source": [
    "6. Calculate the integer division (floor division) of an integer variable by 4 both using basic arithmetic operations and bitwise shift operations.\n"
   ],
   "metadata": {
    "collapsed": false
   }
  },
  {
   "cell_type": "code",
   "execution_count": null,
   "outputs": [],
   "source": [
    "my_int = int(input(\"Enter an integer: \"))\n",
    "print(\"Integer division by 4 using basic arithmetic operations: \", my_int // 4)\n",
    "print(\"Integer division by 4 using bitwise shift operations: \", my_int >> 2)"
   ],
   "metadata": {
    "collapsed": false
   }
  },
  {
   "cell_type": "markdown",
   "source": [
    "## Analysis questions\n",
    "1. In exercise 1, how does your program handle the complex variables ```x```and ```y```? What is the type of the variable ```z``` (motivate your response)?\n",
    "\n",
    "The solution uses Python syntax to define two complex variables, other alternatives are possible, for instance using the ```complex()``` function. The variable ```z``` is integer in the example, since the imaginary part of the complex numbers ```x``` and ```y``` are integers and the result of the addition is also a real number.\n",
    "\n",
    "2. In exercise 2, consider the case where the user enters a very large or very small temperature value. How might you modify the program to display the converted temperature in scientific notation or with a specific number of decimal places?\n",
    "\n",
    "We could use formatted string literals to display the converted temperature in scientific notation or with a specific number of decimal places. For instance, to display the converted temperature in scientific notation we could use the following code:\n",
    "\n",
    "```python\n",
    "print(f\"{farenheit:.2f} Fareinheit is equal to {celsius:.2f} Celsius\")\n",
    "```\n",
    "\n",
    "3. In exercise 4, How can you tell if the genome sequence is not present in the genetic sequence? How can you handle this situation in your program?\n",
    "\n",
    "The ```find()``` function returns -1 if the genome sequence is not present in the genetic sequence. We could modify the print message to inform the user that -1 means that thee genome sequence is not found, or use an ```if``` statement to handle this situation in our program.\n",
    "\n",
    "4.In exercise 6, Explain in your own words how the bitwise operations work. Which of the two alternatives do you think is more efficient? Why?\n",
    "\n",
    "The bitwise shift operations are equivalent to multiplying or dividing by 2. The bitwise shift operations in general faster than the arithmetic operations, since they only require shifting the bits of the number, which is a much simpler operation than the multiplication or division of two numbers. However, the bitwise shift operations are only valid for integer, non-negative numbers, and the arithmetic operations are valid for any number. Also, arithmetic operations are more intuitive and readable than bitwise shift operations.\n",
    "\n",
    "5. In exercise 6, How might you modify the program to allow the user to input a divisor other than 4? What considerations would you need to take into account when using bitwise shift operations for a different divisor?\n",
    "\n",
    "We could use the ```input()``` function to allow the user to input a divisor other than 4. We would need to consider that the divisor must be a power of 2 if we want to use bitwise shift operations."
   ],
   "metadata": {
    "collapsed": false
   }
  }
 ],
 "metadata": {
  "orig_nbformat": 4,
  "language_info": {
   "name": "python",
   "version": "3.8.1",
   "mimetype": "text/x-python",
   "codemirror_mode": {
    "name": "ipython",
    "version": 3
   },
   "pygments_lexer": "ipython3",
   "nbconvert_exporter": "python",
   "file_extension": ".py"
  },
  "kernelspec": {
   "name": "python3",
   "display_name": "Python 3.8.1 64-bit"
  },
  "interpreter": {
   "hash": "2db524e06e9f5f4ffedc911c917cb75e12dbc923643829bf417064a77eb14d37"
  }
 },
 "nbformat": 4,
 "nbformat_minor": 2
}
