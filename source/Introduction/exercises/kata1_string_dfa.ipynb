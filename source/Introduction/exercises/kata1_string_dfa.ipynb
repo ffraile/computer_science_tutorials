{
  "cells": [
    {
      "cell_type": "markdown",
      "id": "352a31ce",
      "metadata": {
        "id": "352a31ce"
      },
      "source": [
        "# Activity 1 — Validate Spanish license plates `1234-XYZ`\n",
        "\n",
        "**Goal:** Implement a validator `is_valid_license_plate` that returns `True` only if the string matches the exact pattern of a spanish license plate:\n",
        "\n",
        "- Starts with a sequence of **exactly 4 digits**\n",
        "- Followed by exactly one space\n",
        "- Followed by a sequence of **exactly 3 uppercase consonants**. The consonants used are `[B, C, D, F, G, H, J, K, L, M, N, P, R, S, T, V, W, X, Y y Z]`\n",
        "- No extra characters\n",
        "\n",
        "**Examples:** `1234 XYZ` → ✅, `3236-MMZ` → ❌, `B123 XYZ` → ❌, `1234 xyZ` → ❌\n",
        "\n",
        "---\n",
        "\n",
        "## Workflow (AI-assisted TDD)\n",
        "1. Read and understand the spec above.\n",
        "2. **Start from tests**: Define unit tests to verify that the validator works properly in different situations. Use AI to ensure your tests are exhaustive and tests all possible situations.\n",
        "3. Ask AI to implement `is_valid_id`\n",
        "4. Put 2, and 3 together and test your functiona. Does it pass all the tests?\n",
        "4. Ask AI for: an explanation of the code, refactoring ideas, and a docstring to document your function.\n",
        "5. Document your prompts in the **Prompt Journal** section.\n",
        "\n",
        "> **Reminder:** You do not need to understand the code at least until the end, but that does not mean your are not in control!"
      ]
    },
    {
      "cell_type": "markdown",
      "source": [
        "## Tests\n",
        "Think of possible incorrect inputs for the function `is_valid_license_plate` and define a different names or labels for each scenario. For instance, the examples above can be labeled as:\n",
        "\n",
        "- Contains invalid characters (example: 3236-MMZ)\n",
        "- Incorrect starting number sequence (example: B123 XYZ)\n",
        "- Not capitalized letters (example: 1234 xyZ)\n",
        "\n",
        "Ask your AI assistant to generate using tests following this template:\n",
        "\n",
        "```python\n",
        "print(\"Contains invalid characters test\")\n",
        "res = is_valid_license_plate(\"3236-MMZ\")\n",
        "assert res == False, \"❌ The validator fails to detect invalid characters\"\n",
        "```"
      ],
      "metadata": {
        "id": "2u7ODAP3jkmc"
      },
      "id": "2u7ODAP3jkmc"
    },
    {
      "cell_type": "markdown",
      "source": [
        "## Implementation\n",
        "Use an AI assistant to generate the code of your function. Copy the template below in your prompt and ask your AI assistant to use it:"
      ],
      "metadata": {
        "id": "5Ps5vYE_q3I0"
      },
      "id": "5Ps5vYE_q3I0"
    },
    {
      "cell_type": "code",
      "execution_count": null,
      "id": "7cfac240",
      "metadata": {
        "id": "7cfac240"
      },
      "outputs": [],
      "source": [
        "\n",
        "# Starter: implement this function.\n",
        "# You can use str methods, loops, or regex; keep it readable.\n",
        "# Replace `pass` with your implementation.\n",
        "\n",
        "def is_valid_license_plate(s)\n",
        "  pass\n"
      ]
    },
    {
      "cell_type": "markdown",
      "id": "ac902a39",
      "metadata": {
        "id": "ac902a39"
      },
      "source": [
        "### Self Check\n",
        "Add and run the tests you above below. Check that all the tests are passed."
      ]
    },
    {
      "cell_type": "markdown",
      "source": [
        "## Explanation\n",
        "Ask your AI Assistant to explain your code in simple test. And the provided explanation below. Ask for any follow up explanation you may require. Ask the AI assistant to provide the response in a **markdown cell**."
      ],
      "metadata": {
        "id": "KHO49jMfqh_Y"
      },
      "id": "KHO49jMfqh_Y"
    },
    {
      "cell_type": "markdown",
      "metadata": {
        "id": "0da56949"
      },
      "source": [
        "[TODO: Copy the explanation here]"
      ],
      "id": "0da56949"
    },
    {
      "cell_type": "markdown",
      "source": [
        "## Documentation\n",
        "Ask your AI assistant to **document** your code and add **inline comments** and **docstring** to the function. Run the cell defining the function again and click on the code cell below to see the documentation of your function"
      ],
      "metadata": {
        "id": "p8K2u7Q9Z5tz"
      },
      "id": "p8K2u7Q9Z5tz"
    },
    {
      "cell_type": "code",
      "source": [
        "print(is_valid_license_plate.__doc__)"
      ],
      "metadata": {
        "id": "Q2mGqIEMaj-k",
        "outputId": "e548f83b-ef7a-43ea-80c5-54f897b53950",
        "colab": {
          "base_uri": "https://localhost:8080/"
        }
      },
      "id": "Q2mGqIEMaj-k",
      "execution_count": null,
      "outputs": [
        {
          "output_type": "stream",
          "name": "stdout",
          "text": [
            "\n",
            "    Validates if a string is a valid Spanish license plate according to the format 'DDDD CCC'.\n",
            "\n",
            "    Args:\n",
            "        s: The input string to validate.\n",
            "\n",
            "    Returns:\n",
            "        True if the string is a valid Spanish license plate, False otherwise.\n",
            "    \n"
          ]
        }
      ]
    },
    {
      "cell_type": "markdown",
      "id": "a6240c1f",
      "metadata": {
        "id": "a6240c1f"
      },
      "source": [
        "## Prompt Journal (copy/paste your best prompts + short reflection)\n",
        "- *Prompt 1:* [copy your first prompt here]  \n",
        "- *Result & what changed in your code:* [Add a short reflection about the result]\n",
        "- *Prompt 2:* [copy your first prompt here]  \n",
        "- *Result & what changed in your code:* [Add a short reflection about the result]\n",
        "- *Prompt 3:* [copy your first prompt here]  \n",
        "- *Result & what changed in your code:* [Add a short reflection about the result]\n",
        "..."
      ]
    },
    {
      "cell_type": "markdown",
      "id": "674fc52b",
      "metadata": {
        "id": "674fc52b"
      },
      "source": [
        "## Reflection\n",
        "- How good was your AI assistant identifying edge cases? Did you add any edge case manually?\n",
        "- Did you get an understanding of how regular expressions work? How would you adapt the pattern to validate a slightly different license plate format (e.g., `B` prefix or 5 letters)? Can you think of other applications for regex?\n",
        "- How good was the explanations and documentation generated by your AI assistant? Can you enrich the documentation with additional information from the specifications?"
      ]
    }
  ],
  "metadata": {
    "colab": {
      "provenance": []
    },
    "language_info": {
      "name": "python"
    },
    "kernelspec": {
      "name": "python3",
      "display_name": "Python 3"
    }
  },
  "nbformat": 4,
  "nbformat_minor": 5
}