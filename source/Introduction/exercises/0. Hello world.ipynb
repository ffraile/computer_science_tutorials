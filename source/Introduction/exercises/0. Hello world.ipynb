{
 "cells": [
  {
   "cell_type": "markdown",
   "source": [
    "# Hello world exercises\n",
    "## Try me\n",
    "[![Open In Colab](https://colab.research.google.com/assets/colab-badge.svg)](https://colab.research.google.com/github/ffraile/computer_science_tutorials/blob/main/source/Introduction/exercises/0.%20Hello%20world.ipynb)[![Binder](https://mybinder.org/badge_logo.svg)](https://mybinder.org/v2/gh/ffraile/computer_science_tutorials/main?labpath=source%2FIntroduction%2Fexercises%2F0.%20Hello%20world.ipynb)\n",
    "\n",
    "## Exercises\n",
    "1. Write a small program that takes the user´s name and surname as inputs and prints a welcome message with the full name.\n"
   ],
   "metadata": {
    "collapsed": false
   }
  },
  {
   "cell_type": "code",
   "execution_count": null,
   "outputs": [],
   "source": [],
   "metadata": {
    "collapsed": false
   }
  },
  {
   "cell_type": "markdown",
   "source": [
    "2. Check the documentation of the Python built-in functions, and write a small program that takes two integer numbers as inputs and creates an imaginary number with one number as the real part and the other as the imaginary part.\n"
   ],
   "metadata": {
    "collapsed": false
   }
  },
  {
   "cell_type": "code",
   "execution_count": null,
   "outputs": [],
   "source": [],
   "metadata": {
    "collapsed": false
   }
  },
  {
   "cell_type": "markdown",
   "source": [
    "3. Check the documentation of the Python built-in functions, and write a small program that takes two integer numbers as inputs and prints the maximum.\n"
   ],
   "metadata": {
    "collapsed": false
   }
  },
  {
   "cell_type": "code",
   "execution_count": null,
   "outputs": [],
   "source": [],
   "metadata": {
    "collapsed": false
   }
  },
  {
   "cell_type": "markdown",
   "source": [
    "4. Check the documentation of the Python built-in functions, and write a small program that takes one integer number as input and prints the number in binary form.\n"
   ],
   "metadata": {
    "collapsed": false
   }
  },
  {
   "cell_type": "code",
   "execution_count": null,
   "outputs": [],
   "source": [],
   "metadata": {
    "collapsed": false
   }
  },
  {
   "cell_type": "markdown",
   "source": [
    "5. Check the documentation of the Python built-in functions, and write a small program that takes four integer numbers as input and prints the numbers in hexadecimal form separated by slashes e.g. ('0xff-0x2a-0x01-0xfe')."
   ],
   "metadata": {
    "collapsed": false
   }
  },
  {
   "cell_type": "code",
   "execution_count": null,
   "outputs": [],
   "source": [],
   "metadata": {
    "collapsed": false
   }
  },
  {
   "cell_type": "markdown",
   "source": [
    "## Analysis questions\n",
    "1. In exercise 1, How does your program concatenate the user's name and surname to create the full name? Can you think of a way to do it differently?\n",
    "\n",
    "2. In exercise 2, what happens if you try to create an imaginary number with a string as one of the inputs? How would you handle this situation?\n",
    "\n",
    "3."
   ],
   "metadata": {
    "collapsed": false
   }
  }
 ],
 "metadata": {
  "kernelspec": {
   "display_name": "Python 3",
   "language": "python",
   "name": "python3"
  },
  "language_info": {
   "codemirror_mode": {
    "name": "ipython",
    "version": 2
   },
   "file_extension": ".py",
   "mimetype": "text/x-python",
   "name": "python",
   "nbconvert_exporter": "python",
   "pygments_lexer": "ipython2",
   "version": "2.7.6"
  }
 },
 "nbformat": 4,
 "nbformat_minor": 0
}
