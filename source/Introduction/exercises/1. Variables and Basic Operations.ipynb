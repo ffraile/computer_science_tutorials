{
 "cells": [
  {
   "cell_type": "markdown",
   "source": [
    "1. Write down a Python script to define a complex variable named 'x', and another complex variable named 'y' and assign to a variable named 'z' the value of the sum of the imaginary parts of 'x' and 'y'"
   ],
   "metadata": {
    "pycharm": {
     "name": "#%% md\n"
    }
   }
  },
  {
   "cell_type": "markdown",
   "source": [
    "2. Write down a Python script to define a float variable named 'x' and another float variable named 'y' and a complex variable named 'z' whose real part is equal to the value of 'x' and the imaginary part equal to the value of 'y'"
   ],
   "metadata": {
    "pycharm": {
     "name": "#%% md\n"
    }
   }
  },
  {
   "cell_type": "markdown",
   "source": [
    "3. Define a string variable named 'my_string' and assign it the value \"Computer science is awesome!\". Check the documentation of the string functions and use a function to print a copy of the string with all cased characters converted to uppercase."
   ],
   "metadata": {
    "pycharm": {
     "name": "#%% md\n"
    }
   }
  },
  {
   "cell_type": "markdown",
   "source": [
    "4. Define a format string to print the real and imaginary parts of a complex number with two decimals."
   ],
   "metadata": {
    "pycharm": {
     "name": "#%% md\n"
    }
   }
  },
  {
   "cell_type": "markdown",
   "source": [
    "5. Write down a Python script to convert the value of temperatures provided in Fahrenheit to Celsius."
   ],
   "metadata": {
    "collapsed": false,
    "pycharm": {
     "name": "#%% md\n"
    }
   }
  },
  {
   "cell_type": "markdown",
   "source": [
    "6. Given a string variable that describes a genetic sequence (e.g: gen_sequence = “AATATTCGTGTTTTTTTCAAACTGTG”), use the string type built-in functions to determine the position of the first occurrence of the genome (genetic (sub)sequence) (“TCAA”)."
   ],
   "metadata": {
    "collapsed": false,
    "pycharm": {
     "name": "#%% md\n"
    }
   }
  },
  {
   "cell_type": "markdown",
   "source": [
    "7. Given a string variable that describes a genetic sequence (e.g: gen_sequence = \"AATATTCGTGTTTTTTTCAAACTGTG\"), use the string type built-in functions to replace any occurence of the sequence \"TCAA\" with the sequence \"TGCA\" and then, the sequence \"ATTC\" with the sequence \"GTCA\""
   ],
   "metadata": {
    "collapsed": false,
    "pycharm": {
     "name": "#%% md\n"
    }
   }
  },
  {
   "cell_type": "markdown",
   "source": [
    "8. Calculate the integer division (floor division) of an integer variable by 4 both using basic arithmetic operations and bitwise shift operations.\n"
   ],
   "metadata": {
    "collapsed": false,
    "pycharm": {
     "name": "#%% md\n"
    }
   }
  }
 ],
 "metadata": {
  "orig_nbformat": 4,
  "language_info": {
   "name": "python",
   "version": "3.8.1",
   "mimetype": "text/x-python",
   "codemirror_mode": {
    "name": "ipython",
    "version": 3
   },
   "pygments_lexer": "ipython3",
   "nbconvert_exporter": "python",
   "file_extension": ".py"
  },
  "kernelspec": {
   "name": "python3",
   "display_name": "Python 3.8.1 64-bit"
  },
  "interpreter": {
   "hash": "2db524e06e9f5f4ffedc911c917cb75e12dbc923643829bf417064a77eb14d37"
  }
 },
 "nbformat": 4,
 "nbformat_minor": 2
}