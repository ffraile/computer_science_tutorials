{
 "cells": [
  {
   "cell_type": "markdown",
   "source": [
    "# Variables and Basic Operations Exercises\n",
    "## Try me\n",
    "[![Open In Colab](https://colab.research.google.com/assets/colab-badge.svg)](https://colab.research.google.com/github/ffraile/computer_science_tutorials/blob/main/source/Introduction/exercises/1.%20Variables%20and%20Basic%20Operations.ipynb)[![Binder](https://mybinder.org/badge_logo.svg)](https://mybinder.org/v2/gh/ffraile/computer_science_tutorials/main?labpath=source%2FIntroduction%2Fexercises%2F1.%20Variables%20and%20Basic%20Operations.ipynb)\n",
    "\n",
    "## Exercises\n",
    "1. Write down a Python script to define a complex variable named 'x', and another complex variable named 'y' and assign to a variable named 'z' the value of the sum of the imaginary parts of 'x' and 'y'"
   ],
   "metadata": {}
  },
  {
   "cell_type": "code",
   "execution_count": null,
   "outputs": [],
   "source": [],
   "metadata": {
    "collapsed": false
   }
  },
  {
   "cell_type": "markdown",
   "source": [
    "2. Write down a Python script to convert the value of temperatures provided in Fahrenheit to Celsius."
   ],
   "metadata": {}
  },
  {
   "cell_type": "code",
   "execution_count": null,
   "outputs": [],
   "source": [],
   "metadata": {
    "collapsed": false
   }
  },
  {
   "cell_type": "markdown",
   "source": [
    "3. Define a string variable named 'my_string' and assign it the value \"Computer science is awesome!\". Check the documentation of the string functions and use a function to print a copy of the string with all characters converted to uppercase."
   ],
   "metadata": {
    "collapsed": false
   }
  },
  {
   "cell_type": "code",
   "execution_count": null,
   "outputs": [],
   "source": [],
   "metadata": {
    "collapsed": false
   }
  },
  {
   "cell_type": "markdown",
   "source": [
    "4. Given a string variable that describes a genetic sequence (e.g: gen_sequence = “AATATTCGTGTTTTTTTCAAACTGTG”), use the string type built-in functions to determine the position of the first occurrence of the genome (genetic (sub)sequence) (“TCAA”)."
   ],
   "metadata": {
    "collapsed": false
   }
  },
  {
   "cell_type": "code",
   "execution_count": null,
   "outputs": [],
   "source": [],
   "metadata": {
    "collapsed": false
   }
  },
  {
   "cell_type": "markdown",
   "source": [
    "5. Given a string variable that describes a genetic sequence (e.g: gen_sequence = \"AATATTCGTGTTTTTTTCAAACTGTG\"), use the string type built-in functions to replace any occurrence of the sequence \"TCAA\" with the sequence \"TGCA\" and then, the sequence \"ATTC\" with the sequence \"GTCA\""
   ],
   "metadata": {
    "collapsed": false
   }
  },
  {
   "cell_type": "code",
   "execution_count": null,
   "outputs": [],
   "source": [],
   "metadata": {
    "collapsed": false
   }
  },
  {
   "cell_type": "markdown",
   "source": [
    "6. Calculate the integer division (floor division) of an integer variable by 4 both using basic arithmetic operations and bitwise shift operations.\n"
   ],
   "metadata": {
    "collapsed": false
   }
  },
  {
   "cell_type": "code",
   "execution_count": null,
   "outputs": [],
   "source": [],
   "metadata": {
    "collapsed": false
   }
  },
  {
   "cell_type": "markdown",
   "source": [
    "## Analysis questions\n",
    "1. In exercise 1, how does your program handle the complex variables ```x```and ```y```? What is the type of the variable ```z``` (motivate your response)?\n",
    "\n",
    "2. In exercise 2, consider the case where the user enters a very large or very small temperature value. How might you modify the program to display the converted temperature in scientific notation or with a specific number of decimal places?\n",
    "3. In exercise 4, How can you tell if the genome sequence is not present in the genetic sequence? How can you handle this situation in your program?\n",
    "4.In exercise 6, Explain in your own words how the bitwise operations work. Which of the two alternatives do you think is more efficient? Why?\n",
    "5. In exercise 6, How might you modify the program to allow the user to input a divisor other than 4? What considerations would you need to take into account when using bitwise shift operations for a different divisor?\n"
   ],
   "metadata": {
    "collapsed": false
   }
  }
 ],
 "metadata": {
  "orig_nbformat": 4,
  "language_info": {
   "name": "python",
   "version": "3.8.1",
   "mimetype": "text/x-python",
   "codemirror_mode": {
    "name": "ipython",
    "version": 3
   },
   "pygments_lexer": "ipython3",
   "nbconvert_exporter": "python",
   "file_extension": ".py"
  },
  "kernelspec": {
   "name": "python3",
   "display_name": "Python 3.8.1 64-bit"
  },
  "interpreter": {
   "hash": "2db524e06e9f5f4ffedc911c917cb75e12dbc923643829bf417064a77eb14d37"
  }
 },
 "nbformat": 4,
 "nbformat_minor": 2
}
