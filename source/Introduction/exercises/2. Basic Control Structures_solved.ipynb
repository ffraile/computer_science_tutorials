{
 "cells": [
  {
   "cell_type": "markdown",
   "metadata": {},
   "source": [
    "# Basic Control Structures Exercises\n",
    "## Try me\n",
    "[![Open In Colab](https://colab.research.google.com/assets/colab-badge.svg)](https://colab.research.google.com/github/ffraile/computer_science_tutorials/blob/main/source/Introduction/exercises/2.%20Basic%20Control%20Structures.ipynb)[![Binder](https://mybinder.org/badge_logo.svg)](https://mybinder.org/v2/gh/ffraile/computer_science_tutorials/main?labpath=source%2FIntroduction%2Fexercises%2F2.%20Basic%20Control%20Structures.ipynb)"
   ]
  },
  {
   "cell_type": "markdown",
   "source": [
    "1. Develop a Python script that prints \"Yes, the weather is hot 🔥\" if the variable 'temperature' is greater than 30ª Celsius, and prints \"No, the weather is not hot 🧊\" otherwise. Use the input function to ask the user for the temperature."
   ],
   "metadata": {
    "collapsed": false
   }
  },
  {
   "cell_type": "code",
   "execution_count": null,
   "outputs": [],
   "source": [
    "temperature = float(input(\"Please enter the temperature in Celsius: \"))\n",
    "if temperature > 30:\n",
    "    print(\"Yes, the weather is hot 🔥\")\n",
    "else:\n",
    "    print(\"No, the weather is not hot 🧊\")"
   ],
   "metadata": {
    "collapsed": false
   }
  },
  {
   "cell_type": "markdown",
   "metadata": {},
   "source": [
    "2. Modify the previous script to take into account the humidity level in percentage as well. We will consider that the temperature is hot if the temperature is higher than 30ª Celsius, but also if the temperature is higher than 24ª Celsius and the humidity is higher than 60%. Use a logical operator to combine the two conditions, and use the input function to ask the user for the humidity level."
   ]
  },
  {
   "cell_type": "code",
   "execution_count": null,
   "outputs": [],
   "source": [
    "temperature = float(input(\"Please enter the temperature in Celsius: \"))\n",
    "humidity = float(input(\"Please enter the humidity level in percentage (%): \"))\n",
    "if temperature > 30:\n",
    "    print(\"Yes, the weather is hot 🔥\")\n",
    "elif temperature > 24 and humidity > 60:\n",
    "    print(\"Yes, the weather is hot 🔥\")\n",
    "else:\n",
    "    print(\"No, the weather is not hot 🧊\")"
   ],
   "metadata": {
    "collapsed": false
   }
  },
  {
   "cell_type": "markdown",
   "metadata": {},
   "source": [
    "3. Complete the following Python script so that it exists a while loop when the input provided by the user, stored in the variable \"your_guess\" is equal to the variable \"my_name\""
   ]
  },
  {
   "cell_type": "code",
   "execution_count": null,
   "metadata": {},
   "outputs": [],
   "source": [
    "my_name = \"Thomas\"\n",
    "your_guess = \"\"\n",
    "while your_guess != my_name:\n",
    "    your_guess = input(\"What is my name? \")\n",
    "    if your_guess == my_name:\n",
    "        print(\"Yes, that is my name!\")\n",
    "        break\n",
    "    else:\n",
    "        print(\"No, that is not my name!\")\n"
   ]
  },
  {
   "cell_type": "markdown",
   "metadata": {},
   "source": [
    "4. Build a while loop to print the even numbers from 1 to 20 in reverse order"
   ]
  },
  {
   "cell_type": "code",
   "execution_count": null,
   "outputs": [],
   "source": [
    "counter = 20\n",
    "while counter > 0:\n",
    "    if counter % 2 == 0:\n",
    "        print(counter)\n",
    "    counter -= 1 # This is the same as counter = counter - 1"
   ],
   "metadata": {
    "collapsed": false
   }
  },
  {
   "cell_type": "markdown",
   "metadata": {},
   "source": [
    "5. [Optional] Modify the previous exercise to print odd numbers from 1 to 19 instead, not in reverse order, only if they cannot be divided by a previous odd number except one. For example, the number 9 is a multiple of 3, which is a previous odd number, so your script should not print 9. However, the number 11 is not a multiple of 3, so your script should print 11. The sequence should be 1, 3, 5, 7, 11, 13, 17, 19.\n",
    "Hint: you can use a boolean variable to check if a number can be divided by a previous odd number."
   ]
  },
  {
   "cell_type": "code",
   "execution_count": null,
   "outputs": [],
   "source": [
    "counter = 1\n",
    "while counter <= 19:\n",
    "    if counter % 2 == 1: # This means that the number is odd\n",
    "        counter_2 = 1 # This is the counter to check if the number is a multiple of a previous odd number\n",
    "        is_prime = True # This is a flag to check if the number is a prime number\n",
    "        while counter_2 < counter:\n",
    "            if counter % counter_2 == 0 and counter_2 != 1:\n",
    "                is_prime = False\n",
    "                break # This is the break statement to exit the inner while loop\n",
    "            counter_2 += 2 # This is the same as counter_2 = counter_2 + 2\n",
    "        if is_prime:\n",
    "            print(counter)\n",
    "    counter += 1 # This is the same as counter = counter + 1"
   ],
   "metadata": {
    "collapsed": false,
    "pycharm": {
     "is_executing": true
    }
   }
  },
  {
   "cell_type": "markdown",
   "source": [
    "# Analysis Questions\n",
    "1. In exercise 1, what happens if the user inputs a temperature of 30ºC? Explain in your own words how would you modify the script to improve it.\n",
    "\n",
    "If the user enters a value of exactly 30ºC, the script will print \"No, the weather is not hot 🧊\". However, 30ºC is a hot temperature, so the script should print \"Yes, the weather is hot 🔥\". To fix this, we could change the condition to \"temperature >= 30\", but it will not change the functionality significantly. A better solution would be to have more granular conditions, for example, \"temperature >= 30 and temperature < 35\" to print \"Yes, the weather is hot 🔥\" and \"temperature >= 35\" to print \"Yes, the weather is very hot 🔥🔥🔥\", or for instance, modify the script to change the number of emojis depending on the temperature, such as in this snippet:\n",
    "\n",
    "```python\n",
    "temperature = float(input(\"Please enter the temperature in Celsius: \"))\n",
    "flame = \"🔥\"\n",
    "ice_cube = \"🧊\"\n",
    "if temperature >= 20:\n",
    "    print(\"The weather is warm\" + flame * ((round(temperature) - 20)//5))\n",
    "elif temperature <= 15:\n",
    "    print(\"The weather is cold\" + ice_cube * ((15 - round(temperature))//5))\n",
    "else:\n",
    "    print(\"The temperature is normal\")\n",
    "```\n",
    "Note that this solution repeats the emojis an integer number of times, which is the integer division of the difference between the temperature rounded to the nearest integer and a temperatures threshold and 5. For instance, if the user enters 40.1ºC, the script will print \"The weather is warm🔥🔥🔥🔥 because 40.1 rounded to the closest integer is 40, and 40 - 20 = 20, and 20//5 = 4, so the script will print 4 times the flame emoji.\n",
    "\n",
    "2. In exercise 2, How could you take into account other weather conditions, such as rain or wind? Do you think that this solution is scalable? (scalable means that it can be easily modified to add more conditions)\n",
    "\n",
    "We could add more conditions to the if statement, for example, \"temperature > 30 and humidity > 60 and rain == True and wind > 20\". However, this solution is not very scalable, as we would need to add more conditions to the if statement every time we want to add a new weather condition. A better solution would be to use other structures, such as dictionaries, which we will cover in next sections.\n",
    "\n",
    "3. In exercise 3, what happens if the user inputs \"Thomas\" instead of \"thomas\"? Explain in your own words how could you use string built-in functions to make the script more robust. In this context, robust means that the script can handle different inputs and still behave as expected.\n",
    "\n",
    "We could for instance use the string built-in function \"lower\" to convert the input to lowercase, and then compare the input with the variable \"my_name\", which is already in lowercase. For example, we could modify the script as follows:\n",
    "\n",
    "\n",
    "4. In exercise 3, How could you count the number of attempts that the user needs to guess the name? Also, how could you give hints depending on the number of attempts?\n",
    "\n",
    "We could use a counter variable to count the number of attempts, and then print the number of attempts after the user guesses the name. For example, we could modify the script as follows:\n",
    "\n",
    "```python\n",
    "my_name = \"thomas\"\n",
    "your_guess = \"\"\n",
    "counter = 0\n",
    "while your_guess != my_name:\n",
    "    your_guess = input(\"What is my name? \")\n",
    "    if your_guess == my_name:\n",
    "        print(\"Yes, that is my name!\")\n",
    "        break\n",
    "    else:\n",
    "        print(\"No, that is not my name!\")\n",
    "        counter += 1\n",
    "print(\"You needed \" + str(counter) + \" attempts to guess my name\")\n",
    "```\n",
    "You could also give hints using the counter variable, showing some of the characters to the user if the number of attempts is greater than a certain threshold.\n",
    "For instance, show the first two characters if the number of attempts is greater than 5, show the first three characters if the number of attempts is greater than 10, and so on.\n",
    "\n",
    "5. In exercise 5, how would you modify the code to reduce the number of iterations of the while loop? Explain in your own words how would you modify the script to improve it.\n",
    "\n",
    "We could reduce the number of iterations of the outer loop by incrementing the counter in 2 instead of 1. We could also reduce the number of iterations of the inner loop just by trying the odd numbers that are less or equal than the square root of the number, as the result will be the same, but the number of iterations will be reduced."
   ],
   "metadata": {
    "collapsed": false
   }
  }
 ],
 "metadata": {
  "language_info": {
   "name": "python"
  },
  "orig_nbformat": 4
 },
 "nbformat": 4,
 "nbformat_minor": 2
}
