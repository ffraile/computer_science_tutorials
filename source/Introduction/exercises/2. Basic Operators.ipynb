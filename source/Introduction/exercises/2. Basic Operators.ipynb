{
 "cells": [
  {
   "cell_type": "markdown",
   "source": [
    "1. Write down a Python formula to convert the value of a variable 'celsius_temp' that indicates temperature in Celsius degrees into Fahrenheit degrees and assign the value to a variable named 'fahrenheit_temp'"
   ],
   "metadata": {}
  },
  {
   "cell_type": "markdown",
   "source": [
    "2. Given a string variable that describes a genetic sequence (e.g: gen_sequence = \"AATATTCGTGTTTTTTTCAAACTGTG\"), use the string type built-in functions to determine the position of the first occurence of the genetic (sub)sequence (\"TCAA\")."
   ],
   "metadata": {}
  },
  {
   "cell_type": "markdown",
   "source": [
    "3. Given a string variable that describes a genetic sequence (e.g: gen_sequence = \"AATATTCGTGTTTTTTTCAAACTGTG\"), use the string type built-in functions to replace any occurence of the sequence \"TCAA\" with the sequence \"TGCA\" and then, the sequence \"ATTC\" with the sequence \"GTCA\""
   ],
   "metadata": {}
  },
  {
   "cell_type": "markdown",
   "source": [
    "4. Calculate the integer division (floor division) of an integer variable by 4 both using basic arithmetic operations and bitwise shift operations."
   ],
   "metadata": {}
  },
  {
   "cell_type": "markdown",
   "source": [
    "5. Write down a format string that shows a number, its integer division by 2, and the remainder of the division, all of them in binary format (e.g. \"0b111 divided by 0b10 is 0b11 and the remainder is 0b1\")"
   ],
   "metadata": {}
  }
 ],
 "metadata": {
  "orig_nbformat": 4,
  "language_info": {
   "name": "python"
  }
 },
 "nbformat": 4,
 "nbformat_minor": 2
}