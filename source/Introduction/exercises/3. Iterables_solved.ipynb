{
 "cells": [
  {
   "cell_type": "markdown",
   "source": [
    "# Iterables Exercises\n",
    "## Try me\n",
    "[![Open In Colab](https://colab.research.google.com/assets/colab-badge.svg)](https://colab.research.google.com/github/ffraile/computer_science_tutorials/blob/main/source/Introduction/exercises/3.%20Iterables.ipynb)[![Binder](https://mybinder.org/badge_logo.svg)](https://mybinder.org/v2/gh/ffraile/computer_science_tutorials/main?labpath=source%2FIntroduction%2Fexercises%2F3.%20Iterables.ipynb)\n",
    "\n",
    "1. Create a list where each member is a word of the sentence \"Welcome to Computer Science 101\""
   ],
   "metadata": {
    "collapsed": false
   }
  },
  {
   "cell_type": "code",
   "execution_count": null,
   "outputs": [],
   "source": [
    "word_list = [\"Welcome\", \"to\", \"Computer\", \"Science\", \"101\"]"
   ],
   "metadata": {
    "collapsed": false
   }
  },
  {
   "cell_type": "markdown",
   "source": [
    "2. Iterate on the array created above and use indexing in each member to print the first character of each word"
   ],
   "metadata": {
    "collapsed": false
   }
  },
  {
   "cell_type": "code",
   "execution_count": null,
   "outputs": [],
   "source": [
    "for word in word_list:\n",
    "    print(word[0])"
   ],
   "metadata": {
    "collapsed": false
   }
  },
  {
   "cell_type": "markdown",
   "source": [
    "3. Use the ```in``` operator to determine if the word \"Science\" is in the list created in exercise 1."
   ],
   "metadata": {
    "collapsed": false
   }
  },
  {
   "cell_type": "code",
   "execution_count": null,
   "outputs": [],
   "source": [
    "if \"Science\" in word_list:\n",
    "    print(\"Science is in the list\")\n",
    "else:\n",
    "    print(\"Science is not in the list\")"
   ],
   "metadata": {
    "collapsed": false
   }
  },
  {
   "cell_type": "markdown",
   "source": [
    "4. Given a string variable of arbitrary length named 'my_string', write down a script to obtain the characters two by two in reverse order."
   ],
   "metadata": {
    "collapsed": false
   }
  },
  {
   "cell_type": "code",
   "execution_count": null,
   "outputs": [],
   "source": [
    "my_string = \"This is a string\"\n",
    "my_string_reverse = my_string[::-2]\n",
    "print(my_string_reverse)"
   ],
   "metadata": {
    "collapsed": false
   }
  },
  {
   "cell_type": "markdown",
   "source": [
    "5. Given two lists containing integers of the same length, obtain another list where the values in even index i is the sum of i-th values of the arrays and the values in odd index j is the substraction of the j-th values of the arrays."
   ],
   "metadata": {
    "collapsed": false
   }
  },
  {
   "cell_type": "code",
   "execution_count": null,
   "outputs": [],
   "source": [
    "one_list = [1, 2, 3, 4, 5]\n",
    "another_list = [6, 7, 8, 9, 10]\n",
    "result_list = []\n",
    "for i in range(len(one_list)):\n",
    "    if i % 2 == 0:\n",
    "        result_list.append(one_list[i] + another_list[i])\n",
    "    else:\n",
    "        result_list.append(one_list[i] - another_list[i])"
   ],
   "metadata": {
    "collapsed": false
   }
  },
  {
   "cell_type": "markdown",
   "source": [
    "## Analysis questions\n",
    "1. In exercise 1, how did you create the list? Did you consider any other ways to do it? (Tip: check the ```split``` method of the ```str``` class)\n",
    "In exercise 1, the list was created by directly assigning the values to the list. Another way to do it would be to use the ```split``` method of the ```str``` class. This method returns a list of strings, where each string is a substring of the original string separated by the character passed as argument. In this case, the character is a space. The code would be:\n",
    "```python\n",
    "word_list = \"Welcome to Computer Science 101\".split(\" \")\n",
    "```\n",
    "\n",
    "2. In exercise 2, how did you iterate on the list? If you used a for loop, explain why it is necessary and how it simplifies the task of accessing and printing the first characters of each word.\n",
    "\n",
    "In exercise 2, the list was iterated using a for loop. This is the most common way to iterate on a list. The for loop iterates on each element of the list, and assigns the value of the element to the variable ```word```. This way, the first character of each word can be accessed using the index ```0``` of the variable ```word```.\n",
    "\n",
    "3. In exercise 3, Could you use the ```not``` operator instead of the ```in``` operator to achieve the same result?\n",
    "\n",
    "It is not very straightforward, but the code could be written as:\n",
    "```python\n",
    "if \"Science\" not in word_list:\n",
    "    print(\"Science is not in the list\")\n",
    "else:\n",
    "    print(\"Science is in the list\")\n",
    "```\n",
    "The result is the same, but the code is less readable.\n",
    "\n",
    "4. In exercise 4, how did you obtain the characters two by two? And how did you reverse the order?\n",
    "Using a slicing step of -2, it is possible to obtain the characters 2 by 2 and in reverse order. The slicing step is the third argument of the slicing operator, and it indicates the step of the slicing. In this case, the step is -2, which means that the slicing starts from the end of the string and goes backwards 2 by 2.\n",
    "\n",
    "5. In exercise 5, How did you determine which values to sum and which to substract?\n",
    "\n",
    "We used the modulo operator with 2 as the right operand (```%2```). This operation returns 0 for even numbers and 1 for odd numbers, so we can effectively determine if the index is even or odd. With this information we can control the operation: If the index is even, we sum the values, and if it is odd, we substract them."
   ],
   "metadata": {
    "collapsed": false
   }
  }
 ],
 "metadata": {
  "orig_nbformat": 4,
  "language_info": {
   "name": "python"
  }
 },
 "nbformat": 4,
 "nbformat_minor": 2
}
