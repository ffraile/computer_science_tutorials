{
 "cells": [
  {
   "cell_type": "markdown",
   "id": "e175673d",
   "metadata": {},
   "source": [
    "# Class Notes — Boolean Variables, Basic Control Structures & Iterables\n",
    "\n",
    "**Goals**\n",
    "- Use boolean values and expressions in decisions.\n",
    "- Write and trace `if / elif / else`.\n",
    "- Use `while` loops (with `break` / `continue`) safely.\n",
    "- Work with lists (iterables), indexing, and slicing.\n",
    "- Iterate with `for` over sequences to process data."
   ]
  },
  {
   "cell_type": "markdown",
   "id": "3a61ed5e",
   "metadata": {},
   "source": [
    "> **Online reference:** [Lecture materials](https://computer-science-tutorials.readthedocs.io/en/latest/Introduction/index_p1.html#control-structures-and-iterable-objects-i)"
   ]
  },
  {
   "cell_type": "markdown",
   "id": "7ad28227",
   "metadata": {},
   "source": [
    "## 0) Boolean Basics (recap)\n",
    "\n",
    "**Values:** `True`, `False`  \n",
    "**Comparisons:** `== != < <= > >=` (return booleans)  \n",
    "**Logical operators:** `and`, `or`, `not` (short‑circuit)  \n",
    "**Truthiness (common falsey):** `0`, `0.0`, `\"\"`, `[]`, `{}`, `None`\n",
    "\n",
    "**Examples**"
   ]
  },
  {
   "cell_type": "code",
   "execution_count": null,
   "id": "c79c425f",
   "metadata": {},
   "outputs": [],
   "source": [
    "x = 18\n",
    "print(18 <= x < 65)  # chained comparisons\n",
    "print(bool(\"\"), bool(\"False\"))  # empty vs non-empty string"
   ]
  },
  {
   "cell_type": "markdown",
   "id": "87798afb",
   "metadata": {},
   "source": [
    "## 1) Basic Control Structures\n",
    "\n",
    "### 1.1 `if / else` (branching or Selection)\n",
    "\n",
    "**Definition:** Execute a block **only if** a condition is `True`.  \n",
    "**Syntax:**\n",
    "```python\n",
    "if condition:\n",
    "    # block A (executes when condition is True)\n",
    "else:                 # optional\n",
    "    # block B (executes when condition is False)\n",
    "```\n",
    "**Important**\n",
    "- **Indentation defines the block.**\n",
    "- The condition must evaluate to a boolean (or truthy/falsey)."
   ]
  },
  {
   "cell_type": "code",
   "execution_count": null,
   "id": "bd8378b0",
   "metadata": {},
   "outputs": [],
   "source": [
    "\n",
    "# Example: simple thermostat decision\n",
    "temp = 18\n",
    "if temp < 19:\n",
    "    action = \"HEAT_ON\"\n",
    "else:\n",
    "    action = \"COMFY_OR_COOL\"\n",
    "print(action)"
   ]
  },
  {
   "cell_type": "markdown",
   "id": "03bcfc1a",
   "metadata": {},
   "source": [
    "### 1.2 `elif` (multiple branches)\n",
    "\n",
    "**Definition:** Chain mutually‑exclusive conditions in priority order.\n",
    "**Syntax:**\n",
    "```python\n",
    "if cond1:\n",
    "    ...\n",
    "elif cond2:\n",
    "    ...\n",
    "else:\n",
    "    ...\n",
    "```\n",
    "**Important**\n",
    "- Conditions are checked **top‑down**; first `True` branch runs; the rest are skipped.\n",
    "- Boundaries matter—use `<=`/`>=` deliberately."
   ]
  },
  {
   "cell_type": "code",
   "execution_count": null,
   "id": "3794abbb",
   "metadata": {},
   "outputs": [],
   "source": [
    "\n",
    "# Example: check if odd even or zero\n",
    "n = int(input(\"Enter a number: \"))\n",
    "if n == 0:\n",
    "    print(\"You entered 0\")\n",
    "elif n % 2 == 0:\n",
    "    print(\"You entered an even number \")\n",
    "else:\n",
    "    print(\"You entered an odd number \")"
   ]
  },
  {
   "cell_type": "markdown",
   "id": "96cc61b9",
   "metadata": {},
   "source": [
    "### 1.3 Compound conditionals\n",
    "\n",
    "Combine conditions with boolean operators. Use **parentheses** for clarity."
   ]
  },
  {
   "cell_type": "code",
   "execution_count": null,
   "id": "06b3b05a",
   "metadata": {},
   "outputs": [],
   "source": [
    "\n",
    "x, y = 3, 5\n",
    "if (x == 3) and (y == 5):\n",
    "    print(\"Both match\")\n",
    "if (x == 3) or (y == 4):\n",
    "    print(\"At least one condition is true\")"
   ]
  },
  {
   "cell_type": "markdown",
   "id": "93d8e639",
   "metadata": {},
   "source": [
    "## 2) `while` Loops\n",
    "\n",
    "**Definition:** Repeat a block **while** a condition remains `True`.  \n",
    "**Syntax:**\n",
    "```python\n",
    "while condition:\n",
    "    # loop body\n",
    "    # executed while the condition is True\n",
    "    # condition is re-evaluated each iteration\n",
    "```\n",
    "**Important**\n",
    "- Ensure the loop **eventually stops** (update variables, read input, etc.).\n",
    "- Use `break` to exit early; `continue` to skip to next iteration."
   ]
  },
  {
   "cell_type": "code",
   "execution_count": null,
   "id": "41b1c445",
   "metadata": {},
   "outputs": [],
   "source": [
    "\n",
    "# Example: echo until user types 'quit' (safe sentinel pattern)\n",
    "while True:\n",
    "    msg = input(\"Say something ('quit' to stop): \")\n",
    "    if msg.strip().lower() == \"quit\":\n",
    "        break                 # exit the loop\n",
    "    if not msg:               # empty input? skip\n",
    "        continue\n",
    "    print(\"You said:\", msg)\n",
    "print(\"Bye!\")"
   ]
  },
  {
   "cell_type": "markdown",
   "id": "6281a5bd",
   "metadata": {},
   "source": [
    "**`break` / `continue` demo**"
   ]
  },
  {
   "cell_type": "code",
   "execution_count": null,
   "id": "656bb51f",
   "metadata": {},
   "outputs": [],
   "source": [
    "\n",
    "x = 0\n",
    "y = 0\n",
    "while x < 5:\n",
    "    x += 1\n",
    "    if x % 2 == 0:        # even\n",
    "        print(x, \"is even\")\n",
    "        continue          # go to next iteration (skip y += x)\n",
    "    y += x                # odd: accumulate\n",
    "print(\"Sum of odd numbers 1..5 is\", y)"
   ]
  },
  {
   "cell_type": "markdown",
   "id": "e7f203ec",
   "metadata": {},
   "source": [
    "## 3) Iterables: Lists\n",
    "\n",
    "**Definition:** Ordered, indexable, mutable collection.  \n",
    "**Create:** `lst = [a, b, c]` • Empty: `[]` • Length: `len(lst)`  \n",
    "**Indexing:** `lst[i]` (0-based) • Negative index from end: `lst[-1]`\n",
    "\n",
    "**Common ops:** `append`, `pop`, `insert`, `remove`, `in`, `count`"
   ]
  },
  {
   "cell_type": "code",
   "execution_count": null,
   "id": "c1ed9798",
   "metadata": {},
   "outputs": [],
   "source": [
    "\n",
    "row = [\"A\", \"B\", \"C\"]\n",
    "print(len(row), row[0], row[-1])  # 3 A C\n",
    "row.append(\"D\")\n",
    "print(row)   # [\"A\", \"B\", \"C\", D]"
   ]
  },
  {
   "cell_type": "markdown",
   "id": "8941de0a",
   "metadata": {},
   "source": [
    "### 3.1 Slicing\n",
    "\n",
    "**Syntax:** `seq[start:stop:step]` slices seq from start to stop with step 8stop**excluded**)\n",
    "Omitted parts default to start, step 1, or end of the sequence.\n",
    "Use negative step to go backwards"
   ]
  },
  {
   "cell_type": "code",
   "execution_count": null,
   "id": "8351a38c",
   "metadata": {},
   "outputs": [],
   "source": [
    "s = [\"A\",\"B\",\"C\",\"D\",\"E\",\"F\"]\n",
    "print(s[1:4])     # ['B','C','D']\n",
    "print(s[:3])      # first three\n",
    "print(s[3:])      # from index 3 to end\n",
    "print(s[::2])     # every 2nd\n",
    "print(s[::-1])    # reversed copy"
   ]
  },
  {
   "cell_type": "markdown",
   "id": "c1a45f3d",
   "metadata": {},
   "source": [
    "## 4) `for` Loops\n",
    "\n",
    "**Definition:** Iterate over the elements of an iterable.  \n",
    "**Syntax:**\n",
    "```python\n",
    "for element in iterable:\n",
    "    # use element\n",
    "```\n",
    "**Tips**\n",
    "- Use `for name in names:` to get items; use `enumerate(iterable)` when you also need the index."
   ]
  },
  {
   "cell_type": "code",
   "execution_count": null,
   "id": "fd14bed4",
   "metadata": {},
   "outputs": [],
   "source": [
    "\n",
    "names = [\"Tony Stark\", \"Bruce Banner\", \"Thor Odinson\"]\n",
    "for full in names:\n",
    "    print(full) #prints names in different lines\n",
    "\n",
    "for i, full in enumerate(names, start=1):\n",
    "    print(i, full)"
   ]
  },
  {
   "metadata": {},
   "cell_type": "markdown",
   "source": [
    "### 4.1 Range\n",
    "The ```range``` function is a built-in function widely used in combination with for loops.\n",
    "- Use `range(n)` to loop a specific number of times.\n",
    "- Use `range(start,stop,step) as in slicing to generate a specific numeric sequence"
   ],
   "id": "987ffad8fcf36b7c"
  },
  {
   "metadata": {},
   "cell_type": "code",
   "outputs": [],
   "execution_count": null,
   "source": [
    "for i in range(5):\n",
    "    print(i)        # prints 0, 1, 2, 3, 4\n",
    "\n",
    "for i in range(1,7,2):\n",
    "    print(i)        # prints (1, 3, 5)"
   ],
   "id": "48d9ded30415f822"
  },
  {
   "cell_type": "markdown",
   "id": "5b0c96bf",
   "metadata": {},
   "source": [
    "### 4.2 Real‑world example: corporate emails\n",
    "\n",
    "**Rule:** first initial + surname (lowercase, no spaces/hyphens) + `@stark_company.com`"
   ]
  },
  {
   "cell_type": "code",
   "execution_count": null,
   "id": "838a3370",
   "metadata": {},
   "outputs": [],
   "source": [
    "\n",
    "from typing import List\n",
    "\n",
    "def email_for(fullname: str) -> str:\n",
    "    first, *rest = fullname.split()\n",
    "    surname = (rest[-1] if rest else first).replace(\"-\", \"\").replace(\" \", \"\").lower()\n",
    "    return f\"{first[0].lower()}{surname}@stark_company.com\"\n",
    "\n",
    "roster: List[str] = [\"Pepper Potts\",\"Happy Hogan\",\"Natasha Romanoff\"]\n",
    "emails = [email_for(n) for n in roster]\n",
    "print(emails)"
   ]
  },
  {
   "cell_type": "markdown",
   "id": "31887433",
   "metadata": {},
   "source": [
    "## 5) Quick Checks (self‑test)\n",
    "\n",
    "1) What does this print and **why**?\n",
    "```python\n",
    "x = 20\n",
    "if x < 20:\n",
    "    msg = \"A\"\n",
    "elif x <= 20:\n",
    "    msg = \"B\"\n",
    "else:\n",
    "    msg = \"C\"\n",
    "print(msg)\n",
    "```\n",
    "2) Write a loop that sums only the **even** numbers in `nums = [0,1,2,3,4,5]`.  \n",
    "3) Slice `letters = list(\"ABCDEFG\")` to get `[\"C\",\"D\",\"E\"]`.  \n",
    "4) Turn the rule “`age` between 18 and 64 inclusive” into a single boolean expression."
   ]
  },
  {
   "cell_type": "code",
   "execution_count": null,
   "id": "c4a90969",
   "metadata": {},
   "outputs": [],
   "source": [
    "\n",
    "# Try your answers here\n",
    "\n",
    "# 1) Prediction first, then run to check:\n",
    "x = 20\n",
    "if x < 20:\n",
    "    msg = \"A\"\n",
    "elif x <= 20:\n",
    "    msg = \"B\"\n",
    "else:\n",
    "    msg = \"C\"\n",
    "print(\"Q1:\", msg)\n",
    "\n",
    "# 2) Sum of evens\n",
    "nums = [0,1,2,3,4,5]\n",
    "even_total = 0\n",
    "for n in nums:\n",
    "    if n % 2 == 0:\n",
    "        even_total += n\n",
    "print(\"Q2 (even sum):\", even_total)\n",
    "\n",
    "# 3) Slicing\n",
    "letters = list(\"ABCDEFG\")\n",
    "print(\"Q3:\", letters[2:5])\n",
    "\n",
    "# 4) Boolean expression\n",
    "age = 30\n",
    "in_working = (18 <= age <= 64)\n",
    "print(\"Q4:\", in_working)"
   ]
  }
 ],
 "metadata": {},
 "nbformat": 4,
 "nbformat_minor": 5
}
