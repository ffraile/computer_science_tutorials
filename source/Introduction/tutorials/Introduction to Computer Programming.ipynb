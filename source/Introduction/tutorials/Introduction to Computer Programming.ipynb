{
 "cells": [
  {
   "cell_type": "markdown",
   "source": [
    "# Introduction\n",
    "If you are completely new to computer programming, you should definitely start here. This notebook will help you get started with the basics of programming in Python.\n",
    "\n",
    "## Computer Programming and programming languages\n",
    "\n",
    "Computer programming is the process of designing and building a **computer program**, which is just a **set of instructions** that a computer will follow to perform a specific task. So, in a way, computer programming is the science of telling a computer what to do. By looking at what computers do nowadays, it is clear that computer programming is quite powerful and has many applications.\n",
    "\n",
    "Computer programs - the set of instructions mentioned above - are written in a programming language, such as **Python**. Python is one out of many (thousands) of **programming languages** that are available for us to learn. For now, the word that is important in the definition above is **language**, a term that refers to a method of human communication. So, programming languages are fundamentally methods to communicate humans with computers. We know that ultimately, machines speak in digital binary codes (very long sequences of 1's and 0's), known as machine code or **machine language**. Conversely, we know that humans express thoughts in what is known as **natural language**, languages that have evolved naturally throughout human history. Both forms of languages seem a priori radically different, don´t you agree? Luckily for us, computer programming languages are evolving towards natural language, they are becoming more human-friendly, even so that some computers are able to understand commands in natural language. This is a big step from [punched cards](https://en.wikipedia.org/wiki/Punched_card) (pieces of plastic used to write down the first computer programs) or [assembly language](https://en.wikipedia.org/wiki/Assembly_language) (a language with a strong correspondence with the computing processing unit instruction set), and we have to be very thankful for that to the many awesome people who have contributed to this outstanding evolution!\n",
    "\n",
    "It follows that modern computer programs like Python are going to be somewhere in between machine language and natural language. In fact, we can regard programming languages as *proxy* languages between (high-level) specifications that describe what we want to implement and the machine language that is finally executed in the computer. In this sense, software engineering is for the most part a *translation* process. But, there is another reflection that can be made: If computers are learning to understand human language, why should we bother to learn any other intermediate language to express what we want? Well, if you are still reading this interactive book after this thought, let us first quote Steve Jobs, one of the main drivers of computer science:\n",
    "\n",
    ">Everybody in this country should learn how to program a computer... because it teaches you how to think\n",
    "\n",
    "Indeed, bear in mind that computer programs are specifically design to structure human thoughts so that they can be passed to a machine so that it performs a very specific task. Learning how to program is to a great extent equivalent to learning how to structure our thoughts so that they can be passed and interpreted in an effective way. In this sense, learning a programming language is going to help us structure our thoughts, *engineer* our thoughts into a set of precise instructions. We will find that this transformation process is useful to organise our thoughts even outside the scope of computer programming. Along these lines, did you know that there is a field of linguistics that studies how [language affects the way we think](https://www.nytimes.com/2010/08/29/magazine/29language-t.html)? Research provides evidence that language shapes our thoughts, in the sense that it forces us to specify certain types of information while others can be left to the context, so we need to pay attention to specific aspects of what we want to describe. Learning programming languages definitively shapes the way we think, helping us place the focus in the important functional aspects of the problem we want to solve.\n",
    "\n",
    "Another relevant argument in favour of learning computer programming is that, well, computers are everywhere! Just as with human communications, even if they are learning our natural languages, it is important for us to understand how they think, and to be able to express what we want in a language that is closer to theirs, because in both cases this is going to make our communication with computers a lot more efficient.\n",
    "\n",
    "\n"
   ],
   "metadata": {
    "collapsed": false,
    "pycharm": {
     "name": "#%% md\n"
    }
   }
  },
  {
   "cell_type": "markdown",
   "source": [],
   "metadata": {
    "collapsed": false,
    "pycharm": {
     "name": "#%% md\n"
    }
   }
  },
  {
   "cell_type": "code",
   "execution_count": null,
   "outputs": [],
   "source": [],
   "metadata": {
    "collapsed": false,
    "pycharm": {
     "name": "#%%\n"
    }
   }
  },
  {
   "cell_type": "code",
   "execution_count": null,
   "outputs": [],
   "source": [],
   "metadata": {
    "collapsed": false,
    "pycharm": {
     "name": "#%%\n"
    }
   }
  }
 ],
 "metadata": {
  "kernelspec": {
   "display_name": "Python 3",
   "language": "python",
   "name": "python3"
  },
  "language_info": {
   "codemirror_mode": {
    "name": "ipython",
    "version": 2
   },
   "file_extension": ".py",
   "mimetype": "text/x-python",
   "name": "python",
   "nbconvert_exporter": "python",
   "pygments_lexer": "ipython2",
   "version": "2.7.6"
  }
 },
 "nbformat": 4,
 "nbformat_minor": 0
}