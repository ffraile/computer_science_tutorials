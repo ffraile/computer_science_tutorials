{
 "cells": [
  {
   "cell_type": "markdown",
   "source": [
    "# Introduction\n",
    "If you are completely new to computer programming, you should definitely start here. This notebook will help you get started with the basics of programming in Python.\n",
    "\n",
    "## Computer Programming and programming languages\n",
    "\n",
    "Computer programming is the process of designing and building a **computer program**, which is just a **set of instructions** that a computer will follow to perform a specific task. So, in a way, computer programming is the science of telling a computer what to do. By looking at what computers do nowadays, it is clear that computer programming is quite powerful and has many applications.\n",
    "\n",
    "Computer programs - the set of instructions mentioned above - are written in a programming language, such as **Python**. Python is one out of many (thousands) of **programming languages** that are available for us to learn. For now, the word that is important in the definition above is **language**, a term that refers to a method of human communication. So, programming languages are fundamentally methods to communicate humans with computers. We know that ultimately, machines speak in digital binary codes (very long sequences of 1's and 0's), known as machine code or **machine language**. Conversely, we know that humans express thoughts in what is known as **natural language**, languages that have evolved naturally throughout human history. Both forms of languages seem a priori radically different, don´t you agree? Luckily for us, computer programming languages are evolving towards natural language, they are becoming more human-friendly, even so that some computers are able to understand commands in natural language. This is a big step from [punched cards](https://en.wikipedia.org/wiki/Punched_card) (pieces of plastic used to write down the first computer programs) or [assembly language](https://en.wikipedia.org/wiki/Assembly_language) (a language with a strong correspondence with the computing processing unit instruction set), and we have to be very thankful for that to the many awesome people who have contributed to this outstanding evolution!\n",
    "\n",
    "It follows that modern computer programs like Python are going to be somewhere in between machine language and natural language. In fact, we can regard programming languages as *proxy* languages between (high-level) specifications that describe what we want to implement and the machine language that is finally executed in the computer. In this sense, software engineering is for the most part a *translation* process, a process by which our thoughts are converted into machine language. But, there is another reflection that can be made: If computers are learning to understand human language, why should we bother to learn any other intermediate language to express what we want? Well, if you are still reading this interactive book after this thought, let us first quote Steve Jobs, one of the main drivers of computer science:\n",
    "\n",
    ">Everybody in this country should learn how to program a computer... because it teaches you how to think\n",
    "\n",
    "Indeed, bear in mind that computer programs are specifically design to structure human thoughts so that they can be passed to a machine so that it performs a very specific task. Learning how to program is to a great extent equivalent to learning how to structure our thoughts so that they can be passed and interpreted in an effective way. In this sense, learning a programming language is going to help us structure our thoughts, *engineer* our thoughts into a set of precise instructions. We will find that this transformation process is useful to organise our thoughts even outside the scope of computer programming. Along these lines, did you know that there is a field of linguistics that studies how [language affects the way we think](https://www.nytimes.com/2010/08/29/magazine/29language-t.html)? Research provides evidence that language shapes our thoughts, in the sense that it forces us to specify certain types of information while others can be left to the context, so we need to pay attention to specific aspects of what we want to describe. Learning programming languages definitively shapes the way we think, helping us place the focus in the important functional aspects of the problem we want to solve.\n",
    "\n",
    "Another relevant argument in favour of learning computer programming is that, well, computers are everywhere! Just as with human communications, even if they are learning our natural languages, it is important for us to understand how they think, and to be able to express what we want in a language that is closer to theirs, because in both cases this is going to make our communication with computers a lot more efficient.\n",
    "\n",
    "Before we dive into the specifics of Python as a programming language, let us use this fundamental definition of a programming language to put the focus of two important aspects of any language:\n",
    "\n",
    "- **Syntax**: The syntax of a language refers to the way it is structured. Any language contains a set of syntactic rules that determine how words are built from letters, how words are constructed from basic components (e.g. lemmas) and even how sentences are built with different classes of words, or parts of speech. Any programming language will likewise include a set of syntactic rules that will determine how instructions, or statements are built from symbols, and what are the different basic components of any statement.\n",
    "- **Semantics**: The semantics of a language refer to the meaning of its words and sentences. Just as with natural languages, in a programming language the same symbol can have different meanings depending on the context.\n",
    "\n",
    "Throughout the book, we may refer to the syntax or the semantics of any aspect of a programming language and for this reason it is important to provide a definition early on.\n",
    "\n",
    "## Python as a programming language\n",
    "As mentioned above, there are many, many, many different programming languages, so why have we chosen Python as the first programming language for engineering and management?  Well, one of the reasons is that at the time of writing, it is a very relevant programming language. Github - a collaborative programming platform that we will discuss extensively further down this book - publishes every year a report with some statistics on the use of programming languages called [The state of the octaverse](https://octoverse.github.com/#top-languages-over-the-years). At the time of writing, Python is the second most popular programming language in the world:\n",
    "\n",
    "![Top Langugages over the years retreived form Github´s state of octaverse in 2022](img/Top%20languages%20over%20the%20years.PNG)\n",
    "\n",
    "Other popular programming languages are Java, JavaScript, or C#, as shown in the list. Since it is the second best, popularity alone is not a very compelling argument. It is not even the main reason why we chose it for you to learn computer programming. The main reason why we chose Python is because it is very **didactic**, very adequate to each computer programming, because its syntactic rules make the code very easy to read by humans. Related to this, other important characteristic is that Python is both a [scripting language](https://en.wikipedia.org/wiki/Scripting_language) and an object-oriented programming language.\n",
    "Scripting languages are languages specifically designed to automate tasks by executing a sequence of commands, just like you would cook a delicious dish using a recip. These sequencing makes scripting languages more intuitive and adequate as a first stop in the journey. As opposed to scripting programming, in [concurrent programming][https://en.wikipedia.org/wiki/Concurrent_computing), the lifetime of commands or computations may overlap in time. Obviously, this may be beneficial, but sequencing is a priori simpler, more intuitive and better suited for the first approximation to programming.\n",
    "Python is also an [object-oriented programming language](https://en.wikipedia.org/wiki/Object-oriented_programming). Object Oriented Programming (OOP) is a programming paradigm based on the definition of structures that mimic real world objects, therefore rendering the code easier to understand by humans, dialing it one notch closer to natural language.\n",
    "Python, as many other scripting language, is an interpreted language, as opposed to compiled languages. The Python interpreter *interprets* the statements in your source code and converts it to instructions to the running program on the fly. Compilation on the other hand consists on building the entire sequence of instructions to run the code and saving it in an object that is later passed to execution. Compiled languages are in general **faster** because the compilation process is very efficient in generating objects, but interpreted languages are better for experimenting with codes (which is the main objective of the code) because it saves you the compilation step and also allows you to use the interpreter interactively.\n",
    "\n",
    "\n"
   ],
   "metadata": {
    "collapsed": false,
    "pycharm": {
     "name": "#%% md\n"
    }
   }
  },
  {
   "cell_type": "markdown",
   "source": [],
   "metadata": {
    "collapsed": false,
    "pycharm": {
     "name": "#%% md\n"
    }
   }
  },
  {
   "cell_type": "code",
   "execution_count": null,
   "outputs": [],
   "source": [],
   "metadata": {
    "collapsed": false,
    "pycharm": {
     "name": "#%%\n"
    }
   }
  },
  {
   "cell_type": "code",
   "execution_count": null,
   "outputs": [],
   "source": [],
   "metadata": {
    "collapsed": false,
    "pycharm": {
     "name": "#%%\n"
    }
   }
  }
 ],
 "metadata": {
  "kernelspec": {
   "display_name": "Python 3",
   "language": "python",
   "name": "python3"
  },
  "language_info": {
   "codemirror_mode": {
    "name": "ipython",
    "version": 2
   },
   "file_extension": ".py",
   "mimetype": "text/x-python",
   "name": "python",
   "nbconvert_exporter": "python",
   "pygments_lexer": "ipython2",
   "version": "2.7.6"
  }
 },
 "nbformat": 4,
 "nbformat_minor": 0
}