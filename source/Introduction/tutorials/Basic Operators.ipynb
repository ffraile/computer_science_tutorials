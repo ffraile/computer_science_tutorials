{
 "cells": [
  {
   "cell_type": "markdown",
   "source": [
    "# Basic operators\n",
    "\n",
    "### Arithmetic operators and numeric variables\n",
    "Basic arithmetic operators like addition, subtraction, multiplication, and division operators can be used with numeric variables in Python:"
   ],
   "metadata": {
    "pycharm": {
     "name": "#%% md\n"
    }
   }
  },
  {
   "cell_type": "code",
   "execution_count": 1,
   "source": [
    "number = 1 + 2 * 3 / 4.0 - 0.5\n",
    "print(number)"
   ],
   "outputs": [
    {
     "output_type": "stream",
     "name": "stdout",
     "text": [
      "2.0\n"
     ]
    }
   ],
   "metadata": {
    "pycharm": {
     "name": "#%%\n"
    }
   }
  },
  {
   "cell_type": "markdown",
   "source": [
    "Also, parentheses are used to assign precedence:"
   ],
   "metadata": {
    "pycharm": {
     "name": "#%% md\n"
    }
   }
  },
  {
   "cell_type": "code",
   "execution_count": 2,
   "source": [
    "number = (1 + 2) * 3 / 4.0 - 0.5\n",
    "print(number)"
   ],
   "outputs": [
    {
     "output_type": "stream",
     "name": "stdout",
     "text": [
      "1.75\n"
     ]
    }
   ],
   "metadata": {
    "pycharm": {
     "name": "#%%\n"
    }
   }
  },
  {
   "cell_type": "markdown",
   "source": [
    "Modulo (%) operator returns the integer remainder of the division `remainder = dividend % divisor`. Likewise, the floor division operator (//) returns the integer division:"
   ],
   "metadata": {
    "pycharm": {
     "name": "#%% md\n"
    }
   }
  },
  {
   "cell_type": "code",
   "execution_count": 2,
   "source": [
    "dividend = 11\n",
    "divisor = 3\n",
    "remainder = dividend % divisor\n",
    "print(remainder)\n",
    "true_division = dividend // divisor\n",
    "print(true_division)"
   ],
   "outputs": [
    {
     "output_type": "stream",
     "name": "stdout",
     "text": [
      "2\n",
      "3\n"
     ]
    }
   ],
   "metadata": {
    "pycharm": {
     "name": "#%%\n"
    }
   }
  },
  {
   "cell_type": "markdown",
   "source": [
    "Using two multiplication symbols makes a power relationship."
   ],
   "metadata": {
    "pycharm": {
     "name": "#%% md\n"
    }
   }
  },
  {
   "cell_type": "code",
   "execution_count": 3,
   "source": [
    "squared = 7 ** 2\n",
    "cubed = 2 ** 3\n",
    "print(squared)\n",
    "print(cubed)"
   ],
   "outputs": [
    {
     "output_type": "stream",
     "name": "stdout",
     "text": [
      "49\n",
      "8\n"
     ]
    }
   ],
   "metadata": {
    "pycharm": {
     "name": "#%%\n"
    }
   }
  },
  {
   "cell_type": "markdown",
   "source": [
    "### Basic arithmetic operators with Strings\n",
    "The addition (```+```) operator is used to concatenate strings. It is also possible to use the multiplication operator with a string and an integer operand to repeat a string a number of times:"
   ],
   "metadata": {
    "pycharm": {
     "name": "#%% md\n"
    }
   }
  },
  {
   "cell_type": "code",
   "execution_count": 4,
   "source": [
    "helloworld = \"hello\" + \" \" + \"world\"\n",
    "print(helloworld)\n",
    "\n",
    "lotsofhellos = \"hello\" * 10\n",
    "print(lotsofhellos)"
   ],
   "outputs": [
    {
     "output_type": "stream",
     "name": "stdout",
     "text": [
      "hello world\n",
      "hellohellohellohellohellohellohellohellohellohello\n"
     ]
    }
   ],
   "metadata": {
    "pycharm": {
     "name": "#%%\n"
    }
   }
  },
  {
   "cell_type": "markdown",
   "source": [
    "The **built-in** function `len` returns the length of a string."
   ],
   "metadata": {
    "pycharm": {
     "name": "#%% md\n"
    }
   }
  },
  {
   "cell_type": "code",
   "execution_count": 3,
   "source": [
    "text = \"Hello world!\"\n",
    "print(len(text))"
   ],
   "outputs": [
    {
     "output_type": "stream",
     "name": "stdout",
     "text": [
      "12\n"
     ]
    }
   ],
   "metadata": {
    "pycharm": {
     "name": "#%%\n"
    }
   }
  },
  {
   "cell_type": "markdown",
   "source": [
    "Also, remember that strings have useful built-in functions. Let us see other examples:\n",
    "- `index` to find the first occurrence of a character in a string\n",
    "- `count` to get the number of occurrences of a character in a string\n",
    "- `upper`, `lower` to transform to UPPERCASE or lowercase"
   ],
   "metadata": {
    "pycharm": {
     "name": "#%% md\n"
    }
   }
  },
  {
   "cell_type": "code",
   "execution_count": 6,
   "source": [
    "text = \"Hello world!\"\n",
    "print(text.index(\"o\"))"
   ],
   "outputs": [
    {
     "output_type": "stream",
     "name": "stdout",
     "text": [
      "4\n"
     ]
    }
   ],
   "metadata": {
    "pycharm": {
     "name": "#%%\n"
    }
   }
  },
  {
   "cell_type": "code",
   "execution_count": 7,
   "source": [
    "text = \"Hello world!\"\n",
    "print(text.count('l'))"
   ],
   "outputs": [
    {
     "output_type": "stream",
     "name": "stdout",
     "text": [
      "3\n"
     ]
    }
   ],
   "metadata": {
    "pycharm": {
     "name": "#%%\n"
    }
   }
  },
  {
   "cell_type": "code",
   "execution_count": 8,
   "source": [
    "text = \"Hello world!\"\n",
    "print(text.upper())\n",
    "print(text.lower())"
   ],
   "outputs": [
    {
     "output_type": "stream",
     "name": "stdout",
     "text": [
      "HELLO WORLD!\n",
      "hello world!\n"
     ]
    }
   ],
   "metadata": {
    "pycharm": {
     "name": "#%%\n"
    }
   }
  },
  {
   "cell_type": "markdown",
   "source": [
    "Other functions to test strings"
   ],
   "metadata": {
    "pycharm": {
     "name": "#%% md\n"
    }
   }
  },
  {
   "cell_type": "code",
   "execution_count": 9,
   "source": [
    "text = \"Hello world!\"\n",
    "print(text.startswith(\"Hello\"))\n",
    "print(text.endswith(\"blablabla\"))\n",
    "print(text.startswith(\"hello\"))"
   ],
   "outputs": [
    {
     "output_type": "stream",
     "name": "stdout",
     "text": [
      "True\n",
      "False\n",
      "False\n"
     ]
    }
   ],
   "metadata": {
    "pycharm": {
     "name": "#%%\n"
    }
   }
  },
  {
   "cell_type": "markdown",
   "source": [
    "It is possible to concatenate functions on strings, since the result of a function is a string, we can apply another built-in function just by appending it, for instance, Can you check if the text starts with a specific word regardless it is uppercase or lowercase?"
   ],
   "metadata": {
    "pycharm": {
     "name": "#%% md\n"
    }
   }
  },
  {
   "cell_type": "code",
   "execution_count": 5,
   "source": [
    "print(text.lower().startswith(\"hello\"))"
   ],
   "outputs": [
    {
     "output_type": "stream",
     "name": "stdout",
     "text": [
      "True\n"
     ]
    }
   ],
   "metadata": {
    "pycharm": {
     "name": "#%%\n"
    }
   }
  },
  {
   "cell_type": "markdown",
   "source": [
    "### Bitwise binary operators\n",
    "\n",
    "Python allows to perform bitwise operations to integer values. We can assign a value expressed in hexadecimal form to a numeric variable using the prefix ('0x') as in the example below. The basic binary bitwise (applied to every bit) operators are: \n",
    "- Bitwise And (&)\n",
    "- Bitwise Or (|)\n",
    "- Bitwise Exclusive Or (^)\n"
   ],
   "metadata": {
    "pycharm": {
     "name": "#%% md\n"
    }
   }
  },
  {
   "cell_type": "code",
   "execution_count": 7,
   "source": [
    "a = 0x40\n",
    "b = 0x41\n",
    "print(\"a:\")\n",
    "print(\"{0:b}\".format(a))\n",
    "print(\"b:\")\n",
    "print(\"{0:b}\".format(b))\n",
    "# bitwise and\n",
    "c = a & b\n",
    "print(\"a & b\")\n",
    "print(\"{0:b}\".format(c))\n",
    "\n",
    "#bitwise or\n",
    "d = a | b\n",
    "print(\"a | b\")\n",
    "print(\"{0:b}\".format(d))\n",
    "\n",
    "\n",
    "#bitwise exclusive or\n",
    "\n",
    "e = a ^b\n",
    "print(\"a ^ b\")\n",
    "print(\"{:b}\".format(e))\n",
    "\n"
   ],
   "outputs": [
    {
     "output_type": "stream",
     "name": "stdout",
     "text": [
      "a:\n",
      "1000000\n",
      "b:\n",
      "1000001\n",
      "a & b\n",
      "1000000\n",
      "a | b\n",
      "1000001\n",
      "a ^ b\n",
      "1\n"
     ]
    }
   ],
   "metadata": {
    "pycharm": {
     "name": "#%%\n"
    }
   }
  },
  {
   "cell_type": "markdown",
   "source": [
    "Python also supports bitwise shifts. The left shift operator shifts the bits of the first operand to the left the number of bits specified by the second operand. The right shift operator performs the same operation but to the right.  "
   ],
   "metadata": {
    "pycharm": {
     "name": "#%% md\n"
    }
   }
  },
  {
   "cell_type": "code",
   "execution_count": 11,
   "source": [
    "a = 0x41\n",
    "print(\"a\")\n",
    "\n",
    "print(\"a << 1\")\n",
    "c = a << 1\n",
    "print(\"{0:b}\".format(c))\n",
    "\n",
    "print(a >> 1)\n",
    "d = a >> b\n",
    "print(\"{0:b}\".format(d))\n"
   ],
   "outputs": [
    {
     "output_type": "stream",
     "name": "stdout",
     "text": [
      "10000010\n",
      "100000\n"
     ]
    }
   ],
   "metadata": {
    "pycharm": {
     "name": "#%%\n"
    }
   }
  }
 ],
 "metadata": {
  "kernelspec": {
   "name": "python3",
   "display_name": "Python 3.8.1 64-bit"
  },
  "language_info": {
   "codemirror_mode": {
    "name": "ipython",
    "version": 3
   },
   "file_extension": ".py",
   "mimetype": "text/x-python",
   "name": "python",
   "nbconvert_exporter": "python",
   "pygments_lexer": "ipython3",
   "version": "3.8.1"
  },
  "pycharm": {
   "stem_cell": {
    "cell_type": "raw",
    "source": [],
    "metadata": {
     "collapsed": false
    }
   }
  },
  "interpreter": {
   "hash": "2db524e06e9f5f4ffedc911c917cb75e12dbc923643829bf417064a77eb14d37"
  }
 },
 "nbformat": 4,
 "nbformat_minor": 4
}