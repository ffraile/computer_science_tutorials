{
 "cells": [
  {
   "cell_type": "markdown",
   "source": [
    "## Basic operators\r\n",
    "\r\n",
    "### Arithmetic operators and numeric variables\r\n",
    "Basic arithmetic operators like addition, subtraction, multiplication, and division operators can be used with numeric variables in Python:"
   ],
   "metadata": {}
  },
  {
   "cell_type": "code",
   "execution_count": 1,
   "source": [
    "number = 1 + 2 * 3 / 4.0 - 0.5\r\n",
    "print(number)"
   ],
   "outputs": [
    {
     "output_type": "stream",
     "name": "stdout",
     "text": [
      "2.0\n"
     ]
    }
   ],
   "metadata": {}
  },
  {
   "cell_type": "markdown",
   "source": [
    "Also, parentheses are used to assign precedence:"
   ],
   "metadata": {}
  },
  {
   "cell_type": "code",
   "execution_count": 2,
   "source": [
    "number = (1 + 2) * 3 / 4.0 - 0.5\r\n",
    "print(number)"
   ],
   "outputs": [
    {
     "output_type": "stream",
     "name": "stdout",
     "text": [
      "1.75\n"
     ]
    }
   ],
   "metadata": {}
  },
  {
   "cell_type": "markdown",
   "source": [
    "Modulo (%) operator returns the integer remainder of the division `remainder = dividend % divisor`. Likewise, the floor division operator (//) returns the integer division:"
   ],
   "metadata": {}
  },
  {
   "cell_type": "code",
   "execution_count": 2,
   "source": [
    "dividend = 11\r\n",
    "divisor = 3\r\n",
    "remainder = dividend % divisor\r\n",
    "print(remainder)\r\n",
    "true_division = dividend // divisor\r\n",
    "print(true_division)"
   ],
   "outputs": [
    {
     "output_type": "stream",
     "name": "stdout",
     "text": [
      "2\n",
      "3\n"
     ]
    }
   ],
   "metadata": {}
  },
  {
   "cell_type": "markdown",
   "source": [
    "Using two multiplication symbols makes a power relationship."
   ],
   "metadata": {}
  },
  {
   "cell_type": "code",
   "execution_count": 3,
   "source": [
    "squared = 7 ** 2\r\n",
    "cubed = 2 ** 3\r\n",
    "print(squared)\r\n",
    "print(cubed)"
   ],
   "outputs": [
    {
     "output_type": "stream",
     "name": "stdout",
     "text": [
      "49\n",
      "8\n"
     ]
    }
   ],
   "metadata": {}
  },
  {
   "cell_type": "markdown",
   "source": [
    "### Basic arithmetic operators with Strings\r\n",
    "The addition (```+```) operator is used to concatenate strings. It is also possible to use the multiplication operator with a string and an integer operand to repeat a string a number of times:"
   ],
   "metadata": {}
  },
  {
   "cell_type": "code",
   "execution_count": 4,
   "source": [
    "helloworld = \"hello\" + \" \" + \"world\"\r\n",
    "print(helloworld)\r\n",
    "\r\n",
    "lotsofhellos = \"hello\" * 10\r\n",
    "print(lotsofhellos)"
   ],
   "outputs": [
    {
     "output_type": "stream",
     "name": "stdout",
     "text": [
      "hello world\n",
      "hellohellohellohellohellohellohellohellohellohello\n"
     ]
    }
   ],
   "metadata": {}
  },
  {
   "cell_type": "markdown",
   "source": [
    "The **built-in** function `len` returns the length of a string."
   ],
   "metadata": {}
  },
  {
   "cell_type": "code",
   "execution_count": 3,
   "source": [
    "text = \"Hello world!\"\r\n",
    "print(len(text))"
   ],
   "outputs": [
    {
     "output_type": "stream",
     "name": "stdout",
     "text": [
      "12\n"
     ]
    }
   ],
   "metadata": {}
  },
  {
   "cell_type": "markdown",
   "source": [
    "Also, remember that strings have useful built-in functions. Let us see other examples:\r\n",
    "- `index` to find the first occurrence of a character in a string\r\n",
    "- `count` to get the number of occurrences of a character in a string\r\n",
    "- `upper`, `lower` to transform to UPPERCASE or lowercase"
   ],
   "metadata": {}
  },
  {
   "cell_type": "code",
   "execution_count": 6,
   "source": [
    "text = \"Hello world!\"\r\n",
    "print(text.index(\"o\"))"
   ],
   "outputs": [
    {
     "output_type": "stream",
     "name": "stdout",
     "text": [
      "4\n"
     ]
    }
   ],
   "metadata": {}
  },
  {
   "cell_type": "code",
   "execution_count": 7,
   "source": [
    "text = \"Hello world!\"\r\n",
    "print(text.count('l'))"
   ],
   "outputs": [
    {
     "output_type": "stream",
     "name": "stdout",
     "text": [
      "3\n"
     ]
    }
   ],
   "metadata": {}
  },
  {
   "cell_type": "code",
   "execution_count": 8,
   "source": [
    "text = \"Hello world!\"\r\n",
    "print(text.upper())\r\n",
    "print(text.lower())"
   ],
   "outputs": [
    {
     "output_type": "stream",
     "name": "stdout",
     "text": [
      "HELLO WORLD!\n",
      "hello world!\n"
     ]
    }
   ],
   "metadata": {}
  },
  {
   "cell_type": "markdown",
   "source": [
    "Other functions to test strings"
   ],
   "metadata": {}
  },
  {
   "cell_type": "code",
   "execution_count": 9,
   "source": [
    "text = \"Hello world!\"\r\n",
    "print(text.startswith(\"Hello\"))\r\n",
    "print(text.endswith(\"blablabla\"))\r\n",
    "print(text.startswith(\"hello\"))"
   ],
   "outputs": [
    {
     "output_type": "stream",
     "name": "stdout",
     "text": [
      "True\n",
      "False\n",
      "False\n"
     ]
    }
   ],
   "metadata": {}
  },
  {
   "cell_type": "markdown",
   "source": [
    "It is possible to concatenate functions on strings, since the result of a function is a string, we can apply another built-in function just by appending it, for instance, Can you check if the text starts with a specific word regardless it is uppercase or lowercase?"
   ],
   "metadata": {}
  },
  {
   "cell_type": "code",
   "execution_count": 5,
   "source": [
    "print(text.lower().startswith(\"hello\"))"
   ],
   "outputs": [
    {
     "output_type": "stream",
     "name": "stdout",
     "text": [
      "True\n"
     ]
    }
   ],
   "metadata": {}
  },
  {
   "cell_type": "markdown",
   "source": [
    "### Bitwise binary operators\r\n",
    "\r\n",
    "Python allows to perform bitwise operations to integer values. We can assign a value expressed in hexadecimal form to a numeric variable using the prefix ('0x') as in the example below. The basic binary bitwise (applied to every bit) operators are: \r\n",
    "- Bitwise And (&)\r\n",
    "- Bitwise Or (|)\r\n",
    "- Bitwise Exclusive Or (^)\r\n"
   ],
   "metadata": {}
  },
  {
   "cell_type": "code",
   "execution_count": 7,
   "source": [
    "a = 0x40\r\n",
    "b = 0x41\r\n",
    "print(\"a:\")\r\n",
    "print(\"{0:b}\".format(a))\r\n",
    "print(\"b:\")\r\n",
    "print(\"{0:b}\".format(b))\r\n",
    "# bitwise and\r\n",
    "c = a & b\r\n",
    "print(\"a & b\")\r\n",
    "print(\"{0:b}\".format(c))\r\n",
    "\r\n",
    "#bitwise or\r\n",
    "d = a | b\r\n",
    "print(\"a | b\")\r\n",
    "print(\"{0:b}\".format(d))\r\n",
    "\r\n",
    "\r\n",
    "#bitwise exclusive or\r\n",
    "\r\n",
    "e = a ^b\r\n",
    "print(\"a ^ b\")\r\n",
    "print(\"{:b}\".format(e))\r\n",
    "\r\n"
   ],
   "outputs": [
    {
     "output_type": "stream",
     "name": "stdout",
     "text": [
      "a:\n",
      "1000000\n",
      "b:\n",
      "1000001\n",
      "a & b\n",
      "1000000\n",
      "a | b\n",
      "1000001\n",
      "a ^ b\n",
      "1\n"
     ]
    }
   ],
   "metadata": {}
  },
  {
   "cell_type": "markdown",
   "source": [
    "Python also supports bitwise shifts. The left shift operator shifts the bits of the first operand to the left the number of bits specified by the second operand. The right shift operator performs the same operation but to the right.  "
   ],
   "metadata": {}
  },
  {
   "cell_type": "code",
   "execution_count": 11,
   "source": [
    "a = 0x41\r\n",
    "print(\"a\")\r\n",
    "\r\n",
    "print(\"a << 1\")\r\n",
    "c = a << 1\r\n",
    "print(\"{0:b}\".format(c))\r\n",
    "\r\n",
    "print(a >> 1)\r\n",
    "d = a >> b\r\n",
    "print(\"{0:b}\".format(d))\r\n"
   ],
   "outputs": [
    {
     "output_type": "stream",
     "name": "stdout",
     "text": [
      "10000010\n",
      "100000\n"
     ]
    }
   ],
   "metadata": {}
  }
 ],
 "metadata": {
  "kernelspec": {
   "name": "python3",
   "display_name": "Python 3.8.1 64-bit"
  },
  "language_info": {
   "codemirror_mode": {
    "name": "ipython",
    "version": 3
   },
   "file_extension": ".py",
   "mimetype": "text/x-python",
   "name": "python",
   "nbconvert_exporter": "python",
   "pygments_lexer": "ipython3",
   "version": "3.8.1"
  },
  "pycharm": {
   "stem_cell": {
    "cell_type": "raw",
    "source": [],
    "metadata": {
     "collapsed": false
    }
   }
  },
  "interpreter": {
   "hash": "2db524e06e9f5f4ffedc911c917cb75e12dbc923643829bf417064a77eb14d37"
  }
 },
 "nbformat": 4,
 "nbformat_minor": 4
}