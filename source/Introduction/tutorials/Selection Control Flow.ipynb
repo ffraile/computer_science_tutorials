{
 "cells": [
  {
   "cell_type": "markdown",
   "source": [
    "Control flow\n",
    "================\n",
    "Boolean operators\n",
    "---\n",
    "\n",
    "Boolean variables are used to evaluate conditions. The boolean values **True** and **False** are returned when an expression is compared or evaluated."
   ],
   "metadata": {}
  },
  {
   "cell_type": "code",
   "execution_count": 1,
   "source": [
    "x = 2\r\n",
    "print(x == 2) # prints out True\r\n",
    "print(x == 3) # prints out False\r\n",
    "print(x < 3) # prints out True"
   ],
   "outputs": [
    {
     "output_type": "stream",
     "name": "stdout",
     "text": [
      "True\n",
      "False\n",
      "True\n"
     ]
    }
   ],
   "metadata": {}
  },
  {
   "cell_type": "code",
   "execution_count": 1,
   "source": [
    "print(3 < 4)\r\n",
    "print(3 == 4)\r\n",
    "print(3 > 4)\r\n",
    "print(3 != 4)"
   ],
   "outputs": [
    {
     "output_type": "stream",
     "name": "stdout",
     "text": [
      "True\n",
      "False\n",
      "False\n",
      "True\n"
     ]
    }
   ],
   "metadata": {}
  },
  {
   "cell_type": "markdown",
   "source": [
    "**Tip!** Notice that variable assignment is done using a single equals operator `=`, whereas comparison between two variables is done using the double equals operator `==`. The \"not equals\" operator is marked as `!=`."
   ],
   "metadata": {}
  },
  {
   "cell_type": "markdown",
   "source": [
    "Conditional expressions\r\n",
    "--------\r\n",
    "Use `if` to check a condition and control the execution flow.\r\n",
    "\r\n",
    "**Tip** Be aware of indentation! "
   ],
   "metadata": {}
  },
  {
   "cell_type": "code",
   "execution_count": 1,
   "source": [
    "x = 2\r\n",
    "if x == 2:\r\n",
    "    print(\"x equals two!\")\r\n",
    "else:\r\n",
    "    print(\"x does not equal to two.\")\r\n",
    "print(\"this line is not indentend and therefore not part of the else statement!\")"
   ],
   "outputs": [
    {
     "output_type": "stream",
     "name": "stdout",
     "text": [
      "x equals two!\n"
     ]
    }
   ],
   "metadata": {}
  },
  {
   "cell_type": "markdown",
   "source": [
    "The *not* operator\n",
    "------------"
   ],
   "metadata": {}
  },
  {
   "cell_type": "code",
   "execution_count": 1,
   "source": [
    "x = 2\r\n",
    "if not x == 3:\r\n",
    "    print(\"x is not 3\")"
   ],
   "outputs": [
    {
     "output_type": "stream",
     "name": "stdout",
     "text": [
      "x is not 3\n"
     ]
    }
   ],
   "metadata": {}
  },
  {
   "cell_type": "markdown",
   "source": [
    "Compounded conditionals\n",
    "------------\n",
    "You can use `and` or `or` to combine conditions. In large compounded conditionals, parentheses can be also used (and highly recommended)."
   ],
   "metadata": {}
  },
  {
   "cell_type": "code",
   "execution_count": 2,
   "source": [
    "x = 3\r\n",
    "y = 5\r\n",
    "if x == 3 and y == 5:\r\n",
    "    print(\"Both are true\")\r\n",
    "if x == 3 or y == 4:\r\n",
    "    print(\"At least one condition is true\")"
   ],
   "outputs": [
    {
     "output_type": "stream",
     "name": "stdout",
     "text": [
      "Both are true\n",
      "At least one condition is true\n"
     ]
    }
   ],
   "metadata": {}
  },
  {
   "cell_type": "code",
   "execution_count": 2,
   "source": [
    "x = 3\r\n",
    "if x == 2:\r\n",
    "    print(\"x is 2\")\r\n",
    "else:\r\n",
    "    print(\"x is 3\")"
   ],
   "outputs": [
    {
     "output_type": "stream",
     "name": "stdout",
     "text": [
      "x is 3\n"
     ]
    }
   ],
   "metadata": {}
  },
  {
   "cell_type": "markdown",
   "source": [
    "Nested if: one *if* inside another *if*\n",
    "------------\n",
    "The keyword `elif` can be used when an `if` follows an `else` clause."
   ],
   "metadata": {}
  },
  {
   "cell_type": "code",
   "execution_count": 3,
   "source": [
    "false_statement = False\r\n",
    "true_statement = True\r\n",
    "if false_statement is True:\r\n",
    "    print(\"Can't be possible\")\r\n",
    "elif true_statement is True: # else if\r\n",
    "    print(\"Yes!\")\r\n",
    "else:\r\n",
    "    print(\"Never here\")"
   ],
   "outputs": [
    {
     "output_type": "stream",
     "name": "stdout",
     "text": [
      "Yes!\n"
     ]
    }
   ],
   "metadata": {}
  },
  {
   "cell_type": "markdown",
   "source": [
    "A statement is evaluated as true if one of the following is correct:\n",
    "1. The \"True\" boolean variable is given, or calculated using an expression, such as an arithmetic comparison.\n",
    "2. An object which is not considered \"empty\" is passed.\n",
    "\n",
    "Objects which are considered as empty:\n",
    "1. An empty string: \"\"\n",
    "2. An empty list: []\n",
    "3. The number zero: 0\n",
    "4. The false boolean variable: False"
   ],
   "metadata": {}
  },
  {
   "cell_type": "markdown",
   "source": [],
   "metadata": {}
  },
  {
   "cell_type": "code",
   "execution_count": 3,
   "source": [],
   "outputs": [
    {
     "output_type": "stream",
     "name": "stdout",
     "text": [
      "Your name is either Paco or Pepe.\n"
     ]
    }
   ],
   "metadata": {}
  },
  {
   "cell_type": "code",
   "execution_count": null,
   "source": [],
   "outputs": [],
   "metadata": {}
  }
 ],
 "metadata": {
  "kernelspec": {
   "name": "python3",
   "display_name": "Python 3.8.1 64-bit"
  },
  "language_info": {
   "codemirror_mode": {
    "name": "ipython",
    "version": 3
   },
   "file_extension": ".py",
   "mimetype": "text/x-python",
   "name": "python",
   "nbconvert_exporter": "python",
   "pygments_lexer": "ipython3",
   "version": "3.8.1"
  },
  "pycharm": {
   "stem_cell": {
    "cell_type": "raw",
    "source": [],
    "metadata": {
     "collapsed": false
    }
   }
  },
  "interpreter": {
   "hash": "2db524e06e9f5f4ffedc911c917cb75e12dbc923643829bf417064a77eb14d37"
  }
 },
 "nbformat": 4,
 "nbformat_minor": 4
}