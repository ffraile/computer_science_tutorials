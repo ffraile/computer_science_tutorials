{
 "cells": [
  {
   "cell_type": "markdown",
   "source": [
    "# Basic Control Structures\n",
    "\n",
    "## Try me\n",
    "[![Open In Colab](https://colab.research.google.com/assets/colab-badge.svg)](https://colab.research.google.com/github/ffraile/computer_science_tutorials/blob/main/source/Introduction/tutorials/Basic%20Control%20Structures.ipynb)[![Binder](https://mybinder.org/badge_logo.svg)](https://mybinder.org/v2/gh/ffraile/computer_science_tutorials/main?labpath=source%2FIntroduction%2Ftutorials%2FBasic%20Control%20Structures.ipynb)\n",
    "\n",
    "## Introduction\n",
    "In previous Notebooks, we covered the basics of the Structure Theorem. Recall that this is a very powerful theorem that states that we only need three different types of control structures (namely statements, selection, and repetition) to build any program! Also, in the last lecture, we covered Boolean variables (taking only values ```True``` or ```False```) and logical operators. In this Notebook, we will learn how to use this variables and operators to build basic control structures for selection (```if else```) statements and repetition (```while```) statement.\n",
    "\n",
    "<img src=\"https://raw.githubusercontent.com/ffraile/computer_science_tutorials/main/source/Introduction/tutorials/img/basic_control_structures.png\" style=\"width: 100%; max-width: 600px\"/>\n",
    "\n",
    "\n",
    "First, let us recap some basic features of logical expressions and boolean variables\n",
    "\n",
    "## Basic features of Logical expressions and Boolean variables\n",
    "\n",
    "Boolean variables are named after the great mathematician [George Boole](https://en.wikipedia.org/wiki/George_Boole) who developed a symbolic language and operations to express complex logical expression and perform algebra and calculus operations. Back in the last days of the XIX century, mathematicians were divided into two groups. On one hand, there were those who believed that all mathematics could be derived from a set of basic axioms and using logical operators, like Boole. In this side were others like Gottlob Frege, who thought that logic could be used to model any aspect of reality, and developed the [Concept Script](https://en.wikipedia.org/wiki/Snow_Crash). Definitely these are early (but prominent!) precursors of computer programming. On the other hand, there were those who believed that this fundamentalist vision was nonsense. With time, the former group of mathematicians devised computing machines specialised in binary logic and able to perform any mathematical operation, while the latter thought that this was just an illusion and that calculus and algebra were intrinsically too complex to be described just by logic. It is said that during the congress that took place in the International Exposition of 1900 in Paris, both groups had a harsh and intense debate. Later, other great mathematicians like Alan Turing took on the work of Boole and led the ground for modern day computer. [Logicomix: An Epic search of truth](https://en.wikipedia.org/wiki/Logicomix) is a delightful comic that vividly describes this journey. Now, looking backwards, one can only fear sorry for those that so fiercely debated against logic.\n",
    "\n",
    "![L'Affaire Cantor: Panel extracted from Logicomix, showing Poincaré and Hillbert discussing Cantor´s set theory](img/laffair_cantor.jpg)\n",
    "\n",
    "So, back to computer programming, the main aim of logical expressions is to enable the use of logic to build complex processes. Basically, we will use logical expressions to evaluate conditions. The result of this evaluation will be a boolean variable with values either ```True``` or ```False```, and these results will control complex workflows through selection and repetition control structures (Boole would be so proud!).\n",
    "\n",
    "Let us use the following code snippet to settle down the main concepts."
   ],
   "metadata": {}
  },
  {
   "cell_type": "code",
   "execution_count": 2,
   "source": [
    "x = 2 # This is an Integer variable\n",
    "print(x == 2) # This is a logical expression comparing x to 3. It will only be True if both sides are identical\n",
    "\n",
    "A = x == 2 # This is an assignment of a Boolean variable A to the result of the logical expression printed in the line above (x == 2). Bottom line is we can use the results of logical expressions as variables in our code.\n",
    "\n",
    "B = False # This is an assignment of a Boolean variable B to the (literal) boolean value False.\n",
    "\n",
    "\n",
    "print(A and B) # This is a logical expression combining A and B. Only true if both are true.\n",
    "print(not A) # This is another logical expression negating A."
   ],
   "outputs": [
    {
     "name": "stdout",
     "output_type": "stream",
     "text": [
      "True\n",
      "False\n",
      "False\n"
     ]
    }
   ],
   "metadata": {}
  },
  {
   "cell_type": "markdown",
   "source": [
    "\n",
    "> ☝ Notice that variable assignment is done using a single equals operator `=`, whereas comparison between two variables is done using the double equals operator `==`. The \"not equals\" operator is marked as `!=`.\n"
   ],
   "metadata": {}
  },
  {
   "cell_type": "markdown",
   "source": [
    "## Selection Control Structures: Conditional expressions\n",
    "Recall that, in the structure theorem, the selection control structure uses conditional expressions to assess a condition and control the code block (branch control) that will be executed. The most basic selection statement in Python is the ```if``` statement. In its most basic form, the ```if``` statement evaluates an expression and only executes the indented code below the conditional expression if it evaluates to true:\n",
    "\n",
    "```python\n",
    "if condition: #`condition` represents a conditional expression or boolean variable that evaluates either to True or False\n",
    "    x = 4 # Indented code is only executed if `condition`evaluates to True\n",
    "print(x)\n",
    "```\n",
    "\n",
    "> ☝ Be aware of indentation! Indented code will be executed if the condition is met, so you need to be careful and indent only the right number of lines\n",
    "\n",
    "Optionally, the if statement can include an ```else``` clause. Indented code after the else clause will only be executed if the conditional expression of the if else statement evaluates to false:"
   ],
   "metadata": {}
  },
  {
   "cell_type": "code",
   "execution_count": 1,
   "source": [
    "x = 2\n",
    "if x == 2:\n",
    "    print(\"x equals two!\")\n",
    "else:\n",
    "    print(\"x does not equal to two.\")\n",
    "print(\"this line is not indetend and therefore not part of the else statement!\")"
   ],
   "outputs": [
    {
     "output_type": "stream",
     "name": "stdout",
     "text": [
      "x equals two!\n"
     ]
    }
   ],
   "metadata": {}
  },
  {
   "cell_type": "markdown",
   "source": [
    "These type of expressions are known as **conditional statements** and can be nested to build more complex control structures as described below.\n",
    "\n",
    "### elif clause: one *if* inside another *if*\n",
    "Additionally, the ```if``` statement can contain additional (*nested*) conditional expressions which are only evaluated if the logical expression of the ```if``` statement is false, using ```elif``` clauses.  The keyword `elif` is a shorthand of an `if` statement following an `else` clause, and it includes an additional expression to be evaluated. If all logical expressions are false (included in the ```if``` statement and in all additional ```elif``` clauses), then (optionally) the code under the else statement is executed."
   ],
   "metadata": {}
  },
  {
   "cell_type": "code",
   "execution_count": 3,
   "source": [
    "false_statement = False\n",
    "true_statement = True\n",
    "if false_statement is True:\n",
    "    print(\"Can't be possible\")\n",
    "elif true_statement is True: # else if\n",
    "    print(\"Yes!\")\n",
    "else:\n",
    "    print(\"Never here\")"
   ],
   "outputs": [
    {
     "output_type": "stream",
     "name": "stdout",
     "text": [
      "Yes!\n"
     ]
    }
   ],
   "metadata": {}
  },
  {
   "cell_type": "markdown",
   "source": [
    "> ☝ Remember, the elif clauses will only be evaluated if the conditional expression in the if statement evaluates to false.\n",
    "\n",
    "Ok, let us see this in practice with an exercise. Let us build a program that asks the user for a grade in a scale from 0 to 100 percent and the program returns the corresponding letter grade in the following grading system:\n",
    "\n",
    "| Letter Grade | Percentage Range |\n",
    "|--------------|------------------|\n",
    "| A+           | 90% to 100%      |\n",
    "| A            | 80% to 90%       |\n",
    "| B+           | 75% to 80%       |\n",
    "| B            | 70% to 75%       |\n",
    "| C+           | 65% to 70%       |\n",
    "| C            | 60% to 65%       |\n",
    "| D+           | 55% to 60%       |\n",
    "| D            | 50% to 55%       |\n",
    "| E            | 40% to 50%       |\n",
    "| F            | 0% to 40%        |\n",
    "\n",
    "Try on your own to implement the own solution in the cell below!"
   ],
   "metadata": {
    "collapsed": false
   }
  },
  {
   "cell_type": "code",
   "execution_count": null,
   "outputs": [],
   "source": [
    "percent_grade = float(input(\"Enter your grade in percent\"))\n",
    "grade_letter = \"F\" # Use this variable to return the grade letter\n",
    "# Insert your code in here\n",
    "\n",
    "print(\"Your grade letter is:\", grade_letter)"
   ],
   "metadata": {
    "collapsed": false
   }
  },
  {
   "cell_type": "markdown",
   "source": [
    "### Compounded conditionals\n",
    "Note that you can use boolean operators such as ```and``` or ```or``` to combine conditions. In large compounded conditionals, parentheses can also be used (and highly recommended) to improve code readability."
   ],
   "metadata": {
    "collapsed": false
   }
  },
  {
   "cell_type": "code",
   "execution_count": 2,
   "outputs": [
    {
     "output_type": "stream",
     "name": "stdout",
     "text": [
      "Both are true\n",
      "At least one condition is true\n"
     ]
    }
   ],
   "source": [
    "x = 3\n",
    "y = 5\n",
    "if (x == 3) and y == 5:\n",
    "    print(\"Both are true\")\n",
    "if x == 3 or y == 4:\n",
    "    print(\"At least one condition is true\")"
   ],
   "metadata": {
    "collapsed": false
   }
  },
  {
   "cell_type": "markdown",
   "source": [
    "## Repetition Control Structures: The while clause\n",
    "We can use logical expressions to build basic control structures using the ```while``` clause. The ```while``` clause uses a logical expression to control the repetition of the (indented) code that follows, as long as the logical expression evaluates to ```True```, for instance:\n"
   ],
   "metadata": {
    "collapsed": false
   }
  },
  {
   "cell_type": "code",
   "execution_count": 2,
   "outputs": [
    {
     "name": "stdout",
     "output_type": "stream",
     "text": [
      "x is now: 0\n",
      "x is now: 1\n",
      "x is now: 2\n"
     ]
    }
   ],
   "source": [
    "x = 0\n",
    "while x < 3:\n",
    "    print(\"x is now:\", x)\n",
    "    x += 1"
   ],
   "metadata": {
    "collapsed": false
   }
  },
  {
   "cell_type": "markdown",
   "source": [
    "Note that the indented code is repeated **on a loop** as long as the logical expression evaluates to false.\n",
    "\n",
    "## Break statement\n",
    "We can use the Break statements to end the loop at any given time. For instance, the following while loop has the same output as the previous example, but uses a logical expression that always evaluates to true and a break statement to end the loop.\n"
   ],
   "metadata": {
    "collapsed": false
   }
  },
  {
   "cell_type": "code",
   "execution_count": 6,
   "outputs": [
    {
     "name": "stdout",
     "output_type": "stream",
     "text": [
      "x is now: 0\n",
      "x is now: 1\n",
      "x is now: 2\n"
     ]
    }
   ],
   "source": [
    "x = 0\n",
    "while True:\n",
    "    print(\"x is now:\", x)\n",
    "    x += 1\n",
    "    if x >= 3:\n",
    "        break"
   ],
   "metadata": {
    "collapsed": false
   }
  },
  {
   "cell_type": "markdown",
   "source": [
    "This example is not very illustrative, but for instance, think of a program that would ask the user for input to guess a name, and that would run forever until the user introduces the right guess. Now, try to implement it in the cell below. The use of the break statement is not mandatory, but it could certainly improve readability!"
   ],
   "metadata": {
    "collapsed": false
   }
  },
  {
   "cell_type": "code",
   "execution_count": null,
   "outputs": [],
   "source": [
    "my_name = \"Francisco\"\n",
    "# Enter your code here"
   ],
   "metadata": {
    "collapsed": false
   }
  },
  {
   "cell_type": "markdown",
   "source": [
    "> ☝ Take into account that the break statement breaks the repetition of the while loop it is contained into, if you nest multiple while loops, it will only break the inner loop!\n",
    "\n",
    "## Continue statement\n",
    "The continue statement forces the control logic to go back to the beginning of the loop, but does not interrupt it, it will still continue until the logical expression in the while clause evaluates to false:"
   ],
   "metadata": {
    "collapsed": false
   }
  },
  {
   "cell_type": "code",
   "execution_count": 8,
   "outputs": [
    {
     "name": "stdout",
     "output_type": "stream",
     "text": [
      "1 is an odd number\n",
      "2 is an even number\n",
      "3 is an odd number\n",
      "4 is an even number\n",
      "5 is an odd number\n",
      "the value of y is 9\n"
     ]
    }
   ],
   "source": [
    "x = 0\n",
    "y = 0\n",
    "while x < 5:\n",
    "    x = x+1\n",
    "    if x%2 == 0: # Recall that that % is the modulo operator, returning the reminder after integer division.\n",
    "        # We will only reach here when x is even\n",
    "        print(x, \"is an even number\")\n",
    "        continue\n",
    "    y += x # Since continue returns to the beginning of the loop, we do not reach this line for even numbers\n",
    "    print(x, \"is an odd number\")\n",
    "\n",
    "print(\"the value of y is\", y)"
   ],
   "metadata": {
    "collapsed": false
   }
  },
  {
   "cell_type": "markdown",
   "source": [
    "## While else statement\n",
    "Optionally, the while clause can contain an ```else``` clause, which executes the indented code below when the expression evaluates to false:"
   ],
   "metadata": {
    "collapsed": false
   }
  },
  {
   "cell_type": "code",
   "execution_count": 4,
   "outputs": [
    {
     "name": "stdout",
     "output_type": "stream",
     "text": [
      "x is now: 0\n",
      "x is now: 1\n",
      "x is now: 2\n",
      "x has reached the limit\n",
      "x is now: 3\n"
     ]
    }
   ],
   "source": [
    "x = 0\n",
    "while x < 3:\n",
    "    print(\"x is now:\", x)\n",
    "    x += 1\n",
    "else:\n",
    "    print(\"x has reached the limit\")\n",
    "    print(\"x is now:\", x)"
   ],
   "metadata": {
    "collapsed": false
   }
  },
  {
   "cell_type": "markdown",
   "source": [
    "Note that the last line of the code is executed anyways once the program exits the while loop, so the addition of the else clause is not very practical in this example, but it improves code readibility."
   ],
   "metadata": {
    "collapsed": false
   }
  },
  {
   "cell_type": "markdown",
   "source": [
    "## Extra: A precise definition of True\n",
    "We do not aim to get philosophical, but it at this point it is important to precisely define when an statement in a conditional expression will evaluate to ```True```. A statement is evaluated as ```True``` if one of the following is correct:\n",
    "\n",
    "1. The ```True``` boolean variable is given, or calculated using an expression, such as a comparison between to numeric values.\n",
    "2. An object which is not considered **empty** is passed.\n",
    "\n",
    "It follows that if an object that is considered empty is passed to evaluate the conditional expression, it will evaluate as False. The objects which are considered as empty are:\n",
    "\n",
    "1. An empty string: \"\"\n",
    "2. An empty list: []\n",
    "3. The number zero: 0\n",
    "\n",
    "For instance, try the following snippet that prints different lines whether the user enters zero or any other integer number"
   ],
   "metadata": {}
  },
  {
   "cell_type": "code",
   "execution_count": null,
   "outputs": [],
   "source": [
    "a_number = int(input(\"Enter a integer number:\"))\n",
    "if a_number: # Note that we do not use a logical operator to evaluate if the number is greater than zero\n",
    "    print(\"You entered a number greater than zero\")\n",
    "else:\n",
    "    print(\"You entered zero\")"
   ],
   "metadata": {
    "collapsed": false
   }
  },
  {
   "cell_type": "markdown",
   "source": [
    "Ok, we tried, but it is impossible to not get philosophical at this point. Emptiness evaluates to False, and the lack of emptiness to True. This is a common convention across different programming languages and comes from the fact that the boolean value False is normally encoded as a 0 in memory (recall that, in the end, everything is binary code in memory). However, to make falseness equivalent to emptiness undoubtedly has some philosophical implications, as highlighted in this passage of the novel [Snow Crash](https://en.wikipedia.org/wiki/Snow_Crash) by Neal Stephenson:\n",
    "\n",
    "> Computers rely on the one and the zero to represent all things. This distinction between something and nothing, this pivotal separation between being and non-being, is quite fundamental and underlies many creation myths.\n",
    "\n",
    "Now, if you review the creation myth of your culture and reflect on the equivalence of falseness and emptiness, you will definitively get another interesting perspective!\n",
    "\n"
   ],
   "metadata": {}
  }
 ],
 "metadata": {
  "kernelspec": {
   "name": "python3",
   "display_name": "Python 3.8.1 64-bit"
  },
  "language_info": {
   "codemirror_mode": {
    "name": "ipython",
    "version": 3
   },
   "file_extension": ".py",
   "mimetype": "text/x-python",
   "name": "python",
   "nbconvert_exporter": "python",
   "pygments_lexer": "ipython3",
   "version": "3.8.1"
  },
  "pycharm": {
   "stem_cell": {
    "cell_type": "raw",
    "source": [],
    "metadata": {
     "collapsed": false
    }
   }
  },
  "interpreter": {
   "hash": "2db524e06e9f5f4ffedc911c917cb75e12dbc923643829bf417064a77eb14d37"
  }
 },
 "nbformat": 4,
 "nbformat_minor": 4
}
