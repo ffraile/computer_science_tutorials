{
 "cells": [
  {
   "cell_type": "markdown",
   "source": [
    "# Variables\n",
    "## Try me\n",
    "\n",
    "[![Open In Colab](https://colab.research.google.com/assets/colab-badge.svg)](https://colab.research.google.com/github/ffraile/computer_science_tutorials/blob/main/source/Introduction/tutorials/Variables.ipynb)[![Binder](https://mybinder.org/badge_logo.svg)](https://mybinder.org/v2/gh/ffraile/computer_science_tutorials/main?labpath=source%2FIntroduction%2Ftutorials%2FVariables.ipynb)\n",
    "\n",
    "In the **Hello world** Notebook, we already provided an informal definition of variables as symbols that we introduce in our code to manage values that might change, for instance, depending on the use we want to make of the program. Thinking of programming languages as a proxy language between natural language and machine language, we can think of variables as human-readable names that we give to binary values stored in memory. As we know, computers work with binary data, and programming languages introduce variables to facilitate the management of these data.\n",
    "\n",
    "Although experienced programmers exhibit extreme binary code interpretation skills, for most humans, binary code is just gibberish and messages between humans and machines could be lost in translation if programming languages did not introduce variables to facilitate the process, as this video illustrates:\n",
    "\n",
    "<iframe width=\"560\" height=\"315\" src=\"https://www.youtube.com/embed/_4TPlwwHM8Q\" title=\"YouTube video player\" frameborder=\"0\" allow=\"accelerometer; autoplay; clipboard-write; encrypted-media; gyroscope; picture-in-picture\" allowfullscreen></iframe>\n"
   ],
   "metadata": {
    "pycharm": {
     "name": "#%% md\n"
    }
   }
  },
  {
   "cell_type": "markdown",
   "source": [
    "As mentioned in the introduction, in Python, we define a variable and assign a value using the '=' operator, in what is called an assignment statement. To the left of the '=' operator, we write the name of the variable, and to the right of the '=' operator, we give the value that we want to assign to the variable, for instance:\n"
   ],
   "metadata": {
    "collapsed": false,
    "pycharm": {
     "name": "#%% md\n"
    }
   }
  },
  {
   "cell_type": "code",
   "execution_count": null,
   "outputs": [],
   "source": [
    "my_first_variable = 15\n",
    "print(\"The value of my first variable is:\")\n",
    "print(my_first_variable)\n",
    "print(\"Its memory address is:\")\n",
    "print(id(my_first_variable))"
   ],
   "metadata": {
    "collapsed": false,
    "pycharm": {
     "name": "#%%\n"
    }
   }
  },
  {
   "cell_type": "markdown",
   "source": [
    "## Variables and Types\n",
    "Ok, so we know that, ultimately, the value of a variable is a binary value, so Python will need to encode the value of the variable into bits. The process of encoding the value will depend on the **type** of information that we want to store. For instance, for some application we might want our variable to represent the text \"10\", but for other applications we might want to store the number 10 in decimal, and in other applications we might want to store the sequence of bits 10.\n",
    "\n",
    "The most basic variable types in Python are Integer numbers, floating point numbers, strings (sequences of characters), and boolean. These basic types are known as **primitive types**. Moreover, the main types of data (and in extension of variables) are:\n",
    "- **Numbers**: Numbers represent data like integers, floating-point numbers, complex numbers, etc. with which we can perform arithmetic operations and math.\n",
    "- **Strings**: String are sequences of characters of any length, representing paragraphs, words, sentences, or characters.\n",
    "- **Boolean**: boolean values, either True or False, are used in boolean logic operations.\n",
    "\n",
    "Additionally, in Python, we have other types of variables known as **iterables**, which are collections of values. Due to the increased complexity and importance of iterables, they are presented in another tutorial.\n",
    "\n",
    "The following sections describe the main characteristics of these variables in Python, but  before we dive into practice, let us pay some attention to the syntax of the assignment statement.\n",
    "\n",
    "### Implicit versus Explicit Assignment\n",
    "Note that, to be able to support the management of different types of information, we need to specify what is the type of variable we want to store, but in the previous code cells, we never did specify the type of variables explicitly. In some programming languages, like C or Java, the type of variables must be specified explicitly, meaning that we need to define the type in the assignment statement. In Python, as we will see, we do not need to specify the type explicitly, we can let Python infer the type of the variable from the value that we assign to it. We will see this in detail in the next sections, but for now, let us assume that we want to store a number in a variable. We can just write the number to the right of the '=' operator, and Python will infer the type of the variable from the value that we assign to it.\n"
   ],
   "metadata": {
    "collapsed": false,
    "pycharm": {
     "name": "#%% md\n"
    }
   }
  },
  {
   "cell_type": "code",
   "execution_count": 1,
   "outputs": [
    {
     "name": "stdout",
     "output_type": "stream",
     "text": [
      "The value of my number is: 10\n"
     ]
    }
   ],
   "source": [
    "my_number = 10 # This is a numeric (integer) variable\n",
    "print(\"The value of my number is:\", my_number)\n"
   ],
   "metadata": {
    "collapsed": false,
    "pycharm": {
     "name": "#%%\n"
    }
   }
  },
  {
   "cell_type": "markdown",
   "source": [
    "If we want to learn the type of the variable, we can use the built-in function ```type()``` ([see the docs](https://docs.python.org/3/library/functions.html#type)).\n"
   ],
   "metadata": {
    "collapsed": false,
    "pycharm": {
     "name": "#%% md\n"
    }
   }
  },
  {
   "cell_type": "code",
   "execution_count": 4,
   "outputs": [
    {
     "name": "stdout",
     "output_type": "stream",
     "text": [
      "The type of my_number is: <class 'int'>\n"
     ]
    }
   ],
   "source": [
    "print(\"The type of my_number is:\", type(my_number))"
   ],
   "metadata": {
    "collapsed": false,
    "pycharm": {
     "name": "#%%\n"
    }
   }
  },
  {
   "cell_type": "markdown",
   "source": [
    "Note that the type is ```<class 'int'>```, which is the type of the integer numbers in Python. However, we can also explicitly specify the type of the variable, in this case, we want to store a string in a variable. We can do this by writing the type of the variable in the assignment statement, using the built-in ```string()``` function ([see the docs](https://docs.python.org/3/library/functions.html#str))."
   ],
   "metadata": {
    "collapsed": false,
    "pycharm": {
     "name": "#%% md\n"
    }
   }
  },
  {
   "cell_type": "code",
   "execution_count": 5,
   "outputs": [
    {
     "name": "stdout",
     "output_type": "stream",
     "text": [
      "The value of my number string is: 10\n",
      "The type of my number string is: <class 'str'>\n"
     ]
    }
   ],
   "source": [
    "my_number_string = str(10) # This is a string variable, using the str() function to convert the number 10 into a string.\n",
    "print(\"The value of my number string is:\", my_number_string)\n",
    "print(\"The type of my number string is:\", type(my_number_string))"
   ],
   "metadata": {
    "collapsed": false,
    "pycharm": {
     "name": "#%%\n"
    }
   }
  },
  {
   "cell_type": "markdown",
   "source": [
    "Note that the syntax in both examples is similar, and we use the same value (10), but the resulting type of the variable is different (in the latter script, the type is ```<class 'str'>```. In the first example, we let Python infer the type of the variable from the value that we assign to it, and in the second example, we explicitly specify the type of the variable using the ```str``` function, which converts the argument into a string. Normally in Python, we will define the type of the variable implicitly, but in some cases we will specify it explicitly to avoid ambiguity and errors. For instance, say we want to build a program that asks the user to enter a number, and then prints the power of 2 of the provided number back to the user, we can use the ```int``` function to convert the result of the ```input()`` function into an integer number, so that we can perform numeeric operations:\n"
   ],
   "metadata": {
    "collapsed": false,
    "pycharm": {
     "name": "#%% md\n"
    }
   }
  },
  {
   "cell_type": "code",
   "execution_count": 8,
   "outputs": [
    {
     "name": "stdout",
     "output_type": "stream",
     "text": [
      "The power of 2 of 2 is 4\n"
     ]
    }
   ],
   "source": [
    "number = int(input(\"Please enter an integer number: \"))\n",
    "result = number * number # The asterisk is the multiplication operator\n",
    "print(\"The power of 2 of\", number, \"is\", result)"
   ],
   "metadata": {
    "collapsed": false,
    "pycharm": {
     "name": "#%%\n"
    }
   }
  },
  {
   "cell_type": "markdown",
   "source": [
    "Had we not converted the result of the ```input()``` function into an integer number, we would have had an error, because we would have tried to perform a numeric operation on a string. Just try the same example without the ```int()```function to see what happens!"
   ],
   "metadata": {
    "collapsed": false,
    "pycharm": {
     "name": "#%% md\n"
    }
   }
  },
  {
   "cell_type": "markdown",
   "source": [
    "### Numeric types\n",
    "\n",
    "There are three basic numeric types in Python:\n",
    "- **Integer (int)**: Integer numbers, i.e. numbers with no decimal part\n",
    "- **Float (float)**: Numbers with fractional part\n",
    "- **Complex (complex)**: Numbers with real and imaginary part\n",
    "\n",
    "The type of the variable is implicitly obtained from the assignment as shown in this code cell:"
   ],
   "metadata": {
    "collapsed": false,
    "pycharm": {
     "name": "#%% md\n"
    }
   }
  },
  {
   "cell_type": "code",
   "execution_count": 20,
   "source": [
    "# Integer variable\n",
    "integer_var = 5\n",
    "print(\"The value of integer_var is:\")\n",
    "print(integer_var)\n",
    "print(\"The type of integer_var is:\")\n",
    "print(type(integer_var))\n",
    "\n",
    "# Real variable\n",
    "float_var = 5.2\n",
    "print(\"The value of float_var is:\")\n",
    "print(float_var)\n",
    "print(\"The type of float_var is:\")\n",
    "print(type(float_var))\n",
    "\n",
    "#Commplex variable\n",
    "complex_var = 1.5+2.6j\n",
    "print(\"The value of complex_var is:\")\n",
    "print(complex_var)\n",
    "print(\"The type of complex_var is:\")\n",
    "print(type(complex_var))\n",
    "\n"
   ],
   "outputs": [
    {
     "output_type": "stream",
     "name": "stdout",
     "text": [
      "The value of integer_var is:\n",
      "5\n",
      "The type of integer_var is:\n",
      "<type 'int'>\n",
      "The value of float_var is:\n",
      "5.2\n",
      "The type of float_var is:\n",
      "<type 'float'>\n",
      "The value of complex_var is:\n",
      "(1.5+2.6j)\n",
      "The type of complex_var is:\n",
      "<type 'complex'>\n"
     ]
    }
   ],
   "metadata": {
    "pycharm": {
     "name": "#%%\n"
    }
   }
  },
  {
   "cell_type": "markdown",
   "source": [],
   "metadata": {
    "pycharm": {
     "name": "#%% md\n"
    }
   }
  },
  {
   "cell_type": "markdown",
   "source": [
    "Also, there are built-in functions functions to define the type of a numeric variables explictly, as already shown before with the int type:"
   ],
   "metadata": {
    "pycharm": {
     "name": "#%% md\n"
    }
   }
  },
  {
   "cell_type": "code",
   "execution_count": 21,
   "source": [
    "# int creates an integer variable, from a number of string\n",
    "int_var_2 = int(\"5\")\n",
    "print(\"The value of int_var_2 is:\", int_var_2)\n",
    "print(\"The type of int_var is:\", type(int_var_2))\n",
    "\n",
    "# float() creates a float variable from a number or string, if possible\n",
    "float_var_2 = float(3)\n",
    "print(\"The value of float ar is:\", float_var_2)\n",
    "print(\"The type of float_var_2 is:\", type(float_var_2))\n",
    "\n",
    "# complex() creates a complex number from real and imaginary floating numbers:\n",
    "complex_var_2 = complex(5, 2.5)\n",
    "print(complex_var_2)\n",
    "print(type(complex_var_2))"
   ],
   "outputs": [
    {
     "output_type": "stream",
     "name": "stdout",
     "text": [
      "3.0\n",
      "<type 'float'>\n",
      "(5+2.5j)\n",
      "<type 'complex'>\n"
     ]
    }
   ],
   "metadata": {
    "pycharm": {
     "name": "#%%\n"
    }
   }
  },
  {
   "cell_type": "markdown",
   "source": [
    "The numeric built-in types provide some interesting built-in methods and attributes:"
   ],
   "metadata": {
    "pycharm": {
     "name": "#%% md\n"
    }
   }
  },
  {
   "cell_type": "code",
   "execution_count": 26,
   "source": [
    "float_var_3 = 1.5\n",
    "\n",
    "# as_integer_ratio() provides a pair of positive numbers whose ratio is equal to original float number \n",
    "\n",
    "print(float_var_3.as_integer_ratio())\n",
    "\n",
    "complex_var_3 = 2.5 + 5j\n",
    "\n",
    "# conjugate() returns the complex conjugate of the original complex number\n",
    "print(complex_var_3.conjugate())\n",
    "\n",
    "# imag returns the imaginary part of the original complex number\n",
    "print(complex_var_3.imag)\n",
    "\n",
    "# real returns the real imaginary part of the original complex number\n",
    "print(complex_var_3.real)"
   ],
   "outputs": [
    {
     "output_type": "stream",
     "name": "stdout",
     "text": [
      "(3, 2)\n",
      "(2.5-5j)\n",
      "5.0\n",
      "2.5\n"
     ]
    }
   ],
   "metadata": {
    "pycharm": {
     "name": "#%%\n"
    }
   }
  },
  {
   "cell_type": "markdown",
   "source": [
    "Text\n",
    "---\n",
    "\n",
    "Text is stored in variables of type `string`. They can be enclosed in single quotes `('...')` or double quotes `(\"...\")`."
   ],
   "metadata": {
    "pycharm": {
     "name": "#%% md\n"
    }
   }
  },
  {
   "cell_type": "code",
   "execution_count": 6,
   "source": [
    "s = 'one string'\n",
    "print(s)\n",
    "s = \"another string\"\n",
    "print(s)\n",
    "s = \"Don't worry about quotes\"\n",
    "print(s)"
   ],
   "outputs": [
    {
     "output_type": "stream",
     "name": "stdout",
     "text": [
      "one string\n",
      "another string\n",
      "Don't worry about quotes\n"
     ]
    }
   ],
   "metadata": {
    "pycharm": {
     "name": "#%%\n"
    }
   }
  },
  {
   "cell_type": "markdown",
   "source": [
    "Special characters can be escaped with `\\`.\n",
    "\n",
    "**\\n** - new line  \n",
    "**\\t** - tab space  "
   ],
   "metadata": {
    "pycharm": {
     "name": "#%% md\n"
    }
   }
  },
  {
   "cell_type": "code",
   "execution_count": 9,
   "source": [
    "s = \"line with special\\n characters and \\t more \\\"special\\\" characters\"\n",
    "print(s)"
   ],
   "outputs": [
    {
     "output_type": "stream",
     "name": "stdout",
     "text": [
      "line with special\n",
      " characters and \t more \"special\" characters\n"
     ]
    }
   ],
   "metadata": {
    "pycharm": {
     "name": "#%%\n"
    }
   }
  },
  {
   "cell_type": "markdown",
   "source": [
    "The function str() can be used to create string variables. It takes any numeric value as parameter, so it can be used to convert any value to a string:"
   ],
   "metadata": {
    "pycharm": {
     "name": "#%% md\n"
    }
   }
  },
  {
   "cell_type": "code",
   "execution_count": 28,
   "source": [
    "complex_var = 2.5 + 5j\n",
    "compex_var_str = str(complex_var_3)\n",
    "print(compex_var_str)\n",
    "print(type(compex_var_str))\n"
   ],
   "outputs": [
    {
     "output_type": "stream",
     "name": "stdout",
     "text": [
      "(2.5+5j)\n",
      "<type 'str'>\n"
     ]
    }
   ],
   "metadata": {
    "pycharm": {
     "name": "#%%\n"
    }
   }
  },
  {
   "cell_type": "markdown",
   "source": [
    "String variables have many useful built-in methods to manipulate strings. You can read their description in the [docs](https://docs.python.org/3/library/stdtypes.html#str):"
   ],
   "metadata": {
    "pycharm": {
     "name": "#%% md\n"
    }
   }
  },
  {
   "cell_type": "code",
   "execution_count": 32,
   "source": [
    "my_string = \"this is a string\"\n",
    "# Capitalize the first character of the string\n",
    "print(my_string.capitalize())\n",
    "\n",
    "# check if the string ends with the specified suffix\n",
    "print(my_string.endswith(\"string\")) \n",
    "\n",
    "# Return a copy of the string with the specified substring replaced\n",
    "print(my_string.replace(\"string\", \"str\"))\n"
   ],
   "outputs": [
    {
     "output_type": "stream",
     "name": "stdout",
     "text": [
      "This is a string\n",
      "True\n",
      "This is a str\n"
     ]
    }
   ],
   "metadata": {
    "pycharm": {
     "name": "#%%\n"
    }
   }
  },
  {
   "cell_type": "markdown",
   "source": [
    "The format method is a very useful method to work with template strings. It can take an arbitrary number of input parameters and returns a string with the values of its parameters formatted according to the template [string format](https://docs.python.org/3/library/string.html#formatstrings):"
   ],
   "metadata": {
    "pycharm": {
     "name": "#%% md\n"
    }
   }
  },
  {
   "cell_type": "code",
   "execution_count": 43,
   "source": [
    "# format allows to insert the values of variables in a string using {}\n",
    "my_var = 1\n",
    "my_second_var = 2\n",
    "my_third_var = 3\n",
    "\n",
    "print('my_var is: {}, my_second_var is: {}, my_third_var is: {}'.format(my_var, my_second_var, my_third_var))\n",
    "\n",
    "# You can access the parameters by position using their index\n",
    "\n",
    "print('my_var is: {0}, my_second_var is: {1}, my_third_var is: {2}'.format(my_var, my_second_var, my_third_var))\n",
    "\n",
    "print(\"my_var is {1}, and my_second_var is {0}\".format(my_second_var, my_var))\n",
    "\n",
    "# You can also use names for the parameters:\n",
    "\n",
    "print(\"my_var is {first}, and my_second_var is {latest}\".format(first=my_second_var, latest=my_var))\n",
    "\n",
    "# format also supports different number formats (:d) decimal, :x hexadeximal, :o octal, :b binary:\n",
    "\"int: {0:d};  hex: {0:x};  oct: {0:o};  bin: {0:b}\".format(42)\n",
    "\n",
    "# float numbers use the :f format. You can specify the number of decimals to show:\n",
    "\"one decimal: {0:.1f}, three decimals: {0:.3f}\".format(3.141516)\n",
    "\n",
    "# You can also represent percentages with format:\n",
    "\n",
    "\"The ratio is {0:.2%}\".format(6.0/7.0)\n",
    "\n",
    "# You can access the attributes of parameters:\n",
    "\n",
    "\"The imaginary part is {0.imag:.2}\".format(2.135-2.167j)"
   ],
   "outputs": [
    {
     "output_type": "stream",
     "name": "stdout",
     "text": [
      "my_var is: 1, my_second_var is: 2, my_third_var is: 3\n",
      "my_var is: 1, my_second_var is: 2, my_third_var is: 3\n",
      "my_var is 1, and my_second_var is 2\n",
      "my_var is 2, and my_second_var is 1\n"
     ]
    },
    {
     "output_type": "execute_result",
     "data": {
      "text/plain": [
       "'The conjugate is -2.2'"
      ]
     },
     "metadata": {},
     "execution_count": 43
    }
   ],
   "metadata": {
    "pycharm": {
     "name": "#%%\n"
    }
   }
  },
  {
   "cell_type": "markdown",
   "source": [
    "Boolean\n",
    "---\n",
    "\n",
    "Defines if something is `True` or `False`."
   ],
   "metadata": {
    "pycharm": {
     "name": "#%% md\n"
    }
   }
  },
  {
   "cell_type": "code",
   "execution_count": 17,
   "source": [
    "right = True\n",
    "print(right)\n",
    "\n",
    "wrong = False\n",
    "print(wrong)"
   ],
   "outputs": [
    {
     "output_type": "stream",
     "name": "stdout",
     "text": [
      "True\n",
      "False\n"
     ]
    }
   ],
   "metadata": {
    "pycharm": {
     "name": "#%%\n"
    }
   }
  },
  {
   "cell_type": "markdown",
   "source": [
    "None type\n",
    "---\n",
    "\n",
    "None is a speciall variabl which is totally void, null or empty:"
   ],
   "metadata": {
    "pycharm": {
     "name": "#%% md\n"
    }
   }
  },
  {
   "cell_type": "code",
   "execution_count": 19,
   "source": [
    "var = None\n",
    "\n",
    "print(var)"
   ],
   "outputs": [
    {
     "output_type": "stream",
     "name": "stdout",
     "text": [
      "None\n"
     ]
    }
   ],
   "metadata": {
    "pycharm": {
     "name": "#%%\n"
    }
   }
  },
  {
   "cell_type": "markdown",
   "source": [
    "## Extra tips\n",
    "\n",
    "We can define more than one variable in a single statement:\n"
   ],
   "metadata": {
    "pycharm": {
     "name": "#%% md\n"
    }
   }
  },
  {
   "cell_type": "code",
   "execution_count": 13,
   "source": [
    "x, y = 50, 100\n",
    "print(x, y)"
   ],
   "outputs": [
    {
     "output_type": "stream",
     "name": "stdout",
     "text": [
      "50 100\n"
     ]
    }
   ],
   "metadata": {
    "pycharm": {
     "name": "#%%\n"
    }
   }
  },
  {
   "cell_type": "markdown",
   "source": [
    "Also, Python implements a **ternary** operator that allows to assign the value of the variable depending on a condition:"
   ],
   "metadata": {
    "pycharm": {
     "name": "#%% md\n"
    }
   }
  },
  {
   "cell_type": "code",
   "execution_count": 27,
   "source": [
    "turn_right = True\n",
    "next_turn = \"right\" if turn_right else \"left\"\n",
    "print(next_turn)"
   ],
   "outputs": [
    {
     "output_type": "stream",
     "name": "stdout",
     "text": [
      "right\n"
     ]
    }
   ],
   "metadata": {
    "pycharm": {
     "name": "#%%\n"
    }
   }
  },
  {
   "cell_type": "markdown",
   "source": [
    "If we assign one variable as the value of another variable, they will both have the same value and the same memory address:"
   ],
   "metadata": {
    "collapsed": false,
    "pycharm": {
     "name": "#%% md\n"
    }
   }
  },
  {
   "cell_type": "code",
   "execution_count": null,
   "outputs": [],
   "source": [
    "my_first_variable = 23\n",
    "my_second_variable = my_first_variable\n",
    "\n",
    "print(\"The value of my first variable is:\")\n",
    "print(my_first_variable)\n",
    "print(\"Its memory address is:\")\n",
    "print(id(my_first_variable))\n",
    "\n",
    "print(\"An the value of my second variable is:\")\n",
    "print(my_second_variable)\n",
    "print(\"Its memory address is:\")\n",
    "print(id(my_second_variable))\n",
    "\n",
    "print(\"Do both variables share the same memory address?\")\n",
    "print(my_first_variable is my_second_variable)"
   ],
   "metadata": {
    "collapsed": false,
    "pycharm": {
     "name": "#%%\n"
    }
   }
  },
  {
   "cell_type": "markdown",
   "source": [
    "We do not have the same behavior when we assign two variables the same value:"
   ],
   "metadata": {
    "collapsed": false,
    "pycharm": {
     "name": "#%% md\n"
    }
   }
  },
  {
   "cell_type": "code",
   "execution_count": null,
   "outputs": [],
   "source": [
    "my_first_variable = 1000\n",
    "my_second_variable = 1000\n",
    "\n",
    "print(\"The value of my first variable is:\")\n",
    "print(my_first_variable)\n",
    "print(\"Its memory address is:\")\n",
    "print(id(my_first_variable))\n",
    "\n",
    "print(\"An the value of my second variable is:\")\n",
    "print(my_second_variable)\n",
    "print(\"Its memory address is:\")\n",
    "print(id(my_second_variable))\n",
    "\n",
    "print(\"Do both variables share the same memory address?\")\n",
    "print(my_first_variable is my_second_variable)"
   ],
   "metadata": {
    "collapsed": false,
    "pycharm": {
     "name": "#%%\n"
    }
   }
  },
  {
   "cell_type": "code",
   "execution_count": null,
   "outputs": [],
   "source": [
    "x = object()\n",
    "print(sys.getrefcount(x))\n",
    "y = x\n",
    "print(sys.getrefcount(x))"
   ],
   "metadata": {
    "collapsed": false,
    "pycharm": {
     "name": "#%%\n"
    }
   }
  },
  {
   "cell_type": "markdown",
   "source": [
    "Note that the result of getrefcount is always one higher than expected because the function creates internally another reference. Note also that we did not assign an initial value to ```x```, but instead, we initialise it with the function ```object```. This is because when we assign a value, Python internally creates another object for that value, and all the variables that are assigned the value reference the same memory address, so if you use a specific value, there is a chance that the reference count is higher than expected. Try the code snippet above with a numeric value to verify this."
   ],
   "metadata": {
    "collapsed": false,
    "pycharm": {
     "name": "#%% md\n"
    }
   }
  },
  {
   "cell_type": "markdown",
   "source": [
    "In Python, most primitive types are **immutable**. This means that whenever we make changes to a variable, Python does not actually changes the value store in the memory address, it creates a new [base structure](https://docs.python.org/3/c-api/structures.html) at another memory address and assigns the new value:"
   ],
   "metadata": {
    "collapsed": false,
    "pycharm": {
     "name": "#%% md\n"
    }
   }
  },
  {
   "cell_type": "code",
   "execution_count": null,
   "outputs": [],
   "source": [
    "another_variable = 27\n",
    "print(\"the memory address of another variable is:\")\n",
    "print(id(another_variable))\n",
    "another_variable = another_variable + 1\n",
    "print(\"the memory address of another variable now is:\")\n",
    "print(id(another_variable))"
   ],
   "metadata": {
    "collapsed": false,
    "pycharm": {
     "name": "#%%\n"
    }
   }
  },
  {
   "cell_type": "markdown",
   "source": [
    "A process called [garbage collector](https://devguide.python.org/garbage_collector/) keeps track of the references to memory addresses and makes sure that unused memory (memory addresses to which no active variable is pointing) can be used again by any other process. It is important to bear in mind that although this process is transparent for developers, the performance of our code is going to depend on the way we manage variable assignments!"
   ],
   "metadata": {
    "collapsed": false,
    "pycharm": {
     "name": "#%% md\n"
    }
   }
  }
 ],
 "metadata": {
  "kernelspec": {
   "name": "python3",
   "display_name": "Python 2.7.15 64-bit (system)"
  },
  "language_info": {
   "mimetype": "text/x-python",
   "nbconvert_exporter": "python",
   "name": "python",
   "pygments_lexer": "ipython2",
   "version": "2.7.15",
   "file_extension": ".py",
   "codemirror_mode": {
    "version": 2,
    "name": "ipython"
   }
  },
  "pycharm": {
   "stem_cell": {
    "cell_type": "raw",
    "source": [],
    "metadata": {
     "collapsed": false
    }
   }
  },
  "interpreter": {
   "hash": "3addd268b25661c1802571d40421a498472f412d745e7161ee2cc01d8b4a0718"
  }
 },
 "nbformat": 4,
 "nbformat_minor": 4
}