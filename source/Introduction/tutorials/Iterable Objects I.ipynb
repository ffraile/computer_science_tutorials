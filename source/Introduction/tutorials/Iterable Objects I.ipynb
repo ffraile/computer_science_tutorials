{
 "cells": [
  {
   "cell_type": "markdown",
   "source": [
    "# Iterable Objects\r\n",
    "## Lists\r\n",
    "Arrays are called **Lists** in Python. They can contain any type of variable, and they can contain as many variables as you wish. We can select a member of a list by appending to its name its index between brackets (indices go from 0 to its lenght -1). Lists can also be iterated over in a very simple manner."
   ],
   "metadata": {}
  },
  {
   "cell_type": "markdown",
   "source": [
    "Create an empty list using `[]`. Unlike basic built-in types, arrays are **mutable**. You can append numbers and strings in order using `mylist.append()`."
   ],
   "metadata": {}
  },
  {
   "cell_type": "code",
   "execution_count": 1,
   "source": [
    "# Create empty list with square brackets\r\n",
    "mylist = []\r\n",
    "print(\"the list id is {0} and its length is {1}\".format(id(mylist), len(mylist)))\r\n",
    "mylist.append(34)\r\n",
    "print(\"the list id is {0} and its length is {1}\".format(id(mylist), len(mylist)))\r\n",
    "\r\n",
    "mylist.append(\"hello\")\r\n",
    "print(\"the list id is {0} and its length is {1}\".format(id(mylist), len(mylist)))\r\n",
    "\r\n",
    "mylist.append(5.0)\r\n",
    "print(\"the list id is {0} and its length is {1}\".format(id(mylist), len(mylist)))\r\n",
    "\r\n",
    "print(mylist[0]) # prints first element\r\n",
    "print(mylist[1]) # prints second element\r\n",
    "print(mylist[2]) # prints third element"
   ],
   "outputs": [
    {
     "output_type": "stream",
     "name": "stdout",
     "text": [
      "the list id is 1807294391040 and its length is 0\n",
      "the list id is 1807294391040 and its length is 1\n",
      "the list id is 1807294391040 and its length is 2\n",
      "the list id is 1807294391040 and its length is 3\n",
      "34\n",
      "hello\n",
      "5.0\n"
     ]
    }
   ],
   "metadata": {}
  },
  {
   "cell_type": "markdown",
   "source": [
    "Lists can also be initialized with an initial length and constant values, but regardless of the initialization, the list is always mutable can can be modified. Also, its members can be modified. "
   ],
   "metadata": {}
  },
  {
   "cell_type": "code",
   "execution_count": 9,
   "source": [
    "mylist = [1, 2, 3]\r\n",
    "print(mylist)\r\n",
    "\r\n",
    "list2 = [\"Red\", \"Green\", \"Blue\"]\r\n",
    "print(list2)\r\n",
    "\r\n",
    "list2[1] = \"Orange\"\r\n",
    "print(list2)\r\n"
   ],
   "outputs": [
    {
     "output_type": "stream",
     "name": "stdout",
     "text": [
      "[1, 2, 3]\n",
      "['Red', 'Green', 'Blue']\n",
      "['Red', 'Orange', 'Blue']\n"
     ]
    }
   ],
   "metadata": {}
  },
  {
   "cell_type": "markdown",
   "source": [
    "Accessing an index which does not exist generates an exception (an error)."
   ],
   "metadata": {}
  },
  {
   "cell_type": "code",
   "execution_count": 2,
   "source": [
    "mylist = [1, 2, 3]\r\n",
    "print(mylist[10])  # Won't work"
   ],
   "outputs": [
    {
     "output_type": "error",
     "ename": "IndexError",
     "evalue": "list index out of range",
     "traceback": [
      "\u001b[0;31m---------------------------------------------------------------------------\u001b[0m",
      "\u001b[0;31mIndexError\u001b[0m                                Traceback (most recent call last)",
      "\u001b[0;32m<ipython-input-2-c7555aa57c73>\u001b[0m in \u001b[0;36m<module>\u001b[0;34m\u001b[0m\n\u001b[1;32m      1\u001b[0m \u001b[0mmylist\u001b[0m \u001b[0;34m=\u001b[0m \u001b[0;34m[\u001b[0m\u001b[0;36m1\u001b[0m\u001b[0;34m,\u001b[0m \u001b[0;36m2\u001b[0m\u001b[0;34m,\u001b[0m \u001b[0;36m3\u001b[0m\u001b[0;34m]\u001b[0m\u001b[0;34m\u001b[0m\u001b[0;34m\u001b[0m\u001b[0m\n\u001b[0;32m----> 2\u001b[0;31m \u001b[0mprint\u001b[0m\u001b[0;34m(\u001b[0m\u001b[0mmylist\u001b[0m\u001b[0;34m[\u001b[0m\u001b[0;36m10\u001b[0m\u001b[0;34m]\u001b[0m\u001b[0;34m)\u001b[0m  \u001b[0;31m# Won't work\u001b[0m\u001b[0;34m\u001b[0m\u001b[0;34m\u001b[0m\u001b[0m\n\u001b[0m",
      "\u001b[0;31mIndexError\u001b[0m: list index out of range"
     ]
    }
   ],
   "metadata": {}
  },
  {
   "cell_type": "markdown",
   "source": [
    "### Arithmetic operators with lists\r\n",
    "Basic arithmetic operators can be used with Lists. \r\n",
    "\r\n",
    "Use the addition to join/concatenate lists:"
   ],
   "metadata": {}
  },
  {
   "cell_type": "code",
   "execution_count": 10,
   "source": [
    "first = [1, 2, 3]\r\n",
    "second = [4, 5, 6]\r\n",
    "print(first + second)"
   ],
   "outputs": [
    {
     "output_type": "stream",
     "name": "stdout",
     "text": [
      "[1, 2, 3, 4, 5, 6]\n"
     ]
    }
   ],
   "metadata": {}
  },
  {
   "cell_type": "markdown",
   "source": [
    "Use multiplication to replicate lists:"
   ],
   "metadata": {}
  },
  {
   "cell_type": "code",
   "execution_count": 11,
   "source": [
    "print([1, 3, 5] * 3)"
   ],
   "outputs": [
    {
     "output_type": "stream",
     "name": "stdout",
     "text": [
      "[1, 3, 5, 1, 3, 5, 1, 3, 5]\n"
     ]
    }
   ],
   "metadata": {}
  },
  {
   "cell_type": "markdown",
   "source": [
    "### Indexing and slicing\r\n",
    "\r\n",
    "We already showed that it is possible ot access individual members of a list with indices, by specifying the index of the member between brackets. If the index is greater or equal than zero, it indicates the position from the left of the array, if the indez is nagetive, it indicates the position from the end of the array.\r\n",
    "Slicing is used to fetch a given number of subsequent members of a list. the basic slicing syntax is [a:b] where b > a, it will return  the members from a to b-1 from left to right. \r\n",
    "We can add a third parameter to indexing to control the slice sequence [a:b:c] will return the members from a to b -1 in c steps:"
   ],
   "metadata": {}
  },
  {
   "cell_type": "code",
   "execution_count": 8,
   "source": [
    "my_list = [1, 2, 3, 4, 5, 6]\r\n",
    "print(my_list[0]) # non-negative index: from the beginning of list\r\n",
    "print(my_list[-1]) # negative index: from the end of the list\r\n",
    "print(my_list[0:2]) #Slicing the two first members\r\n",
    "print(my_list[-3:-1]) #slicing from the end of the list\r\n",
    "print(my_list[3:0:-1]) # slicing in reverse order\r\n",
    "print(my_list[1:len(my_list):2]) # Slicing even members\r\n",
    "print(my_list[::2]) # Slicing odd members (leave empty to use first and last)\r\n",
    "print(my_list[::-1]) # Invert list\r\n"
   ],
   "outputs": [
    {
     "output_type": "stream",
     "name": "stdout",
     "text": [
      "1\n",
      "6\n",
      "[1, 2]\n",
      "[4, 5]\n",
      "[4, 3, 2]\n",
      "[2, 4, 6]\n",
      "[1, 3, 5]\n",
      "[6, 5, 4, 3, 2, 1]\n"
     ]
    }
   ],
   "metadata": {}
  },
  {
   "cell_type": "markdown",
   "source": [
    "### Logical Operator in\r\n",
    "The logical operator ```in``` returns True if an array contains a specific member:"
   ],
   "metadata": {}
  },
  {
   "cell_type": "code",
   "execution_count": null,
   "source": [
    "name = \"Paco\"\r\n",
    "if name in [\"Paco\", \"Pepe\"]:\r\n",
    "    print(\"Your name is either Paco or Pepe.\")"
   ],
   "outputs": [],
   "metadata": {}
  },
  {
   "cell_type": "markdown",
   "source": [
    "## Strings\r\n",
    "As mentioned above, string functions are also iterable objects, meaning that we can use indexing and slicing:"
   ],
   "metadata": {}
  },
  {
   "cell_type": "code",
   "execution_count": 6,
   "source": [
    "text = \"Hello world!\"\r\n",
    "print(text[1])\r\n",
    "print(text[5])"
   ],
   "outputs": [
    {
     "output_type": "stream",
     "name": "stdout",
     "text": [
      "e\n",
      " \n"
     ]
    }
   ],
   "metadata": {}
  },
  {
   "cell_type": "markdown",
   "source": [
    "Slice a string."
   ],
   "metadata": {}
  },
  {
   "cell_type": "code",
   "execution_count": 4,
   "source": [
    "text = \"Hello world!\"\r\n",
    "print(text[3:9])"
   ],
   "outputs": [
    {
     "output_type": "stream",
     "name": "stdout",
     "text": [
      "lo wor\n"
     ]
    }
   ],
   "metadata": {}
  },
  {
   "cell_type": "code",
   "execution_count": 5,
   "source": [
    "text = \"Hello world!\"\r\n",
    "print(text[3:9:2])"
   ],
   "outputs": [
    {
     "output_type": "stream",
     "name": "stdout",
     "text": [
      "l o\n"
     ]
    }
   ],
   "metadata": {}
  },
  {
   "cell_type": "markdown",
   "source": [
    "As with lists, if you want to indicate the firts index or the last index, you should use empty indexes:"
   ],
   "metadata": {}
  },
  {
   "cell_type": "code",
   "execution_count": 10,
   "source": [
    "text = \"Hello world!\"\r\n",
    "# Prints from index 5 to the end\r\n",
    "print(text[5:])\r\n",
    "# Prints from the beginning to index 7 (excluded)\r\n",
    "print(text[:7])\r\n",
    "# Prints from the beginning to the end, which is the same as print(text)\r\n",
    "print(text[:])"
   ],
   "outputs": [
    {
     "output_type": "stream",
     "name": "stdout",
     "text": [
      " world!\n",
      "Hello w\n",
      "Hello world!\n"
     ]
    }
   ],
   "metadata": {}
  },
  {
   "cell_type": "markdown",
   "source": [
    "Can you use indexing to print a text in reverse order? Yes you can!"
   ],
   "metadata": {}
  },
  {
   "cell_type": "code",
   "execution_count": 6,
   "source": [
    "text = \"Hello world!\"\r\n",
    "print(text[::-1])"
   ],
   "outputs": [
    {
     "output_type": "stream",
     "name": "stdout",
     "text": [
      "!dlrow olleH\n"
     ]
    }
   ],
   "metadata": {}
  },
  {
   "cell_type": "markdown",
   "source": [
    "So, by all means  strings are iterable objects and therefore we can select individual characters as members, but recall that, just as any other built-in type, strings are **immutable** objects and therefore their members cannot be modified:"
   ],
   "metadata": {}
  },
  {
   "cell_type": "code",
   "execution_count": 1,
   "source": [
    "text = \"Hello world!\"\r\n",
    "print(text[0])\r\n",
    "text[0] = \"h\" #this will not work"
   ],
   "outputs": [
    {
     "output_type": "stream",
     "name": "stdout",
     "text": [
      "H\n"
     ]
    },
    {
     "output_type": "error",
     "ename": "TypeError",
     "evalue": "'str' object does not support item assignment",
     "traceback": [
      "\u001b[1;31m---------------------------------------------------------------------------\u001b[0m",
      "\u001b[1;31mTypeError\u001b[0m                                 Traceback (most recent call last)",
      "\u001b[1;32m<ipython-input-1-6c65d70045ae>\u001b[0m in \u001b[0;36m<module>\u001b[1;34m\u001b[0m\n\u001b[0;32m      1\u001b[0m \u001b[0mtext\u001b[0m \u001b[1;33m=\u001b[0m \u001b[1;34m\"Hello world!\"\u001b[0m\u001b[1;33m\u001b[0m\u001b[1;33m\u001b[0m\u001b[0m\n\u001b[0;32m      2\u001b[0m \u001b[0mprint\u001b[0m\u001b[1;33m(\u001b[0m\u001b[0mtext\u001b[0m\u001b[1;33m[\u001b[0m\u001b[1;36m0\u001b[0m\u001b[1;33m]\u001b[0m\u001b[1;33m)\u001b[0m\u001b[1;33m\u001b[0m\u001b[1;33m\u001b[0m\u001b[0m\n\u001b[1;32m----> 3\u001b[1;33m \u001b[0mtext\u001b[0m\u001b[1;33m[\u001b[0m\u001b[1;36m0\u001b[0m\u001b[1;33m]\u001b[0m \u001b[1;33m=\u001b[0m \u001b[1;34m\"h\"\u001b[0m \u001b[1;31m#this will not work\u001b[0m\u001b[1;33m\u001b[0m\u001b[1;33m\u001b[0m\u001b[0m\n\u001b[0m",
      "\u001b[1;31mTypeError\u001b[0m: 'str' object does not support item assignment"
     ]
    }
   ],
   "metadata": {}
  }
 ],
 "metadata": {
  "kernelspec": {
   "name": "python3",
   "display_name": "Python 3.8.1 64-bit"
  },
  "language_info": {
   "codemirror_mode": {
    "name": "ipython",
    "version": 3
   },
   "file_extension": ".py",
   "mimetype": "text/x-python",
   "name": "python",
   "nbconvert_exporter": "python",
   "pygments_lexer": "ipython3",
   "version": "3.8.1"
  },
  "interpreter": {
   "hash": "2db524e06e9f5f4ffedc911c917cb75e12dbc923643829bf417064a77eb14d37"
  }
 },
 "nbformat": 4,
 "nbformat_minor": 4
}