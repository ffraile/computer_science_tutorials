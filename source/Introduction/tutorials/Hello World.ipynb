{
 "cells": [
  {
   "cell_type": "markdown",
   "metadata": {
    "collapsed": true,
    "pycharm": {
     "name": "#%% md\n"
    }
   },
   "source": [
    "# Hello world\n",
    "\n",
    "## Try me\n",
    " [![Open In Colab](https://colab.research.google.com/assets/colab-badge.svg)](https://colab.research.google.com/github/ffraile/computer_science_tutorials/blob/main/source/Introduction/tutorials/Hello%20World.ipynb)[![Binder](https://mybinder.org/badge_logo.svg)](https://mybinder.org/v2/gh/ffraile/computer_science_tutorials/main?labpath=source%2FIntroduction%2Ftutorials%2FHello%20World.ipynb)\n",
    "\n",
    "## Introduction\n",
    "Ok, ok, I know, we promised this book would be interactive and you want to get your hands dirty, so with no further ado, let us start programming!\n",
    "Note that this page is a little bit different than the introduction, because it integrates two badges to open this page´s Notebook in Colabs or Binder. \n",
    "There is a lot to unpack here, so let´s explain what these concepts are first.\n",
    "\n",
    "A [Jupyter Notebook](https://jupyter.org/) is a file that runs on Jupyter, which is an open platform for interactive, \n",
    "distributed computing. When you open a Jupyter Notebook on a web browser, what you see is text descriptions, code, math, graphs, and multi-media content. \n",
    "The code is interactive, meaning that you can just execute it from the web interface, making it an outstanding tool to share software and scientific results. \n",
    "The main advantages of Jupyter Notebooks are:\n",
    "\n",
    "1. **Explainability:** Jupyter Notebooks combine software code together with rich multimedia descriptions. This allows researchers to explain their results, show exactly the code the have used, describe its fundamentals and its results. This narrative format helps the reader understand and in extension reuse scientific results.\n",
    "\n",
    "2. **Composability:** You can easily combine different Jupyter Notebooks into larger project. This book is a good example! It is 100% built with Jupyter Notebooks.\n",
    "\n",
    "3. **Community Support:** There is a very large user community worldwide supporting Jupyter Notebooks. There are lots of open Jupyter Notebooks specifically build to learn computer programming, applied mathematics, or data science. \n",
    "\n",
    "[Google Colabs](https://colab.research.google.com/) is a Jupyter server provided by Google so that scientists can develop and exchange Jupyter Notebooks, and it only requires a valid Google account. Similarly, [Binder](https://mybinder.org) provides a Jupyter server environment to share Jupyter Notebooks that are stored in a code repository (another concept that we will concept extensively later in this book). Since, this book is consisted of Jupyter Notebooks stored in an open repository, you can either open them in Google Colabs or in Binder, just by clicking on the corresponding badges you can find at the top of the page.\n",
    "\n",
    "So, with no further ado, click on either badge to continue with this Hello World tutorial. \n",
    "\n",
    "## Notebook Files\n",
    "Jupyter Notebook is a web file based system, so you are now reading a Notebook file that someone wrote sometime ago and stored somewhere, in this case in a repository. Jupyter Notebooks are composed of **cells**. You can think of cells as sections of code that are executed by the Jupyter server. There are two types of cells:\n",
    "\n",
    "- Markdown cells: [Markdown](https://en.wikipedia.org/wiki/Markdown) is a declarative programming language that is used to edit **formatted text**, text with styles (titles, tables, hyper-links) and embedded multimedia content (images and videos). Normally, these are cells that will contain the documentation of our code, including text, math, and images. The Notebook Working with Markdown Cells contains a tutorial on how to write Markdown cells, but for now, if you want to get a hint of how Markdown cells look like, just double-click on this cell.\n",
    "- Code cells: Code cells contain sections of code that are executed by the Jupyter server. Code cells are interactive, they can ask for **user input** and **user output**, as you will learn below in the code cells included in this Hello World tutorial.\n",
    "\n",
    "## Executing Code Cells\n",
    "\n",
    "Ok, after this brief introduction, we are ready to execute our code cell below. This cell will just show in the output the message \"Hello World\", using the function `print`, which is a built-in function in Python that prints a text message in the output.\n"
   ]
  },
  {
   "cell_type": "code",
   "execution_count": 2,
   "outputs": [
    {
     "name": "stdout",
     "output_type": "stream",
     "text": [
      "Hello World\n"
     ]
    }
   ],
   "source": [
    "print(\"Hello World\")"
   ],
   "metadata": {
    "collapsed": false,
    "pycharm": {
     "name": "#%%\n"
    }
   }
  },
  {
   "cell_type": "markdown",
   "source": [
    "Look for the button with the Play icon ($\\blacktriangleright$), either to the left of the cell or in the top menu, and press it to execute the code cell. You should see the message \"Hello World\" in the output. You can also try to edit the message to a different message and execute the code cell again to see what happens, but please, mind your language!\n"
   ],
   "metadata": {
    "collapsed": false,
    "pycharm": {
     "name": "#%% md\n"
    }
   }
  },
  {
   "cell_type": "markdown",
   "source": [
    "## Editing the Notebook and saving your work\n",
    "Note that, as noted above, you can edit any cell in the Notebook just by double-clicking on it. In subsequent tutorials, we will learn how to edit Markdown cells and obviously, how to write code cells in Python, but for now, just bear in mind that you can make changes to the cells in the Notebook, for instance to complete the exercises you will find in the tutorials. Note also that you can also add or remove cells. For instance, in colabs, you just need to click on the buttons with the plus icon ($\\plus$) in the topbar menu to add a Code Cell ($\\plus$ Code) or a Markdown cell ($\\plus$ Text) below a selected cell:\n",
    "\n",
    "![Colabs top bar menu](img/colabs_top_bar_menu.png)\n",
    "\n",
    "\n",
    "In Binder, it is just the same, you just need to click on the button with the plus icon ($\\plus$) in the topbar menu to add a cell (by default, a code cell), then you can Click on the type selector to the right to change the type to Markdown if you want to add a Markdown cell instead:\n",
    "\n",
    "![Binder top bar menu](img/binder_top_bar_menu.png)\n",
    "\n",
    "To remove a cell, you can click on the trash icon in the topbar menu (Binder) or in the cell menu in the top right of the cell (Colabs).\n",
    "\n",
    "Note the little doggie in the Colabs menu? His name is *Corgie*, and you can meet him if you enable this options in the Colabs settings. If you are not a dog person, there are other options for you to explore. Now you can take some time to explore the different options available in the menu on your own.\n",
    "\n",
    "## Saving your work\n",
    "Now, the bad news. The changes you just made are not saved in the repository, and they are only available in the runtime environment of the Notebook. If you want to keep a copy of the changes, you need to save a copy of the Notebook. The simplest way to do this is in Colabs, by clicking on the 'Copy to Drive' button in the topbar menu of Colabs, or by opening the file menu and selecting 'Save a copy in Drive'.\n",
    "\n",
    "In binder, the process is a bit more convoluted. You need to click on the 'folder' icon in the lateral menu, right click the file you want to download and click the download button. This will download a copy of the Notebook into your computer.\n",
    "\n",
    "![Saving the images locally](img/saving%20files%20locally.PNG)\n",
    "\n",
    "If you are puzzled about the process, perhaps the next section can cast some light on it.\n",
    "\n",
    "## What just happened in the background?\n",
    "Ok, we know that Jupyter Notebooks provide a file format and a web environment to share interactive code and documentation. But how does this work in practice? The intention of this section is not to provide a complete explanation of the Jupyter Notebook system, but to give you a quick overview of how it works. We will revisit this overview in the future.\n",
    "\n",
    "In a nutshell, the Jupyter ecosystem follows the same design principles that guided the design of the Internet to generate and distribute scientific results. Let´s explain these principles using an example. When you use a web browser to search for results in Google, the browser connects to a service of Google (Google Search Engine) that lists results related to your search query.\n",
    "\n",
    "![searching for cats playing piano in Google](img/searching%20for%20cats%20playing%20piano%20in%20google.PNG)\n",
    "\n",
    "Each result is a web page, which in the end is not very different from a Jupyter Notebook. Each page has an index file (written in a markup language called Hypertext Markup Language, or HTML) that indexes the content of the page (text, video, other HTML files, etc.) The index filed and all the indexed content are referred to as **resources** and each one of them has a unique location in the Internet (Unique Resource Location or URL in short). Your browser uses Internet Protocols to access these resources, which are distributed in a networks of servers (called Content Delivery Networks, or CDNs) across the Internet.\n",
    "\n",
    "Jupyter adopts a similar model to implement a distributed model for interactive computation. The Jupyter Notebook file specifies the contents and code to be executed, and the Jupyter server shares the files, interprets the contents and *serves* them to the browser in the right format so that you can visualize it, run it, and edit it. To run the code cells, The Jupyter system deploys what are known as kernels. The communication protocols used by Jupyter Notebooks allow the server to pass the code in code cells to the kernel, and represent the output provided by the Kernel in the Notebook, similar to how a web page renders images or videos served from a CDN. In this course we will use Python kernels, but Jupyter supports other kernels, such as [R](https://en.wikipedia.org/wiki/R_(programming_language) kernels, or [Julia](https://en.wikipedia.org/wiki/Julia_(programming_language)) kernels.\n",
    "\n",
    "![Jupyter server](img/jupyter%20server.PNG)\n",
    "\n",
    "So, when you open a Jupyter Notebook in Colabs or Binder, the service providers make available for you a **sandbox Jupyter environment**, an isolated Jupyter environment with a dedicated file system, dedicated Jupyter server, and dedicated Python Kernels.  Kernels execute the code, servers host and interpret the Notebook files and the browser renders the file and presents the result. In the top bar of Colabs or Binder, you can see the status of the kernels, or browse the file system available to your Jupyter environment. And all this wonder is 100% free. The Jupyter Ecosystem is open source and neither Google nor Binder charge for the computing resources they make available everytime someone uses their services, so let´s just take one minute to appreciate it.\n"
   ],
   "metadata": {
    "collapsed": false,
    "pycharm": {
     "name": "#%% md\n"
    }
   }
  },
  {
   "cell_type": "markdown",
   "source": [
    "## Jupyter Notebook as an Integrated Development Environment\n",
    "An Integrated Development Environment, or IDE in short, is a software program to support software development. An IDE provides tools to edit computer program files, plus some additional features like:\n",
    " - **Code highlights:** The editor uses different styles to highlight syntax errors or promote best practices and standards as you write the code.\n",
    " - **Auto-complete:** Auto-complete features detect the code that you are writing and provide suggestions to complete the statement or even parts of the code.\n",
    " - **Inline documentation:** Provide access to documentation of the code you are writing.\n",
    " - **Error detection:** Detect errors in the execution of your code and provide helpful hints to fix them.\n",
    "\n",
    "Although formally Jupyter environments such as Colabs or Binder are not considered IDEs, they provide a suitable environment for developing Notebooks and in fact, Google Colabs provides all the features listed above.\n",
    "\n",
    "### IDE features in Colabs\n",
    "#### Code highlighting\n",
    "For instance, let us try with a new hello world cell above to see how the code highlighting works.\n"
   ],
   "metadata": {
    "collapsed": false,
    "pycharm": {
     "name": "#%% md\n"
    }
   }
  },
  {
   "cell_type": "code",
   "execution_count": 3,
   "outputs": [
    {
     "ename": "SyntaxError",
     "evalue": "EOL while scanning string literal (<ipython-input-3-531705a5b069>, line 2)",
     "output_type": "error",
     "traceback": [
      "\u001B[1;36m  File \u001B[1;32m\"<ipython-input-3-531705a5b069>\"\u001B[1;36m, line \u001B[1;32m2\u001B[0m\n\u001B[1;33m    print('My name is Python)\u001B[0m\n\u001B[1;37m                             ^\u001B[0m\n\u001B[1;31mSyntaxError\u001B[0m\u001B[1;31m:\u001B[0m EOL while scanning string literal\n"
     ]
    }
   ],
   "source": [
    "print('Hello, world!')\n",
    "print('My name is Python)"
   ],
   "metadata": {
    "collapsed": false,
    "pycharm": {
     "name": "#%%\n"
    }
   }
  },
  {
   "cell_type": "markdown",
   "source": [
    "Note that the text in the message in the second print statement is highlighted in red. Do you see the difference between the two print statements?\n",
    "If you noticed that the second print statement is missing one of the quotes, then you are good at identifying **syntax errors**. Remember that the syntax of a programming language determines they way that the code needs to be written, and the Python syntax establishes that the messages passed to the print function need to be strings of characters delimited by quotation marks (more on this on following tutorials. So, when you see these syntax error highlights, if you hover your mouse over the error, you will see a message that tells you what the error is. In this case, the error message is: \"String literal is unterminated\", meaning that you need to add the quotes at the end of the string to terminate the string. Go on, fix the line, and try to run the cell...\n",
    "\n",
    "#### Auto-complete\n",
    "the autocomplete feature can be accessed with the combination of keys CTRL + Enter. For instance, in the cell below, type *pr* and then press CTRL and Enter ($\\hookleftarrow$) at the same time. Colabs will will show a list of possible completions, and the first one is the print function. You can use the arrow keys to browse through the different completions, and the enter key to select one completion.\n"
   ],
   "metadata": {
    "collapsed": false,
    "pycharm": {
     "name": "#%% md\n"
    }
   }
  },
  {
   "cell_type": "code",
   "execution_count": null,
   "outputs": [],
   "source": [],
   "metadata": {
    "collapsed": false,
    "pycharm": {
     "name": "#%%\n"
    }
   }
  },
  {
   "cell_type": "markdown",
   "source": [
    "## Inline documentation\n",
    "Now, say you want to know more about the print function, or any other function for that matter. You can use the **Inline documentation** feature of Colabs. Just hover over the print function in the cell below:"
   ],
   "metadata": {
    "collapsed": false,
    "pycharm": {
     "name": "#%% md\n"
    }
   }
  },
  {
   "cell_type": "code",
   "execution_count": null,
   "outputs": [],
   "source": [
    "print('Show me the docs')"
   ],
   "metadata": {
    "collapsed": false,
    "pycharm": {
     "name": "#%%\n"
    }
   }
  },
  {
   "cell_type": "markdown",
   "source": [
    "Note that, as you hover, colabs shows some documentation of the function, for now, it is just some basic message saying that it is a built-in Python function. This is really basic documentation, as it is a basic function, but take my word, this is be a useful feature for you in the future.\n"
   ],
   "metadata": {
    "collapsed": false,
    "pycharm": {
     "name": "#%% md\n"
    }
   }
  },
  {
   "cell_type": "markdown",
   "source": [
    "## Error detection\n",
    "Not all errors are syntax errors and cannot be detected as you run the code, so IDEs provide additional features besides code highlighting to detect errors. For instance,do not modify the cell below and run it."
   ],
   "metadata": {
    "collapsed": false,
    "pycharm": {
     "name": "#%% md\n"
    }
   }
  },
  {
   "cell_type": "code",
   "execution_count": null,
   "outputs": [],
   "source": [
    "print('I am a careless programmer)"
   ],
   "metadata": {
    "collapsed": false,
    "pycharm": {
     "name": "#%%\n"
    }
   }
  },
  {
   "cell_type": "markdown",
   "source": [
    "Note that instead of the message *I am a careless programmer*, the output of the cell shows the error, which is the same as before, a SyntaxError. The output also provides an error **traceback** so that you can identify the line of code that caused the error and fix it.\n",
    "In Colabs, the message even provides links to [Stack Overflow](https://stackoverflow.com/), a developer community, to help you find the solution to the error in this website."
   ],
   "metadata": {
    "collapsed": false,
    "pycharm": {
     "name": "#%% md\n"
    }
   }
  },
  {
   "cell_type": "markdown",
   "source": [
    "## Basic Python Syntax\n",
    "In this section, we will cover the basic syntax of Python. We will go through each of the sections more in detail in other Notebooks, but to get the course started, let us cover the basic features of Python syntax.\n",
    "\n",
    "### Statements\n",
    "In Python, each statement is a line of code. Recall that a statement is an instruction for the computer, some specific task we want our computer to execute. For instance, the cell below also prints Hello world, but in two lines:\n",
    "\n"
   ],
   "metadata": {
    "collapsed": false,
    "pycharm": {
     "name": "#%% md\n"
    }
   }
  },
  {
   "cell_type": "code",
   "execution_count": 4,
   "outputs": [
    {
     "name": "stdout",
     "output_type": "stream",
     "text": [
      "Hello\n",
      "World\n"
     ]
    }
   ],
   "source": [
    "print('Hello')\n",
    "print('World')"
   ],
   "metadata": {
    "collapsed": false,
    "pycharm": {
     "name": "#%%\n"
    }
   }
  },
  {
   "cell_type": "markdown",
   "source": [
    "Because each  *print* statement (instruction) tells Python to print a different message in a new line of the output. As described in the introduction section, we can think of our code as a sequence of statements, so let us now cover the very basic types of statements in Python."
   ],
   "metadata": {
    "collapsed": false,
    "pycharm": {
     "name": "#%% md\n"
    }
   }
  },
  {
   "cell_type": "markdown",
   "source": [
    "### Comments\n",
    "Comments are used to make a code more readable by humans. Any other statement is meant for the Python interpreter, so that the computer executes the program, but comments are introduced either to help other collaborators understand our code and work more efficient as a team, or to explain future versions of ourselves to understand what we wrote in the past (believe it or not, you can forget why you wrote a statement in a particular way). You can add a comment to a statement by adding the hashtag symbol (#), either at the beginning of the line (all the line will be a code), or after the statement (the comment will be still executed by the computer, but you will provide some additional information for other humans). For instance:"
   ],
   "metadata": {
    "collapsed": false,
    "pycharm": {
     "name": "#%% md\n"
    }
   }
  },
  {
   "cell_type": "code",
   "execution_count": null,
   "outputs": [],
   "source": [
    "# This is a comment, the Python interpreter will ignore it\n",
    "print('Hello, world!') # This is actually printed, and this inline comment provides additional info"
   ],
   "metadata": {
    "collapsed": false,
    "pycharm": {
     "name": "#%%\n"
    }
   }
  },
  {
   "cell_type": "markdown",
   "source": [
    "### Indentation\n",
    "Indentation is the way that Python determines the structure of the code. We will revisit this concept when we are defining functions and control structures, but for now, let us assume that we cannot start a line with a space, as shown in the error below:\n"
   ],
   "metadata": {
    "collapsed": false,
    "pycharm": {
     "name": "#%% md\n"
    }
   }
  },
  {
   "cell_type": "code",
   "execution_count": 5,
   "outputs": [
    {
     "ename": "IndentationError",
     "evalue": "unexpected indent (<ipython-input-5-96db763c3a40>, line 4)",
     "output_type": "error",
     "traceback": [
      "\u001B[1;36m  File \u001B[1;32m\"<ipython-input-5-96db763c3a40>\"\u001B[1;36m, line \u001B[1;32m4\u001B[0m\n\u001B[1;33m    print('Hello, world!')\u001B[0m\n\u001B[1;37m    ^\u001B[0m\n\u001B[1;31mIndentationError\u001B[0m\u001B[1;31m:\u001B[0m unexpected indent\n"
     ]
    }
   ],
   "source": [
    "# This line is fine because it starts with a hash symbol, it is a comment\n",
    "print('Hello, world!') # This is also fine\n",
    "# The next line is an error, because the line starts with a space\n",
    "    print('Hello, world!')"
   ],
   "metadata": {
    "collapsed": false,
    "pycharm": {
     "name": "#%%\n"
    }
   }
  },
  {
   "cell_type": "markdown",
   "source": [
    "As you can see, the line that starts with spaces raises an *Unexpected indent* error, because, unless other programming languages, Python uses indentation to determine the execution order of statements. Since the previous line does not define any control structure, Python does not expect any indentation at the beginning of the line.\n",
    "\n",
    "### Assignment\n",
    "The assignment statement is used to assign a value to a **variable**. There is an extensive tutorial on variables, but for now, let us just assume that a variable is a symbol that we introduce in our code to manage values that might change, for instance, depending on the use we want to make of the program.\n",
    "The assigment statement is of the form: name_of_variable = value. For instance, the cell below assigns the value 5 to the variable **x**, and then prints the value of **x**:\n"
   ],
   "metadata": {
    "collapsed": false,
    "pycharm": {
     "name": "#%% md\n"
    }
   }
  },
  {
   "cell_type": "code",
   "execution_count": 7,
   "outputs": [
    {
     "name": "stdout",
     "output_type": "stream",
     "text": [
      "The value of x is:\n",
      "5\n"
     ]
    }
   ],
   "source": [
    "\n",
    "x = 5 # this is an assignment statement\n",
    "print('The value of x is:') # this is a print statement\n",
    "print(x) # this is a print statement"
   ],
   "metadata": {
    "collapsed": false,
    "pycharm": {
     "name": "#%%\n"
    }
   }
  },
  {
   "cell_type": "markdown",
   "source": [
    "### Functions\n",
    "A function is basically a **named** piece of code that encapsulates a set of statements. When we **call** the function, using its name, the interpreter will execute the statements encapsulated in the function, and it will (optionally) return the result. Therefore, functions helps us organize the code, introducing additional levels of abstraction. For now, let´s focus on how to call a function. The syntax is:\n",
    "```\n",
    "function_name(arg1, arg2, ..., argn)\n",
    "```\n",
    "\n",
    "That is, to call a function in a statement, we first write down the name of the function, and then, within parenthesis, the **arguments** lists, which are the values that we want to pass to the function so that it executes its internal code to adapt it to each specific use case.\n",
    "\n",
    "Python provides a set of [built-in functions](https://docs.python.org/3/library/functions.html]). You can check the documentation in the link even if you are not familiar with all the terminology yet, you might find some functions useful already at this point.\n",
    "\n",
    "Guess what, we have been using functions all along! The print function to be precise, Let us see how it works.\n",
    "\n",
    "#### Print\n",
    "```print``` is a function that prints a message to the output, as we saw in previous examples. Print takes an arbitrary number of arguments, separated by commas, and prints the values of the arguments in a new line. For instance:\n"
   ],
   "metadata": {
    "collapsed": false,
    "pycharm": {
     "name": "#%% md\n"
    }
   }
  },
  {
   "cell_type": "code",
   "execution_count": 8,
   "outputs": [
    {
     "name": "stdout",
     "output_type": "stream",
     "text": [
      "The value of x is 5\n"
     ]
    }
   ],
   "source": [
    "x = 5\n",
    "print(\"The value of x is\", x) # this is a print statement with two arguments"
   ],
   "metadata": {
    "collapsed": false,
    "pycharm": {
     "name": "#%%\n"
    }
   }
  },
  {
   "cell_type": "markdown",
   "source": [
    "Note that we do not need to worry how every character is rendered in the output of the browser, the function takes care of that. Note also that the comma is used to separate the arguments, the first argument is a literal string with the text *The Value of x is*, and the second is the variable x. Note that Python prints the value of the variable, not its name.\n",
    "\n",
    "Note also that by default, the separator used to separate the arguments in the output is a space, but you can change it to any other character using the **named** argument ```sep```. For instance, the following cell uses a comma plus a space as separator:\n"
   ],
   "metadata": {
    "collapsed": false,
    "pycharm": {
     "name": "#%% md\n"
    }
   }
  },
  {
   "cell_type": "code",
   "execution_count": 5,
   "outputs": [
    {
     "name": "stdout",
     "output_type": "stream",
     "text": [
      "my name is, Bond, James, Bond\n"
     ]
    }
   ],
   "source": [
    "name = 'James'\n",
    "surname = 'Bond'\n",
    "print(\"my name is\", surname, name, surname, sep=', ') # this is a print statement with two arguments, separated by a comma"
   ],
   "metadata": {
    "collapsed": false,
    "pycharm": {
     "name": "#%%\n"
    }
   }
  },
  {
   "cell_type": "markdown",
   "source": [
    "> ☝ Note that we referred to the argument **sep** as a **named** argument.  This is because we use the keyword ```sep``` to identify this parameter from the other arguments. The syntax is therefore ```name_of_argument=value```.\n",
    "\n",
    "```print``` also has a **named** argument ```end```, which is used to specify the string that is printed after the last argument. For instance:"
   ],
   "metadata": {
    "collapsed": false,
    "pycharm": {
     "name": "#%% md\n"
    }
   }
  },
  {
   "cell_type": "code",
   "execution_count": 6,
   "outputs": [
    {
     "name": "stdout",
     "output_type": "stream",
     "text": [
      "my name is, Bond, James, Bond!"
     ]
    }
   ],
   "source": [
    "name = 'James'\n",
    "surname = 'Bond'\n",
    "print(\"my name is\", surname, name, surname, sep=', ', end='!\\n') # this is a print statement with two arguments, separated by a comma, and the string *!* is printed after the last argument"
   ],
   "metadata": {
    "collapsed": false,
    "pycharm": {
     "name": "#%%\n"
    }
   }
  },
  {
   "cell_type": "markdown",
   "source": [
    "> ☝ Note that the end string contains an exclamation mark and ```\\n```. This is a **special character** used to print a new line. We will describe special characters in detail in following sections."
   ],
   "metadata": {
    "collapsed": false,
    "pycharm": {
     "name": "#%% md\n"
    }
   }
  },
  {
   "cell_type": "markdown",
   "source": [
    "#### Input\n",
    "```input``` is a function that reads a value from the input, and **returns** it as a string. Print takes a string argument used to show some text to the user so that he knows what type of information needs to be passed to the program.\n",
    "\n",
    "For instance, the cell below reads a value from the user and prints it:"
   ],
   "metadata": {
    "collapsed": false,
    "pycharm": {
     "name": "#%% md\n"
    }
   }
  },
  {
   "cell_type": "code",
   "execution_count": 1,
   "outputs": [
    {
     "name": "stdout",
     "output_type": "stream",
     "text": [
      "The value of x is 5\n"
     ]
    }
   ],
   "source": [
    "x = input('Enter a number: ') # this is the input statement\n",
    "print('The value of x is', x) # this is a print statement that prints the value of x"
   ],
   "metadata": {
    "collapsed": false,
    "pycharm": {
     "name": "#%%\n"
    }
   }
  },
  {
   "cell_type": "markdown",
   "source": [
    "Note that you can combine different input statements in the same cell, for instance:\n"
   ],
   "metadata": {
    "collapsed": false,
    "pycharm": {
     "name": "#%% md\n"
    }
   }
  },
  {
   "cell_type": "code",
   "execution_count": 3,
   "outputs": [
    {
     "name": "stdout",
     "output_type": "stream",
     "text": [
      "Hello Peter Parker !!\n"
     ]
    }
   ],
   "source": [
    "name = input('Enter your name: ') # this is the input statement\n",
    "surname = input('Enter your surname: ') # this is the input statement\n",
    "print('Hello', name, surname, \"!!\") # this is a print statement that prints the value of x\n"
   ],
   "metadata": {
    "collapsed": false,
    "pycharm": {
     "name": "#%%\n"
    }
   }
  },
  {
   "cell_type": "markdown",
   "source": [
    "#### int\n",
    "```int``` is a function that converts a string to an integer. For instance, the cell below converts the input provided by the user to an integer number:"
   ],
   "metadata": {
    "collapsed": false,
    "pycharm": {
     "name": "#%% md\n"
    }
   }
  },
  {
   "cell_type": "code",
   "execution_count": 8,
   "outputs": [
    {
     "name": "stdout",
     "output_type": "stream",
     "text": [
      "The value of x is 10\n"
     ]
    }
   ],
   "source": [
    "x = int(input('Enter an integer number (make sure it has no decimals): ')) # this is the input statement\n",
    "print('The value of x is', x) # this is a print statement that prints the value of x"
   ],
   "metadata": {
    "collapsed": false,
    "pycharm": {
     "name": "#%%\n"
    }
   }
  },
  {
   "cell_type": "markdown",
   "source": [
    "Note that the input string must be a number, and it must not contain any decimals. If you try to convert a string which is not numeric or contains decimals, the function will raise an error."
   ],
   "metadata": {
    "collapsed": false,
    "pycharm": {
     "name": "#%% md\n"
    }
   }
  }
 ],
 "metadata": {
  "kernelspec": {
   "display_name": "Python 3",
   "language": "python",
   "name": "python3"
  },
  "language_info": {
   "codemirror_mode": {
    "name": "ipython",
    "version": 2
   },
   "file_extension": ".py",
   "mimetype": "text/x-python",
   "name": "python",
   "nbconvert_exporter": "python",
   "pygments_lexer": "ipython2",
   "version": "2.7.6"
  },
  "pycharm": {
   "stem_cell": {
    "cell_type": "raw",
    "source": [],
    "metadata": {
     "collapsed": false
    }
   }
  }
 },
 "nbformat": 4,
 "nbformat_minor": 0
}