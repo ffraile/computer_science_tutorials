{
 "cells": [
  {
   "cell_type": "markdown",
   "metadata": {
    "collapsed": true
   },
   "source": [
    "# Hello world with Visual Studio Code\n",
    "\n",
    "## Try me\n",
    "[![Open In Colab](https://colab.research.google.com/assets/colab-badge.svg)](https://colab.research.google.com/github/ffraile/computer_science_tutorials/blob/main/source/Introduction/tutorials/Hello%20World.ipynb)[![Binder](https://mybinder.org/badge_logo.svg)](https://mybinder.org/v2/gh/ffraile/computer_science_tutorials/main?labpath=source%2FIntroduction%2Ftutorials%2FHello%20World.ipynb)\n",
    "\n",
    "## Introduction\n",
    "You are already familiar with the execution of code cells in Jupyter Notebooks. In this tutorial, we will see how to execute code cells locally in your computer, and how to further develop your code in Visual Studio Code. We will also see how to create a new project and execute your code in this IDE.\n",
    "\n",
    "\n",
    "\n",
    "## Downloading Python code from a Jupyter Notebook\n",
    "\n",
    "Ok, we have covered a lot of ground on Jupyter Notebook, now that we are going to use another environment, how can we leverage all the code in our Notebooks. Do not worry! Google Colabs has a very useful feature that allows you to download the code in your Notebook as a Python file. To do so, click on File->Download as -> *.py. You should see a file with the same name as your Notebook, but with the extension .py. This is a Python file, which you can open with any text editor, such as Notepad, or any IDE, such as Visual Studio Code. For instance, if you download the code in this Notebook, you should see a file named `Hello World.py` that contains the code in the following code cell:\n"
   ]
  },
  {
   "cell_type": "code",
   "execution_count": 2,
   "outputs": [
    {
     "name": "stdout",
     "output_type": "stream",
     "text": [
      "Hello World\n"
     ]
    }
   ],
   "source": [
    "print(\"Hello World\")"
   ],
   "metadata": {
    "collapsed": false
   }
  },
  {
   "cell_type": "markdown",
   "source": [
    "Let us use this code to see how to execute Python code in Visual Studio Code."
   ],
   "metadata": {
    "collapsed": false
   }
  },
  {
   "cell_type": "markdown",
   "source": [
    "## Working in Visual Studio\n",
    "### Creating a new project\n",
    "Ok, now that you have seen how to execute a code cell, let us see how to work with Visual Studio. First, create a **workspace** folder in your system. This will be the folder where you will store all the files for this course. For instance, you can name it `Computer Science`. Then, open Visual Studio and select the option to open a folder. Select the folder you have just created. You should see a screen similar to the one below.\n",
    "\n",
    "![Visual Studio Code](img/vscode_new_project.PNG)\n",
    "\n",
    "Now, you can either move the 'Hello World.py' file you downloaded from Colabs or create a new file and name it `hello-world.py`. You can do this by clicking on the file menu and selecting the option to create a new file, or with (CTRL+N), and then entering the name of the file. Then, copy the code in the cell above in the file and save it (CTRL+S) or File->Save. You should see the file in the explorer on the left side of the screen.\n",
    "\n",
    "```python\n",
    "print(\"Hello World\")\n",
    "```\n",
    "\n",
    "### Executing your code\n",
    "Now, to execute your code, you can either click on the Run button in the top right corner of the screen, or press F5. You should see the message \"Hello World\" in the output. You can also try to edit the message to a different message and execute the code cell again to see what happens, but please, mind your language!\n",
    "\n",
    "![Visual Studio Code Run](img/vscode_run.PNG)\n",
    "\n",
    "You can also execute your code by opening a terminal and typing:\n",
    "\n",
    "```shell\n",
    "python hello-world.py\n",
    "```\n",
    "\n",
    "This is how others could also execute your code, so it is a good idea to get familiar with this way of executing your programs. To open a terminal, click on the Terminal menu of Visual Code and select New Terminal. You will see a terminal window in the bottom panel, which you can use just as Power-Shell (Windows) or Terminal (MacOS). Now, just enter the command `python hello-world.py´, you should see the message \"Hello World\" in the output. You can also look for PowerShell or Terminal in your computer, CD (change directory) to the folder where you have your code and execute the same command.\n",
    "\n",
    "\n",
    "### Extra\n",
    "#### Accessing documentation\n",
    "You can access the documentation of any function by placing the cursor on top of the function. You should see the documentation of the function in a pop-up window on top the  function. If you want to learn more about the syntax of the documentation, head to our next tutorial on built-in functions.\n",
    "\n",
    "#### Debugging your code\n",
    "You can also debug your code in Visual Studio. To do so, first you need to enter what is called a **Breakpoint**. Debugging provides you extra control\n",
    "\n",
    "\n"
   ],
   "metadata": {
    "collapsed": false
   }
  }
 ],
 "metadata": {
  "kernelspec": {
   "display_name": "Python 3",
   "language": "python",
   "name": "python3"
  },
  "language_info": {
   "codemirror_mode": {
    "name": "ipython",
    "version": 2
   },
   "file_extension": ".py",
   "mimetype": "text/x-python",
   "name": "python",
   "nbconvert_exporter": "python",
   "pygments_lexer": "ipython2",
   "version": "2.7.6"
  },
  "pycharm": {
   "stem_cell": {
    "cell_type": "raw",
    "source": [],
    "metadata": {
     "collapsed": false
    }
   }
  }
 },
 "nbformat": 4,
 "nbformat_minor": 0
}
