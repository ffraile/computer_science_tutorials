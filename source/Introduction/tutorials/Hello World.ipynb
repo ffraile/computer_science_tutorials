{
 "cells": [
  {
   "cell_type": "markdown",
   "metadata": {
    "collapsed": true,
    "pycharm": {
     "name": "#%% md\n"
    }
   },
   "source": [
    "# Hello world\n",
    "\n",
    "## Try me\n",
    " [![Open In Colab](https://colab.research.google.com/assets/colab-badge.svg)](https://colab.research.google.com/github/ffraile/computer_science_tutorials/blob/main/source/Introduction/tutorials/Hello%20World.ipynb)[![Binder](https://mybinder.org/badge_logo.svg)](https://mybinder.org/v2/gh/ffraile/computer_science_tutorials/main?labpath=source%2FIntroduction%2Ftutorials%2FHello%20World.ipynb)\n",
    "\n",
    "## Introduction\n",
    "Ok, ok, I know, we promised this book would be interactive and you want to get your hands dirty, so with no further ado, let us start programming!\n",
    "Note that this page is a little bit different than the introduction, because it integrates two badges to open this page´s Notebook in Colabs or Binder. \n",
    "There is a lot to unpack here, so let´s explain what these concepts are first.\n",
    "\n",
    "A [Jupyter Notebook](https://jupyter.org/) is a file that runs on Jupyter, which is an open platform for interactive, \n",
    "distributed computing. When you open a Jupyter Notebook on a web browser, what you see is text descriptions, code, math, graphs, and multi-media content. \n",
    "The code is interactive, meaning that you can just execute it from the web interface, making it an outstanding tool to share software and scientific results. \n",
    "The main advantages of Jupyter Notebooks are:\n",
    "\n",
    "1. **Explainability:** Jupyter Notebooks combine software code together with rich multimedia descriptions. This allows researchers to explain their results, show exactly the code the have used, describe its fundamentals and its results. This narrative format helps the reader understand and in extension reuse scientific results.\n",
    "\n",
    "2. **Composability:** You can easily combine different Jupyter Notebooks into larger project. This book is a good example! It is 100% built with Jupyter Notebooks.\n",
    "\n",
    "3. **Community Support:** There is a very large user community worldwide supporting Jupyter Notebooks. There are lots of open Jupyter Notebooks specifically build to learn computer programming, applied mathematics, or data science. \n",
    "\n",
    "[Google Colabs](https://colab.research.google.com/) is a Jupyter server provided by Google so that scientists can develop and exchange Jupyter Notebooks, and it only requires a valid Google account. Similarly, [Binder](https://mybinder.org) provides a Jupyter server environment to share Jupyter Notebooks that are stored in a code repository (another concept that we will concept extensively later in this book). Since, this book is consisted of Jupyter Notebooks stored in an open repository, you can either open them in Google Colabs or in Binder, just by clicking on the corresponding badges you can find at the top of the page.\n",
    "\n",
    "So, with no further ado, click on either badge to continue with this Hello World tutorial. \n",
    "\n",
    "## Notebook Files\n",
    "Jupyter Notebook is a web file based system, so I am \n",
    "\n",
    "\n"
   ]
  }
 ],
 "metadata": {
  "kernelspec": {
   "display_name": "Python 3",
   "language": "python",
   "name": "python3"
  },
  "language_info": {
   "codemirror_mode": {
    "name": "ipython",
    "version": 2
   },
   "file_extension": ".py",
   "mimetype": "text/x-python",
   "name": "python",
   "nbconvert_exporter": "python",
   "pygments_lexer": "ipython2",
   "version": "2.7.6"
  },
  "pycharm": {
   "stem_cell": {
    "cell_type": "raw",
    "source": [],
    "metadata": {
     "collapsed": false
    }
   }
  }
 },
 "nbformat": 4,
 "nbformat_minor": 0
}