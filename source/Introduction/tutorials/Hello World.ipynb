{
 "cells": [
  {
   "cell_type": "markdown",
   "metadata": {
    "collapsed": true
   },
   "source": [
    "# Hello world\n",
    "\n",
    "## Try me\n",
    "[![Open In Colab](https://colab.research.google.com/assets/colab-badge.svg)](https://colab.research.google.com/github/ffraile/computer_science_tutorials/blob/main/source/Introduction/tutorials/Hello%20World.ipynb)[![Binder](https://mybinder.org/badge_logo.svg)](https://mybinder.org/v2/gh/ffraile/computer_science_tutorials/main?labpath=source%2FIntroduction%2Ftutorials%2FHello%20World.ipynb)\n",
    "\n",
    "## Introduction\n",
    "Ok, ok, I know, we promised this book would be interactive and you want to get your hands dirty, so with no further ado, let us start programming!\n",
    "Note that this page is a little bit different from the introduction, because it integrates two badges to open this page in two different interactive environments, Google Colabs and Binder. If you want to get familiar with these environments, please head to this [tutorial](./Jupyter%20Notebook%20Hello%20World.ipynb). In any case, for the remaining of this course, we will use Google Colabs, as a quick environment to get started with Python programminng and experiment with the code, but will use Visual Code Studio as our main development environment. So, now we will cover how to work with both environments.\n",
    "\n",
    "## Executing Code Cells\n",
    "\n",
    "Ok, after this brief introduction, we are ready to execute our code cell below. This cell will just show in the output the message \"Hello World\", using the function `print`, which is a built-in function in Python that prints a text message in the output.\n"
   ]
  },
  {
   "cell_type": "code",
   "execution_count": 2,
   "outputs": [
    {
     "name": "stdout",
     "output_type": "stream",
     "text": [
      "Hello World\n"
     ]
    }
   ],
   "source": [
    "print(\"Hello World\")"
   ],
   "metadata": {
    "collapsed": false
   }
  },
  {
   "cell_type": "markdown",
   "source": [
    "Look for the button with the Play icon ($\\blacktriangleright$), either to the left of the cell or in the top menu, and press it to execute the code cell. You should see the message \"Hello World\" in the output. You can also try to edit the message to a different message and execute the code cell again to see what happens, but please, mind your language!\n"
   ],
   "metadata": {
    "collapsed": false
   }
  },
  {
   "cell_type": "markdown",
   "source": [
    "## Working in Visual Studio\n",
    "### Creating a new project\n",
    "Ok, now that you have seen how to execute a code cell, let us see how to work with Visual Studio. First, create a **workspace** folder in your system. This will be the folder where you will store all the files for this course. For instance, you can name it `Computer Science`. Then, open Visual Studio and select the option to open a folder. Select the folder you have just created. You should see a screen similar to the one below.\n",
    "\n",
    "<img src=\"https://raw.githubusercontent.com/ffraile/computer_science_tutorials/main/source/Introduction/tutorials/img/vscode_new_project.png\" style=\"max-width: 600px\"/>\n",
    "\n",
    "Now, create a new file and name it `hello-world.py`. You can do this by clicking on the file menu and selecting the option to create a new file, or with (CTRL+N), and then entering the name of the file. Then, copy the code in the cell above in the file and save it (CTRL+S) or File->Save. You should see the file in the explorer on the left side of the screen.\n",
    "\n",
    "```{admonition} Example\n",
    ":class: note\n",
    "```python\n",
    "print(\"Hello World\")\n",
    "``````\n",
    "\n",
    "### Executing your code\n",
    "Now, to execute your code, you can either click on the Run button in the top right corner of the screen, or press F5. You should see the message \"Hello World\" in the output. You can also try to edit the message to a different message and execute the code cell again to see what happens, but please, mind your language!\n",
    "\n",
    "<img src=\"https://raw.githubusercontent.com/ffraile/computer_science_tutorials/main/source/Introduction/tutorials/img/vscode_run.png\" style=\"max-width: 600px\"/>\n",
    "\n",
    "You can also execute your code by opening a terminal and typing `python hello-world.py`. This is how others could also execute your code, so it is a good idea to get familiar with this way of executing your programs. To open a terminal, click on the Terminal menu and select New Terminal. You will see a terminal window in the bottom panel, which you can use just as Power Shell (Windows) or Terminal (MacOS). Now, just enter the command `python hello-world.py´, you should see the message \"Hello World\" in the output.\n",
    "\n",
    "\n",
    "### Extra\n",
    "#### Accessing documentation\n",
    "You can access the documentation of any function by placing the cursor on top of the function. You should see the documentation of the function in a pop-up window on top the  function. If you want to learn more about the syntax of the documentation, head to our next tutorial on built-in functions.\n",
    "\n",
    "#### Debugging your code\n",
    "You can also debug your code in Visual Studio. To do so, first you need to enter what is called a **Breakpoint**. Debugging provides you extra control\n",
    "\n",
    "\n"
   ],
   "metadata": {
    "collapsed": false
   }
  }
 ],
 "metadata": {
  "kernelspec": {
   "display_name": "Python 3",
   "language": "python",
   "name": "python3"
  },
  "language_info": {
   "codemirror_mode": {
    "name": "ipython",
    "version": 2
   },
   "file_extension": ".py",
   "mimetype": "text/x-python",
   "name": "python",
   "nbconvert_exporter": "python",
   "pygments_lexer": "ipython2",
   "version": "2.7.6"
  },
  "pycharm": {
   "stem_cell": {
    "cell_type": "raw",
    "source": [],
    "metadata": {
     "collapsed": false
    }
   }
  }
 },
 "nbformat": 4,
 "nbformat_minor": 0
}
