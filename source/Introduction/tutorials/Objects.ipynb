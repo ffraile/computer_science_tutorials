{
 "cells": [
  {
   "cell_type": "markdown",
   "source": [
    "Object-oriented design\n",
    "===\n",
    "A **class** is an object definition. Use the keyword `class` to create a class.  "
   ],
   "metadata": {
    "pycharm": {
     "name": "#%% md\n"
    }
   }
  },
  {
   "cell_type": "code",
   "execution_count": 1,
   "source": [
    "class MyClass(object):\n",
    "    def __init__(self, attr1, attr2): #Constructor definition\n",
    "        self.attribute1 = attr1\n",
    "        self.attribute2 = attr2\n",
    "        \n",
    "    def show(self):            # method\n",
    "        print(self.attribute1)\n",
    "        print(self.attribute2)"
   ],
   "outputs": [],
   "metadata": {
    "pycharm": {
     "name": "#%%\n"
    }
   }
  },
  {
   "cell_type": "markdown",
   "source": [
    "Encapsulation\n",
    "-------\n",
    "Attributes and methods are defined inside the class and for every object.  \n",
    "The *\\_\\_init\\_\\_* function is the **constructor**, it is automatically called when we *instantiate* an object. The first parameter of any method in a class, including the constructor, is **self**, which represents the **instance** of the class: The object that implements that class and has been instantiated from the main context. We use self to assign specific values to the properties of the class:"
   ],
   "metadata": {
    "pycharm": {
     "name": "#%% md\n"
    }
   }
  },
  {
   "cell_type": "code",
   "execution_count": 4,
   "source": [
    "class Polygon(object):\n",
    "    def __init__(self, sides):\n",
    "        self.sides = sides #the constructor assigns the value \"sides\" passed in the constructor to the property sides of the instance (self.sides)\n",
    "        \n",
    "    def print_number_of_sides(self):  #This is a method of the class\n",
    "        print(self.sides)"
   ],
   "outputs": [],
   "metadata": {
    "pycharm": {
     "name": "#%%\n"
    }
   }
  },
  {
   "cell_type": "markdown",
   "source": [
    "To create an instance of our class, we use the name of the class, passing the arguments of the initialisation method. Once we have created the instance and assigned it to a variable, we can access its methods and properties:"
   ],
   "metadata": {
    "pycharm": {
     "name": "#%% md\n"
    }
   }
  },
  {
   "cell_type": "code",
   "execution_count": 5,
   "source": [
    "poly = Polygon(7)\n",
    "poly.print_number_of_sides()\n",
    "print(poly.sides)"
   ],
   "outputs": [
    {
     "output_type": "stream",
     "name": "stdout",
     "text": [
      "7\n",
      "7\n"
     ]
    }
   ],
   "metadata": {
    "pycharm": {
     "name": "#%%\n"
    }
   }
  },
  {
   "cell_type": "markdown",
   "source": [
    "Abstraction\n",
    "-------\n",
    "We can create a subclass or a child class that inherits all methods and properties of its function. All methods and attributes from the *parent* class will be available and can be extended. In the constructor, we need to initialise the instance of the parent class through its constructor using ```super().__init__()```. "
   ],
   "metadata": {
    "pycharm": {
     "name": "#%% md\n"
    }
   }
  },
  {
   "cell_type": "code",
   "execution_count": 3,
   "source": [
    "class Square(Polygon):  #The parent is defined as a parameter in the class definition.\n",
    "    def __init__(self, color):\n",
    "        super().__init__(4)    #First we instantiate the parent class using super()\n",
    "        self.color = color     # We add a second perperty\n",
    "    def change_color(self, new_color):  # We define a new method, change color\n",
    "        self.color = new_color\n",
    "    def print_color(self):  # We define a new method, print color\n",
    "        print(self.color)"
   ],
   "outputs": [],
   "metadata": {
    "pycharm": {
     "name": "#%%\n"
    }
   }
  },
  {
   "cell_type": "code",
   "execution_count": 4,
   "source": [
    "s = Square(\"blue\")\n",
    "s.print_number_of_sides()\n",
    "s.print_color()\n",
    "s.change_color(\"red\")\n",
    "s.print_color()"
   ],
   "outputs": [
    {
     "output_type": "stream",
     "name": "stdout",
     "text": [
      "4\n",
      "blue\n",
      "red\n"
     ]
    }
   ],
   "metadata": {
    "pycharm": {
     "name": "#%%\n"
    }
   }
  },
  {
   "cell_type": "markdown",
   "source": [
    "Inheritance\n",
    "------\n",
    "Inheritance allows us to reuse the code from parent and share common code."
   ],
   "metadata": {
    "pycharm": {
     "name": "#%% md\n"
    }
   }
  },
  {
   "cell_type": "code",
   "execution_count": 5,
   "source": [
    "class Pentagon(Polygon):\n",
    "    def __init__(self):\n",
    "        super().__init__(5)"
   ],
   "outputs": [],
   "metadata": {
    "pycharm": {
     "name": "#%%\n"
    }
   }
  },
  {
   "cell_type": "code",
   "execution_count": 6,
   "source": [
    "pent = Pentagon()\n",
    "pent.print_number_of_sides()\n",
    "print(pent.sides)"
   ],
   "outputs": [
    {
     "output_type": "stream",
     "name": "stdout",
     "text": [
      "5\n",
      "5\n"
     ]
    }
   ],
   "metadata": {
    "pycharm": {
     "name": "#%%\n"
    }
   }
  },
  {
   "cell_type": "markdown",
   "source": [
    "Polymorphism\n",
    "-------\n",
    "Objects with a common base can implement the same methods doing different things."
   ],
   "metadata": {
    "pycharm": {
     "name": "#%% md\n"
    }
   }
  },
  {
   "cell_type": "code",
   "execution_count": 7,
   "source": [
    "class Triangle(Polygon):\n",
    "    def __init__(self):\n",
    "        super().__init__(3)\n",
    "    def draw(self):\n",
    "        print(\"This is a triangle:\")\n",
    "        print(\"  ^  \")\n",
    "        print(\" / \\\\\")\n",
    "        print(\"/___\\\\\")\n",
    "        \n",
    "class Rectangle(Polygon):\n",
    "    def __init__(self):\n",
    "        super().__init__(4)\n",
    "    def draw(self):\n",
    "        print(\"This is a rectangle:\")\n",
    "        print(\"+----+\")\n",
    "        print(\"|    |\")\n",
    "        print(\"|    |\")\n",
    "        print(\"+----+\")\n",
    "t = Triangle()\n",
    "r = Rectangle()\n",
    "t.draw()\n",
    "r.draw()"
   ],
   "outputs": [
    {
     "output_type": "stream",
     "name": "stdout",
     "text": [
      "This is a triangle:\n",
      "  ^  \n",
      " / \\\n",
      "/___\\\n",
      "This is a rectangle:\n",
      "+----+\n",
      "|    |\n",
      "|    |\n",
      "+----+\n"
     ]
    }
   ],
   "metadata": {
    "pycharm": {
     "name": "#%%\n"
    }
   }
  },
  {
   "cell_type": "code",
   "execution_count": 9,
   "source": [
    "# We can can call draw method without knowing which kind of polygon is\n",
    "polygons = [t, h, h, t, h]\n",
    "for p in polygons:\n",
    "    p.draw()"
   ],
   "outputs": [
    {
     "output_type": "stream",
     "name": "stdout",
     "text": [
      "- - -\n",
      "- - - - - -\n",
      "- - - - - -\n",
      "- - -\n",
      "- - - - - -\n"
     ]
    }
   ],
   "metadata": {
    "pycharm": {
     "name": "#%%\n"
    }
   }
  },
  {
   "cell_type": "code",
   "execution_count": null,
   "source": [],
   "outputs": [],
   "metadata": {
    "pycharm": {
     "name": "#%%\n"
    }
   }
  }
 ],
 "metadata": {
  "kernelspec": {
   "name": "python3",
   "display_name": "Python 3.8.1 64-bit"
  },
  "language_info": {
   "codemirror_mode": {
    "name": "ipython",
    "version": 3
   },
   "file_extension": ".py",
   "mimetype": "text/x-python",
   "name": "python",
   "nbconvert_exporter": "python",
   "pygments_lexer": "ipython3",
   "version": "3.8.1"
  },
  "interpreter": {
   "hash": "2db524e06e9f5f4ffedc911c917cb75e12dbc923643829bf417064a77eb14d37"
  }
 },
 "nbformat": 4,
 "nbformat_minor": 4
}