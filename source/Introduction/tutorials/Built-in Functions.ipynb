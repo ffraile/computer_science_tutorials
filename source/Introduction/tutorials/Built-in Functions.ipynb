{
 "cells": [
  {
   "cell_type": "markdown",
   "source": [
    "# Built-in functions\n",
    "\n",
    "## Try me\n",
    "[![Open In Colab](https://colab.research.google.com/assets/colab-badge.svg)](https://colab.research.google.com/github/ffraile/computer_science_tutorials/blob/main/source/Introduction/tutorials/Built%20in%20Functions.ipynb)[![Binder](https://mybinder.org/badge_logo.svg)](https://mybinder.org/v2/gh/ffraile/computer_science_tutorials/main?labpath=source%2FIntroduction%2Ftutorials%2FBuilt%20in%20Functions.ipynb)\n",
    "\n",
    "## What are built-in functions?\n",
    "Python comes pre-stocked with an array of built-in functions (functions that are already defined in Python). They are part of the Python language itself and are always available, just waiting for you to use them. These functions are like your handy multi-tool - ready to help, whether you need to open a can, tighten a screw, or measure something.\n",
    "\n",
    "Imagine you've just moved into a new home 🏚️. Imagine your new home comes pre-furnished with some essential items: a comfy bed, a spacious wardrobe, and maybe a well-stocked fridge to celebrate your house-warming party 🍾 . Python's built-in functions are just like these items - they're already there, ready for you to use. You don't have to go shopping to start enjoying your house!\n",
    "\n",
    "To find out what's in this toolbox, check out the 'IKEA catalogue' of Python's built-in functions in the [Python documentation](https://docs.python.org/3/library/functions.html). It's your one-stop-shop to discover all the tools Python offers right out of the box!\n",
    "\n",
    "To get ready to unpack the power of Python's built-in functions, your secret weapon in your journey of Python programming this tutorial includes some guidelines to read documentation and a cheat sheet to quickly access outstanding built-in functions 🚀\n",
    "\n",
    "## How to read documentation\n",
    "Let us take for example the built-in function `print()`. The documentation for this function can be found [here](https://docs.python.org/3/library/functions.html#print). At the time of writing, the documentation for this function looks like this:\n",
    "\n",
    "> print(*objects, sep=' ', end='\\n', file=None, flush=False)\n",
    ">Print objects to the text stream file, separated by sep and followed by end. sep, end, file, and flush, if present, must be given as keyword arguments.\n",
    "> All non-keyword arguments are converted to strings like str() does and written to the stream, separated by sep and followed by end. Both sep and end must be strings; they can also be None, which means to use the default values. If no objects are given, print() will just write end.\n",
    "> The file argument must be an object with a write(string) method; if it is not present or None, sys.stdout will be used. Since printed arguments are converted to text strings, print() cannot be used with binary mode file objects. For these, use file.write(...) instead.\n",
    "> Output buffering is usually determined by file. However, if flush is true, the stream is forcibly flushed.\n",
    "\n",
    "Ok, that's a lot of information! Let's break it down into smaller pieces. First, let us start with the function signature, which is the first line of the documentation:\n",
    "\n",
    "### Function signature\n",
    "\n",
    "> print(*objects, sep=' ', end='\\n', file=None, flush=False)\n",
    "\n",
    " It tells us the name of the function, the arguments or parameters it takes, and the default values for those parameters. In this case, the function name is `print()`, it takes five parameters, which are separated by commas.\n",
    "\n",
    "### Parameters\n",
    "#### Unnamed parameters\n",
    "The first parameter is noted as `*objects`. This means that the function can take any number of unnamed arguments. For instance, we can call the function with one argument `Hello World` like this:\n"
   ],
   "metadata": {
    "collapsed": false
   }
  },
  {
   "cell_type": "code",
   "execution_count": 1,
   "outputs": [
    {
     "name": "stdout",
     "output_type": "stream",
     "text": [
      "Hello World\n"
     ]
    }
   ],
   "source": [
    "print(\"Hello World\")"
   ],
   "metadata": {
    "collapsed": false
   }
  },
  {
   "cell_type": "markdown",
   "source": [
    "But we can also call it with two arguments `Hello` and `World` like this:"
   ],
   "metadata": {
    "collapsed": false
   }
  },
  {
   "cell_type": "code",
   "execution_count": 2,
   "outputs": [
    {
     "name": "stdout",
     "output_type": "stream",
     "text": [
      "Hello World\n"
     ]
    }
   ],
   "source": [
    "print(\"Hello\", \"World\")"
   ],
   "metadata": {
    "collapsed": false
   }
  },
  {
   "cell_type": "markdown",
   "source": [
    "In fact, we can call it with any number of arguments!\n",
    "\n",
    "Formally, this is expressed using the `*` symbol before the name of the parameter, which is called the unpacking operator. It allows us to pass an arbitrary number of arguments to the function.\n",
    "\n",
    "#### Named parameters\n",
    "The other four parameters are named parameters. This means that we have to specify the name of the parameter when we call the function. For instance, we can call the function with the parameter `sep` like this:\n",
    "\n"
   ],
   "metadata": {
    "collapsed": false
   }
  },
  {
   "cell_type": "code",
   "execution_count": 3,
   "outputs": [
    {
     "name": "stdout",
     "output_type": "stream",
     "text": [
      "Hello-World\n"
     ]
    }
   ],
   "source": [
    "print(\"Hello\", \"World\", sep=\"-\")"
   ],
   "metadata": {
    "collapsed": false
   }
  },
  {
   "cell_type": "markdown",
   "source": [
    "By using the name of the parameter, we can tell Python that this is not part of the unnamed parameters, but it is a named parameter.\n",
    "\n",
    "Can you tell the difference with the previous call? Exactly, `print` prints the *objects* passed as unnamed parameters, separated by a white space, which acts as the **separator**. The default separator can be changed using the `sep` parameter. Now, note that the documentation specifies that the default value of separator is a white space `sep=' '.\n",
    "\n",
    "The other named parameters are called `end`, `file`, and `flush`. Now, with this information, you can revisit the documentation and understand what each of these parameters does (hopefully!).\n",
    "\n",
    "### Return value\n",
    "The documentation also specifies the return value of the function. In this case, the documentation specifies that `print()` does not return anything. This is not specified in the documentation, but other functions will return a value and this will be explicitly mentioned in the documentation.\n",
    "\n",
    "## Cheat sheet\n",
    "The following cheat sheet includes some of the most useful built-in functions. It is not an exhaustive list, but it includes the most common ones. As mentioned, please refer to the full list of built-in functions in the [Python documentation](https://docs.python.org/3/library/functions.html).\n",
    "\n",
    "| Category         | Function                                                                | Description                                                                                                            |\n",
    "|------------------|-------------------------------------------------------------------------|------------------------------------------------------------------------------------------------------------------------|\n",
    "| Input and Output | [`print()`](https://docs.python.org/3/library/functions.html#print)     | Displays the specified message or variable value. Example: `print(\"Hello, World!\")`                                    |\n",
    "| Input and Output | [`input()`](https://docs.python.org/3/library/functions.html#input)     | Reads a line from input, converts it to a string. Example: `name = input(\"Enter your name: \")`                         |\n",
    "| Input and Output | [`bin()`](https://docs.python.org/3/library/functions.html#bin)         | Converts an integer to a binary string. Example: `bin(10)` results in `'0b1010'`                                       |\n",
    "| Input and Output | [`oct()`](https://docs.python.org/3/library/functions.html#oct)         | Converts an integer to an octal string. Example: `oct(10)` results in `'0o12'`                                         |\n",
    "| Numbers          | [`abs()`](https://docs.python.org/3/library/functions.html#abs)         | Returns the absolute value of a number. Example: `abs(-10)` results in `10`                                            |\n",
    "| Numbers          | [`round()`](https://docs.python.org/3/library/functions.html#round)     | Rounds a number to the nearest integer, or to the specified number of decimals. Example: `round(10.6)` results in `11` |\n",
    "| Numbers          | [`max()`](https://docs.python.org/3/library/functions.html#max)         | Returns the largest of the input values. Example: `max(1, 2, 3)` results in `3`                                        |\n",
    "| Numbers          | [`min()`](https://docs.python.org/3/library/functions.html#min)         | Returns the smallest of the input values. Example: `min(1, 2, 3)` results in `1`                                       |\n",
    "| Numbers          | [`complex()`](https://docs.python.org/3/library/functions.html#complex) | Returns a complex number. Example: `complex(1, 2)` results in `(1+2j)`                                                 |\n",
    "| Text             | [`len()`](https://docs.python.org/3/library/functions.html#len)         | Returns the length (the number of items) of an object. Example: `len(\"Hello\")` results in `5`                          |\n",
    "| Text             | [`str()`](https://docs.python.org/3/library/functions.html#func-str)    | Converts specified value into a string. Example: `str(10)` results in `\"10\"`                                           |\n",
    "| Text             | [`type()`](https://docs.python.org/3/library/functions.html#type)       | Returns the type of the specified object. Example: `type(10)` results in `<class 'int'>`                               |\n"
   ],
   "metadata": {
    "collapsed": false
   }
  }
 ],
 "metadata": {
  "kernelspec": {
   "display_name": "Python 3",
   "language": "python",
   "name": "python3"
  },
  "language_info": {
   "codemirror_mode": {
    "name": "ipython",
    "version": 2
   },
   "file_extension": ".py",
   "mimetype": "text/x-python",
   "name": "python",
   "nbconvert_exporter": "python",
   "pygments_lexer": "ipython2",
   "version": "2.7.6"
  }
 },
 "nbformat": 4,
 "nbformat_minor": 0
}
