{
 "nbformat": 4,
 "nbformat_minor": 0,
 "metadata": {
  "colab": {
   "provenance": []
  },
  "kernelspec": {
   "name": "python3",
   "display_name": "Python 3"
  },
  "language_info": {
   "name": "python"
  }
 },
 "cells": [
  {
   "cell_type": "markdown",
   "source": [
    "# Variables\n",
    "\n",
    "## Try me\n",
    "[![Open In Colab](https://colab.research.google.com/assets/colab-badge.svg)](https://colab.research.google.com/github/ffraile/computer_science_tutorials/blob/main/source/Introduction/follow_along/Variables_Follow_along.ipynb)[![Binder](https://mybinder.org/badge_logo.svg)](https://mybinder.org/v2/gh/ffraile/computer_science_tutorials/main?labpath=source%2FIntroduction%2Ffollow_along%2FVariables_Follow_along.ipynb)\n",
    "\n",
    "## Variable Assignment and Type Function\n",
    "the built-in function ```type()``` returns a description of the type of a variable ([see the docs](https://docs.python.org/3/library/functions.html#type)).\n"
   ],
   "metadata": {
    "id": "RznFhtIoSa-X"
   }
  },
  {
   "cell_type": "code",
   "execution_count": null,
   "metadata": {
    "id": "BUHcpoQPJymI"
   },
   "outputs": [],
   "source": []
  },
  {
   "cell_type": "markdown",
   "source": [
    "## Numeric Types 🔢\n",
    "The main numeric types in Python are ```int``` ```float``` and ```complex```."
   ],
   "metadata": {
    "id": "C4OInbs6S4r_"
   }
  },
  {
   "cell_type": "code",
   "source": [],
   "metadata": {
    "id": "Br2zG-P3Uj1n"
   },
   "execution_count": null,
   "outputs": []
  },
  {
   "cell_type": "markdown",
   "source": [
    "## Basic numeric operations\n",
    "Python can compute numeric operations using mathematical symbols (```+```, ```-```, ```*```, ```/```).\n",
    "\n",
    "**Important**:\n",
    "- ```**``` is used for exponentiation\n",
    "- ```%``` is the modulo operator (only for integers)\n",
    "- ```//``` is the integer division (only for integers)"
   ],
   "metadata": {
    "id": "APf0B5NbUmlO"
   }
  },
  {
   "cell_type": "code",
   "source": [],
   "metadata": {
    "id": "9B48yby5UlV-"
   },
   "execution_count": null,
   "outputs": []
  },
  {
   "cell_type": "markdown",
   "source": [
    "## Built-int functions with numbers\n",
    "- **abs()**: Returns the absolute value of a number (see the docs)[https://docs.python.org/3/library/functions.html#abs]\n",
    "- **round()**: Rounds a number to a given number of decimal places (see the docs)[https://docs.python.org/3/library/functions.html#round]\n",
    "- **max()**: Gets the maximum numeric value of a set of numbers (see the docs)[https://docs.python.org/3/library/functions.html#max]"
   ],
   "metadata": {
    "id": "U_rYX3IlVj_u"
   }
  },
  {
   "cell_type": "code",
   "source": [],
   "metadata": {
    "colab": {
     "base_uri": "https://localhost:8080/"
    },
    "id": "L-sGR45bVjdO",
    "outputId": "4f23d535-ea64-4784-bedd-458e46f7f58f",
    "pycharm": {
     "is_executing": true
    }
   },
   "execution_count": null,
   "outputs": []
  },
  {
   "cell_type": "markdown",
   "source": [
    "## Some cool attributes and methods 😎\n",
    "\n",
    "- **Methods:** Methods are functions that are associated with the type of the object, and are called using the dot (.) operator on the variable.\n",
    "\n",
    "- **Attributes:** Attributes are variables that are associated with the type of the object, and are accessed using the dot (.) operator on the variable."
   ],
   "metadata": {
    "id": "nb_K3sXR40OW"
   }
  },
  {
   "cell_type": "code",
   "source": [
    "# float method as_integer_ratio\n",
    "\n",
    "# complex method conjugate()\n",
    "\n",
    "# complex attributes.real and .imag"
   ],
   "metadata": {
    "id": "cV1CPccy47CL"
   },
   "execution_count": null,
   "outputs": []
  },
  {
   "cell_type": "markdown",
   "source": [],
   "metadata": {
    "collapsed": false
   }
  },
  {
   "cell_type": "markdown",
   "source": [
    "## (Extra) Binary and Hexadecimal expressions and Bitwise operations 🔝\n",
    "\n",
    "You can use binary and hexadecimal expressions in Python by prepending the number with ```0b``` or ```0x```, respectively.\n",
    "\n",
    "Python also supports bitwise operations on integers. These operations are performed on the binary representation of the integers:\n",
    "\n",
    "| Operation           | Symbol   | Description                                                   |\n",
    "|---------------------|----------|---------------------------------------------------------------|\n",
    "| Bitwise AND         | ```&```  | Returns 1 bitwise if the bits of both operands are 1.         |\n",
    "| Bitwise OR          | ```      | ```                                                           | Returns 1 bitwise if at least one of the bits of both operands is 1. |\n",
    "| Bitwise XOR         | ```^```  | Returns 1 bitwise if the bits of both operands are different. |\n",
    "| Bitwise NOT         | ```~```  | Returns the complement of the bits of the operand.            |\n",
    "| Bitwise Left Shift  | ```<<``` | Shifts the bits of the operand to the left.                   |\n",
    "| Bitwise Right Shift | ```>>``` | Shifts the bits of the operand to the right.                  |\n",
    "\n"
   ],
   "metadata": {
    "id": "1dgUrpnI4SO1"
   }
  },
  {
   "cell_type": "code",
   "source": [],
   "metadata": {
    "id": "Uv1VcmCG4OoH"
   },
   "execution_count": null,
   "outputs": []
  },
  {
   "cell_type": "markdown",
   "source": [
    "# String variables 📖\n",
    "Strings are defined using either simple or double quotation marks. They can also be defined using triple quotation marks, which allows them to span multiple lines. You can also use the built-in method ```str()``` to convert a variable to a string ([see the docs](https://docs.python.org/3/library/functions.html#func-str))."
   ],
   "metadata": {
    "id": "CFw1tGxx4tsI"
   }
  },
  {
   "cell_type": "code",
   "source": [],
   "metadata": {
    "id": "866EeGgs4sNM"
   },
   "execution_count": null,
   "outputs": []
  },
  {
   "cell_type": "markdown",
   "source": [
    "## Length of a string\n",
    "The built-in function ```len()``` returns the length of a string ([see the docs](https://docs.python.org/3/library/functions.html#len))."
   ],
   "metadata": {
    "collapsed": false
   }
  },
  {
   "cell_type": "code",
   "execution_count": null,
   "outputs": [],
   "source": [],
   "metadata": {
    "collapsed": false
   }
  },
  {
   "cell_type": "markdown",
   "source": [
    "\n",
    "## Basic operations\n",
    "\n",
    "’’’+’’’ operator joins or concatenates two strings\n",
    "\n",
    "Use the ’’’*’’’ operator to repeat a integer number of times"
   ],
   "metadata": {
    "id": "AxTacmp75ZJt"
   }
  },
  {
   "cell_type": "code",
   "source": [],
   "metadata": {
    "id": "ZdGpIjv_4qv5"
   },
   "execution_count": null,
   "outputs": []
  },
  {
   "cell_type": "markdown",
   "source": [
    "## String methods\n",
    "Strings have many awesome methods that can be used to manipulate them! 🤘 Here are some of the most useful ones:\n",
    "\n",
    "- **index()**: Returns the index of the first occurrence of a substring (see the docs)[https://docs.python.org/3/library/stdtypes.html#str.index]\n",
    "- **upper()**: Converts all characters to uppercase (see the docs)[https://docs.python.org/3/library/stdtypes.html#str.upper]\n",
    "- **lower()**: Converts all characters to lowercase (see the docs)[https://docs.python.org/3/library/stdtypes.html#str.lower]\n",
    "- **capitalize()**: Converts the first character to uppercase and the rest to lowercase (see the docs)[https://docs.python.org/3/library/stdtypes.html#str.capitalize]\n",
    "- **title()**: Converts the first character of each word to uppercase and the rest to lowercase (see the docs)[https://docs.python.org/3/library/stdtypes.html#str.title]\n",
    "- **strip()**: Removes leading and trailing whitespace (see the docs)[https://docs.python.org/3/library/stdtypes.html#str.strip]\n",
    "- **replace()**: Replaces a substring with another (see the docs)[https://docs.python.org/3/library/stdtypes.html#str.replace]\n",
    "- **split()**: Splits a string into a list of substrings (see the docs)[https://docs.python.org/3/library/stdtypes.html#str.split]\n",
    "- **join()**: Joins a list of strings into a single string (see the docs)[https://docs.python.org/3/library/stdtypes.html#str.join]\n",
    "- **find()**: Finds the first occurrence of a substring (see the docs)[https://docs.python.org/3/library/stdtypes.html#str.find]\n",
    "- **count()**: Counts the number of occurrences of a substring (see the docs)[https://docs.python.org/3/library/stdtypes.html#str.count]\n",
    "- **startswith()**: Checks if a string starts with a given substring (see the docs)[https://docs.python.org/3/library/stdtypes.html#str.startswith]\n",
    "- **endswith()**: Checks if a string ends with a given substring (see the docs)[https://docs.python.org/3/library/stdtypes.html#str.endswith]\n",
    "- **isalpha()**: Checks if a string is composed only of alphabetic characters (see the docs)[https://docs.python.org/3/library/stdtypes.html#str.isalpha]\n",
    "- **isnumeric()**: Checks if a string is composed only of numeric characters (see the docs)[https://docs.python.org/3/library/stdtypes.html#str.isnumeric]\n"
   ],
   "metadata": {
    "id": "RBuPjCBN5log"
   }
  },
  {
   "cell_type": "code",
   "execution_count": null,
   "outputs": [],
   "source": [
    "# String methods\n",
    "# index() and find() methods\n",
    "print(\"Hello World\".index(\"o\"))"
   ],
   "metadata": {
    "collapsed": false
   }
  }
 ]
}
