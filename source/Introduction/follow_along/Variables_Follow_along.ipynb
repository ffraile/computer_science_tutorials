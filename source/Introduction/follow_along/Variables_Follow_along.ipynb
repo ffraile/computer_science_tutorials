{
 "nbformat": 4,
 "nbformat_minor": 0,
 "metadata": {
  "colab": {
   "provenance": []
  },
  "kernelspec": {
   "name": "python3",
   "display_name": "Python 3 (ipykernel)",
   "language": "python"
  },
  "language_info": {
   "name": "python"
  }
 },
 "cells": [
  {
   "cell_type": "markdown",
   "source": [
    "# Variables\n",
    "\n",
    "## Try me\n",
    "[![Open In Colab](https://colab.research.google.com/assets/colab-badge.svg)](https://colab.research.google.com/github/ffraile/computer_science_tutorials/blob/main/source/Introduction/follow_along/Variables_Follow_along.ipynb)[![Binder](https://mybinder.org/badge_logo.svg)](https://mybinder.org/v2/gh/ffraile/computer_science_tutorials/main?labpath=source%2FIntroduction%2Ffollow_along%2FVariables_Follow_along.ipynb)\n",
    "\n",
    "## Variable Assignment and Type Function\n",
    "the built-in function ```type()``` returns a description of the type of a variable ([see the docs](https://docs.python.org/3/library/functions.html#type)).\n"
   ],
   "metadata": {
    "id": "RznFhtIoSa-X"
   }
  },
  {
   "cell_type": "code",
   "execution_count": null,
   "metadata": {
    "id": "BUHcpoQPJymI"
   },
   "outputs": [],
   "source": []
  },
  {
   "cell_type": "markdown",
   "source": [
    "## Numeric Types 🔢\n",
    "The main numeric types in Python are ```int``` ```float``` and ```complex```."
   ],
   "metadata": {
    "id": "C4OInbs6S4r_"
   }
  },
  {
   "cell_type": "code",
   "source": [],
   "metadata": {
    "id": "Br2zG-P3Uj1n"
   },
   "execution_count": null,
   "outputs": []
  },
  {
   "cell_type": "markdown",
   "source": [
    "## Basic numeric operations\n",
    "Python can compute numeric operations using mathematical symbols (```+```, ```-```, ```*```, ```/```).\n",
    "\n",
    "**⚠️ Important**\n",
    "- ```**``` is used for exponentiation\n",
    "- ```%``` is the modulo operator\n",
    "- ```//``` is the integer division\n",
    "\n",
    "**⚠️Important: Precedence**\n",
    "1. `()` parenthesis\n",
    "2. `**` exponentation\n",
    "3. Any operator dealing with multiplication and division `*`,`/`, `//`, `% `\n",
    "4. Addition and subtraction `+`,`-`\n",
    "- Operations from the same level executed left to right"
   ],
   "metadata": {
    "id": "APf0B5NbUmlO"
   }
  },
  {
   "cell_type": "code",
   "source": [
    "print(7//2)\n",
    "print(27%3)\n",
    "print(12-3*2**2)"
   ],
   "metadata": {
    "id": "9B48yby5UlV-"
   },
   "execution_count": null,
   "outputs": []
  },
  {
   "cell_type": "markdown",
   "source": [
    "## Built-int functions with numbers\n",
    "- **abs()**: Returns the absolute value of a number (see the docs)[https://docs.python.org/3/library/functions.html#abs]\n",
    "- **round()**: Rounds a number to a given number of decimal places (see the docs)[https://docs.python.org/3/library/functions.html#round]\n",
    "- **max()**: Gets the maximum numeric value of a set of numbers (see the docs)[https://docs.python.org/3/library/functions.html#max]"
   ],
   "metadata": {
    "id": "U_rYX3IlVj_u"
   }
  },
  {
   "cell_type": "code",
   "source": [
    "print(abs(-7))\n",
    "print(round(1/3,2))\n",
    "print(max(3.0, 3.14))"
   ],
   "metadata": {
    "colab": {
     "base_uri": "https://localhost:8080/"
    },
    "id": "L-sGR45bVjdO",
    "outputId": "4f23d535-ea64-4784-bedd-458e46f7f58f",
    "pycharm": {
     "is_executing": true
    }
   },
   "execution_count": null,
   "outputs": []
  },
  {
   "metadata": {},
   "cell_type": "markdown",
   "source": [
    "**⚠️ Important**\n",
    "[Floating point](https://en.wikipedia.org/wiki/Floating-point_arithmetic) representation in Python causes subtle differences in numbers. Make sure you use round to and define a sound precision for your application"
   ]
  },
  {
   "metadata": {},
   "cell_type": "code",
   "outputs": [],
   "execution_count": null,
   "source": "0.2 + 0.1 == 0.3"
  },
  {
   "cell_type": "markdown",
   "source": [
    "## Some cool attributes and methods 😎\n",
    "\n",
    "- **Methods:** Methods are functions that are associated with the type of the object, and are called using the dot (.) operator on the variable.\n",
    "\n",
    "- **Attributes:** Attributes are variables that are associated with the type of the object, and are accessed using the dot (.) operator on the variable."
   ],
   "metadata": {
    "id": "nb_K3sXR40OW"
   }
  },
  {
   "cell_type": "code",
   "source": [
    "# float method as_integer_ratio\n",
    "\n",
    "# complex method conjugate()\n",
    "\n",
    "# complex attributes.real and .imag"
   ],
   "metadata": {
    "id": "cV1CPccy47CL"
   },
   "execution_count": null,
   "outputs": []
  },
  {
   "cell_type": "markdown",
   "source": [
    "## (Extra) Binary and Hexadecimal expressions and Bitwise operations 🔝\n",
    "\n",
    "You can use binary and hexadecimal expressions in Python by prepending the number with ```0b``` or ```0x```, respectively.\n",
    "\n",
    "Python also supports bitwise operations on integers. These operations are performed on the binary representation of the integers:\n",
    "\n",
    "| Operation           | Symbol   | Description                                                   |\n",
    "|---------------------|----------|---------------------------------------------------------------|\n",
    "| Bitwise AND         | ```&```  | Returns 1 bitwise if the bits of both operands are 1.         |\n",
    "| Bitwise OR          | ```\\|``` | Returns 1 bitwise if at least one of the bits of both operands is 1. |\n",
    "| Bitwise XOR         | ```^```  | Returns 1 bitwise if the bits of both operands are different. |\n",
    "| Bitwise NOT         | ```~```  | Returns the complement of the bits of the operand.            |\n",
    "| Bitwise Left Shift  | ```<<``` | Shifts the bits of the operand to the left.                   |\n",
    "| Bitwise Right Shift | ```>>``` | Shifts the bits of the operand to the right.                  |\n",
    "\n"
   ],
   "metadata": {
    "id": "1dgUrpnI4SO1"
   }
  },
  {
   "cell_type": "code",
   "source": [],
   "metadata": {
    "id": "Uv1VcmCG4OoH"
   },
   "execution_count": null,
   "outputs": []
  },
  {
   "cell_type": "markdown",
   "source": [
    "# String variables 📖\n",
    "Strings are defined using either simple or double quotation marks. They can also be defined using triple quotation marks, which allows them to span multiple lines. You can also use the built-in method ```str()``` to convert a variable to a string ([see the docs](https://docs.python.org/3/library/functions.html#func-str))."
   ],
   "metadata": {
    "id": "CFw1tGxx4tsI"
   }
  },
  {
   "cell_type": "code",
   "source": [
    "print(\"Hello world!\") # This is a string, normally the first one ever typed by a programmer\n",
    "print(\n",
    "    \"\"\"Hello world!,\n",
    "I will be brief...\n",
    "\"\"\")"
   ],
   "metadata": {
    "id": "866EeGgs4sNM"
   },
   "outputs": [],
   "execution_count": null
  },
  {
   "cell_type": "markdown",
   "source": [
    "## Length of a string\n",
    "The built-in function ```len()``` returns the length of a string ([see the docs](https://docs.python.org/3/library/functions.html#len))."
   ],
   "metadata": {
    "collapsed": false
   }
  },
  {
   "cell_type": "code",
   "execution_count": null,
   "outputs": [],
   "source": [],
   "metadata": {
    "collapsed": false
   }
  },
  {
   "cell_type": "markdown",
   "source": [
    "\n",
    "## Basic operations\n",
    "\n",
    "`+` operator joins or concatenates two strings\n",
    "\n",
    "Use the `*` operator to repeat a integer number of times"
   ],
   "metadata": {
    "id": "AxTacmp75ZJt"
   }
  },
  {
   "cell_type": "code",
   "source": [],
   "metadata": {
    "id": "ZdGpIjv_4qv5"
   },
   "execution_count": null,
   "outputs": []
  },
  {
   "cell_type": "markdown",
   "source": [
    "## String methods\n",
    "Strings have many awesome methods that can be used to manipulate them! 🤘 Here are some of the most useful ones:\n",
    "\n",
    "- **index()**: Returns the index of the first occurrence of a substring (see the docs)[https://docs.python.org/3/library/stdtypes.html#str.index]\n",
    "- **upper()**: Converts all characters to uppercase (see the docs)[https://docs.python.org/3/library/stdtypes.html#str.upper]\n",
    "- **lower()**: Converts all characters to lowercase (see the docs)[https://docs.python.org/3/library/stdtypes.html#str.lower]\n",
    "- **capitalize()**: Converts the first character to uppercase and the rest to lowercase (see the docs)[https://docs.python.org/3/library/stdtypes.html#str.capitalize]\n",
    "- **title()**: Converts the first character of each word to uppercase and the rest to lowercase (see the docs)[https://docs.python.org/3/library/stdtypes.html#str.title]\n",
    "- **strip()**: Removes leading and trailing whitespace (see the docs)[https://docs.python.org/3/library/stdtypes.html#str.strip]\n",
    "- **replace()**: Replaces a substring with another (see the docs)[https://docs.python.org/3/library/stdtypes.html#str.replace]\n",
    "- **split()**: Splits a string into a list of substrings (see the docs)[https://docs.python.org/3/library/stdtypes.html#str.split]\n",
    "- **join()**: Joins a list of strings into a single string (see the docs)[https://docs.python.org/3/library/stdtypes.html#str.join]\n",
    "- **find()**: Finds the first occurrence of a substring (see the docs)[https://docs.python.org/3/library/stdtypes.html#str.find]\n",
    "- **count()**: Counts the number of occurrences of a substring (see the docs)[https://docs.python.org/3/library/stdtypes.html#str.count]\n",
    "- **startswith()**: Checks if a string starts with a given substring (see the docs)[https://docs.python.org/3/library/stdtypes.html#str.startswith]\n",
    "- **endswith()**: Checks if a string ends with a given substring (see the docs)[https://docs.python.org/3/library/stdtypes.html#str.endswith]\n",
    "- **isalpha()**: Checks if a string is composed only of alphabetic characters (see the docs)[https://docs.python.org/3/library/stdtypes.html#str.isalpha]\n",
    "- **isnumeric()**: Checks if a string is composed only of numeric characters (see the docs)[https://docs.python.org/3/library/stdtypes.html#str.isnumeric]\n"
   ],
   "metadata": {
    "id": "RBuPjCBN5log"
   }
  },
  {
   "cell_type": "code",
   "execution_count": null,
   "outputs": [],
   "source": [
    "# String methods\n",
    "# index() and find() methods\n",
    "print(\"Hello World\".index(\"o\"))"
   ],
   "metadata": {
    "collapsed": false
   }
  },
  {
   "cell_type": "markdown",
   "source": [
    "## Formatting strings\n",
    "We can control the format of numbers in strings using the ```format()``` method or creating f-strings.\n",
    "\n",
    "### format() method\n",
    "This method can be used to specify the number of decimal places, the number of digits, and the alignment of the number in the string. ([see the docs](https://docs.python.org/3/library/string.html#formatstrings))."
   ],
   "metadata": {
    "collapsed": false
   }
  },
  {
   "cell_type": "code",
   "execution_count": null,
   "outputs": [],
   "source": [
    "# Format method\n",
    "print(\"The value of pi is approximately {0:.3f}\".format(3.141592653589793))"
   ],
   "metadata": {
    "collapsed": false
   }
  },
  {
   "cell_type": "markdown",
   "source": [
    "### f-strings\n",
    "f-strings are a more recent way of formatting strings. They are defined by prepending the string with the letter ```f```, and can contain expressions inside curly braces. ([see the docs](https://docs.python.org/3/reference/lexical_analysis.html#f-strings))."
   ],
   "metadata": {
    "collapsed": false
   }
  },
  {
   "cell_type": "code",
   "execution_count": null,
   "outputs": [],
   "source": [
    "pi = 3.141592653589793\n",
    "print(f\"The value of pi is approximately {pi:.3f}\")"
   ],
   "metadata": {
    "collapsed": false
   }
  },
  {
   "metadata": {},
   "cell_type": "markdown",
   "source": [
    "## Boolean Variables ☯\n",
    "### Boolean variable assignment\n",
    "Meet Boolean variables! 🤖 They are like the little light switches of programming! 💡 They can only be `True` or `False`, and they help us build the logic of our programs! 🧠✨\n",
    "\n",
    "- **Type:** The type of Boolean variables is `bool`.\n",
    "- **Values:** They can only be `True` ✅ or `False` ❌.\n",
    "- **Use:** Think of them as the building blocks for making decisions in your code! 🏗️🤔\n",
    "\n",
    "Ready to play with some Boolean magic? 🧙‍♂️💫"
   ]
  },
  {
   "metadata": {},
   "cell_type": "code",
   "outputs": [],
   "execution_count": null,
   "source": ""
  },
  {
   "metadata": {},
   "cell_type": "markdown",
   "source": [
    "### Logical Operators\n",
    "#### Comparison operators 🕵️‍♀️\n",
    "Time for some detective work! 🧐 Comparison operators help us compare two values and discover the relationship between them! 💡\n",
    "\n",
    "\n",
    "| Operator                      | Symbol                   | Description                                                                                          |\n",
    "|-------------------------------|--------------------------|------------------------------------------------------------------------------------------------------|\n",
    "| Greater than `>`              | `a > b`                  | Returns `True` if the numeric operand a is greater than the numeric operand b                        |\n",
    "| Equal to `==`                 | `a == b`                 | Returns `True` if the numeric operand a is equal to the numeric operand b                            |\n",
    "| Greater than or equal to `>=` | `a >= b`                 | Returns `True` if the numeric operand a is greater than or equal to the numeric operand b            |\n",
    "| Less than or equal to `<=`    | `a <= b`                 | Returns `True` if the numeric operand a is less than or equal to the numeric operand b               |\n",
    "| Less than `<`                 | `a < b`                  | Returns `True` if the numeric operand a is less than the numeric operand b                           |\n"
   ]
  },
  {
   "metadata": {},
   "cell_type": "code",
   "outputs": [],
   "execution_count": null,
   "source": ""
  },
  {
   "metadata": {},
   "cell_type": "markdown",
   "source": [
    "#### Logical operators\n",
    "It´s time to build some complex logic! 🔗 Logical operators combine different boolean variables to create more complex conditions! 🧠💡\n",
    "\n",
    "| Operator                      | Symbol                   | Description                                                                                          |\n",
    "|-------------------------------|--------------------------|------------------------------------------------------------------------------------------------------|\n",
    "| `and`                         | `a & b`                  | Returns `True` if both operands (boolean variables a and b) are `True`                               |\n",
    "| `or`                          | <code>a &#124; b </code> | Returns `True` if at least one of the operands (boolean variables a and b) is `True`                 |\n",
    "| `not`                         | `!a`                     | Returns `True` if the operand (boolean variable a) is `False`                                        |\n",
    "| `xor`                         | `a ^ b`                  | Returns `True` if exactly one of the operands (boolean variables a and b) is `True`                  |\n"
   ]
  },
  {
   "metadata": {},
   "cell_type": "code",
   "outputs": [],
   "execution_count": null,
   "source": ""
  },
  {
   "metadata": {},
   "cell_type": "markdown",
   "source": [
    "# Bonus Exercises\n",
    "1. Write down a Python script to convert the value of temperatures provided in Fahrenheit to Celsius."
   ]
  },
  {
   "metadata": {},
   "cell_type": "code",
   "outputs": [],
   "execution_count": null,
   "source": ""
  },
  {
   "metadata": {},
   "cell_type": "markdown",
   "source": "2. Write down a function ```is_even(n)``` that checks whether a given number is even"
  },
  {
   "metadata": {},
   "cell_type": "code",
   "outputs": [],
   "execution_count": null,
   "source": [
    "def is_even(n):\n",
    "    ...         #TODO: Replace with your code"
   ]
  },
  {
   "metadata": {},
   "cell_type": "markdown",
   "source": "3. **Genetic research** You are working for Essex Incorporated a genetic company funded by scientific genius Nathaniel Essex. The company has transcripts of the genome of an individual stored as string variables (e.g: `gen_sequence = “AATATTCGTGTTTTTTTCAAACTGTG”`). Use Python built-in functions to determine the number of times the sequence `\"GTG\"` is found on the genome."
  },
  {
   "metadata": {},
   "cell_type": "code",
   "outputs": [],
   "execution_count": null,
   "source": "gen_sequence = \"AATATTCGTGTTTTTTTCAAACTGTG\""
  },
  {
   "metadata": {},
   "cell_type": "markdown",
   "source": "4. **Genetic editing** Back to Essex Incorcorporated, you are given a string variable that describes a genetic sequence (e.g: gen_sequence = \"AATATTCGTGTTTTTTTCAAACTGTG\"). Use the string type built-in functions to replace any occurrence of the sequence \"TCAA\" with the sequence \"TGCA\" and then, the sequence \"ATTC\" with the sequence \"GTCA\""
  },
  {
   "metadata": {},
   "cell_type": "code",
   "outputs": [],
   "execution_count": null,
   "source": ""
  },
  {
   "metadata": {},
   "cell_type": "markdown",
   "source": [
    "5. **Pac-man** You are supporting the development of a Pac-man game and need to complete the following function ```eat_ghost()```that takes the following paramenters:\n",
    "  - ```power_active``` boolean variable that is ```True``` when Pac-man is in *power* mode (after eating a power pellet) and can eat ghosts\n",
    "  - ```touching_ghost``` boolean variable that is ```True``` when Pac-man is touching a ghost\n",
    "  The function must return ```True``` only if Pac-man is in power mode on and is touching a ghost. Complete the code using just logical operators."
   ]
  },
  {
   "metadata": {},
   "cell_type": "code",
   "outputs": [],
   "execution_count": null,
   "source": [
    "def eat_ghost(power_active, touching_ghost):\n",
    "    ... #TODO: replace with your code"
   ]
  }
 ]
}
