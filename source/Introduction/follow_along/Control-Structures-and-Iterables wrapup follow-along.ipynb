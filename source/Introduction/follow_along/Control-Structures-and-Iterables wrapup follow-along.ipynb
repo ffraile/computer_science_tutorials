{
 "cells": [
  {
   "cell_type": "markdown",
   "source": [
    "# Boolean Variables, Basic Control Structures and Iterables\n",
    "\n",
    "## Online Book\n",
    "As a remainder, this is the follow along tutorial for the third lecture of the course. You can find the contents of the lecture [here](https://computer-science-tutorials.readthedocs.io/en/latest/Introduction/index_p1.html#control-structures-and-iterable-objects-i).\n",
    "\n",
    "## Try me\n",
    "[![Open In Colab](https://colab.research.google.com/assets/colab-badge.svg)](https://colab.research.google.com/github/ffraile/computer_science_tutorials/blob/main/source/Introduction/follow_along/Boolean%20Variables-Basic-Control-Structures-and-Iterables%20follow-along.ipynb)[![Binder](https://mybinder.org/badge_logo.svg)](https://mybinder.org/v2/gh/ffraile/computer_science_tutorials/main?labpath=source%2FIntroduction%2Ffollow_along%2FBoolean%20Variables-Basic-Control-Structures-and-Iterables%20follow-along.ipynb)\n",
    "\n"
   ],
   "metadata": {
    "collapsed": false
   }
  },
  {
   "cell_type": "markdown",
   "source": [
    "## Basic Control Structures\n",
    "### If-else statements\n",
    "\n",
    "If else statements allow you to use boolean variables to direct the flow of your code, just as if you were a traffic cop 🚦👮‍♀️\n",
    "\n",
    "Basic syntax is:\n",
    "\n",
    "```python\n",
    "if condition: #`condition` represents a conditional expression or boolean variable that evaluates either to True or False\n",
    "    x = 4 # Indented code is only executed if `condition`evaluates to True\n",
    "else: # the else clause is optional, you can skip it if not needed\n",
    "    x = 5 # This indented code is only executed if 'condition' evaluates to False\n",
    "print(x)\n",
    "```\n",
    "\n",
    "> ☝ Be aware of indentation! Indented code will be executed if the condition is met, so you need to be careful and indent only the right number of lines\n"
   ],
   "metadata": {
    "collapsed": false
   }
  },
  {
   "cell_type": "code",
   "execution_count": null,
   "outputs": [],
   "source": [
    "# Example 1: a very simple thermostat\n",
    "print(\"Let´s heat up! Do some push-ups 🔥\")\n",
    "print(\"Let´s get cold: get in the freezer! 🧊\")"
   ],
   "metadata": {
    "collapsed": false
   }
  },
  {
   "cell_type": "markdown",
   "source": [
    "#### Nested if\n",
    "We can use the elif clause to nest different boolean conditions and build *decision trees* into our programs:\n",
    "\n",
    "#### Example 2\n",
    "Let us build a program that asks the user for a grade in a scale from 0 to 100 percent and the program returns the corresponding letter grade in the following grading system:\n",
    "\n",
    "| Letter Grade | Percentage Range |\n",
    "|--------------|------------------|\n",
    "| A+           | 90% to 100%      |\n",
    "| A            | 80% to 90%       |\n",
    "| B+           | 75% to 80%       |\n",
    "| B            | 70% to 75%       |\n",
    "| C+           | 65% to 70%       |\n",
    "| C            | 60% to 65%       |\n",
    "| D+           | 55% to 60%       |\n",
    "| D            | 50% to 55%       |\n",
    "| E            | 40% to 50%       |\n",
    "| F            | 0% to 40%        |\n",
    "\n",
    "Try on your own to implement the own solution in the cell below!"
   ],
   "metadata": {
    "collapsed": false
   }
  },
  {
   "cell_type": "code",
   "execution_count": null,
   "outputs": [],
   "source": [
    "# Example 2: Let´s make a grading system\n",
    "percent_grade = float(input(\"Enter your grade in percent\"))\n",
    "grade_letter = \"F\" # Use this variable to return the grade letter\n",
    "# Insert your code in here\n",
    "\n",
    "print(\"Your grade letter is:\", grade_letter)"
   ],
   "metadata": {
    "collapsed": false
   }
  },
  {
   "cell_type": "markdown",
   "source": [
    "#### Compounded conditionals\n",
    "Note that you can use boolean operators such as ```and``` or ```or``` to combine conditions. In large compounded conditionals, parentheses can also be used (and highly recommended) to improve code readability.\n",
    "\n",
    "```python\n",
    "x = 3\n",
    "y = 5\n",
    "if (x == 3) and y == 5:\n",
    "    print(\"Both are true\")\n",
    "if x == 3 or y == 4:\n",
    "    print(\"At least one condition is true\")\n",
    "```\n",
    "\n",
    "### While loops\n",
    "While loops are used to repeat a block of code while a condition is met. The syntax is:\n",
    "\n",
    "```python\n",
    "while condition: #`condition` represents a conditional expression or boolean variable that evaluates either to True or False\n",
    "    x = 4 # Indented code is only executed if `condition`evaluates to True\n",
    "    # The condition is evaluated again\n",
    "    # If it is still True, the code is executed again\n",
    "    # If it is False, the loop is exited and the code after the loop is executed\n",
    "```\n",
    "\n",
    "> ☝ Again, be aware of indentation! Indented code will be executed if the condition is met, so you need to be careful and indent only the right number of lines\n"
   ],
   "metadata": {
    "collapsed": false
   }
  },
  {
   "cell_type": "code",
   "execution_count": null,
   "outputs": [],
   "source": [
    "# Example 3: duh-duh bot\n",
    "while True:\n",
    "    message = input(\"What´d you say?\")\n",
    "    print(message + \"duh-duh\")"
   ],
   "metadata": {
    "collapsed": false
   }
  },
  {
   "cell_type": "markdown",
   "source": [
    "### Break and continue\n",
    "We can use the `break` and `continue` statements to control the flow of our loops. The `break` statement will exit the loop, while the `continue` statement will skip the rest of the code in the loop and start again from the beginning.\n",
    "\n",
    "#### Break statement\n"
   ],
   "metadata": {
    "collapsed": false
   }
  },
  {
   "cell_type": "code",
   "execution_count": null,
   "outputs": [],
   "source": [
    "# Example 4: Guess the number\n",
    "import random                   # We need to import the random module to generate random numbers\n",
    "number = random.randint(1, 10)  # We generate a random number between 1 and 10"
   ],
   "metadata": {
    "collapsed": false
   }
  },
  {
   "cell_type": "markdown",
   "source": [
    "#### Continue statement\n",
    "The continue statement forces the control logic to go back to the beginning of the loop, but does not interrupt it, it will still continue until the logical expression in the while clause evaluates to false:"
   ],
   "metadata": {
    "collapsed": false
   }
  },
  {
   "cell_type": "code",
   "execution_count": null,
   "outputs": [],
   "source": [
    "x = 0\n",
    "y = 0\n",
    "while x < 5:\n",
    "    x = x+1\n",
    "    if x%2 == 0: # Recall that that % is the modulo operator, returning the reminder after integer division.\n",
    "        # We will only reach here when x is even\n",
    "        print(x, \"is an even number\")\n",
    "        continue\n",
    "    y += x # Since continue returns to the beginning of the loop, we do not reach this line for even numbers\n",
    "    print(x, \"is an odd number\")\n",
    "\n",
    "print(\"the value of y is\", y)"
   ],
   "metadata": {
    "collapsed": false
   }
  },
  {
   "cell_type": "markdown",
   "source": [
    "## Iterables\n",
    "### Lists\n",
    "Lists are a collection of elements that can be of any type. Lists are defined using square brackets `[]` and elements are separated by commas `,`. Lists can be empty, or contain any number of elements. Elements can be accessed by their index, which starts at 0.\n"
   ],
   "metadata": {
    "collapsed": false
   }
  },
  {
   "cell_type": "code",
   "execution_count": null,
   "outputs": [],
   "source": [
    "# Creating lists: Classroom row"
   ],
   "metadata": {
    "collapsed": false
   }
  },
  {
   "cell_type": "markdown",
   "source": [
    "### Accessing a subset elements: slicing\n",
    "Slicing allows to access a subset of elements in a list. The syntax is `list[start:end:step]`, where `start` is the index of the first element to be included, `end` is the index of the first element to be excluded, and `step` is the number of elements to skip. If `start` is not specified, it is assumed to be 0. If `end` is not specified, it is assumed to be the length of the list. If `step` is not specified, it is assumed to be 1."
   ],
   "metadata": {
    "collapsed": false
   }
  },
  {
   "cell_type": "code",
   "execution_count": null,
   "outputs": [],
   "source": [
    "# Slicing the row"
   ],
   "metadata": {
    "collapsed": false
   }
  },
  {
   "cell_type": "markdown",
   "source": [
    "## For loops\n",
    "For loops are used to iterate over a collection of elements. The syntax is:\n",
    "\n",
    "```python\n",
    "for element in iterable: #`iterable` represents a collection of elements, such as a list\n",
    "    print(element) # Indented code is executed for each element in the iterable\n",
    "    # The next element is selected\n",
    "    # If there are no more elements, the loop is exited and the code after the loop is executed\n",
    "```\n"
   ],
   "metadata": {
    "collapsed": false
   }
  },
  {
   "cell_type": "code",
   "execution_count": null,
   "outputs": [],
   "source": [
    "# Example 5: Let´s generate corporative emails for our classroom"
   ],
   "metadata": {
    "collapsed": false
   }
  },
  {
   "metadata": {},
   "cell_type": "markdown",
   "source": [
    "## Bonus Exercises\n",
    "1. Develop a Python script that prints \"Yes, the weather is hot 🔥\" if the variable 'temperature' is greater than 30ª Celsius, and prints \"No, the weather is not hot 🧊\" otherwise. Use the input function to ask the user for the temperature.\n"
   ]
  },
  {
   "metadata": {},
   "cell_type": "code",
   "outputs": [],
   "execution_count": null,
   "source": ""
  },
  {
   "metadata": {},
   "cell_type": "markdown",
   "source": "2. Modify the previous script to take into account the humidity level in percentage as well. We will consider that the temperature is hot if the temperature is higher than 30ª Celsius, but also if the temperature is higher than 24ª Celsius and the humidity is higher than 60%. Use a logical operator to combine the two conditions, and use the input function to ask the user for the humidity level."
  },
  {
   "metadata": {},
   "cell_type": "code",
   "outputs": [],
   "execution_count": null,
   "source": ""
  },
  {
   "metadata": {},
   "cell_type": "markdown",
   "source": "3. Complete the following Python script so that it exists a while loop when the input provided by the user, stored in the variable \"your_guess\" is equal to the variable \"my_name\"\n"
  },
  {
   "metadata": {},
   "cell_type": "code",
   "outputs": [],
   "execution_count": null,
   "source": [
    "my_name = \"Thomas\"\n",
    "your_guess = \"\""
   ]
  },
  {
   "metadata": {},
   "cell_type": "markdown",
   "source": "4. Build a while loop to print the even numbers from 1 to 20 in reverse order (from 20 to 1). The sequence should be 20, 18, 16, 14, 12, 10, 8, 6, 4, 2.\n"
  },
  {
   "metadata": {},
   "cell_type": "code",
   "outputs": [],
   "execution_count": null,
   "source": ""
  },
  {
   "metadata": {},
   "cell_type": "markdown",
   "source": "5. Modify the previous exercise to print odd numbers from 1 to 19 instead, not in reverse order, only if they cannot be divided by a previous odd number except one. For example, the number 9 is a multiple of 3, which is a previous odd number, so your script should not print 9. However, the number 11 is not a multiple of 3, so your script should print 11. The sequence should be 1, 3, 5, 7, 11, 13, 17, 19."
  },
  {
   "metadata": {},
   "cell_type": "code",
   "outputs": [],
   "execution_count": null,
   "source": ""
  }
 ],
 "metadata": {
  "kernelspec": {
   "display_name": "Python 3",
   "language": "python",
   "name": "python3"
  },
  "language_info": {
   "codemirror_mode": {
    "name": "ipython",
    "version": 2
   },
   "file_extension": ".py",
   "mimetype": "text/x-python",
   "name": "python",
   "nbconvert_exporter": "python",
   "pygments_lexer": "ipython2",
   "version": "2.7.6"
  }
 },
 "nbformat": 4,
 "nbformat_minor": 0
}
