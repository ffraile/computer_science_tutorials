{
 "cells": [
  {
   "cell_type": "markdown",
   "id": "bca1dd17",
   "metadata": {
    "id": "bca1dd17"
   },
   "source": [
    "# Follow-Along Notebook — Python, Jupyter, and Functions (Class Wrap‑Up)\n",
    "\n",
    "**In this notebook you will:**\n",
    "\n",
    "✅ Learn the basics of Markdown vs Code cells in Jupyter/Colab.  \n",
    "✅ Run your first Python code (Hello, world).  \n",
    "✅ Recap the *sandwich assembly* example using functions and **returns**.  \n",
    "✅ Do the **Quick Checks** from class (intro + functions).  \n",
    "✅ Finish with a short tour of useful **built‑in functions**."
   ]
  },
  {
   "cell_type": "markdown",
   "id": "430f4dfb",
   "metadata": {
    "id": "430f4dfb"
   },
   "source": [
    "## 1) Jupyter/Colab Basics\n",
    "\n",
    "- A **Markdown cell** is for headings, text, lists, and inline code \\(like `print()`\\).  \n",
    "- A **Code cell** is for Python code you can run.  "
   ]
  },
  {
   "cell_type": "markdown",
   "id": "41ef0411",
   "metadata": {
    "id": "41ef0411"
   },
   "source": [
    "### Markdown examples\n",
    "- **Bold**, *italics*, `inline code`\n",
    "- Lists:\n",
    "  - item 1\n",
    "  - item 2\n",
    "- Code block:\n",
    "```python\n",
    "print(\"This is inside a Markdown code fence (not executed).\")\n",
    "```\n",
    "\n",
    "Check the [official cheat-sheet](https://www.markdownguide.org/cheat-sheet/) and a [quick guide](https://programming.engineeringcodehub.com/en/latest/Introduction/tutorials/Working%20with%20Markdown%20cells.html)"
   ]
  },
  {
   "cell_type": "markdown",
   "source": [
    "### Practice: Double Click\n",
    "Click on this cell to edit. Add a list of 3 goals **you** have for this course."
   ],
   "metadata": {
    "id": "-q1_6jtubCDn"
   },
   "id": "-q1_6jtubCDn"
  },
  {
   "cell_type": "markdown",
   "id": "0a7a8de1",
   "metadata": {
    "id": "0a7a8de1"
   },
   "source": [
    "## 2) Hello, world (Code cell)\n",
    "- **Run a cell** with <kbd>Shift</kbd>+<kbd>Enter</kbd> (or the ▶️ button).  \n",
    "- If something goes weird, use *Runtime → Restart session* (Colab) or *Kernel → Restart* (Jupyter).\n",
    "\n",
    "### Practice\n",
    "Run the cell below. Then edit the message and run again."
   ]
  },
  {
   "cell_type": "code",
   "execution_count": 2,
   "id": "bc1e80f8",
   "metadata": {
    "colab": {
     "base_uri": "https://localhost:8080/"
    },
    "id": "bc1e80f8",
    "outputId": "689c9200-aee7-4a1a-8e7d-8b5fc2ba9280"
   },
   "outputs": [
    {
     "output_type": "stream",
     "name": "stdout",
     "text": [
      "Hello, world!\n"
     ]
    }
   ],
   "source": [
    "\n",
    "# Try editing the string and re-running.\n",
    "print(\"Hello, world!\")"
   ]
  },
  {
   "cell_type": "markdown",
   "id": "11a356eb",
   "metadata": {
    "id": "11a356eb"
   },
   "source": [
    "### Variables and simple expressions"
   ]
  },
  {
   "cell_type": "code",
   "execution_count": 4,
   "id": "bc0beffd",
   "metadata": {
    "colab": {
     "base_uri": "https://localhost:8080/"
    },
    "id": "bc0beffd",
    "outputId": "9d88e058-a23e-48ac-d9ae-b21fdd70fe6a"
   },
   "outputs": [
    {
     "output_type": "stream",
     "name": "stdout",
     "text": [
      "x: 2 and y: 5\n"
     ]
    }
   ],
   "source": [
    "\n",
    "x = 2\n",
    "y = x + 3\n",
    "print(\"x:\", x, \"and y:\", y)   # x=2, y=5"
   ]
  },
  {
   "cell_type": "markdown",
   "id": "abbcb11a",
   "metadata": {
    "id": "abbcb11a"
   },
   "source": [
    "## 3) Sandwich Assembly — Function Recap\n",
    "\n",
    "**Goal:** Model the sandwich pipeline with functions that **return** data instead of printing.\n",
    "We'll build a list representing the sandwich ingredients, in order.\n",
    "\n",
    "**Design tips:**\n",
    "- Keep core logic **pure**: functions return a *new* string rather than printing.\n",
    "- Parameters vs arguments: `type`, `cooking_type`, `cooking_level`, etc.\n",
    "- We'll keep it simple here; extend as you like."
   ]
  },
  {
   "cell_type": "code",
   "execution_count": 6,
   "id": "db2088f4",
   "metadata": {
    "id": "db2088f4"
   },
   "outputs": [],
   "source": [
    "\n",
    "\n",
    "\n",
    "def add_bread():\n",
    "    # Return a *new* sandwich with bread added to the ends.\n",
    "    return \"bread\"\n",
    "\n",
    "def add_vegetables(veg_type):\n",
    "    return \"veggie: \" + veg_type\n",
    "\n",
    "def add_cheese():\n",
    "    return \"cheese\"\n",
    "\n",
    "def add_protein(ptype, cooking_type, cooking_level=\"mid\"):\n",
    "    return \"protein:\" + ptype + \": \" + cooking_type + \" Level: \" + cooking_level\n",
    "\n",
    "\n"
   ]
  },
  {
   "cell_type": "code",
   "source": [
    "#Try it: Chivito\n",
    "print(add_bread())\n",
    "print(add_vegetables(\"tomatoe\"))\n",
    "print(add_vegetables(\"lettuce\"))\n",
    "print(add_cheese())\n",
    "print(add_protein(\"chicken\", \"grilled\"))\n",
    "print(add_bread())"
   ],
   "metadata": {
    "colab": {
     "base_uri": "https://localhost:8080/"
    },
    "id": "pVXYuggrdor4",
    "outputId": "1d8dbcff-31f0-4309-a238-1ad02dedb462"
   },
   "id": "pVXYuggrdor4",
   "execution_count": 7,
   "outputs": [
    {
     "output_type": "stream",
     "name": "stdout",
     "text": [
      "bread\n",
      "veggie: tomatoe\n",
      "veggie: lettuce\n",
      "cheese\n",
      "protein:chicken: grilled Level: mid\n",
      "bread\n"
     ]
    }
   ]
  },
  {
   "cell_type": "markdown",
   "id": "38a9924a",
   "metadata": {
    "id": "38a9924a"
   },
   "source": [
    "**Challenge:** Add a function `add_sauce(kind)`; update `assemble` to include `order.get(\"sauces\", [])`."
   ]
  },
  {
   "cell_type": "markdown",
   "id": "7b1fbba1",
   "metadata": {
    "id": "7b1fbba1"
   },
   "source": [
    "## 4) Quick Checks — Intro Deck\n",
    "\n",
    "### 4.1 Expression or statement?\n",
    "Is `x = len(\"abc\")` an expression or a statement? Why?\n",
    "(Discuss first, then run the code below to inspect the value.)"
   ]
  },
  {
   "cell_type": "code",
   "execution_count": null,
   "id": "99fbb215",
   "metadata": {
    "id": "99fbb215"
   },
   "outputs": [],
   "source": [
    "\n",
    "x = len(\"abc\")\n",
    "print(\"x =\", x)\n"
   ]
  },
  {
   "cell_type": "markdown",
   "id": "85acac04",
   "metadata": {
    "id": "85acac04"
   },
   "source": [
    "### 4.2 Is this code valid?\n",
    "Tip: Predict the output **before** running."
   ]
  },
  {
   "cell_type": "code",
   "execution_count": null,
   "id": "bb567bbf",
   "metadata": {
    "id": "bb567bbf"
   },
   "outputs": [],
   "source": [
    "\n",
    "x = 2\n",
    "z = x + z"
   ]
  },
  {
   "cell_type": "markdown",
   "id": "b41a897c",
   "metadata": {
    "id": "b41a897c"
   },
   "source": [
    "### 4.3What is the value of `x` when we call ```print```??\n",
    "Tip: Predict the output **before** running."
   ]
  },
  {
   "cell_type": "code",
   "execution_count": null,
   "id": "f85b0ac7",
   "metadata": {
    "id": "f85b0ac7"
   },
   "outputs": [],
   "source": [
    "\n",
    "\n",
    "x = 3\n",
    "def inc(x):\n",
    "    x = x + 1\n",
    "    return x\n",
    "inc(x)\n",
    "print(x)\n"
   ]
  },
  {
   "cell_type": "markdown",
   "id": "63d0c8e3",
   "metadata": {
    "id": "63d0c8e3"
   },
   "source": [
    "## 5) Quick Checks — Functions Deck\n",
    "\n",
    "### 5.1 What’s returned here?\n",
    "Predict first, then run."
   ]
  },
  {
   "cell_type": "code",
   "execution_count": null,
   "id": "30a7fa19",
   "metadata": {
    "id": "30a7fa19"
   },
   "outputs": [],
   "source": [
    "\n",
    "def f(x):\n",
    "    y = x + 1\n",
    "print(f(3))"
   ]
  },
  {
   "cell_type": "markdown",
   "id": "4353980f",
   "metadata": {
    "id": "4353980f"
   },
   "source": [
    "### 5.2 Which `x` is printed? (LEGB)\n",
    "Predict first, then run."
   ]
  },
  {
   "cell_type": "code",
   "execution_count": null,
   "id": "367f235c",
   "metadata": {
    "id": "367f235c"
   },
   "outputs": [],
   "source": [
    "\n",
    "x = 1\n",
    "def g():\n",
    "    x = 2\n",
    "    def h():\n",
    "        return x\n",
    "    return h()\n",
    "\n",
    "print(g(), x)   # What do you expect?"
   ]
  },
  {
   "cell_type": "markdown",
   "id": "aaf63688",
   "metadata": {
    "id": "aaf63688"
   },
   "source": [
    "## 6) Built‑in Functions (Finisher)\n",
    "\n",
    "A few handy built‑ins you'll use a lot.\n",
    "\n",
    "As mentioned, please refer to the full list of built-in functions in the [Python documentation](https://docs.python.org/3/library/functions.html).\n",
    "\n",
    "| Category         | Function                                                              | Description                                                                                                            |\n",
    "|------------------|-----------------------------------------------------------------------|------------------------------------------------------------------------------------------------------------------------|\n",
    "| Input and Output | [print()](https://docs.python.org/3/library/functions.html#print)     | Displays the specified message or variable value. Example: `print(\"Hello, World!\")`                                    |\n",
    "| Input and Output | [input()](https://docs.python.org/3/library/functions.html#input)     | Reads a line from input, converts it to a string. Example: `name = input(\"Enter your name: \")`                         |\n",
    "| Input and Output | [bin()](https://docs.python.org/3/library/functions.html#bin)         | Converts an integer to a binary string. Example: `bin(10)` results in `'0b1010'`                                       |\n",
    "| Input and Output | [oct()](https://docs.python.org/3/library/functions.html#oct)         | Converts an integer to an octal string. Example: `oct(10)` results in `'0o12'`                                         |\n",
    "| Numbers          | [abs()](https://docs.python.org/3/library/functions.html#abs)         | Returns the absolute value of a number. Example: `abs(-10)` results in `10`                                            |\n",
    "| Numbers          | [round()](https://docs.python.org/3/library/functions.html#round)     | Rounds a number to the nearest integer, or to the specified number of decimals. Example: `round(10.6)` results in `11` |\n",
    "| Numbers          | [max()](https://docs.python.org/3/library/functions.html#max)         | Returns the largest of the input values. Example: `max(1, 2, 3)` results in `3`                                        |\n",
    "| Numbers          | [min()](https://docs.python.org/3/library/functions.html#min)         | Returns the smallest of the input values. Example: `min(1, 2, 3)` results in `1`                                       |\n",
    "| Numbers          | [complex()](https://docs.python.org/3/library/functions.html#complex) | Returns a complex number. Example: `complex(1, 2)` results in `(1+2j)`                                                 |\n",
    "| Text             | [len()](https://docs.python.org/3/library/functions.html#len)         | Returns the length (the number of items) of an object. Example: `len(\"Hello\")` results in `5`                          |\n",
    "| Text             | [str()](https://docs.python.org/3/library/functions.html#func-str)    | Converts specified value into a string. Example: `str(10)` results in `\"10\"`                                           |\n",
    "| Text             | [type()](https://docs.python.org/3/library/functions.html#type)       | Returns the type of the specified object. Example: `type(10)` results in `<class 'int'>`                               |\n",
    "\n"
   ]
  },
  {
   "cell_type": "code",
   "execution_count": 11,
   "id": "61038a49",
   "metadata": {
    "colab": {
     "base_uri": "https://localhost:8080/"
    },
    "id": "61038a49",
    "outputId": "85cf980a-fbf8-4deb-9cfa-aee6a017753a"
   },
   "outputs": [
    {
     "output_type": "stream",
     "name": "stdout",
     "text": [
      "Enter a sentence: hello mate\n",
      "You entered: hello mate\n"
     ]
    }
   ],
   "source": [
    "\n",
    "s = input(\"Enter a sentence: \")\n",
    "print(\"You entered:\", s)"
   ]
  },
  {
   "cell_type": "markdown",
   "id": "8ae6ce6b",
   "metadata": {
    "id": "8ae6ce6b"
   },
   "source": [
    "### Bonus: Exercises\n",
    "1. Write a small program that takes the user´s name and surname as inputs and prints a welcome message with the full name."
   ]
  },
  {
   "metadata": {},
   "cell_type": "code",
   "outputs": [],
   "execution_count": null,
   "source": "",
   "id": "6f6c4c4fcb059ede"
  },
  {
   "metadata": {},
   "cell_type": "markdown",
   "source": "2. Check the documentation of the Python built-in functions, and write a small program that takes two integer numbers as inputs and creates a complex number with one number as the real part and the other as the imaginary part.",
   "id": "d7f72fcb557a738c"
  },
  {
   "metadata": {},
   "cell_type": "code",
   "outputs": [],
   "execution_count": null,
   "source": "",
   "id": "1bdc9b5a927ac9eb"
  },
  {
   "metadata": {},
   "cell_type": "markdown",
   "source": "3. Check the documentation of the Python built-in functions, and write a small program that takes two integer numbers as inputs and prints the maximum.",
   "id": "ea3bc0938e244882"
  },
  {
   "metadata": {},
   "cell_type": "code",
   "outputs": [],
   "execution_count": null,
   "source": "",
   "id": "48541af4a88ae518"
  },
  {
   "metadata": {},
   "cell_type": "markdown",
   "source": "4. Check the documentation of the Python built-in functions, and write a small program that takes one integer number as input and prints the number in binary form.",
   "id": "1f5c12d182e987b1"
  },
  {
   "metadata": {},
   "cell_type": "code",
   "outputs": [],
   "execution_count": null,
   "source": "",
   "id": "9ea66c3213b07198"
  },
  {
   "metadata": {},
   "cell_type": "markdown",
   "source": [
    "\n",
    "5. Check the documentation of the Python built-in functions, and write a small program that takes four integer numbers as input and prints the numbers in hexadecimal form separated by slashes e.g. ('0xff-0x2a-0x01-0xfe')."
   ],
   "id": "e3a86f24b6fb4130"
  },
  {
   "metadata": {},
   "cell_type": "code",
   "outputs": [],
   "execution_count": null,
   "source": "",
   "id": "65a013a9c7b5c1df"
  }
 ],
 "metadata": {
  "colab": {
   "provenance": []
  },
  "language_info": {
   "name": "python"
  },
  "kernelspec": {
   "name": "python3",
   "display_name": "Python 3"
  }
 },
 "nbformat": 4,
 "nbformat_minor": 5
}
