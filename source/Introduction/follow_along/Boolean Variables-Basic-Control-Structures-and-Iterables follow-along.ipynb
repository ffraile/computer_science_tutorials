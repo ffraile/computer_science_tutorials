{
 "cells": [
  {
   "cell_type": "markdown",
   "source": [
    "# Boolean Variables, Basic Control Structures and Iterables\n",
    "\n",
    "## Online Book\n",
    "As a remainder, this is the follow along tutorial for the third lecture of the course. You can find the contents of the lecture [here](https://computer-science-tutorials.readthedocs.io/en/latest/Introduction/index_p1.html#control-structures-and-iterable-objects-i).\n",
    "\n",
    "## Try me\n",
    "[![Open In Colab](https://colab.research.google.com/assets/colab-badge.svg)](https://colab.research.google.com/github/ffraile/computer_science_tutorials/blob/main/source/Introduction/follow_along/Boolean%20Variables-Basic-Control-Structures-and-Iterables%20follow-along.ipynb)[![Binder](https://mybinder.org/badge_logo.svg)](https://mybinder.org/v2/gh/ffraile/computer_science_tutorials/main?labpath=source%2FIntroduction%2Ffollow_along%2FBoolean%20Variables-Basic-Control-Structures-and-Iterables%20follow-along.ipynb)\n",
    "\n",
    "## Boolean Variables ☯\n",
    "### Boolean variable assignment\n",
    "Meet Boolean variables! 🤖 They are like the little light switches of programming! 💡 They can only be `True` or `False`, and they help us build the logic of our programs! 🧠✨\n",
    "\n",
    "- **Type:** The type of Boolean variables is `bool`.\n",
    "- **Values:** They can only be `True` ✅ or `False` ❌.\n",
    "- **Use:** Think of them as the building blocks for making decisions in your code! 🏗️🤔\n",
    "\n",
    "Ready to play with some Boolean magic? 🧙‍♂️💫\n"
   ],
   "metadata": {
    "collapsed": false
   }
  },
  {
   "cell_type": "code",
   "execution_count": null,
   "outputs": [],
   "source": [],
   "metadata": {
    "collapsed": false
   }
  },
  {
   "cell_type": "markdown",
   "source": [
    "### Logical Operators\n",
    "#### Comparison operators 🕵️‍♀️\n",
    "Time for some detective work! 🧐 Comparison operators help us compare two values and discover the relationship between them! 💡\n",
    "\n",
    "\n",
    "| Operator                      | Symbol                   | Description                                                                                          |\n",
    "|-------------------------------|--------------------------|------------------------------------------------------------------------------------------------------|\n",
    "| Greater than `>`              | `a > b`                  | Returns `True` if the numeric operand a is greater than the numeric operand b                        |\n",
    "| Equal to `==`                 | `a == b`                 | Returns `True` if the numeric operand a is equal to the numeric operand b                            |\n",
    "| Greater than or equal to `>=` | `a >= b`                 | Returns `True` if the numeric operand a is greater than or equal to the numeric operand b            |\n",
    "| Less than or equal to `<=`    | `a <= b`                 | Returns `True` if the numeric operand a is less than or equal to the numeric operand b               |\n",
    "| Less than `<`                 | `a < b`                  | Returns `True` if the numeric operand a is less than the numeric operand b                           |\n"
   ],
   "metadata": {
    "collapsed": false
   }
  },
  {
   "cell_type": "code",
   "execution_count": null,
   "outputs": [],
   "source": [],
   "metadata": {
    "collapsed": false
   }
  },
  {
   "cell_type": "markdown",
   "source": [
    "#### Logical operators\n",
    "It´s time to build some complex logic! 🔗 Logical operators combine different boolean variables to create more complex conditions! 🧠💡\n",
    "\n",
    "| Operator                      | Symbol                   | Description                                                                                          |\n",
    "|-------------------------------|--------------------------|------------------------------------------------------------------------------------------------------|\n",
    "| `and`                         | `a & b`                  | Returns `True` if both operands (boolean variables a and b) are `True`                               |\n",
    "| `or`                          | <code>a &#124; b </code> | Returns `True` if at least one of the operands (boolean variables a and b) is `True`                 |\n",
    "| `not`                         | `!a`                     | Returns `True` if the operand (boolean variable a) is `False`                                        |\n",
    "| `xor`                         | `a ^ b`                  | Returns `True` if exactly one of the operands (boolean variables a and b) is `True`                  |\n"
   ],
   "metadata": {
    "collapsed": false
   }
  },
  {
   "cell_type": "code",
   "execution_count": null,
   "outputs": [],
   "source": [],
   "metadata": {
    "collapsed": false
   }
  },
  {
   "cell_type": "markdown",
   "source": [
    "## Basic Control Structures\n",
    "### If-else statements\n",
    "\n",
    "If else statements allow you to use boolean variables to direct the flow of your code, just as if you were a traffic cop 🚦👮‍♀️\n",
    "\n",
    "Basic syntax is:\n",
    "\n",
    "```python\n",
    "if condition: #`condition` represents a conditional expression or boolean variable that evaluates either to True or False\n",
    "    x = 4 # Indented code is only executed if `condition`evaluates to True\n",
    "else: # the else clause is optional, you can skip it if not needed\n",
    "    x = 5 # This indented code is only executed if 'condition' evaluates to False\n",
    "print(x)\n",
    "```\n",
    "\n",
    "> ☝ Be aware of indentation! Indented code will be executed if the condition is met, so you need to be careful and indent only the right number of lines\n"
   ],
   "metadata": {
    "collapsed": false
   }
  },
  {
   "cell_type": "code",
   "execution_count": null,
   "outputs": [],
   "source": [
    "# Example 1: a very simple thermostat\n",
    "print(\"Let´s heat up! Do some push-ups 🔥\")\n",
    "print(\"Let´s get cold: get in the freezer! 🧊\")"
   ],
   "metadata": {
    "collapsed": false
   }
  },
  {
   "cell_type": "markdown",
   "source": [
    "### Nested if\n",
    "We can use the elif clause to nest different boolean conditions and build *decision trees* into our programs:\n"
   ],
   "metadata": {
    "collapsed": false
   }
  },
  {
   "cell_type": "code",
   "execution_count": null,
   "outputs": [],
   "source": [
    "# Example 2: Let´s make our thermosthat better\n"
   ],
   "metadata": {
    "collapsed": false
   }
  },
  {
   "cell_type": "markdown",
   "source": [
    "### While loops\n",
    "While loops are used to repeat a block of code while a condition is met. The syntax is:\n",
    "\n",
    "```python\n",
    "while condition: #`condition` represents a conditional expression or boolean variable that evaluates either to True or False\n",
    "    x = 4 # Indented code is only executed if `condition`evaluates to True\n",
    "    # The condition is evaluated again\n",
    "    # If it is still True, the code is executed again\n",
    "    # If it is False, the loop is exited and the code after the loop is executed\n",
    "```\n",
    "\n",
    "> ☝ Again, be aware of indentation! Indented code will be executed if the condition is met, so you need to be careful and indent only the right number of lines\n"
   ],
   "metadata": {
    "collapsed": false
   }
  },
  {
   "cell_type": "code",
   "execution_count": null,
   "outputs": [],
   "source": [
    "# Example 3: duh-duh bot\n",
    "while True:\n",
    "    message = input(\"What´d you say?\")\n",
    "    print(message + \"duh-duh\")"
   ],
   "metadata": {
    "collapsed": false
   }
  },
  {
   "cell_type": "markdown",
   "source": [
    "#### Break and continue\n",
    "We can use the `break` and `continue` statements to control the flow of our loops. The `break` statement will exit the loop, while the `continue` statement will skip the rest of the code in the loop and start again from the beginning.\n"
   ],
   "metadata": {
    "collapsed": false
   }
  },
  {
   "cell_type": "code",
   "execution_count": null,
   "outputs": [],
   "source": [
    "# Example 4: Guess the number\n",
    "import random                   # We need to import the random module to generate random numbers\n",
    "number = random.randint(1, 10)  # We generate a random number between 1 and 10"
   ],
   "metadata": {
    "collapsed": false
   }
  },
  {
   "cell_type": "markdown",
   "source": [
    "## Iterables\n",
    "### Lists\n",
    "Lists are a collection of elements that can be of any type. Lists are defined using square brackets `[]` and elements are separated by commas `,`. Lists can be empty, or contain any number of elements. Elements can be accessed by their index, which starts at 0.\n"
   ],
   "metadata": {
    "collapsed": false
   }
  },
  {
   "cell_type": "code",
   "execution_count": null,
   "outputs": [],
   "source": [
    "# Creating lists: Classroom row"
   ],
   "metadata": {
    "collapsed": false
   }
  },
  {
   "cell_type": "markdown",
   "source": [
    "### Accessing a subset elements: slicing\n",
    "Slicing allows to access a subset of elements in a list. The syntax is `list[start:end:step]`, where `start` is the index of the first element to be included, `end` is the index of the first element to be excluded, and `step` is the number of elements to skip. If `start` is not specified, it is assumed to be 0. If `end` is not specified, it is assumed to be the length of the list. If `step` is not specified, it is assumed to be 1."
   ],
   "metadata": {
    "collapsed": false
   }
  },
  {
   "cell_type": "code",
   "execution_count": null,
   "outputs": [],
   "source": [
    "# Slicing the row"
   ],
   "metadata": {
    "collapsed": false
   }
  },
  {
   "cell_type": "markdown",
   "source": [
    "# For loops\n",
    "For loops are used to iterate over a collection of elements. The syntax is:\n",
    "\n",
    "```python\n",
    "for element in iterable: #`iterable` represents a collection of elements, such as a list\n",
    "    print(element) # Indented code is executed for each element in the iterable\n",
    "    # The next element is selected\n",
    "    # If there are no more elements, the loop is exited and the code after the loop is executed\n",
    "```\n"
   ],
   "metadata": {
    "collapsed": false
   }
  },
  {
   "cell_type": "code",
   "execution_count": null,
   "outputs": [],
   "source": [
    "# Example 5: Let´s generate corporative emails for our classroom"
   ],
   "metadata": {
    "collapsed": false
   }
  }
 ],
 "metadata": {
  "kernelspec": {
   "display_name": "Python 3",
   "language": "python",
   "name": "python3"
  },
  "language_info": {
   "codemirror_mode": {
    "name": "ipython",
    "version": 2
   },
   "file_extension": ".py",
   "mimetype": "text/x-python",
   "name": "python",
   "nbconvert_exporter": "python",
   "pygments_lexer": "ipython2",
   "version": "2.7.6"
  }
 },
 "nbformat": 4,
 "nbformat_minor": 0
}
