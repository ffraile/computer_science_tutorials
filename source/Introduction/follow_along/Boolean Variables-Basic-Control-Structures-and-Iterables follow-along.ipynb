{
 "cells": [
  {
   "cell_type": "markdown",
   "source": [
    "# Boolean Variables ☯\n",
    "## Boolean variable assignment\n",
    "Boolean variables are used to store the values True or False, and they are quite useful to build the logic of our programs. The type of a boolean variable is `bool` and it defines if something is `True` or `False`."
   ],
   "metadata": {
    "collapsed": false
   }
  },
  {
   "cell_type": "code",
   "execution_count": null,
   "outputs": [],
   "source": [],
   "metadata": {
    "collapsed": false
   }
  },
  {
   "cell_type": "markdown",
   "source": [
    "## Logical Operators\n",
    "### Comparison operators\n",
    "Comparison operators are used to compare two values and return a boolean value depending on the result of the comparison. Comparison operators are:\n",
    "\n",
    "| Operator                      | Symbol                   | Description                                                                                          |\n",
    "|-------------------------------|--------------------------|------------------------------------------------------------------------------------------------------|\n",
    "| Greater than `>`              | `a > b`                  | Returns `True` if the numeric operand a is greater than the numeric operand b                        |\n",
    "| Equal to `==`                 | `a == b`                 | Returns `True` if the numeric operand a is equal to the numeric operand b                            |\n",
    "| Greater than or equal to `>=` | `a >= b`                 | Returns `True` if the numeric operand a is greater than or equal to the numeric operand b            |\n",
    "| Less than or equal to `<=`    | `a <= b`                 | Returns `True` if the numeric operand a is less than or equal to the numeric operand b               |\n",
    "| Less than `<`                 | `a < b`                  | Returns `True` if the numeric operand a is less than the numeric operand b                           |\n"
   ],
   "metadata": {
    "collapsed": false
   }
  },
  {
   "cell_type": "code",
   "execution_count": null,
   "outputs": [],
   "source": [],
   "metadata": {
    "collapsed": false
   }
  },
  {
   "cell_type": "markdown",
   "source": [
    "### Logical operators\n",
    "Logical operators allows us to combine different boolean variables and build up more complex conditions:\n",
    "\n",
    "| Operator                      | Symbol                   | Description                                                                                          |\n",
    "|-------------------------------|--------------------------|------------------------------------------------------------------------------------------------------|\n",
    "| `and`                         | `a & b`                  | Returns `True` if both operands (boolean variables a and b) are `True`                               |\n",
    "| `or`                          | <code>a &#124; b </code> | Returns `True` if at least one of the operands (boolean variables a and b) is `True`                 |\n",
    "| `not`                         | `!a`                     | Returns `True` if the operand (boolean variable a) is `False`                                        |\n",
    "| `xor`                         | `a ^ b`                  | Returns `True` if exactly one of the operands (boolean variables a and b) is `True`                  |\n"
   ],
   "metadata": {
    "collapsed": false
   }
  },
  {
   "cell_type": "code",
   "execution_count": null,
   "outputs": [],
   "source": [],
   "metadata": {
    "collapsed": false
   }
  },
  {
   "cell_type": "markdown",
   "source": [
    "# Basic Control Structures\n",
    "## If-else statements\n",
    "\n",
    "Basic syntax is:\n",
    "\n",
    "```python\n",
    "if condition: #`condition` represents a conditional expression or boolean variable that evaluates either to True or False\n",
    "    x = 4 # Indented code is only executed if `condition`evaluates to True\n",
    "else: # the else clause is optional, you can skip it if not needed\n",
    "    x = 5 # This indented code is only executed if 'condition' evaluates to False\n",
    "print(x)\n",
    "```\n",
    "\n",
    "> ☝ Be aware of indentation! Indented code will be executed if the condition is met, so you need to be careful and indent only the right number of lines\n"
   ],
   "metadata": {
    "collapsed": false
   }
  },
  {
   "cell_type": "code",
   "execution_count": null,
   "outputs": [],
   "source": [
    "# Example 1: a very simple thermostat\n"
   ],
   "metadata": {
    "collapsed": false
   }
  },
  {
   "cell_type": "markdown",
   "source": [
    "## Nested if\n",
    "We can use the elif clause to nest different boolean conditions and build *decision trees* into our programs:\n"
   ],
   "metadata": {
    "collapsed": false
   }
  },
  {
   "cell_type": "code",
   "execution_count": null,
   "outputs": [],
   "source": [
    "# Example 2: Getting close\n",
    "print(\"That´s close! 🔥\")\n",
    "print(\"Geeting cold 🧊\")"
   ],
   "metadata": {
    "collapsed": false
   }
  }
 ],
 "metadata": {
  "kernelspec": {
   "display_name": "Python 3",
   "language": "python",
   "name": "python3"
  },
  "language_info": {
   "codemirror_mode": {
    "name": "ipython",
    "version": 2
   },
   "file_extension": ".py",
   "mimetype": "text/x-python",
   "name": "python",
   "nbconvert_exporter": "python",
   "pygments_lexer": "ipython2",
   "version": "2.7.6"
  }
 },
 "nbformat": 4,
 "nbformat_minor": 0
}
