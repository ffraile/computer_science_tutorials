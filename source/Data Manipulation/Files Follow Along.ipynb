{
 "cells": [
  {
   "cell_type": "markdown",
   "source": [
    "# Introduction to structured input and output data formats 📁\n",
    "## Online Book\n",
    "As a remainder, this is the follow along notebook for the [Introduction to structured input and output data formats](https://computer-science-tutorials.readthedocs.io/en/latest/Introduction/index_p2.html#introduction-to-structured-input-and-output-data-formats) lecture of the course.\n",
    "\n",
    "{{ badges }}\n",
    "\n",
    "## Introduction\n",
    "👋 Hello, fellow Data Adventurers! 🚂 All aboard the Data Express, our main stops are:\n",
    "\n",
    "- 📄 **Comma-separated Values (CSV):** A file format where data items are separated by commas, offering us neat and organized columns and rows!\n",
    "- 📄 **JavaScript Object Notation (JSON):** A file format where data transforms into **key-value pairs**, providing an intuitive *map* ️🗺️ to find our data\n",
    "\n",
    "As we follow this journey on data, we will also dive deeper into **iterable objects**, unraveling new iterables like dictionaries 📚 and tuples 📃, uncovering nested dictionaries and how to effortlessly create for loops using the ```range``` function or go through JSON files using the  ```json``` module! 💡🧙‍♂️📂\n",
    "\n",
    "## Motivation\n",
    "Our main motivation is to learn how to 🛠️ **Mine the Black Gold of the 21st Century!** 🛠️ In our hyper-connected era, data has become a key 🌟 **digital asset** 🌟 – a resource as pivotal and transformative as the oil booms of the 20th century!\n",
    "\n",
    "Endless streams of data flow through the Internet, encapsulating priceless information. From our simplest preferences 🍕🎮 to complex societal trends 📈🌎, data fuels the engines of the digital economy, which is now the backbone of our global economy! 💰💰💰\n",
    "\n",
    "## Basic Concepts\n",
    "### File Manipulation in Python\n",
    "In order to work with files in Python, we need to open them first. We can do this using the ```open()``` function, which takes two arguments: the file name and the mode. The mode can be either ```r``` for reading, ```w``` for writing, or ```a``` for appending. If we don't specify the mode, the default is ```r```.\n",
    "\n",
    "```python\n",
    "file = open(\"file.txt\", \"r\")\n",
    "```\n",
    "\n",
    "Once we are done working with the file, we need to close it using the ```close()``` function.\n",
    "\n",
    "```python\n",
    "file.close()\n",
    "```\n",
    "\n",
    "Normally, we use the ```with``` statement to open files. This way, we don't need to worry about closing them, as the ```with``` statement will automatically close the file once we are done working with it.\n",
    "\n",
    "```python\n",
    "with open(\"file.txt\", \"r\") as file:\n",
    "    # do something with the file\n",
    "```\n",
    "\n",
    "### Tabular Data 🔢\n",
    "Tabular data is data that is organized in a table. Each row represents a single data item, and each column represents a feature of the data item. There are many file formats that can be used to store tabular data, such as CSV, TSV, Google Sheets, or Excel.\n",
    "\n",
    "### Comma Separated Values (CSV) 📃\n",
    "Comma Separated Values (CSV) is a file format that is used to store tabular data. Each row is represented by a line, and each column is separated by a comma. The **first line** of the file usually contains the **column names**, for instance, let us consider that we want to store data about the students in a class. We can store the data in a CSV file as follows:\n",
    "\n",
    "```csv\n",
    "Name, Surname, Age, Grade\n",
    "Peter, Parker, 15, 9\n",
    "Mark, Grayson, 17, 11\n",
    "Mary, Jane, 16, 10\n",
    "Eve, Wilkins, 17, 11\n",
    "Rex, Sloan, 18, 11\n",
    "```\n",
    "\n",
    "### Exercise 1: Sensor readings to CSV File\n",
    "Let´s start with an example which could be really handy for your IoT projects. In this example, we will use the module random to generate random sensor readings from a biometric sensor and store them in a CSV file. The CSV file will have the following format:\n",
    "\n",
    "```csv\n",
    "Time, Heart Rate, Blood Pressure, Body Temperature\n",
    "2023-10-12 00:00:00, 80, 120, 36.5\n",
    "2023-10-12 00:00:01, 81, 121, 36.6\n",
    "2023-10-12 00:00:02, 82, 122, 36.7\n",
    "````\n",
    "\n",
    "We will use the following functions:\n",
    "\n",
    "- ```range(n)``` returns an iterable object that contains the numbers from 0 to ```n - 1```. \"Check the documentation\":https://docs.python.org/3/library/stdtypes.html#range for more information.\n",
    "- ```random.uniform(a, b)``` returns a random floating point number between ```a``` and ```b```. \"Check the documentation\":https://docs.python.org/3/library/random.html#random.uniform for more information.\n",
    "- ```time.strftime(format)``` returns a string representing the current time, formatted according to the given format. \"Check the documentation\":https://docs.python.org/3/library/time.html#time.strftime for more information.\n",
    "- ```time.sleep(seconds)```: suspends the execution of the current thread for the given number of seconds. \"Check the documentation\":https://docs.python.org/3/library/time.html#time.sleep for more information.\n",
    "\n",
    "We will also use formatted strings to write the sensor readings to the file. Check the [tutorial](../Introduction/tutorials/Variables.ipynb) on string variables for more information.\n"
   ],
   "metadata": {
    "collapsed": false
   }
  },
  {
   "cell_type": "code",
   "execution_count": null,
   "outputs": [],
   "source": [
    "import random  # We will use the random module to fake sensor readings\n",
    "import time    # We will use the time module to get the current time\n",
    "\n",
    "patient_id = 'WA1001' # The ID of the patient\n",
    "\n",
    "with open('sensor_readings_WA1001.csv', 'w') as file:\n",
    "    # Write the header line\n",
    "    file.write('Time, Heart Rate, Blood Pressure, Body Temperature\\n')\n",
    "\n",
    "    # Write the sensor readings every second for 10 minutes\n",
    "    for i in range(10):\n",
    "        # Generate random sensor readings\n",
    "        heart_rate = random.uniform(60.0, 100.0)\n",
    "        #TODO: Generate random blood pressure and body temperature readings\n",
    "\n",
    "        # Get the current time\n",
    "        current_time = time.strftime('%Y-%m-%d %H:%M:%S')\n",
    "\n",
    "        # Write the sensor readings to the file\n",
    "        #TODO: Write the random sensor readings to the file\n",
    "\n",
    "        # Wait for 1 second\n",
    "        time.sleep(1)"
   ],
   "metadata": {
    "collapsed": false
   }
  },
  {
   "cell_type": "markdown",
   "source": [
    "### Javascript Serial Object Notation (JSON)\n",
    "CSV files are really handy to represent tabular data, but depending on your application, or your programming taste, you might like to use other type of syntax which better represents the structure of the variables in your program. This is where JSON comes into play!\n",
    "\n",
    "Let us disect the name JSON:\n",
    "- J is for Javascript, which is another very popular programming language.\n",
    "- S is for Serial. Serializing is the process of readying a variable so that it can be stored in a file.\n",
    "- O is for Object. Objects is another word for variable\n",
    "- N is for Notation, which is another word for syntax.\n",
    "\n",
    "Ok, so, putting the pieces together, JSON is a notation or syntax defined to store variables in files in an organized way. The JSON syntax is very simple:\n",
    "\n",
    "- **Curve brackets**: Are used to specify the beginning ```{``` and end ```}``` of an object.\n",
    "- **Comma separated list of key-value pairs**: Within the curve brackets, we need to specify the attributes or properties of the object. We will use what is called Key-Value pairs. The Key is the identifier (normally the name) of each individual attribute of the object, and the value is the value it takes.\n",
    "- **Colon-separated Key-Value pairs**: We will use ```:`` to map each attribute with its corresponding value using.\n",
    "\n",
    "This is an example of a JSON object:\n",
    "\n",
    "```json\n",
    "{\n",
    "    \"name\":\"Wilson\",\n",
    "    \"surname\":\"Fisk\",\n",
    "    \"alias\":\"Kingpin\",\n",
    "    \"age\": 49\n",
    "}\n",
    "```\n",
    "\n",
    "Note that this object has 4 attributes, *keyed* name, surname, alias, and age. We can assign numeric or text values (actually, we could also use numbers as keys.\n",
    "\n",
    "### Dictionaries\n",
    "Dictionaries are a type of iterable object that use JSON notation:\n",
    "\n",
    "```python\n",
    "kingping_dict = {\n",
    "    \"name\":\"Wilson\",\n",
    "    \"surname\":\"Fisk\",\n",
    "    \"alias\":\"Kingpin\",\n",
    "    \"age\": 49\n",
    "}\n",
    "```\n",
    "\n",
    "You can access the values of the properties using the keys:\n",
    "\n",
    "\n"
   ],
   "metadata": {
    "collapsed": false
   }
  },
  {
   "cell_type": "code",
   "execution_count": null,
   "outputs": [],
   "source": [
    "kingping_dict = {\n",
    "    \"name\":\"Wilson\",\n",
    "    \"surname\":\"Fisk\",\n",
    "    \"alias\":\"Kingpin\",\n",
    "    \"age\": 49\n",
    "}\n"
   ],
   "metadata": {
    "collapsed": false,
    "pycharm": {
     "is_executing": true
    }
   }
  },
  {
   "cell_type": "markdown",
   "source": [
    "Dictionaries, are mutable, meaning that we can add new key-value pairs to a dictionary:"
   ],
   "metadata": {
    "collapsed": false
   }
  },
  {
   "cell_type": "code",
   "execution_count": null,
   "outputs": [],
   "source": [],
   "metadata": {
    "collapsed": false
   }
  },
  {
   "cell_type": "markdown",
   "source": [
    "We can iterate over dicts in a for loop:\n"
   ],
   "metadata": {
    "collapsed": false
   }
  },
  {
   "cell_type": "code",
   "execution_count": null,
   "outputs": [],
   "source": [
    "# use items() to access key value pairs\n",
    "\n",
    "# use keys() to access just keys\n",
    "\n",
    "# Or values() to access just the values"
   ],
   "metadata": {
    "collapsed": false,
    "pycharm": {
     "is_executing": true
    }
   }
  },
  {
   "cell_type": "markdown",
   "source": [
    "### Tuples\n",
    "Ok, we are going to introduce yet another type of iterable which is very handy. They are called Tuples and the main difference with respect to lists is that they cannot be modified, so they are useful when we are dealing with static context in our programs. Tuples use parenthesis ```(``` and ```)``` instead of brackets, and we cannot pop() or apprend members of an tuple. Once they are defined, they cannot change:\n"
   ],
   "metadata": {
    "collapsed": false
   }
  },
  {
   "cell_type": "code",
   "execution_count": null,
   "outputs": [],
   "source": [
    "a_tuple = (1, 2, 3, 4) # Tuples are static, once created, they cannot be modified\n",
    "\n",
    "a_list = [1, 2, 3, 4] #Lists can change\n",
    "\n",
    "# Indexing works just the same in both types of iterables\n",
    "\n",
    "# We can use append() and pop() methods to modify lists, and also dicts!\n",
    "\n",
    "# We can also modify an indiviual member of a list\n",
    "\n",
    "#But not tuples, tuples are immutable"
   ],
   "metadata": {
    "collapsed": false
   }
  },
  {
   "cell_type": "markdown",
   "source": [
    "### Example 2: Patients form\n",
    "Ok, let us build another simple program. We are going to build an interactive form, asking patients to fill in some basic information like name, surname, age, and gender. Our program will auto-generate a patient ID\n"
   ],
   "metadata": {
    "collapsed": false
   }
  },
  {
   "cell_type": "code",
   "execution_count": 5,
   "outputs": [],
   "source": [
    "patient_id = 'WA0001'\n",
    "patients_data = {\"patient_id\": patient_id}\n",
    "patient_keys = (\"name\", \"surname\", \"age\", \"gender\")\n"
   ],
   "metadata": {
    "collapsed": false
   }
  },
  {
   "cell_type": "markdown",
   "source": [
    "### Json module\n",
    "The JSON module is quite handy because it allows us to store dictionaries in files so that we can use them in other programs:\n",
    "\n"
   ],
   "metadata": {
    "collapsed": false
   }
  },
  {
   "cell_type": "code",
   "execution_count": 6,
   "outputs": [],
   "source": [
    "import json\n",
    "# Use dumps to dump to a file\n"
   ],
   "metadata": {
    "collapsed": false
   }
  },
  {
   "cell_type": "code",
   "execution_count": null,
   "outputs": [],
   "source": [
    "import json\n",
    "# Use loads to load back from a file\n"
   ],
   "metadata": {
    "collapsed": false
   }
  },
  {
   "cell_type": "markdown",
   "source": [
    "### Nested iterables\n",
    "We can nest iterables into another iterables and use indexing to access members:\n"
   ],
   "metadata": {
    "collapsed": false
   }
  },
  {
   "cell_type": "code",
   "execution_count": null,
   "outputs": [],
   "source": [
    "a_matrix = [[1, 2, 3, 4],\n",
    "            [5, 6, 7, 8]]\n",
    "\n",
    "patients_bio = [[\"2023-10-09 13:54:56\", 90, 70, 36],\n",
    "                [\"2023-10-09 13:54:57\", 91, 70, 36],\n",
    "                [\"2023-10-09 13:54:58\", 92, 71, 36]]\n",
    "\n"
   ],
   "metadata": {
    "collapsed": false
   }
  },
  {
   "cell_type": "markdown",
   "source": [
    "### Extra: IN Operator\n",
    "So far, we have used the ```in``` operator in for loops, but we can also use it in ``ìf``` clauses.\n",
    "What do you think it will do?\n"
   ],
   "metadata": {
    "collapsed": false
   }
  },
  {
   "cell_type": "code",
   "execution_count": null,
   "outputs": [],
   "source": [],
   "metadata": {
    "collapsed": false
   }
  }
 ],
 "metadata": {
  "kernelspec": {
   "display_name": "Python 3",
   "language": "python",
   "name": "python3"
  },
  "language_info": {
   "codemirror_mode": {
    "name": "ipython",
    "version": 2
   },
   "file_extension": ".py",
   "mimetype": "text/x-python",
   "name": "python",
   "nbconvert_exporter": "python",
   "pygments_lexer": "ipython2",
   "version": "2.7.6"
  }
 },
 "nbformat": 4,
 "nbformat_minor": 0
}
