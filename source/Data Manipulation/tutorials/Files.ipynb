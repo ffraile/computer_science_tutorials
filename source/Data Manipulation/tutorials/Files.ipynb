{
 "cells": [
  {
   "cell_type": "markdown",
   "source": [
    "# File Formats\n",
    "## Try me\n",
    "[![Open In Colab](https://colab.research.google.com/assets/colab-badge.svg)](https://colab.research.google.com/github/ffraile/computer_science_tutorials/blob/main/source/Data%20Manipulation/tutorials/Files.ipynb)[![Binder](https://mybinder.org/badge_logo.svg)](https://mybinder.org/v2/gh/ffraile/computer_science_tutorials/main?labpath=source%2FData%20Manipulation%2Ftutorials%2FFiles.ipynb)\n",
    "\n",
    "## Introduction\n",
    "Before we dive into data processing, let us discuss some common file formats used to store data, set the basic terminology and describe the main steps involved when dealing with data files in computer programming.\n",
    "\n",
    "### Basic explanation of how Python read files\n",
    "At the end, a file is just a collection of bytes containing information for a specific purpose. In this Notebook, we will address different common file formats that contain information represented as **text**. Text files are composed of characters and organized in **lines**. In storage, characters need to be **encoded** into bytes. This process is called character encoding and each file may use a different character encoding, although your operating system will define a default character encoding to be used.\n",
    "Line breaks will be stored using a special character, and the end of the file will also be encoded as an special character.\n",
    "So basically, when reading a file in Python, we will read the contents line by line, until the end of file character is detected. But before we are able\n",
    "Another important\n",
    "\n",
    "#### Opening files\n",
    "After this brief explanation, with no further ado, let´s start with practice. Copy the content of the next cell in a file using a text editor (a plain text editor like Notepad or TextEdit) and save it in a file named example.txt\n",
    "\n",
    "```text\n",
    "Hello,\n",
    "This is the first file to try in Python.\n",
    "Best luck!\n",
    "```\n",
    "Once you have saved it, you need to import it in your Python runtime. If you have opened this Notebook in Colabs, you need to open the lateral menu *Files* (the one with the folder 📁 icon), and either drag and drop the file in the area where the files and folders in your runtime are listed, or click on the button upload.\n",
    "\n",
    "![Import file in colabs](img/colabs_import.png)\n",
    "\n",
    "> ☝ Note that you can also connect your Google Drive folder to your runtime and use any file you have stored in there!\n",
    "\n",
    "Once you have uploaded the file (and the example.txt file is available in the file system of your Python runtime, as in the figure), you are ready to test the following cell:\n"
   ],
   "metadata": {
    "collapsed": false
   }
  },
  {
   "cell_type": "code",
   "execution_count": 1,
   "outputs": [
    {
     "name": "stdout",
     "output_type": "stream",
     "text": [
      "Hello,\n",
      "\n",
      "This is the first file to try in Python.\n",
      "\n",
      "Best luck!\n",
      "\n"
     ]
    }
   ],
   "source": [
    "f = open(\"example.txt\")\n",
    "line = f.readline() # read one line\n",
    "while line: # if line is an empty string, this will evaluate to false\n",
    "    print(line)\n",
    "    line = f.readline() # read a new line again\n",
    "f.close() # Close the file"
   ],
   "metadata": {
    "collapsed": false
   }
  },
  {
   "cell_type": "markdown",
   "source": [
    "Note that we used the built-in function ```open()``` to open the file. This built-in method takes one argument with the location of the file you want to open, either **relative** to your Python script working directory, or **absolute**, from the root directory of your file system. You need to have permissions in your file system to open the file, otherwise this line might raise an error. Let us stop here for a minute to make these concepts clear.\n",
    "\n",
    "Imagine that we are working on a Unix based file system (such as in Mac OS X or Google Colabs) and our Python script working directory is a folder called content in the root folder (the root folder for all files in the system). Imagine we want to open a file called example.txt which is stored in a folder called example1 within the content file, that is, our target file is organised as:\n",
    "```terminal\n",
    "content\n",
    "|-->example1\n",
    "    |--> example.txt\n",
    "...\n",
    "```\n",
    "Since the working directory is content, relative to the working directory, the file is located in the following url:\n",
    "```python\n",
    "f = open('example1/example.txt')\n",
    "```\n",
    "We can also use an absolute path to the file from the root folder, as:\n",
    "\n",
    "```python\n",
    "f = open('example1/example.txt')\n",
    "```\n",
    "\n",
    "#### Reading lines\n",
    "The ```open()``` method returns a file object (assigned to variable ```f``` in the example), which has a ```readline()``` method that returns a string with the context of the next line (the first line after calling open and subsequent lines thereafter), until the end-of-file character is detected, in which case, an empty string is returned. In the example, we assign the result to the variable ```line``` in a while loop. Since an empty string evaluates to false, the example prints the file line by line and exists the loop when the end of the file is reached.\n",
    "\n",
    "Finally, we use the method ```close()``` to close the file. In practice, closing the file makes sure that the runtime keeps track of which files are open by which applications and takes measures to avoid inconsistencies (more on this below).\n",
    "\n",
    "In some examples, you may find that the file is opened using the keyword ```with```, as in the following example:\n"
   ],
   "metadata": {
    "collapsed": false
   }
  },
  {
   "cell_type": "code",
   "execution_count": 3,
   "outputs": [
    {
     "name": "stdout",
     "output_type": "stream",
     "text": [
      "Hello,\n",
      "\n",
      "This is the first file to try in Python.\n",
      "\n",
      "Best luck!\n",
      "\n"
     ]
    }
   ],
   "source": [
    "with open(\"example.txt\") as f:\n",
    "    line = f.readline() # read one line\n",
    "    while line: # if line is an empty string, this will evaluate to false\n",
    "        print(line)\n",
    "        line = f.readline() # read a new line again\n",
    "    f.close() # Close the file"
   ],
   "metadata": {
    "collapsed": false
   }
  },
  {
   "cell_type": "markdown",
   "source": [
    "The ```with``` statement assigns the result of the ```open()``` function to a variable f that only exists in the context of the indented code below it. This gives us more control to ensure that the file is  loaded in memory only when it is required.\n",
    "\n",
    "#### Modes\n",
    "The ```open()``` function has some additional arguments worth highlighting, one is the opening mode. This argument gives additional security control to open the file, explicitly indicating what we want to do with the file in our program, so that for instance we cannot write in a file if we do not have permissions to modify it. The opening mode is specified using the characters in the table below, extracted from the official [Python documentation](https://docs.python.org/3/library/functions.html#open):\n",
    "\n",
    "| Character | Meaning                                                         |\n",
    "|-----------|-----------------------------------------------------------------|\n",
    "| 'r'       | open for reading (default)                                      |\n",
    "| 'w'       | open for writing, truncating the file first                     |\n",
    "| 'x'       | open for exclusive creation, failing if the file already exists |\n",
    "| 'a'       | open for writing, appending to the end of file if it exists     |\n",
    "| 'b'       | binary mode                                                     |\n",
    "| 't'       | text mode (default)                                             |\n",
    "| '+'       | open for updating (reading and writing)                         |\n",
    "\n",
    "#### Writing to a file\n",
    "By default, files are opened with mode 'rt' or 'r' which is equivalent, so what we can only read lines in the file, and do not write to it. The mode 'w' allows us to write in the file, using the ```write()``` method, but first it *truncates* the file, meaning that in practice we will overwrite its contents. If we do not want to override the contents of the file, we can either use mode 'a' (to append content after the last line of the file), or mode 'r+', to read the file from the beginning and being able to modify each line with ```write()``` before reading new lines.\n",
    "\n",
    "In the example below, we write a small program to write a shopping list into a file using the input provided by the user:"
   ],
   "metadata": {
    "collapsed": false
   }
  },
  {
   "cell_type": "code",
   "execution_count": null,
   "outputs": [],
   "source": [
    "with open(\"list.txt\", 'a') as f:\n",
    "  while True:\n",
    "    line = input(\"Write something to append to the list or click Enter to exit\")\n",
    "    if line:\n",
    "      f.write(line + \"\\n\")\n",
    "    else:\n",
    "      f.close()\n",
    "      break"
   ],
   "metadata": {
    "collapsed": false
   }
  },
  {
   "cell_type": "markdown",
   "source": [
    "Note that we added the special character ```\"\\n\"``` to the method write so that each entry is written in the list is written in a new line.\n",
    "\n",
    "\n"
   ],
   "metadata": {
    "collapsed": false
   }
  },
  {
   "cell_type": "markdown",
   "source": [
    "## Common file formats for tabular data\n",
    "### JSON\n",
    "JSON stands for JavaScript Object Notation, since it is the notation used to define objects in this another popular programming language. However, you are already familiar with JSON since as previously described when covering iterables: it is the same notation used to define [dictionaries in Python](https://programming.engineeringcodehub.com/en/latest/Introduction/tutorials/Iterable%20Objects%20II.html#Dictionaries). JSON files use the .json extension, so, for instance, copy the following contents into a file named example.json:\n",
    "\n",
    "```json\n",
    "[\n",
    "{\n",
    "  \"date\": \"2022-08-31\",\n",
    "  \"time\": \"00:15\",\n",
    "  \"temperature\": 25.5,\n",
    "  \"humidity\": 65\n",
    "},\n",
    "{\n",
    "  \"date\": \"2022-08-31\",\n",
    "  \"time\": \"00:30\",\n",
    "  \"temperature\": 25.6,\n",
    "  \"humidity\": 66\n",
    "},\n",
    "{\n",
    "  \"date\": \"2022-08-31\",\n",
    "  \"time\": \"00:45\",\n",
    "  \"temperature\": 25.7,\n",
    "  \"humidity\": 67\n",
    "},\n",
    "{\n",
    "  \"date\": \"2022-08-31\",\n",
    "  \"time\": \"01:00\",\n",
    "  \"temperature\": 25.6,\n",
    "  \"humidity\": 66\n",
    "},\n",
    "{\n",
    "  \"date\": \"2022-08-31\",\n",
    "  \"time\": \"01:15\",\n",
    "  \"temperature\": 25.5,\n",
    "  \"humidity\": 65\n",
    "}\n",
    "]\n",
    "```\n",
    "Two important differences between dictionaries and the JSON file format that need to be accounted for are first, that you must always use double quotation marks, as single quotation masks are not allowed. Also, unlike Python dictionary keys, JSON field names must always be double-quoted strings.\n",
    "\n"
   ],
   "metadata": {
    "collapsed": false
   }
  },
  {
   "cell_type": "markdown",
   "source": [
    "#### The json Library\n",
    "The [json](https://docs.python.org/3/library/json.html) library is a useful library to read json objects and load them to python objects or dump the contents of dictionaries to a json file. The function ```load``` takes a file object created by opening a JSON file as argument and returns an object with the contents of the file. For instance, copy the JSON example above in a file named example.json and give a try to the code snippet below:"
   ],
   "metadata": {
    "collapsed": false
   }
  },
  {
   "cell_type": "code",
   "execution_count": 16,
   "outputs": [
    {
     "name": "stdout",
     "output_type": "stream",
     "text": [
      "25.5\n"
     ]
    }
   ],
   "source": [
    "import json\n",
    "example_file = open('example.json')\n",
    "my_example_dict = json.load(example_file)\n",
    "print(my_example_dict[0][\"temperature\"])"
   ],
   "metadata": {
    "collapsed": false
   }
  },
  {
   "cell_type": "markdown",
   "source": [
    "Similarly, we can save the objects of a dictionary using the function ```dump()```:"
   ],
   "metadata": {
    "collapsed": false
   }
  },
  {
   "cell_type": "code",
   "execution_count": 19,
   "outputs": [],
   "source": [
    "my_dict = {\"name\": \"Wilson\", \"surname\": \"Fisk\", \"age\": 52}\n",
    "my_file = open('kingpin.json', 'w')\n",
    "json.dump(my_dict,my_file)\n",
    "my_file.close()"
   ],
   "metadata": {
    "collapsed": false
   }
  },
  {
   "cell_type": "markdown",
   "source": [
    "### Comma separated values\n",
    "The simplest file format for tabular data which is still widely used nowadays is called CSV (Comma Separated Values). Just as its name indicates, in CSV files, each line represents a different row or record, and the values corresponding to each column are separated by commas, for instance:\n",
    "\n",
    "```csv\n",
    "DATE, TIME, TEMPERATURE, HUMIDITY\n",
    "2022-08-31, 00:15, 25.5, 65\n",
    "2022-08-31, 00:30, 25.7, 66\n",
    "2022-08-31, 00:45, 25.9, 67\n",
    "2022-08-31, 01:00, 25.7, 66\n",
    "2022-08-31, 01:15, 25.5, 65\n",
    "```\n",
    "In this example, the data collects records of temperature and humidity readings, with four columns, a data column containing the date of the reading, a time column containing the time of the reading, and read temperature and humidity. Normally, csv files use the *.csv file extension.\n",
    "Note that the first row is a header row, used to facilitate the use of the file by humans.\n",
    "\n",
    "Now, using the skills you gained from the previous section, can you make a Python script to read this file and calculate the average temperature? Save the contents of the cell below in a file named exercise1.csv and use the examples above the read its contents.\n",
    "\n",
    "Although the name states that fields are separated by commas, but you can use other field separators. Another common field separator is the tabulation, as in the following example:\n",
    "\n",
    "```csv\n",
    "DATE TIME TEMPERATURE HUMIDITY\n",
    "2022-08-31 00:15 25.5 65\n",
    "2022-08-31 00:30 25.7 66\n",
    "2022-08-31 00:45 25.9 67\n",
    "2022-08-31 01:00 25.7 66\n",
    "2022-08-31 01:15 25.5 65\n",
    "```\n",
    "Note that instead of commas, we have used tabulations (special character ```\"\\t\"```). These type of CSV files usually use the extension *.tab and are convenient because you can just copy or drag and drop content from applications like Google sheets or Excel into a text editor to create a tab file.\n",
    "\n",
    "### CSV files with Numpy\n",
    "Luckily for us, Numpy provides methods to load data from a CSV file into an array and to write arrays to csv files.\n",
    "\n",
    "The function [loadtxt](https://numpy.org/doc/stable/reference/generated/numpy.loadtxt.html) allows to load data from CSV files in a numpy array, for example:"
   ],
   "metadata": {
    "collapsed": false
   }
  },
  {
   "cell_type": "code",
   "execution_count": 5,
   "outputs": [
    {
     "name": "stdout",
     "output_type": "stream",
     "text": [
      "[25.66 65.8 ]\n"
     ]
    }
   ],
   "source": [
    "import numpy as np\n",
    "\n",
    "my_arr = np.loadtxt('exercise1.csv', delimiter=',', skiprows=1, usecols=(2, 3))\n",
    "print(my_arr.mean(axis=0))"
   ],
   "metadata": {
    "collapsed": false
   }
  },
  {
   "cell_type": "markdown",
   "source": [
    "In the example, we loaded the csv described above and indicated that the field delimiter is a comma using the named argument ```delimiter```. We also ignored the header using the ```skiprows``` named argument and specifying that we want to skip exactly one row. Finally, since we are only interested in the temperature and humidity readings (the only ones containing numerical values, we use the named argument ```usecols``` to only load data in columns 2 and 3 (yeah, you guessed it, column indexing starts in 0). The result is an array with two columns, so we can for instance calculate the mean temperature and humidity using the ```mean()``` method on axis 0 (rows).\n",
    "\n",
    "Equivalently, the function [savetxt](https://numpy.org/doc/stable/reference/generated/numpy.savetxt.html) saves the values of a Numpy array into a CSV file:"
   ],
   "metadata": {
    "collapsed": false
   }
  },
  {
   "cell_type": "code",
   "execution_count": 14,
   "outputs": [
    {
     "name": "stdout",
     "output_type": "stream",
     "text": [
      "[[1 2 3 4]\n",
      " [5 6 7 8]]\n"
     ]
    }
   ],
   "source": [
    "my_arr = np.arange(1,9)\n",
    "my_arr = my_arr.reshape((2,4))\n",
    "print(my_arr)\n",
    "np.savetxt('my_array.csv', my_arr, delimiter=\",\", fmt='%i')"
   ],
   "metadata": {
    "collapsed": false
   }
  },
  {
   "cell_type": "markdown",
   "source": [
    "This will create a csv file named 'my_array.csv' in the working directory, containing the contents of the ```my_arr``` Numpy array, using commas as field delimiter or separator, and formatting numbers as integers."
   ],
   "metadata": {
    "collapsed": false
   }
  },
  {
   "cell_type": "markdown",
   "source": [
    "### IoT Challenge: Data Logging in Python\n",
    "In this activity, we will extend the Python script of the IoT challenge template [available here](iiot_challenge/templates/python_part/script_template.py) to log data received from the Arduino to a CSV file. This data can be analyzed later for trends, helping with decision-making in your application.\n",
    "\n",
    "We are going to implement this data logging functionality as an additional option called continuous mode. The image below illustrate how the continuous mode works\n",
    "\n",
    "![Continuous mode](./img/Serial_Communication_Continuous_Mode.png)\n",
    "\n",
    "Basically, we will send commands to the Arduino device to read sensor data, and whenever we collect new data, we will print it to the console, but also put in a dictionary, that we will later save into a CSV file. In this mode, we will repeat these steps in an endless loop, so we will send information back and forth in the serial without the need to get input from the user. All the information will be stored in the file, and we will be able to use this data for analysis.\n",
    "This mode has the advantage that we can collect data from the device without the need to send a user command to the device every time we want to read the sensors. This is useful when we want to collect data from the device for a long period of time.\n",
    "\n",
    "### Example code\n",
    "Here's the complete example code. Note that we have used the same sensor data as in the Arduino part example. Make sure you adapt to your application!\n",
    "\n",
    "\n"
   ],
   "metadata": {
    "collapsed": false
   }
  },
  {
   "cell_type": "code",
   "execution_count": null,
   "outputs": [],
   "source": [
    "import serial\n",
    "import time\n",
    "import random\n",
    "\n",
    "# Initialize the port variable.\n",
    "# If you already know the serial port where the Arduino board is connected,\n",
    "# you need to assign it to this variable, replacing None with the actual name of the port.\n",
    "# For instance, if your Arduino board is connected to port COM7, you can use the line below\n",
    "# port = 'COM7'\n",
    "# TODO: Find out the name of the port you use to connect to Arduino and update the variable\n",
    "# definition\n",
    "port = None\n",
    "\n",
    "# Initialize serial communications. Set the baud rate to 96000 bps.\n",
    "if port is not None:\n",
    "    arduino = serial.Serial(port, 9600, timeout=1)\n",
    "\n",
    "simulation_mode = True # Set this variable to True to simulate the data\n",
    "if port is not None or simulation_mode:\n",
    "    print(\" _      __    __\")\n",
    "    print(\"| | /| / /__ / /______  __ _  ___\")\n",
    "    print(\"| |/ |/ / -_) / __/ _ \\\\/  ' \\\\/ -_)\")\n",
    "    print(\"|__/|__/\\\\__/_/\\\\__/\\\\___/_/_/_/\\\\__/\")\n",
    "\n",
    "    print(\"Welcome to the Arduino control panel\")\n",
    "    print(\"You can use the following commands:\")\n",
    "    print(\"1. Read humidity\")\n",
    "    print(\"2. Read temperature\")\n",
    "    print(\"3. Read humidity and temperature\")\n",
    "    print(\"4. Read soil moisture\")\n",
    "    print(\"5. read all in continuous mode\")\n",
    "    print(\"Press Ctrl+C to exit\")\n",
    "    while True:\n",
    "\n",
    "        command = input(\"Enter command: \")\n",
    "        if command in ['1', '2', '3', '4'] and not simulation_mode:\n",
    "            signal = command.encode('utf-8') # Convert the command to a binary string\n",
    "            arduino.write(signal) # Send the command to the device\n",
    "            arduino.flush() # Wait until the command is sent\n",
    "            raw_data = arduino.readline() # Read the data from the device\n",
    "            print(raw_data) # Print the response from the device\n",
    "        elif command == '5':\n",
    "            print(\"Entering continuous mode. Press Ctrl+C to exit\")\n",
    "            while True:\n",
    "                time.sleep(1) # Wait for 1 second\n",
    "                # Let´s put the data in a dictionary.\n",
    "                data = {\"timestamp\": time.strftime(\"%Y-%m-%d %H:%M:%S\")}\n",
    "\n",
    "                if simulation_mode: # If we are in testing mode, we will simulate the data\n",
    "                    data[\"humidity\"] = random.randint(0, 100)\n",
    "                    data[\"temperature\"] = random.randint(0, 100)\n",
    "                    data[\"soil_moisture\"] = random.randint(0, 1000)\n",
    "                else: # If we are not in testing mode, we will read the data from the device\n",
    "                    # First send a signal to read humidity and temperature\n",
    "                    signal = b'3'\n",
    "                    arduino.write(signal) # Send the command to the device\n",
    "                    arduino.flush() # Wait until the command is sent\n",
    "                    raw_data = arduino.readline() # Read the data from the device\n",
    "\n",
    "                    #Incoming data is in the format b'Humidity: 50.00 % Temperature: 23.00 \\n'\n",
    "                    # We need to split the string into a list of strings\n",
    "                    raw_data = raw_data.decode('utf-8').strip().split(' ')\n",
    "                    # Now we need to convert the strings to floats and add them to the dictionary\n",
    "                    data[\"humidity\"] = float(raw_data[1])\n",
    "                    data[\"temperature\"] = float(raw_data[4])\n",
    "                    time.sleep(1) # Wait for 1 second\n",
    "                    # Now send a signal to read soil moisture\n",
    "                    signal = b'4'\n",
    "                    arduino.write(signal) # Send the command to the device\n",
    "                    arduino.flush() # Wait until the command is sent\n",
    "                    raw_data = arduino.readline() # Read the data from the device\n",
    "                    # Incoming data is in the format b'Soil Moisture: 350 \\n'\n",
    "                    # Decode the data and split it into a list of strings\n",
    "                    raw_data = raw_data.decode('utf-8').strip().split(' ')\n",
    "                    # Get the soil moisture value and store it in the dictionary\n",
    "                    data[\"soil_moisture\"] = float(raw_data[2])\n",
    "\n",
    "                print(data)\n",
    "                # Now we can save incoming data into the file. We need to open the file in append mode, and check whether the file contains previous data\n",
    "                with open(\"data.csv\", \"a+\") as f:\n",
    "                    # First we need to check whether the file contains previous data\n",
    "                    f.seek(0) # Move the cursor to the beginning of the file\n",
    "                    previous_data = f.read() # Read the file\n",
    "                    if previous_data == \"\": # If the file is empty, we need to add the header\n",
    "                        f.write(\"timestamp,humidity,temperature,soil_moisture\\n\")\n",
    "                        # Now we can write the data to the file\n",
    "                        f.write(f\"{data['timestamp']},{data['humidity']},{data['temperature']},{data['soil_moisture']}\\n\")\n",
    "                    else: # If the file is not empty, we just need to move the cursor to the end of the file and add the data\n",
    "                        f.seek(0, 2) # Move the cursor to the end of the file\n",
    "                        f.write(f\"{data['timestamp']},{data['humidity']},{data['temperature']},{data['soil_moisture']}\\n\")\n",
    "        else:\n",
    "            print(\"Invalid command\")"
   ],
   "metadata": {
    "collapsed": false
   }
  },
  {
   "cell_type": "markdown",
   "source": [
    "Note that the strategy is very simple: we use device commands to collect sensor data, and we store the sensor values in a dictionary named ```data```. Finally, we open the file in ```a+``` mode so that we can append data. This means that if the file already contains some records we will not overwrite them, but instead, we will append new data to the file.\n",
    "\n",
    "And this is it! We have successfully established a serial connection with the Arduino board, and we have used it to control the device. We have also saved the data in a file!"
   ],
   "metadata": {
    "collapsed": false
   }
  }
 ],
 "metadata": {
  "kernelspec": {
   "display_name": "Python 3",
   "language": "python",
   "name": "python3"
  },
  "language_info": {
   "codemirror_mode": {
    "name": "ipython",
    "version": 2
   },
   "file_extension": ".py",
   "mimetype": "text/x-python",
   "name": "python",
   "nbconvert_exporter": "python",
   "pygments_lexer": "ipython2",
   "version": "2.7.6"
  }
 },
 "nbformat": 4,
 "nbformat_minor": 0
}
