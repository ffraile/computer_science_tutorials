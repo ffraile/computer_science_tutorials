{
 "cells": [
  {
   "cell_type": "markdown",
   "source": [
    "# File Formats\n",
    "## Introduction\n",
    "Before we dive into data processing, let us discuss some commmon file formats used to store data, set the basic terminology and describe the main steps involved when dealing with data files in computer programming.\n",
    "### Basic explanation of how Python read files\n",
    "At the end, a file is just a collection of bytes containing information for a specific purpose. In this Notebook, we will address different common file formats that contain information represented as **text**. Text files are composed of characters and organized in **lines**. In storage, characters need to be **encoded** into bytes. This process is called character encoding and each file may use a different character encoding, although your operating system will define a default character encoding to be used.\n",
    "Line breaks will be stored using a special character, and the end of the file will also be encoded as an special character.\n",
    "So basically, when reading a file in Python, we will read the contents line by line, until the end of file character is detected.\n",
    "Another important\n",
    "After this brief explanation, with no further ado, let´s start with practice. Copy the contest of the next cell in a file using a text editor (a plain text editor like Notepad or TextEdit) and save it\n"
   ],
   "metadata": {
    "collapsed": false,
    "pycharm": {
     "name": "#%% md\n"
    }
   }
  }
 ],
 "metadata": {
  "kernelspec": {
   "display_name": "Python 3",
   "language": "python",
   "name": "python3"
  },
  "language_info": {
   "codemirror_mode": {
    "name": "ipython",
    "version": 2
   },
   "file_extension": ".py",
   "mimetype": "text/x-python",
   "name": "python",
   "nbconvert_exporter": "python",
   "pygments_lexer": "ipython2",
   "version": "2.7.6"
  }
 },
 "nbformat": 4,
 "nbformat_minor": 0
}