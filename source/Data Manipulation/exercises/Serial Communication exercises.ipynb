{
 "cells": [
  {
   "cell_type": "markdown",
   "source": [
    "# Hand on IoT Assignment\n",
    "The next sections provide some basic development tasks and integration tests aimed to kick off your IoT assignment using the templates. You can perform these basic tests iteratively during the development of your project, just to make sure that the basic functionalities are still in place whenever you introduce new functionality.\n",
    "\n",
    "After completing the tests, make sure you write down a summary of experience working through the development and testing tasks in your **IIoT challenge journal**. Make sure you document: what challenges did you face? and how did you resolve them? what things you tested and did not work?  What additional features or optimizations would you introduce if you had more time? This information will be very valuable so that you do not keep doing the same mistakes, and promote a **systematic testing** methodology so that you plan tests to verify that your development is actually working.\n",
    "\n",
    "## Device set-up test\n",
    "1. Create a copy of the Arduino part template ([avaliable here](../tutorials/iiot_challenge/templates/arduino_part/controller.c). This will be the scaffold of your project. Mount the **Remote mode** switch in your board, and close it, the LED light you will as an indicator to know whether your device is in remote or local mode. Next, read carefully the description of the **Library Imports**, **Pin Configuration and Object Initialization**, and **3. Set-up Function** of the template in the [serial communication tutorial](../tutorials/Serial%20Communication.ipynb). Take some time to adapt these sections to your project. Once you have done so, load the code of your project in the Arduino board and verify that the switch and LED are working as expected.\n",
    "\n",
    "## User interface design\n",
    "2. Take a moment to decide which user commands you will add to your project. You can reason with an AI assistant to choose. When prompting your assistant, provide as much content as possible. Use the available documentation of your template to provide context of the use case, and ask the assistant specifically for the command set. Be critical and analyse carefully the proposed options, make sure you can implement them with the tools you have at hand.\n",
    "\n",
    "## User interface tests\n",
    "3. Next, take a look at the Python part template ([available here](../tutorials/iiot_challenge/templates/python_part/script_template.py)), and start implementing a preliminary version of your user interface, focusing first on the simulation mode. You can use an AI assistant to generate the code, but make sure you pass the script template and ask specifically to focus on the simulation mode first and to comply with the provided template. Next, run the Python part in your IDE and test it, and verify that it works.\n",
    "\n",
    "## Basic integration test\n",
    "4. Go back to your Arduino IDE and note the name of the port used to connect to the Arduino board through the USB connector (for instance, in Windows, it will be something like 'COM05'). Update your Python script to set the variable ```port``` to the actual name of the port. Next, select one direct command to perform a basic integration tests. Choose for instance an option that provides a sensor value, as this is a very straightforward command we can use to perform this basic integration test. Implement the direct command in Arduino and test it running the Python part in your Python IDE.\n",
    "\n",
    "## Analysis questions\n",
    "Take a look again at the template description in the [Serial communication tutorial](../tutorials/Serial%20Communication.ipynb) again before you try to answer the following analysis questions.\n",
    "\n",
    "1. Note that the Arduino template terminates each response with an end of line character ```\\n```. Describe, in your own words, what would happen if you do not add this character at the end of a response.\n"
   ],
   "metadata": {
    "collapsed": false
   }
  },
  {
   "cell_type": "markdown",
   "source": [
    "2. Note also that the Arduino part expects the Python part to pass a binary string containing a single character to select one of the request options. Imagine you have 16 available options in your IoT application. Which character set would you use to make your user interface as user-friendly as possible? can you think of any alternative way to organise your command line user interface alternatives? Reason with an AI assistant to discuss"
   ],
   "metadata": {
    "collapsed": false
   }
  }
 ],
 "metadata": {
  "kernelspec": {
   "display_name": "Python 3",
   "language": "python",
   "name": "python3"
  },
  "language_info": {
   "codemirror_mode": {
    "name": "ipython",
    "version": 2
   },
   "file_extension": ".py",
   "mimetype": "text/x-python",
   "name": "python",
   "nbconvert_exporter": "python",
   "pygments_lexer": "ipython2",
   "version": "2.7.6"
  }
 },
 "nbformat": 4,
 "nbformat_minor": 0
}
