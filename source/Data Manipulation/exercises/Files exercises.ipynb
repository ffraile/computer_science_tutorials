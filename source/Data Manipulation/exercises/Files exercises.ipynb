{
 "cells": [
  {
   "cell_type": "markdown",
   "source": [
    "# IoT Challenge\n",
    "Take a look at the IoT Challenge: Data Logging in Python section of the files tutorial and try to add some data logging features to your Arduino project. Remember to write down the main conclusions of your experiments in your IoT Challenge journal!\n",
    "\n",
    "# Analysis questions and exercises\n",
    "\n",
    "2. Try the exercise of the follow-along tutorial several times. What happens if you try to open the file while it is opened in the ```for``` loop? How can you modify the code so that it **appends** new lines with new biometric sensor readings everytime you execute it?\n"
   ],
   "metadata": {
    "collapsed": false
   }
  },
  {
   "cell_type": "code",
   "execution_count": null,
   "outputs": [],
   "source": [],
   "metadata": {
    "collapsed": false
   }
  },
  {
   "cell_type": "markdown",
   "source": [
    "2. Put together the 2 exercises of the follow along to write this program: Ask the patient for basic information (name, surname, age, gender). Once you have collected information, use randint to simulate that you are taking biometric information from the patient. Store all the information in a json file, including the personal data and the biometric sensor records of the patient in a nested array where each row is a new sensor reading. Your json file should look something like this:\n",
    "\n",
    "```json\n",
    "{\n",
    "  \"name\": \"John\",\n",
    "  \"surname\": \"Wick\",\n",
    "  \"age\": 49,\n",
    "  \"gender\": \"Male\",\n",
    "  \"biometric_records\": [[\"2023-10-12 09:36:03\", 94.81133685445278, 15.741375425586417, 38.29073003474125],\n",
    "    [\"2023-10-12 09:36:04\", 62.43879955763823, 15.196150080344506, 36.35115512937469],\n",
    "    [\"2023-10-12 09:36:05\", 84.2956911357949, 16.874367511552123, 38.601030883538705],\n",
    "    [\"2023-10-12 09:36:06\", 90.92783941838005, 15.243397358464172, 38.20701718801453],\n",
    "    [\"2023-10-12 09:36:07\", 66.98236238953217, 15.84866472378154, 38.701768958838265],\n",
    "    [\"2023-10-12 09:36:08\", 72.99941898004641, 15.513105218093163, 38.102228689549705],\n",
    "    [\"2023-10-12 09:36:09\", 77.08888377029628, 15.021590488883383, 36.66202689844145],\n",
    "    [\"2023-10-12 09:36:10\", 68.74352689548292, 16.584930430921066, 36.40565233779666],\n",
    "    [\"2023-10-12 09:36:11\", 82.60106652493903, 15.852897058076554, 38.43021287171804],\n",
    "    [\"2023-10-12 09:36:12\", 93.29091818500198, 16.14095737493462, 37.20321563654275]]\n",
    "}\n",
    "```\n"
   ],
   "metadata": {
    "collapsed": false
   }
  },
  {
   "cell_type": "code",
   "execution_count": null,
   "outputs": [],
   "source": [],
   "metadata": {
    "collapsed": false
   }
  }
 ],
 "metadata": {
  "kernelspec": {
   "display_name": "Python 3",
   "language": "python",
   "name": "python3"
  },
  "language_info": {
   "codemirror_mode": {
    "name": "ipython",
    "version": 2
   },
   "file_extension": ".py",
   "mimetype": "text/x-python",
   "name": "python",
   "nbconvert_exporter": "python",
   "pygments_lexer": "ipython2",
   "version": "2.7.6"
  }
 },
 "nbformat": 4,
 "nbformat_minor": 0
}
