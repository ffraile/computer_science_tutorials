{
 "cells": [
  {
   "cell_type": "markdown",
   "source": [
    "1. Modify the first exercise in the follow-along of the lecture so that it first opens the file for writing the header, and then close the file. Add then a while loop to **append** new lines with new biometric sensor readings and wait for user input before you write a new line. What happens if you try to open the file while it is opened in the while loop?"
   ],
   "metadata": {
    "collapsed": false
   }
  },
  {
   "cell_type": "code",
   "execution_count": null,
   "outputs": [],
   "source": [],
   "metadata": {
    "collapsed": false
   }
  },
  {
   "cell_type": "markdown",
   "source": [
    "2. Put together the 2 exercises of the follow along to write this program: Ask the patient for basic information (name, surname, age, gender). Once you have collected information, use randint to simulate that you are taking biometric information from the patient. Store all the information in a json file.\n"
   ],
   "metadata": {
    "collapsed": false
   }
  },
  {
   "cell_type": "code",
   "execution_count": null,
   "outputs": [],
   "source": [],
   "metadata": {
    "collapsed": false
   }
  }
 ],
 "metadata": {
  "kernelspec": {
   "display_name": "Python 3",
   "language": "python",
   "name": "python3"
  },
  "language_info": {
   "codemirror_mode": {
    "name": "ipython",
    "version": 2
   },
   "file_extension": ".py",
   "mimetype": "text/x-python",
   "name": "python",
   "nbconvert_exporter": "python",
   "pygments_lexer": "ipython2",
   "version": "2.7.6"
  }
 },
 "nbformat": 4,
 "nbformat_minor": 0
}
