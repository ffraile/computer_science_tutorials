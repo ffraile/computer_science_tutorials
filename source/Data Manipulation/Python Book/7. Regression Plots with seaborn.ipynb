{
 "cells": [
  {
   "cell_type": "markdown",
   "id": "0092e4a5",
   "metadata": {},
   "source": [
    "This is kinda advanced but I dont know if you would like to add this part or not with heatmaps, matrix plots, regression plots\n",
    "\n",
    "\n",
    "\n",
    "\n",
    "\n",
    "\n",
    "choose 2 or 3 fancy ones\n",
    "http://seaborn.pydata.org/index.html\n",
    "\n"
   ]
  },
  {
   "cell_type": "markdown",
   "id": "02efb7e9",
   "metadata": {},
   "source": [
    "### SEABORN\n",
    "\n",
    "Matplotlib is not the only data visualization library in Python. Seaborn is based on matplotlib but it has more capabilities to draw more advance and informative statistical graphics. "
   ]
  },
  {
   "cell_type": "code",
   "execution_count": null,
   "id": "df20d268",
   "metadata": {},
   "outputs": [],
   "source": []
  },
  {
   "cell_type": "code",
   "execution_count": null,
   "id": "13656466",
   "metadata": {},
   "outputs": [],
   "source": []
  },
  {
   "cell_type": "code",
   "execution_count": null,
   "id": "f37b4f28",
   "metadata": {},
   "outputs": [],
   "source": []
  }
 ],
 "metadata": {
  "kernelspec": {
   "display_name": "Python 3 (ipykernel)",
   "language": "python",
   "name": "python3"
  },
  "language_info": {
   "codemirror_mode": {
    "name": "ipython",
    "version": 3
   },
   "file_extension": ".py",
   "mimetype": "text/x-python",
   "name": "python",
   "nbconvert_exporter": "python",
   "pygments_lexer": "ipython3",
   "version": "3.9.13"
  }
 },
 "nbformat": 4,
 "nbformat_minor": 5
}
