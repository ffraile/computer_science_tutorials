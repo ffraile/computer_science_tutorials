{
 "cells": [
  {
   "cell_type": "markdown",
   "id": "7d999d41",
   "metadata": {},
   "source": [
    " ### Linear regression\n",
    "\n",
    "Scikit-learn is a library built on NumPy, SciPy, and matplotlib and provide simple and efficient tools for predictive data analysis\n",
    "\n",
    "#### Installing Scikit Learn\n",
    "```\n",
    "pip install scikit-learn\n",
    "```\n",
    "      or\n",
    "```\n",
    "conda install scikit-learn\n",
    "```\n",
    "\n",
    "####  Importing Scikit Learn\n",
    "```\n",
    "from sklearn.family import Model\n",
    "```\n",
    "\n",
    "for our example with Linear Regression:\n",
    "```python\n",
    "from sklearn.linear_model import LinearRegression\n",
    "```"
   ]
  },
  {
   "cell_type": "code",
   "execution_count": 18,
   "id": "79ecc5a7",
   "metadata": {},
   "outputs": [],
   "source": [
    "#Scikit Learn INITIALISATION\n",
    "\n",
    "from sklearn.linear_model import LinearRegression\n",
    "model = LinearRegression()"
   ]
  },
  {
   "cell_type": "markdown",
   "id": "788c2472",
   "metadata": {},
   "source": [
    "### First Step: Train and Evaluate your model \n",
    "\n",
    "You have a dataset with one or more independent variable and a dependent one. \n",
    "\n",
    "Independent variables are also called “regressors,“ “controlled variable,” “manipulated variable,” “explanatory variable,” “exposure variable,” and/or “input variable.” The independent variable is the cause and its value is independent of other variables in the study.\n",
    "\n",
    "Dependent variables are called “response variable,” “regressand,” “measured variable,” “observed variable,” “responding variable,” “explained variable,” “outcome variable,” “experimental variable,” and/or “output variable.” The dependent variable is the effect and its value depends from the changes of the independent variable.\n",
    "\n",
    "The main goal is to build a model to predict the value of the dependent variable from the independent values.\n",
    "\n",
    "In order to train and then evaluate the model, you need to split your dataset into training and testing set."
   ]
  },
  {
   "cell_type": "code",
   "execution_count": 19,
   "id": "daa1aa30",
   "metadata": {},
   "outputs": [],
   "source": [
    "#import libraries\n",
    "import pandas as pd\n",
    "import numpy as np\n",
    "import scipy.stats as stats\n",
    "import matplotlib.pyplot as plt\n",
    "from sklearn import linear_model\n"
   ]
  },
  {
   "cell_type": "markdown",
   "id": "fb945630",
   "metadata": {},
   "source": [
    "#### Load the dataset\n",
    "\n",
    "For our example we will use MiningProcess_Flotation_Plant_Database.csv https://www.kaggle.com/datasets/edumagalhaes/quality-prediction-in-a-mining-process\n",
    "This dataset is about a flotation plant which is a process used to concentrate the iron ore. This process is very common in a mining plant.\n",
    "\n",
    "We will try to build create a model which describes the connection between two variables\n",
    "-  The simplest model for this case is a linear model\n",
    "- For causality the (dependent) Variable 𝑌 is a linear combination of the (independent) variable 𝑋𝑖 :\n",
    "𝑌 = 𝑎0 + 𝑎1𝑋1 + 𝑎2𝑋2 + 𝑎3𝑋3+. . ."
   ]
  },
  {
   "cell_type": "code",
   "execution_count": 20,
   "id": "a54957a2",
   "metadata": {},
   "outputs": [
    {
     "data": {
      "text/html": [
       "<div>\n",
       "<style scoped>\n",
       "    .dataframe tbody tr th:only-of-type {\n",
       "        vertical-align: middle;\n",
       "    }\n",
       "\n",
       "    .dataframe tbody tr th {\n",
       "        vertical-align: top;\n",
       "    }\n",
       "\n",
       "    .dataframe thead th {\n",
       "        text-align: right;\n",
       "    }\n",
       "</style>\n",
       "<table border=\"1\" class=\"dataframe\">\n",
       "  <thead>\n",
       "    <tr style=\"text-align: right;\">\n",
       "      <th></th>\n",
       "      <th>date</th>\n",
       "      <th>% Iron Feed</th>\n",
       "      <th>% Silica Feed</th>\n",
       "      <th>Starch Flow</th>\n",
       "      <th>Amina Flow</th>\n",
       "      <th>Ore Pulp Flow</th>\n",
       "      <th>Ore Pulp pH</th>\n",
       "      <th>Ore Pulp Density</th>\n",
       "      <th>Flotation Column 01 Air Flow</th>\n",
       "      <th>Flotation Column 02 Air Flow</th>\n",
       "      <th>...</th>\n",
       "      <th>Flotation Column 07 Air Flow</th>\n",
       "      <th>Flotation Column 01 Level</th>\n",
       "      <th>Flotation Column 02 Level</th>\n",
       "      <th>Flotation Column 03 Level</th>\n",
       "      <th>Flotation Column 04 Level</th>\n",
       "      <th>Flotation Column 05 Level</th>\n",
       "      <th>Flotation Column 06 Level</th>\n",
       "      <th>Flotation Column 07 Level</th>\n",
       "      <th>% Iron Concentrate</th>\n",
       "      <th>% Silica Concentrate</th>\n",
       "    </tr>\n",
       "  </thead>\n",
       "  <tbody>\n",
       "    <tr>\n",
       "      <th>0</th>\n",
       "      <td>2017-03-10 01:00:00</td>\n",
       "      <td>55,2</td>\n",
       "      <td>16,98</td>\n",
       "      <td>3019,53</td>\n",
       "      <td>557,434</td>\n",
       "      <td>395,713</td>\n",
       "      <td>10,0664</td>\n",
       "      <td>1,74</td>\n",
       "      <td>249,214</td>\n",
       "      <td>253,235</td>\n",
       "      <td>...</td>\n",
       "      <td>250,884</td>\n",
       "      <td>457,396</td>\n",
       "      <td>432,962</td>\n",
       "      <td>424,954</td>\n",
       "      <td>443,558</td>\n",
       "      <td>502,255</td>\n",
       "      <td>446,37</td>\n",
       "      <td>523,344</td>\n",
       "      <td>66,91</td>\n",
       "      <td>1,31</td>\n",
       "    </tr>\n",
       "    <tr>\n",
       "      <th>1</th>\n",
       "      <td>2017-03-10 01:00:00</td>\n",
       "      <td>55,2</td>\n",
       "      <td>16,98</td>\n",
       "      <td>3024,41</td>\n",
       "      <td>563,965</td>\n",
       "      <td>397,383</td>\n",
       "      <td>10,0672</td>\n",
       "      <td>1,74</td>\n",
       "      <td>249,719</td>\n",
       "      <td>250,532</td>\n",
       "      <td>...</td>\n",
       "      <td>248,994</td>\n",
       "      <td>451,891</td>\n",
       "      <td>429,56</td>\n",
       "      <td>432,939</td>\n",
       "      <td>448,086</td>\n",
       "      <td>496,363</td>\n",
       "      <td>445,922</td>\n",
       "      <td>498,075</td>\n",
       "      <td>66,91</td>\n",
       "      <td>1,31</td>\n",
       "    </tr>\n",
       "    <tr>\n",
       "      <th>2</th>\n",
       "      <td>2017-03-10 01:00:00</td>\n",
       "      <td>55,2</td>\n",
       "      <td>16,98</td>\n",
       "      <td>3043,46</td>\n",
       "      <td>568,054</td>\n",
       "      <td>399,668</td>\n",
       "      <td>10,068</td>\n",
       "      <td>1,74</td>\n",
       "      <td>249,741</td>\n",
       "      <td>247,874</td>\n",
       "      <td>...</td>\n",
       "      <td>248,071</td>\n",
       "      <td>451,24</td>\n",
       "      <td>468,927</td>\n",
       "      <td>434,61</td>\n",
       "      <td>449,688</td>\n",
       "      <td>484,411</td>\n",
       "      <td>447,826</td>\n",
       "      <td>458,567</td>\n",
       "      <td>66,91</td>\n",
       "      <td>1,31</td>\n",
       "    </tr>\n",
       "    <tr>\n",
       "      <th>3</th>\n",
       "      <td>2017-03-10 01:00:00</td>\n",
       "      <td>55,2</td>\n",
       "      <td>16,98</td>\n",
       "      <td>3047,36</td>\n",
       "      <td>568,665</td>\n",
       "      <td>397,939</td>\n",
       "      <td>10,0689</td>\n",
       "      <td>1,74</td>\n",
       "      <td>249,917</td>\n",
       "      <td>254,487</td>\n",
       "      <td>...</td>\n",
       "      <td>251,147</td>\n",
       "      <td>452,441</td>\n",
       "      <td>458,165</td>\n",
       "      <td>442,865</td>\n",
       "      <td>446,21</td>\n",
       "      <td>471,411</td>\n",
       "      <td>437,69</td>\n",
       "      <td>427,669</td>\n",
       "      <td>66,91</td>\n",
       "      <td>1,31</td>\n",
       "    </tr>\n",
       "    <tr>\n",
       "      <th>4</th>\n",
       "      <td>2017-03-10 01:00:00</td>\n",
       "      <td>55,2</td>\n",
       "      <td>16,98</td>\n",
       "      <td>3033,69</td>\n",
       "      <td>558,167</td>\n",
       "      <td>400,254</td>\n",
       "      <td>10,0697</td>\n",
       "      <td>1,74</td>\n",
       "      <td>250,203</td>\n",
       "      <td>252,136</td>\n",
       "      <td>...</td>\n",
       "      <td>248,928</td>\n",
       "      <td>452,441</td>\n",
       "      <td>452,9</td>\n",
       "      <td>450,523</td>\n",
       "      <td>453,67</td>\n",
       "      <td>462,598</td>\n",
       "      <td>443,682</td>\n",
       "      <td>425,679</td>\n",
       "      <td>66,91</td>\n",
       "      <td>1,31</td>\n",
       "    </tr>\n",
       "  </tbody>\n",
       "</table>\n",
       "<p>5 rows × 24 columns</p>\n",
       "</div>"
      ],
      "text/plain": [
       "                  date % Iron Feed % Silica Feed Starch Flow Amina Flow  \\\n",
       "0  2017-03-10 01:00:00        55,2         16,98     3019,53    557,434   \n",
       "1  2017-03-10 01:00:00        55,2         16,98     3024,41    563,965   \n",
       "2  2017-03-10 01:00:00        55,2         16,98     3043,46    568,054   \n",
       "3  2017-03-10 01:00:00        55,2         16,98     3047,36    568,665   \n",
       "4  2017-03-10 01:00:00        55,2         16,98     3033,69    558,167   \n",
       "\n",
       "  Ore Pulp Flow Ore Pulp pH Ore Pulp Density Flotation Column 01 Air Flow  \\\n",
       "0       395,713     10,0664             1,74                      249,214   \n",
       "1       397,383     10,0672             1,74                      249,719   \n",
       "2       399,668      10,068             1,74                      249,741   \n",
       "3       397,939     10,0689             1,74                      249,917   \n",
       "4       400,254     10,0697             1,74                      250,203   \n",
       "\n",
       "  Flotation Column 02 Air Flow  ... Flotation Column 07 Air Flow  \\\n",
       "0                      253,235  ...                      250,884   \n",
       "1                      250,532  ...                      248,994   \n",
       "2                      247,874  ...                      248,071   \n",
       "3                      254,487  ...                      251,147   \n",
       "4                      252,136  ...                      248,928   \n",
       "\n",
       "  Flotation Column 01 Level Flotation Column 02 Level  \\\n",
       "0                   457,396                   432,962   \n",
       "1                   451,891                    429,56   \n",
       "2                    451,24                   468,927   \n",
       "3                   452,441                   458,165   \n",
       "4                   452,441                     452,9   \n",
       "\n",
       "  Flotation Column 03 Level Flotation Column 04 Level  \\\n",
       "0                   424,954                   443,558   \n",
       "1                   432,939                   448,086   \n",
       "2                    434,61                   449,688   \n",
       "3                   442,865                    446,21   \n",
       "4                   450,523                    453,67   \n",
       "\n",
       "  Flotation Column 05 Level Flotation Column 06 Level  \\\n",
       "0                   502,255                    446,37   \n",
       "1                   496,363                   445,922   \n",
       "2                   484,411                   447,826   \n",
       "3                   471,411                    437,69   \n",
       "4                   462,598                   443,682   \n",
       "\n",
       "  Flotation Column 07 Level % Iron Concentrate % Silica Concentrate  \n",
       "0                   523,344              66,91                 1,31  \n",
       "1                   498,075              66,91                 1,31  \n",
       "2                   458,567              66,91                 1,31  \n",
       "3                   427,669              66,91                 1,31  \n",
       "4                   425,679              66,91                 1,31  \n",
       "\n",
       "[5 rows x 24 columns]"
      ]
     },
     "execution_count": 20,
     "metadata": {},
     "output_type": "execute_result"
    }
   ],
   "source": [
    "df = pd.read_csv(\"C:\\\\Users\\\\belin\\\\Documents\\\\python\\\\Data\\\\mining.csv\")\n",
    "df.head()\n"
   ]
  },
  {
   "cell_type": "code",
   "execution_count": 21,
   "id": "80677d95",
   "metadata": {},
   "outputs": [],
   "source": [
    "#Convert string values to float ones\n",
    "df[\"% Iron Feed\"]=df[\"% Iron Feed\"].apply(lambda x: float(x.replace(\",\",\".\") ))\n",
    "df[\"% Silica Feed\"]=df[\"% Silica Feed\"].apply(lambda x: float(x.replace(\",\",\".\") ))\n"
   ]
  },
  {
   "cell_type": "markdown",
   "id": "d4eaaebf",
   "metadata": {},
   "source": [
    "#### Visualize your dataset\n",
    "\n",
    "We will plot a scatter plot for \"% Iron Feed\" and \"% Silica Feed\" in order to observe if they are correlated with each other or not."
   ]
  },
  {
   "cell_type": "code",
   "execution_count": 7,
   "id": "4bf60665",
   "metadata": {},
   "outputs": [
    {
     "data": {
      "text/plain": [
       "<AxesSubplot:xlabel='% Iron Feed', ylabel='% Silica Feed'>"
      ]
     },
     "execution_count": 7,
     "metadata": {},
     "output_type": "execute_result"
    },
    {
     "data": {
      "image/png": "[encoded data removed]",
      "text/plain": [
       "<Figure size 432x288 with 1 Axes>"
      ]
     },
     "metadata": {
      "needs_background": "light"
     },
     "output_type": "display_data"
    }
   ],
   "source": [
    "df.plot(kind=\"scatter\", x=\"% Iron Feed\", y = \"% Silica Feed\")"
   ]
  },
  {
   "cell_type": "markdown",
   "id": "ea24c1f4",
   "metadata": {},
   "source": [
    "### Linear Regression Model Initializing \n"
   ]
  },
  {
   "cell_type": "code",
   "execution_count": 8,
   "id": "e70efaa4",
   "metadata": {},
   "outputs": [],
   "source": [
    "regression_model = linear_model.LinearRegression()"
   ]
  },
  {
   "cell_type": "markdown",
   "id": "6a8cb2cf",
   "metadata": {},
   "source": [
    "### Model Training "
   ]
  },
  {
   "cell_type": "code",
   "execution_count": 9,
   "id": "64cd7bf1",
   "metadata": {},
   "outputs": [
    {
     "data": {
      "text/plain": [
       "LinearRegression()"
      ]
     },
     "execution_count": 9,
     "metadata": {},
     "output_type": "execute_result"
    }
   ],
   "source": [
    "regression_model.fit(X = pd.DataFrame(df[\"% Iron Feed\"]),\n",
    "                     y = pd.DataFrame(df[\"% Silica Feed\"]))"
   ]
  },
  {
   "cell_type": "markdown",
   "id": "c0895920",
   "metadata": {},
   "source": [
    "### Check the Coefficient and intercept that the model produced\n"
   ]
  },
  {
   "cell_type": "code",
   "execution_count": 10,
   "id": "b0f80f05",
   "metadata": {},
   "outputs": [
    {
     "name": "stdout",
     "output_type": "stream",
     "text": [
      "Slope:  [[-1.28267256]]\n",
      "Intercept:  [86.85943284]\n"
     ]
    }
   ],
   "source": [
    "print(\"Slope: \", regression_model.coef_)\n",
    "print(\"Intercept: \", regression_model.intercept_)"
   ]
  },
  {
   "cell_type": "markdown",
   "id": "65a5d44a",
   "metadata": {},
   "source": [
    "Output of the above cell:\n",
    "Slope:  [[-1.28267256]]\n",
    "Intercept:  [86.85943284]\n",
    "\n",
    "y= -1.28267256x + 86.85943284"
   ]
  },
  {
   "cell_type": "markdown",
   "id": "2c765066",
   "metadata": {},
   "source": [
    "### Predictions\n",
    "\n",
    "You can use the build model to generate predictions"
   ]
  },
  {
   "cell_type": "code",
   "execution_count": 11,
   "id": "d8ad0703",
   "metadata": {},
   "outputs": [
    {
     "data": {
      "text/plain": [
       "array([[16.05590732],\n",
       "       [16.05590732],\n",
       "       [16.05590732],\n",
       "       ...,\n",
       "       [23.04647279],\n",
       "       [23.04647279],\n",
       "       [23.04647279]])"
      ]
     },
     "execution_count": 11,
     "metadata": {},
     "output_type": "execute_result"
    }
   ],
   "source": [
    "predictions = regression_model.predict(X = pd.DataFrame(df[\"% Iron Feed\"]))\n",
    "predictions"
   ]
  },
  {
   "cell_type": "markdown",
   "id": "882bab84",
   "metadata": {},
   "source": [
    "### Task: Plot the Regression Line "
   ]
  },
  {
   "cell_type": "code",
   "execution_count": 12,
   "id": "9577f935",
   "metadata": {},
   "outputs": [
    {
     "data": {
      "text/plain": [
       "[<matplotlib.lines.Line2D at 0x1b5b225f970>]"
      ]
     },
     "execution_count": 12,
     "metadata": {},
     "output_type": "execute_result"
    },
    {
     "data": {
      "image/png": "[encoded data removed]",
      "text/plain": [
       "<Figure size 432x288 with 1 Axes>"
      ]
     },
     "metadata": {
      "needs_background": "light"
     },
     "output_type": "display_data"
    }
   ],
   "source": [
    "df.plot(kind=\"scatter\", x=\"% Iron Feed\", y=\"% Silica Feed\")\n",
    "plt.plot(df[\"% Iron Feed\"],predictions, color=\"red\")\n",
    "\n"
   ]
  },
  {
   "cell_type": "markdown",
   "id": "b51e6933",
   "metadata": {},
   "source": [
    "### <span style=\"color:darkred\"> :TODO: Add theory about ordinary least square here and also maybe more explanation above for each cell  </span>"
   ]
  },
  {
   "cell_type": "markdown",
   "id": "06c8fb88",
   "metadata": {},
   "source": [
    "# Part 2"
   ]
  },
  {
   "cell_type": "markdown",
   "id": "e2a95ec6",
   "metadata": {},
   "source": [
    "### Regression Evaluation Metrics\n",
    "\n",
    "## <span style=\"color:darkred\"> :TODO: ADD RSQUARED  </span>\n",
    "\n",
    "\n",
    "### RMSE\n",
    "An objective measure for assessing the quality of a model to the available data is the RMSE (Root-Mean-Square Error)\n",
    "\n",
    "− The RMSE is defined as the root of the averaged squared deviations between the actual and the predicted values: \n",
    "\n",
    "$$\\sqrt{\\frac 1n\\sum_{i=1}^n(y_i-\\hat{y}_i)^2}$$\n"
   ]
  },
  {
   "cell_type": "markdown",
   "id": "db7ec96e",
   "metadata": {},
   "source": [
    "The lower the value of RMSE, the better the model"
   ]
  },
  {
   "cell_type": "code",
   "execution_count": 13,
   "id": "8a53a6a2",
   "metadata": {},
   "outputs": [
    {
     "data": {
      "text/plain": [
       "1.6042981458139822"
      ]
     },
     "execution_count": 13,
     "metadata": {},
     "output_type": "execute_result"
    }
   ],
   "source": [
    "def rmse(y_predicted,y_actual):\n",
    "    return(np.mean((y_actual-y_predicted)**2))**0.5\n",
    "\n",
    "rmse(predictions.flatten(), df[\"% Silica Feed\"])\n"
   ]
  },
  {
   "cell_type": "markdown",
   "id": "e34876aa",
   "metadata": {},
   "source": [
    "### RMSE with Python scikit learn library\n",
    "\n",
    "Root Mean Square Error is the square root of the average of the squared differences between the estimated and the actual value of the variable/feature.\n",
    "But keep in mind that the average of the squared differences between the estimated and the actual value of the variable/feature is MEAN SQUARED ERROR so RMSE is just the square root of MSE"
   ]
  },
  {
   "cell_type": "code",
   "execution_count": 14,
   "id": "9d3bcbff",
   "metadata": {},
   "outputs": [
    {
     "data": {
      "text/plain": [
       "1.6042981458176306"
      ]
     },
     "execution_count": 14,
     "metadata": {},
     "output_type": "execute_result"
    }
   ],
   "source": [
    "from sklearn.metrics import mean_squared_error\n",
    "\n",
    "mean_squared_error(predictions,df[\"% Silica Feed\"])**0.5"
   ]
  },
  {
   "cell_type": "markdown",
   "id": "59b04837",
   "metadata": {},
   "source": [
    "### Outliers\n",
    "### Jan suggested to delete this part but I am leaving it here just in case you want to keep it"
   ]
  },
  {
   "cell_type": "markdown",
   "id": "e90a5dd3",
   "metadata": {},
   "source": [
    "An Outlier is a data-item/object that deviates significantly from the rest of the (so-called normal) objects. They can be caused by measurement or execution errors.\n",
    "You can detect outliers via visualization with boxplots or scatter plots. \n",
    "We have already build the scatter plot we will use that particular graph to understand if there is any outliers.\n",
    "\n",
    "In our dataset we can see that there is not any influential outlier so to continue with the example we will add one.\n",
    " \n"
   ]
  },
  {
   "cell_type": "code",
   "execution_count": 15,
   "id": "f435748f",
   "metadata": {},
   "outputs": [
    {
     "name": "stderr",
     "output_type": "stream",
     "text": [
      "C:\\Users\\belin\\AppData\\Local\\Temp\\ipykernel_13480\\1646003363.py:3: FutureWarning: The frame.append method is deprecated and will be removed from pandas in a future version. Use pandas.concat instead.\n",
      "  df_with_outlier = df_r.append(outlier)\n"
     ]
    }
   ],
   "source": [
    "df_r = df[[\"% Iron Feed\",\"% Silica Feed\"]]\n",
    "outlier = pd.DataFrame({\"% Iron Feed\": 127,\"% Silica Feed\": 270}, index=[\"outlier\"])\n",
    "df_with_outlier = df_r.append(outlier)"
   ]
  },
  {
   "cell_type": "markdown",
   "id": "7acc18ff",
   "metadata": {},
   "source": [
    "#### Task: Fit the Linear Regression Model with the new Dataset  and Plot it"
   ]
  },
  {
   "cell_type": "code",
   "execution_count": 16,
   "id": "b60681e3",
   "metadata": {},
   "outputs": [
    {
     "data": {
      "text/plain": [
       "1.6541166491019543"
      ]
     },
     "execution_count": 16,
     "metadata": {},
     "output_type": "execute_result"
    },
    {
     "data": {
      "image/png": "[encoded data removed]",
      "text/plain": [
       "<Figure size 432x288 with 1 Axes>"
      ]
     },
     "metadata": {
      "needs_background": "light"
     },
     "output_type": "display_data"
    }
   ],
   "source": [
    "#Create Linear Model\n",
    "regression_model_with_outlier = linear_model.LinearRegression()\n",
    "\n",
    "regression_model_with_outlier.fit(X = pd.DataFrame(df_with_outlier[\"% Iron Feed\"]),\n",
    "                                 y = df_with_outlier[\"% Silica Feed\"])\n",
    "#Produce Predictions from the Model\n",
    "predictions_with_outlier = regression_model_with_outlier.predict(X = pd.DataFrame(df_with_outlier[\"% Iron Feed\"]))\n",
    "\n",
    "#Visualize the Model\n",
    "df_with_outlier.plot(kind=\"scatter\", x =\"% Iron Feed\", y=\"% Silica Feed\")\n",
    "plt.plot(df_with_outlier[\"% Iron Feed\"], predictions_with_outlier, color=\"red\")\n",
    "\n",
    "#Calculate RMSE to see how the outlier effected our model \n",
    "rmse(predictions_with_outlier.flatten(), df_with_outlier[\"% Silica Feed\"])"
   ]
  },
  {
   "cell_type": "markdown",
   "id": "426362bd",
   "metadata": {},
   "source": [
    "### Should we include Polynomial Regression? \n",
    "\n",
    "### add a second column similar to silicia value * (random nr  between 5 and 6) and then name the other  column and then create a second model and see the rsquared values and so on \n"
   ]
  },
  {
   "cell_type": "code",
   "execution_count": null,
   "id": "dc22789a",
   "metadata": {},
   "outputs": [],
   "source": []
  }
 ],
 "metadata": {
  "kernelspec": {
   "display_name": "Python 3 (ipykernel)",
   "language": "python",
   "name": "python3"
  },
  "language_info": {
   "codemirror_mode": {
    "name": "ipython",
    "version": 3
   },
   "file_extension": ".py",
   "mimetype": "text/x-python",
   "name": "python",
   "nbconvert_exporter": "python",
   "pygments_lexer": "ipython3",
   "version": "3.9.13"
  }
 },
 "nbformat": 4,
 "nbformat_minor": 5
}
