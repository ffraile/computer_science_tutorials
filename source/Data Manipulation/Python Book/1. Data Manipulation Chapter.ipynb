{
 "cells": [
  {
   "cell_type": "markdown",
   "id": "17dab2fd",
   "metadata": {},
   "source": []
  },
  {
   "cell_type": "markdown",
   "id": "7e17b6c2",
   "metadata": {},
   "source": [
    "# Data Manipulation\n",
    "\n",
    "\n",
    "\n",
    "<span style=\"color:darkred\"> :Suggestion: this may be added to the already written chapter until the saving dataframse as csv  </span>"
   ]
  },
  {
   "cell_type": "code",
   "execution_count": 11,
   "id": "db400b01",
   "metadata": {},
   "outputs": [],
   "source": [
    "import pandas as pd"
   ]
  },
  {
   "cell_type": "markdown",
   "id": "a43f6acf",
   "metadata": {},
   "source": [
    "# How to read a csv file from a url"
   ]
  },
  {
   "cell_type": "code",
   "execution_count": 12,
   "id": "09211248",
   "metadata": {},
   "outputs": [],
   "source": [
    "url = 'https://raw.githubusercontent.com/ffraile/computer_science_tutorials/main/source/Data%20Manipulation/exercises/datasets/covid.csv'"
   ]
  },
  {
   "cell_type": "code",
   "execution_count": 13,
   "id": "68342505",
   "metadata": {},
   "outputs": [
    {
     "data": {
      "text/html": [
       "<div>\n",
       "<style scoped>\n",
       "    .dataframe tbody tr th:only-of-type {\n",
       "        vertical-align: middle;\n",
       "    }\n",
       "\n",
       "    .dataframe tbody tr th {\n",
       "        vertical-align: top;\n",
       "    }\n",
       "\n",
       "    .dataframe thead th {\n",
       "        text-align: right;\n",
       "    }\n",
       "</style>\n",
       "<table border=\"1\" class=\"dataframe\">\n",
       "  <thead>\n",
       "    <tr style=\"text-align: right;\">\n",
       "      <th></th>\n",
       "      <th>Date</th>\n",
       "      <th>Country</th>\n",
       "      <th>Confirmed</th>\n",
       "      <th>Recovered</th>\n",
       "      <th>Deaths</th>\n",
       "    </tr>\n",
       "  </thead>\n",
       "  <tbody>\n",
       "    <tr>\n",
       "      <th>0</th>\n",
       "      <td>2020-01-22</td>\n",
       "      <td>Afghanistan</td>\n",
       "      <td>0</td>\n",
       "      <td>0</td>\n",
       "      <td>0</td>\n",
       "    </tr>\n",
       "    <tr>\n",
       "      <th>1</th>\n",
       "      <td>2020-01-23</td>\n",
       "      <td>Afghanistan</td>\n",
       "      <td>0</td>\n",
       "      <td>0</td>\n",
       "      <td>0</td>\n",
       "    </tr>\n",
       "    <tr>\n",
       "      <th>2</th>\n",
       "      <td>2020-01-24</td>\n",
       "      <td>Afghanistan</td>\n",
       "      <td>0</td>\n",
       "      <td>0</td>\n",
       "      <td>0</td>\n",
       "    </tr>\n",
       "    <tr>\n",
       "      <th>3</th>\n",
       "      <td>2020-01-25</td>\n",
       "      <td>Afghanistan</td>\n",
       "      <td>0</td>\n",
       "      <td>0</td>\n",
       "      <td>0</td>\n",
       "    </tr>\n",
       "    <tr>\n",
       "      <th>4</th>\n",
       "      <td>2020-01-26</td>\n",
       "      <td>Afghanistan</td>\n",
       "      <td>0</td>\n",
       "      <td>0</td>\n",
       "      <td>0</td>\n",
       "    </tr>\n",
       "  </tbody>\n",
       "</table>\n",
       "</div>"
      ],
      "text/plain": [
       "         Date      Country  Confirmed  Recovered  Deaths\n",
       "0  2020-01-22  Afghanistan          0          0       0\n",
       "1  2020-01-23  Afghanistan          0          0       0\n",
       "2  2020-01-24  Afghanistan          0          0       0\n",
       "3  2020-01-25  Afghanistan          0          0       0\n",
       "4  2020-01-26  Afghanistan          0          0       0"
      ]
     },
     "execution_count": 13,
     "metadata": {},
     "output_type": "execute_result"
    }
   ],
   "source": [
    "covid_csv = pd.read_csv(url)\n",
    "covid_csv.head()"
   ]
  },
  {
   "cell_type": "markdown",
   "id": "4bec4648",
   "metadata": {},
   "source": [
    "# Creating DataFrame from a subset of columns of CSV file\n",
    "\n",
    "\n",
    "\n",
    "Sometimes the dataframes you are working with may contain dozens of columns and you may need only 3 for your task.\n",
    "\n",
    "- In these case you need to specify a subset of the columns of interest and import only those.\n",
    "In our case we are interested for Date, Country and Deaths. \n",
    "\n",
    "```\n",
    "pd.read_csv(url, sep= \"seperator COMMA in our case\", usecols = \"specified_desired_colm\")\n",
    "\n",
    "```"
   ]
  },
  {
   "cell_type": "code",
   "execution_count": 14,
   "id": "b33ad3be",
   "metadata": {},
   "outputs": [
    {
     "data": {
      "text/html": [
       "<div>\n",
       "<style scoped>\n",
       "    .dataframe tbody tr th:only-of-type {\n",
       "        vertical-align: middle;\n",
       "    }\n",
       "\n",
       "    .dataframe tbody tr th {\n",
       "        vertical-align: top;\n",
       "    }\n",
       "\n",
       "    .dataframe thead th {\n",
       "        text-align: right;\n",
       "    }\n",
       "</style>\n",
       "<table border=\"1\" class=\"dataframe\">\n",
       "  <thead>\n",
       "    <tr style=\"text-align: right;\">\n",
       "      <th></th>\n",
       "      <th>Date</th>\n",
       "      <th>Country</th>\n",
       "      <th>Deaths</th>\n",
       "    </tr>\n",
       "  </thead>\n",
       "  <tbody>\n",
       "    <tr>\n",
       "      <th>0</th>\n",
       "      <td>2020-01-22</td>\n",
       "      <td>Afghanistan</td>\n",
       "      <td>0</td>\n",
       "    </tr>\n",
       "    <tr>\n",
       "      <th>1</th>\n",
       "      <td>2020-01-23</td>\n",
       "      <td>Afghanistan</td>\n",
       "      <td>0</td>\n",
       "    </tr>\n",
       "    <tr>\n",
       "      <th>2</th>\n",
       "      <td>2020-01-24</td>\n",
       "      <td>Afghanistan</td>\n",
       "      <td>0</td>\n",
       "    </tr>\n",
       "    <tr>\n",
       "      <th>3</th>\n",
       "      <td>2020-01-25</td>\n",
       "      <td>Afghanistan</td>\n",
       "      <td>0</td>\n",
       "    </tr>\n",
       "    <tr>\n",
       "      <th>4</th>\n",
       "      <td>2020-01-26</td>\n",
       "      <td>Afghanistan</td>\n",
       "      <td>0</td>\n",
       "    </tr>\n",
       "  </tbody>\n",
       "</table>\n",
       "</div>"
      ],
      "text/plain": [
       "         Date      Country  Deaths\n",
       "0  2020-01-22  Afghanistan       0\n",
       "1  2020-01-23  Afghanistan       0\n",
       "2  2020-01-24  Afghanistan       0\n",
       "3  2020-01-25  Afghanistan       0\n",
       "4  2020-01-26  Afghanistan       0"
      ]
     },
     "execution_count": 14,
     "metadata": {},
     "output_type": "execute_result"
    }
   ],
   "source": [
    "cols = [\"Date\", \"Country\", \"Deaths\"]\n",
    "death_cases = pd.read_csv(url, sep = ',', usecols = cols)\n",
    "\n",
    "death_cases.head()"
   ]
  },
  {
   "cell_type": "markdown",
   "id": "04ffe53f",
   "metadata": {},
   "source": [
    "## Saving DataFrame as CSV File\n",
    "\n",
    "While working with huge datasets, you may create new datasets with different filtering and manipulations. \n",
    "In order to make use of these kinds of manipulations, you can save your new dataset in a csv file by using: \n",
    "```\n",
    "df.to_csv(\"desired_path_to_save/file_name.csv\")\n",
    "```\n",
    "\n",
    "If you want to save in the same folder you are currently working (working directory), you can just add \n",
    "```\n",
    "(~/name_you_want_to_save.csv)\n",
    "```"
   ]
  },
  {
   "cell_type": "code",
   "execution_count": 5,
   "id": "50126a4b",
   "metadata": {},
   "outputs": [],
   "source": [
    "death_cases.to_csv('~/death_cases_from_covid.csv')"
   ]
  },
  {
   "cell_type": "markdown",
   "id": "3255daee",
   "metadata": {},
   "source": [
    "<span style=\"color:darkred\"> :Suggestion: this may be a separate notebook and include at the data understanding chapter because this is data understanding  </span>"
   ]
  },
  {
   "cell_type": "markdown",
   "id": "596f0b69",
   "metadata": {},
   "source": [
    "# Data Understanding\n",
    "\n",
    "\n",
    "### Analyse your dataset \n",
    "\n",
    "Whenever you work with new datasets, you need to be informed about the content of your dataset, how many columns does it contain, what are the datatypes of each of the columns and so on. \n",
    "Pandas have some function which will help you \n"
   ]
  },
  {
   "cell_type": "markdown",
   "id": "63e7df23",
   "metadata": {},
   "source": [
    "#### ```dataframe_name.info() ``` returns information about the datasets such as:\n",
    "- Range Index (how many entries)\n",
    "- Index dtype and columns\n",
    "- Non-null values\n",
    "- Memory usage"
   ]
  },
  {
   "cell_type": "code",
   "execution_count": 9,
   "id": "2b150044",
   "metadata": {},
   "outputs": [
    {
     "name": "stdout",
     "output_type": "stream",
     "text": [
      "<class 'pandas.core.frame.DataFrame'>\n",
      "RangeIndex: 143668 entries, 0 to 143667\n",
      "Data columns (total 5 columns):\n",
      " #   Column     Non-Null Count   Dtype \n",
      "---  ------     --------------   ----- \n",
      " 0   Date       143668 non-null  object\n",
      " 1   Country    143668 non-null  object\n",
      " 2   Confirmed  143668 non-null  int64 \n",
      " 3   Recovered  143668 non-null  int64 \n",
      " 4   Deaths     143668 non-null  int64 \n",
      "dtypes: int64(3), object(2)\n",
      "memory usage: 5.5+ MB\n"
     ]
    }
   ],
   "source": [
    "covid_csv.info()"
   ]
  },
  {
   "cell_type": "markdown",
   "id": "326beca0",
   "metadata": {},
   "source": [
    "##### Basic Statistics (mean, std, min, max, 1st 2nd 3rd Quartiles) of the Columns whose type is NUMERIC\n",
    "\n",
    "- ```dataframe_name.describe() ``` \n",
    "\n",
    "<span style=\"color:darkred\"> :Question: Should I give an explanation for each of them? what are them and so on or is this enough  </span>"
   ]
  },
  {
   "cell_type": "code",
   "execution_count": 7,
   "id": "e0a52699",
   "metadata": {},
   "outputs": [
    {
     "data": {
      "text/html": [
       "<div>\n",
       "<style scoped>\n",
       "    .dataframe tbody tr th:only-of-type {\n",
       "        vertical-align: middle;\n",
       "    }\n",
       "\n",
       "    .dataframe tbody tr th {\n",
       "        vertical-align: top;\n",
       "    }\n",
       "\n",
       "    .dataframe thead th {\n",
       "        text-align: right;\n",
       "    }\n",
       "</style>\n",
       "<table border=\"1\" class=\"dataframe\">\n",
       "  <thead>\n",
       "    <tr style=\"text-align: right;\">\n",
       "      <th></th>\n",
       "      <th>Confirmed</th>\n",
       "      <th>Recovered</th>\n",
       "      <th>Deaths</th>\n",
       "    </tr>\n",
       "  </thead>\n",
       "  <tbody>\n",
       "    <tr>\n",
       "      <th>count</th>\n",
       "      <td>1.436680e+05</td>\n",
       "      <td>1.436680e+05</td>\n",
       "      <td>143668.000000</td>\n",
       "    </tr>\n",
       "    <tr>\n",
       "      <th>mean</th>\n",
       "      <td>5.712247e+05</td>\n",
       "      <td>1.635121e+05</td>\n",
       "      <td>12306.660189</td>\n",
       "    </tr>\n",
       "    <tr>\n",
       "      <th>std</th>\n",
       "      <td>2.838398e+06</td>\n",
       "      <td>1.032340e+06</td>\n",
       "      <td>52910.346456</td>\n",
       "    </tr>\n",
       "    <tr>\n",
       "      <th>min</th>\n",
       "      <td>0.000000e+00</td>\n",
       "      <td>0.000000e+00</td>\n",
       "      <td>0.000000</td>\n",
       "    </tr>\n",
       "    <tr>\n",
       "      <th>25%</th>\n",
       "      <td>9.100000e+02</td>\n",
       "      <td>0.000000e+00</td>\n",
       "      <td>13.000000</td>\n",
       "    </tr>\n",
       "    <tr>\n",
       "      <th>50%</th>\n",
       "      <td>1.749300e+04</td>\n",
       "      <td>7.240000e+02</td>\n",
       "      <td>289.000000</td>\n",
       "    </tr>\n",
       "    <tr>\n",
       "      <th>75%</th>\n",
       "      <td>2.060302e+05</td>\n",
       "      <td>2.687300e+04</td>\n",
       "      <td>3647.000000</td>\n",
       "    </tr>\n",
       "    <tr>\n",
       "      <th>max</th>\n",
       "      <td>7.069942e+07</td>\n",
       "      <td>3.097475e+07</td>\n",
       "      <td>866540.000000</td>\n",
       "    </tr>\n",
       "  </tbody>\n",
       "</table>\n",
       "</div>"
      ],
      "text/plain": [
       "          Confirmed     Recovered         Deaths\n",
       "count  1.436680e+05  1.436680e+05  143668.000000\n",
       "mean   5.712247e+05  1.635121e+05   12306.660189\n",
       "std    2.838398e+06  1.032340e+06   52910.346456\n",
       "min    0.000000e+00  0.000000e+00       0.000000\n",
       "25%    9.100000e+02  0.000000e+00      13.000000\n",
       "50%    1.749300e+04  7.240000e+02     289.000000\n",
       "75%    2.060302e+05  2.687300e+04    3647.000000\n",
       "max    7.069942e+07  3.097475e+07  866540.000000"
      ]
     },
     "execution_count": 7,
     "metadata": {},
     "output_type": "execute_result"
    }
   ],
   "source": [
    "covid_csv.describe()"
   ]
  },
  {
   "cell_type": "markdown",
   "id": "edb0adcb",
   "metadata": {},
   "source": [
    "#### ```dataframe_name.dtypes() ``` -> outputs the datatypes of the attributes(columns)"
   ]
  },
  {
   "cell_type": "code",
   "execution_count": 10,
   "id": "066ded18",
   "metadata": {},
   "outputs": [
    {
     "data": {
      "text/plain": [
       "Date         object\n",
       "Country      object\n",
       "Confirmed     int64\n",
       "Recovered     int64\n",
       "Deaths        int64\n",
       "dtype: object"
      ]
     },
     "execution_count": 10,
     "metadata": {},
     "output_type": "execute_result"
    }
   ],
   "source": [
    "covid_csv.dtypes"
   ]
  },
  {
   "cell_type": "code",
   "execution_count": null,
   "id": "2a6b0f63",
   "metadata": {},
   "outputs": [],
   "source": []
  },
  {
   "cell_type": "code",
   "execution_count": null,
   "id": "b8721ea7",
   "metadata": {},
   "outputs": [],
   "source": []
  }
 ],
 "metadata": {
  "kernelspec": {
   "display_name": "Python 3 (ipykernel)",
   "language": "python",
   "name": "python3"
  },
  "language_info": {
   "codemirror_mode": {
    "name": "ipython",
    "version": 3
   },
   "file_extension": ".py",
   "mimetype": "text/x-python",
   "name": "python",
   "nbconvert_exporter": "python",
   "pygments_lexer": "ipython3",
   "version": "3.9.13"
  }
 },
 "nbformat": 4,
 "nbformat_minor": 5
}
