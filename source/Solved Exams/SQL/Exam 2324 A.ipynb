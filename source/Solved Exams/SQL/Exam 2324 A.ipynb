{
 "cells": [
  {
   "cell_type": "markdown",
   "source": [
    "# Exercise 1\n",
    "An art gallery wants to digitalize their inventory and sales records. Your task is to design a database that will keep track of artworks, artists, customers, and sales.\n",
    "\n",
    "Artworks have unique identifiers, titles, creation dates, types (e.g., painting, sculpture), and price tags. Artists, identified by a unique identifier, have first and last names, birthplaces, and styles (e.g., impressionist, modern). Customers have unique identifiers, names, and contact details (feel free to come up with relevant contact information).\n",
    "\n",
    "When a sale is made, the database should record the date, the customer, and the artwork sold. Each artwork can be associated with one artist, but artists can create multiple artworks. Customers can purchase multiple artworks over time.\n",
    "\n",
    "Design a data model for this art gallery system. Make sure to define all necessary fields, data types, and relationships.\n",
    "\n",
    "# Exercise 2\n",
    "You need to design a database for an organization that manages various popular races in the city of Valencia. The database should keep track of events, participants, race results, and sponsors, specifically:\n",
    "\n",
    "\n",
    "- **Events:** Each event has a unique identifier, name (e.g., \"Valencia Marathon\"), type (e.g., marathon, triathlon), location, date, and distance.\n",
    "\n",
    "- **Participants:** Participants are individuals who register for events. For each participant, the database should store a unique ID, name, age, gender, and contact information (feel free to had here the fields you consider relevant).\n",
    "\n",
    "- **Race Results:** After each event, the race results are recorded. This includes the participant’s ID, event ID, finish time, and overall position in the event.\n",
    "\n",
    "- **Sponsors:** Various organizations sponsor events. For each sponsor, store a unique ID, name, contact information, and the events they sponsor.\n",
    "\n",
    "- Registrations:** Participants register for specific events. Each registration links a participant to an event and includes details like the registration date and the category (e.g., amateur, professional).\n",
    "\n",
    "\n",
    "Design a database for this race event management system. Include all necessary entities, fields,  and relationships. Ensure your design can support queries for participant race history, event details, sponsorship information, and event management.\n",
    "\n",
    "## Exercise 3\n",
    "The following diagram shows a a database for an Internet of Things system:\n",
    "\n",
    "![iiot model](https://github.com/ffraile/database_tutorials/blob/main/Extra%20Exercises/img/iiot.png?raw=true)\n",
    "\n",
    "\n",
    "Try to build the following ```SELECT``` queries to analyse the data in the database.\n",
    "\n",
    "1. Write a ```SELECT``` query to know the date of the most recent ```recent_value``` for every sensor\n",
    "\n",
    "2. Write a ```SELECT``` query to show the different sensors of device with ID 1\n",
    "\n"
   ],
   "metadata": {
    "collapsed": false
   }
  }
 ],
 "metadata": {
  "kernelspec": {
   "display_name": "Python 3",
   "language": "python",
   "name": "python3"
  },
  "language_info": {
   "codemirror_mode": {
    "name": "ipython",
    "version": 2
   },
   "file_extension": ".py",
   "mimetype": "text/x-python",
   "name": "python",
   "nbconvert_exporter": "python",
   "pygments_lexer": "ipython2",
   "version": "2.7.6"
  }
 },
 "nbformat": 4,
 "nbformat_minor": 0
}
