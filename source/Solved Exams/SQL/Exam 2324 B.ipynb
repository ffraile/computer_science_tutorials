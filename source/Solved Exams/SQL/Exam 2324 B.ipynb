{
 "cells": [
  {
   "cell_type": "markdown",
   "source": [
    "# Exercise 1\n",
    "A restaurant wants to implement a database to manage table reservations, customer orders, and their menu.\n",
    "\n",
    "Tables in the restaurant are identified by table numbers and have varying capacities. Customers can make reservations, providing their names, contact details, and the date and time for their reservation.\n",
    "\n",
    "The menu consists of dishes, each with a unique identifier, name, category (e.g., appetizer, main course), and price. Orders keep track of what dishes were ordered by each table, the quantity of each dish, and the total price of the order.\n",
    "\n",
    "Design a database schema that will allow the restaurant to manage reservations and orders efficiently, capturing all relevant information and relationships.\n",
    "\n",
    "# Exercise 2\n",
    "You are designing a database for a smart irrigation system intended for use in large-scale farming. This system uses sensor data to optimize watering schedules for different crops to conserve water while ensuring optimal growth conditions.\n",
    "\n",
    "\n",
    "- **Sensors:** Each sensor has a unique identifier, type (e.g., soil moisture, temperature), location (field coordinates or zone), and installation date. Sensors send readings at regular intervals.\n",
    "\n",
    "- **Fields:** Each field where the crops are grown has a unique identifier, size (in acres), type of crop grown, and location.\n",
    "\n",
    "- **Irrigation Schedules:** This includes a unique schedule ID, the field it applies to, start and end times for irrigation, and the amount of water used (in gallons or liters).\n",
    "\n",
    "- **Sensor Readings:** Store readings from each sensor, including the sensor ID, timestamp of the reading, and the value (e.g., moisture level, temperature).\n",
    "\n",
    "- **Crops:** Information about different types of crops includes a unique crop ID, name, optimal soil moisture range, optimal temperature range, and growth period.\n",
    "\n",
    "- **Maintenance Records:** Keep track of maintenance activities for the irrigation system and sensors, including dates, types of maintenance (e.g., repair, calibration), and personnel involved.\n",
    "\n",
    "Develop a database schema for the smart irrigation system. The design should facilitate queries to determine irrigation needs based on sensor readings, track crop growth conditions, and manage maintenance schedules for the irrigation system.\n",
    "\n",
    "# Exercise 3\n",
    "The following figure shows the database model of a database of Santa`s Christmas letters:\n",
    "\n",
    "![Data base model](../../Databases/Extra%20Exercises/img/santa.png)\n",
    "\n",
    "1. Write a ```SELECT``` query to count the numbers of items in every present list.\n",
    "\n",
    "2. Write a ```SELECT``` query to count the number of present lists that are issued from an address in the year 2023\n"
   ],
   "metadata": {
    "collapsed": false
   }
  }
 ],
 "metadata": {
  "kernelspec": {
   "display_name": "Python 3",
   "language": "python",
   "name": "python3"
  },
  "language_info": {
   "codemirror_mode": {
    "name": "ipython",
    "version": 2
   },
   "file_extension": ".py",
   "mimetype": "text/x-python",
   "name": "python",
   "nbconvert_exporter": "python",
   "pygments_lexer": "ipython2",
   "version": "2.7.6"
  }
 },
 "nbformat": 4,
 "nbformat_minor": 0
}
